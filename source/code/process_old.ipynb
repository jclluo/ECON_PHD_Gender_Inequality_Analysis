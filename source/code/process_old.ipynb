{
 "cells": [
  {
   "cell_type": "markdown",
   "metadata": {},
   "source": [
    "Let's Mange our old datas"
   ]
  },
  {
   "cell_type": "markdown",
   "metadata": {},
   "source": [
    "- every school add a rank\n",
    "-   by gender compare datatype and by rank\n",
    "    x axis rank y axis placement type\n",
    "\n",
    "summary statas:\n",
    "- % with chair, chair's gender\n",
    "- % "
   ]
  },
  {
   "cell_type": "code",
   "execution_count": 1,
   "metadata": {},
   "outputs": [],
   "source": [
    "import os\n",
    "import pandas as pd\n",
    "from bs4 import BeautifulSoup\n",
    "import re\n",
    "import numpy as np"
   ]
  },
  {
   "cell_type": "code",
   "execution_count": 15,
   "metadata": {},
   "outputs": [
    {
     "data": {
      "text/html": [
       "<div>\n",
       "<style scoped>\n",
       "    .dataframe tbody tr th:only-of-type {\n",
       "        vertical-align: middle;\n",
       "    }\n",
       "\n",
       "    .dataframe tbody tr th {\n",
       "        vertical-align: top;\n",
       "    }\n",
       "\n",
       "    .dataframe thead th {\n",
       "        text-align: right;\n",
       "    }\n",
       "</style>\n",
       "<table border=\"1\" class=\"dataframe\">\n",
       "  <thead>\n",
       "    <tr style=\"text-align: right;\">\n",
       "      <th></th>\n",
       "      <th>name</th>\n",
       "      <th>gender_guess</th>\n",
       "      <th>school_website</th>\n",
       "      <th>field</th>\n",
       "      <th>paper_name</th>\n",
       "      <th>paper_link</th>\n",
       "      <th>chair</th>\n",
       "      <th>committee_member</th>\n",
       "      <th>year</th>\n",
       "      <th>university</th>\n",
       "      <th>...</th>\n",
       "      <th>gender_manual</th>\n",
       "      <th>secondaryresearchfocus</th>\n",
       "      <th>dissertation_name</th>\n",
       "      <th>placement</th>\n",
       "      <th>placement_type</th>\n",
       "      <th>academic</th>\n",
       "      <th>postdoc</th>\n",
       "      <th>position</th>\n",
       "      <th>degree</th>\n",
       "      <th>references</th>\n",
       "    </tr>\n",
       "  </thead>\n",
       "  <tbody>\n",
       "    <tr>\n",
       "      <th>0</th>\n",
       "      <td>Aaron Mora</td>\n",
       "      <td>male</td>\n",
       "      <td>https://economics.sas.upenn.edu/people/aaron-mora</td>\n",
       "      <td>Econometrics, Financial Economics, Industrial ...</td>\n",
       "      <td>Revealed Preference for Green Stocks: An Asset...</td>\n",
       "      <td>NaN</td>\n",
       "      <td>Francis X. Diebold, Frank Schorfheide</td>\n",
       "      <td>NaN</td>\n",
       "      <td>2024.0</td>\n",
       "      <td>University of Pennsylvania</td>\n",
       "      <td>...</td>\n",
       "      <td>NaN</td>\n",
       "      <td>NaN</td>\n",
       "      <td>NaN</td>\n",
       "      <td>University of South Carolina</td>\n",
       "      <td>Academic</td>\n",
       "      <td>1.0</td>\n",
       "      <td>0.0</td>\n",
       "      <td>NaN</td>\n",
       "      <td>NaN</td>\n",
       "      <td>NaN</td>\n",
       "    </tr>\n",
       "    <tr>\n",
       "      <th>1</th>\n",
       "      <td>Aaron Swoboda</td>\n",
       "      <td>male</td>\n",
       "      <td>NaN</td>\n",
       "      <td>NaN</td>\n",
       "      <td>NaN</td>\n",
       "      <td>NaN</td>\n",
       "      <td>NaN</td>\n",
       "      <td>NaN</td>\n",
       "      <td>2011.0</td>\n",
       "      <td>UC Berkeley</td>\n",
       "      <td>...</td>\n",
       "      <td>NaN</td>\n",
       "      <td>NaN</td>\n",
       "      <td>NaN</td>\n",
       "      <td>NaN</td>\n",
       "      <td>Academic</td>\n",
       "      <td>1.0</td>\n",
       "      <td>0.0</td>\n",
       "      <td>Assistant Professor</td>\n",
       "      <td>NaN</td>\n",
       "      <td>NaN</td>\n",
       "    </tr>\n",
       "    <tr>\n",
       "      <th>2</th>\n",
       "      <td>Aaron Hedlund</td>\n",
       "      <td>male</td>\n",
       "      <td>NaN</td>\n",
       "      <td>NaN</td>\n",
       "      <td>NaN</td>\n",
       "      <td>NaN</td>\n",
       "      <td>NaN</td>\n",
       "      <td>NaN</td>\n",
       "      <td>2012.0</td>\n",
       "      <td>University of Pennsylvania</td>\n",
       "      <td>...</td>\n",
       "      <td>male</td>\n",
       "      <td>NaN</td>\n",
       "      <td>NaN</td>\n",
       "      <td>Baylor University</td>\n",
       "      <td>Academic</td>\n",
       "      <td>1.0</td>\n",
       "      <td>0.0</td>\n",
       "      <td>NaN</td>\n",
       "      <td>NaN</td>\n",
       "      <td>NaN</td>\n",
       "    </tr>\n",
       "    <tr>\n",
       "      <th>3</th>\n",
       "      <td>Abe, Naohito</td>\n",
       "      <td>NaN</td>\n",
       "      <td>NaN</td>\n",
       "      <td>NaN</td>\n",
       "      <td>NaN</td>\n",
       "      <td>NaN</td>\n",
       "      <td>NaN</td>\n",
       "      <td>NaN</td>\n",
       "      <td>2000.0</td>\n",
       "      <td>Yale</td>\n",
       "      <td>...</td>\n",
       "      <td>NaN</td>\n",
       "      <td>NaN</td>\n",
       "      <td>NaN</td>\n",
       "      <td>Hibotsutoshi University, Japan</td>\n",
       "      <td>NaN</td>\n",
       "      <td>1.0</td>\n",
       "      <td>NaN</td>\n",
       "      <td>NaN</td>\n",
       "      <td>NaN</td>\n",
       "      <td>NaN</td>\n",
       "    </tr>\n",
       "    <tr>\n",
       "      <th>4</th>\n",
       "      <td>Abhay Aneja</td>\n",
       "      <td>male</td>\n",
       "      <td>NaN</td>\n",
       "      <td>NaN</td>\n",
       "      <td>NaN</td>\n",
       "      <td>NaN</td>\n",
       "      <td>NaN</td>\n",
       "      <td>NaN</td>\n",
       "      <td>NaN</td>\n",
       "      <td>UC Berkeley</td>\n",
       "      <td>...</td>\n",
       "      <td>male</td>\n",
       "      <td>NaN</td>\n",
       "      <td>NaN</td>\n",
       "      <td>Berkeley Law</td>\n",
       "      <td>Academic</td>\n",
       "      <td>1.0</td>\n",
       "      <td>0.0</td>\n",
       "      <td>Assistant Professor</td>\n",
       "      <td>NaN</td>\n",
       "      <td>NaN</td>\n",
       "    </tr>\n",
       "  </tbody>\n",
       "</table>\n",
       "<p>5 rows × 25 columns</p>\n",
       "</div>"
      ],
      "text/plain": [
       "            name gender_guess  \\\n",
       "0     Aaron Mora         male   \n",
       "1  Aaron Swoboda         male   \n",
       "2  Aaron Hedlund         male   \n",
       "3   Abe, Naohito          NaN   \n",
       "4    Abhay Aneja         male   \n",
       "\n",
       "                                      school_website  \\\n",
       "0  https://economics.sas.upenn.edu/people/aaron-mora   \n",
       "1                                                NaN   \n",
       "2                                                NaN   \n",
       "3                                                NaN   \n",
       "4                                                NaN   \n",
       "\n",
       "                                               field  \\\n",
       "0  Econometrics, Financial Economics, Industrial ...   \n",
       "1                                                NaN   \n",
       "2                                                NaN   \n",
       "3                                                NaN   \n",
       "4                                                NaN   \n",
       "\n",
       "                                          paper_name paper_link  \\\n",
       "0  Revealed Preference for Green Stocks: An Asset...        NaN   \n",
       "1                                                NaN        NaN   \n",
       "2                                                NaN        NaN   \n",
       "3                                                NaN        NaN   \n",
       "4                                                NaN        NaN   \n",
       "\n",
       "                                   chair committee_member    year  \\\n",
       "0  Francis X. Diebold, Frank Schorfheide              NaN  2024.0   \n",
       "1                                    NaN              NaN  2011.0   \n",
       "2                                    NaN              NaN  2012.0   \n",
       "3                                    NaN              NaN  2000.0   \n",
       "4                                    NaN              NaN     NaN   \n",
       "\n",
       "                   university  ... gender_manual secondaryresearchfocus  \\\n",
       "0  University of Pennsylvania  ...           NaN                    NaN   \n",
       "1                 UC Berkeley  ...           NaN                    NaN   \n",
       "2  University of Pennsylvania  ...          male                    NaN   \n",
       "3                        Yale  ...           NaN                    NaN   \n",
       "4                 UC Berkeley  ...          male                    NaN   \n",
       "\n",
       "   dissertation_name                       placement placement_type academic  \\\n",
       "0                NaN    University of South Carolina       Academic      1.0   \n",
       "1                NaN                             NaN       Academic      1.0   \n",
       "2                NaN               Baylor University       Academic      1.0   \n",
       "3                NaN  Hibotsutoshi University, Japan            NaN      1.0   \n",
       "4                NaN                    Berkeley Law       Academic      1.0   \n",
       "\n",
       "  postdoc             position degree references  \n",
       "0     0.0                  NaN    NaN        NaN  \n",
       "1     0.0  Assistant Professor    NaN        NaN  \n",
       "2     0.0                  NaN    NaN        NaN  \n",
       "3     NaN                  NaN    NaN        NaN  \n",
       "4     0.0  Assistant Professor    NaN        NaN  \n",
       "\n",
       "[5 rows x 25 columns]"
      ]
     },
     "execution_count": 15,
     "metadata": {},
     "output_type": "execute_result"
    }
   ],
   "source": [
    "old_df = pd.read_csv('../data/raw/old_data/clean/gender_gap_PhD_STEM.csv')\n",
    "old_df.head()\n",
    "\n"
   ]
  },
  {
   "cell_type": "code",
   "execution_count": 6,
   "metadata": {},
   "outputs": [
    {
     "data": {
      "text/plain": [
       "Index(['name', 'gender_guess', 'school_website', 'field', 'paper_name',\n",
       "       'paper_link', 'chair', 'committee_member', 'year', 'university',\n",
       "       'department', 'cv_link', 'dissertation', 'personal_website', 'email',\n",
       "       'gender_manual', 'secondaryresearchfocus', 'dissertation_name',\n",
       "       'placement', 'placement_type', 'academic', 'postdoc', 'position',\n",
       "       'degree', 'references'],\n",
       "      dtype='object')"
      ]
     },
     "execution_count": 6,
     "metadata": {},
     "output_type": "execute_result"
    }
   ],
   "source": [
    "old_df.columns"
   ]
  },
  {
   "cell_type": "code",
   "execution_count": 16,
   "metadata": {},
   "outputs": [
    {
     "data": {
      "text/html": [
       "<div>\n",
       "<style scoped>\n",
       "    .dataframe tbody tr th:only-of-type {\n",
       "        vertical-align: middle;\n",
       "    }\n",
       "\n",
       "    .dataframe tbody tr th {\n",
       "        vertical-align: top;\n",
       "    }\n",
       "\n",
       "    .dataframe thead th {\n",
       "        text-align: right;\n",
       "    }\n",
       "</style>\n",
       "<table border=\"1\" class=\"dataframe\">\n",
       "  <thead>\n",
       "    <tr style=\"text-align: right;\">\n",
       "      <th></th>\n",
       "      <th>name</th>\n",
       "      <th>gender_guess</th>\n",
       "      <th>school_website</th>\n",
       "      <th>field</th>\n",
       "      <th>paper_name</th>\n",
       "      <th>paper_link</th>\n",
       "      <th>chair</th>\n",
       "      <th>committee_member</th>\n",
       "      <th>year</th>\n",
       "      <th>university</th>\n",
       "      <th>...</th>\n",
       "      <th>gender_manual</th>\n",
       "      <th>secondaryresearchfocus</th>\n",
       "      <th>dissertation_name</th>\n",
       "      <th>placement</th>\n",
       "      <th>placement_type</th>\n",
       "      <th>academic</th>\n",
       "      <th>postdoc</th>\n",
       "      <th>position</th>\n",
       "      <th>degree</th>\n",
       "      <th>references</th>\n",
       "    </tr>\n",
       "  </thead>\n",
       "  <tbody>\n",
       "    <tr>\n",
       "      <th>5</th>\n",
       "      <td>Abhi Gupta</td>\n",
       "      <td>unknown</td>\n",
       "      <td>NaN</td>\n",
       "      <td>Macroeconomics International Economics</td>\n",
       "      <td>Essays in Empirical Macroeconomics</td>\n",
       "      <td>NaN</td>\n",
       "      <td>NaN</td>\n",
       "      <td>NaN</td>\n",
       "      <td>2024.0</td>\n",
       "      <td>UC Berkeley</td>\n",
       "      <td>...</td>\n",
       "      <td>NaN</td>\n",
       "      <td>NaN</td>\n",
       "      <td>NaN</td>\n",
       "      <td>NaN</td>\n",
       "      <td>NaN</td>\n",
       "      <td>NaN</td>\n",
       "      <td>NaN</td>\n",
       "      <td>NaN</td>\n",
       "      <td>B.S. (Mathematics, Statistics, Economics), Uni...</td>\n",
       "      <td>Yuriy Gorodnichenko*, Jon Steinsson, David Romer</td>\n",
       "    </tr>\n",
       "    <tr>\n",
       "      <th>6</th>\n",
       "      <td>Abhinash Borah</td>\n",
       "      <td>unknown</td>\n",
       "      <td>NaN</td>\n",
       "      <td>NaN</td>\n",
       "      <td>NaN</td>\n",
       "      <td>NaN</td>\n",
       "      <td>NaN</td>\n",
       "      <td>NaN</td>\n",
       "      <td>2010.0</td>\n",
       "      <td>University of Pennsylvania</td>\n",
       "      <td>...</td>\n",
       "      <td>male</td>\n",
       "      <td>NaN</td>\n",
       "      <td>NaN</td>\n",
       "      <td>Royal Holloway University</td>\n",
       "      <td>Academic</td>\n",
       "      <td>1.0</td>\n",
       "      <td>0.0</td>\n",
       "      <td>NaN</td>\n",
       "      <td>NaN</td>\n",
       "      <td>NaN</td>\n",
       "    </tr>\n",
       "    <tr>\n",
       "      <th>7</th>\n",
       "      <td>Abhinash Borah</td>\n",
       "      <td>unknown</td>\n",
       "      <td>NaN</td>\n",
       "      <td>NaN</td>\n",
       "      <td>NaN</td>\n",
       "      <td>NaN</td>\n",
       "      <td>NaN</td>\n",
       "      <td>NaN</td>\n",
       "      <td>2011.0</td>\n",
       "      <td>University of Pennsylvania</td>\n",
       "      <td>...</td>\n",
       "      <td>male</td>\n",
       "      <td>NaN</td>\n",
       "      <td>NaN</td>\n",
       "      <td>University of Mainz, Germany</td>\n",
       "      <td>Academic</td>\n",
       "      <td>1.0</td>\n",
       "      <td>0.0</td>\n",
       "      <td>NaN</td>\n",
       "      <td>NaN</td>\n",
       "      <td>NaN</td>\n",
       "    </tr>\n",
       "    <tr>\n",
       "      <th>8</th>\n",
       "      <td>Adhemar Villani Junior</td>\n",
       "      <td>unknown</td>\n",
       "      <td>NaN</td>\n",
       "      <td>NaN</td>\n",
       "      <td>NaN</td>\n",
       "      <td>NaN</td>\n",
       "      <td>NaN</td>\n",
       "      <td>NaN</td>\n",
       "      <td>2008.0</td>\n",
       "      <td>University of Pennsylvania</td>\n",
       "      <td>...</td>\n",
       "      <td>male</td>\n",
       "      <td>NaN</td>\n",
       "      <td>NaN</td>\n",
       "      <td>Unibanco</td>\n",
       "      <td>International Organization</td>\n",
       "      <td>0.0</td>\n",
       "      <td>0.0</td>\n",
       "      <td>NaN</td>\n",
       "      <td>NaN</td>\n",
       "      <td>NaN</td>\n",
       "    </tr>\n",
       "    <tr>\n",
       "      <th>17</th>\n",
       "      <td>Ajin Lee</td>\n",
       "      <td>unknown</td>\n",
       "      <td>NaN</td>\n",
       "      <td>Health Economics, Public Economics</td>\n",
       "      <td>NaN</td>\n",
       "      <td>NaN</td>\n",
       "      <td>NaN</td>\n",
       "      <td>NaN</td>\n",
       "      <td>2017.0</td>\n",
       "      <td>Columbia University</td>\n",
       "      <td>...</td>\n",
       "      <td>female</td>\n",
       "      <td>NaN</td>\n",
       "      <td>NaN</td>\n",
       "      <td>Michigan State University</td>\n",
       "      <td>Academic</td>\n",
       "      <td>1.0</td>\n",
       "      <td>0.0</td>\n",
       "      <td>NaN</td>\n",
       "      <td>NaN</td>\n",
       "      <td>NaN</td>\n",
       "    </tr>\n",
       "  </tbody>\n",
       "</table>\n",
       "<p>5 rows × 25 columns</p>\n",
       "</div>"
      ],
      "text/plain": [
       "                      name gender_guess school_website  \\\n",
       "5               Abhi Gupta      unknown            NaN   \n",
       "6           Abhinash Borah      unknown            NaN   \n",
       "7           Abhinash Borah      unknown            NaN   \n",
       "8   Adhemar Villani Junior      unknown            NaN   \n",
       "17                Ajin Lee      unknown            NaN   \n",
       "\n",
       "                                     field  \\\n",
       "5   Macroeconomics International Economics   \n",
       "6                                      NaN   \n",
       "7                                      NaN   \n",
       "8                                      NaN   \n",
       "17      Health Economics, Public Economics   \n",
       "\n",
       "                            paper_name paper_link chair committee_member  \\\n",
       "5   Essays in Empirical Macroeconomics        NaN   NaN              NaN   \n",
       "6                                  NaN        NaN   NaN              NaN   \n",
       "7                                  NaN        NaN   NaN              NaN   \n",
       "8                                  NaN        NaN   NaN              NaN   \n",
       "17                                 NaN        NaN   NaN              NaN   \n",
       "\n",
       "      year                  university  ... gender_manual  \\\n",
       "5   2024.0                 UC Berkeley  ...           NaN   \n",
       "6   2010.0  University of Pennsylvania  ...          male   \n",
       "7   2011.0  University of Pennsylvania  ...          male   \n",
       "8   2008.0  University of Pennsylvania  ...          male   \n",
       "17  2017.0         Columbia University  ...        female   \n",
       "\n",
       "   secondaryresearchfocus  dissertation_name                     placement  \\\n",
       "5                     NaN                NaN                           NaN   \n",
       "6                     NaN                NaN     Royal Holloway University   \n",
       "7                     NaN                NaN  University of Mainz, Germany   \n",
       "8                     NaN                NaN                      Unibanco   \n",
       "17                    NaN                NaN     Michigan State University   \n",
       "\n",
       "                placement_type academic postdoc position  \\\n",
       "5                          NaN      NaN     NaN      NaN   \n",
       "6                     Academic      1.0     0.0      NaN   \n",
       "7                     Academic      1.0     0.0      NaN   \n",
       "8   International Organization      0.0     0.0      NaN   \n",
       "17                    Academic      1.0     0.0      NaN   \n",
       "\n",
       "                                               degree  \\\n",
       "5   B.S. (Mathematics, Statistics, Economics), Uni...   \n",
       "6                                                 NaN   \n",
       "7                                                 NaN   \n",
       "8                                                 NaN   \n",
       "17                                                NaN   \n",
       "\n",
       "                                          references  \n",
       "5   Yuriy Gorodnichenko*, Jon Steinsson, David Romer  \n",
       "6                                                NaN  \n",
       "7                                                NaN  \n",
       "8                                                NaN  \n",
       "17                                               NaN  \n",
       "\n",
       "[5 rows x 25 columns]"
      ]
     },
     "execution_count": 16,
     "metadata": {},
     "output_type": "execute_result"
    }
   ],
   "source": [
    "old_df[old_df['gender_guess'] == 'unknown'].head()\n"
   ]
  },
  {
   "cell_type": "code",
   "execution_count": 17,
   "metadata": {},
   "outputs": [
    {
     "data": {
      "text/plain": [
       "494"
      ]
     },
     "execution_count": 17,
     "metadata": {},
     "output_type": "execute_result"
    }
   ],
   "source": [
    "gender_null = old_df[old_df['gender_guess'].isna()].shape[0]\n",
    "gender_null"
   ]
  },
  {
   "cell_type": "code",
   "execution_count": 9,
   "metadata": {},
   "outputs": [
    {
     "data": {
      "text/plain": [
       "array([2024., 2011., 2012., 2000.,   nan, 2010., 2008., 2009., 2013.,\n",
       "       2020., 2007., 2022., 2017., 2025., 2004., 2014., 2016., 2021.,\n",
       "       2023., 2018., 2019., 2006., 2005., 1999., 2003., 2015., 1998.,\n",
       "       2002., 2001.])"
      ]
     },
     "execution_count": 9,
     "metadata": {},
     "output_type": "execute_result"
    }
   ],
   "source": [
    "old_df['year'].unique()"
   ]
  },
  {
   "cell_type": "code",
   "execution_count": 14,
   "metadata": {},
   "outputs": [
    {
     "data": {
      "text/html": [
       "<div>\n",
       "<style scoped>\n",
       "    .dataframe tbody tr th:only-of-type {\n",
       "        vertical-align: middle;\n",
       "    }\n",
       "\n",
       "    .dataframe tbody tr th {\n",
       "        vertical-align: top;\n",
       "    }\n",
       "\n",
       "    .dataframe thead th {\n",
       "        text-align: right;\n",
       "    }\n",
       "</style>\n",
       "<table border=\"1\" class=\"dataframe\">\n",
       "  <thead>\n",
       "    <tr style=\"text-align: right;\">\n",
       "      <th></th>\n",
       "      <th>name</th>\n",
       "      <th>gender_guess</th>\n",
       "      <th>school_website</th>\n",
       "      <th>field</th>\n",
       "      <th>paper_name</th>\n",
       "      <th>paper_link</th>\n",
       "      <th>chair</th>\n",
       "      <th>committee_member</th>\n",
       "      <th>year</th>\n",
       "      <th>university</th>\n",
       "      <th>...</th>\n",
       "      <th>gender_manual</th>\n",
       "      <th>secondaryresearchfocus</th>\n",
       "      <th>dissertation_name</th>\n",
       "      <th>placement</th>\n",
       "      <th>placement_type</th>\n",
       "      <th>academic</th>\n",
       "      <th>postdoc</th>\n",
       "      <th>position</th>\n",
       "      <th>degree</th>\n",
       "      <th>references</th>\n",
       "    </tr>\n",
       "  </thead>\n",
       "  <tbody>\n",
       "    <tr>\n",
       "      <th>1127</th>\n",
       "      <td>Sang Hoon Kong</td>\n",
       "      <td>andy</td>\n",
       "      <td>https://www.sanghoonkong.com/</td>\n",
       "      <td>International Trade, Regional Economics, Devel...</td>\n",
       "      <td>Quality Upgrading and Productivity Gains from ...</td>\n",
       "      <td>https://econ.columbia.edu/wp-content/uploads/s...</td>\n",
       "      <td>['David E. Weinstein']</td>\n",
       "      <td>['Donald R. Davis', 'Réka Juhász']</td>\n",
       "      <td>2025.0</td>\n",
       "      <td>Columbia University</td>\n",
       "      <td>...</td>\n",
       "      <td>NaN</td>\n",
       "      <td>NaN</td>\n",
       "      <td>NaN</td>\n",
       "      <td>NaN</td>\n",
       "      <td>NaN</td>\n",
       "      <td>NaN</td>\n",
       "      <td>NaN</td>\n",
       "      <td>NaN</td>\n",
       "      <td>NaN</td>\n",
       "      <td>NaN</td>\n",
       "    </tr>\n",
       "    <tr>\n",
       "      <th>96</th>\n",
       "      <td>Assa Cohen</td>\n",
       "      <td>female</td>\n",
       "      <td>https://economics.sas.upenn.edu/people/assa-cohen</td>\n",
       "      <td>Macroeconomics, Finance</td>\n",
       "      <td>Hard Times Call for Fundamental Questions</td>\n",
       "      <td>NaN</td>\n",
       "      <td>Guillermo Ordonez</td>\n",
       "      <td>NaN</td>\n",
       "      <td>2025.0</td>\n",
       "      <td>University of Pennsylvania</td>\n",
       "      <td>...</td>\n",
       "      <td>NaN</td>\n",
       "      <td>NaN</td>\n",
       "      <td>NaN</td>\n",
       "      <td>NaN</td>\n",
       "      <td>NaN</td>\n",
       "      <td>NaN</td>\n",
       "      <td>NaN</td>\n",
       "      <td>NaN</td>\n",
       "      <td>NaN</td>\n",
       "      <td>NaN</td>\n",
       "    </tr>\n",
       "    <tr>\n",
       "      <th>363</th>\n",
       "      <td>Emilio Zaratiegui</td>\n",
       "      <td>male</td>\n",
       "      <td>https://econ.columbia.edu/e/emilio-zaratiegui/</td>\n",
       "      <td>Macroeconomics, International Macroeconomics</td>\n",
       "      <td>Macroprudential Policy with Firm Heterogeneity</td>\n",
       "      <td>https://emiliozaratiegui.github.io/Personal-We...</td>\n",
       "      <td>['Martin Uribe', 'Jesse Schreger']</td>\n",
       "      <td>['Stephanie Schmitt-Grohé']</td>\n",
       "      <td>2025.0</td>\n",
       "      <td>Columbia University</td>\n",
       "      <td>...</td>\n",
       "      <td>NaN</td>\n",
       "      <td>NaN</td>\n",
       "      <td>NaN</td>\n",
       "      <td>NaN</td>\n",
       "      <td>NaN</td>\n",
       "      <td>NaN</td>\n",
       "      <td>NaN</td>\n",
       "      <td>NaN</td>\n",
       "      <td>NaN</td>\n",
       "      <td>NaN</td>\n",
       "    </tr>\n",
       "    <tr>\n",
       "      <th>693</th>\n",
       "      <td>Kosha Modi</td>\n",
       "      <td>unknown</td>\n",
       "      <td>http://koshamodi.github.io</td>\n",
       "      <td>Macroeconomics, Finance, Monetary Economics</td>\n",
       "      <td>The Perceived Sources of Unexpected Inflation</td>\n",
       "      <td>https://econ.columbia.edu/wp-content/uploads/s...</td>\n",
       "      <td>[\"Jennifer La'O\", 'José Scheinkman']</td>\n",
       "      <td>['Matthieu Gomez', 'Jesse Schreger']</td>\n",
       "      <td>2025.0</td>\n",
       "      <td>Columbia University</td>\n",
       "      <td>...</td>\n",
       "      <td>NaN</td>\n",
       "      <td>NaN</td>\n",
       "      <td>NaN</td>\n",
       "      <td>NaN</td>\n",
       "      <td>NaN</td>\n",
       "      <td>NaN</td>\n",
       "      <td>NaN</td>\n",
       "      <td>NaN</td>\n",
       "      <td>NaN</td>\n",
       "      <td>NaN</td>\n",
       "    </tr>\n",
       "    <tr>\n",
       "      <th>698</th>\n",
       "      <td>Kristen Beamer Shure</td>\n",
       "      <td>female</td>\n",
       "      <td>https://economics.sas.upenn.edu/people/kristen...</td>\n",
       "      <td>Empirical Microeconomics, Economics of Educati...</td>\n",
       "      <td>Public vs. Private: School Quality and Competi...</td>\n",
       "      <td>NaN</td>\n",
       "      <td>Petra Todd</td>\n",
       "      <td>NaN</td>\n",
       "      <td>2025.0</td>\n",
       "      <td>University of Pennsylvania</td>\n",
       "      <td>...</td>\n",
       "      <td>NaN</td>\n",
       "      <td>NaN</td>\n",
       "      <td>NaN</td>\n",
       "      <td>NaN</td>\n",
       "      <td>NaN</td>\n",
       "      <td>NaN</td>\n",
       "      <td>NaN</td>\n",
       "      <td>NaN</td>\n",
       "      <td>NaN</td>\n",
       "      <td>NaN</td>\n",
       "    </tr>\n",
       "  </tbody>\n",
       "</table>\n",
       "<p>5 rows × 25 columns</p>\n",
       "</div>"
      ],
      "text/plain": [
       "                      name gender_guess  \\\n",
       "1127        Sang Hoon Kong         andy   \n",
       "96              Assa Cohen       female   \n",
       "363      Emilio Zaratiegui         male   \n",
       "693             Kosha Modi      unknown   \n",
       "698   Kristen Beamer Shure       female   \n",
       "\n",
       "                                         school_website  \\\n",
       "1127                      https://www.sanghoonkong.com/   \n",
       "96    https://economics.sas.upenn.edu/people/assa-cohen   \n",
       "363      https://econ.columbia.edu/e/emilio-zaratiegui/   \n",
       "693                          http://koshamodi.github.io   \n",
       "698   https://economics.sas.upenn.edu/people/kristen...   \n",
       "\n",
       "                                                  field  \\\n",
       "1127  International Trade, Regional Economics, Devel...   \n",
       "96                              Macroeconomics, Finance   \n",
       "363        Macroeconomics, International Macroeconomics   \n",
       "693         Macroeconomics, Finance, Monetary Economics   \n",
       "698   Empirical Microeconomics, Economics of Educati...   \n",
       "\n",
       "                                             paper_name  \\\n",
       "1127  Quality Upgrading and Productivity Gains from ...   \n",
       "96            Hard Times Call for Fundamental Questions   \n",
       "363      Macroprudential Policy with Firm Heterogeneity   \n",
       "693       The Perceived Sources of Unexpected Inflation   \n",
       "698   Public vs. Private: School Quality and Competi...   \n",
       "\n",
       "                                             paper_link  \\\n",
       "1127  https://econ.columbia.edu/wp-content/uploads/s...   \n",
       "96                                                  NaN   \n",
       "363   https://emiliozaratiegui.github.io/Personal-We...   \n",
       "693   https://econ.columbia.edu/wp-content/uploads/s...   \n",
       "698                                                 NaN   \n",
       "\n",
       "                                     chair  \\\n",
       "1127                ['David E. Weinstein']   \n",
       "96                       Guillermo Ordonez   \n",
       "363     ['Martin Uribe', 'Jesse Schreger']   \n",
       "693   [\"Jennifer La'O\", 'José Scheinkman']   \n",
       "698                             Petra Todd   \n",
       "\n",
       "                          committee_member    year  \\\n",
       "1127    ['Donald R. Davis', 'Réka Juhász']  2025.0   \n",
       "96                                     NaN  2025.0   \n",
       "363            ['Stephanie Schmitt-Grohé']  2025.0   \n",
       "693   ['Matthieu Gomez', 'Jesse Schreger']  2025.0   \n",
       "698                                    NaN  2025.0   \n",
       "\n",
       "                      university  ... gender_manual secondaryresearchfocus  \\\n",
       "1127         Columbia University  ...           NaN                    NaN   \n",
       "96    University of Pennsylvania  ...           NaN                    NaN   \n",
       "363          Columbia University  ...           NaN                    NaN   \n",
       "693          Columbia University  ...           NaN                    NaN   \n",
       "698   University of Pennsylvania  ...           NaN                    NaN   \n",
       "\n",
       "      dissertation_name placement placement_type academic postdoc position  \\\n",
       "1127                NaN       NaN            NaN      NaN     NaN      NaN   \n",
       "96                  NaN       NaN            NaN      NaN     NaN      NaN   \n",
       "363                 NaN       NaN            NaN      NaN     NaN      NaN   \n",
       "693                 NaN       NaN            NaN      NaN     NaN      NaN   \n",
       "698                 NaN       NaN            NaN      NaN     NaN      NaN   \n",
       "\n",
       "     degree references  \n",
       "1127    NaN        NaN  \n",
       "96      NaN        NaN  \n",
       "363     NaN        NaN  \n",
       "693     NaN        NaN  \n",
       "698     NaN        NaN  \n",
       "\n",
       "[5 rows x 25 columns]"
      ]
     },
     "execution_count": 14,
     "metadata": {},
     "output_type": "execute_result"
    }
   ],
   "source": [
    "\n",
    "old_df.sort_values(by='year', ascending=False).head()\n"
   ]
  },
  {
   "cell_type": "code",
   "execution_count": 27,
   "metadata": {},
   "outputs": [
    {
     "data": {
      "text/plain": [
       "101"
      ]
     },
     "execution_count": 27,
     "metadata": {},
     "output_type": "execute_result"
    }
   ],
   "source": [
    "year_null = old_df[old_df['year'].isna()].shape[0]\n",
    "year_null"
   ]
  },
  {
   "cell_type": "code",
   "execution_count": 28,
   "metadata": {},
   "outputs": [
    {
     "data": {
      "text/plain": [
       "20"
      ]
     },
     "execution_count": 28,
     "metadata": {},
     "output_type": "execute_result"
    }
   ],
   "source": [
    "university_null = old_df[old_df['university'].isna()].shape[0]\n",
    "university_null"
   ]
  },
  {
   "cell_type": "code",
   "execution_count": 33,
   "metadata": {},
   "outputs": [
    {
     "data": {
      "text/plain": [
       "419"
      ]
     },
     "execution_count": 33,
     "metadata": {},
     "output_type": "execute_result"
    }
   ],
   "source": [
    "placement_null = old_df[old_df['placement'].isna()].shape[0]\n",
    "placement_null"
   ]
  },
  {
   "cell_type": "code",
   "execution_count": 31,
   "metadata": {},
   "outputs": [
    {
     "data": {
      "text/plain": [
       "Index(['Unnamed: 0', 'name', 'university', 'year', 'field', 'placement',\n",
       "       'research_fields', 'academic', 'private_company', 'government',\n",
       "       'gender_guess', 'gender'],\n",
       "      dtype='object')"
      ]
     },
     "execution_count": 31,
     "metadata": {},
     "output_type": "execute_result"
    }
   ],
   "source": [
    "winter_df = pd.read_csv('analyzed_data/placement_df.csv')\n",
    "winter_df.columns"
   ]
  },
  {
   "cell_type": "code",
   "execution_count": null,
   "metadata": {},
   "outputs": [],
   "source": []
  },
  {
   "cell_type": "markdown",
   "metadata": {},
   "source": [
    "# Fixing gender "
   ]
  },
  {
   "cell_type": "code",
   "execution_count": 21,
   "metadata": {},
   "outputs": [
    {
     "data": {
      "text/plain": [
       "0"
      ]
     },
     "execution_count": 21,
     "metadata": {},
     "output_type": "execute_result"
    }
   ],
   "source": [
    "old_df = old_df.dropna(subset=['name'])\n",
    "old_df[old_df['name'].isna()].shape[0]"
   ]
  },
  {
   "cell_type": "code",
   "execution_count": 22,
   "metadata": {},
   "outputs": [
    {
     "data": {
      "text/plain": [
       "494"
      ]
     },
     "execution_count": 22,
     "metadata": {},
     "output_type": "execute_result"
    }
   ],
   "source": [
    "old_df[old_df['gender_guess'].isna()].shape[0]"
   ]
  },
  {
   "cell_type": "code",
   "execution_count": 23,
   "metadata": {},
   "outputs": [
    {
     "data": {
      "text/html": [
       "<div>\n",
       "<style scoped>\n",
       "    .dataframe tbody tr th:only-of-type {\n",
       "        vertical-align: middle;\n",
       "    }\n",
       "\n",
       "    .dataframe tbody tr th {\n",
       "        vertical-align: top;\n",
       "    }\n",
       "\n",
       "    .dataframe thead th {\n",
       "        text-align: right;\n",
       "    }\n",
       "</style>\n",
       "<table border=\"1\" class=\"dataframe\">\n",
       "  <thead>\n",
       "    <tr style=\"text-align: right;\">\n",
       "      <th></th>\n",
       "      <th>name</th>\n",
       "      <th>gender_guess</th>\n",
       "      <th>school_website</th>\n",
       "      <th>field</th>\n",
       "      <th>paper_name</th>\n",
       "      <th>paper_link</th>\n",
       "      <th>chair</th>\n",
       "      <th>committee_member</th>\n",
       "      <th>year</th>\n",
       "      <th>university</th>\n",
       "      <th>...</th>\n",
       "      <th>gender_manual</th>\n",
       "      <th>secondaryresearchfocus</th>\n",
       "      <th>dissertation_name</th>\n",
       "      <th>placement</th>\n",
       "      <th>placement_type</th>\n",
       "      <th>academic</th>\n",
       "      <th>postdoc</th>\n",
       "      <th>position</th>\n",
       "      <th>degree</th>\n",
       "      <th>references</th>\n",
       "    </tr>\n",
       "  </thead>\n",
       "  <tbody>\n",
       "    <tr>\n",
       "      <th>5</th>\n",
       "      <td>Abhi Gupta</td>\n",
       "      <td>unknown</td>\n",
       "      <td>NaN</td>\n",
       "      <td>Macroeconomics International Economics</td>\n",
       "      <td>Essays in Empirical Macroeconomics</td>\n",
       "      <td>NaN</td>\n",
       "      <td>NaN</td>\n",
       "      <td>NaN</td>\n",
       "      <td>2024.0</td>\n",
       "      <td>UC Berkeley</td>\n",
       "      <td>...</td>\n",
       "      <td>NaN</td>\n",
       "      <td>NaN</td>\n",
       "      <td>NaN</td>\n",
       "      <td>NaN</td>\n",
       "      <td>NaN</td>\n",
       "      <td>NaN</td>\n",
       "      <td>NaN</td>\n",
       "      <td>NaN</td>\n",
       "      <td>B.S. (Mathematics, Statistics, Economics), Uni...</td>\n",
       "      <td>Yuriy Gorodnichenko*, Jon Steinsson, David Romer</td>\n",
       "    </tr>\n",
       "    <tr>\n",
       "      <th>6</th>\n",
       "      <td>Abhinash Borah</td>\n",
       "      <td>unknown</td>\n",
       "      <td>NaN</td>\n",
       "      <td>NaN</td>\n",
       "      <td>NaN</td>\n",
       "      <td>NaN</td>\n",
       "      <td>NaN</td>\n",
       "      <td>NaN</td>\n",
       "      <td>2010.0</td>\n",
       "      <td>University of Pennsylvania</td>\n",
       "      <td>...</td>\n",
       "      <td>male</td>\n",
       "      <td>NaN</td>\n",
       "      <td>NaN</td>\n",
       "      <td>Royal Holloway University</td>\n",
       "      <td>Academic</td>\n",
       "      <td>1.0</td>\n",
       "      <td>0.0</td>\n",
       "      <td>NaN</td>\n",
       "      <td>NaN</td>\n",
       "      <td>NaN</td>\n",
       "    </tr>\n",
       "    <tr>\n",
       "      <th>7</th>\n",
       "      <td>Abhinash Borah</td>\n",
       "      <td>unknown</td>\n",
       "      <td>NaN</td>\n",
       "      <td>NaN</td>\n",
       "      <td>NaN</td>\n",
       "      <td>NaN</td>\n",
       "      <td>NaN</td>\n",
       "      <td>NaN</td>\n",
       "      <td>2011.0</td>\n",
       "      <td>University of Pennsylvania</td>\n",
       "      <td>...</td>\n",
       "      <td>male</td>\n",
       "      <td>NaN</td>\n",
       "      <td>NaN</td>\n",
       "      <td>University of Mainz, Germany</td>\n",
       "      <td>Academic</td>\n",
       "      <td>1.0</td>\n",
       "      <td>0.0</td>\n",
       "      <td>NaN</td>\n",
       "      <td>NaN</td>\n",
       "      <td>NaN</td>\n",
       "    </tr>\n",
       "    <tr>\n",
       "      <th>8</th>\n",
       "      <td>Adhemar Villani Junior</td>\n",
       "      <td>unknown</td>\n",
       "      <td>NaN</td>\n",
       "      <td>NaN</td>\n",
       "      <td>NaN</td>\n",
       "      <td>NaN</td>\n",
       "      <td>NaN</td>\n",
       "      <td>NaN</td>\n",
       "      <td>2008.0</td>\n",
       "      <td>University of Pennsylvania</td>\n",
       "      <td>...</td>\n",
       "      <td>male</td>\n",
       "      <td>NaN</td>\n",
       "      <td>NaN</td>\n",
       "      <td>Unibanco</td>\n",
       "      <td>International Organization</td>\n",
       "      <td>0.0</td>\n",
       "      <td>0.0</td>\n",
       "      <td>NaN</td>\n",
       "      <td>NaN</td>\n",
       "      <td>NaN</td>\n",
       "    </tr>\n",
       "    <tr>\n",
       "      <th>17</th>\n",
       "      <td>Ajin Lee</td>\n",
       "      <td>unknown</td>\n",
       "      <td>NaN</td>\n",
       "      <td>Health Economics, Public Economics</td>\n",
       "      <td>NaN</td>\n",
       "      <td>NaN</td>\n",
       "      <td>NaN</td>\n",
       "      <td>NaN</td>\n",
       "      <td>2017.0</td>\n",
       "      <td>Columbia University</td>\n",
       "      <td>...</td>\n",
       "      <td>female</td>\n",
       "      <td>NaN</td>\n",
       "      <td>NaN</td>\n",
       "      <td>Michigan State University</td>\n",
       "      <td>Academic</td>\n",
       "      <td>1.0</td>\n",
       "      <td>0.0</td>\n",
       "      <td>NaN</td>\n",
       "      <td>NaN</td>\n",
       "      <td>NaN</td>\n",
       "    </tr>\n",
       "  </tbody>\n",
       "</table>\n",
       "<p>5 rows × 25 columns</p>\n",
       "</div>"
      ],
      "text/plain": [
       "                      name gender_guess school_website  \\\n",
       "5               Abhi Gupta      unknown            NaN   \n",
       "6           Abhinash Borah      unknown            NaN   \n",
       "7           Abhinash Borah      unknown            NaN   \n",
       "8   Adhemar Villani Junior      unknown            NaN   \n",
       "17                Ajin Lee      unknown            NaN   \n",
       "\n",
       "                                     field  \\\n",
       "5   Macroeconomics International Economics   \n",
       "6                                      NaN   \n",
       "7                                      NaN   \n",
       "8                                      NaN   \n",
       "17      Health Economics, Public Economics   \n",
       "\n",
       "                            paper_name paper_link chair committee_member  \\\n",
       "5   Essays in Empirical Macroeconomics        NaN   NaN              NaN   \n",
       "6                                  NaN        NaN   NaN              NaN   \n",
       "7                                  NaN        NaN   NaN              NaN   \n",
       "8                                  NaN        NaN   NaN              NaN   \n",
       "17                                 NaN        NaN   NaN              NaN   \n",
       "\n",
       "      year                  university  ... gender_manual  \\\n",
       "5   2024.0                 UC Berkeley  ...           NaN   \n",
       "6   2010.0  University of Pennsylvania  ...          male   \n",
       "7   2011.0  University of Pennsylvania  ...          male   \n",
       "8   2008.0  University of Pennsylvania  ...          male   \n",
       "17  2017.0         Columbia University  ...        female   \n",
       "\n",
       "   secondaryresearchfocus  dissertation_name                     placement  \\\n",
       "5                     NaN                NaN                           NaN   \n",
       "6                     NaN                NaN     Royal Holloway University   \n",
       "7                     NaN                NaN  University of Mainz, Germany   \n",
       "8                     NaN                NaN                      Unibanco   \n",
       "17                    NaN                NaN     Michigan State University   \n",
       "\n",
       "                placement_type academic postdoc position  \\\n",
       "5                          NaN      NaN     NaN      NaN   \n",
       "6                     Academic      1.0     0.0      NaN   \n",
       "7                     Academic      1.0     0.0      NaN   \n",
       "8   International Organization      0.0     0.0      NaN   \n",
       "17                    Academic      1.0     0.0      NaN   \n",
       "\n",
       "                                               degree  \\\n",
       "5   B.S. (Mathematics, Statistics, Economics), Uni...   \n",
       "6                                                 NaN   \n",
       "7                                                 NaN   \n",
       "8                                                 NaN   \n",
       "17                                                NaN   \n",
       "\n",
       "                                          references  \n",
       "5   Yuriy Gorodnichenko*, Jon Steinsson, David Romer  \n",
       "6                                                NaN  \n",
       "7                                                NaN  \n",
       "8                                                NaN  \n",
       "17                                               NaN  \n",
       "\n",
       "[5 rows x 25 columns]"
      ]
     },
     "execution_count": 23,
     "metadata": {},
     "output_type": "execute_result"
    }
   ],
   "source": [
    "old_df[old_df['gender_guess'] == 'unknown'].head()\n"
   ]
  },
  {
   "cell_type": "markdown",
   "metadata": {},
   "source": [
    "First, use gender_guess on the na values"
   ]
  },
  {
   "cell_type": "code",
   "execution_count": 24,
   "metadata": {},
   "outputs": [
    {
     "name": "stderr",
     "output_type": "stream",
     "text": [
      "/var/folders/d2/sfp_278j7jb2qgvmr7vr7p3m0000gn/T/ipykernel_36469/3886188115.py:9: SettingWithCopyWarning: \n",
      "A value is trying to be set on a copy of a slice from a DataFrame.\n",
      "Try using .loc[row_indexer,col_indexer] = value instead\n",
      "\n",
      "See the caveats in the documentation: https://pandas.pydata.org/pandas-docs/stable/user_guide/indexing.html#returning-a-view-versus-a-copy\n",
      "  missing_gender['gender_guess'] = missing_gender['name'].apply(lambda x: d.get_gender(x.split()[0]))\n"
     ]
    }
   ],
   "source": [
    "# Get rows with missing gender_guess\n",
    "missing_gender = old_df[old_df['gender_guess'].isna()]\n",
    "\n",
    "# Use gender_guess package to predict gender from names\n",
    "from gender_guesser.detector import Detector\n",
    "d = Detector()\n",
    "\n",
    "# Apply gender prediction to each name\n",
    "missing_gender['gender_guess'] = missing_gender['name'].apply(lambda x: d.get_gender(x.split()[0]))\n",
    "\n",
    "# Update original dataframe with new predictions\n",
    "old_df.loc[old_df['gender_guess'].isna(), 'gender_guess'] = missing_gender['gender_guess']"
   ]
  },
  {
   "cell_type": "code",
   "execution_count": 31,
   "metadata": {},
   "outputs": [
    {
     "data": {
      "text/plain": [
       "0"
      ]
     },
     "execution_count": 31,
     "metadata": {},
     "output_type": "execute_result"
    }
   ],
   "source": [
    "old_df[old_df['gender_guess'].isna()].shape[0]"
   ]
  },
  {
   "cell_type": "code",
   "execution_count": 29,
   "metadata": {},
   "outputs": [
    {
     "data": {
      "text/html": [
       "<div>\n",
       "<style scoped>\n",
       "    .dataframe tbody tr th:only-of-type {\n",
       "        vertical-align: middle;\n",
       "    }\n",
       "\n",
       "    .dataframe tbody tr th {\n",
       "        vertical-align: top;\n",
       "    }\n",
       "\n",
       "    .dataframe thead th {\n",
       "        text-align: right;\n",
       "    }\n",
       "</style>\n",
       "<table border=\"1\" class=\"dataframe\">\n",
       "  <thead>\n",
       "    <tr style=\"text-align: right;\">\n",
       "      <th></th>\n",
       "      <th>name</th>\n",
       "      <th>gender_guess</th>\n",
       "      <th>school_website</th>\n",
       "      <th>field</th>\n",
       "      <th>paper_name</th>\n",
       "      <th>paper_link</th>\n",
       "      <th>chair</th>\n",
       "      <th>committee_member</th>\n",
       "      <th>year</th>\n",
       "      <th>university</th>\n",
       "      <th>...</th>\n",
       "      <th>gender_manual</th>\n",
       "      <th>secondaryresearchfocus</th>\n",
       "      <th>dissertation_name</th>\n",
       "      <th>placement</th>\n",
       "      <th>placement_type</th>\n",
       "      <th>academic</th>\n",
       "      <th>postdoc</th>\n",
       "      <th>position</th>\n",
       "      <th>degree</th>\n",
       "      <th>references</th>\n",
       "    </tr>\n",
       "  </thead>\n",
       "  <tbody>\n",
       "    <tr>\n",
       "      <th>0</th>\n",
       "      <td>Aaron Mora</td>\n",
       "      <td>male</td>\n",
       "      <td>https://economics.sas.upenn.edu/people/aaron-mora</td>\n",
       "      <td>Econometrics, Financial Economics, Industrial ...</td>\n",
       "      <td>Revealed Preference for Green Stocks: An Asset...</td>\n",
       "      <td>NaN</td>\n",
       "      <td>Francis X. Diebold, Frank Schorfheide</td>\n",
       "      <td>NaN</td>\n",
       "      <td>2024.0</td>\n",
       "      <td>University of Pennsylvania</td>\n",
       "      <td>...</td>\n",
       "      <td>NaN</td>\n",
       "      <td>NaN</td>\n",
       "      <td>NaN</td>\n",
       "      <td>University of South Carolina</td>\n",
       "      <td>Academic</td>\n",
       "      <td>1.0</td>\n",
       "      <td>0.0</td>\n",
       "      <td>NaN</td>\n",
       "      <td>NaN</td>\n",
       "      <td>NaN</td>\n",
       "    </tr>\n",
       "    <tr>\n",
       "      <th>1</th>\n",
       "      <td>Aaron Swoboda</td>\n",
       "      <td>male</td>\n",
       "      <td>NaN</td>\n",
       "      <td>NaN</td>\n",
       "      <td>NaN</td>\n",
       "      <td>NaN</td>\n",
       "      <td>NaN</td>\n",
       "      <td>NaN</td>\n",
       "      <td>2011.0</td>\n",
       "      <td>UC Berkeley</td>\n",
       "      <td>...</td>\n",
       "      <td>NaN</td>\n",
       "      <td>NaN</td>\n",
       "      <td>NaN</td>\n",
       "      <td>NaN</td>\n",
       "      <td>Academic</td>\n",
       "      <td>1.0</td>\n",
       "      <td>0.0</td>\n",
       "      <td>Assistant Professor</td>\n",
       "      <td>NaN</td>\n",
       "      <td>NaN</td>\n",
       "    </tr>\n",
       "    <tr>\n",
       "      <th>2</th>\n",
       "      <td>Aaron Hedlund</td>\n",
       "      <td>male</td>\n",
       "      <td>NaN</td>\n",
       "      <td>NaN</td>\n",
       "      <td>NaN</td>\n",
       "      <td>NaN</td>\n",
       "      <td>NaN</td>\n",
       "      <td>NaN</td>\n",
       "      <td>2012.0</td>\n",
       "      <td>University of Pennsylvania</td>\n",
       "      <td>...</td>\n",
       "      <td>male</td>\n",
       "      <td>NaN</td>\n",
       "      <td>NaN</td>\n",
       "      <td>Baylor University</td>\n",
       "      <td>Academic</td>\n",
       "      <td>1.0</td>\n",
       "      <td>0.0</td>\n",
       "      <td>NaN</td>\n",
       "      <td>NaN</td>\n",
       "      <td>NaN</td>\n",
       "    </tr>\n",
       "    <tr>\n",
       "      <th>3</th>\n",
       "      <td>Abe, Naohito</td>\n",
       "      <td>unknown</td>\n",
       "      <td>NaN</td>\n",
       "      <td>NaN</td>\n",
       "      <td>NaN</td>\n",
       "      <td>NaN</td>\n",
       "      <td>NaN</td>\n",
       "      <td>NaN</td>\n",
       "      <td>2000.0</td>\n",
       "      <td>Yale</td>\n",
       "      <td>...</td>\n",
       "      <td>NaN</td>\n",
       "      <td>NaN</td>\n",
       "      <td>NaN</td>\n",
       "      <td>Hibotsutoshi University, Japan</td>\n",
       "      <td>NaN</td>\n",
       "      <td>1.0</td>\n",
       "      <td>NaN</td>\n",
       "      <td>NaN</td>\n",
       "      <td>NaN</td>\n",
       "      <td>NaN</td>\n",
       "    </tr>\n",
       "    <tr>\n",
       "      <th>4</th>\n",
       "      <td>Abhay Aneja</td>\n",
       "      <td>male</td>\n",
       "      <td>NaN</td>\n",
       "      <td>NaN</td>\n",
       "      <td>NaN</td>\n",
       "      <td>NaN</td>\n",
       "      <td>NaN</td>\n",
       "      <td>NaN</td>\n",
       "      <td>NaN</td>\n",
       "      <td>UC Berkeley</td>\n",
       "      <td>...</td>\n",
       "      <td>male</td>\n",
       "      <td>NaN</td>\n",
       "      <td>NaN</td>\n",
       "      <td>Berkeley Law</td>\n",
       "      <td>Academic</td>\n",
       "      <td>1.0</td>\n",
       "      <td>0.0</td>\n",
       "      <td>Assistant Professor</td>\n",
       "      <td>NaN</td>\n",
       "      <td>NaN</td>\n",
       "    </tr>\n",
       "    <tr>\n",
       "      <th>...</th>\n",
       "      <td>...</td>\n",
       "      <td>...</td>\n",
       "      <td>...</td>\n",
       "      <td>...</td>\n",
       "      <td>...</td>\n",
       "      <td>...</td>\n",
       "      <td>...</td>\n",
       "      <td>...</td>\n",
       "      <td>...</td>\n",
       "      <td>...</td>\n",
       "      <td>...</td>\n",
       "      <td>...</td>\n",
       "      <td>...</td>\n",
       "      <td>...</td>\n",
       "      <td>...</td>\n",
       "      <td>...</td>\n",
       "      <td>...</td>\n",
       "      <td>...</td>\n",
       "      <td>...</td>\n",
       "      <td>...</td>\n",
       "      <td>...</td>\n",
       "    </tr>\n",
       "    <tr>\n",
       "      <th>1468</th>\n",
       "      <td>Zigan Wang</td>\n",
       "      <td>unknown</td>\n",
       "      <td>NaN</td>\n",
       "      <td>Finance</td>\n",
       "      <td>NaN</td>\n",
       "      <td>NaN</td>\n",
       "      <td>NaN</td>\n",
       "      <td>NaN</td>\n",
       "      <td>2015.0</td>\n",
       "      <td>Columbia University</td>\n",
       "      <td>...</td>\n",
       "      <td>male</td>\n",
       "      <td>NaN</td>\n",
       "      <td>NaN</td>\n",
       "      <td>University of Hong Kong</td>\n",
       "      <td>Academic</td>\n",
       "      <td>1.0</td>\n",
       "      <td>0.0</td>\n",
       "      <td>NaN</td>\n",
       "      <td>NaN</td>\n",
       "      <td>NaN</td>\n",
       "    </tr>\n",
       "    <tr>\n",
       "      <th>1469</th>\n",
       "      <td>Zihao (Harry) Zhou</td>\n",
       "      <td>male</td>\n",
       "      <td>NaN</td>\n",
       "      <td>NaN</td>\n",
       "      <td>NaN</td>\n",
       "      <td>NaN</td>\n",
       "      <td>NaN</td>\n",
       "      <td>NaN</td>\n",
       "      <td>2021.0</td>\n",
       "      <td>UC Berkeley</td>\n",
       "      <td>...</td>\n",
       "      <td>male</td>\n",
       "      <td>NaN</td>\n",
       "      <td>NaN</td>\n",
       "      <td>University College London – School of Management</td>\n",
       "      <td>Academic</td>\n",
       "      <td>1.0</td>\n",
       "      <td>0.0</td>\n",
       "      <td>Assistant Professor</td>\n",
       "      <td>NaN</td>\n",
       "      <td>NaN</td>\n",
       "    </tr>\n",
       "    <tr>\n",
       "      <th>1470</th>\n",
       "      <td>Zijian He</td>\n",
       "      <td>unknown</td>\n",
       "      <td>NaN</td>\n",
       "      <td>Urban Economics, International Trade, Industri...</td>\n",
       "      <td>NaN</td>\n",
       "      <td>NaN</td>\n",
       "      <td>NaN</td>\n",
       "      <td>Costas ArkolakisSamuel KortumKatja Seim</td>\n",
       "      <td>2023.0</td>\n",
       "      <td>Yale</td>\n",
       "      <td>...</td>\n",
       "      <td>NaN</td>\n",
       "      <td>NaN</td>\n",
       "      <td>\"Essays on Urban and Spatial Economics\"</td>\n",
       "      <td>NaN</td>\n",
       "      <td>NaN</td>\n",
       "      <td>NaN</td>\n",
       "      <td>NaN</td>\n",
       "      <td>NaN</td>\n",
       "      <td>NaN</td>\n",
       "      <td>NaN</td>\n",
       "    </tr>\n",
       "    <tr>\n",
       "      <th>1471</th>\n",
       "      <td>Zimmerman, Seth</td>\n",
       "      <td>unknown</td>\n",
       "      <td>NaN</td>\n",
       "      <td>NaN</td>\n",
       "      <td>NaN</td>\n",
       "      <td>NaN</td>\n",
       "      <td>NaN</td>\n",
       "      <td>NaN</td>\n",
       "      <td>2014.0</td>\n",
       "      <td>Yale</td>\n",
       "      <td>...</td>\n",
       "      <td>NaN</td>\n",
       "      <td>NaN</td>\n",
       "      <td>NaN</td>\n",
       "      <td>Princeton U Post-doc, then U of Chicago, Booth...</td>\n",
       "      <td>NaN</td>\n",
       "      <td>1.0</td>\n",
       "      <td>NaN</td>\n",
       "      <td>NaN</td>\n",
       "      <td>NaN</td>\n",
       "      <td>NaN</td>\n",
       "    </tr>\n",
       "    <tr>\n",
       "      <th>1472</th>\n",
       "      <td>Łukasz Langer</td>\n",
       "      <td>male</td>\n",
       "      <td>NaN</td>\n",
       "      <td>NaN</td>\n",
       "      <td>NaN</td>\n",
       "      <td>NaN</td>\n",
       "      <td>NaN</td>\n",
       "      <td>NaN</td>\n",
       "      <td>2022.0</td>\n",
       "      <td>UC Berkeley</td>\n",
       "      <td>...</td>\n",
       "      <td>male</td>\n",
       "      <td>NaN</td>\n",
       "      <td>NaN</td>\n",
       "      <td>Cornerstone Research</td>\n",
       "      <td>Other</td>\n",
       "      <td>0.0</td>\n",
       "      <td>0.0</td>\n",
       "      <td>PhD Associate</td>\n",
       "      <td>NaN</td>\n",
       "      <td>NaN</td>\n",
       "    </tr>\n",
       "  </tbody>\n",
       "</table>\n",
       "<p>1473 rows × 25 columns</p>\n",
       "</div>"
      ],
      "text/plain": [
       "                    name gender_guess  \\\n",
       "0             Aaron Mora         male   \n",
       "1          Aaron Swoboda         male   \n",
       "2          Aaron Hedlund         male   \n",
       "3           Abe, Naohito      unknown   \n",
       "4            Abhay Aneja         male   \n",
       "...                  ...          ...   \n",
       "1468          Zigan Wang      unknown   \n",
       "1469  Zihao (Harry) Zhou         male   \n",
       "1470           Zijian He      unknown   \n",
       "1471     Zimmerman, Seth      unknown   \n",
       "1472       Łukasz Langer         male   \n",
       "\n",
       "                                         school_website  \\\n",
       "0     https://economics.sas.upenn.edu/people/aaron-mora   \n",
       "1                                                   NaN   \n",
       "2                                                   NaN   \n",
       "3                                                   NaN   \n",
       "4                                                   NaN   \n",
       "...                                                 ...   \n",
       "1468                                                NaN   \n",
       "1469                                                NaN   \n",
       "1470                                                NaN   \n",
       "1471                                                NaN   \n",
       "1472                                                NaN   \n",
       "\n",
       "                                                  field  \\\n",
       "0     Econometrics, Financial Economics, Industrial ...   \n",
       "1                                                   NaN   \n",
       "2                                                   NaN   \n",
       "3                                                   NaN   \n",
       "4                                                   NaN   \n",
       "...                                                 ...   \n",
       "1468                                            Finance   \n",
       "1469                                                NaN   \n",
       "1470  Urban Economics, International Trade, Industri...   \n",
       "1471                                                NaN   \n",
       "1472                                                NaN   \n",
       "\n",
       "                                             paper_name paper_link  \\\n",
       "0     Revealed Preference for Green Stocks: An Asset...        NaN   \n",
       "1                                                   NaN        NaN   \n",
       "2                                                   NaN        NaN   \n",
       "3                                                   NaN        NaN   \n",
       "4                                                   NaN        NaN   \n",
       "...                                                 ...        ...   \n",
       "1468                                                NaN        NaN   \n",
       "1469                                                NaN        NaN   \n",
       "1470                                                NaN        NaN   \n",
       "1471                                                NaN        NaN   \n",
       "1472                                                NaN        NaN   \n",
       "\n",
       "                                      chair  \\\n",
       "0     Francis X. Diebold, Frank Schorfheide   \n",
       "1                                       NaN   \n",
       "2                                       NaN   \n",
       "3                                       NaN   \n",
       "4                                       NaN   \n",
       "...                                     ...   \n",
       "1468                                    NaN   \n",
       "1469                                    NaN   \n",
       "1470                                    NaN   \n",
       "1471                                    NaN   \n",
       "1472                                    NaN   \n",
       "\n",
       "                             committee_member    year  \\\n",
       "0                                         NaN  2024.0   \n",
       "1                                         NaN  2011.0   \n",
       "2                                         NaN  2012.0   \n",
       "3                                         NaN  2000.0   \n",
       "4                                         NaN     NaN   \n",
       "...                                       ...     ...   \n",
       "1468                                      NaN  2015.0   \n",
       "1469                                      NaN  2021.0   \n",
       "1470  Costas ArkolakisSamuel KortumKatja Seim  2023.0   \n",
       "1471                                      NaN  2014.0   \n",
       "1472                                      NaN  2022.0   \n",
       "\n",
       "                      university  ... gender_manual secondaryresearchfocus  \\\n",
       "0     University of Pennsylvania  ...           NaN                    NaN   \n",
       "1                    UC Berkeley  ...           NaN                    NaN   \n",
       "2     University of Pennsylvania  ...          male                    NaN   \n",
       "3                           Yale  ...           NaN                    NaN   \n",
       "4                    UC Berkeley  ...          male                    NaN   \n",
       "...                          ...  ...           ...                    ...   \n",
       "1468         Columbia University  ...          male                    NaN   \n",
       "1469                 UC Berkeley  ...          male                    NaN   \n",
       "1470                        Yale  ...           NaN                    NaN   \n",
       "1471                        Yale  ...           NaN                    NaN   \n",
       "1472                 UC Berkeley  ...          male                    NaN   \n",
       "\n",
       "                            dissertation_name  \\\n",
       "0                                         NaN   \n",
       "1                                         NaN   \n",
       "2                                         NaN   \n",
       "3                                         NaN   \n",
       "4                                         NaN   \n",
       "...                                       ...   \n",
       "1468                                      NaN   \n",
       "1469                                      NaN   \n",
       "1470  \"Essays on Urban and Spatial Economics\"   \n",
       "1471                                      NaN   \n",
       "1472                                      NaN   \n",
       "\n",
       "                                              placement placement_type  \\\n",
       "0                          University of South Carolina       Academic   \n",
       "1                                                   NaN       Academic   \n",
       "2                                     Baylor University       Academic   \n",
       "3                        Hibotsutoshi University, Japan            NaN   \n",
       "4                                          Berkeley Law       Academic   \n",
       "...                                                 ...            ...   \n",
       "1468                            University of Hong Kong       Academic   \n",
       "1469   University College London – School of Management       Academic   \n",
       "1470                                                NaN            NaN   \n",
       "1471  Princeton U Post-doc, then U of Chicago, Booth...            NaN   \n",
       "1472                               Cornerstone Research          Other   \n",
       "\n",
       "     academic postdoc             position degree references  \n",
       "0         1.0     0.0                  NaN    NaN        NaN  \n",
       "1         1.0     0.0  Assistant Professor    NaN        NaN  \n",
       "2         1.0     0.0                  NaN    NaN        NaN  \n",
       "3         1.0     NaN                  NaN    NaN        NaN  \n",
       "4         1.0     0.0  Assistant Professor    NaN        NaN  \n",
       "...       ...     ...                  ...    ...        ...  \n",
       "1468      1.0     0.0                  NaN    NaN        NaN  \n",
       "1469      1.0     0.0  Assistant Professor    NaN        NaN  \n",
       "1470      NaN     NaN                  NaN    NaN        NaN  \n",
       "1471      1.0     NaN                  NaN    NaN        NaN  \n",
       "1472      0.0     0.0        PhD Associate    NaN        NaN  \n",
       "\n",
       "[1473 rows x 25 columns]"
      ]
     },
     "execution_count": 29,
     "metadata": {},
     "output_type": "execute_result"
    }
   ],
   "source": [
    "old_df"
   ]
  },
  {
   "cell_type": "code",
   "execution_count": 32,
   "metadata": {},
   "outputs": [
    {
     "data": {
      "text/plain": [
       "651"
      ]
     },
     "execution_count": 32,
     "metadata": {},
     "output_type": "execute_result"
    }
   ],
   "source": [
    "old_df[old_df['gender_guess'] == 'unknown'].shape[0]\n"
   ]
  },
  {
   "cell_type": "code",
   "execution_count": 38,
   "metadata": {},
   "outputs": [],
   "source": [
    "unknown_gender_df = old_df[old_df['gender_guess'] == 'unknown']\n",
    "with open('../data/raw/old_data/revise/unknown_gender_names.txt', 'w') as f:\n",
    "    for name in unknown_gender_df['name'].tolist():\n",
    "        f.write(f\"{name}\\n\")\n",
    "\n"
   ]
  },
  {
   "cell_type": "code",
   "execution_count": 50,
   "metadata": {},
   "outputs": [
    {
     "data": {
      "text/html": [
       "<div>\n",
       "<style scoped>\n",
       "    .dataframe tbody tr th:only-of-type {\n",
       "        vertical-align: middle;\n",
       "    }\n",
       "\n",
       "    .dataframe tbody tr th {\n",
       "        vertical-align: top;\n",
       "    }\n",
       "\n",
       "    .dataframe thead th {\n",
       "        text-align: right;\n",
       "    }\n",
       "</style>\n",
       "<table border=\"1\" class=\"dataframe\">\n",
       "  <thead>\n",
       "    <tr style=\"text-align: right;\">\n",
       "      <th></th>\n",
       "      <th>name</th>\n",
       "      <th>gender</th>\n",
       "    </tr>\n",
       "  </thead>\n",
       "  <tbody>\n",
       "    <tr>\n",
       "      <th>0</th>\n",
       "      <td>Abe, Naohito</td>\n",
       "      <td>Male</td>\n",
       "    </tr>\n",
       "    <tr>\n",
       "      <th>1</th>\n",
       "      <td>Abhi Gupta</td>\n",
       "      <td>Male</td>\n",
       "    </tr>\n",
       "    <tr>\n",
       "      <th>2</th>\n",
       "      <td>Abhinash Borah</td>\n",
       "      <td>Male</td>\n",
       "    </tr>\n",
       "    <tr>\n",
       "      <th>3</th>\n",
       "      <td>Adhemar Villani Junior</td>\n",
       "      <td>Male</td>\n",
       "    </tr>\n",
       "    <tr>\n",
       "      <th>4</th>\n",
       "      <td>Adhvaryu, Achyuta</td>\n",
       "      <td>Male</td>\n",
       "    </tr>\n",
       "  </tbody>\n",
       "</table>\n",
       "</div>"
      ],
      "text/plain": [
       "                     name gender\n",
       "0            Abe, Naohito   Male\n",
       "1              Abhi Gupta   Male\n",
       "2          Abhinash Borah   Male\n",
       "3  Adhemar Villani Junior   Male\n",
       "4       Adhvaryu, Achyuta   Male"
      ]
     },
     "execution_count": 50,
     "metadata": {},
     "output_type": "execute_result"
    }
   ],
   "source": [
    "gender_filled_df = pd.read_csv('../data/raw/old_data/revise/unknown_gender_names.csv')\n",
    "gender_filled_df.head()"
   ]
  },
  {
   "cell_type": "code",
   "execution_count": 57,
   "metadata": {},
   "outputs": [
    {
     "data": {
      "text/plain": [
       "0"
      ]
     },
     "execution_count": 57,
     "metadata": {},
     "output_type": "execute_result"
    }
   ],
   "source": [
    "# Clean names by removing \\xa0 characters\n",
    "old_df['name'] = old_df['name'].str.replace('\\xa0', ' ')\n",
    "gender_filled_df['name'] = gender_filled_df['name'].str.replace('\\xa0', ' ')\n",
    "\n",
    "# Update gender_guess for unknown gender entries using gender_filled_df\n",
    "for idx, row in old_df[old_df['gender_guess'] == 'unknown'].iterrows():\n",
    "    name = row['name']\n",
    "    # Look up name in gender_filled_df\n",
    "    gender_match = gender_filled_df[gender_filled_df['name'] == name]\n",
    "    if not gender_match.empty:\n",
    "        old_df.loc[idx, 'gender_guess'] = gender_match.iloc[0]['gender']\n",
    "\n",
    "old_df.loc[old_df['name'] == 'Sarig, Oren', 'gender_guess'] = 'Male'\n",
    "old_df.loc[old_df['name'] == 'Seungjun Baek', 'gender_guess'] = 'Male'\n",
    "\n",
    "old_df[old_df['gender_guess'] == 'unknown'].shape[0]\n"
   ]
  },
  {
   "cell_type": "code",
   "execution_count": 60,
   "metadata": {},
   "outputs": [
    {
     "data": {
      "text/html": [
       "<div>\n",
       "<style scoped>\n",
       "    .dataframe tbody tr th:only-of-type {\n",
       "        vertical-align: middle;\n",
       "    }\n",
       "\n",
       "    .dataframe tbody tr th {\n",
       "        vertical-align: top;\n",
       "    }\n",
       "\n",
       "    .dataframe thead th {\n",
       "        text-align: right;\n",
       "    }\n",
       "</style>\n",
       "<table border=\"1\" class=\"dataframe\">\n",
       "  <thead>\n",
       "    <tr style=\"text-align: right;\">\n",
       "      <th></th>\n",
       "      <th>name</th>\n",
       "      <th>gender_guess</th>\n",
       "      <th>school_website</th>\n",
       "      <th>field</th>\n",
       "      <th>paper_name</th>\n",
       "      <th>paper_link</th>\n",
       "      <th>chair</th>\n",
       "      <th>committee_member</th>\n",
       "      <th>year</th>\n",
       "      <th>university</th>\n",
       "      <th>...</th>\n",
       "      <th>gender_manual</th>\n",
       "      <th>secondaryresearchfocus</th>\n",
       "      <th>dissertation_name</th>\n",
       "      <th>placement</th>\n",
       "      <th>placement_type</th>\n",
       "      <th>academic</th>\n",
       "      <th>postdoc</th>\n",
       "      <th>position</th>\n",
       "      <th>degree</th>\n",
       "      <th>references</th>\n",
       "    </tr>\n",
       "  </thead>\n",
       "  <tbody>\n",
       "    <tr>\n",
       "      <th>0</th>\n",
       "      <td>Aaron Mora</td>\n",
       "      <td>male</td>\n",
       "      <td>https://economics.sas.upenn.edu/people/aaron-mora</td>\n",
       "      <td>Econometrics, Financial Economics, Industrial ...</td>\n",
       "      <td>Revealed Preference for Green Stocks: An Asset...</td>\n",
       "      <td>NaN</td>\n",
       "      <td>Francis X. Diebold, Frank Schorfheide</td>\n",
       "      <td>NaN</td>\n",
       "      <td>2024.0</td>\n",
       "      <td>University of Pennsylvania</td>\n",
       "      <td>...</td>\n",
       "      <td>male</td>\n",
       "      <td>NaN</td>\n",
       "      <td>NaN</td>\n",
       "      <td>University of South Carolina</td>\n",
       "      <td>Academic</td>\n",
       "      <td>1.0</td>\n",
       "      <td>0.0</td>\n",
       "      <td>NaN</td>\n",
       "      <td>NaN</td>\n",
       "      <td>NaN</td>\n",
       "    </tr>\n",
       "    <tr>\n",
       "      <th>1</th>\n",
       "      <td>Aaron Swoboda</td>\n",
       "      <td>male</td>\n",
       "      <td>NaN</td>\n",
       "      <td>NaN</td>\n",
       "      <td>NaN</td>\n",
       "      <td>NaN</td>\n",
       "      <td>NaN</td>\n",
       "      <td>NaN</td>\n",
       "      <td>2011.0</td>\n",
       "      <td>UC Berkeley</td>\n",
       "      <td>...</td>\n",
       "      <td>male</td>\n",
       "      <td>NaN</td>\n",
       "      <td>NaN</td>\n",
       "      <td>NaN</td>\n",
       "      <td>Academic</td>\n",
       "      <td>1.0</td>\n",
       "      <td>0.0</td>\n",
       "      <td>Assistant Professor</td>\n",
       "      <td>NaN</td>\n",
       "      <td>NaN</td>\n",
       "    </tr>\n",
       "    <tr>\n",
       "      <th>2</th>\n",
       "      <td>Aaron Hedlund</td>\n",
       "      <td>male</td>\n",
       "      <td>NaN</td>\n",
       "      <td>NaN</td>\n",
       "      <td>NaN</td>\n",
       "      <td>NaN</td>\n",
       "      <td>NaN</td>\n",
       "      <td>NaN</td>\n",
       "      <td>2012.0</td>\n",
       "      <td>University of Pennsylvania</td>\n",
       "      <td>...</td>\n",
       "      <td>male</td>\n",
       "      <td>NaN</td>\n",
       "      <td>NaN</td>\n",
       "      <td>Baylor University</td>\n",
       "      <td>Academic</td>\n",
       "      <td>1.0</td>\n",
       "      <td>0.0</td>\n",
       "      <td>NaN</td>\n",
       "      <td>NaN</td>\n",
       "      <td>NaN</td>\n",
       "    </tr>\n",
       "  </tbody>\n",
       "</table>\n",
       "<p>3 rows × 25 columns</p>\n",
       "</div>"
      ],
      "text/plain": [
       "            name gender_guess  \\\n",
       "0     Aaron Mora         male   \n",
       "1  Aaron Swoboda         male   \n",
       "2  Aaron Hedlund         male   \n",
       "\n",
       "                                      school_website  \\\n",
       "0  https://economics.sas.upenn.edu/people/aaron-mora   \n",
       "1                                                NaN   \n",
       "2                                                NaN   \n",
       "\n",
       "                                               field  \\\n",
       "0  Econometrics, Financial Economics, Industrial ...   \n",
       "1                                                NaN   \n",
       "2                                                NaN   \n",
       "\n",
       "                                          paper_name paper_link  \\\n",
       "0  Revealed Preference for Green Stocks: An Asset...        NaN   \n",
       "1                                                NaN        NaN   \n",
       "2                                                NaN        NaN   \n",
       "\n",
       "                                   chair committee_member    year  \\\n",
       "0  Francis X. Diebold, Frank Schorfheide              NaN  2024.0   \n",
       "1                                    NaN              NaN  2011.0   \n",
       "2                                    NaN              NaN  2012.0   \n",
       "\n",
       "                   university  ... gender_manual secondaryresearchfocus  \\\n",
       "0  University of Pennsylvania  ...          male                    NaN   \n",
       "1                 UC Berkeley  ...          male                    NaN   \n",
       "2  University of Pennsylvania  ...          male                    NaN   \n",
       "\n",
       "   dissertation_name                     placement placement_type academic  \\\n",
       "0                NaN  University of South Carolina       Academic      1.0   \n",
       "1                NaN                           NaN       Academic      1.0   \n",
       "2                NaN             Baylor University       Academic      1.0   \n",
       "\n",
       "  postdoc             position degree references  \n",
       "0     0.0                  NaN    NaN        NaN  \n",
       "1     0.0  Assistant Professor    NaN        NaN  \n",
       "2     0.0                  NaN    NaN        NaN  \n",
       "\n",
       "[3 rows x 25 columns]"
      ]
     },
     "execution_count": 60,
     "metadata": {},
     "output_type": "execute_result"
    }
   ],
   "source": [
    "old_df['gender_manual'] = old_df['gender_guess']\n",
    "old_df.head(3)"
   ]
  },
  {
   "cell_type": "markdown",
   "metadata": {},
   "source": [
    "Now are done with gender, time to work on college and placement"
   ]
  },
  {
   "cell_type": "code",
   "execution_count": 61,
   "metadata": {},
   "outputs": [
    {
     "data": {
      "text/plain": [
       "101"
      ]
     },
     "execution_count": 61,
     "metadata": {},
     "output_type": "execute_result"
    }
   ],
   "source": [
    "year_null = old_df[old_df['year'].isna()].shape[0]\n",
    "year_null"
   ]
  },
  {
   "cell_type": "code",
   "execution_count": 62,
   "metadata": {},
   "outputs": [
    {
     "data": {
      "text/plain": [
       "20"
      ]
     },
     "execution_count": 62,
     "metadata": {},
     "output_type": "execute_result"
    }
   ],
   "source": [
    "university_null = old_df[old_df['university'].isna()].shape[0]\n",
    "university_null"
   ]
  },
  {
   "cell_type": "code",
   "execution_count": 63,
   "metadata": {},
   "outputs": [
    {
     "data": {
      "text/plain": [
       "419"
      ]
     },
     "execution_count": 63,
     "metadata": {},
     "output_type": "execute_result"
    }
   ],
   "source": [
    "placement_null = old_df[old_df['placement'].isna()].shape[0]\n",
    "placement_null"
   ]
  },
  {
   "cell_type": "code",
   "execution_count": 66,
   "metadata": {},
   "outputs": [
    {
     "data": {
      "text/plain": [
       "array(['UC Berkeley', nan], dtype=object)"
      ]
     },
     "execution_count": 66,
     "metadata": {},
     "output_type": "execute_result"
    }
   ],
   "source": [
    "old_df[old_df['year'].isna()]['university'].unique()"
   ]
  },
  {
   "cell_type": "markdown",
   "metadata": {},
   "source": [
    "I am going to redo UC Berkely, and findout what is the missing university"
   ]
  },
  {
   "cell_type": "code",
   "execution_count": 68,
   "metadata": {},
   "outputs": [
    {
     "data": {
      "text/plain": [
       "Index(['name', 'gender_guess', 'school_website', 'field', 'paper_name',\n",
       "       'paper_link', 'chair', 'committee_member', 'year', 'university',\n",
       "       'department', 'cv_link', 'dissertation', 'personal_website', 'email',\n",
       "       'gender_manual', 'secondaryresearchfocus', 'dissertation_name',\n",
       "       'placement', 'placement_type', 'academic', 'postdoc', 'position',\n",
       "       'degree', 'references'],\n",
       "      dtype='object')"
      ]
     },
     "execution_count": 68,
     "metadata": {},
     "output_type": "execute_result"
    }
   ],
   "source": [
    "old_df.columns"
   ]
  },
  {
   "cell_type": "code",
   "execution_count": 71,
   "metadata": {},
   "outputs": [
    {
     "data": {
      "text/html": [
       "<div>\n",
       "<style scoped>\n",
       "    .dataframe tbody tr th:only-of-type {\n",
       "        vertical-align: middle;\n",
       "    }\n",
       "\n",
       "    .dataframe tbody tr th {\n",
       "        vertical-align: top;\n",
       "    }\n",
       "\n",
       "    .dataframe thead th {\n",
       "        text-align: right;\n",
       "    }\n",
       "</style>\n",
       "<table border=\"1\" class=\"dataframe\">\n",
       "  <thead>\n",
       "    <tr style=\"text-align: right;\">\n",
       "      <th></th>\n",
       "      <th>name</th>\n",
       "      <th>gender_guess</th>\n",
       "      <th>school_website</th>\n",
       "      <th>field</th>\n",
       "      <th>paper_name</th>\n",
       "      <th>paper_link</th>\n",
       "      <th>chair</th>\n",
       "      <th>committee_member</th>\n",
       "      <th>year</th>\n",
       "      <th>university</th>\n",
       "      <th>...</th>\n",
       "      <th>gender_manual</th>\n",
       "      <th>secondaryresearchfocus</th>\n",
       "      <th>dissertation_name</th>\n",
       "      <th>placement</th>\n",
       "      <th>placement_type</th>\n",
       "      <th>academic</th>\n",
       "      <th>postdoc</th>\n",
       "      <th>position</th>\n",
       "      <th>degree</th>\n",
       "      <th>references</th>\n",
       "    </tr>\n",
       "  </thead>\n",
       "  <tbody>\n",
       "  </tbody>\n",
       "</table>\n",
       "<p>0 rows × 25 columns</p>\n",
       "</div>"
      ],
      "text/plain": [
       "Empty DataFrame\n",
       "Columns: [name, gender_guess, school_website, field, paper_name, paper_link, chair, committee_member, year, university, department, cv_link, dissertation, personal_website, email, gender_manual, secondaryresearchfocus, dissertation_name, placement, placement_type, academic, postdoc, position, degree, references]\n",
       "Index: []\n",
       "\n",
       "[0 rows x 25 columns]"
      ]
     },
     "execution_count": 71,
     "metadata": {},
     "output_type": "execute_result"
    }
   ],
   "source": [
    "old_df.loc[old_df['name'] == 'Oh, Ryungha', 'university'] = 'Yale'\n",
    "old_df.loc[old_df['name'] == 'Oh, Ryungha', 'department'] = 'Economics'\n",
    "\n",
    "# Then update all other missing universities to Stanford\n",
    "old_df.loc[old_df['university'].isna(), 'university'] = 'Stanford'\n",
    "old_df.loc[old_df['university'].isna(), 'department'] = 'School of Humanities and Sciences'\n",
    "\n",
    "# Display the previously missing rows to verify changes\n",
    "old_df.loc[old_df['university'].isna()]"
   ]
  },
  {
   "cell_type": "code",
   "execution_count": 72,
   "metadata": {},
   "outputs": [
    {
     "data": {
      "text/plain": [
       "array(['UC Berkeley', 'Stanford', 'Yale'], dtype=object)"
      ]
     },
     "execution_count": 72,
     "metadata": {},
     "output_type": "execute_result"
    }
   ],
   "source": [
    "# Redo the years\n",
    "old_df[old_df['year'].isna()]['university'].unique()"
   ]
  },
  {
   "cell_type": "code",
   "execution_count": 73,
   "metadata": {},
   "outputs": [],
   "source": [
    "# Update Yale missing years\n",
    "old_df.loc[(old_df['year'].isna()) & (old_df['university'] == 'Yale'), 'year'] = 2024"
   ]
  },
  {
   "cell_type": "code",
   "execution_count": 74,
   "metadata": {},
   "outputs": [
    {
     "data": {
      "text/plain": [
       "array(['UC Berkeley', 'Stanford'], dtype=object)"
      ]
     },
     "execution_count": 74,
     "metadata": {},
     "output_type": "execute_result"
    }
   ],
   "source": [
    "old_df[old_df['year'].isna()]['university'].unique()"
   ]
  },
  {
   "cell_type": "code",
   "execution_count": null,
   "metadata": {},
   "outputs": [],
   "source": []
  },
  {
   "cell_type": "code",
   "execution_count": 79,
   "metadata": {},
   "outputs": [
    {
     "data": {
      "text/html": [
       "<div>\n",
       "<style scoped>\n",
       "    .dataframe tbody tr th:only-of-type {\n",
       "        vertical-align: middle;\n",
       "    }\n",
       "\n",
       "    .dataframe tbody tr th {\n",
       "        vertical-align: top;\n",
       "    }\n",
       "\n",
       "    .dataframe thead th {\n",
       "        text-align: right;\n",
       "    }\n",
       "</style>\n",
       "<table border=\"1\" class=\"dataframe\">\n",
       "  <thead>\n",
       "    <tr style=\"text-align: right;\">\n",
       "      <th></th>\n",
       "      <th>name</th>\n",
       "      <th>gender_guess</th>\n",
       "      <th>school_website</th>\n",
       "      <th>field</th>\n",
       "      <th>paper_name</th>\n",
       "      <th>paper_link</th>\n",
       "      <th>chair</th>\n",
       "      <th>committee_member</th>\n",
       "      <th>year</th>\n",
       "      <th>university</th>\n",
       "      <th>...</th>\n",
       "      <th>gender_manual</th>\n",
       "      <th>secondaryresearchfocus</th>\n",
       "      <th>dissertation_name</th>\n",
       "      <th>placement</th>\n",
       "      <th>placement_type</th>\n",
       "      <th>academic</th>\n",
       "      <th>postdoc</th>\n",
       "      <th>position</th>\n",
       "      <th>degree</th>\n",
       "      <th>references</th>\n",
       "    </tr>\n",
       "  </thead>\n",
       "  <tbody>\n",
       "    <tr>\n",
       "      <th>4</th>\n",
       "      <td>Abhay Aneja</td>\n",
       "      <td>male</td>\n",
       "      <td>NaN</td>\n",
       "      <td>NaN</td>\n",
       "      <td>NaN</td>\n",
       "      <td>NaN</td>\n",
       "      <td>NaN</td>\n",
       "      <td>NaN</td>\n",
       "      <td>NaN</td>\n",
       "      <td>UC Berkeley</td>\n",
       "      <td>...</td>\n",
       "      <td>male</td>\n",
       "      <td>NaN</td>\n",
       "      <td>NaN</td>\n",
       "      <td>Berkeley Law</td>\n",
       "      <td>Academic</td>\n",
       "      <td>1.0</td>\n",
       "      <td>0.0</td>\n",
       "      <td>Assistant Professor</td>\n",
       "      <td>NaN</td>\n",
       "      <td>NaN</td>\n",
       "    </tr>\n",
       "    <tr>\n",
       "      <th>16</th>\n",
       "      <td>Aisling Scott</td>\n",
       "      <td>female</td>\n",
       "      <td>NaN</td>\n",
       "      <td>NaN</td>\n",
       "      <td>NaN</td>\n",
       "      <td>NaN</td>\n",
       "      <td>NaN</td>\n",
       "      <td>NaN</td>\n",
       "      <td>NaN</td>\n",
       "      <td>UC Berkeley</td>\n",
       "      <td>...</td>\n",
       "      <td>female</td>\n",
       "      <td>NaN</td>\n",
       "      <td>NaN</td>\n",
       "      <td>Facebook</td>\n",
       "      <td>Other</td>\n",
       "      <td>0.0</td>\n",
       "      <td>0.0</td>\n",
       "      <td>People Analytics Team</td>\n",
       "      <td>NaN</td>\n",
       "      <td>NaN</td>\n",
       "    </tr>\n",
       "    <tr>\n",
       "      <th>31</th>\n",
       "      <td>Alexander Van Zant</td>\n",
       "      <td>male</td>\n",
       "      <td>NaN</td>\n",
       "      <td>NaN</td>\n",
       "      <td>NaN</td>\n",
       "      <td>NaN</td>\n",
       "      <td>NaN</td>\n",
       "      <td>NaN</td>\n",
       "      <td>NaN</td>\n",
       "      <td>UC Berkeley</td>\n",
       "      <td>...</td>\n",
       "      <td>male</td>\n",
       "      <td>NaN</td>\n",
       "      <td>NaN</td>\n",
       "      <td>University of Pennsylvania – Wharton</td>\n",
       "      <td>Other</td>\n",
       "      <td>0.0</td>\n",
       "      <td>0.0</td>\n",
       "      <td>Post-Doctoral Research Fellow</td>\n",
       "      <td>NaN</td>\n",
       "      <td>NaN</td>\n",
       "    </tr>\n",
       "  </tbody>\n",
       "</table>\n",
       "<p>3 rows × 25 columns</p>\n",
       "</div>"
      ],
      "text/plain": [
       "                  name gender_guess school_website field paper_name  \\\n",
       "4          Abhay Aneja         male            NaN   NaN        NaN   \n",
       "16       Aisling Scott       female            NaN   NaN        NaN   \n",
       "31  Alexander Van Zant         male            NaN   NaN        NaN   \n",
       "\n",
       "   paper_link chair committee_member  year   university  ... gender_manual  \\\n",
       "4         NaN   NaN              NaN   NaN  UC Berkeley  ...          male   \n",
       "16        NaN   NaN              NaN   NaN  UC Berkeley  ...        female   \n",
       "31        NaN   NaN              NaN   NaN  UC Berkeley  ...          male   \n",
       "\n",
       "   secondaryresearchfocus  dissertation_name  \\\n",
       "4                     NaN                NaN   \n",
       "16                    NaN                NaN   \n",
       "31                    NaN                NaN   \n",
       "\n",
       "                               placement placement_type academic postdoc  \\\n",
       "4                           Berkeley Law       Academic      1.0     0.0   \n",
       "16                              Facebook          Other      0.0     0.0   \n",
       "31  University of Pennsylvania – Wharton          Other      0.0     0.0   \n",
       "\n",
       "                         position degree references  \n",
       "4             Assistant Professor    NaN        NaN  \n",
       "16          People Analytics Team    NaN        NaN  \n",
       "31  Post-Doctoral Research Fellow    NaN        NaN  \n",
       "\n",
       "[3 rows x 25 columns]"
      ]
     },
     "execution_count": 79,
     "metadata": {},
     "output_type": "execute_result"
    }
   ],
   "source": [
    "old_df.loc[(old_df['year'].isna()) & (old_df['university'] == 'UC Berkeley')].head(3)\n",
    "# Update Stanford missing years \n"
   ]
  },
  {
   "cell_type": "code",
   "execution_count": 81,
   "metadata": {},
   "outputs": [],
   "source": [
    "import requests\n",
    "import os\n",
    "\n",
    "# Create directory if it doesn't exist\n",
    "os.makedirs('../data/raw/UC_Berkeley', exist_ok=True)\n",
    "\n",
    "# URL to scrape\n",
    "url = \"https://haas.berkeley.edu/phd/careers/job-placements/\"\n",
    "\n",
    "# Add headers to mimic a browser request\n",
    "headers = {\n",
    "    'User-Agent': 'Mozilla/5.0 (Windows NT 10.0; Win64; x64) AppleWebKit/537.36 (KHTML, like Gecko) Chrome/91.0.4472.124 Safari/537.36'\n",
    "}\n",
    "\n",
    "# Get the page content with headers\n",
    "response = requests.get(url, headers=headers)\n",
    "\n",
    "# Save the HTML content\n",
    "with open('../data/raw/UC_Berkeley/placement.html', 'w', encoding='utf-8') as f:\n",
    "    f.write(response.text)\n",
    "\n"
   ]
  },
  {
   "cell_type": "code",
   "execution_count": 90,
   "metadata": {},
   "outputs": [
    {
     "data": {
      "text/plain": [
       "array([2024, 2023, 2022, 2021, 2020, 2019, 2018, 2017, 2016, 2015, 2014,\n",
       "       2013])"
      ]
     },
     "metadata": {},
     "output_type": "display_data"
    },
    {
     "data": {
      "text/html": [
       "<div>\n",
       "<style scoped>\n",
       "    .dataframe tbody tr th:only-of-type {\n",
       "        vertical-align: middle;\n",
       "    }\n",
       "\n",
       "    .dataframe tbody tr th {\n",
       "        vertical-align: top;\n",
       "    }\n",
       "\n",
       "    .dataframe thead th {\n",
       "        text-align: right;\n",
       "    }\n",
       "</style>\n",
       "<table border=\"1\" class=\"dataframe\">\n",
       "  <thead>\n",
       "    <tr style=\"text-align: right;\">\n",
       "      <th></th>\n",
       "      <th>name</th>\n",
       "      <th>year</th>\n",
       "      <th>placement</th>\n",
       "    </tr>\n",
       "  </thead>\n",
       "  <tbody>\n",
       "    <tr>\n",
       "      <th>0</th>\n",
       "      <td>Sandy Campbell</td>\n",
       "      <td>2024</td>\n",
       "      <td>Postdoc, University of California, Los Angeles</td>\n",
       "    </tr>\n",
       "    <tr>\n",
       "      <th>1</th>\n",
       "      <td>Andrew Choi</td>\n",
       "      <td>2024</td>\n",
       "      <td>Postdoc, University College London</td>\n",
       "    </tr>\n",
       "    <tr>\n",
       "      <th>2</th>\n",
       "      <td>Tianyu Han</td>\n",
       "      <td>2024</td>\n",
       "      <td>Assistant Professor, Hong Kong University of S...</td>\n",
       "    </tr>\n",
       "    <tr>\n",
       "      <th>3</th>\n",
       "      <td>Lukas Leucht</td>\n",
       "      <td>2024</td>\n",
       "      <td>Assistant Professor, University of Oxford</td>\n",
       "    </tr>\n",
       "    <tr>\n",
       "      <th>4</th>\n",
       "      <td>Kimberlyn Munevar</td>\n",
       "      <td>2024</td>\n",
       "      <td>Assistant Professor, Texas A&amp;M University</td>\n",
       "    </tr>\n",
       "    <tr>\n",
       "      <th>...</th>\n",
       "      <td>...</td>\n",
       "      <td>...</td>\n",
       "      <td>...</td>\n",
       "    </tr>\n",
       "    <tr>\n",
       "      <th>125</th>\n",
       "      <td>Shubhranshu Singh</td>\n",
       "      <td>2013</td>\n",
       "      <td>Assistant ProfessorJohns Hopkins University</td>\n",
       "    </tr>\n",
       "    <tr>\n",
       "      <th>126</th>\n",
       "      <td>Mary Kate Stimmler</td>\n",
       "      <td>2013</td>\n",
       "      <td>ResearcherGoogle,Inc.</td>\n",
       "    </tr>\n",
       "    <tr>\n",
       "      <th>127</th>\n",
       "      <td>Estelle (Yuan) Sun</td>\n",
       "      <td>2013</td>\n",
       "      <td>Assistant ProfessorBoston University</td>\n",
       "    </tr>\n",
       "    <tr>\n",
       "      <th>128</th>\n",
       "      <td>Aydin Uysal</td>\n",
       "      <td>2013</td>\n",
       "      <td>ResearcherMenta Capital,LLC</td>\n",
       "    </tr>\n",
       "    <tr>\n",
       "      <th>129</th>\n",
       "      <td>Fiona Kun Yao</td>\n",
       "      <td>2013</td>\n",
       "      <td>Assistant ProfessorUniversity of Illinois,Urba...</td>\n",
       "    </tr>\n",
       "  </tbody>\n",
       "</table>\n",
       "<p>130 rows × 3 columns</p>\n",
       "</div>"
      ],
      "text/plain": [
       "                   name  year  \\\n",
       "0        Sandy Campbell  2024   \n",
       "1           Andrew Choi  2024   \n",
       "2            Tianyu Han  2024   \n",
       "3          Lukas Leucht  2024   \n",
       "4     Kimberlyn Munevar  2024   \n",
       "..                  ...   ...   \n",
       "125   Shubhranshu Singh  2013   \n",
       "126  Mary Kate Stimmler  2013   \n",
       "127  Estelle (Yuan) Sun  2013   \n",
       "128         Aydin Uysal  2013   \n",
       "129       Fiona Kun Yao  2013   \n",
       "\n",
       "                                             placement  \n",
       "0       Postdoc, University of California, Los Angeles  \n",
       "1                   Postdoc, University College London  \n",
       "2    Assistant Professor, Hong Kong University of S...  \n",
       "3            Assistant Professor, University of Oxford  \n",
       "4            Assistant Professor, Texas A&M University  \n",
       "..                                                 ...  \n",
       "125        Assistant ProfessorJohns Hopkins University  \n",
       "126                              ResearcherGoogle,Inc.  \n",
       "127               Assistant ProfessorBoston University  \n",
       "128                        ResearcherMenta Capital,LLC  \n",
       "129  Assistant ProfessorUniversity of Illinois,Urba...  \n",
       "\n",
       "[130 rows x 3 columns]"
      ]
     },
     "execution_count": 90,
     "metadata": {},
     "output_type": "execute_result"
    }
   ],
   "source": [
    "def parse_berkeley_placements(html_content):\n",
    "    soup = BeautifulSoup(html_content, 'html.parser')\n",
    "    \n",
    "    placements = []\n",
    "    \n",
    "    # Manually add 2024 entries\n",
    "    entries_2024 = [\n",
    "        (\"Sandy Campbell\", \"Postdoc\", \"University of California, Los Angeles\"),\n",
    "        (\"Andrew Choi\", \"Postdoc\", \"University College London\"),\n",
    "        (\"Tianyu Han\", \"Assistant Professor\", \"Hong Kong University of Science and Technology\"),\n",
    "        (\"Lukas Leucht\", \"Assistant Professor\", \"University of Oxford\"),\n",
    "        (\"Kimberlyn Munevar\", \"Assistant Professor\", \"Texas A&M University\"),\n",
    "        (\"Miguel Ortiz\", \"Assistant Professor\", \"University of British Columbia  – Vancouver School of Economics\"),\n",
    "        (\"Charlotte (Charlie) Townsend\", \"Postdoc\", \"Cornell University  –  ILR School\"),\n",
    "        (\"Matteo Tranchero\", \"Assistant Professor\", \"University of Pennsylvania – The Wharton School\")\n",
    "    ]\n",
    "    \n",
    "    for name, position, institution in entries_2024:\n",
    "        placements.append({\n",
    "            'name': name,\n",
    "            'year': 2024,\n",
    "            'placement': f\"{position}, {institution}\"\n",
    "        })\n",
    "\n",
    "    # Get entries from accordion items (past years)\n",
    "    accordion_items = soup.find_all('div', class_='accordion-item')\n",
    "    \n",
    "    for item in accordion_items:\n",
    "        year_elem = item.find('span', class_='title-text')\n",
    "        if year_elem:\n",
    "            year = year_elem.text.strip()\n",
    "            content = item.find('div', class_='content')\n",
    "            if content:\n",
    "                paragraphs = content.find_all('p')\n",
    "                for p in paragraphs:\n",
    "                    text = p.get_text(strip=True)\n",
    "                    if not text:\n",
    "                        continue\n",
    "                        \n",
    "                    parts = [p.strip() for p in text.split(',')]\n",
    "                    if len(parts) >= 2:\n",
    "                        name = parts[0]\n",
    "                        placement = ','.join(parts[1:])\n",
    "                        placements.append({\n",
    "                            'name': name,\n",
    "                            'year': int(year),\n",
    "                            'placement': placement\n",
    "                        })\n",
    "\n",
    "    return pd.DataFrame(placements)\n",
    "\n",
    "# Usage:\n",
    "with open('../data/raw/UC_Berkeley/placement.html', 'r', encoding='utf-8') as f:\n",
    "    html_content = f.read()\n",
    "    \n",
    "berkeley_placements = parse_berkeley_placements(html_content)\n",
    "display(berkeley_placements['year'].unique())\n",
    "berkeley_placements\n"
   ]
  },
  {
   "cell_type": "code",
   "execution_count": 91,
   "metadata": {},
   "outputs": [],
   "source": [
    "berkeley_placements.to_csv('../data/raw/UC_Berkeley/berkeley_placements.csv', index=False)\n"
   ]
  },
  {
   "cell_type": "code",
   "execution_count": 93,
   "metadata": {},
   "outputs": [
    {
     "data": {
      "text/html": [
       "<div>\n",
       "<style scoped>\n",
       "    .dataframe tbody tr th:only-of-type {\n",
       "        vertical-align: middle;\n",
       "    }\n",
       "\n",
       "    .dataframe tbody tr th {\n",
       "        vertical-align: top;\n",
       "    }\n",
       "\n",
       "    .dataframe thead th {\n",
       "        text-align: right;\n",
       "    }\n",
       "</style>\n",
       "<table border=\"1\" class=\"dataframe\">\n",
       "  <thead>\n",
       "    <tr style=\"text-align: right;\">\n",
       "      <th></th>\n",
       "      <th>name</th>\n",
       "      <th>gender_guess</th>\n",
       "      <th>school_website</th>\n",
       "      <th>field</th>\n",
       "      <th>paper_name</th>\n",
       "      <th>paper_link</th>\n",
       "      <th>chair</th>\n",
       "      <th>committee_member</th>\n",
       "      <th>university</th>\n",
       "      <th>department</th>\n",
       "      <th>...</th>\n",
       "      <th>secondaryresearchfocus</th>\n",
       "      <th>dissertation_name</th>\n",
       "      <th>placement</th>\n",
       "      <th>placement_type</th>\n",
       "      <th>academic</th>\n",
       "      <th>postdoc</th>\n",
       "      <th>position</th>\n",
       "      <th>degree</th>\n",
       "      <th>references</th>\n",
       "      <th>year</th>\n",
       "    </tr>\n",
       "  </thead>\n",
       "  <tbody>\n",
       "    <tr>\n",
       "      <th>1258</th>\n",
       "      <td>T. Tony Ke</td>\n",
       "      <td>Male</td>\n",
       "      <td>NaN</td>\n",
       "      <td>NaN</td>\n",
       "      <td>NaN</td>\n",
       "      <td>NaN</td>\n",
       "      <td>NaN</td>\n",
       "      <td>NaN</td>\n",
       "      <td>UC Berkeley</td>\n",
       "      <td>HASS</td>\n",
       "      <td>...</td>\n",
       "      <td>NaN</td>\n",
       "      <td>NaN</td>\n",
       "      <td>Massachusetts Institute of Technology</td>\n",
       "      <td>Academic</td>\n",
       "      <td>1.0</td>\n",
       "      <td>0.0</td>\n",
       "      <td>Assistant Professor</td>\n",
       "      <td>NaN</td>\n",
       "      <td>NaN</td>\n",
       "      <td>NaN</td>\n",
       "    </tr>\n",
       "  </tbody>\n",
       "</table>\n",
       "<p>1 rows × 25 columns</p>\n",
       "</div>"
      ],
      "text/plain": [
       "            name gender_guess school_website field paper_name paper_link  \\\n",
       "1258  T. Tony Ke         Male            NaN   NaN        NaN        NaN   \n",
       "\n",
       "     chair committee_member   university department  ...  \\\n",
       "1258   NaN              NaN  UC Berkeley       HASS  ...   \n",
       "\n",
       "     secondaryresearchfocus  dissertation_name  \\\n",
       "1258                    NaN                NaN   \n",
       "\n",
       "                                  placement placement_type academic postdoc  \\\n",
       "1258  Massachusetts Institute of Technology       Academic      1.0     0.0   \n",
       "\n",
       "                 position degree references  year  \n",
       "1258  Assistant Professor    NaN        NaN   NaN  \n",
       "\n",
       "[1 rows x 25 columns]"
      ]
     },
     "execution_count": 93,
     "metadata": {},
     "output_type": "execute_result"
    }
   ],
   "source": [
    "# Merge berkeley_placements with old_df to update years\n",
    "old_df = old_df.merge(berkeley_placements[['name', 'year']], \n",
    "                      on='name', \n",
    "                      how='left', \n",
    "                      suffixes=('_old', ''))\n",
    "\n",
    "# Update year column with berkeley_placements year where available\n",
    "old_df['year'] = old_df['year'].fillna(old_df['year_old'])\n",
    "old_df = old_df.drop('year_old', axis=1)\n",
    "\n",
    "old_df"
   ]
  },
  {
   "cell_type": "code",
   "execution_count": 94,
   "metadata": {},
   "outputs": [
    {
     "data": {
      "text/html": [
       "<div>\n",
       "<style scoped>\n",
       "    .dataframe tbody tr th:only-of-type {\n",
       "        vertical-align: middle;\n",
       "    }\n",
       "\n",
       "    .dataframe tbody tr th {\n",
       "        vertical-align: top;\n",
       "    }\n",
       "\n",
       "    .dataframe thead th {\n",
       "        text-align: right;\n",
       "    }\n",
       "</style>\n",
       "<table border=\"1\" class=\"dataframe\">\n",
       "  <thead>\n",
       "    <tr style=\"text-align: right;\">\n",
       "      <th></th>\n",
       "      <th>name</th>\n",
       "      <th>gender_guess</th>\n",
       "      <th>school_website</th>\n",
       "      <th>field</th>\n",
       "      <th>paper_name</th>\n",
       "      <th>paper_link</th>\n",
       "      <th>chair</th>\n",
       "      <th>committee_member</th>\n",
       "      <th>university</th>\n",
       "      <th>department</th>\n",
       "      <th>...</th>\n",
       "      <th>secondaryresearchfocus</th>\n",
       "      <th>dissertation_name</th>\n",
       "      <th>placement</th>\n",
       "      <th>placement_type</th>\n",
       "      <th>academic</th>\n",
       "      <th>postdoc</th>\n",
       "      <th>position</th>\n",
       "      <th>degree</th>\n",
       "      <th>references</th>\n",
       "      <th>year</th>\n",
       "    </tr>\n",
       "  </thead>\n",
       "  <tbody>\n",
       "    <tr>\n",
       "      <th>1258</th>\n",
       "      <td>T. Tony Ke</td>\n",
       "      <td>Male</td>\n",
       "      <td>NaN</td>\n",
       "      <td>NaN</td>\n",
       "      <td>NaN</td>\n",
       "      <td>NaN</td>\n",
       "      <td>NaN</td>\n",
       "      <td>NaN</td>\n",
       "      <td>UC Berkeley</td>\n",
       "      <td>HASS</td>\n",
       "      <td>...</td>\n",
       "      <td>NaN</td>\n",
       "      <td>NaN</td>\n",
       "      <td>Massachusetts Institute of Technology</td>\n",
       "      <td>Academic</td>\n",
       "      <td>1.0</td>\n",
       "      <td>0.0</td>\n",
       "      <td>Assistant Professor</td>\n",
       "      <td>NaN</td>\n",
       "      <td>NaN</td>\n",
       "      <td>NaN</td>\n",
       "    </tr>\n",
       "  </tbody>\n",
       "</table>\n",
       "<p>1 rows × 25 columns</p>\n",
       "</div>"
      ],
      "text/plain": [
       "            name gender_guess school_website field paper_name paper_link  \\\n",
       "1258  T. Tony Ke         Male            NaN   NaN        NaN        NaN   \n",
       "\n",
       "     chair committee_member   university department  ...  \\\n",
       "1258   NaN              NaN  UC Berkeley       HASS  ...   \n",
       "\n",
       "     secondaryresearchfocus  dissertation_name  \\\n",
       "1258                    NaN                NaN   \n",
       "\n",
       "                                  placement placement_type academic postdoc  \\\n",
       "1258  Massachusetts Institute of Technology       Academic      1.0     0.0   \n",
       "\n",
       "                 position degree references  year  \n",
       "1258  Assistant Professor    NaN        NaN   NaN  \n",
       "\n",
       "[1 rows x 25 columns]"
      ]
     },
     "execution_count": 94,
     "metadata": {},
     "output_type": "execute_result"
    }
   ],
   "source": [
    "old_df.loc[(old_df['year'].isna()) & (old_df['university'] == 'UC Berkeley')].head(3)\n"
   ]
  },
  {
   "cell_type": "code",
   "execution_count": 95,
   "metadata": {},
   "outputs": [
    {
     "data": {
      "text/html": [
       "<div>\n",
       "<style scoped>\n",
       "    .dataframe tbody tr th:only-of-type {\n",
       "        vertical-align: middle;\n",
       "    }\n",
       "\n",
       "    .dataframe tbody tr th {\n",
       "        vertical-align: top;\n",
       "    }\n",
       "\n",
       "    .dataframe thead th {\n",
       "        text-align: right;\n",
       "    }\n",
       "</style>\n",
       "<table border=\"1\" class=\"dataframe\">\n",
       "  <thead>\n",
       "    <tr style=\"text-align: right;\">\n",
       "      <th></th>\n",
       "      <th>name</th>\n",
       "      <th>gender_guess</th>\n",
       "      <th>school_website</th>\n",
       "      <th>field</th>\n",
       "      <th>paper_name</th>\n",
       "      <th>paper_link</th>\n",
       "      <th>chair</th>\n",
       "      <th>committee_member</th>\n",
       "      <th>university</th>\n",
       "      <th>department</th>\n",
       "      <th>...</th>\n",
       "      <th>secondaryresearchfocus</th>\n",
       "      <th>dissertation_name</th>\n",
       "      <th>placement</th>\n",
       "      <th>placement_type</th>\n",
       "      <th>academic</th>\n",
       "      <th>postdoc</th>\n",
       "      <th>position</th>\n",
       "      <th>degree</th>\n",
       "      <th>references</th>\n",
       "      <th>year</th>\n",
       "    </tr>\n",
       "  </thead>\n",
       "  <tbody>\n",
       "  </tbody>\n",
       "</table>\n",
       "<p>0 rows × 25 columns</p>\n",
       "</div>"
      ],
      "text/plain": [
       "Empty DataFrame\n",
       "Columns: [name, gender_guess, school_website, field, paper_name, paper_link, chair, committee_member, university, department, cv_link, dissertation, personal_website, email, gender_manual, secondaryresearchfocus, dissertation_name, placement, placement_type, academic, postdoc, position, degree, references, year]\n",
       "Index: []\n",
       "\n",
       "[0 rows x 25 columns]"
      ]
     },
     "execution_count": 95,
     "metadata": {},
     "output_type": "execute_result"
    }
   ],
   "source": [
    "# Update year for T. Tony Ke to 2015\n",
    "old_df.loc[old_df['name'] == 'T. Tony Ke', 'year'] = 2015\n",
    "old_df.loc[(old_df['year'].isna()) & (old_df['university'] == 'UC Berkeley')].head(3)\n"
   ]
  },
  {
   "cell_type": "code",
   "execution_count": null,
   "metadata": {},
   "outputs": [],
   "source": []
  },
  {
   "cell_type": "code",
   "execution_count": null,
   "metadata": {},
   "outputs": [],
   "source": []
  },
  {
   "cell_type": "markdown",
   "metadata": {},
   "source": [
    "Finally let's see stanford, I will remove them as I have already scraped the data"
   ]
  },
  {
   "cell_type": "code",
   "execution_count": 96,
   "metadata": {},
   "outputs": [
    {
     "data": {
      "text/html": [
       "<div>\n",
       "<style scoped>\n",
       "    .dataframe tbody tr th:only-of-type {\n",
       "        vertical-align: middle;\n",
       "    }\n",
       "\n",
       "    .dataframe tbody tr th {\n",
       "        vertical-align: top;\n",
       "    }\n",
       "\n",
       "    .dataframe thead th {\n",
       "        text-align: right;\n",
       "    }\n",
       "</style>\n",
       "<table border=\"1\" class=\"dataframe\">\n",
       "  <thead>\n",
       "    <tr style=\"text-align: right;\">\n",
       "      <th></th>\n",
       "      <th>name</th>\n",
       "      <th>gender_guess</th>\n",
       "      <th>school_website</th>\n",
       "      <th>field</th>\n",
       "      <th>paper_name</th>\n",
       "      <th>paper_link</th>\n",
       "      <th>chair</th>\n",
       "      <th>committee_member</th>\n",
       "      <th>university</th>\n",
       "      <th>department</th>\n",
       "      <th>...</th>\n",
       "      <th>secondaryresearchfocus</th>\n",
       "      <th>dissertation_name</th>\n",
       "      <th>placement</th>\n",
       "      <th>placement_type</th>\n",
       "      <th>academic</th>\n",
       "      <th>postdoc</th>\n",
       "      <th>position</th>\n",
       "      <th>degree</th>\n",
       "      <th>references</th>\n",
       "      <th>year</th>\n",
       "    </tr>\n",
       "  </thead>\n",
       "  <tbody>\n",
       "    <tr>\n",
       "      <th>32</th>\n",
       "      <td>Alexandr Lenk</td>\n",
       "      <td>male</td>\n",
       "      <td>NaN</td>\n",
       "      <td>Public Economics, Behavioral and Experimental ...</td>\n",
       "      <td>Disagreement or Misunderstanding? A Field Expe...</td>\n",
       "      <td>NaN</td>\n",
       "      <td>NaN</td>\n",
       "      <td>Muriel Niederle (Co-primary), B. Douglas Bernh...</td>\n",
       "      <td>Stanford</td>\n",
       "      <td>NaN</td>\n",
       "      <td>...</td>\n",
       "      <td>NaN</td>\n",
       "      <td>NaN</td>\n",
       "      <td>NaN</td>\n",
       "      <td>NaN</td>\n",
       "      <td>NaN</td>\n",
       "      <td>NaN</td>\n",
       "      <td>NaN</td>\n",
       "      <td>NaN</td>\n",
       "      <td>NaN</td>\n",
       "      <td>NaN</td>\n",
       "    </tr>\n",
       "    <tr>\n",
       "      <th>53</th>\n",
       "      <td>Andres F. Rodriguez</td>\n",
       "      <td>male</td>\n",
       "      <td>NaN</td>\n",
       "      <td>Development Economics, Political Economy</td>\n",
       "      <td>Informal Taxation in Development Projects: The...</td>\n",
       "      <td>NaN</td>\n",
       "      <td>NaN</td>\n",
       "      <td>Katherine Casey (Co-primary), Arun Chandrasekh...</td>\n",
       "      <td>Stanford</td>\n",
       "      <td>NaN</td>\n",
       "      <td>...</td>\n",
       "      <td>NaN</td>\n",
       "      <td>NaN</td>\n",
       "      <td>NaN</td>\n",
       "      <td>NaN</td>\n",
       "      <td>NaN</td>\n",
       "      <td>NaN</td>\n",
       "      <td>NaN</td>\n",
       "      <td>NaN</td>\n",
       "      <td>NaN</td>\n",
       "      <td>NaN</td>\n",
       "    </tr>\n",
       "    <tr>\n",
       "      <th>187</th>\n",
       "      <td>Cem Tutuncu</td>\n",
       "      <td>andy</td>\n",
       "      <td>NaN</td>\n",
       "      <td>Financial Economics, Macroeconomics</td>\n",
       "      <td>Primary Dealers, Subjective Bond Returns, and ...</td>\n",
       "      <td>NaN</td>\n",
       "      <td>NaN</td>\n",
       "      <td>Monika Piazzesi (Co-primary), Martin Schneider...</td>\n",
       "      <td>Stanford</td>\n",
       "      <td>NaN</td>\n",
       "      <td>...</td>\n",
       "      <td>NaN</td>\n",
       "      <td>NaN</td>\n",
       "      <td>NaN</td>\n",
       "      <td>NaN</td>\n",
       "      <td>NaN</td>\n",
       "      <td>NaN</td>\n",
       "      <td>NaN</td>\n",
       "      <td>NaN</td>\n",
       "      <td>NaN</td>\n",
       "      <td>NaN</td>\n",
       "    </tr>\n",
       "    <tr>\n",
       "      <th>224</th>\n",
       "      <td>Chuan Yu</td>\n",
       "      <td>Male</td>\n",
       "      <td>NaN</td>\n",
       "      <td>Industrial Organization, Health Economics</td>\n",
       "      <td>The Welfare Effects of Sponsored Product Adver...</td>\n",
       "      <td>NaN</td>\n",
       "      <td>NaN</td>\n",
       "      <td>Liran Einav (Co-primary), Matthew Gentzkow (Co...</td>\n",
       "      <td>Stanford</td>\n",
       "      <td>NaN</td>\n",
       "      <td>...</td>\n",
       "      <td>NaN</td>\n",
       "      <td>NaN</td>\n",
       "      <td>NaN</td>\n",
       "      <td>NaN</td>\n",
       "      <td>NaN</td>\n",
       "      <td>NaN</td>\n",
       "      <td>NaN</td>\n",
       "      <td>NaN</td>\n",
       "      <td>NaN</td>\n",
       "      <td>NaN</td>\n",
       "    </tr>\n",
       "    <tr>\n",
       "      <th>327</th>\n",
       "      <td>Dominique Araya Vergara</td>\n",
       "      <td>female</td>\n",
       "      <td>NaN</td>\n",
       "      <td>Health Economics, Public Economics</td>\n",
       "      <td>The Impacts of Hospital Financial Incentives o...</td>\n",
       "      <td>NaN</td>\n",
       "      <td>NaN</td>\n",
       "      <td>Petra Persson (Primary), Neale Mahoney, Maya R...</td>\n",
       "      <td>Stanford</td>\n",
       "      <td>NaN</td>\n",
       "      <td>...</td>\n",
       "      <td>NaN</td>\n",
       "      <td>NaN</td>\n",
       "      <td>NaN</td>\n",
       "      <td>NaN</td>\n",
       "      <td>NaN</td>\n",
       "      <td>NaN</td>\n",
       "      <td>NaN</td>\n",
       "      <td>NaN</td>\n",
       "      <td>NaN</td>\n",
       "      <td>NaN</td>\n",
       "    </tr>\n",
       "  </tbody>\n",
       "</table>\n",
       "<p>5 rows × 25 columns</p>\n",
       "</div>"
      ],
      "text/plain": [
       "                        name gender_guess school_website  \\\n",
       "32             Alexandr Lenk         male            NaN   \n",
       "53       Andres F. Rodriguez         male            NaN   \n",
       "187              Cem Tutuncu         andy            NaN   \n",
       "224                 Chuan Yu         Male            NaN   \n",
       "327  Dominique Araya Vergara       female            NaN   \n",
       "\n",
       "                                                 field  \\\n",
       "32   Public Economics, Behavioral and Experimental ...   \n",
       "53            Development Economics, Political Economy   \n",
       "187                Financial Economics, Macroeconomics   \n",
       "224          Industrial Organization, Health Economics   \n",
       "327                 Health Economics, Public Economics   \n",
       "\n",
       "                                            paper_name paper_link chair  \\\n",
       "32   Disagreement or Misunderstanding? A Field Expe...        NaN   NaN   \n",
       "53   Informal Taxation in Development Projects: The...        NaN   NaN   \n",
       "187  Primary Dealers, Subjective Bond Returns, and ...        NaN   NaN   \n",
       "224  The Welfare Effects of Sponsored Product Adver...        NaN   NaN   \n",
       "327  The Impacts of Hospital Financial Incentives o...        NaN   NaN   \n",
       "\n",
       "                                      committee_member university department  \\\n",
       "32   Muriel Niederle (Co-primary), B. Douglas Bernh...   Stanford        NaN   \n",
       "53   Katherine Casey (Co-primary), Arun Chandrasekh...   Stanford        NaN   \n",
       "187  Monika Piazzesi (Co-primary), Martin Schneider...   Stanford        NaN   \n",
       "224  Liran Einav (Co-primary), Matthew Gentzkow (Co...   Stanford        NaN   \n",
       "327  Petra Persson (Primary), Neale Mahoney, Maya R...   Stanford        NaN   \n",
       "\n",
       "     ... secondaryresearchfocus  dissertation_name placement placement_type  \\\n",
       "32   ...                    NaN                NaN       NaN            NaN   \n",
       "53   ...                    NaN                NaN       NaN            NaN   \n",
       "187  ...                    NaN                NaN       NaN            NaN   \n",
       "224  ...                    NaN                NaN       NaN            NaN   \n",
       "327  ...                    NaN                NaN       NaN            NaN   \n",
       "\n",
       "    academic postdoc position degree references  year  \n",
       "32       NaN     NaN      NaN    NaN        NaN   NaN  \n",
       "53       NaN     NaN      NaN    NaN        NaN   NaN  \n",
       "187      NaN     NaN      NaN    NaN        NaN   NaN  \n",
       "224      NaN     NaN      NaN    NaN        NaN   NaN  \n",
       "327      NaN     NaN      NaN    NaN        NaN   NaN  \n",
       "\n",
       "[5 rows x 25 columns]"
      ]
     },
     "execution_count": 96,
     "metadata": {},
     "output_type": "execute_result"
    }
   ],
   "source": [
    "old_df.loc[(old_df['year'].isna()) & (old_df['university'] == 'Stanford')].head()"
   ]
  },
  {
   "cell_type": "code",
   "execution_count": 97,
   "metadata": {},
   "outputs": [],
   "source": [
    "old_df = old_df[old_df['university'] != 'Stanford']"
   ]
  },
  {
   "cell_type": "code",
   "execution_count": null,
   "metadata": {},
   "outputs": [],
   "source": []
  },
  {
   "cell_type": "markdown",
   "metadata": {},
   "source": [
    "Now we will check if there are any missing values\n",
    "\n"
   ]
  },
  {
   "cell_type": "code",
   "execution_count": 102,
   "metadata": {},
   "outputs": [
    {
     "data": {
      "text/plain": [
       "name                         0\n",
       "gender_guess                 0\n",
       "school_website            1376\n",
       "field                      929\n",
       "paper_name                1314\n",
       "paper_link                1386\n",
       "chair                     1395\n",
       "committee_member          1320\n",
       "university                   0\n",
       "department                   0\n",
       "cv_link                   1257\n",
       "dissertation              1266\n",
       "personal_website          1269\n",
       "email                     1391\n",
       "gender_manual                0\n",
       "secondaryresearchfocus    1436\n",
       "dissertation_name         1371\n",
       "placement                  400\n",
       "placement_type             624\n",
       "academic                   242\n",
       "postdoc                    623\n",
       "position                  1177\n",
       "degree                    1429\n",
       "references                1429\n",
       "year                         0\n",
       "dtype: int64"
      ]
     },
     "execution_count": 102,
     "metadata": {},
     "output_type": "execute_result"
    }
   ],
   "source": [
    "old_df.isna().sum()\n"
   ]
  },
  {
   "cell_type": "markdown",
   "metadata": {},
   "source": [
    "Check placement type"
   ]
  },
  {
   "cell_type": "code",
   "execution_count": 101,
   "metadata": {},
   "outputs": [],
   "source": [
    "old_df.loc[(~old_df['placement'].isna()) & (old_df['academic'].isna()) & (old_df['postdoc'].isna()), ['academic', 'postdoc']] = 1\n"
   ]
  },
  {
   "cell_type": "markdown",
   "metadata": {},
   "source": [
    "Verify placement"
   ]
  },
  {
   "cell_type": "code",
   "execution_count": 105,
   "metadata": {},
   "outputs": [
    {
     "data": {
      "text/plain": [
       "array(['UC Berkeley', 'Northwestern University', 'Yale',\n",
       "       'Columbia University', 'University of Pennsylvania', 'NYU',\n",
       "       'UChicago', 'UCSD', 'UC Chicago', 'Cornell'], dtype=object)"
      ]
     },
     "execution_count": 105,
     "metadata": {},
     "output_type": "execute_result"
    }
   ],
   "source": [
    "old_df[old_df['placement'].isna()]['university'].unique()\n",
    "\n",
    "\n"
   ]
  },
  {
   "cell_type": "code",
   "execution_count": null,
   "metadata": {},
   "outputs": [],
   "source": []
  },
  {
   "cell_type": "markdown",
   "metadata": {},
   "source": [
    "Remove Northwestern, as I have already scraped the data\n",
    "\n",
    "\n",
    "\n"
   ]
  },
  {
   "cell_type": "code",
   "execution_count": 106,
   "metadata": {},
   "outputs": [],
   "source": [
    "old_df = old_df[old_df['university'] != 'Northwestern']\n"
   ]
  },
  {
   "cell_type": "code",
   "execution_count": 107,
   "metadata": {},
   "outputs": [
    {
     "data": {
      "text/plain": [
       "array(['UC Berkeley', 'Northwestern University', 'Yale',\n",
       "       'Columbia University', 'University of Pennsylvania', 'NYU',\n",
       "       'UChicago', 'UCSD', 'UC Chicago', 'Cornell'], dtype=object)"
      ]
     },
     "execution_count": 107,
     "metadata": {},
     "output_type": "execute_result"
    }
   ],
   "source": [
    "old_df[old_df['placement'].isna()]['university'].unique()\n"
   ]
  },
  {
   "cell_type": "code",
   "execution_count": null,
   "metadata": {},
   "outputs": [],
   "source": [
    "old_df[(old_df['placement'].isna()) & (old_df['university'] == 'UC Berkeley')]\n",
    "old_df[(old_df['placement'].isna()) & (old_df['university'] == 'Yale')]\n",
    "old_df[(old_df['placement'].isna()) & (old_df['university'] == 'Columbia University')]\n",
    "old_df[(old_df['placement'].isna()) & (old_df['university'] == 'University of Pennsylvania')]\n",
    "old_df[(old_df['placement'].isna()) & (old_df['university'] == 'NYU')]\n",
    "old_df[(old_df['placement'].isna()) & (old_df['university'] == 'UChicago')]\n",
    "old_df[(old_df['placement'].isna()) & (old_df['university'] == 'UCSD')]\n",
    "old_df[(old_df['placement'].isna()) & (old_df['university'] == 'UC Chicago')]\n",
    "old_df[(old_df['placement'].isna()) & (old_df['university'] == 'Cornell')]"
   ]
  },
  {
   "cell_type": "code",
   "execution_count": 108,
   "metadata": {},
   "outputs": [
    {
     "data": {
      "text/html": [
       "<div>\n",
       "<style scoped>\n",
       "    .dataframe tbody tr th:only-of-type {\n",
       "        vertical-align: middle;\n",
       "    }\n",
       "\n",
       "    .dataframe tbody tr th {\n",
       "        vertical-align: top;\n",
       "    }\n",
       "\n",
       "    .dataframe thead th {\n",
       "        text-align: right;\n",
       "    }\n",
       "</style>\n",
       "<table border=\"1\" class=\"dataframe\">\n",
       "  <thead>\n",
       "    <tr style=\"text-align: right;\">\n",
       "      <th></th>\n",
       "      <th>name</th>\n",
       "      <th>gender_guess</th>\n",
       "      <th>school_website</th>\n",
       "      <th>field</th>\n",
       "      <th>paper_name</th>\n",
       "      <th>paper_link</th>\n",
       "      <th>chair</th>\n",
       "      <th>committee_member</th>\n",
       "      <th>university</th>\n",
       "      <th>department</th>\n",
       "      <th>...</th>\n",
       "      <th>secondaryresearchfocus</th>\n",
       "      <th>dissertation_name</th>\n",
       "      <th>placement</th>\n",
       "      <th>placement_type</th>\n",
       "      <th>academic</th>\n",
       "      <th>postdoc</th>\n",
       "      <th>position</th>\n",
       "      <th>degree</th>\n",
       "      <th>references</th>\n",
       "      <th>year</th>\n",
       "    </tr>\n",
       "  </thead>\n",
       "  <tbody>\n",
       "    <tr>\n",
       "      <th>1</th>\n",
       "      <td>Aaron Swoboda</td>\n",
       "      <td>male</td>\n",
       "      <td>NaN</td>\n",
       "      <td>NaN</td>\n",
       "      <td>NaN</td>\n",
       "      <td>NaN</td>\n",
       "      <td>NaN</td>\n",
       "      <td>NaN</td>\n",
       "      <td>UC Berkeley</td>\n",
       "      <td>ARE</td>\n",
       "      <td>...</td>\n",
       "      <td>NaN</td>\n",
       "      <td>NaN</td>\n",
       "      <td>NaN</td>\n",
       "      <td>Academic</td>\n",
       "      <td>1.0</td>\n",
       "      <td>0.0</td>\n",
       "      <td>Assistant Professor</td>\n",
       "      <td>NaN</td>\n",
       "      <td>NaN</td>\n",
       "      <td>2011.0</td>\n",
       "    </tr>\n",
       "    <tr>\n",
       "      <th>5</th>\n",
       "      <td>Abhi Gupta</td>\n",
       "      <td>Male</td>\n",
       "      <td>NaN</td>\n",
       "      <td>Macroeconomics International Economics</td>\n",
       "      <td>Essays in Empirical Macroeconomics</td>\n",
       "      <td>NaN</td>\n",
       "      <td>NaN</td>\n",
       "      <td>NaN</td>\n",
       "      <td>UC Berkeley</td>\n",
       "      <td>Economics</td>\n",
       "      <td>...</td>\n",
       "      <td>NaN</td>\n",
       "      <td>NaN</td>\n",
       "      <td>NaN</td>\n",
       "      <td>NaN</td>\n",
       "      <td>NaN</td>\n",
       "      <td>NaN</td>\n",
       "      <td>NaN</td>\n",
       "      <td>B.S. (Mathematics, Statistics, Economics), Uni...</td>\n",
       "      <td>Yuriy Gorodnichenko*, Jon Steinsson, David Romer</td>\n",
       "      <td>2024.0</td>\n",
       "    </tr>\n",
       "    <tr>\n",
       "      <th>23</th>\n",
       "      <td>Alan Fuchs</td>\n",
       "      <td>male</td>\n",
       "      <td>NaN</td>\n",
       "      <td>NaN</td>\n",
       "      <td>NaN</td>\n",
       "      <td>NaN</td>\n",
       "      <td>NaN</td>\n",
       "      <td>NaN</td>\n",
       "      <td>UC Berkeley</td>\n",
       "      <td>ARE</td>\n",
       "      <td>...</td>\n",
       "      <td>NaN</td>\n",
       "      <td>NaN</td>\n",
       "      <td>NaN</td>\n",
       "      <td>Economist</td>\n",
       "      <td>0.0</td>\n",
       "      <td>0.0</td>\n",
       "      <td>Research Economist</td>\n",
       "      <td>NaN</td>\n",
       "      <td>NaN</td>\n",
       "      <td>2016.0</td>\n",
       "    </tr>\n",
       "    <tr>\n",
       "      <th>30</th>\n",
       "      <td>Alex Solis</td>\n",
       "      <td>male</td>\n",
       "      <td>NaN</td>\n",
       "      <td>NaN</td>\n",
       "      <td>NaN</td>\n",
       "      <td>NaN</td>\n",
       "      <td>NaN</td>\n",
       "      <td>NaN</td>\n",
       "      <td>UC Berkeley</td>\n",
       "      <td>ARE</td>\n",
       "      <td>...</td>\n",
       "      <td>NaN</td>\n",
       "      <td>NaN</td>\n",
       "      <td>NaN</td>\n",
       "      <td>Academic</td>\n",
       "      <td>1.0</td>\n",
       "      <td>0.0</td>\n",
       "      <td>Assistant Professor</td>\n",
       "      <td>NaN</td>\n",
       "      <td>NaN</td>\n",
       "      <td>2018.0</td>\n",
       "    </tr>\n",
       "    <tr>\n",
       "      <th>39</th>\n",
       "      <td>Aluma Dembo</td>\n",
       "      <td>male</td>\n",
       "      <td>NaN</td>\n",
       "      <td>NaN</td>\n",
       "      <td>NaN</td>\n",
       "      <td>NaN</td>\n",
       "      <td>NaN</td>\n",
       "      <td>NaN</td>\n",
       "      <td>UC Berkeley</td>\n",
       "      <td>ARE</td>\n",
       "      <td>...</td>\n",
       "      <td>NaN</td>\n",
       "      <td>NaN</td>\n",
       "      <td>NaN</td>\n",
       "      <td>Academic</td>\n",
       "      <td>1.0</td>\n",
       "      <td>0.0</td>\n",
       "      <td>Lecturer (Assistant Professor)</td>\n",
       "      <td>NaN</td>\n",
       "      <td>NaN</td>\n",
       "      <td>2021.0</td>\n",
       "    </tr>\n",
       "    <tr>\n",
       "      <th>...</th>\n",
       "      <td>...</td>\n",
       "      <td>...</td>\n",
       "      <td>...</td>\n",
       "      <td>...</td>\n",
       "      <td>...</td>\n",
       "      <td>...</td>\n",
       "      <td>...</td>\n",
       "      <td>...</td>\n",
       "      <td>...</td>\n",
       "      <td>...</td>\n",
       "      <td>...</td>\n",
       "      <td>...</td>\n",
       "      <td>...</td>\n",
       "      <td>...</td>\n",
       "      <td>...</td>\n",
       "      <td>...</td>\n",
       "      <td>...</td>\n",
       "      <td>...</td>\n",
       "      <td>...</td>\n",
       "      <td>...</td>\n",
       "      <td>...</td>\n",
       "    </tr>\n",
       "    <tr>\n",
       "      <th>1397</th>\n",
       "      <td>Yanhong Jin</td>\n",
       "      <td>female</td>\n",
       "      <td>NaN</td>\n",
       "      <td>NaN</td>\n",
       "      <td>NaN</td>\n",
       "      <td>NaN</td>\n",
       "      <td>NaN</td>\n",
       "      <td>NaN</td>\n",
       "      <td>UC Berkeley</td>\n",
       "      <td>ARE</td>\n",
       "      <td>...</td>\n",
       "      <td>NaN</td>\n",
       "      <td>NaN</td>\n",
       "      <td>NaN</td>\n",
       "      <td>Academic</td>\n",
       "      <td>1.0</td>\n",
       "      <td>0.0</td>\n",
       "      <td>Assistant Professor</td>\n",
       "      <td>NaN</td>\n",
       "      <td>NaN</td>\n",
       "      <td>2010.0</td>\n",
       "    </tr>\n",
       "    <tr>\n",
       "      <th>1399</th>\n",
       "      <td>Yassine Sbai Sassi</td>\n",
       "      <td>male</td>\n",
       "      <td>NaN</td>\n",
       "      <td>Econometrics Economic Theory</td>\n",
       "      <td>Essays in Network Econometrics</td>\n",
       "      <td>NaN</td>\n",
       "      <td>NaN</td>\n",
       "      <td>NaN</td>\n",
       "      <td>UC Berkeley</td>\n",
       "      <td>Economics</td>\n",
       "      <td>...</td>\n",
       "      <td>NaN</td>\n",
       "      <td>NaN</td>\n",
       "      <td>NaN</td>\n",
       "      <td>NaN</td>\n",
       "      <td>NaN</td>\n",
       "      <td>NaN</td>\n",
       "      <td>NaN</td>\n",
       "      <td>Diplôme D'Ingénieur (Applied Mathematics and E...</td>\n",
       "      <td>Bryan Graham*, Michael Jansson, Demian Pouzo</td>\n",
       "      <td>2024.0</td>\n",
       "    </tr>\n",
       "    <tr>\n",
       "      <th>1434</th>\n",
       "      <td>Yulei Shelley He</td>\n",
       "      <td>female</td>\n",
       "      <td>NaN</td>\n",
       "      <td>NaN</td>\n",
       "      <td>NaN</td>\n",
       "      <td>NaN</td>\n",
       "      <td>NaN</td>\n",
       "      <td>NaN</td>\n",
       "      <td>UC Berkeley</td>\n",
       "      <td>ARE</td>\n",
       "      <td>...</td>\n",
       "      <td>NaN</td>\n",
       "      <td>NaN</td>\n",
       "      <td>NaN</td>\n",
       "      <td>Economist</td>\n",
       "      <td>0.0</td>\n",
       "      <td>0.0</td>\n",
       "      <td>Economist</td>\n",
       "      <td>NaN</td>\n",
       "      <td>NaN</td>\n",
       "      <td>2022.0</td>\n",
       "    </tr>\n",
       "    <tr>\n",
       "      <th>1460</th>\n",
       "      <td>Zhen Lei</td>\n",
       "      <td>male</td>\n",
       "      <td>NaN</td>\n",
       "      <td>NaN</td>\n",
       "      <td>NaN</td>\n",
       "      <td>NaN</td>\n",
       "      <td>NaN</td>\n",
       "      <td>NaN</td>\n",
       "      <td>UC Berkeley</td>\n",
       "      <td>ARE</td>\n",
       "      <td>...</td>\n",
       "      <td>NaN</td>\n",
       "      <td>NaN</td>\n",
       "      <td>NaN</td>\n",
       "      <td>Academic</td>\n",
       "      <td>1.0</td>\n",
       "      <td>0.0</td>\n",
       "      <td>Assistant Professor</td>\n",
       "      <td>NaN</td>\n",
       "      <td>NaN</td>\n",
       "      <td>2015.0</td>\n",
       "    </tr>\n",
       "    <tr>\n",
       "      <th>1461</th>\n",
       "      <td>Zhen Sun</td>\n",
       "      <td>male</td>\n",
       "      <td>NaN</td>\n",
       "      <td>NaN</td>\n",
       "      <td>NaN</td>\n",
       "      <td>NaN</td>\n",
       "      <td>NaN</td>\n",
       "      <td>NaN</td>\n",
       "      <td>UC Berkeley</td>\n",
       "      <td>ARE</td>\n",
       "      <td>...</td>\n",
       "      <td>NaN</td>\n",
       "      <td>NaN</td>\n",
       "      <td>NaN</td>\n",
       "      <td>Academic</td>\n",
       "      <td>1.0</td>\n",
       "      <td>0.0</td>\n",
       "      <td>Assistant Professor</td>\n",
       "      <td>NaN</td>\n",
       "      <td>NaN</td>\n",
       "      <td>2020.0</td>\n",
       "    </tr>\n",
       "  </tbody>\n",
       "</table>\n",
       "<p>183 rows × 25 columns</p>\n",
       "</div>"
      ],
      "text/plain": [
       "                    name gender_guess school_website  \\\n",
       "1          Aaron Swoboda         male            NaN   \n",
       "5             Abhi Gupta         Male            NaN   \n",
       "23            Alan Fuchs         male            NaN   \n",
       "30            Alex Solis         male            NaN   \n",
       "39           Aluma Dembo         male            NaN   \n",
       "...                  ...          ...            ...   \n",
       "1397         Yanhong Jin       female            NaN   \n",
       "1399  Yassine Sbai Sassi         male            NaN   \n",
       "1434    Yulei Shelley He       female            NaN   \n",
       "1460            Zhen Lei         male            NaN   \n",
       "1461            Zhen Sun         male            NaN   \n",
       "\n",
       "                                       field  \\\n",
       "1                                        NaN   \n",
       "5     Macroeconomics International Economics   \n",
       "23                                       NaN   \n",
       "30                                       NaN   \n",
       "39                                       NaN   \n",
       "...                                      ...   \n",
       "1397                                     NaN   \n",
       "1399            Econometrics Economic Theory   \n",
       "1434                                     NaN   \n",
       "1460                                     NaN   \n",
       "1461                                     NaN   \n",
       "\n",
       "                              paper_name paper_link chair committee_member  \\\n",
       "1                                    NaN        NaN   NaN              NaN   \n",
       "5     Essays in Empirical Macroeconomics        NaN   NaN              NaN   \n",
       "23                                   NaN        NaN   NaN              NaN   \n",
       "30                                   NaN        NaN   NaN              NaN   \n",
       "39                                   NaN        NaN   NaN              NaN   \n",
       "...                                  ...        ...   ...              ...   \n",
       "1397                                 NaN        NaN   NaN              NaN   \n",
       "1399      Essays in Network Econometrics        NaN   NaN              NaN   \n",
       "1434                                 NaN        NaN   NaN              NaN   \n",
       "1460                                 NaN        NaN   NaN              NaN   \n",
       "1461                                 NaN        NaN   NaN              NaN   \n",
       "\n",
       "       university department  ... secondaryresearchfocus  dissertation_name  \\\n",
       "1     UC Berkeley        ARE  ...                    NaN                NaN   \n",
       "5     UC Berkeley  Economics  ...                    NaN                NaN   \n",
       "23    UC Berkeley        ARE  ...                    NaN                NaN   \n",
       "30    UC Berkeley        ARE  ...                    NaN                NaN   \n",
       "39    UC Berkeley        ARE  ...                    NaN                NaN   \n",
       "...           ...        ...  ...                    ...                ...   \n",
       "1397  UC Berkeley        ARE  ...                    NaN                NaN   \n",
       "1399  UC Berkeley  Economics  ...                    NaN                NaN   \n",
       "1434  UC Berkeley        ARE  ...                    NaN                NaN   \n",
       "1460  UC Berkeley        ARE  ...                    NaN                NaN   \n",
       "1461  UC Berkeley        ARE  ...                    NaN                NaN   \n",
       "\n",
       "     placement placement_type academic postdoc  \\\n",
       "1          NaN       Academic      1.0     0.0   \n",
       "5          NaN            NaN      NaN     NaN   \n",
       "23         NaN      Economist      0.0     0.0   \n",
       "30         NaN       Academic      1.0     0.0   \n",
       "39         NaN       Academic      1.0     0.0   \n",
       "...        ...            ...      ...     ...   \n",
       "1397       NaN       Academic      1.0     0.0   \n",
       "1399       NaN            NaN      NaN     NaN   \n",
       "1434       NaN      Economist      0.0     0.0   \n",
       "1460       NaN       Academic      1.0     0.0   \n",
       "1461       NaN       Academic      1.0     0.0   \n",
       "\n",
       "                            position  \\\n",
       "1                Assistant Professor   \n",
       "5                                NaN   \n",
       "23                Research Economist   \n",
       "30               Assistant Professor   \n",
       "39    Lecturer (Assistant Professor)   \n",
       "...                              ...   \n",
       "1397             Assistant Professor   \n",
       "1399                             NaN   \n",
       "1434                       Economist   \n",
       "1460             Assistant Professor   \n",
       "1461             Assistant Professor   \n",
       "\n",
       "                                                 degree  \\\n",
       "1                                                   NaN   \n",
       "5     B.S. (Mathematics, Statistics, Economics), Uni...   \n",
       "23                                                  NaN   \n",
       "30                                                  NaN   \n",
       "39                                                  NaN   \n",
       "...                                                 ...   \n",
       "1397                                                NaN   \n",
       "1399  Diplôme D'Ingénieur (Applied Mathematics and E...   \n",
       "1434                                                NaN   \n",
       "1460                                                NaN   \n",
       "1461                                                NaN   \n",
       "\n",
       "                                            references    year  \n",
       "1                                                  NaN  2011.0  \n",
       "5     Yuriy Gorodnichenko*, Jon Steinsson, David Romer  2024.0  \n",
       "23                                                 NaN  2016.0  \n",
       "30                                                 NaN  2018.0  \n",
       "39                                                 NaN  2021.0  \n",
       "...                                                ...     ...  \n",
       "1397                                               NaN  2010.0  \n",
       "1399      Bryan Graham*, Michael Jansson, Demian Pouzo  2024.0  \n",
       "1434                                               NaN  2022.0  \n",
       "1460                                               NaN  2015.0  \n",
       "1461                                               NaN  2020.0  \n",
       "\n",
       "[183 rows x 25 columns]"
      ]
     },
     "execution_count": 108,
     "metadata": {},
     "output_type": "execute_result"
    }
   ],
   "source": [
    "old_df[(old_df['placement'].isna()) & (old_df['university'] == 'UC Berkeley')]\n"
   ]
  },
  {
   "cell_type": "code",
   "execution_count": 109,
   "metadata": {},
   "outputs": [
    {
     "data": {
      "text/html": [
       "<div>\n",
       "<style scoped>\n",
       "    .dataframe tbody tr th:only-of-type {\n",
       "        vertical-align: middle;\n",
       "    }\n",
       "\n",
       "    .dataframe tbody tr th {\n",
       "        vertical-align: top;\n",
       "    }\n",
       "\n",
       "    .dataframe thead th {\n",
       "        text-align: right;\n",
       "    }\n",
       "</style>\n",
       "<table border=\"1\" class=\"dataframe\">\n",
       "  <thead>\n",
       "    <tr style=\"text-align: right;\">\n",
       "      <th></th>\n",
       "      <th>name</th>\n",
       "      <th>year</th>\n",
       "      <th>placement</th>\n",
       "    </tr>\n",
       "  </thead>\n",
       "  <tbody>\n",
       "    <tr>\n",
       "      <th>0</th>\n",
       "      <td>Sandy Campbell</td>\n",
       "      <td>2024</td>\n",
       "      <td>Postdoc, University of California, Los Angeles</td>\n",
       "    </tr>\n",
       "    <tr>\n",
       "      <th>1</th>\n",
       "      <td>Andrew Choi</td>\n",
       "      <td>2024</td>\n",
       "      <td>Postdoc, University College London</td>\n",
       "    </tr>\n",
       "    <tr>\n",
       "      <th>2</th>\n",
       "      <td>Tianyu Han</td>\n",
       "      <td>2024</td>\n",
       "      <td>Assistant Professor, Hong Kong University of S...</td>\n",
       "    </tr>\n",
       "    <tr>\n",
       "      <th>3</th>\n",
       "      <td>Lukas Leucht</td>\n",
       "      <td>2024</td>\n",
       "      <td>Assistant Professor, University of Oxford</td>\n",
       "    </tr>\n",
       "    <tr>\n",
       "      <th>4</th>\n",
       "      <td>Kimberlyn Munevar</td>\n",
       "      <td>2024</td>\n",
       "      <td>Assistant Professor, Texas A&amp;M University</td>\n",
       "    </tr>\n",
       "    <tr>\n",
       "      <th>...</th>\n",
       "      <td>...</td>\n",
       "      <td>...</td>\n",
       "      <td>...</td>\n",
       "    </tr>\n",
       "    <tr>\n",
       "      <th>125</th>\n",
       "      <td>Shubhranshu Singh</td>\n",
       "      <td>2013</td>\n",
       "      <td>Assistant ProfessorJohns Hopkins University</td>\n",
       "    </tr>\n",
       "    <tr>\n",
       "      <th>126</th>\n",
       "      <td>Mary Kate Stimmler</td>\n",
       "      <td>2013</td>\n",
       "      <td>ResearcherGoogle,Inc.</td>\n",
       "    </tr>\n",
       "    <tr>\n",
       "      <th>127</th>\n",
       "      <td>Estelle (Yuan) Sun</td>\n",
       "      <td>2013</td>\n",
       "      <td>Assistant ProfessorBoston University</td>\n",
       "    </tr>\n",
       "    <tr>\n",
       "      <th>128</th>\n",
       "      <td>Aydin Uysal</td>\n",
       "      <td>2013</td>\n",
       "      <td>ResearcherMenta Capital,LLC</td>\n",
       "    </tr>\n",
       "    <tr>\n",
       "      <th>129</th>\n",
       "      <td>Fiona Kun Yao</td>\n",
       "      <td>2013</td>\n",
       "      <td>Assistant ProfessorUniversity of Illinois,Urba...</td>\n",
       "    </tr>\n",
       "  </tbody>\n",
       "</table>\n",
       "<p>130 rows × 3 columns</p>\n",
       "</div>"
      ],
      "text/plain": [
       "                   name  year  \\\n",
       "0        Sandy Campbell  2024   \n",
       "1           Andrew Choi  2024   \n",
       "2            Tianyu Han  2024   \n",
       "3          Lukas Leucht  2024   \n",
       "4     Kimberlyn Munevar  2024   \n",
       "..                  ...   ...   \n",
       "125   Shubhranshu Singh  2013   \n",
       "126  Mary Kate Stimmler  2013   \n",
       "127  Estelle (Yuan) Sun  2013   \n",
       "128         Aydin Uysal  2013   \n",
       "129       Fiona Kun Yao  2013   \n",
       "\n",
       "                                             placement  \n",
       "0       Postdoc, University of California, Los Angeles  \n",
       "1                   Postdoc, University College London  \n",
       "2    Assistant Professor, Hong Kong University of S...  \n",
       "3            Assistant Professor, University of Oxford  \n",
       "4            Assistant Professor, Texas A&M University  \n",
       "..                                                 ...  \n",
       "125        Assistant ProfessorJohns Hopkins University  \n",
       "126                              ResearcherGoogle,Inc.  \n",
       "127               Assistant ProfessorBoston University  \n",
       "128                        ResearcherMenta Capital,LLC  \n",
       "129  Assistant ProfessorUniversity of Illinois,Urba...  \n",
       "\n",
       "[130 rows x 3 columns]"
      ]
     },
     "execution_count": 109,
     "metadata": {},
     "output_type": "execute_result"
    }
   ],
   "source": [
    "berkeley_placements"
   ]
  },
  {
   "cell_type": "markdown",
   "metadata": {},
   "source": [
    "First let's fix the deparment of ARE"
   ]
  },
  {
   "cell_type": "code",
   "execution_count": 110,
   "metadata": {},
   "outputs": [
    {
     "data": {
      "text/html": [
       "<div>\n",
       "<style scoped>\n",
       "    .dataframe tbody tr th:only-of-type {\n",
       "        vertical-align: middle;\n",
       "    }\n",
       "\n",
       "    .dataframe tbody tr th {\n",
       "        vertical-align: top;\n",
       "    }\n",
       "\n",
       "    .dataframe thead th {\n",
       "        text-align: right;\n",
       "    }\n",
       "</style>\n",
       "<table border=\"1\" class=\"dataframe\">\n",
       "  <thead>\n",
       "    <tr style=\"text-align: right;\">\n",
       "      <th></th>\n",
       "      <th>name</th>\n",
       "      <th>gender_guess</th>\n",
       "      <th>school_website</th>\n",
       "      <th>field</th>\n",
       "      <th>paper_name</th>\n",
       "      <th>paper_link</th>\n",
       "      <th>chair</th>\n",
       "      <th>committee_member</th>\n",
       "      <th>university</th>\n",
       "      <th>department</th>\n",
       "      <th>...</th>\n",
       "      <th>secondaryresearchfocus</th>\n",
       "      <th>dissertation_name</th>\n",
       "      <th>placement</th>\n",
       "      <th>placement_type</th>\n",
       "      <th>academic</th>\n",
       "      <th>postdoc</th>\n",
       "      <th>position</th>\n",
       "      <th>degree</th>\n",
       "      <th>references</th>\n",
       "      <th>year</th>\n",
       "    </tr>\n",
       "  </thead>\n",
       "  <tbody>\n",
       "    <tr>\n",
       "      <th>1</th>\n",
       "      <td>Aaron Swoboda</td>\n",
       "      <td>male</td>\n",
       "      <td>NaN</td>\n",
       "      <td>NaN</td>\n",
       "      <td>NaN</td>\n",
       "      <td>NaN</td>\n",
       "      <td>NaN</td>\n",
       "      <td>NaN</td>\n",
       "      <td>UC Berkeley</td>\n",
       "      <td>ARE</td>\n",
       "      <td>...</td>\n",
       "      <td>NaN</td>\n",
       "      <td>NaN</td>\n",
       "      <td>NaN</td>\n",
       "      <td>Academic</td>\n",
       "      <td>1.0</td>\n",
       "      <td>0.0</td>\n",
       "      <td>Assistant Professor</td>\n",
       "      <td>NaN</td>\n",
       "      <td>NaN</td>\n",
       "      <td>2011.0</td>\n",
       "    </tr>\n",
       "    <tr>\n",
       "      <th>23</th>\n",
       "      <td>Alan Fuchs</td>\n",
       "      <td>male</td>\n",
       "      <td>NaN</td>\n",
       "      <td>NaN</td>\n",
       "      <td>NaN</td>\n",
       "      <td>NaN</td>\n",
       "      <td>NaN</td>\n",
       "      <td>NaN</td>\n",
       "      <td>UC Berkeley</td>\n",
       "      <td>ARE</td>\n",
       "      <td>...</td>\n",
       "      <td>NaN</td>\n",
       "      <td>NaN</td>\n",
       "      <td>NaN</td>\n",
       "      <td>Economist</td>\n",
       "      <td>0.0</td>\n",
       "      <td>0.0</td>\n",
       "      <td>Research Economist</td>\n",
       "      <td>NaN</td>\n",
       "      <td>NaN</td>\n",
       "      <td>2016.0</td>\n",
       "    </tr>\n",
       "    <tr>\n",
       "      <th>30</th>\n",
       "      <td>Alex Solis</td>\n",
       "      <td>male</td>\n",
       "      <td>NaN</td>\n",
       "      <td>NaN</td>\n",
       "      <td>NaN</td>\n",
       "      <td>NaN</td>\n",
       "      <td>NaN</td>\n",
       "      <td>NaN</td>\n",
       "      <td>UC Berkeley</td>\n",
       "      <td>ARE</td>\n",
       "      <td>...</td>\n",
       "      <td>NaN</td>\n",
       "      <td>NaN</td>\n",
       "      <td>NaN</td>\n",
       "      <td>Academic</td>\n",
       "      <td>1.0</td>\n",
       "      <td>0.0</td>\n",
       "      <td>Assistant Professor</td>\n",
       "      <td>NaN</td>\n",
       "      <td>NaN</td>\n",
       "      <td>2018.0</td>\n",
       "    </tr>\n",
       "    <tr>\n",
       "      <th>39</th>\n",
       "      <td>Aluma Dembo</td>\n",
       "      <td>male</td>\n",
       "      <td>NaN</td>\n",
       "      <td>NaN</td>\n",
       "      <td>NaN</td>\n",
       "      <td>NaN</td>\n",
       "      <td>NaN</td>\n",
       "      <td>NaN</td>\n",
       "      <td>UC Berkeley</td>\n",
       "      <td>ARE</td>\n",
       "      <td>...</td>\n",
       "      <td>NaN</td>\n",
       "      <td>NaN</td>\n",
       "      <td>NaN</td>\n",
       "      <td>Academic</td>\n",
       "      <td>1.0</td>\n",
       "      <td>0.0</td>\n",
       "      <td>Lecturer (Assistant Professor)</td>\n",
       "      <td>NaN</td>\n",
       "      <td>NaN</td>\n",
       "      <td>2021.0</td>\n",
       "    </tr>\n",
       "    <tr>\n",
       "      <th>59</th>\n",
       "      <td>Andrew Dustan</td>\n",
       "      <td>male</td>\n",
       "      <td>NaN</td>\n",
       "      <td>NaN</td>\n",
       "      <td>NaN</td>\n",
       "      <td>NaN</td>\n",
       "      <td>NaN</td>\n",
       "      <td>NaN</td>\n",
       "      <td>UC Berkeley</td>\n",
       "      <td>ARE</td>\n",
       "      <td>...</td>\n",
       "      <td>NaN</td>\n",
       "      <td>NaN</td>\n",
       "      <td>NaN</td>\n",
       "      <td>Academic</td>\n",
       "      <td>1.0</td>\n",
       "      <td>0.0</td>\n",
       "      <td>Assistant Professor</td>\n",
       "      <td>NaN</td>\n",
       "      <td>NaN</td>\n",
       "      <td>2019.0</td>\n",
       "    </tr>\n",
       "    <tr>\n",
       "      <th>...</th>\n",
       "      <td>...</td>\n",
       "      <td>...</td>\n",
       "      <td>...</td>\n",
       "      <td>...</td>\n",
       "      <td>...</td>\n",
       "      <td>...</td>\n",
       "      <td>...</td>\n",
       "      <td>...</td>\n",
       "      <td>...</td>\n",
       "      <td>...</td>\n",
       "      <td>...</td>\n",
       "      <td>...</td>\n",
       "      <td>...</td>\n",
       "      <td>...</td>\n",
       "      <td>...</td>\n",
       "      <td>...</td>\n",
       "      <td>...</td>\n",
       "      <td>...</td>\n",
       "      <td>...</td>\n",
       "      <td>...</td>\n",
       "      <td>...</td>\n",
       "    </tr>\n",
       "    <tr>\n",
       "      <th>1395</th>\n",
       "      <td>Yang Xie</td>\n",
       "      <td>male</td>\n",
       "      <td>NaN</td>\n",
       "      <td>NaN</td>\n",
       "      <td>NaN</td>\n",
       "      <td>NaN</td>\n",
       "      <td>NaN</td>\n",
       "      <td>NaN</td>\n",
       "      <td>UC Berkeley</td>\n",
       "      <td>ARE</td>\n",
       "      <td>...</td>\n",
       "      <td>NaN</td>\n",
       "      <td>NaN</td>\n",
       "      <td>NaN</td>\n",
       "      <td>Academic</td>\n",
       "      <td>1.0</td>\n",
       "      <td>0.0</td>\n",
       "      <td>Assistant Professor</td>\n",
       "      <td>NaN</td>\n",
       "      <td>NaN</td>\n",
       "      <td>2020.0</td>\n",
       "    </tr>\n",
       "    <tr>\n",
       "      <th>1397</th>\n",
       "      <td>Yanhong Jin</td>\n",
       "      <td>female</td>\n",
       "      <td>NaN</td>\n",
       "      <td>NaN</td>\n",
       "      <td>NaN</td>\n",
       "      <td>NaN</td>\n",
       "      <td>NaN</td>\n",
       "      <td>NaN</td>\n",
       "      <td>UC Berkeley</td>\n",
       "      <td>ARE</td>\n",
       "      <td>...</td>\n",
       "      <td>NaN</td>\n",
       "      <td>NaN</td>\n",
       "      <td>NaN</td>\n",
       "      <td>Academic</td>\n",
       "      <td>1.0</td>\n",
       "      <td>0.0</td>\n",
       "      <td>Assistant Professor</td>\n",
       "      <td>NaN</td>\n",
       "      <td>NaN</td>\n",
       "      <td>2010.0</td>\n",
       "    </tr>\n",
       "    <tr>\n",
       "      <th>1434</th>\n",
       "      <td>Yulei Shelley He</td>\n",
       "      <td>female</td>\n",
       "      <td>NaN</td>\n",
       "      <td>NaN</td>\n",
       "      <td>NaN</td>\n",
       "      <td>NaN</td>\n",
       "      <td>NaN</td>\n",
       "      <td>NaN</td>\n",
       "      <td>UC Berkeley</td>\n",
       "      <td>ARE</td>\n",
       "      <td>...</td>\n",
       "      <td>NaN</td>\n",
       "      <td>NaN</td>\n",
       "      <td>NaN</td>\n",
       "      <td>Economist</td>\n",
       "      <td>0.0</td>\n",
       "      <td>0.0</td>\n",
       "      <td>Economist</td>\n",
       "      <td>NaN</td>\n",
       "      <td>NaN</td>\n",
       "      <td>2022.0</td>\n",
       "    </tr>\n",
       "    <tr>\n",
       "      <th>1460</th>\n",
       "      <td>Zhen Lei</td>\n",
       "      <td>male</td>\n",
       "      <td>NaN</td>\n",
       "      <td>NaN</td>\n",
       "      <td>NaN</td>\n",
       "      <td>NaN</td>\n",
       "      <td>NaN</td>\n",
       "      <td>NaN</td>\n",
       "      <td>UC Berkeley</td>\n",
       "      <td>ARE</td>\n",
       "      <td>...</td>\n",
       "      <td>NaN</td>\n",
       "      <td>NaN</td>\n",
       "      <td>NaN</td>\n",
       "      <td>Academic</td>\n",
       "      <td>1.0</td>\n",
       "      <td>0.0</td>\n",
       "      <td>Assistant Professor</td>\n",
       "      <td>NaN</td>\n",
       "      <td>NaN</td>\n",
       "      <td>2015.0</td>\n",
       "    </tr>\n",
       "    <tr>\n",
       "      <th>1461</th>\n",
       "      <td>Zhen Sun</td>\n",
       "      <td>male</td>\n",
       "      <td>NaN</td>\n",
       "      <td>NaN</td>\n",
       "      <td>NaN</td>\n",
       "      <td>NaN</td>\n",
       "      <td>NaN</td>\n",
       "      <td>NaN</td>\n",
       "      <td>UC Berkeley</td>\n",
       "      <td>ARE</td>\n",
       "      <td>...</td>\n",
       "      <td>NaN</td>\n",
       "      <td>NaN</td>\n",
       "      <td>NaN</td>\n",
       "      <td>Academic</td>\n",
       "      <td>1.0</td>\n",
       "      <td>0.0</td>\n",
       "      <td>Assistant Professor</td>\n",
       "      <td>NaN</td>\n",
       "      <td>NaN</td>\n",
       "      <td>2020.0</td>\n",
       "    </tr>\n",
       "  </tbody>\n",
       "</table>\n",
       "<p>158 rows × 25 columns</p>\n",
       "</div>"
      ],
      "text/plain": [
       "                  name gender_guess school_website field paper_name  \\\n",
       "1        Aaron Swoboda         male            NaN   NaN        NaN   \n",
       "23          Alan Fuchs         male            NaN   NaN        NaN   \n",
       "30          Alex Solis         male            NaN   NaN        NaN   \n",
       "39         Aluma Dembo         male            NaN   NaN        NaN   \n",
       "59       Andrew Dustan         male            NaN   NaN        NaN   \n",
       "...                ...          ...            ...   ...        ...   \n",
       "1395          Yang Xie         male            NaN   NaN        NaN   \n",
       "1397       Yanhong Jin       female            NaN   NaN        NaN   \n",
       "1434  Yulei Shelley He       female            NaN   NaN        NaN   \n",
       "1460          Zhen Lei         male            NaN   NaN        NaN   \n",
       "1461          Zhen Sun         male            NaN   NaN        NaN   \n",
       "\n",
       "     paper_link chair committee_member   university department  ...  \\\n",
       "1           NaN   NaN              NaN  UC Berkeley        ARE  ...   \n",
       "23          NaN   NaN              NaN  UC Berkeley        ARE  ...   \n",
       "30          NaN   NaN              NaN  UC Berkeley        ARE  ...   \n",
       "39          NaN   NaN              NaN  UC Berkeley        ARE  ...   \n",
       "59          NaN   NaN              NaN  UC Berkeley        ARE  ...   \n",
       "...         ...   ...              ...          ...        ...  ...   \n",
       "1395        NaN   NaN              NaN  UC Berkeley        ARE  ...   \n",
       "1397        NaN   NaN              NaN  UC Berkeley        ARE  ...   \n",
       "1434        NaN   NaN              NaN  UC Berkeley        ARE  ...   \n",
       "1460        NaN   NaN              NaN  UC Berkeley        ARE  ...   \n",
       "1461        NaN   NaN              NaN  UC Berkeley        ARE  ...   \n",
       "\n",
       "     secondaryresearchfocus  dissertation_name placement placement_type  \\\n",
       "1                       NaN                NaN       NaN       Academic   \n",
       "23                      NaN                NaN       NaN      Economist   \n",
       "30                      NaN                NaN       NaN       Academic   \n",
       "39                      NaN                NaN       NaN       Academic   \n",
       "59                      NaN                NaN       NaN       Academic   \n",
       "...                     ...                ...       ...            ...   \n",
       "1395                    NaN                NaN       NaN       Academic   \n",
       "1397                    NaN                NaN       NaN       Academic   \n",
       "1434                    NaN                NaN       NaN      Economist   \n",
       "1460                    NaN                NaN       NaN       Academic   \n",
       "1461                    NaN                NaN       NaN       Academic   \n",
       "\n",
       "     academic postdoc                        position degree references  \\\n",
       "1         1.0     0.0             Assistant Professor    NaN        NaN   \n",
       "23        0.0     0.0              Research Economist    NaN        NaN   \n",
       "30        1.0     0.0             Assistant Professor    NaN        NaN   \n",
       "39        1.0     0.0  Lecturer (Assistant Professor)    NaN        NaN   \n",
       "59        1.0     0.0             Assistant Professor    NaN        NaN   \n",
       "...       ...     ...                             ...    ...        ...   \n",
       "1395      1.0     0.0             Assistant Professor    NaN        NaN   \n",
       "1397      1.0     0.0             Assistant Professor    NaN        NaN   \n",
       "1434      0.0     0.0                       Economist    NaN        NaN   \n",
       "1460      1.0     0.0             Assistant Professor    NaN        NaN   \n",
       "1461      1.0     0.0             Assistant Professor    NaN        NaN   \n",
       "\n",
       "        year  \n",
       "1     2011.0  \n",
       "23    2016.0  \n",
       "30    2018.0  \n",
       "39    2021.0  \n",
       "59    2019.0  \n",
       "...      ...  \n",
       "1395  2020.0  \n",
       "1397  2010.0  \n",
       "1434  2022.0  \n",
       "1460  2015.0  \n",
       "1461  2020.0  \n",
       "\n",
       "[158 rows x 25 columns]"
      ]
     },
     "execution_count": 110,
     "metadata": {},
     "output_type": "execute_result"
    }
   ],
   "source": [
    "old_df[(old_df['placement'].isna()) & (old_df['university'] == 'UC Berkeley') & (old_df['department'] == 'ARE')]\n"
   ]
  },
  {
   "cell_type": "code",
   "execution_count": 111,
   "metadata": {},
   "outputs": [],
   "source": [
    "# Get ARE placements HTML\n",
    "url = \"https://are.berkeley.edu/job-candidates/past-placements\"\n",
    "response = requests.get(url)\n",
    "\n",
    "# Save raw HTML\n",
    "with open('../data/raw/UC_Berkeley/berkeley_ARE_placements.html', 'w', encoding='utf-8') as f:\n",
    "    f.write(response.text)\n"
   ]
  },
  {
   "cell_type": "code",
   "execution_count": 118,
   "metadata": {},
   "outputs": [
    {
     "data": {
      "text/html": [
       "<div>\n",
       "<style scoped>\n",
       "    .dataframe tbody tr th:only-of-type {\n",
       "        vertical-align: middle;\n",
       "    }\n",
       "\n",
       "    .dataframe tbody tr th {\n",
       "        vertical-align: top;\n",
       "    }\n",
       "\n",
       "    .dataframe thead th {\n",
       "        text-align: right;\n",
       "    }\n",
       "</style>\n",
       "<table border=\"1\" class=\"dataframe\">\n",
       "  <thead>\n",
       "    <tr style=\"text-align: right;\">\n",
       "      <th></th>\n",
       "      <th>name</th>\n",
       "      <th>year</th>\n",
       "      <th>placement</th>\n",
       "    </tr>\n",
       "  </thead>\n",
       "  <tbody>\n",
       "    <tr>\n",
       "      <th>0</th>\n",
       "      <td>Anthony Millner</td>\n",
       "      <td>2012</td>\n",
       "      <td>Research Fellow, Grantham Research Institute, ...</td>\n",
       "    </tr>\n",
       "    <tr>\n",
       "      <th>1</th>\n",
       "      <td>Daniel Agness</td>\n",
       "      <td>2024</td>\n",
       "      <td>Assistant Professor, Economics, University of ...</td>\n",
       "    </tr>\n",
       "    <tr>\n",
       "      <th>2</th>\n",
       "      <td>David Anthoff</td>\n",
       "      <td>2012</td>\n",
       "      <td>Assistant Professor, School of Natural Resourc...</td>\n",
       "    </tr>\n",
       "    <tr>\n",
       "      <th>3</th>\n",
       "      <td>Helene Ollivier</td>\n",
       "      <td>2012</td>\n",
       "      <td>Research Fellow, Department of Economics, Univ...</td>\n",
       "    </tr>\n",
       "    <tr>\n",
       "      <th>4</th>\n",
       "      <td>Jenya Kahn-Lang</td>\n",
       "      <td>2023</td>\n",
       "      <td>Post-Doctoral Scholar (2023-24), Stanford Envi...</td>\n",
       "    </tr>\n",
       "    <tr>\n",
       "      <th>...</th>\n",
       "      <td>...</td>\n",
       "      <td>...</td>\n",
       "      <td>...</td>\n",
       "    </tr>\n",
       "    <tr>\n",
       "      <th>255</th>\n",
       "      <td>Greg Graff</td>\n",
       "      <td>2003</td>\n",
       "      <td>Director of Research, Research, Bio-Economic R...</td>\n",
       "    </tr>\n",
       "    <tr>\n",
       "      <th>256</th>\n",
       "      <td>Karen Macours</td>\n",
       "      <td>2003</td>\n",
       "      <td>Assistant Professor, Paul Nitze School of Adva...</td>\n",
       "    </tr>\n",
       "    <tr>\n",
       "      <th>257</th>\n",
       "      <td>Craig McIntosh</td>\n",
       "      <td>2003</td>\n",
       "      <td>Assistant Professor, International Relations &amp;...</td>\n",
       "    </tr>\n",
       "    <tr>\n",
       "      <th>258</th>\n",
       "      <td>Wolfram Schlenker</td>\n",
       "      <td>2003</td>\n",
       "      <td>Assistant Professor, School of International &amp;...</td>\n",
       "    </tr>\n",
       "    <tr>\n",
       "      <th>259</th>\n",
       "      <td>Ximing Wu</td>\n",
       "      <td>2003</td>\n",
       "      <td>Assistant Professor, Department of Agricultura...</td>\n",
       "    </tr>\n",
       "  </tbody>\n",
       "</table>\n",
       "<p>260 rows × 3 columns</p>\n",
       "</div>"
      ],
      "text/plain": [
       "                  name  year  \\\n",
       "0      Anthony Millner  2012   \n",
       "1        Daniel Agness  2024   \n",
       "2        David Anthoff  2012   \n",
       "3      Helene Ollivier  2012   \n",
       "4      Jenya Kahn-Lang  2023   \n",
       "..                 ...   ...   \n",
       "255         Greg Graff  2003   \n",
       "256      Karen Macours  2003   \n",
       "257     Craig McIntosh  2003   \n",
       "258  Wolfram Schlenker  2003   \n",
       "259          Ximing Wu  2003   \n",
       "\n",
       "                                             placement  \n",
       "0    Research Fellow, Grantham Research Institute, ...  \n",
       "1    Assistant Professor, Economics, University of ...  \n",
       "2    Assistant Professor, School of Natural Resourc...  \n",
       "3    Research Fellow, Department of Economics, Univ...  \n",
       "4    Post-Doctoral Scholar (2023-24), Stanford Envi...  \n",
       "..                                                 ...  \n",
       "255  Director of Research, Research, Bio-Economic R...  \n",
       "256  Assistant Professor, Paul Nitze School of Adva...  \n",
       "257  Assistant Professor, International Relations &...  \n",
       "258  Assistant Professor, School of International &...  \n",
       "259  Assistant Professor, Department of Agricultura...  \n",
       "\n",
       "[260 rows x 3 columns]"
      ]
     },
     "execution_count": 118,
     "metadata": {},
     "output_type": "execute_result"
    }
   ],
   "source": [
    "def parse_berkeley_ARE_placements(html_content):\n",
    "    soup = BeautifulSoup(html_content, 'html.parser')\n",
    "    \n",
    "    # Create initial list with known specific placements\n",
    "    placements = [\n",
    "        {\n",
    "            'name': 'Anthony Millner',\n",
    "            'year': 2012,\n",
    "            'placement': 'Research Fellow, Grantham Research Institute, London School of Economics'\n",
    "        },\n",
    "        {\n",
    "            'name': 'Daniel Agness',\n",
    "            'year': 2024,\n",
    "            'placement': 'Assistant Professor, Economics, University of Maryland'\n",
    "        },\n",
    "        {\n",
    "            'name': 'David Anthoff',\n",
    "            'year': 2012,\n",
    "            'placement': 'Assistant Professor, School of Natural Resources and Environment, University of Michigan'\n",
    "        },\n",
    "        {\n",
    "            'name': 'Helene Ollivier',\n",
    "            'year': 2012,\n",
    "            'placement': 'Research Fellow, Department of Economics, University of Paris 1 Pantheon-Sorbonne and CNRS'\n",
    "        },\n",
    "        {\n",
    "            'name': 'Jenya Kahn-Lang',\n",
    "            'year': 2023,\n",
    "            'placement': 'Post-Doctoral Scholar (2023-24), Stanford Environmental and Energy Policy Analysis Center, Stanford University'\n",
    "        },\n",
    "        {\n",
    "            'name': 'Katrina Mullan',\n",
    "            'year': 2012,\n",
    "            'placement': 'Assistant Professor, Department of Economics, University of Montana'\n",
    "        },\n",
    "        {\n",
    "            'name': 'Meredith Fowlie',\n",
    "            'year': 2006,\n",
    "            'placement': 'Assistant Professor, Ford School of Public Policy/Economics, University of Michigan'\n",
    "        },\n",
    "        {\n",
    "            'name': 'Obie Porteous',\n",
    "            'year': 2016,\n",
    "            'placement': 'Assistant Professor, Department of Economics, Middlebury College'\n",
    "        },\n",
    "        {\n",
    "            'name': 'Xiangyi (Daniel) Meng',\n",
    "            'year': 2007,\n",
    "            'placement': 'Assistant Professor, School of Public Finance and Public Policy, Central University of Finance and Economics, Beijing, China'\n",
    "        }\n",
    "    ]\n",
    "    \n",
    "    # Continue with regular parsing for other entries\n",
    "    years = soup.find_all('h2')\n",
    "    \n",
    "    for year_tag in years:\n",
    "        try:\n",
    "            year_text = year_tag.text.strip()\n",
    "            if not year_text.isdigit():\n",
    "                continue\n",
    "            year = int(year_text)\n",
    "            \n",
    "            table = year_tag.find_next('table')\n",
    "            if table:\n",
    "                rows = table.find_all('tr')\n",
    "                for row in rows:\n",
    "                    cells = row.find_all('td')\n",
    "                    if len(cells) >= 3:\n",
    "                        name_cell = cells[0]\n",
    "                        name = name_cell.get_text(strip=True)\n",
    "                        if not name or 'Post Doctoral' in name:\n",
    "                            continue\n",
    "                            \n",
    "                        position = cells[1].get_text(strip=True)\n",
    "                        \n",
    "                        if len(cells) == 3:\n",
    "                            institution = cells[2].get_text(strip=True)\n",
    "                        else:\n",
    "                            dept = cells[2].get_text(strip=True)\n",
    "                            inst = cells[3].get_text(strip=True)\n",
    "                            institution = f\"{dept}, {inst}\" if dept else inst\n",
    "                        \n",
    "                        if name and position and institution:\n",
    "                            placements.append({\n",
    "                                'name': name,\n",
    "                                'year': year,\n",
    "                                'placement': f\"{position}, {institution}\"\n",
    "                            })\n",
    "        except ValueError:\n",
    "            continue\n",
    "    \n",
    "    return pd.DataFrame(placements)\n",
    "\n",
    "# Usage:\n",
    "with open('../data/raw/UC_Berkeley/berkeley_ARE_placements.html', 'r', encoding='utf-8') as f:\n",
    "    html_content = f.read()\n",
    "    \n",
    "berkeley_ARE_placements = parse_berkeley_ARE_placements(html_content)\n",
    "\n",
    "berkeley_ARE_placements['name'] = berkeley_ARE_placements['name'].str.replace(r'\\([^)]*\\)', '', regex=True).str.strip()\n",
    "berkeley_ARE_placements.to_csv('../data/raw/UC_Berkeley/berkeley_ARE_placements.csv', index=False)\n",
    "berkeley_ARE_placements"
   ]
  },
  {
   "cell_type": "code",
   "execution_count": 119,
   "metadata": {},
   "outputs": [
    {
     "data": {
      "text/plain": [
       "array(['Xiangyi (Daniel) Meng'], dtype=object)"
      ]
     },
     "execution_count": 119,
     "metadata": {},
     "output_type": "execute_result"
    }
   ],
   "source": [
    "# Update placements from berkeley_ARE_placements\n",
    "old_df = old_df.merge(berkeley_ARE_placements[['name', 'placement']], \n",
    "                      on='name', \n",
    "                      how='left', \n",
    "                      suffixes=('', '_are'))\n",
    "\n",
    "# Where there is an ARE placement, use it to update the original placement\n",
    "mask = old_df['placement_are'].notna()\n",
    "old_df.loc[mask, 'placement'] = old_df.loc[mask, 'placement_are']\n",
    "\n",
    "# Drop the temporary ARE placement column\n",
    "old_df = old_df.drop('placement_are', axis=1)\n",
    "\n",
    "old_df[(old_df['placement'].isna()) & (old_df['university'] == 'UC Berkeley') & (old_df['department'] == 'ARE')]['name'].unique()\n"
   ]
  },
  {
   "cell_type": "code",
   "execution_count": 120,
   "metadata": {},
   "outputs": [
    {
     "data": {
      "text/plain": [
       "array([], dtype=object)"
      ]
     },
     "execution_count": 120,
     "metadata": {},
     "output_type": "execute_result"
    }
   ],
   "source": [
    "# Update placement for Xiangyi (Daniel) Meng\n",
    "old_df.loc[old_df['name'] == 'Xiangyi (Daniel) Meng', 'placement'] = 'Assistant Professor, School of Public Finance and Public Policy, Central University of Finance and Economics, Beijing, China'\n",
    "\n",
    "old_df[(old_df['placement'].isna()) & (old_df['university'] == 'UC Berkeley') & (old_df['department'] == 'ARE')]['name'].unique()"
   ]
  },
  {
   "cell_type": "code",
   "execution_count": 121,
   "metadata": {},
   "outputs": [
    {
     "data": {
      "text/plain": [
       "array(['Abhi Gupta', 'Andrea Cerrato', 'Andrew Tai', 'Bryan Chu',\n",
       "       'Cesia Sanchez', 'Collin Jones', 'David Wu', 'Farzad Pourbabaee',\n",
       "       'Felipe Arteaga', 'Felipe Lobel', 'Hadar Avivi',\n",
       "       'John Wieselthier', 'Kai Zen', 'Kevin Dano', 'Landin Smith',\n",
       "       'Lukas Leucht', 'Madeline Duhon', 'Martin Caruso-Bloeck',\n",
       "       'Miguel Ortiz', 'Muhammad Zia Mehmood', 'Nicholas Swanson',\n",
       "       'Nick Gebbia', 'Oliver Kim', 'Sreeraahul Kancherla',\n",
       "       'Yassine Sbai Sassi'], dtype=object)"
      ]
     },
     "execution_count": 121,
     "metadata": {},
     "output_type": "execute_result"
    }
   ],
   "source": [
    "# Now for eocnomic department\n",
    "old_df[(old_df['placement'].isna()) & (old_df['university'] == 'UC Berkeley') & (old_df['department'] == 'Economics')]['name'].unique()"
   ]
  },
  {
   "cell_type": "code",
   "execution_count": null,
   "metadata": {},
   "outputs": [],
   "source": []
  },
  {
   "cell_type": "markdown",
   "metadata": {},
   "source": [
    "I see, we can't get the placement for the economics department, let's remove them"
   ]
  },
  {
   "cell_type": "code",
   "execution_count": 122,
   "metadata": {},
   "outputs": [],
   "source": [
    "names_to_remove = ['Abhi Gupta', 'Andrea Cerrato', 'Andrew Tai', 'Bryan Chu',\n",
    "       'Cesia Sanchez', 'Collin Jones', 'David Wu', 'Farzad Pourbabaee',\n",
    "       'Felipe Arteaga', 'Felipe Lobel', 'Hadar Avivi',\n",
    "       'John Wieselthier', 'Kai Zen', 'Kevin Dano', 'Landin Smith',\n",
    "       'Lukas Leucht', 'Madeline Duhon', 'Martin Caruso-Bloeck',\n",
    "       'Miguel Ortiz', 'Muhammad Zia Mehmood', 'Nicholas Swanson',\n",
    "       'Nick Gebbia', 'Oliver Kim', 'Sreeraahul Kancherla',\n",
    "       'Yassine Sbai Sassi']\n",
    "\n",
    "old_df = old_df[~old_df['name'].isin(names_to_remove)]"
   ]
  },
  {
   "cell_type": "code",
   "execution_count": 126,
   "metadata": {},
   "outputs": [
    {
     "data": {
      "text/plain": [
       "array(['Yale', 'Columbia University', 'University of Pennsylvania', 'NYU',\n",
       "       'UChicago', 'UCSD', 'Cornell'], dtype=object)"
      ]
     },
     "execution_count": 126,
     "metadata": {},
     "output_type": "execute_result"
    }
   ],
   "source": [
    "old_df = old_df[old_df['university'] != 'Northwestern University']\n",
    "old_df.loc[old_df['university'] == 'UC Chicago', 'university'] = 'UChicago'\n",
    "old_df[old_df['placement'].isna()]['university'].unique()\n"
   ]
  },
  {
   "cell_type": "markdown",
   "metadata": {},
   "source": [
    "we still have: "
   ]
  },
  {
   "cell_type": "code",
   "execution_count": 134,
   "metadata": {},
   "outputs": [
    {
     "name": "stdout",
     "output_type": "stream",
     "text": [
      "Yale:\n"
     ]
    },
    {
     "data": {
      "text/plain": [
       "83"
      ]
     },
     "metadata": {},
     "output_type": "display_data"
    },
    {
     "name": "stdout",
     "output_type": "stream",
     "text": [
      "\n",
      "Columbia University:\n"
     ]
    },
    {
     "data": {
      "text/plain": [
       "0"
      ]
     },
     "metadata": {},
     "output_type": "display_data"
    },
    {
     "name": "stdout",
     "output_type": "stream",
     "text": [
      "\n",
      "University of Pennsylvania:\n"
     ]
    },
    {
     "data": {
      "text/plain": [
       "13"
      ]
     },
     "metadata": {},
     "output_type": "display_data"
    },
    {
     "name": "stdout",
     "output_type": "stream",
     "text": [
      "\n",
      "NYU:\n"
     ]
    },
    {
     "data": {
      "text/plain": [
       "19"
      ]
     },
     "metadata": {},
     "output_type": "display_data"
    },
    {
     "name": "stdout",
     "output_type": "stream",
     "text": [
      "\n",
      "UChicago:\n"
     ]
    },
    {
     "data": {
      "text/plain": [
       "37"
      ]
     },
     "metadata": {},
     "output_type": "display_data"
    },
    {
     "name": "stdout",
     "output_type": "stream",
     "text": [
      "UCSD:\n"
     ]
    },
    {
     "data": {
      "text/plain": [
       "16"
      ]
     },
     "metadata": {},
     "output_type": "display_data"
    },
    {
     "name": "stdout",
     "output_type": "stream",
     "text": [
      "\n",
      "Cornell:\n"
     ]
    },
    {
     "data": {
      "text/plain": [
       "8"
      ]
     },
     "metadata": {},
     "output_type": "display_data"
    }
   ],
   "source": [
    "def check_missing():\n",
    "    print(\"Yale:\")\n",
    "    display(len(old_df[(old_df['placement'].isna()) & (old_df['university'] == 'Yale')]))\n",
    "\n",
    "    print(\"\\nColumbia University:\")\n",
    "    display(len(old_df[(old_df['placement'].isna()) & (old_df['university'] == 'Columbia University')]))\n",
    "\n",
    "    print(\"\\nUniversity of Pennsylvania:\")\n",
    "    display(len(old_df[(old_df['placement'].isna()) & (old_df['university'] == 'University of Pennsylvania')]))\n",
    "\n",
    "    print(\"\\nNYU:\")\n",
    "    display(len(old_df[(old_df['placement'].isna()) & (old_df['university'] == 'NYU')]))\n",
    "\n",
    "    print(\"\\nUChicago:\")\n",
    "    display(len(old_df[(old_df['placement'].isna()) & (old_df['university'] == 'UChicago')]))\n",
    "\n",
    "    print(\"UCSD:\")\n",
    "    display(len(old_df[(old_df['placement'].isna()) & (old_df['university'] == 'UCSD')]))\n",
    "\n",
    "    print(\"\\nCornell:\")\n",
    "    display(len(old_df[(old_df['placement'].isna()) & (old_df['university'] == 'Cornell')]))\n",
    "\n",
    "check_missing()"
   ]
  },
  {
   "cell_type": "code",
   "execution_count": 132,
   "metadata": {},
   "outputs": [
    {
     "data": {
      "text/plain": [
       "18           Akanksha Vardani\n",
       "393         Emilio Zaratiegui\n",
       "581               James Jiang\n",
       "669                Jongho Lee\n",
       "739                Kosha Modi\n",
       "833             Lucas de Lara\n",
       "903     Matthew Alampay Davis\n",
       "904            Matthew Easton\n",
       "1067         Palaash Bhargava\n",
       "1197           Sang Hoon Kong\n",
       "1400          Victoria Mooers\n",
       "Name: name, dtype: object"
      ]
     },
     "execution_count": 132,
     "metadata": {},
     "output_type": "execute_result"
    }
   ],
   "source": [
    "old_df[(old_df['placement'].isna()) & (old_df['university'] == 'Columbia University')]['name']"
   ]
  },
  {
   "cell_type": "code",
   "execution_count": 133,
   "metadata": {},
   "outputs": [],
   "source": [
    "# These does not have placement data, let's remove them\n",
    "names_to_remove = old_df[(old_df['placement'].isna()) & (old_df['university'] == 'Columbia University')]['name'].tolist()\n",
    "old_df = old_df[~old_df['name'].isin(names_to_remove)]"
   ]
  },
  {
   "cell_type": "code",
   "execution_count": 135,
   "metadata": {},
   "outputs": [
    {
     "name": "stdout",
     "output_type": "stream",
     "text": [
      "Yale:\n"
     ]
    },
    {
     "data": {
      "text/plain": [
       "83"
      ]
     },
     "metadata": {},
     "output_type": "display_data"
    },
    {
     "name": "stdout",
     "output_type": "stream",
     "text": [
      "\n",
      "Columbia University:\n"
     ]
    },
    {
     "data": {
      "text/plain": [
       "0"
      ]
     },
     "metadata": {},
     "output_type": "display_data"
    },
    {
     "name": "stdout",
     "output_type": "stream",
     "text": [
      "\n",
      "University of Pennsylvania:\n"
     ]
    },
    {
     "data": {
      "text/plain": [
       "13"
      ]
     },
     "metadata": {},
     "output_type": "display_data"
    },
    {
     "name": "stdout",
     "output_type": "stream",
     "text": [
      "\n",
      "NYU:\n"
     ]
    },
    {
     "data": {
      "text/plain": [
       "19"
      ]
     },
     "metadata": {},
     "output_type": "display_data"
    },
    {
     "name": "stdout",
     "output_type": "stream",
     "text": [
      "\n",
      "UChicago:\n"
     ]
    },
    {
     "data": {
      "text/plain": [
       "37"
      ]
     },
     "metadata": {},
     "output_type": "display_data"
    },
    {
     "name": "stdout",
     "output_type": "stream",
     "text": [
      "UCSD:\n"
     ]
    },
    {
     "data": {
      "text/plain": [
       "16"
      ]
     },
     "metadata": {},
     "output_type": "display_data"
    },
    {
     "name": "stdout",
     "output_type": "stream",
     "text": [
      "\n",
      "Cornell:\n"
     ]
    },
    {
     "data": {
      "text/plain": [
       "8"
      ]
     },
     "metadata": {},
     "output_type": "display_data"
    }
   ],
   "source": [
    "check_missing()"
   ]
  },
  {
   "cell_type": "code",
   "execution_count": 138,
   "metadata": {},
   "outputs": [
    {
     "data": {
      "text/plain": [
       "array(['Alberto Ramirez de Aguilar', 'Assa Cohen', 'Byunghoon Kim',\n",
       "       'Cesar Urquizo Ubillus', 'Daniel Jaar', 'Felipe Barbieri',\n",
       "       'German Sanchez Sanchez', 'Jordan Peeples', 'Juan Sagredo',\n",
       "       'Kristen Beamer Shure', 'Lucienne N.Y. Disch', 'Ornella Darova',\n",
       "       'Ozgur Seker'], dtype=object)"
      ]
     },
     "execution_count": 138,
     "metadata": {},
     "output_type": "execute_result"
    }
   ],
   "source": [
    "old_df[(old_df['placement'].isna()) & (old_df['university'] == 'University of Pennsylvania')]['name'].unique()"
   ]
  },
  {
   "cell_type": "code",
   "execution_count": 139,
   "metadata": {},
   "outputs": [
    {
     "name": "stdout",
     "output_type": "stream",
     "text": [
      "Yale:\n"
     ]
    },
    {
     "data": {
      "text/plain": [
       "83"
      ]
     },
     "metadata": {},
     "output_type": "display_data"
    },
    {
     "name": "stdout",
     "output_type": "stream",
     "text": [
      "\n",
      "Columbia University:\n"
     ]
    },
    {
     "data": {
      "text/plain": [
       "0"
      ]
     },
     "metadata": {},
     "output_type": "display_data"
    },
    {
     "name": "stdout",
     "output_type": "stream",
     "text": [
      "\n",
      "University of Pennsylvania:\n"
     ]
    },
    {
     "data": {
      "text/plain": [
       "0"
      ]
     },
     "metadata": {},
     "output_type": "display_data"
    },
    {
     "name": "stdout",
     "output_type": "stream",
     "text": [
      "\n",
      "NYU:\n"
     ]
    },
    {
     "data": {
      "text/plain": [
       "19"
      ]
     },
     "metadata": {},
     "output_type": "display_data"
    },
    {
     "name": "stdout",
     "output_type": "stream",
     "text": [
      "\n",
      "UChicago:\n"
     ]
    },
    {
     "data": {
      "text/plain": [
       "37"
      ]
     },
     "metadata": {},
     "output_type": "display_data"
    },
    {
     "name": "stdout",
     "output_type": "stream",
     "text": [
      "UCSD:\n"
     ]
    },
    {
     "data": {
      "text/plain": [
       "16"
      ]
     },
     "metadata": {},
     "output_type": "display_data"
    },
    {
     "name": "stdout",
     "output_type": "stream",
     "text": [
      "\n",
      "Cornell:\n"
     ]
    },
    {
     "data": {
      "text/plain": [
       "8"
      ]
     },
     "metadata": {},
     "output_type": "display_data"
    }
   ],
   "source": [
    "#same goes here, curernt ones does not have placement data\n",
    "names_to_remove = old_df[(old_df['placement'].isna()) & (old_df['university'] == 'University of Pennsylvania')]['name'].tolist()\n",
    "old_df = old_df[~old_df['name'].isin(names_to_remove)]\n",
    "check_missing()\n"
   ]
  },
  {
   "cell_type": "code",
   "execution_count": 141,
   "metadata": {},
   "outputs": [
    {
     "data": {
      "text/plain": [
       "array(['Aleksandra Alferova', 'Andres Ghini', 'Angela Crema',\n",
       "       'Eungik (Eun) Lee', 'Facundo Danza', 'Felipe Camelo',\n",
       "       'Guillaume Nevo', 'Jimena Galindo', 'Jin Liu', 'Kenji Wada',\n",
       "       'Leon Guzman Lizardo', 'Paolo Varraso', 'Paula Onuchic',\n",
       "       'Stefan Bucher', 'Teresa Steininger', 'Vishal Ashvinkumar',\n",
       "       'William Witheridge', 'Wonseok Yoo', 'Yusufcan Demirkan'],\n",
       "      dtype=object)"
      ]
     },
     "execution_count": 141,
     "metadata": {},
     "output_type": "execute_result"
    }
   ],
   "source": [
    "old_df[(old_df['placement'].isna()) & (old_df['university'] == 'NYU')]['name'].unique()\n",
    "# No placement data, just ignore these"
   ]
  },
  {
   "cell_type": "code",
   "execution_count": 142,
   "metadata": {},
   "outputs": [
    {
     "data": {
      "text/plain": [
       "array(['Bowen Tan', 'Elmer Zongyang Li', 'Giulia Olivero',\n",
       "       'Hyuk Harry Son', 'Megan Hyland', 'Qiwei He',\n",
       "       'Revathy Suryanarayana', 'Zhiyang Zhu'], dtype=object)"
      ]
     },
     "execution_count": 142,
     "metadata": {},
     "output_type": "execute_result"
    }
   ],
   "source": [
    "old_df[(old_df['placement'].isna()) & (old_df['university'] == 'Cornell')]['name'].unique()\n"
   ]
  },
  {
   "cell_type": "code",
   "execution_count": 143,
   "metadata": {},
   "outputs": [],
   "source": [
    "Cornell_missing_placements = {\n",
    "    'Bowen Tan': 'Assistant Professor, Department of Economics, University of Maryland',\n",
    "    'Elmer Zongyang Li': 'IMF Economist Program', \n",
    "    'Giulia Olivero': 'Assistant Professor, Department of Economics, University of Maryland',\n",
    "    'Hyuk Harry Son': 'One-year Postdoctoral Fellow, Stanford Environmental and Energy Policy Analysis Center (SEEPAC); then Assistant Professor, Harris School of Public Policy, University of Chicago',\n",
    "    'Megan Hyland': 'Economist, Center for Medicare',\n",
    "    'Qiwei He': 'Lecturer (Assistant Professor), University of Edinburgh',\n",
    "    'Revathy Suryanarayana': 'Assistant Professor of Health Economics and Policy, UT Southwestern Medical School',\n",
    "    'Zhiyang Zhu': 'Visiting Assistant Professor in Economics and Management, Depauw University'\n",
    "}\n",
    "\n",
    "# Update placement values for Cornell students using the dictionary\n",
    "for name, placement in Cornell_missing_placements.items():\n",
    "    old_df.loc[old_df['name'] == name, 'placement'] = placement\n"
   ]
  },
  {
   "cell_type": "code",
   "execution_count": 144,
   "metadata": {},
   "outputs": [
    {
     "name": "stdout",
     "output_type": "stream",
     "text": [
      "Yale:\n"
     ]
    },
    {
     "data": {
      "text/plain": [
       "83"
      ]
     },
     "metadata": {},
     "output_type": "display_data"
    },
    {
     "name": "stdout",
     "output_type": "stream",
     "text": [
      "\n",
      "Columbia University:\n"
     ]
    },
    {
     "data": {
      "text/plain": [
       "0"
      ]
     },
     "metadata": {},
     "output_type": "display_data"
    },
    {
     "name": "stdout",
     "output_type": "stream",
     "text": [
      "\n",
      "University of Pennsylvania:\n"
     ]
    },
    {
     "data": {
      "text/plain": [
       "0"
      ]
     },
     "metadata": {},
     "output_type": "display_data"
    },
    {
     "name": "stdout",
     "output_type": "stream",
     "text": [
      "\n",
      "NYU:\n"
     ]
    },
    {
     "data": {
      "text/plain": [
       "19"
      ]
     },
     "metadata": {},
     "output_type": "display_data"
    },
    {
     "name": "stdout",
     "output_type": "stream",
     "text": [
      "\n",
      "UChicago:\n"
     ]
    },
    {
     "data": {
      "text/plain": [
       "37"
      ]
     },
     "metadata": {},
     "output_type": "display_data"
    },
    {
     "name": "stdout",
     "output_type": "stream",
     "text": [
      "UCSD:\n"
     ]
    },
    {
     "data": {
      "text/plain": [
       "16"
      ]
     },
     "metadata": {},
     "output_type": "display_data"
    },
    {
     "name": "stdout",
     "output_type": "stream",
     "text": [
      "\n",
      "Cornell:\n"
     ]
    },
    {
     "data": {
      "text/plain": [
       "0"
      ]
     },
     "metadata": {},
     "output_type": "display_data"
    }
   ],
   "source": [
    "check_missing()"
   ]
  },
  {
   "cell_type": "code",
   "execution_count": 145,
   "metadata": {},
   "outputs": [
    {
     "name": "stdout",
     "output_type": "stream",
     "text": [
      "Yale:\n"
     ]
    },
    {
     "data": {
      "text/plain": [
       "83"
      ]
     },
     "metadata": {},
     "output_type": "display_data"
    },
    {
     "name": "stdout",
     "output_type": "stream",
     "text": [
      "\n",
      "Columbia University:\n"
     ]
    },
    {
     "data": {
      "text/plain": [
       "0"
      ]
     },
     "metadata": {},
     "output_type": "display_data"
    },
    {
     "name": "stdout",
     "output_type": "stream",
     "text": [
      "\n",
      "University of Pennsylvania:\n"
     ]
    },
    {
     "data": {
      "text/plain": [
       "0"
      ]
     },
     "metadata": {},
     "output_type": "display_data"
    },
    {
     "name": "stdout",
     "output_type": "stream",
     "text": [
      "\n",
      "NYU:\n"
     ]
    },
    {
     "data": {
      "text/plain": [
       "19"
      ]
     },
     "metadata": {},
     "output_type": "display_data"
    },
    {
     "name": "stdout",
     "output_type": "stream",
     "text": [
      "\n",
      "UChicago:\n"
     ]
    },
    {
     "data": {
      "text/plain": [
       "37"
      ]
     },
     "metadata": {},
     "output_type": "display_data"
    },
    {
     "name": "stdout",
     "output_type": "stream",
     "text": [
      "UCSD:\n"
     ]
    },
    {
     "data": {
      "text/plain": [
       "0"
      ]
     },
     "metadata": {},
     "output_type": "display_data"
    },
    {
     "name": "stdout",
     "output_type": "stream",
     "text": [
      "\n",
      "Cornell:\n"
     ]
    },
    {
     "data": {
      "text/plain": [
       "0"
      ]
     },
     "metadata": {},
     "output_type": "display_data"
    }
   ],
   "source": [
    "names_to_remove = old_df[old_df['university'] == 'UCSD']['name'].tolist()\n",
    "old_df = old_df[~old_df['name'].isin(names_to_remove)]\n",
    "check_missing()\n"
   ]
  },
  {
   "cell_type": "code",
   "execution_count": 147,
   "metadata": {},
   "outputs": [
    {
     "data": {
      "text/plain": [
       "array(['Aleksei Oskolkov', 'Ben Marrow', 'Boxin Zhao', 'Cong Zhang',\n",
       "       'Dilara Sonmez', 'Ebru Kasikaralar', 'Esperanza Johnson',\n",
       "       'Estéfano Rubio', 'Federico Mainardi', 'Fern Ramoutar',\n",
       "       'Harshil Sahai', 'Ivan Chit Pan Kwok', 'Jiaqi Yu', 'Jingoo Kwon',\n",
       "       'Jingtao Zheng', 'Jizhou Liu', 'Jonas Piero Dalmazzo', 'Kevin Lee',\n",
       "       'Lucy Msall', 'Manav Chaudhary', 'Marco Loseto', 'Marcos Sora',\n",
       "       'Michael Galperin', 'Michael Varley', 'Nadav Kunievsky',\n",
       "       'Nicholas Herzog', 'Rafael Batista', 'Rayhan Momin',\n",
       "       'Sangmin (Simon) Oh', 'Santiago Franco', 'Scott Behmer',\n",
       "       'Sidharth Sah', 'Sulagna Dasgupta', 'Toshiaki Komatsu',\n",
       "       'Yixin Sun', 'Yucel (Naz) Yetimoglu', 'Zhiyu Fu'], dtype=object)"
      ]
     },
     "execution_count": 147,
     "metadata": {},
     "output_type": "execute_result"
    }
   ],
   "source": [
    "old_df[(old_df['placement'].isna()) & (old_df['university'] == 'UChicago')]['name'].unique()\n",
    "# all these are candiddates so they do not have placement data, same with NYU, we are done with this data.\n",
    "\n"
   ]
  },
  {
   "cell_type": "markdown",
   "metadata": {},
   "source": [
    "# all these are candiddates so they do not have placement data, same with NYU, we are done with this data.\n"
   ]
  },
  {
   "cell_type": "code",
   "execution_count": 149,
   "metadata": {},
   "outputs": [],
   "source": [
    "old_df.to_csv('../data/analyzed_data/old_placement_data.csv', index=False)"
   ]
  },
  {
   "cell_type": "markdown",
   "metadata": {},
   "source": []
  }
 ],
 "metadata": {
  "kernelspec": {
   "display_name": "datascience",
   "language": "python",
   "name": "python3"
  },
  "language_info": {
   "codemirror_mode": {
    "name": "ipython",
    "version": 3
   },
   "file_extension": ".py",
   "mimetype": "text/x-python",
   "name": "python",
   "nbconvert_exporter": "python",
   "pygments_lexer": "ipython3",
   "version": "3.12.8"
  }
 },
 "nbformat": 4,
 "nbformat_minor": 2
}
