{
 "cells": [
  {
   "cell_type": "markdown",
   "id": "c2ff0d77",
   "metadata": {},
   "source": [
    "# Web Scraping Economics Department Data\n",
    "\n",
    "This notebook demonstrates how to scrape placement and current candidate data from various university economics departments using Python."
   ]
  },
  {
   "cell_type": "code",
   "execution_count": 2,
   "id": "22f30deb",
   "metadata": {},
   "outputs": [],
   "source": [
    "import os\n",
    "import pandas as pd\n",
    "from bs4 import BeautifulSoup\n",
    "import re\n",
    "import numpy as np"
   ]
  },
  {
   "cell_type": "markdown",
   "id": "74ddf690",
   "metadata": {},
   "source": [
    "## Data Scraping - First Step\n",
    "\n",
    "Here we will roughly scrape the placement and current candidate data from each university's website as html files."
   ]
  },
  {
   "cell_type": "code",
   "execution_count": 8,
   "id": "22534453",
   "metadata": {},
   "outputs": [
    {
     "name": "stdout",
     "output_type": "stream",
     "text": [
      "\n",
      "Processing UCSD...\n",
      "Fetching placement page...\n",
      "Successfully saved: data/UCSD/UCSD_Placement.html\n",
      "Fetching candidates page...\n",
      "Successfully saved: data/UCSD/UCSD_Candidate.html\n",
      "\n",
      "Processing Stanford...\n",
      "Fetching placement page...\n",
      "Successfully saved: data/Stanford/Stanford_Placement.html\n",
      "Fetching candidates page...\n",
      "Successfully saved: data/Stanford/Stanford_Candidate.html\n",
      "\n",
      "Processing Princeton...\n",
      "Fetching placement page...\n",
      "Error fetching https://economics.princeton.edu/graduate-program/job-market-and-placements/statistics-on-past-placements/: 500 Server Error: Internal Server Error for url: https://economics.princeton.edu/graduate-program/job-market-and-placements/statistics-on-past-placements/\n",
      "Fetching candidates page...\n",
      "Error fetching https://economics.princeton.edu/graduate-program/job-market-and-placements/2024-job-market-candidates/: 500 Server Error: Internal Server Error for url: https://economics.princeton.edu/graduate-program/job-market-and-placements/2024-job-market-candidates/\n",
      "\n",
      "Processing Northwestern...\n",
      "Fetching placement page...\n",
      "Successfully saved: data/Northwestern/Northwestern_Placement.html\n",
      "Fetching candidates page...\n",
      "Successfully saved: data/Northwestern/Northwestern_Candidate.html\n",
      "\n",
      "Processing UC_Davis...\n",
      "Fetching placement page...\n",
      "Successfully saved: data/UC_Davis/UC_Davis_Placement.html\n",
      "Fetching candidates page...\n",
      "Successfully saved: data/UC_Davis/UC_Davis_Candidate.html\n",
      "\n",
      "Processing UC_Riverside...\n",
      "Fetching placement page...\n",
      "Successfully saved: data/UC_Riverside/UC_Riverside_Placement.html\n",
      "Fetching candidates page...\n",
      "Successfully saved: data/UC_Riverside/UC_Riverside_Candidate.html\n",
      "\n",
      "Processing UC_Santa_Cruz...\n",
      "Fetching placement page...\n",
      "Successfully saved: data/UC_Santa_Cruz/UC_Santa_Cruz_Placement.html\n",
      "Fetching candidates page...\n",
      "Successfully saved: data/UC_Santa_Cruz/UC_Santa_Cruz_Candidate.html\n",
      "\n",
      "Processing UC_Santa_Barbara...\n",
      "Fetching placement page...\n",
      "Successfully saved: data/UC_Santa_Barbara/UC_Santa_Barbara_Placement.html\n",
      "Fetching candidates page...\n",
      "Successfully saved: data/UC_Santa_Barbara/UC_Santa_Barbara_Candidate.html\n",
      "\n",
      "Scraping completed!\n"
     ]
    }
   ],
   "source": [
    "import os\n",
    "import requests\n",
    "import time\n",
    "from urllib.parse import urlparse\n",
    "\n",
    "def create_directory(path):\n",
    "    \"\"\"Create directory if it doesn't exist\"\"\"\n",
    "    if not os.path.exists(path):\n",
    "        os.makedirs(path)\n",
    "\n",
    "def clean_filename(url):\n",
    "    \"\"\"Create a clean filename from URL\"\"\"\n",
    "    parsed = urlparse(url)\n",
    "    # Remove common extensions and special characters\n",
    "    filename = parsed.path.rstrip('/').split('/')[-1]\n",
    "    if not filename:\n",
    "        filename = 'index'\n",
    "    return filename\n",
    "\n",
    "def fetch_page(url, headers):\n",
    "    \"\"\"Fetch webpage content with error handling\"\"\"\n",
    "    try:\n",
    "        response = requests.get(url, headers=headers)\n",
    "        response.raise_for_status()\n",
    "        return response.text\n",
    "    except requests.RequestException as e:\n",
    "        print(f\"Error fetching {url}: {e}\")\n",
    "        return None\n",
    "\n",
    "def save_html(content, filepath):\n",
    "    \"\"\"Save HTML content to file\"\"\"\n",
    "    try:\n",
    "        with open(filepath, 'w', encoding='utf-8') as f:\n",
    "            f.write(content)\n",
    "        print(f\"Successfully saved: {filepath}\")\n",
    "    except Exception as e:\n",
    "        print(f\"Error saving {filepath}: {e}\")\n",
    "\n",
    "def main():\n",
    "    # Create data directory\n",
    "    data_dir = \"data\"\n",
    "    create_directory(data_dir)\n",
    "\n",
    "    # Headers for requests\n",
    "    headers = {\n",
    "        'User-Agent': 'Mozilla/5.0 (Windows NT 10.0; Win64; x64) AppleWebKit/537.36 (KHTML, like Gecko) Chrome/91.0.4472.124 Safari/537.36'\n",
    "    }\n",
    "\n",
    "    # Dictionary of universities and their URLs\n",
    "    universities = {\n",
    "        'UCSD': {\n",
    "            'placement': 'https://economics.ucsd.edu/graduate-program/jobmarket-tab/placement-history.html',\n",
    "            'candidates': 'https://economics.ucsd.edu/graduate-program/jobmarket-tab/index.html'\n",
    "        },\n",
    "        'Stanford': {\n",
    "            'placement': 'https://economics.stanford.edu/graduate/student-placement',\n",
    "            'candidates': 'https://economics.stanford.edu/graduate/job-market-candidates'\n",
    "        },\n",
    "        'Princeton': {\n",
    "            'placement': 'https://economics.princeton.edu/graduate-program/job-market-and-placements/statistics-on-past-placements/',\n",
    "            'candidates': 'https://economics.princeton.edu/graduate-program/job-market-and-placements/2024-job-market-candidates/'\n",
    "        },\n",
    "        'Northwestern': {\n",
    "            'placement': 'https://economics.northwestern.edu/graduate/prospective/placement.html',\n",
    "            'candidates': 'https://economics.northwestern.edu/people/phd-job-market-candidates/'\n",
    "        },\n",
    "        'UC_Davis': {\n",
    "            'placement': 'https://economics.ucdavis.edu/graduate-student-placements',\n",
    "            'candidates': 'https://economics.ucdavis.edu/people/on-the-job-market'\n",
    "        },\n",
    "        'UC_Riverside': {\n",
    "            'placement': 'https://economics.ucr.edu/graduate-program/placement/',\n",
    "            'candidates': 'https://economics.ucr.edu/graduate-job-candidates/'\n",
    "        },\n",
    "        'UC_Santa_Cruz': {\n",
    "            'placement': 'https://economics.ucsc.edu/academics/graduate-program/PhD/placement.html',\n",
    "            'candidates': 'https://economics.ucsc.edu/academics/graduate-program/PhD/job-market/candidates_24-25.html'\n",
    "        },\n",
    "        'UC_Santa_Barbara': {\n",
    "            'placement': 'https://econ.ucsb.edu/programs/graduate/placement',\n",
    "            'candidates': 'https://econ.ucsb.edu/programs/graduate/candidates'\n",
    "        }\n",
    "    }\n",
    "\n",
    "    # Scrape and save pages for each university\n",
    "    for univ, urls in universities.items():\n",
    "        print(f\"\\nProcessing {univ}...\")\n",
    "        \n",
    "        # Create university directory\n",
    "        univ_dir = os.path.join(data_dir, univ)\n",
    "        create_directory(univ_dir)\n",
    "\n",
    "        # Process placement page\n",
    "        print(\"Fetching placement page...\")\n",
    "        placement_content = fetch_page(urls['placement'], headers)\n",
    "        if placement_content:\n",
    "            placement_file = os.path.join(univ_dir, f\"{univ}_Placement.html\")\n",
    "            save_html(placement_content, placement_file)\n",
    "\n",
    "        # Add delay between requests\n",
    "        time.sleep(2)\n",
    "\n",
    "        # Process candidates page\n",
    "        print(\"Fetching candidates page...\")\n",
    "        candidates_content = fetch_page(urls['candidates'], headers)\n",
    "        if candidates_content:\n",
    "            candidates_file = os.path.join(univ_dir, f\"{univ}_Candidate.html\")\n",
    "            save_html(candidates_content, candidates_file)\n",
    "\n",
    "        # Add delay before next university\n",
    "        time.sleep(2)\n",
    "\n",
    "\n",
    "\n",
    "if __name__ == \"__main__\":\n",
    "    main()\n",
    "    print(\"\\nScraping completed!\") "
   ]
  },
  {
   "cell_type": "markdown",
   "id": "8906caa3",
   "metadata": {},
   "source": [
    "Seems like there are some issues with princeton's website. - resolved: under maintenance"
   ]
  },
  {
   "cell_type": "code",
   "execution_count": 43,
   "id": "7eee659a",
   "metadata": {},
   "outputs": [
    {
     "name": "stdout",
     "output_type": "stream",
     "text": [
      "\n",
      "Processing Princeton...\n",
      "Fetching placement page...\n",
      "Successfully saved: data/Princeton/Princeton_Placement.html\n",
      "Fetching candidates page...\n",
      "Successfully saved: data/Princeton/Princeton_Candidate.html\n",
      "\n",
      "Princeton scraping completed!\n"
     ]
    }
   ],
   "source": [
    "def scrape_princeton():\n",
    "    # Create data directory\n",
    "    data_dir = \"data\"\n",
    "    create_directory(data_dir)\n",
    "\n",
    "    # Headers for requests\n",
    "    headers = {\n",
    "        'User-Agent': 'Mozilla/5.0 (Windows NT 10.0; Win64; x64) AppleWebKit/537.36 (KHTML, like Gecko) Chrome/91.0.4472.124 Safari/537.36'\n",
    "    }\n",
    "\n",
    "    # Princeton URLs\n",
    "    princeton_urls = {\n",
    "        'placement': 'https://economics.princeton.edu/graduate-program/job-market-and-placements/statistics-on-past-placements/',\n",
    "        'candidates': 'https://economics.princeton.edu/graduate-program/job-market-and-placements/2024-job-market-candidates/'\n",
    "    }\n",
    "\n",
    "    print(\"\\nProcessing Princeton...\")\n",
    "    \n",
    "    # Create Princeton directory\n",
    "    princeton_dir = os.path.join(data_dir, 'Princeton')\n",
    "    create_directory(princeton_dir)\n",
    "\n",
    "    # Process placement page\n",
    "    print(\"Fetching placement page...\")\n",
    "    placement_content = fetch_page(princeton_urls['placement'], headers)\n",
    "    if placement_content:\n",
    "        placement_file = os.path.join(princeton_dir, \"Princeton_Placement.html\")\n",
    "        save_html(placement_content, placement_file)\n",
    "\n",
    "    # Add delay between requests\n",
    "    time.sleep(2)\n",
    "\n",
    "    # Process candidates page\n",
    "    print(\"Fetching candidates page...\")\n",
    "    candidates_content = fetch_page(princeton_urls['candidates'], headers)\n",
    "    if candidates_content:\n",
    "        candidates_file = os.path.join(princeton_dir, \"Princeton_Candidate.html\")\n",
    "        save_html(candidates_content, candidates_file)\n",
    "\n",
    "    print(\"\\nPrinceton scraping completed!\") \n",
    "scrape_princeton()"
   ]
  },
  {
   "cell_type": "markdown",
   "id": "f0fb2a1b",
   "metadata": {},
   "source": [
    "## Data Scraping - Second Step"
   ]
  },
  {
   "cell_type": "code",
   "execution_count": 2,
   "id": "11de63e7",
   "metadata": {},
   "outputs": [],
   "source": [
    "ucsb_placement = 'data/UC_Santa_Barbara/UC_Santa_Barbara_Placement.html'\n",
    "ucsb_candidates = 'data/UC_Santa_Barbara/UC_Santa_Barbara_Candidate.html'\n",
    "\n",
    "ucsd_placement = 'data/UCSD/UCSD_Placement.html'\n",
    "ucsd_candidates = 'data/UCSD/UCSD_Candidate.html'\n",
    "\n",
    "uc_davis_placement = 'data/UC_Davis/UC_Davis_Placement.html'\n",
    "uc_davis_candidates = 'data/UC_Davis/UC_Davis_Candidate.html'\n",
    "\n",
    "northwestern_placement = 'data/Northwestern/Northwestern_Placement.html'\n",
    "northwestern_candidates = 'data/Northwestern/Northwestern_Candidate.html'\n",
    "\n",
    "stanford_placement = 'data/Stanford/Stanford_Placement.html'\n",
    "stanford_candidates = 'data/Stanford/Stanford_Candidate.html'\n",
    "\n",
    "uc_santa_cruz_placement = 'data/UC_Santa_Cruz/UC_Santa_Cruz_Placement.html'\n",
    "uc_santa_cruz_candidates = 'data/UC_Santa_Cruz/UC_Santa_Cruz_Candidate.html'\n",
    "\n",
    "princeton_placement = 'data/Princeton/Princeton_Placement.html'\n",
    "princeton_candidates = 'data/Princeton/Princeton_Candidate.html'\n",
    "\n",
    "uc_riverside_placement = 'data/UC_Riverside/UC_Riverside_Placement.html'\n",
    "uc_riverside_candidates = 'data/UC_Riverside/UC_Riverside_Candidate.html'\n",
    "\n"
   ]
  },
  {
   "cell_type": "markdown",
   "id": "e69ad2a8",
   "metadata": {},
   "source": [
    "UCSD Candidate"
   ]
  },
  {
   "cell_type": "code",
   "execution_count": 3,
   "id": "a86d3863",
   "metadata": {},
   "outputs": [],
   "source": [
    "def scrape_ucsd_candidates(filepath):\n",
    "    \"\"\"\n",
    "    Scrape candidate information from UCSD's job market page.\n",
    "    \n",
    "    Args:\n",
    "        filepath: Path to the UCSD job market HTML file\n",
    "        \n",
    "    Returns:\n",
    "        pandas DataFrame containing candidate information\n",
    "    \"\"\"\n",
    "    from bs4 import BeautifulSoup\n",
    "    \n",
    "    # Read and parse HTML file\n",
    "    with open(filepath, 'r', encoding='utf-8') as f:\n",
    "        soup = BeautifulSoup(f.read(), 'html.parser')\n",
    "    \n",
    "    candidates = []\n",
    "    \n",
    "    # Find all candidate cards\n",
    "    cards = soup.find_all('li', class_='profile-listing-card')\n",
    "    \n",
    "    for card in cards:\n",
    "        candidate = {}\n",
    "        \n",
    "        # Get name\n",
    "        name_elem = card.find('h3')\n",
    "        candidate['name'] = name_elem.text.strip() if name_elem else None\n",
    "        \n",
    "        # Get all paragraphs containing information\n",
    "        info_paras = card.find_all('p')\n",
    "        \n",
    "        for para in info_paras:\n",
    "            text = para.text.strip()\n",
    "            \n",
    "            # Extract advisor information\n",
    "            if text.startswith('Advisor(s):'):\n",
    "                candidate['advisors'] = text.replace('Advisor(s):', '').strip()\n",
    "                \n",
    "            # Extract research fields\n",
    "            elif text.startswith('Field of Research:'):\n",
    "                candidate['research_fields'] = text.replace('Field of Research:', '').strip()\n",
    "        \n",
    "        # Get personal website\n",
    "        website_link = card.find('a')\n",
    "        candidate['personal_website'] = website_link['href'] if website_link else None\n",
    "        \n",
    "        # Get image URL if present\n",
    "        img_elem = card.find('img')\n",
    "        candidate['image'] = img_elem['src'] if img_elem else None\n",
    "        \n",
    "        # Add university\n",
    "        candidate['university'] = 'UCSD'\n",
    "        \n",
    "        candidates.append(candidate)\n",
    "    \n",
    "    # Create DataFrame\n",
    "    df = pd.DataFrame(candidates)\n",
    "    \n",
    "    # Reorder columns\n",
    "    column_order = ['name', 'university', 'advisors', 'research_fields', 'personal_website', 'image']\n",
    "    df = df[column_order]\n",
    "    \n",
    "    return df"
   ]
  },
  {
   "cell_type": "code",
   "execution_count": 4,
   "id": "99a687ab",
   "metadata": {},
   "outputs": [
    {
     "data": {
      "text/html": [
       "<div>\n",
       "<style scoped>\n",
       "    .dataframe tbody tr th:only-of-type {\n",
       "        vertical-align: middle;\n",
       "    }\n",
       "\n",
       "    .dataframe tbody tr th {\n",
       "        vertical-align: top;\n",
       "    }\n",
       "\n",
       "    .dataframe thead th {\n",
       "        text-align: right;\n",
       "    }\n",
       "</style>\n",
       "<table border=\"1\" class=\"dataframe\">\n",
       "  <thead>\n",
       "    <tr style=\"text-align: right;\">\n",
       "      <th></th>\n",
       "      <th>name</th>\n",
       "      <th>university</th>\n",
       "      <th>advisors</th>\n",
       "      <th>research_fields</th>\n",
       "      <th>personal_website</th>\n",
       "      <th>image</th>\n",
       "    </tr>\n",
       "  </thead>\n",
       "  <tbody>\n",
       "    <tr>\n",
       "      <th>0</th>\n",
       "      <td>Giampaolo Bonomi</td>\n",
       "      <td>UCSD</td>\n",
       "      <td>Joel Sobel and Renee Bowen</td>\n",
       "      <td>Political Economics, Applied Theory, Behaviora...</td>\n",
       "      <td>https://sites.google.com/view/gbonomi</td>\n",
       "      <td>Giampaolo picture 2.jpeg</td>\n",
       "    </tr>\n",
       "    <tr>\n",
       "      <th>1</th>\n",
       "      <td>Steven Brownstone</td>\n",
       "      <td>UCSD</td>\n",
       "      <td>Karthik Muralidharan and Craig McIntosh</td>\n",
       "      <td>Development Economics</td>\n",
       "      <td>https://www.sbrownstone.me</td>\n",
       "      <td>Steven photo.jpg</td>\n",
       "    </tr>\n",
       "    <tr>\n",
       "      <th>2</th>\n",
       "      <td>Erica K. Chuang</td>\n",
       "      <td>UCSD</td>\n",
       "      <td>Mark Jacobsen</td>\n",
       "      <td>Environment; Agriculture and Natural Resources</td>\n",
       "      <td>https://www.ericakchuang.com</td>\n",
       "      <td>EricaCnew.jpeg</td>\n",
       "    </tr>\n",
       "    <tr>\n",
       "      <th>3</th>\n",
       "      <td>Danil Dmitriev</td>\n",
       "      <td>UCSD</td>\n",
       "      <td>Renee Bowen</td>\n",
       "      <td>Microeconomic Theory; Political Economy</td>\n",
       "      <td>https://www.danildmitriev.com</td>\n",
       "      <td>Dmitriev_photo.jpg</td>\n",
       "    </tr>\n",
       "    <tr>\n",
       "      <th>4</th>\n",
       "      <td>Holt Dwyer</td>\n",
       "      <td>UCSD</td>\n",
       "      <td>Prashant Bharadwaj</td>\n",
       "      <td>Development Economics; Macroeconomics</td>\n",
       "      <td>https://holtdwyer.netlify.app/</td>\n",
       "      <td>Holt headshot.jpg</td>\n",
       "    </tr>\n",
       "  </tbody>\n",
       "</table>\n",
       "</div>"
      ],
      "text/plain": [
       "                name university                                 advisors  \\\n",
       "0   Giampaolo Bonomi       UCSD               Joel Sobel and Renee Bowen   \n",
       "1  Steven Brownstone       UCSD  Karthik Muralidharan and Craig McIntosh   \n",
       "2    Erica K. Chuang       UCSD                            Mark Jacobsen   \n",
       "3     Danil Dmitriev       UCSD                              Renee Bowen   \n",
       "4         Holt Dwyer       UCSD                       Prashant Bharadwaj   \n",
       "\n",
       "                                     research_fields  \\\n",
       "0  Political Economics, Applied Theory, Behaviora...   \n",
       "1                              Development Economics   \n",
       "2     Environment; Agriculture and Natural Resources   \n",
       "3            Microeconomic Theory; Political Economy   \n",
       "4              Development Economics; Macroeconomics   \n",
       "\n",
       "                        personal_website                     image  \n",
       "0  https://sites.google.com/view/gbonomi  Giampaolo picture 2.jpeg  \n",
       "1             https://www.sbrownstone.me          Steven photo.jpg  \n",
       "2           https://www.ericakchuang.com            EricaCnew.jpeg  \n",
       "3          https://www.danildmitriev.com        Dmitriev_photo.jpg  \n",
       "4         https://holtdwyer.netlify.app/         Holt headshot.jpg  "
      ]
     },
     "execution_count": 4,
     "metadata": {},
     "output_type": "execute_result"
    }
   ],
   "source": [
    "ucsd_candidates_df = scrape_ucsd_candidates(ucsd_candidates)\n",
    "ucsd_candidates_df.head()"
   ]
  },
  {
   "cell_type": "code",
   "execution_count": 20,
   "id": "78fb0b0f",
   "metadata": {},
   "outputs": [
    {
     "data": {
      "text/html": [
       "<div>\n",
       "<style scoped>\n",
       "    .dataframe tbody tr th:only-of-type {\n",
       "        vertical-align: middle;\n",
       "    }\n",
       "\n",
       "    .dataframe tbody tr th {\n",
       "        vertical-align: top;\n",
       "    }\n",
       "\n",
       "    .dataframe thead th {\n",
       "        text-align: right;\n",
       "    }\n",
       "</style>\n",
       "<table border=\"1\" class=\"dataframe\">\n",
       "  <thead>\n",
       "    <tr style=\"text-align: right;\">\n",
       "      <th></th>\n",
       "      <th>name</th>\n",
       "      <th>university</th>\n",
       "      <th>year</th>\n",
       "      <th>field</th>\n",
       "      <th>placement</th>\n",
       "    </tr>\n",
       "  </thead>\n",
       "  <tbody>\n",
       "    <tr>\n",
       "      <th>0</th>\n",
       "      <td>Vivan Aluoch</td>\n",
       "      <td>UCSD</td>\n",
       "      <td>2023-24</td>\n",
       "      <td>Development and Labor Economics</td>\n",
       "      <td>Analysis Group</td>\n",
       "    </tr>\n",
       "    <tr>\n",
       "      <th>1</th>\n",
       "      <td>Hannah Bae</td>\n",
       "      <td>UCSD</td>\n",
       "      <td>2023-24</td>\n",
       "      <td>Health and Public</td>\n",
       "      <td>Michigan State University, postdoc at Stanford...</td>\n",
       "    </tr>\n",
       "    <tr>\n",
       "      <th>2</th>\n",
       "      <td>Evgenii Baranov</td>\n",
       "      <td>UCSD</td>\n",
       "      <td>2023-24</td>\n",
       "      <td>Micro Theory</td>\n",
       "      <td>Penn State University</td>\n",
       "    </tr>\n",
       "    <tr>\n",
       "      <th>3</th>\n",
       "      <td>Amanda Bonheur</td>\n",
       "      <td>UCSD</td>\n",
       "      <td>2023-24</td>\n",
       "      <td>Behavioral and Labor Economics</td>\n",
       "      <td>RAND Corporation</td>\n",
       "    </tr>\n",
       "    <tr>\n",
       "      <th>4</th>\n",
       "      <td>Edoardo Briganti</td>\n",
       "      <td>UCSD</td>\n",
       "      <td>2023-24</td>\n",
       "      <td>Macroeconomics</td>\n",
       "      <td>Bank of Canada</td>\n",
       "    </tr>\n",
       "  </tbody>\n",
       "</table>\n",
       "</div>"
      ],
      "text/plain": [
       "               name university     year                            field  \\\n",
       "0      Vivan Aluoch       UCSD  2023-24  Development and Labor Economics   \n",
       "1        Hannah Bae       UCSD  2023-24                Health and Public   \n",
       "2   Evgenii Baranov       UCSD  2023-24                     Micro Theory   \n",
       "3    Amanda Bonheur       UCSD  2023-24   Behavioral and Labor Economics   \n",
       "4  Edoardo Briganti       UCSD  2023-24                   Macroeconomics   \n",
       "\n",
       "                                           placement  \n",
       "0                                     Analysis Group  \n",
       "1  Michigan State University, postdoc at Stanford...  \n",
       "2                              Penn State University  \n",
       "3                                   RAND Corporation  \n",
       "4                                     Bank of Canada  "
      ]
     },
     "execution_count": 20,
     "metadata": {},
     "output_type": "execute_result"
    }
   ],
   "source": [
    "def scrape_ucsd_placement(filepath):\n",
    "    \"\"\"\n",
    "    Scrape placement history from UCSD's placement history page.\n",
    "    \n",
    "    Args:\n",
    "        filepath: Path to the UCSD placement history HTML file\n",
    "        \n",
    "    Returns:\n",
    "        pandas DataFrame containing placement history information\n",
    "    \"\"\"\n",
    "    from bs4 import BeautifulSoup\n",
    "    \n",
    "    # Read and parse HTML file\n",
    "    with open(filepath, 'r', encoding='utf-8') as f:\n",
    "        soup = BeautifulSoup(f.read(), 'html.parser')\n",
    "    \n",
    "    placements = []\n",
    "    \n",
    "    # Find all tables in the document\n",
    "    tables = soup.find_all('table', class_='styled')\n",
    "    \n",
    "    for table in tables:\n",
    "        # Get all rows except header\n",
    "        rows = table.find_all('tr')[1:]  # Skip header row\n",
    "        \n",
    "        for row in rows:\n",
    "            cols = row.find_all('td')\n",
    "            if len(cols) >= 4:  # Ensure row has all required columns\n",
    "                placement = {\n",
    "                    'year': cols[0].text.strip(),\n",
    "                    'name': cols[1].text.strip(),\n",
    "                    'field': cols[2].text.strip(),\n",
    "                    'placement': cols[3].text.strip(),\n",
    "                    'university': 'UCSD'\n",
    "                }\n",
    "                placements.append(placement)\n",
    "    \n",
    "    # Create DataFrame\n",
    "    df = pd.DataFrame(placements)\n",
    "    \n",
    "    # Reorder columns\n",
    "    column_order = ['name', 'university', 'year', 'field', 'placement']\n",
    "    df = df[column_order]\n",
    "    \n",
    "    return df\n",
    "ucsd_placement_df = scrape_ucsd_placement(ucsd_placement)\n",
    "ucsd_placement_df.head()"
   ]
  },
  {
   "cell_type": "markdown",
   "id": "a744b16e",
   "metadata": {},
   "source": [
    "UCSC"
   ]
  },
  {
   "cell_type": "code",
   "execution_count": 5,
   "id": "831a3e18",
   "metadata": {},
   "outputs": [
    {
     "data": {
      "text/html": [
       "<div>\n",
       "<style scoped>\n",
       "    .dataframe tbody tr th:only-of-type {\n",
       "        vertical-align: middle;\n",
       "    }\n",
       "\n",
       "    .dataframe tbody tr th {\n",
       "        vertical-align: top;\n",
       "    }\n",
       "\n",
       "    .dataframe thead th {\n",
       "        text-align: right;\n",
       "    }\n",
       "</style>\n",
       "<table border=\"1\" class=\"dataframe\">\n",
       "  <thead>\n",
       "    <tr style=\"text-align: right;\">\n",
       "      <th></th>\n",
       "      <th>name</th>\n",
       "      <th>university</th>\n",
       "      <th>advisors</th>\n",
       "      <th>research_fields</th>\n",
       "      <th>job_market_paper</th>\n",
       "      <th>personal_website</th>\n",
       "      <th>image</th>\n",
       "    </tr>\n",
       "  </thead>\n",
       "  <tbody>\n",
       "    <tr>\n",
       "      <th>0</th>\n",
       "      <td>Braz Vallocci, Pedro Henrique</td>\n",
       "      <td>UC Santa Cruz</td>\n",
       "      <td>Galina HaleGrace GuAlonso Villacorta</td>\n",
       "      <td>Innovation, Productivity, Finance</td>\n",
       "      <td>\"Measuring Knowledge Capital Risk\"</td>\n",
       "      <td>https://www.brazv.com</td>\n",
       "      <td>pedro-vallocci.jpg</td>\n",
       "    </tr>\n",
       "    <tr>\n",
       "      <th>1</th>\n",
       "      <td>Gong, Weinan</td>\n",
       "      <td>UC Santa Cruz</td>\n",
       "      <td>Kristian López VargasDan FriedmanNatalia Lazzati</td>\n",
       "      <td>Behavioral and Experimental Economics</td>\n",
       "      <td>\"Polarization in Online Social Networks\"</td>\n",
       "      <td>https://sites.google.com/ucsc.edu/weinan-gong?...</td>\n",
       "      <td>wgong.jpeg</td>\n",
       "    </tr>\n",
       "    <tr>\n",
       "      <th>2</th>\n",
       "      <td>Habibi, Hamidreza</td>\n",
       "      <td>UC Santa Cruz</td>\n",
       "      <td>Carlos DobkinLaura GiulianoGeorge Bulman</td>\n",
       "      <td>Applied Microeconomics, Health Economics, Publ...</td>\n",
       "      <td>\"Curbing Pharma Influence: The Effect of Marke...</td>\n",
       "      <td>https://hamidhabibi.com/</td>\n",
       "      <td>profile-hamidreza-habibi.jpg</td>\n",
       "    </tr>\n",
       "    <tr>\n",
       "      <th>3</th>\n",
       "      <td>Kapoor, Rolly</td>\n",
       "      <td>UC Santa Cruz</td>\n",
       "      <td>Jonathan RobinsonAjay ShenoyAlan Spearot</td>\n",
       "      <td>Development Economics, Labor Economics, Applie...</td>\n",
       "      <td>\"Together in Search: Experimental Evidence fro...</td>\n",
       "      <td>https://rollykapoor.github.io/</td>\n",
       "      <td>rollykapoor_displaypicture_8080-rolly-kapoor-1...</td>\n",
       "    </tr>\n",
       "    <tr>\n",
       "      <th>4</th>\n",
       "      <td>Li, Siqi</td>\n",
       "      <td>UC Santa Cruz</td>\n",
       "      <td>Jessie LiJustin G MarionNatalia LazzatiZehang ...</td>\n",
       "      <td>Econometrics, Industrial Organization and Stat...</td>\n",
       "      <td>\"Measuring the Market Impact of Machine Learni...</td>\n",
       "      <td>https://siqilithinkling.github.io/</td>\n",
       "      <td>cropped-image1.jpg</td>\n",
       "    </tr>\n",
       "  </tbody>\n",
       "</table>\n",
       "</div>"
      ],
      "text/plain": [
       "                            name     university  \\\n",
       "0  Braz Vallocci, Pedro Henrique  UC Santa Cruz   \n",
       "1                   Gong, Weinan  UC Santa Cruz   \n",
       "2              Habibi, Hamidreza  UC Santa Cruz   \n",
       "3                  Kapoor, Rolly  UC Santa Cruz   \n",
       "4                       Li, Siqi  UC Santa Cruz   \n",
       "\n",
       "                                            advisors  \\\n",
       "0               Galina HaleGrace GuAlonso Villacorta   \n",
       "1   Kristian López VargasDan FriedmanNatalia Lazzati   \n",
       "2           Carlos DobkinLaura GiulianoGeorge Bulman   \n",
       "3           Jonathan RobinsonAjay ShenoyAlan Spearot   \n",
       "4  Jessie LiJustin G MarionNatalia LazzatiZehang ...   \n",
       "\n",
       "                                     research_fields  \\\n",
       "0                  Innovation, Productivity, Finance   \n",
       "1              Behavioral and Experimental Economics   \n",
       "2  Applied Microeconomics, Health Economics, Publ...   \n",
       "3  Development Economics, Labor Economics, Applie...   \n",
       "4  Econometrics, Industrial Organization and Stat...   \n",
       "\n",
       "                                    job_market_paper  \\\n",
       "0                 \"Measuring Knowledge Capital Risk\"   \n",
       "1           \"Polarization in Online Social Networks\"   \n",
       "2  \"Curbing Pharma Influence: The Effect of Marke...   \n",
       "3  \"Together in Search: Experimental Evidence fro...   \n",
       "4  \"Measuring the Market Impact of Machine Learni...   \n",
       "\n",
       "                                    personal_website  \\\n",
       "0                              https://www.brazv.com   \n",
       "1  https://sites.google.com/ucsc.edu/weinan-gong?...   \n",
       "2                           https://hamidhabibi.com/   \n",
       "3                     https://rollykapoor.github.io/   \n",
       "4                 https://siqilithinkling.github.io/   \n",
       "\n",
       "                                               image  \n",
       "0                                 pedro-vallocci.jpg  \n",
       "1                                         wgong.jpeg  \n",
       "2                       profile-hamidreza-habibi.jpg  \n",
       "3  rollykapoor_displaypicture_8080-rolly-kapoor-1...  \n",
       "4                                 cropped-image1.jpg  "
      ]
     },
     "execution_count": 5,
     "metadata": {},
     "output_type": "execute_result"
    }
   ],
   "source": [
    "def scrape_ucsc_candidates(filepath):\n",
    "    \"\"\"\n",
    "    Scrape candidate information from UC Santa Cruz's job market page.\n",
    "    \n",
    "    Args:\n",
    "        filepath: Path to the UC Santa Cruz job market HTML file\n",
    "        \n",
    "    Returns:\n",
    "        pandas DataFrame containing candidate information\n",
    "    \"\"\"\n",
    "    from bs4 import BeautifulSoup\n",
    "    \n",
    "    # Read and parse HTML file\n",
    "    with open(filepath, 'r', encoding='utf-8') as f:\n",
    "        soup = BeautifulSoup(f.read(), 'html.parser')\n",
    "    \n",
    "    candidates = []\n",
    "    \n",
    "    # Find the main table containing candidate information\n",
    "    table = soup.find('table')\n",
    "    if not table:\n",
    "        return pd.DataFrame()\n",
    "    \n",
    "    # Get all rows except header\n",
    "    rows = table.find_all('tr')[1:]  # Skip header row\n",
    "    \n",
    "    for row in rows:\n",
    "        cols = row.find_all('td')\n",
    "        if len(cols) >= 4:  # Ensure row has all required columns\n",
    "            candidate = {}\n",
    "            \n",
    "            # Extract name from the link in the first column\n",
    "            name_link = cols[0].find('a')\n",
    "            if name_link:\n",
    "                candidate['name'] = name_link.text.strip()\n",
    "                candidate['personal_website'] = name_link['href']\n",
    "            else:\n",
    "                # If no link, try to get just the text\n",
    "                name_text = cols[0].get_text(strip=True)\n",
    "                if name_text:\n",
    "                    candidate['name'] = name_text\n",
    "                    candidate['personal_website'] = None\n",
    "            \n",
    "            # Get fields of interest\n",
    "            candidate['research_fields'] = cols[1].get_text(strip=True)\n",
    "            \n",
    "            # Get job market paper\n",
    "            candidate['job_market_paper'] = cols[2].get_text(strip=True)\n",
    "            \n",
    "            # Get references\n",
    "            candidate['advisors'] = cols[3].get_text(strip=True)\n",
    "            \n",
    "            # Get image URL if present\n",
    "            img = cols[0].find('img')\n",
    "            candidate['image'] = img['src'] if img else None\n",
    "            \n",
    "            # Add university\n",
    "            candidate['university'] = 'UC Santa Cruz'\n",
    "            \n",
    "            candidates.append(candidate)\n",
    "    \n",
    "    # Create DataFrame\n",
    "    df = pd.DataFrame(candidates)\n",
    "    \n",
    "    # Reorder columns\n",
    "    column_order = ['name', 'university', 'advisors', 'research_fields', 'job_market_paper', 'personal_website', 'image']\n",
    "    df = df[column_order]\n",
    "    \n",
    "    return df\n",
    "ucsc_candidates_df = scrape_ucsc_candidates(uc_santa_cruz_candidates)\n",
    "ucsc_candidates_df.head()\n"
   ]
  },
  {
   "cell_type": "code",
   "execution_count": 31,
   "id": "f5e03369",
   "metadata": {},
   "outputs": [
    {
     "data": {
      "text/html": [
       "<div>\n",
       "<style scoped>\n",
       "    .dataframe tbody tr th:only-of-type {\n",
       "        vertical-align: middle;\n",
       "    }\n",
       "\n",
       "    .dataframe tbody tr th {\n",
       "        vertical-align: top;\n",
       "    }\n",
       "\n",
       "    .dataframe thead th {\n",
       "        text-align: right;\n",
       "    }\n",
       "</style>\n",
       "<table border=\"1\" class=\"dataframe\">\n",
       "  <thead>\n",
       "    <tr style=\"text-align: right;\">\n",
       "      <th></th>\n",
       "      <th>name</th>\n",
       "      <th>university</th>\n",
       "      <th>year</th>\n",
       "      <th>placement_role</th>\n",
       "      <th>placement_location</th>\n",
       "    </tr>\n",
       "  </thead>\n",
       "  <tbody>\n",
       "    <tr>\n",
       "      <th>0</th>\n",
       "      <td>Harrison Shieh</td>\n",
       "      <td>UC Santa Cruz</td>\n",
       "      <td>2024</td>\n",
       "      <td>Assistant Professor</td>\n",
       "      <td>Vassar College</td>\n",
       "    </tr>\n",
       "    <tr>\n",
       "      <th>1</th>\n",
       "      <td>Ken Suzuki</td>\n",
       "      <td>UC Santa Cruz</td>\n",
       "      <td>2024</td>\n",
       "      <td>Post Doctoral Fellow</td>\n",
       "      <td>Stanford University</td>\n",
       "    </tr>\n",
       "    <tr>\n",
       "      <th>2</th>\n",
       "      <td>Shinya Inukai</td>\n",
       "      <td>UC Santa Cruz</td>\n",
       "      <td>2024</td>\n",
       "      <td>Deputy Director</td>\n",
       "      <td>Japanese Ministry of Economy, Trade and Industry</td>\n",
       "    </tr>\n",
       "    <tr>\n",
       "      <th>3</th>\n",
       "      <td>Anirban Sanyal</td>\n",
       "      <td>UC Santa Cruz</td>\n",
       "      <td>2023</td>\n",
       "      <td>Assistant Advisor</td>\n",
       "      <td>Reserve Bank of India</td>\n",
       "    </tr>\n",
       "    <tr>\n",
       "      <th>4</th>\n",
       "      <td>Dongwan Choo</td>\n",
       "      <td>UC Santa Cruz</td>\n",
       "      <td>2023</td>\n",
       "      <td>Senior Lecturer</td>\n",
       "      <td>Massey University, New Zealand</td>\n",
       "    </tr>\n",
       "  </tbody>\n",
       "</table>\n",
       "</div>"
      ],
      "text/plain": [
       "             name     university  year        placement_role  \\\n",
       "0  Harrison Shieh  UC Santa Cruz  2024   Assistant Professor   \n",
       "1      Ken Suzuki  UC Santa Cruz  2024  Post Doctoral Fellow   \n",
       "2   Shinya Inukai  UC Santa Cruz  2024       Deputy Director   \n",
       "3  Anirban Sanyal  UC Santa Cruz  2023     Assistant Advisor   \n",
       "4    Dongwan Choo  UC Santa Cruz  2023       Senior Lecturer   \n",
       "\n",
       "                                 placement_location  \n",
       "0                                    Vassar College  \n",
       "1                               Stanford University  \n",
       "2  Japanese Ministry of Economy, Trade and Industry  \n",
       "3                             Reserve Bank of India  \n",
       "4                    Massey University, New Zealand  "
      ]
     },
     "execution_count": 31,
     "metadata": {},
     "output_type": "execute_result"
    }
   ],
   "source": [
    "def scrape_ucsc_placement(filepath):\n",
    "    \"\"\"\n",
    "    Scrape placement history from UC Santa Cruz's placement history page.\n",
    "    \n",
    "    Args:\n",
    "        filepath: Path to the UC Santa Cruz placement history HTML file\n",
    "        \n",
    "    Returns:\n",
    "        pandas DataFrame containing placement history information\n",
    "    \"\"\"\n",
    "    with open(filepath, 'r', encoding='utf-8') as file:\n",
    "        soup = BeautifulSoup(file, 'html.parser')\n",
    "    \n",
    "    placements = []\n",
    "    \n",
    "    # Find all year sections\n",
    "    for year_section in soup.find_all('div', class_='year-section'):\n",
    "        year = year_section.get('data-year')\n",
    "        \n",
    "        # Process each placement entry within the year\n",
    "        for entry in year_section.find_all('div', class_='placement-entry'):\n",
    "            name = entry.find('span', class_='name').text.strip()\n",
    "            role = entry.find('span', class_='role').text.strip()\n",
    "            location = entry.find('span', class_='location').text.strip()\n",
    "            \n",
    "            placement_info = {\n",
    "                'name': name,\n",
    "                'year': int(year),\n",
    "                'university': 'UC Santa Cruz',\n",
    "                'placement_role': role,\n",
    "                'placement_location': location\n",
    "            }\n",
    "            \n",
    "            placements.append(placement_info)\n",
    "    \n",
    "    # Create DataFrame\n",
    "    df = pd.DataFrame(placements)\n",
    "    \n",
    "    # Reorder columns\n",
    "    column_order = ['name', 'university', 'year', 'placement_role', 'placement_location']\n",
    "    df = df[column_order]\n",
    "    \n",
    "    return df\n",
    "\n",
    "# Test the function\n",
    "ucsc_placement_df = scrape_ucsc_placement(uc_santa_cruz_placement)\n",
    "ucsc_placement_df.head()"
   ]
  },
  {
   "cell_type": "markdown",
   "id": "6db292f9",
   "metadata": {},
   "source": [
    "UCSB"
   ]
  },
  {
   "cell_type": "code",
   "execution_count": 6,
   "id": "acb854e3",
   "metadata": {},
   "outputs": [
    {
     "data": {
      "text/html": [
       "<div>\n",
       "<style scoped>\n",
       "    .dataframe tbody tr th:only-of-type {\n",
       "        vertical-align: middle;\n",
       "    }\n",
       "\n",
       "    .dataframe tbody tr th {\n",
       "        vertical-align: top;\n",
       "    }\n",
       "\n",
       "    .dataframe thead th {\n",
       "        text-align: right;\n",
       "    }\n",
       "</style>\n",
       "<table border=\"1\" class=\"dataframe\">\n",
       "  <thead>\n",
       "    <tr style=\"text-align: right;\">\n",
       "      <th></th>\n",
       "      <th>name</th>\n",
       "      <th>university</th>\n",
       "      <th>year</th>\n",
       "      <th>research_areas</th>\n",
       "      <th>advisor</th>\n",
       "      <th>job_market_paper</th>\n",
       "    </tr>\n",
       "  </thead>\n",
       "  <tbody>\n",
       "    <tr>\n",
       "      <th>0</th>\n",
       "      <td>Alexander Abajian</td>\n",
       "      <td>UC Santa Barbara</td>\n",
       "      <td>2024</td>\n",
       "      <td>Climate Macroeconomics, Energy Economics, Envi...</td>\n",
       "      <td>Javier Birchenall</td>\n",
       "      <td>\"Savings and Migration in a Warming World\"</td>\n",
       "    </tr>\n",
       "    <tr>\n",
       "      <th>1</th>\n",
       "      <td>Sebastian Brown</td>\n",
       "      <td>UC Santa Barbara</td>\n",
       "      <td>2024</td>\n",
       "      <td>Labor Economics, Behavioral Economics, Applied...</td>\n",
       "      <td>Peter Kuhn</td>\n",
       "      <td>\"How Much Can I Make? Insights on Belief Updat...</td>\n",
       "    </tr>\n",
       "    <tr>\n",
       "      <th>2</th>\n",
       "      <td>Toshio Ferrazares</td>\n",
       "      <td>UC Santa Barbara</td>\n",
       "      <td>2024</td>\n",
       "      <td>Labor Economics, Public Economics</td>\n",
       "      <td>Heather Royer</td>\n",
       "      <td>\"Shift Structure and Cognitive Depletion: Evid...</td>\n",
       "    </tr>\n",
       "    <tr>\n",
       "      <th>3</th>\n",
       "      <td>Thomas Fullagar</td>\n",
       "      <td>UC Santa Barbara</td>\n",
       "      <td>2024</td>\n",
       "      <td>Applied Microeconomics with a focus on Labor E...</td>\n",
       "      <td>Peter Kuhn</td>\n",
       "      <td>\"Establishment-Level Unionization at Large Fir...</td>\n",
       "    </tr>\n",
       "    <tr>\n",
       "      <th>4</th>\n",
       "      <td>Yang Gao</td>\n",
       "      <td>UC Santa Barbara</td>\n",
       "      <td>2024</td>\n",
       "      <td>Macroeconomics, Environmental and Energy Econo...</td>\n",
       "      <td>Peter Rupert</td>\n",
       "      <td>\"Capital Misallocation and Climate Policy\"</td>\n",
       "    </tr>\n",
       "  </tbody>\n",
       "</table>\n",
       "</div>"
      ],
      "text/plain": [
       "                name        university  year  \\\n",
       "0  Alexander Abajian  UC Santa Barbara  2024   \n",
       "1    Sebastian Brown  UC Santa Barbara  2024   \n",
       "2  Toshio Ferrazares  UC Santa Barbara  2024   \n",
       "3    Thomas Fullagar  UC Santa Barbara  2024   \n",
       "4           Yang Gao  UC Santa Barbara  2024   \n",
       "\n",
       "                                      research_areas            advisor  \\\n",
       "0  Climate Macroeconomics, Energy Economics, Envi...  Javier Birchenall   \n",
       "1  Labor Economics, Behavioral Economics, Applied...         Peter Kuhn   \n",
       "2                  Labor Economics, Public Economics      Heather Royer   \n",
       "3  Applied Microeconomics with a focus on Labor E...         Peter Kuhn   \n",
       "4  Macroeconomics, Environmental and Energy Econo...       Peter Rupert   \n",
       "\n",
       "                                    job_market_paper  \n",
       "0         \"Savings and Migration in a Warming World\"  \n",
       "1  \"How Much Can I Make? Insights on Belief Updat...  \n",
       "2  \"Shift Structure and Cognitive Depletion: Evid...  \n",
       "3  \"Establishment-Level Unionization at Large Fir...  \n",
       "4         \"Capital Misallocation and Climate Policy\"  "
      ]
     },
     "execution_count": 6,
     "metadata": {},
     "output_type": "execute_result"
    }
   ],
   "source": [
    "def scrape_ucsb_placement(filepath):\n",
    "    \"\"\"\n",
    "    Scrape placement history from UC Santa Barbara's placement history page.\n",
    "    \n",
    "    Args:\n",
    "        filepath: Path to the UC Santa Barbara placement history HTML file\n",
    "        \n",
    "    Returns:\n",
    "        pandas DataFrame containing placement history information\n",
    "    \"\"\"\n",
    "    with open(filepath, 'r', encoding='utf-8') as file:\n",
    "        soup = BeautifulSoup(file, 'html.parser')\n",
    "    \n",
    "    placements = []\n",
    "    \n",
    "    # Find the table with job candidates\n",
    "    table = soup.find('table', {'class': 'table table-hover table-striped'})\n",
    "    if not table:\n",
    "        return pd.DataFrame()\n",
    "    \n",
    "    # Process each row in the table\n",
    "    for row in table.find_all('tr')[1:]:  # Skip header row\n",
    "        cols = row.find_all('td')\n",
    "        if len(cols) >= 5:  # Ensure row has all required columns\n",
    "            name = cols[1].find('h3').find('a').text.strip()\n",
    "            research_areas = cols[2].text.strip()\n",
    "            advisor = cols[3].find('a').text.strip() if cols[3].find('a') else cols[3].text.strip()\n",
    "            paper_title = cols[4].find('a').text.strip() if cols[4].find('a') else ''\n",
    "            \n",
    "            placement_info = {\n",
    "                'name': name,\n",
    "                'year': 2024,  # Current job market year\n",
    "                'university': 'UC Santa Barbara',\n",
    "                'research_areas': research_areas,\n",
    "                'advisor': advisor,\n",
    "                'job_market_paper': paper_title\n",
    "            }\n",
    "            placements.append(placement_info)\n",
    "    \n",
    "    # Create DataFrame\n",
    "    df = pd.DataFrame(placements)\n",
    "    \n",
    "    # Reorder columns\n",
    "    column_order = ['name', 'university', 'year', 'research_areas', 'advisor', 'job_market_paper']\n",
    "    df = df[column_order]\n",
    "    \n",
    "    return df\n",
    "\n",
    "# Test the function\n",
    "ucsb_candidates_df = scrape_ucsb_placement(ucsb_candidates)\n",
    "ucsb_candidates_df.head()"
   ]
  },
  {
   "cell_type": "code",
   "execution_count": 36,
   "id": "188993d5",
   "metadata": {},
   "outputs": [
    {
     "data": {
      "text/html": [
       "<div>\n",
       "<style scoped>\n",
       "    .dataframe tbody tr th:only-of-type {\n",
       "        vertical-align: middle;\n",
       "    }\n",
       "\n",
       "    .dataframe tbody tr th {\n",
       "        vertical-align: top;\n",
       "    }\n",
       "\n",
       "    .dataframe thead th {\n",
       "        text-align: right;\n",
       "    }\n",
       "</style>\n",
       "<table border=\"1\" class=\"dataframe\">\n",
       "  <thead>\n",
       "    <tr style=\"text-align: right;\">\n",
       "      <th></th>\n",
       "      <th>university</th>\n",
       "      <th>year</th>\n",
       "      <th>placement_role</th>\n",
       "      <th>placement_location</th>\n",
       "    </tr>\n",
       "  </thead>\n",
       "  <tbody>\n",
       "    <tr>\n",
       "      <th>0</th>\n",
       "      <td>UC Santa Barbara</td>\n",
       "      <td>2023</td>\n",
       "      <td>Postdoctoral Researcher</td>\n",
       "      <td>Arnold Ventures</td>\n",
       "    </tr>\n",
       "    <tr>\n",
       "      <th>1</th>\n",
       "      <td>UC Santa Barbara</td>\n",
       "      <td>2023</td>\n",
       "      <td>Gurion University of the Negev - Assistant Pro...</td>\n",
       "      <td>Ben-Gurion University of the Negev</td>\n",
       "    </tr>\n",
       "    <tr>\n",
       "      <th>2</th>\n",
       "      <td>UC Santa Barbara</td>\n",
       "      <td>2023</td>\n",
       "      <td>Assistant Professor of Economics</td>\n",
       "      <td>Calvin University</td>\n",
       "    </tr>\n",
       "    <tr>\n",
       "      <th>3</th>\n",
       "      <td>UC Santa Barbara</td>\n",
       "      <td>2023</td>\n",
       "      <td>Postdoctoral Scholar</td>\n",
       "      <td>CDC Prevention Effectiveness Fellowship</td>\n",
       "    </tr>\n",
       "    <tr>\n",
       "      <th>4</th>\n",
       "      <td>UC Santa Barbara</td>\n",
       "      <td>2023</td>\n",
       "      <td>Economist / Operations Research Analyst</td>\n",
       "      <td>Department of Defense</td>\n",
       "    </tr>\n",
       "  </tbody>\n",
       "</table>\n",
       "</div>"
      ],
      "text/plain": [
       "         university  year                                     placement_role  \\\n",
       "0  UC Santa Barbara  2023                            Postdoctoral Researcher   \n",
       "1  UC Santa Barbara  2023  Gurion University of the Negev - Assistant Pro...   \n",
       "2  UC Santa Barbara  2023                   Assistant Professor of Economics   \n",
       "3  UC Santa Barbara  2023                               Postdoctoral Scholar   \n",
       "4  UC Santa Barbara  2023            Economist / Operations Research Analyst   \n",
       "\n",
       "                        placement_location  \n",
       "0                          Arnold Ventures  \n",
       "1       Ben-Gurion University of the Negev  \n",
       "2                        Calvin University  \n",
       "3  CDC Prevention Effectiveness Fellowship  \n",
       "4                    Department of Defense  "
      ]
     },
     "execution_count": 36,
     "metadata": {},
     "output_type": "execute_result"
    }
   ],
   "source": [
    "def scrape_ucsb_placement(filepath):\n",
    "    \"\"\"\n",
    "    Scrape placement history from UC Santa Barbara's placement history page.\n",
    "    \n",
    "    Args:\n",
    "        filepath: Path to the UC Santa Barbara placement history HTML file\n",
    "        \n",
    "    Returns:\n",
    "        pandas DataFrame containing placement history information\n",
    "    \"\"\"\n",
    "    with open(filepath, 'r', encoding='utf-8') as file:\n",
    "        soup = BeautifulSoup(file, 'html.parser')\n",
    "    \n",
    "    placements = []\n",
    "    current_year = None\n",
    "    \n",
    "    # Find all dl elements with class 'ckeditor-accordion'\n",
    "    accordion = soup.find('dl', class_='ckeditor-accordion')\n",
    "    if not accordion:\n",
    "        return pd.DataFrame()\n",
    "        \n",
    "    # Process each dt (year) and dd (placements) pair\n",
    "    for dt in accordion.find_all('dt'):\n",
    "        # Get year from dt\n",
    "        year_text = dt.text.strip()\n",
    "        if '-' in year_text:  # Handle academic years like \"2023-2024\"\n",
    "            current_year = int(year_text.split('-')[0])\n",
    "        else:\n",
    "            current_year = int(year_text)\n",
    "            \n",
    "        # Get corresponding dd (contains placement list)\n",
    "        dd = dt.find_next('dd')\n",
    "        if not dd:\n",
    "            continue\n",
    "            \n",
    "        # Process each placement in the list\n",
    "        for li in dd.find_all('li'):\n",
    "            # Find the institution name (in strong tag)\n",
    "            institution = li.find('strong')\n",
    "            if not institution:\n",
    "                continue\n",
    "                \n",
    "            # Split the text after institution to get role\n",
    "            full_text = li.text.strip()\n",
    "            parts = full_text.split('-', 1)\n",
    "            if len(parts) < 2:\n",
    "                continue\n",
    "                \n",
    "            institution_name = institution.text.strip()\n",
    "            role = parts[1].strip()\n",
    "            \n",
    "            placement_info = {\n",
    "                'year': current_year,\n",
    "                'university': 'UC Santa Barbara',\n",
    "                'placement_location': institution_name,\n",
    "                'placement_role': role\n",
    "            }\n",
    "            \n",
    "            placements.append(placement_info)\n",
    "    \n",
    "    # Create DataFrame\n",
    "    df = pd.DataFrame(placements)\n",
    "    \n",
    "    # Reorder columns\n",
    "    column_order = ['university', 'year', 'placement_role', 'placement_location']\n",
    "    df = df[column_order]\n",
    "    \n",
    "    return df\n",
    "\n",
    "ucsb_placement_df = scrape_ucsb_placement(ucsb_placement)\n",
    "ucsb_placement_df.head() # no names for placement"
   ]
  },
  {
   "cell_type": "markdown",
   "id": "375439ac",
   "metadata": {},
   "source": [
    "UCR"
   ]
  },
  {
   "cell_type": "code",
   "execution_count": 40,
   "id": "acf6728e",
   "metadata": {},
   "outputs": [
    {
     "data": {
      "text/html": [
       "<div>\n",
       "<style scoped>\n",
       "    .dataframe tbody tr th:only-of-type {\n",
       "        vertical-align: middle;\n",
       "    }\n",
       "\n",
       "    .dataframe tbody tr th {\n",
       "        vertical-align: top;\n",
       "    }\n",
       "\n",
       "    .dataframe thead th {\n",
       "        text-align: right;\n",
       "    }\n",
       "</style>\n",
       "<table border=\"1\" class=\"dataframe\">\n",
       "  <thead>\n",
       "    <tr style=\"text-align: right;\">\n",
       "      <th></th>\n",
       "      <th>name</th>\n",
       "      <th>university</th>\n",
       "      <th>year</th>\n",
       "      <th>placement_role</th>\n",
       "      <th>placement_location</th>\n",
       "    </tr>\n",
       "  </thead>\n",
       "  <tbody>\n",
       "    <tr>\n",
       "      <th>0</th>\n",
       "      <td>Pedro Isaac Chavez Lopez</td>\n",
       "      <td>UC Riverside</td>\n",
       "      <td>2024</td>\n",
       "      <td>Economist</td>\n",
       "      <td>Bank of Mexico</td>\n",
       "    </tr>\n",
       "    <tr>\n",
       "      <th>1</th>\n",
       "      <td>Da Gong</td>\n",
       "      <td>UC Riverside</td>\n",
       "      <td>2024</td>\n",
       "      <td>Lecturer, School of Business</td>\n",
       "      <td>SUNY Geneseo</td>\n",
       "    </tr>\n",
       "    <tr>\n",
       "      <th>2</th>\n",
       "      <td>Jingyan Guo</td>\n",
       "      <td>UC Riverside</td>\n",
       "      <td>2024</td>\n",
       "      <td>Associate, Cirque Analytics</td>\n",
       "      <td>Los Angeles</td>\n",
       "    </tr>\n",
       "    <tr>\n",
       "      <th>3</th>\n",
       "      <td>Yong Ju Lee</td>\n",
       "      <td>UC Riverside</td>\n",
       "      <td>2024</td>\n",
       "      <td>Assistant Professor, Department of Mathematics...</td>\n",
       "      <td>Ohio</td>\n",
       "    </tr>\n",
       "    <tr>\n",
       "      <th>4</th>\n",
       "      <td>Dayang Li</td>\n",
       "      <td>UC Riverside</td>\n",
       "      <td>2024</td>\n",
       "      <td>Assistant Professor, Department of Economics</td>\n",
       "      <td>Xi’an Jiaotong-Liverpool University</td>\n",
       "    </tr>\n",
       "  </tbody>\n",
       "</table>\n",
       "</div>"
      ],
      "text/plain": [
       "                       name    university  year  \\\n",
       "0  Pedro Isaac Chavez Lopez  UC Riverside  2024   \n",
       "1                   Da Gong  UC Riverside  2024   \n",
       "2               Jingyan Guo  UC Riverside  2024   \n",
       "3               Yong Ju Lee  UC Riverside  2024   \n",
       "4                 Dayang Li  UC Riverside  2024   \n",
       "\n",
       "                                      placement_role  \\\n",
       "0                                          Economist   \n",
       "1                       Lecturer, School of Business   \n",
       "2                        Associate, Cirque Analytics   \n",
       "3  Assistant Professor, Department of Mathematics...   \n",
       "4       Assistant Professor, Department of Economics   \n",
       "\n",
       "                    placement_location  \n",
       "0                       Bank of Mexico  \n",
       "1                         SUNY Geneseo  \n",
       "2                          Los Angeles  \n",
       "3                                 Ohio  \n",
       "4  Xi’an Jiaotong-Liverpool University  "
      ]
     },
     "execution_count": 40,
     "metadata": {},
     "output_type": "execute_result"
    }
   ],
   "source": [
    "def scrape_ucr_placement(filepath):\n",
    "    \"\"\"\n",
    "    Scrape placement history from UC Riverside's placement history page.\n",
    "    \n",
    "    Args:\n",
    "        filepath: Path to the UC Riverside placement history HTML file\n",
    "        \n",
    "    Returns:\n",
    "        pandas DataFrame containing placement history information\n",
    "    \"\"\"\n",
    "    with open(filepath, 'r', encoding='utf-8') as file:\n",
    "        soup = BeautifulSoup(file, 'html.parser')\n",
    "    \n",
    "    placements = []\n",
    "    current_year = None\n",
    "    \n",
    "    # Find the table within the table-1 div\n",
    "    table_div = soup.find('div', class_='table-1')\n",
    "    if not table_div:\n",
    "        return pd.DataFrame()\n",
    "        \n",
    "    table = table_div.find('table')\n",
    "    if not table:\n",
    "        return pd.DataFrame()\n",
    "    \n",
    "    # Process each row in the table\n",
    "    for row in table.find_all('tr'):\n",
    "        # Check if this is a year header row\n",
    "        th = row.find('th')\n",
    "        if th and th.get('colspan') == '2':\n",
    "            try:\n",
    "                current_year = int(th.text.strip())\n",
    "            except ValueError:\n",
    "                continue\n",
    "            continue\n",
    "            \n",
    "        # Process placement data row\n",
    "        cols = row.find_all('td')\n",
    "        if len(cols) == 2:  # Ensure row has name and placement info\n",
    "            name = cols[0].text.strip()\n",
    "            placement_text = cols[1].text.strip()\n",
    "            \n",
    "            # Split placement text into role and location\n",
    "            if ',' in placement_text:\n",
    "                role, location = [part.strip() for part in placement_text.rsplit(',', 1)]\n",
    "            else:\n",
    "                role = placement_text\n",
    "                location = ''\n",
    "            \n",
    "            placement_info = {\n",
    "                'name': name,\n",
    "                'year': current_year,\n",
    "                'university': 'UC Riverside',\n",
    "                'placement_role': role,\n",
    "                'placement_location': location\n",
    "            }\n",
    "            \n",
    "            placements.append(placement_info)\n",
    "    \n",
    "    # Create DataFrame\n",
    "    df = pd.DataFrame(placements)\n",
    "    \n",
    "    # Reorder columns\n",
    "    column_order = ['name', 'university', 'year', 'placement_role', 'placement_location']\n",
    "    df = df[column_order]\n",
    "    \n",
    "    return df\n",
    "\n",
    "\n",
    "# Test the function\n",
    "ucr_placement_df = scrape_ucr_placement(uc_riverside_placement)\n",
    "ucr_placement_df.head()"
   ]
  },
  {
   "cell_type": "code",
   "execution_count": 7,
   "id": "5489a6db",
   "metadata": {},
   "outputs": [
    {
     "data": {
      "text/html": [
       "<div>\n",
       "<style scoped>\n",
       "    .dataframe tbody tr th:only-of-type {\n",
       "        vertical-align: middle;\n",
       "    }\n",
       "\n",
       "    .dataframe tbody tr th {\n",
       "        vertical-align: top;\n",
       "    }\n",
       "\n",
       "    .dataframe thead th {\n",
       "        text-align: right;\n",
       "    }\n",
       "</style>\n",
       "<table border=\"1\" class=\"dataframe\">\n",
       "  <thead>\n",
       "    <tr style=\"text-align: right;\">\n",
       "      <th></th>\n",
       "      <th>name</th>\n",
       "      <th>university</th>\n",
       "      <th>year</th>\n",
       "      <th>research_fields</th>\n",
       "      <th>job_market_paper</th>\n",
       "      <th>references</th>\n",
       "      <th>website</th>\n",
       "    </tr>\n",
       "  </thead>\n",
       "  <tbody>\n",
       "    <tr>\n",
       "      <th>0</th>\n",
       "      <td>Yifei Ding</td>\n",
       "      <td>UC Riverside</td>\n",
       "      <td>2024</td>\n",
       "      <td>Causal Inference, Econometrics Theory, Machine...</td>\n",
       "      <td>“Deep Learning for Individual Heterogeneity wi...</td>\n",
       "      <td>Ruoyao Shi, Tae-Hwy Lee, Weixin Yao, Meng Xu, ...</td>\n",
       "      <td>https://yifeiding-ucr.github.io/</td>\n",
       "    </tr>\n",
       "    <tr>\n",
       "      <th>1</th>\n",
       "      <td>Ilsoo Han</td>\n",
       "      <td>UC Riverside</td>\n",
       "      <td>2024</td>\n",
       "      <td>Macroeconomics, Search Theory, Labor Economics.</td>\n",
       "      <td>“Educational-Specific Decompositional Effects ...</td>\n",
       "      <td>Victor Ortego-Marti, Jang-Ting Guo, Matthew Lang.</td>\n",
       "      <td>http://ilsoohan.weebly.com/</td>\n",
       "    </tr>\n",
       "    <tr>\n",
       "      <th>2</th>\n",
       "      <td>Anirudh Iyer</td>\n",
       "      <td>UC Riverside</td>\n",
       "      <td>2024</td>\n",
       "      <td>Microeconomics, Matching, Market Design.</td>\n",
       "      <td>“Dynamic Matching with Case-Based Agents”</td>\n",
       "      <td>Siyang Xiong, Haluk Ergin, Hiroki Nishimura.</td>\n",
       "      <td>https://sites.google.com/view/aiyer/</td>\n",
       "    </tr>\n",
       "    <tr>\n",
       "      <th>3</th>\n",
       "      <td>Rajveer Jat</td>\n",
       "      <td>UC Riverside</td>\n",
       "      <td>2024</td>\n",
       "      <td>Econometrics, Machine Learning, Causal Inference.</td>\n",
       "      <td>“Sufficient Instrument Filter.”</td>\n",
       "      <td>Tae-Hwy Lee, Marcelle Chauvet, Bharat Ramaswam...</td>\n",
       "      <td>https://rajveerjat.com/</td>\n",
       "    </tr>\n",
       "    <tr>\n",
       "      <th>4</th>\n",
       "      <td>Nitish Kumar</td>\n",
       "      <td>UC Riverside</td>\n",
       "      <td>2024</td>\n",
       "      <td>Macroeconomics, Housing Economics, Urban Econo...</td>\n",
       "      <td>“A Search and Matching Model of Housing and Re...</td>\n",
       "      <td>Victor Ortego-Marti, Jang-Ting Guo, Guillaume ...</td>\n",
       "      <td>https://www.nitish-kumar.com/</td>\n",
       "    </tr>\n",
       "  </tbody>\n",
       "</table>\n",
       "</div>"
      ],
      "text/plain": [
       "           name    university  year  \\\n",
       "0    Yifei Ding  UC Riverside  2024   \n",
       "1     Ilsoo Han  UC Riverside  2024   \n",
       "2  Anirudh Iyer  UC Riverside  2024   \n",
       "3   Rajveer Jat  UC Riverside  2024   \n",
       "4  Nitish Kumar  UC Riverside  2024   \n",
       "\n",
       "                                     research_fields  \\\n",
       "0  Causal Inference, Econometrics Theory, Machine...   \n",
       "1    Macroeconomics, Search Theory, Labor Economics.   \n",
       "2           Microeconomics, Matching, Market Design.   \n",
       "3  Econometrics, Machine Learning, Causal Inference.   \n",
       "4  Macroeconomics, Housing Economics, Urban Econo...   \n",
       "\n",
       "                                    job_market_paper  \\\n",
       "0  “Deep Learning for Individual Heterogeneity wi...   \n",
       "1  “Educational-Specific Decompositional Effects ...   \n",
       "2          “Dynamic Matching with Case-Based Agents”   \n",
       "3                    “Sufficient Instrument Filter.”   \n",
       "4  “A Search and Matching Model of Housing and Re...   \n",
       "\n",
       "                                          references  \\\n",
       "0  Ruoyao Shi, Tae-Hwy Lee, Weixin Yao, Meng Xu, ...   \n",
       "1  Victor Ortego-Marti, Jang-Ting Guo, Matthew Lang.   \n",
       "2       Siyang Xiong, Haluk Ergin, Hiroki Nishimura.   \n",
       "3  Tae-Hwy Lee, Marcelle Chauvet, Bharat Ramaswam...   \n",
       "4  Victor Ortego-Marti, Jang-Ting Guo, Guillaume ...   \n",
       "\n",
       "                                website  \n",
       "0      https://yifeiding-ucr.github.io/  \n",
       "1           http://ilsoohan.weebly.com/  \n",
       "2  https://sites.google.com/view/aiyer/  \n",
       "3               https://rajveerjat.com/  \n",
       "4         https://www.nitish-kumar.com/  "
      ]
     },
     "execution_count": 7,
     "metadata": {},
     "output_type": "execute_result"
    }
   ],
   "source": [
    "def scrape_ucr_candidates(filepath):\n",
    "    \"\"\"\n",
    "    Scrape current job market candidates from UC Riverside's candidate page.\n",
    "    \n",
    "    Args:\n",
    "        filepath: Path to the UC Riverside candidate HTML file\n",
    "        \n",
    "    Returns:\n",
    "        pandas DataFrame containing current job market candidate information\n",
    "    \"\"\"\n",
    "    with open(filepath, 'r', encoding='utf-8') as file:\n",
    "        soup = BeautifulSoup(file, 'html.parser')\n",
    "    \n",
    "    candidates = []\n",
    "    \n",
    "    # Find the content section\n",
    "    content = soup.find('div', class_='post-content')\n",
    "    if not content:\n",
    "        return pd.DataFrame()\n",
    "    \n",
    "    # Find all candidate sections (they are grouped in fusion-builder-row-inner)\n",
    "    candidate_sections = content.find_all('div', class_='fusion-builder-row-inner')\n",
    "    \n",
    "    for section in candidate_sections:\n",
    "        # Each candidate has their info in a fusion-text div\n",
    "        info_div = section.find('div', class_='fusion-text')\n",
    "        if not info_div:\n",
    "            continue\n",
    "            \n",
    "        # Extract candidate information\n",
    "        paragraphs = info_div.find_all('p')\n",
    "        if not paragraphs:\n",
    "            continue\n",
    "            \n",
    "        # First paragraph contains name\n",
    "        name = paragraphs[0].find('strong').text.strip() if paragraphs[0].find('strong') else ''\n",
    "        \n",
    "        # Initialize variables\n",
    "        website = ''\n",
    "        paper = ''\n",
    "        references = ''\n",
    "        fields = ''\n",
    "        \n",
    "        # Process remaining paragraphs\n",
    "        for p in paragraphs[1:]:\n",
    "            text = p.text.strip()\n",
    "            if text.startswith('Website:'):\n",
    "                website = p.find('a')['href'] if p.find('a') else text.replace('Website:', '').strip()\n",
    "            elif text.startswith('Paper:'):\n",
    "                paper = text.replace('Paper:', '').strip().strip('\"')\n",
    "            elif text.startswith('References:'):\n",
    "                references = text.replace('References:', '').strip()\n",
    "            elif text.startswith('Major Fields:'):\n",
    "                fields = text.replace('Major Fields:', '').strip()\n",
    "        \n",
    "        candidate_info = {\n",
    "            'name': name,\n",
    "            'university': 'UC Riverside',\n",
    "            'year': 2024,  # Current job market year\n",
    "            'website': website,\n",
    "            'job_market_paper': paper,\n",
    "            'references': references,\n",
    "            'research_fields': fields\n",
    "        }\n",
    "        \n",
    "        candidates.append(candidate_info)\n",
    "    \n",
    "    # Create DataFrame\n",
    "    df = pd.DataFrame(candidates)\n",
    "    \n",
    "    # Reorder columns\n",
    "    column_order = ['name', 'university', 'year', 'research_fields', 'job_market_paper', 'references', 'website']\n",
    "    df = df[column_order]\n",
    "    \n",
    "    return df\n",
    "\n",
    "# Test the function\n",
    "ucr_candidates_df = scrape_ucr_candidates(uc_riverside_candidates)\n",
    "ucr_candidates_df.head()\n"
   ]
  },
  {
   "cell_type": "markdown",
   "id": "02976dbe",
   "metadata": {},
   "source": [
    "UCD"
   ]
  },
  {
   "cell_type": "code",
   "execution_count": 8,
   "id": "c52c8f54",
   "metadata": {},
   "outputs": [
    {
     "data": {
      "text/html": [
       "<div>\n",
       "<style scoped>\n",
       "    .dataframe tbody tr th:only-of-type {\n",
       "        vertical-align: middle;\n",
       "    }\n",
       "\n",
       "    .dataframe tbody tr th {\n",
       "        vertical-align: top;\n",
       "    }\n",
       "\n",
       "    .dataframe thead th {\n",
       "        text-align: right;\n",
       "    }\n",
       "</style>\n",
       "<table border=\"1\" class=\"dataframe\">\n",
       "  <thead>\n",
       "    <tr style=\"text-align: right;\">\n",
       "      <th></th>\n",
       "      <th>name</th>\n",
       "      <th>university</th>\n",
       "      <th>year</th>\n",
       "      <th>research_fields</th>\n",
       "      <th>email</th>\n",
       "      <th>website</th>\n",
       "    </tr>\n",
       "  </thead>\n",
       "  <tbody>\n",
       "    <tr>\n",
       "      <th>0</th>\n",
       "      <td>Ellen Anderson</td>\n",
       "      <td>UC Davis</td>\n",
       "      <td>2024</td>\n",
       "      <td>PhD Candidate - Development Economics, Economi...</td>\n",
       "      <td>eander@ucdavis.edu</td>\n",
       "      <td>https://www.ellenanderson-economics.com/</td>\n",
       "    </tr>\n",
       "    <tr>\n",
       "      <th>1</th>\n",
       "      <td>Kalyani Chaudhuri</td>\n",
       "      <td>UC Davis</td>\n",
       "      <td>2024</td>\n",
       "      <td>PhD Candidate - Behavioral Economics, Labor Ec...</td>\n",
       "      <td>kalyanic@ucdavis.edu</td>\n",
       "      <td>https://kalyanic.weebly.com/</td>\n",
       "    </tr>\n",
       "    <tr>\n",
       "      <th>2</th>\n",
       "      <td>Kevin Dinh</td>\n",
       "      <td>UC Davis</td>\n",
       "      <td>2024</td>\n",
       "      <td>Ph.D. Candidate - Health Economics, Labor Econ...</td>\n",
       "      <td>kevdinh@ucdavis.edu</td>\n",
       "      <td>https://sites.google.com/view/kevindinh/home?a...</td>\n",
       "    </tr>\n",
       "    <tr>\n",
       "      <th>3</th>\n",
       "      <td>Irina Firsova</td>\n",
       "      <td>UC Davis</td>\n",
       "      <td>2024</td>\n",
       "      <td>Ph.D. Candidate - Environmental Economics, App...</td>\n",
       "      <td>ifirsova@ucdavis.edu</td>\n",
       "      <td>https://www.irinafirsova.com/</td>\n",
       "    </tr>\n",
       "    <tr>\n",
       "      <th>4</th>\n",
       "      <td>Tyler S Hoppenfeld</td>\n",
       "      <td>UC Davis</td>\n",
       "      <td>2024</td>\n",
       "      <td>Graduate Student</td>\n",
       "      <td>THoppenfeld@ucdavis.edu</td>\n",
       "      <td></td>\n",
       "    </tr>\n",
       "  </tbody>\n",
       "</table>\n",
       "</div>"
      ],
      "text/plain": [
       "                 name university  year  \\\n",
       "0      Ellen Anderson   UC Davis  2024   \n",
       "1   Kalyani Chaudhuri   UC Davis  2024   \n",
       "2          Kevin Dinh   UC Davis  2024   \n",
       "3       Irina Firsova   UC Davis  2024   \n",
       "4  Tyler S Hoppenfeld   UC Davis  2024   \n",
       "\n",
       "                                     research_fields                    email  \\\n",
       "0  PhD Candidate - Development Economics, Economi...       eander@ucdavis.edu   \n",
       "1  PhD Candidate - Behavioral Economics, Labor Ec...     kalyanic@ucdavis.edu   \n",
       "2  Ph.D. Candidate - Health Economics, Labor Econ...      kevdinh@ucdavis.edu   \n",
       "3  Ph.D. Candidate - Environmental Economics, App...     ifirsova@ucdavis.edu   \n",
       "4                                   Graduate Student  THoppenfeld@ucdavis.edu   \n",
       "\n",
       "                                             website  \n",
       "0           https://www.ellenanderson-economics.com/  \n",
       "1                       https://kalyanic.weebly.com/  \n",
       "2  https://sites.google.com/view/kevindinh/home?a...  \n",
       "3                      https://www.irinafirsova.com/  \n",
       "4                                                     "
      ]
     },
     "execution_count": 8,
     "metadata": {},
     "output_type": "execute_result"
    }
   ],
   "source": [
    "def scrape_ucd_candidates(filepath):\n",
    "    \"\"\"\n",
    "    Scrape current job market candidates from UC Davis's candidate page.\n",
    "    \n",
    "    Args:\n",
    "        filepath: Path to the UC Davis candidate HTML file\n",
    "        \n",
    "    Returns:\n",
    "        pandas DataFrame containing current job market candidate information\n",
    "    \"\"\"\n",
    "    with open(filepath, 'r', encoding='utf-8') as file:\n",
    "        soup = BeautifulSoup(file, 'html.parser')\n",
    "    \n",
    "    candidates = []\n",
    "    \n",
    "    # Find all candidate entries (they are in vm-teaser divs)\n",
    "    candidate_divs = soup.find_all('article', class_='node node--type-sf-person vm-teaser--grouped vm-teaser')\n",
    "    \n",
    "    for div in candidate_divs:\n",
    "        # Get name from the title\n",
    "        name_elem = div.find('h3', class_='vm-teaser__title')\n",
    "        if not name_elem:\n",
    "            continue\n",
    "        name = name_elem.find('span').text.strip()\n",
    "        \n",
    "        # Get research fields from position list\n",
    "        fields_elem = div.find('ul', class_='vm-teaser__position')\n",
    "        fields = fields_elem.find('li').text.strip() if fields_elem else ''\n",
    "        \n",
    "        # Get contact information\n",
    "        contact_list = div.find('ul', class_='vm-teaser__contact')\n",
    "        email = ''\n",
    "        website = ''\n",
    "        if contact_list:\n",
    "            for li in contact_list.find_all('li'):\n",
    "                link = li.find('a')\n",
    "                if not link:\n",
    "                    continue\n",
    "                if '@' in link.text:\n",
    "                    email = link.text.strip()\n",
    "                elif 'Website' in li.text:\n",
    "                    website = link['href'].strip()\n",
    "        \n",
    "        candidate_info = {\n",
    "            'name': name,\n",
    "            'university': 'UC Davis',\n",
    "            'year': 2024,  # Current job market year\n",
    "            'research_fields': fields,\n",
    "            'email': email,\n",
    "            'website': website\n",
    "        }\n",
    "        \n",
    "        candidates.append(candidate_info)\n",
    "    \n",
    "    # Create DataFrame\n",
    "    df = pd.DataFrame(candidates)\n",
    "    \n",
    "    # Reorder columns\n",
    "    column_order = ['name', 'university', 'year', 'research_fields', 'email', 'website']\n",
    "    df = df[column_order]\n",
    "    \n",
    "    return df\n",
    "\n",
    "# Test the function\n",
    "ucd_candidates_df = scrape_ucd_candidates(uc_davis_candidates)\n",
    "ucd_candidates_df.head()"
   ]
  },
  {
   "cell_type": "code",
   "execution_count": 46,
   "id": "c44d430c",
   "metadata": {},
   "outputs": [
    {
     "data": {
      "text/html": [
       "<div>\n",
       "<style scoped>\n",
       "    .dataframe tbody tr th:only-of-type {\n",
       "        vertical-align: middle;\n",
       "    }\n",
       "\n",
       "    .dataframe tbody tr th {\n",
       "        vertical-align: top;\n",
       "    }\n",
       "\n",
       "    .dataframe thead th {\n",
       "        text-align: right;\n",
       "    }\n",
       "</style>\n",
       "<table border=\"1\" class=\"dataframe\">\n",
       "  <thead>\n",
       "    <tr style=\"text-align: right;\">\n",
       "      <th></th>\n",
       "      <th>name</th>\n",
       "      <th>university</th>\n",
       "      <th>year</th>\n",
       "      <th>placement_role</th>\n",
       "      <th>placement_location</th>\n",
       "    </tr>\n",
       "  </thead>\n",
       "  <tbody>\n",
       "    <tr>\n",
       "      <th>0</th>\n",
       "      <td>Alaa Abdelfattah</td>\n",
       "      <td>UC Davis</td>\n",
       "      <td>2024.0</td>\n",
       "      <td>Assistant Professor</td>\n",
       "      <td>Occidental College</td>\n",
       "    </tr>\n",
       "    <tr>\n",
       "      <th>1</th>\n",
       "      <td>Seungjin Baek</td>\n",
       "      <td>UC Davis</td>\n",
       "      <td>2024.0</td>\n",
       "      <td>Junior Economist</td>\n",
       "      <td>OECD</td>\n",
       "    </tr>\n",
       "    <tr>\n",
       "      <th>2</th>\n",
       "      <td>Reem Zaiour</td>\n",
       "      <td>UC Davis</td>\n",
       "      <td>2024.0</td>\n",
       "      <td>Assistant Professor</td>\n",
       "      <td>Vanderbilt University</td>\n",
       "    </tr>\n",
       "    <tr>\n",
       "      <th>3</th>\n",
       "      <td>Jinyoung Seo</td>\n",
       "      <td>UC Davis</td>\n",
       "      <td>2024.0</td>\n",
       "      <td>Assistant Professor</td>\n",
       "      <td>Wake Forest University</td>\n",
       "    </tr>\n",
       "    <tr>\n",
       "      <th>4</th>\n",
       "      <td>Baiyu Zhou</td>\n",
       "      <td>UC Davis</td>\n",
       "      <td>2024.0</td>\n",
       "      <td>Senior Associate</td>\n",
       "      <td>Charles River Associates</td>\n",
       "    </tr>\n",
       "  </tbody>\n",
       "</table>\n",
       "</div>"
      ],
      "text/plain": [
       "               name university    year       placement_role  \\\n",
       "0  Alaa Abdelfattah   UC Davis  2024.0  Assistant Professor   \n",
       "1     Seungjin Baek   UC Davis  2024.0     Junior Economist   \n",
       "2       Reem Zaiour   UC Davis  2024.0  Assistant Professor   \n",
       "3      Jinyoung Seo   UC Davis  2024.0  Assistant Professor   \n",
       "4        Baiyu Zhou   UC Davis  2024.0     Senior Associate   \n",
       "\n",
       "         placement_location  \n",
       "0        Occidental College  \n",
       "1                      OECD  \n",
       "2     Vanderbilt University  \n",
       "3    Wake Forest University  \n",
       "4  Charles River Associates  "
      ]
     },
     "execution_count": 46,
     "metadata": {},
     "output_type": "execute_result"
    }
   ],
   "source": [
    "def scrape_ucd_placement(filepath):\n",
    "    \"\"\"\n",
    "    Scrape placement history from UC Davis's placement history page.\n",
    "    \n",
    "    Args:\n",
    "        filepath: Path to the UC Davis placement history HTML file\n",
    "        \n",
    "    Returns:\n",
    "        pandas DataFrame containing placement history information\n",
    "    \"\"\"\n",
    "    with open(filepath, 'r', encoding='utf-8') as file:\n",
    "        soup = BeautifulSoup(file, 'html.parser')\n",
    "    \n",
    "    placements = []\n",
    "    \n",
    "    # Find the table with class 'table--striped'\n",
    "    table = soup.find('table', class_='table--striped')\n",
    "    if not table:\n",
    "        return pd.DataFrame()\n",
    "    \n",
    "    # Process each row in the table\n",
    "    for row in table.find_all('tr')[1:]:  # Skip header row\n",
    "        cols = row.find_all('td')\n",
    "        if len(cols) >= 5:  # Ensure row has all required columns\n",
    "            last_name = cols[0].text.strip()\n",
    "            first_name = cols[1].text.strip()\n",
    "            phd_date = cols[2].text.strip()\n",
    "            placement_location = cols[3].text.strip()\n",
    "            placement_role = cols[4].text.strip()\n",
    "            \n",
    "            # Extract year from PhD date (format: \"Jun-24\")\n",
    "            try:\n",
    "                year = 2000 + int(phd_date.split('-')[1])\n",
    "            except:\n",
    "                year = None\n",
    "            \n",
    "            placement_info = {\n",
    "                'name': f\"{first_name} {last_name}\",\n",
    "                'university': 'UC Davis',\n",
    "                'year': year,\n",
    "                'placement_role': placement_role,\n",
    "                'placement_location': placement_location\n",
    "            }\n",
    "            \n",
    "            placements.append(placement_info)\n",
    "    \n",
    "    # Create DataFrame\n",
    "    df = pd.DataFrame(placements)\n",
    "    \n",
    "    # Reorder columns\n",
    "    column_order = ['name', 'university', 'year', 'placement_role', 'placement_location']\n",
    "    df = df[column_order]\n",
    "    df = df.loc[df['year'].isna(), 'year'] = 2019\n",
    "    \n",
    "    return df\n",
    "\n",
    "# Test the function\n",
    "ucd_placement_df = scrape_ucd_placement(uc_davis_placement)\n",
    "ucd_placement_df.head()\n"
   ]
  },
  {
   "cell_type": "markdown",
   "id": "fddf8859",
   "metadata": {},
   "source": [
    "### Stanford"
   ]
  },
  {
   "cell_type": "code",
   "execution_count": 9,
   "id": "a08d9b77",
   "metadata": {},
   "outputs": [
    {
     "data": {
      "text/html": [
       "<div>\n",
       "<style scoped>\n",
       "    .dataframe tbody tr th:only-of-type {\n",
       "        vertical-align: middle;\n",
       "    }\n",
       "\n",
       "    .dataframe tbody tr th {\n",
       "        vertical-align: top;\n",
       "    }\n",
       "\n",
       "    .dataframe thead th {\n",
       "        text-align: right;\n",
       "    }\n",
       "</style>\n",
       "<table border=\"1\" class=\"dataframe\">\n",
       "  <thead>\n",
       "    <tr style=\"text-align: right;\">\n",
       "      <th></th>\n",
       "      <th>name</th>\n",
       "      <th>university</th>\n",
       "      <th>year</th>\n",
       "      <th>email</th>\n",
       "      <th>research_fields</th>\n",
       "      <th>job_market_paper</th>\n",
       "      <th>advisors</th>\n",
       "      <th>website</th>\n",
       "    </tr>\n",
       "  </thead>\n",
       "  <tbody>\n",
       "    <tr>\n",
       "      <th>0</th>\n",
       "      <td>Shifrah Aron-Dine</td>\n",
       "      <td>Stanford</td>\n",
       "      <td>2024</td>\n",
       "      <td>arondine@stanford.edu</td>\n",
       "      <td>Macroeconomics, Finance, Environmental Economics</td>\n",
       "      <td>Rebuild or Relocate? Recovery after Natural Di...</td>\n",
       "      <td>Monika Piazzesi (Co-primary), Martin Schneider...</td>\n",
       "      <td>https://www.shifraharondine.com/</td>\n",
       "    </tr>\n",
       "    <tr>\n",
       "      <th>1</th>\n",
       "      <td>Matthew Brown</td>\n",
       "      <td>Stanford</td>\n",
       "      <td>2024</td>\n",
       "      <td>mbrown35@stanford.edu</td>\n",
       "      <td>Public Economics, Behavioral and Experimental</td>\n",
       "      <td>Do Sports Bettors Need Consumer Protection? Ev...</td>\n",
       "      <td>Matthew Gentzkow, Hunt Allcott, B. Douglas Ber...</td>\n",
       "      <td>https://mattbrownecon.github.io/</td>\n",
       "    </tr>\n",
       "    <tr>\n",
       "      <th>2</th>\n",
       "      <td>Ian Calaway</td>\n",
       "      <td>Stanford</td>\n",
       "      <td>2024</td>\n",
       "      <td>icalaway@stanford.edu</td>\n",
       "      <td>Public Economics, Labor Economics</td>\n",
       "      <td>Early Mentors for Exceptional Students</td>\n",
       "      <td>Caroline Hoxby, Isaac Sorkin, Nicholas Bloom</td>\n",
       "      <td>https://sites.google.com/view/ian-calaway/home</td>\n",
       "    </tr>\n",
       "    <tr>\n",
       "      <th>3</th>\n",
       "      <td>Harsh Gupta</td>\n",
       "      <td>Stanford</td>\n",
       "      <td>2024</td>\n",
       "      <td>hgupta13@stanford.edu</td>\n",
       "      <td>Industrial Organization, Health Economics</td>\n",
       "      <td>Price Controls with Imperfect Competition and ...</td>\n",
       "      <td>Matthew Gentzkow (Co-primary), Heidi Williams ...</td>\n",
       "      <td>https://www.harshgupta1311.com/</td>\n",
       "    </tr>\n",
       "    <tr>\n",
       "      <th>4</th>\n",
       "      <td>Cedomir Malgieri</td>\n",
       "      <td>Stanford</td>\n",
       "      <td>2024</td>\n",
       "      <td>cedomir@stanford.edu</td>\n",
       "      <td>Macroeconomics</td>\n",
       "      <td>Wage Contracts and Financial Frictions</td>\n",
       "      <td>Luigi Bocola (Co-primary), Patrick Kehoe (Co-p...</td>\n",
       "      <td>https://www.cedomirmalgieri.com/</td>\n",
       "    </tr>\n",
       "  </tbody>\n",
       "</table>\n",
       "</div>"
      ],
      "text/plain": [
       "                name university  year                  email  \\\n",
       "0  Shifrah Aron-Dine   Stanford  2024  arondine@stanford.edu   \n",
       "1      Matthew Brown   Stanford  2024  mbrown35@stanford.edu   \n",
       "2        Ian Calaway   Stanford  2024  icalaway@stanford.edu   \n",
       "3        Harsh Gupta   Stanford  2024  hgupta13@stanford.edu   \n",
       "4   Cedomir Malgieri   Stanford  2024   cedomir@stanford.edu   \n",
       "\n",
       "                                    research_fields  \\\n",
       "0  Macroeconomics, Finance, Environmental Economics   \n",
       "1     Public Economics, Behavioral and Experimental   \n",
       "2                 Public Economics, Labor Economics   \n",
       "3         Industrial Organization, Health Economics   \n",
       "4                                    Macroeconomics   \n",
       "\n",
       "                                    job_market_paper  \\\n",
       "0  Rebuild or Relocate? Recovery after Natural Di...   \n",
       "1  Do Sports Bettors Need Consumer Protection? Ev...   \n",
       "2             Early Mentors for Exceptional Students   \n",
       "3  Price Controls with Imperfect Competition and ...   \n",
       "4             Wage Contracts and Financial Frictions   \n",
       "\n",
       "                                            advisors  \\\n",
       "0  Monika Piazzesi (Co-primary), Martin Schneider...   \n",
       "1  Matthew Gentzkow, Hunt Allcott, B. Douglas Ber...   \n",
       "2       Caroline Hoxby, Isaac Sorkin, Nicholas Bloom   \n",
       "3  Matthew Gentzkow (Co-primary), Heidi Williams ...   \n",
       "4  Luigi Bocola (Co-primary), Patrick Kehoe (Co-p...   \n",
       "\n",
       "                                          website  \n",
       "0                https://www.shifraharondine.com/  \n",
       "1                https://mattbrownecon.github.io/  \n",
       "2  https://sites.google.com/view/ian-calaway/home  \n",
       "3                 https://www.harshgupta1311.com/  \n",
       "4                https://www.cedomirmalgieri.com/  "
      ]
     },
     "execution_count": 9,
     "metadata": {},
     "output_type": "execute_result"
    }
   ],
   "source": [
    "def scrape_stanford_candidates(filepath):\n",
    "    \"\"\"\n",
    "    Scrape current job market candidates from Stanford's candidate page.\n",
    "    \n",
    "    Args:\n",
    "        filepath: Path to the Stanford candidate HTML file\n",
    "        \n",
    "    Returns:\n",
    "        pandas DataFrame containing current job market candidate information\n",
    "    \"\"\"\n",
    "    with open(filepath, 'r', encoding='utf-8') as file:\n",
    "        soup = BeautifulSoup(file, 'html.parser')\n",
    "    \n",
    "    candidates = []\n",
    "    \n",
    "    # Find all candidate cards\n",
    "    candidate_cards = soup.find_all('div', class_='hb-card__content')\n",
    "    \n",
    "    for card in candidate_cards:\n",
    "        # Get name from title (h2 within views-field-title)\n",
    "        name_elem = card.find('div', class_='views-field-title').find('h2')\n",
    "        if not name_elem or not name_elem.find('a'):\n",
    "            continue\n",
    "            \n",
    "        name = name_elem.find('a').text.strip()\n",
    "        website = name_elem.find('a')['href']\n",
    "        \n",
    "        # Get email (within field-content div)\n",
    "        email_elem = card.find('div', class_='views-field-field-hs-person-email')\n",
    "        email = email_elem.find('div', class_='field-content').find('a').text.strip() if email_elem else ''\n",
    "        \n",
    "        # Get job market paper\n",
    "        paper_elem = card.find('div', class_='views-field-custm-hs-job-market-paper')\n",
    "        paper = paper_elem.find('div', class_='field-content').text.strip() if paper_elem else ''\n",
    "        \n",
    "        # Get fields of study\n",
    "        fields_elem = card.find('div', class_='views-field-field-hs-person-interests')\n",
    "        fields = fields_elem.find('div', class_='field-content').text.strip() if fields_elem else ''\n",
    "        \n",
    "        # Get advisors\n",
    "        advisors_elem = card.find('div', class_='views-field-custm-advisors')\n",
    "        advisors = advisors_elem.find('div', class_='field-content').text.strip() if advisors_elem else ''\n",
    "        \n",
    "        candidate_info = {\n",
    "            'name': name,\n",
    "            'university': 'Stanford',\n",
    "            'year': 2024,  # From the lead text\n",
    "            'email': email,\n",
    "            'research_fields': fields,\n",
    "            'job_market_paper': paper,\n",
    "            'advisors': advisors,\n",
    "            'website': website\n",
    "        }\n",
    "        \n",
    "        candidates.append(candidate_info)\n",
    "    \n",
    "    # Create DataFrame\n",
    "    df = pd.DataFrame(candidates)\n",
    "    \n",
    "    # Reorder columns\n",
    "    column_order = ['name', 'university', 'year', 'email', 'research_fields', 'job_market_paper', 'advisors', 'website']\n",
    "    df = df[column_order]\n",
    "    \n",
    "    return df\n",
    "\n",
    "# Test the function\n",
    "stanford_candidates_df = scrape_stanford_candidates(stanford_candidates)\n",
    "stanford_candidates_df.head()\n"
   ]
  },
  {
   "cell_type": "code",
   "execution_count": 54,
   "id": "b30918ea",
   "metadata": {},
   "outputs": [
    {
     "data": {
      "text/html": [
       "<div>\n",
       "<style scoped>\n",
       "    .dataframe tbody tr th:only-of-type {\n",
       "        vertical-align: middle;\n",
       "    }\n",
       "\n",
       "    .dataframe tbody tr th {\n",
       "        vertical-align: top;\n",
       "    }\n",
       "\n",
       "    .dataframe thead th {\n",
       "        text-align: right;\n",
       "    }\n",
       "</style>\n",
       "<table border=\"1\" class=\"dataframe\">\n",
       "  <thead>\n",
       "    <tr style=\"text-align: right;\">\n",
       "      <th></th>\n",
       "      <th>name</th>\n",
       "      <th>university</th>\n",
       "      <th>year</th>\n",
       "      <th>research_fields</th>\n",
       "      <th>placement</th>\n",
       "    </tr>\n",
       "  </thead>\n",
       "  <tbody>\n",
       "    <tr>\n",
       "      <th>0</th>\n",
       "      <td>Maxim Bakhtin</td>\n",
       "      <td>Stanford</td>\n",
       "      <td>2025</td>\n",
       "      <td>Behavioral Economics, Theory</td>\n",
       "      <td>Analysis Group</td>\n",
       "    </tr>\n",
       "    <tr>\n",
       "      <th>1</th>\n",
       "      <td>Joseph Anderson</td>\n",
       "      <td>Stanford</td>\n",
       "      <td>2024</td>\n",
       "      <td>Innovation, Labor, Industrial Organization</td>\n",
       "      <td>Office of Management and Budget, U.S. Government</td>\n",
       "    </tr>\n",
       "    <tr>\n",
       "      <th>2</th>\n",
       "      <td>Dominique Araya Vergara</td>\n",
       "      <td>Stanford</td>\n",
       "      <td>2024</td>\n",
       "      <td>Health Economics, Public Economics</td>\n",
       "      <td>Postdoc, Ohio State University</td>\n",
       "    </tr>\n",
       "    <tr>\n",
       "      <th>3</th>\n",
       "      <td>Gonzalo Arrieta</td>\n",
       "      <td>Stanford</td>\n",
       "      <td>2024</td>\n",
       "      <td>Experimental and Behavioral Economics</td>\n",
       "      <td>University of Zurich</td>\n",
       "    </tr>\n",
       "    <tr>\n",
       "      <th>4</th>\n",
       "      <td>Yunus C. Aybas</td>\n",
       "      <td>Stanford</td>\n",
       "      <td>2024</td>\n",
       "      <td>Microeconomic Theory</td>\n",
       "      <td>Texas A&amp;M University</td>\n",
       "    </tr>\n",
       "  </tbody>\n",
       "</table>\n",
       "</div>"
      ],
      "text/plain": [
       "                      name university  year  \\\n",
       "0            Maxim Bakhtin   Stanford  2025   \n",
       "1          Joseph Anderson   Stanford  2024   \n",
       "2  Dominique Araya Vergara   Stanford  2024   \n",
       "3          Gonzalo Arrieta   Stanford  2024   \n",
       "4           Yunus C. Aybas   Stanford  2024   \n",
       "\n",
       "                              research_fields  \\\n",
       "0                Behavioral Economics, Theory   \n",
       "1  Innovation, Labor, Industrial Organization   \n",
       "2          Health Economics, Public Economics   \n",
       "3       Experimental and Behavioral Economics   \n",
       "4                        Microeconomic Theory   \n",
       "\n",
       "                                          placement  \n",
       "0                                    Analysis Group  \n",
       "1  Office of Management and Budget, U.S. Government  \n",
       "2                    Postdoc, Ohio State University  \n",
       "3                              University of Zurich  \n",
       "4                              Texas A&M University  "
      ]
     },
     "execution_count": 54,
     "metadata": {},
     "output_type": "execute_result"
    }
   ],
   "source": [
    "def scrape_stanford_placement(filepath):\n",
    "    \"\"\"\n",
    "    Scrape placement data from Stanford's placement page.\n",
    "    \n",
    "    Args:\n",
    "        filepath: Path to the Stanford placement HTML file\n",
    "        \n",
    "    Returns:\n",
    "        pandas DataFrame containing placement information\n",
    "    \"\"\"\n",
    "    with open(filepath, 'r', encoding='utf-8') as file:\n",
    "        soup = BeautifulSoup(file, 'html.parser')\n",
    "    \n",
    "    placements = []\n",
    "    \n",
    "    # Find all tables\n",
    "    tables = soup.find_all('table', class_='cols-3')\n",
    "    \n",
    "    for table in tables:\n",
    "        # Get year from caption\n",
    "        year_div = table.find('caption').find('div', class_='text-align-center')\n",
    "        if year_div:\n",
    "            try:\n",
    "                year = int(year_div.text.strip())\n",
    "            except ValueError:\n",
    "                continue\n",
    "        else:\n",
    "            continue\n",
    "            \n",
    "        # Process each row in table body\n",
    "        for row in table.find('tbody').find_all('tr'):\n",
    "            cols = row.find_all('td')\n",
    "            if len(cols) == 3:  # Ensure we have all three columns\n",
    "                name = cols[0].text.strip()\n",
    "                fields = cols[1].text.strip()\n",
    "                placement = cols[2].text.strip()\n",
    "                \n",
    "                # Split placement into role and location if possible\n",
    "                # For now treating entire placement as role since structure isn't clear\n",
    "                placement_info = {\n",
    "                    'name': name,\n",
    "                    'university': 'Stanford',\n",
    "                    'year': year,\n",
    "                    'research_fields': fields,\n",
    "                    'placement_role': placement,\n",
    "                    'placement_location': ''  # Could be parsed from placement if needed\n",
    "                }\n",
    "                \n",
    "                placements.append(placement_info)\n",
    "    \n",
    "    # Create DataFrame\n",
    "    df = pd.DataFrame(placements)\n",
    "    \n",
    "    # Reorder columns\n",
    "    column_order = ['name', 'university', 'year', 'research_fields', 'placement_role', 'placement_location']\n",
    "    df = df[column_order]\n",
    "    df = df.rename(columns={'placement_role': 'placement'})\n",
    "    df = df[['name', 'university', 'year', 'research_fields', 'placement']]\n",
    "    return df\n",
    "\n",
    "# Test the function\n",
    "stanford_placement_df = scrape_stanford_placement(stanford_placement)\n",
    "stanford_placement_df.head()"
   ]
  },
  {
   "cell_type": "markdown",
   "id": "edd5064a",
   "metadata": {},
   "source": [
    "### Princeton"
   ]
  },
  {
   "cell_type": "code",
   "execution_count": 10,
   "id": "df83a94d",
   "metadata": {},
   "outputs": [
    {
     "data": {
      "text/html": [
       "<div>\n",
       "<style scoped>\n",
       "    .dataframe tbody tr th:only-of-type {\n",
       "        vertical-align: middle;\n",
       "    }\n",
       "\n",
       "    .dataframe tbody tr th {\n",
       "        vertical-align: top;\n",
       "    }\n",
       "\n",
       "    .dataframe thead th {\n",
       "        text-align: right;\n",
       "    }\n",
       "</style>\n",
       "<table border=\"1\" class=\"dataframe\">\n",
       "  <thead>\n",
       "    <tr style=\"text-align: right;\">\n",
       "      <th></th>\n",
       "      <th>name</th>\n",
       "      <th>university</th>\n",
       "      <th>year</th>\n",
       "      <th>email</th>\n",
       "      <th>research_fields</th>\n",
       "      <th>job_market_paper</th>\n",
       "      <th>references</th>\n",
       "      <th>website</th>\n",
       "      <th>cv</th>\n",
       "    </tr>\n",
       "  </thead>\n",
       "  <tbody>\n",
       "    <tr>\n",
       "      <th>0</th>\n",
       "      <td>Patrick Agte</td>\n",
       "      <td>Princeton</td>\n",
       "      <td>2024</td>\n",
       "      <td>patrick.agte@yale.edu</td>\n",
       "      <td>Development Economics\\nHealth Economics\\nIndus...</td>\n",
       "      <td>“Fighting Silent Killers: How India’s Public P...</td>\n",
       "      <td>Janet Currie, Thomas Fujiwara, Rohini Pande, C...</td>\n",
       "      <td>http://www.patrickagte.com</td>\n",
       "      <td>https://patrickagte.github.io/patrickagte/agte...</td>\n",
       "    </tr>\n",
       "    <tr>\n",
       "      <th>1</th>\n",
       "      <td>Anshu Chen</td>\n",
       "      <td>Princeton</td>\n",
       "      <td>2024</td>\n",
       "      <td>anshuc@princeton.edu</td>\n",
       "      <td>Corporate Finance\\nMacroeconomics</td>\n",
       "      <td>“Text-Based Industry Classifications and their...</td>\n",
       "      <td>Moritz Lenel, Ezra Oberfield, Motohiro Yogo</td>\n",
       "      <td>https://sites.google.com/view/anshuchen/home</td>\n",
       "      <td>https://www.dropbox.com/scl/fi/hu83j9qi8lo33d3...</td>\n",
       "    </tr>\n",
       "    <tr>\n",
       "      <th>2</th>\n",
       "      <td>Francesco Fabbri</td>\n",
       "      <td>Princeton</td>\n",
       "      <td>2024</td>\n",
       "      <td>ffabbri@princeton.edu</td>\n",
       "      <td>Microeconomic Theory\\nBehavioral Economics</td>\n",
       "      <td>“Attention Holdup”\\nPietro Ortoleva (advisor)</td>\n",
       "      <td>Pietro Ortoleva, Faruk Gul, Wolfgang Pesendorfer</td>\n",
       "      <td>http://www.francesco-fabbri.com</td>\n",
       "      <td>https://francesco-fabbri.github.io/documents/c...</td>\n",
       "    </tr>\n",
       "    <tr>\n",
       "      <th>3</th>\n",
       "      <td>Allison Green</td>\n",
       "      <td>Princeton</td>\n",
       "      <td>2024</td>\n",
       "      <td>aegreen@princeton.edu</td>\n",
       "      <td>Labor Economics\\nUrban Economics\\nEconomic His...</td>\n",
       "      <td>“Networks and Geographic Mobility: Evidence fr...</td>\n",
       "      <td>Leah Boustan, Ilyana Kuziemko, Stephen Redding</td>\n",
       "      <td>http://www.allie-green.com</td>\n",
       "      <td>https://allie-e-green.github.io/public/AG_CV.pdf</td>\n",
       "    </tr>\n",
       "    <tr>\n",
       "      <th>4</th>\n",
       "      <td>Simon Margolin</td>\n",
       "      <td>Princeton</td>\n",
       "      <td>2024</td>\n",
       "      <td>simon.margolin@princeton.edu</td>\n",
       "      <td>Macroeconomics\\nPublic Finance</td>\n",
       "      <td>“Micro vs. Macro Corporate Tax Incidence”\\nGia...</td>\n",
       "      <td>Gianluca Violante, John Grigsby, Richard Rogerson</td>\n",
       "      <td>https://www.simonmargolin.com/</td>\n",
       "      <td>http://simonmargolin.github.io/JM/CV_SimonMarg...</td>\n",
       "    </tr>\n",
       "  </tbody>\n",
       "</table>\n",
       "</div>"
      ],
      "text/plain": [
       "               name university  year                         email  \\\n",
       "0      Patrick Agte  Princeton  2024         patrick.agte@yale.edu   \n",
       "1        Anshu Chen  Princeton  2024          anshuc@princeton.edu   \n",
       "2  Francesco Fabbri  Princeton  2024         ffabbri@princeton.edu   \n",
       "3     Allison Green  Princeton  2024         aegreen@princeton.edu   \n",
       "4    Simon Margolin  Princeton  2024  simon.margolin@princeton.edu   \n",
       "\n",
       "                                     research_fields  \\\n",
       "0  Development Economics\\nHealth Economics\\nIndus...   \n",
       "1                  Corporate Finance\\nMacroeconomics   \n",
       "2         Microeconomic Theory\\nBehavioral Economics   \n",
       "3  Labor Economics\\nUrban Economics\\nEconomic His...   \n",
       "4                     Macroeconomics\\nPublic Finance   \n",
       "\n",
       "                                    job_market_paper  \\\n",
       "0  “Fighting Silent Killers: How India’s Public P...   \n",
       "1  “Text-Based Industry Classifications and their...   \n",
       "2      “Attention Holdup”\\nPietro Ortoleva (advisor)   \n",
       "3  “Networks and Geographic Mobility: Evidence fr...   \n",
       "4  “Micro vs. Macro Corporate Tax Incidence”\\nGia...   \n",
       "\n",
       "                                          references  \\\n",
       "0  Janet Currie, Thomas Fujiwara, Rohini Pande, C...   \n",
       "1        Moritz Lenel, Ezra Oberfield, Motohiro Yogo   \n",
       "2   Pietro Ortoleva, Faruk Gul, Wolfgang Pesendorfer   \n",
       "3     Leah Boustan, Ilyana Kuziemko, Stephen Redding   \n",
       "4  Gianluca Violante, John Grigsby, Richard Rogerson   \n",
       "\n",
       "                                        website  \\\n",
       "0                    http://www.patrickagte.com   \n",
       "1  https://sites.google.com/view/anshuchen/home   \n",
       "2               http://www.francesco-fabbri.com   \n",
       "3                    http://www.allie-green.com   \n",
       "4                https://www.simonmargolin.com/   \n",
       "\n",
       "                                                  cv  \n",
       "0  https://patrickagte.github.io/patrickagte/agte...  \n",
       "1  https://www.dropbox.com/scl/fi/hu83j9qi8lo33d3...  \n",
       "2  https://francesco-fabbri.github.io/documents/c...  \n",
       "3   https://allie-e-green.github.io/public/AG_CV.pdf  \n",
       "4  http://simonmargolin.github.io/JM/CV_SimonMarg...  "
      ]
     },
     "execution_count": 10,
     "metadata": {},
     "output_type": "execute_result"
    }
   ],
   "source": [
    "def scrape_princeton_candidates(filepath):\n",
    "    \"\"\"\n",
    "    Scrape current job market candidates from Princeton's candidate page.\n",
    "    \n",
    "    Args:\n",
    "        filepath: Path to the Princeton candidate HTML file\n",
    "        \n",
    "    Returns:\n",
    "        pandas DataFrame containing current job market candidate information\n",
    "    \"\"\"\n",
    "    with open(filepath, 'r', encoding='utf-8') as file:\n",
    "        soup = BeautifulSoup(file, 'html.parser')\n",
    "    \n",
    "    candidates = []\n",
    "    \n",
    "    # Find the table containing candidates\n",
    "    table = soup.find('table')\n",
    "    if not table:\n",
    "        return pd.DataFrame()\n",
    "    \n",
    "    # Process each row in table body\n",
    "    for row in table.find_all('tr')[1:]:  # Skip header row\n",
    "        cols = row.find_all('td')\n",
    "        if len(cols) == 5:  # Ensure we have all columns\n",
    "            # Extract image and info from first column\n",
    "            photo_col = cols[0]\n",
    "            \n",
    "            # Extract name and contact info from second column\n",
    "            contact_col = cols[1]\n",
    "            name = contact_col.find('strong').text.strip() if contact_col.find('strong') else ''\n",
    "            \n",
    "            # Get email and website links\n",
    "            links = contact_col.find_all('a')\n",
    "            email = ''\n",
    "            website = ''\n",
    "            cv = ''\n",
    "            for link in links:\n",
    "                if 'Email' in link.text:\n",
    "                    email = link['href'].replace('mailto:', '')\n",
    "                elif 'Website' in link.text:\n",
    "                    website = link['href']\n",
    "                elif 'CV' in link.text:\n",
    "                    cv = link['href']\n",
    "            \n",
    "            # Get fields from third column\n",
    "            fields = cols[2].text.strip()\n",
    "            \n",
    "            # Get paper from fourth column\n",
    "            paper_col = cols[3]\n",
    "            paper = paper_col.text.strip()\n",
    "            if paper.startswith('\"') and paper.endswith('\"'):\n",
    "                paper = paper[1:-1]  # Remove quotes\n",
    "                \n",
    "            # Get references from fifth column\n",
    "            refs_col = cols[4]\n",
    "            references = []\n",
    "            for ref_link in refs_col.find_all('a'):\n",
    "                references.append(ref_link.text.strip())\n",
    "            references = ', '.join(references)\n",
    "            \n",
    "            candidate_info = {\n",
    "                'name': name,\n",
    "                'university': 'Princeton',\n",
    "                'year': 2024,\n",
    "                'email': email,\n",
    "                'website': website,\n",
    "                'cv': cv,\n",
    "                'research_fields': fields,\n",
    "                'job_market_paper': paper,\n",
    "                'references': references\n",
    "            }\n",
    "            \n",
    "            candidates.append(candidate_info)\n",
    "    \n",
    "    # Create DataFrame\n",
    "    df = pd.DataFrame(candidates)\n",
    "    \n",
    "    # Reorder columns\n",
    "    column_order = ['name', 'university', 'year', 'email', 'research_fields', 'job_market_paper', 'references', 'website', 'cv']\n",
    "    df = df[column_order]\n",
    "    \n",
    "    return df\n",
    "\n",
    "# Test the function\n",
    "princeton_candidates_df = scrape_princeton_candidates(princeton_candidates)\n",
    "princeton_candidates_df.head()"
   ]
  },
  {
   "cell_type": "code",
   "execution_count": 63,
   "id": "46c7b834",
   "metadata": {},
   "outputs": [
    {
     "data": {
      "text/html": [
       "<div>\n",
       "<style scoped>\n",
       "    .dataframe tbody tr th:only-of-type {\n",
       "        vertical-align: middle;\n",
       "    }\n",
       "\n",
       "    .dataframe tbody tr th {\n",
       "        vertical-align: top;\n",
       "    }\n",
       "\n",
       "    .dataframe thead th {\n",
       "        text-align: right;\n",
       "    }\n",
       "</style>\n",
       "<table border=\"1\" class=\"dataframe\">\n",
       "  <thead>\n",
       "    <tr style=\"text-align: right;\">\n",
       "      <th></th>\n",
       "      <th>name</th>\n",
       "      <th>university</th>\n",
       "      <th>year</th>\n",
       "      <th>placement_role</th>\n",
       "      <th>placement_location</th>\n",
       "      <th>research_fields</th>\n",
       "    </tr>\n",
       "  </thead>\n",
       "  <tbody>\n",
       "    <tr>\n",
       "      <th>0</th>\n",
       "      <td></td>\n",
       "      <td>Princeton</td>\n",
       "      <td>NaN</td>\n",
       "      <td>Networks</td>\n",
       "      <td>Two Sigma Investments</td>\n",
       "      <td>Econometrics</td>\n",
       "    </tr>\n",
       "    <tr>\n",
       "      <th>1</th>\n",
       "      <td></td>\n",
       "      <td>Princeton</td>\n",
       "      <td>NaN</td>\n",
       "      <td>Networks</td>\n",
       "      <td>Two Sigma Investments</td>\n",
       "      <td>Finance</td>\n",
       "    </tr>\n",
       "    <tr>\n",
       "      <th>2</th>\n",
       "      <td></td>\n",
       "      <td>Princeton</td>\n",
       "      <td>NaN</td>\n",
       "      <td>Economist</td>\n",
       "      <td>International Monetary Fund</td>\n",
       "      <td>International Trade</td>\n",
       "    </tr>\n",
       "    <tr>\n",
       "      <th>3</th>\n",
       "      <td></td>\n",
       "      <td>Princeton</td>\n",
       "      <td>NaN</td>\n",
       "      <td>Assistant Professor</td>\n",
       "      <td>University of Michigan</td>\n",
       "      <td>Economic Theory</td>\n",
       "    </tr>\n",
       "    <tr>\n",
       "      <th>4</th>\n",
       "      <td></td>\n",
       "      <td>Princeton</td>\n",
       "      <td>NaN</td>\n",
       "      <td>Economist</td>\n",
       "      <td>Amazon</td>\n",
       "      <td>Finance</td>\n",
       "    </tr>\n",
       "  </tbody>\n",
       "</table>\n",
       "</div>"
      ],
      "text/plain": [
       "  name university  year       placement_role           placement_location  \\\n",
       "0       Princeton   NaN             Networks        Two Sigma Investments   \n",
       "1       Princeton   NaN             Networks        Two Sigma Investments   \n",
       "2       Princeton   NaN            Economist  International Monetary Fund   \n",
       "3       Princeton   NaN  Assistant Professor       University of Michigan   \n",
       "4       Princeton   NaN            Economist                       Amazon   \n",
       "\n",
       "       research_fields  \n",
       "0         Econometrics  \n",
       "1              Finance  \n",
       "2  International Trade  \n",
       "3      Economic Theory  \n",
       "4              Finance  "
      ]
     },
     "execution_count": 63,
     "metadata": {},
     "output_type": "execute_result"
    }
   ],
   "source": [
    "def scrape_princeton_placement(filepath):\n",
    "    \"\"\"\n",
    "    Scrape placement data from Princeton's placement page.\n",
    "    \n",
    "    Args:\n",
    "        filepath: Path to the Princeton placement HTML file\n",
    "        \n",
    "    Returns:\n",
    "        pandas DataFrame containing placement information\n",
    "    \"\"\"\n",
    "    with open(filepath, 'r', encoding='utf-8') as file:\n",
    "        soup = BeautifulSoup(file, 'html.parser')\n",
    "    \n",
    "    placements = []\n",
    "    \n",
    "    # Find the table containing placements\n",
    "    table = soup.find('table')\n",
    "    if not table:\n",
    "        return pd.DataFrame()\n",
    "        \n",
    "    # Process each row in table body\n",
    "    for row in table.find_all('tr')[1:]:  # Skip header row\n",
    "        # Get data attributes\n",
    "        year_text = row.get('data-year', '')\n",
    "        cols = row.find_all('td')\n",
    "        \n",
    "        if len(cols) >= 4:\n",
    "            institution = cols[1].text.strip()\n",
    "            position = cols[2].text.strip()\n",
    "            fields = cols[3].text.strip()\n",
    "            \n",
    "            # Extract first year from range only if year_text is not empty\n",
    "            year = int(year_text.split('-')[0]) if year_text else None\n",
    "            \n",
    "            placement_info = {\n",
    "                'name': '',  # Empty column for name as requested\n",
    "                'university': 'Princeton',\n",
    "                'year': year,\n",
    "                'placement_location': institution,\n",
    "                'placement_role': position,\n",
    "                'research_fields': fields\n",
    "            }\n",
    "            \n",
    "            placements.append(placement_info)\n",
    "    \n",
    "    # Create DataFrame\n",
    "    df = pd.DataFrame(placements)\n",
    "    \n",
    "    # Reorder columns\n",
    "    column_order = ['name', 'university', 'year', 'placement_role', 'placement_location', 'research_fields']\n",
    "    df = df[column_order]\n",
    "    \n",
    "    return df\n",
    "\n",
    "# Test the function\n",
    "princeton_placement_df = scrape_princeton_placement(princeton_placement)\n",
    "princeton_placement_df.head()\n",
    "# No name column"
   ]
  },
  {
   "cell_type": "markdown",
   "id": "a4c43152",
   "metadata": {},
   "source": [
    "Northwestern"
   ]
  },
  {
   "cell_type": "code",
   "execution_count": 11,
   "id": "a6763786",
   "metadata": {},
   "outputs": [
    {
     "data": {
      "text/html": [
       "<div>\n",
       "<style scoped>\n",
       "    .dataframe tbody tr th:only-of-type {\n",
       "        vertical-align: middle;\n",
       "    }\n",
       "\n",
       "    .dataframe tbody tr th {\n",
       "        vertical-align: top;\n",
       "    }\n",
       "\n",
       "    .dataframe thead th {\n",
       "        text-align: right;\n",
       "    }\n",
       "</style>\n",
       "<table border=\"1\" class=\"dataframe\">\n",
       "  <thead>\n",
       "    <tr style=\"text-align: right;\">\n",
       "      <th></th>\n",
       "      <th>name</th>\n",
       "      <th>university</th>\n",
       "      <th>year</th>\n",
       "      <th>email</th>\n",
       "      <th>research_fields</th>\n",
       "      <th>references</th>\n",
       "      <th>website</th>\n",
       "    </tr>\n",
       "  </thead>\n",
       "  <tbody>\n",
       "    <tr>\n",
       "      <th>0</th>\n",
       "      <td>Jose Alvarado</td>\n",
       "      <td>Northwestern</td>\n",
       "      <td>2024</td>\n",
       "      <td>josealvarado2023@u.northwestern.edu</td>\n",
       "      <td>Macroeconomics, Public Finance, Political Economy</td>\n",
       "      <td></td>\n",
       "      <td>https://www.josemiguelalvarado.com</td>\n",
       "    </tr>\n",
       "    <tr>\n",
       "      <th>1</th>\n",
       "      <td>Samuel Ampaw</td>\n",
       "      <td>Northwestern</td>\n",
       "      <td>2024</td>\n",
       "      <td>samuel.ampaw@kellogg.northwestern.edu</td>\n",
       "      <td>Health Economics, Development Economics</td>\n",
       "      <td></td>\n",
       "      <td>https://sites.northwestern.edu/sas61731/</td>\n",
       "    </tr>\n",
       "    <tr>\n",
       "      <th>2</th>\n",
       "      <td>Michelle Avataneo</td>\n",
       "      <td>Northwestern</td>\n",
       "      <td>2024</td>\n",
       "      <td>michelle.avataneo@kellogg.northwestern.edu</td>\n",
       "      <td>Microeconomic Theory</td>\n",
       "      <td></td>\n",
       "      <td>https://www.michelleavataneo.com</td>\n",
       "    </tr>\n",
       "    <tr>\n",
       "      <th>3</th>\n",
       "      <td>Michael Cai</td>\n",
       "      <td>Northwestern</td>\n",
       "      <td>2024</td>\n",
       "      <td>michaelcai2025@u.northwestern.edu</td>\n",
       "      <td>Macroeconomics, Behavioral Economics</td>\n",
       "      <td></td>\n",
       "      <td>https://sites.northwestern.edu/michaelcai/</td>\n",
       "    </tr>\n",
       "    <tr>\n",
       "      <th>4</th>\n",
       "      <td>Kwok Yan Chiu</td>\n",
       "      <td>Northwestern</td>\n",
       "      <td>2024</td>\n",
       "      <td>kwokyan.chiu@u.northwestern.edu</td>\n",
       "      <td>Macroeconomics</td>\n",
       "      <td></td>\n",
       "      <td>https://sites.northwestern.edu/kyc1728/</td>\n",
       "    </tr>\n",
       "  </tbody>\n",
       "</table>\n",
       "</div>"
      ],
      "text/plain": [
       "                name    university  year  \\\n",
       "0      Jose Alvarado  Northwestern  2024   \n",
       "1       Samuel Ampaw  Northwestern  2024   \n",
       "2  Michelle Avataneo  Northwestern  2024   \n",
       "3        Michael Cai  Northwestern  2024   \n",
       "4      Kwok Yan Chiu  Northwestern  2024   \n",
       "\n",
       "                                        email  \\\n",
       "0         josealvarado2023@u.northwestern.edu   \n",
       "1       samuel.ampaw@kellogg.northwestern.edu   \n",
       "2  michelle.avataneo@kellogg.northwestern.edu   \n",
       "3           michaelcai2025@u.northwestern.edu   \n",
       "4             kwokyan.chiu@u.northwestern.edu   \n",
       "\n",
       "                                     research_fields references  \\\n",
       "0  Macroeconomics, Public Finance, Political Economy              \n",
       "1            Health Economics, Development Economics              \n",
       "2                               Microeconomic Theory              \n",
       "3               Macroeconomics, Behavioral Economics              \n",
       "4                                     Macroeconomics              \n",
       "\n",
       "                                      website  \n",
       "0          https://www.josemiguelalvarado.com  \n",
       "1    https://sites.northwestern.edu/sas61731/  \n",
       "2            https://www.michelleavataneo.com  \n",
       "3  https://sites.northwestern.edu/michaelcai/  \n",
       "4     https://sites.northwestern.edu/kyc1728/  "
      ]
     },
     "execution_count": 11,
     "metadata": {},
     "output_type": "execute_result"
    }
   ],
   "source": [
    "def scrape_northwestern_candidates(filepath):\n",
    "    \"\"\"\n",
    "    Scrape current job market candidates from Northwestern's candidate page.\n",
    "    \n",
    "    Args:\n",
    "        filepath: Path to the Northwestern candidate HTML file\n",
    "        \n",
    "    Returns:\n",
    "        pandas DataFrame containing current job market candidate information\n",
    "    \"\"\"\n",
    "    def format_name(name):\n",
    "        \"\"\"Helper function to convert 'Last, First' to 'First Last'\"\"\"\n",
    "        if ',' in name:\n",
    "            last, first = name.split(',', 1)\n",
    "            return f\"{first.strip()} {last.strip()}\"\n",
    "        return name\n",
    "    \n",
    "    with open(filepath, 'r', encoding='utf-8') as file:\n",
    "        soup = BeautifulSoup(file, 'html.parser')\n",
    "    \n",
    "    candidates = []\n",
    "    \n",
    "    # Find the table containing candidates\n",
    "    table = soup.find('table', {'id': 'phd_directory'})\n",
    "    if not table:\n",
    "        return pd.DataFrame()\n",
    "    \n",
    "    # Process each row in table body\n",
    "    for row in table.find('tbody').find_all('tr'):\n",
    "        cols = row.find_all('td')\n",
    "        if len(cols) == 4:  # Name, Department, Contact, Subfield\n",
    "            # Get name from first column - handle both span and strong tags\n",
    "            name_elem = cols[0].find('strong')\n",
    "            if not name_elem:\n",
    "                name_elem = cols[0].find('span', class_='name')\n",
    "            raw_name = name_elem.text.strip() if name_elem else ''\n",
    "            name = format_name(raw_name)\n",
    "            \n",
    "            # Get department\n",
    "            department = cols[1].text.strip()\n",
    "            \n",
    "            # Get contact info (email and webpage)\n",
    "            contact_col = cols[2]\n",
    "            email = ''\n",
    "            website = ''\n",
    "            for link in contact_col.find_all('a'):\n",
    "                href = link.get('href', '')\n",
    "                if 'mailto:' in href:\n",
    "                    email = href.replace('mailto:', '')\n",
    "                elif 'http' in href:\n",
    "                    website = href\n",
    "            \n",
    "            # Get research fields\n",
    "            fields = cols[3].text.strip()\n",
    "            \n",
    "            # Get references from hidden details div if it exists\n",
    "            details_div = cols[0].find('div', class_='details')\n",
    "            references = ''\n",
    "            if details_div:\n",
    "                refs_desc = details_div.find('div', class_='details-description')\n",
    "                if refs_desc:\n",
    "                    references = refs_desc.text.strip()\n",
    "            \n",
    "            candidate_info = {\n",
    "                'name': name,\n",
    "                'university': 'Northwestern',\n",
    "                'year': 2024,  # Current job market year\n",
    "                'email': email,\n",
    "                'website': website,\n",
    "                'research_fields': fields,\n",
    "                'references': references\n",
    "            }\n",
    "            \n",
    "            candidates.append(candidate_info)\n",
    "    \n",
    "    # Create DataFrame\n",
    "    df = pd.DataFrame(candidates)\n",
    "    \n",
    "    # Reorder columns\n",
    "    column_order = ['name', 'university', 'year', 'email', 'research_fields', 'references', 'website']\n",
    "    df = df[column_order]\n",
    "    \n",
    "    return df\n",
    "\n",
    "# Test the function\n",
    "northwestern_candidates_df = scrape_northwestern_candidates(northwestern_candidates)\n",
    "northwestern_candidates_df.head()"
   ]
  },
  {
   "cell_type": "code",
   "execution_count": 68,
   "id": "d5a51d17",
   "metadata": {},
   "outputs": [
    {
     "name": "stderr",
     "output_type": "stream",
     "text": [
      "/var/folders/d2/sfp_278j7jb2qgvmr7vr7p3m0000gn/T/ipykernel_78873/3785055787.py:30: DeprecationWarning: The 'text' argument to find()-type methods is deprecated. Use 'string' instead.\n",
      "  academic_header = expander.find('h4', text='Academic placements')\n",
      "/var/folders/d2/sfp_278j7jb2qgvmr7vr7p3m0000gn/T/ipykernel_78873/3785055787.py:46: DeprecationWarning: The 'text' argument to find()-type methods is deprecated. Use 'string' instead.\n",
      "  govt_header = expander.find('h4', text='Government placements')\n",
      "/var/folders/d2/sfp_278j7jb2qgvmr7vr7p3m0000gn/T/ipykernel_78873/3785055787.py:62: DeprecationWarning: The 'text' argument to find()-type methods is deprecated. Use 'string' instead.\n",
      "  private_header = expander.find('h4', text=lambda x: x and 'Private industry' in x)\n"
     ]
    },
    {
     "data": {
      "text/html": [
       "<div>\n",
       "<style scoped>\n",
       "    .dataframe tbody tr th:only-of-type {\n",
       "        vertical-align: middle;\n",
       "    }\n",
       "\n",
       "    .dataframe tbody tr th {\n",
       "        vertical-align: top;\n",
       "    }\n",
       "\n",
       "    .dataframe thead th {\n",
       "        text-align: right;\n",
       "    }\n",
       "</style>\n",
       "<table border=\"1\" class=\"dataframe\">\n",
       "  <thead>\n",
       "    <tr style=\"text-align: right;\">\n",
       "      <th></th>\n",
       "      <th>name</th>\n",
       "      <th>university</th>\n",
       "      <th>year</th>\n",
       "      <th>placement_role</th>\n",
       "      <th>placement_location</th>\n",
       "      <th>research_fields</th>\n",
       "    </tr>\n",
       "  </thead>\n",
       "  <tbody>\n",
       "    <tr>\n",
       "      <th>0</th>\n",
       "      <td></td>\n",
       "      <td>Northwestern</td>\n",
       "      <td>2024</td>\n",
       "      <td>Academic</td>\n",
       "      <td>Brown University (postdoc)/University of Notti...</td>\n",
       "      <td></td>\n",
       "    </tr>\n",
       "    <tr>\n",
       "      <th>1</th>\n",
       "      <td></td>\n",
       "      <td>Northwestern</td>\n",
       "      <td>2024</td>\n",
       "      <td>Academic</td>\n",
       "      <td>Chinese University of Hong Kong (Business School)</td>\n",
       "      <td></td>\n",
       "    </tr>\n",
       "    <tr>\n",
       "      <th>2</th>\n",
       "      <td></td>\n",
       "      <td>Northwestern</td>\n",
       "      <td>2024</td>\n",
       "      <td>Academic</td>\n",
       "      <td>Cornell University</td>\n",
       "      <td></td>\n",
       "    </tr>\n",
       "    <tr>\n",
       "      <th>3</th>\n",
       "      <td></td>\n",
       "      <td>Northwestern</td>\n",
       "      <td>2024</td>\n",
       "      <td>Academic</td>\n",
       "      <td>European University Institute, Italy (postdoc)</td>\n",
       "      <td></td>\n",
       "    </tr>\n",
       "    <tr>\n",
       "      <th>4</th>\n",
       "      <td></td>\n",
       "      <td>Northwestern</td>\n",
       "      <td>2024</td>\n",
       "      <td>Academic</td>\n",
       "      <td>John Hopkins University</td>\n",
       "      <td></td>\n",
       "    </tr>\n",
       "    <tr>\n",
       "      <th>...</th>\n",
       "      <td>...</td>\n",
       "      <td>...</td>\n",
       "      <td>...</td>\n",
       "      <td>...</td>\n",
       "      <td>...</td>\n",
       "      <td>...</td>\n",
       "    </tr>\n",
       "    <tr>\n",
       "      <th>274</th>\n",
       "      <td></td>\n",
       "      <td>Northwestern</td>\n",
       "      <td>2010</td>\n",
       "      <td>Government</td>\n",
       "      <td>Federal Reserve Bank Board of Governors, Washi...</td>\n",
       "      <td></td>\n",
       "    </tr>\n",
       "    <tr>\n",
       "      <th>275</th>\n",
       "      <td></td>\n",
       "      <td>Northwestern</td>\n",
       "      <td>2010</td>\n",
       "      <td>Government</td>\n",
       "      <td>Federal Trade Commission, Washington DC</td>\n",
       "      <td></td>\n",
       "    </tr>\n",
       "    <tr>\n",
       "      <th>276</th>\n",
       "      <td></td>\n",
       "      <td>Northwestern</td>\n",
       "      <td>2010</td>\n",
       "      <td>Private Industry</td>\n",
       "      <td>Acumen LLC, San Francisco</td>\n",
       "      <td></td>\n",
       "    </tr>\n",
       "    <tr>\n",
       "      <th>277</th>\n",
       "      <td></td>\n",
       "      <td>Northwestern</td>\n",
       "      <td>2010</td>\n",
       "      <td>Private Industry</td>\n",
       "      <td>Deloitte, Transfer Pricing Practice, Chicago</td>\n",
       "      <td></td>\n",
       "    </tr>\n",
       "    <tr>\n",
       "      <th>278</th>\n",
       "      <td></td>\n",
       "      <td>Northwestern</td>\n",
       "      <td>2010</td>\n",
       "      <td>Private Industry</td>\n",
       "      <td>Goldman Sachs, New York City</td>\n",
       "      <td></td>\n",
       "    </tr>\n",
       "  </tbody>\n",
       "</table>\n",
       "<p>279 rows × 6 columns</p>\n",
       "</div>"
      ],
      "text/plain": [
       "    name    university  year    placement_role  \\\n",
       "0         Northwestern  2024          Academic   \n",
       "1         Northwestern  2024          Academic   \n",
       "2         Northwestern  2024          Academic   \n",
       "3         Northwestern  2024          Academic   \n",
       "4         Northwestern  2024          Academic   \n",
       "..   ...           ...   ...               ...   \n",
       "274       Northwestern  2010        Government   \n",
       "275       Northwestern  2010        Government   \n",
       "276       Northwestern  2010  Private Industry   \n",
       "277       Northwestern  2010  Private Industry   \n",
       "278       Northwestern  2010  Private Industry   \n",
       "\n",
       "                                    placement_location research_fields  \n",
       "0    Brown University (postdoc)/University of Notti...                  \n",
       "1    Chinese University of Hong Kong (Business School)                  \n",
       "2                                   Cornell University                  \n",
       "3       European University Institute, Italy (postdoc)                  \n",
       "4                              John Hopkins University                  \n",
       "..                                                 ...             ...  \n",
       "274  Federal Reserve Bank Board of Governors, Washi...                  \n",
       "275            Federal Trade Commission, Washington DC                  \n",
       "276                          Acumen LLC, San Francisco                  \n",
       "277       Deloitte, Transfer Pricing Practice, Chicago                  \n",
       "278                       Goldman Sachs, New York City                  \n",
       "\n",
       "[279 rows x 6 columns]"
      ]
     },
     "execution_count": 68,
     "metadata": {},
     "output_type": "execute_result"
    }
   ],
   "source": [
    "def scrape_northwestern_placement(filepath):\n",
    "    \"\"\"\n",
    "    Scrape placement data from Northwestern's placement page.\n",
    "    \n",
    "    Args:\n",
    "        filepath: Path to the Northwestern placement HTML file\n",
    "        \n",
    "    Returns:\n",
    "        pandas DataFrame containing placement information\n",
    "    \"\"\"\n",
    "    with open(filepath, 'r', encoding='utf-8') as file:\n",
    "        soup = BeautifulSoup(file, 'html.parser')\n",
    "    \n",
    "    placements = []\n",
    "    current_year = None\n",
    "    \n",
    "    # Find all expander divs that contain placement data\n",
    "    expanders = soup.find_all('div', class_='expander')\n",
    "    \n",
    "    for expander in expanders:\n",
    "        # Get year from previous h3 tag\n",
    "        year_header = expander.find_previous_sibling('h3')\n",
    "        if year_header and year_header.get('id', '').startswith('group-'):\n",
    "            try:\n",
    "                current_year = int(year_header.text.strip())\n",
    "            except ValueError:\n",
    "                continue\n",
    "        \n",
    "        # Process academic placements\n",
    "        academic_header = expander.find('h4', text='Academic placements')\n",
    "        if academic_header:\n",
    "            academic_list = academic_header.find_next('div').find('ul')\n",
    "            if academic_list:\n",
    "                for item in academic_list.find_all('li'):\n",
    "                    placement_info = {\n",
    "                        'name': '',  # Empty as names not provided\n",
    "                        'university': 'Northwestern',\n",
    "                        'year': current_year,\n",
    "                        'placement_role': 'Academic',\n",
    "                        'placement_location': item.text.strip(),\n",
    "                        'research_fields': ''  # Empty as fields not provided\n",
    "                    }\n",
    "                    placements.append(placement_info)\n",
    "        \n",
    "        # Process government placements\n",
    "        govt_header = expander.find('h4', text='Government placements')\n",
    "        if govt_header:\n",
    "            govt_list = govt_header.find_next('div').find('ul')\n",
    "            if govt_list:\n",
    "                for item in govt_list.find_all('li'):\n",
    "                    placement_info = {\n",
    "                        'name': '',\n",
    "                        'university': 'Northwestern',\n",
    "                        'year': current_year,\n",
    "                        'placement_role': 'Government',\n",
    "                        'placement_location': item.text.strip(),\n",
    "                        'research_fields': ''\n",
    "                    }\n",
    "                    placements.append(placement_info)\n",
    "        \n",
    "        # Process private industry placements\n",
    "        private_header = expander.find('h4', text=lambda x: x and 'Private industry' in x)\n",
    "        if private_header:\n",
    "            private_list = private_header.find_next('div').find('ul')\n",
    "            if private_list:\n",
    "                for item in private_list.find_all('li'):\n",
    "                    placement_info = {\n",
    "                        'name': '',\n",
    "                        'university': 'Northwestern',\n",
    "                        'year': current_year,\n",
    "                        'placement_role': 'Private Industry',\n",
    "                        'placement_location': item.text.strip(),\n",
    "                        'research_fields': ''\n",
    "                    }\n",
    "                    placements.append(placement_info)\n",
    "    \n",
    "    # Create DataFrame\n",
    "    df = pd.DataFrame(placements)\n",
    "    \n",
    "    # Reorder columns\n",
    "    column_order = ['name', 'university', 'year', 'placement_role', 'placement_location', 'research_fields']\n",
    "    df = df[column_order]\n",
    "    \n",
    "    return df\n",
    "\n",
    "# Test the function\n",
    "northwestern_placement_df = scrape_northwestern_placement(northwestern_placement)\n",
    "northwestern_placement_df"
   ]
  },
  {
   "cell_type": "markdown",
   "id": "5bfb7207",
   "metadata": {},
   "source": [
    "## Data Cleaning\n",
    "Now we have scraped all the data, we need to clean it up. First let's see all of them."
   ]
  },
  {
   "cell_type": "code",
   "execution_count": 12,
   "id": "1bbe1ad1",
   "metadata": {},
   "outputs": [
    {
     "data": {
      "text/html": [
       "<div>\n",
       "<style scoped>\n",
       "    .dataframe tbody tr th:only-of-type {\n",
       "        vertical-align: middle;\n",
       "    }\n",
       "\n",
       "    .dataframe tbody tr th {\n",
       "        vertical-align: top;\n",
       "    }\n",
       "\n",
       "    .dataframe thead th {\n",
       "        text-align: right;\n",
       "    }\n",
       "</style>\n",
       "<table border=\"1\" class=\"dataframe\">\n",
       "  <thead>\n",
       "    <tr style=\"text-align: right;\">\n",
       "      <th></th>\n",
       "      <th>name</th>\n",
       "      <th>university</th>\n",
       "      <th>year</th>\n",
       "      <th>research_areas</th>\n",
       "      <th>advisor</th>\n",
       "      <th>job_market_paper</th>\n",
       "    </tr>\n",
       "  </thead>\n",
       "  <tbody>\n",
       "    <tr>\n",
       "      <th>0</th>\n",
       "      <td>Alexander Abajian</td>\n",
       "      <td>UC Santa Barbara</td>\n",
       "      <td>2024</td>\n",
       "      <td>Climate Macroeconomics, Energy Economics, Envi...</td>\n",
       "      <td>Javier Birchenall</td>\n",
       "      <td>\"Savings and Migration in a Warming World\"</td>\n",
       "    </tr>\n",
       "    <tr>\n",
       "      <th>1</th>\n",
       "      <td>Sebastian Brown</td>\n",
       "      <td>UC Santa Barbara</td>\n",
       "      <td>2024</td>\n",
       "      <td>Labor Economics, Behavioral Economics, Applied...</td>\n",
       "      <td>Peter Kuhn</td>\n",
       "      <td>\"How Much Can I Make? Insights on Belief Updat...</td>\n",
       "    </tr>\n",
       "    <tr>\n",
       "      <th>2</th>\n",
       "      <td>Toshio Ferrazares</td>\n",
       "      <td>UC Santa Barbara</td>\n",
       "      <td>2024</td>\n",
       "      <td>Labor Economics, Public Economics</td>\n",
       "      <td>Heather Royer</td>\n",
       "      <td>\"Shift Structure and Cognitive Depletion: Evid...</td>\n",
       "    </tr>\n",
       "  </tbody>\n",
       "</table>\n",
       "</div>"
      ],
      "text/plain": [
       "                name        university  year  \\\n",
       "0  Alexander Abajian  UC Santa Barbara  2024   \n",
       "1    Sebastian Brown  UC Santa Barbara  2024   \n",
       "2  Toshio Ferrazares  UC Santa Barbara  2024   \n",
       "\n",
       "                                      research_areas            advisor  \\\n",
       "0  Climate Macroeconomics, Energy Economics, Envi...  Javier Birchenall   \n",
       "1  Labor Economics, Behavioral Economics, Applied...         Peter Kuhn   \n",
       "2                  Labor Economics, Public Economics      Heather Royer   \n",
       "\n",
       "                                    job_market_paper  \n",
       "0         \"Savings and Migration in a Warming World\"  \n",
       "1  \"How Much Can I Make? Insights on Belief Updat...  \n",
       "2  \"Shift Structure and Cognitive Depletion: Evid...  "
      ]
     },
     "execution_count": 12,
     "metadata": {},
     "output_type": "execute_result"
    }
   ],
   "source": [
    "ucsb_candidates_df.head(3)"
   ]
  },
  {
   "cell_type": "code",
   "execution_count": 69,
   "id": "3ddbec1a",
   "metadata": {},
   "outputs": [
    {
     "data": {
      "text/html": [
       "<div>\n",
       "<style scoped>\n",
       "    .dataframe tbody tr th:only-of-type {\n",
       "        vertical-align: middle;\n",
       "    }\n",
       "\n",
       "    .dataframe tbody tr th {\n",
       "        vertical-align: top;\n",
       "    }\n",
       "\n",
       "    .dataframe thead th {\n",
       "        text-align: right;\n",
       "    }\n",
       "</style>\n",
       "<table border=\"1\" class=\"dataframe\">\n",
       "  <thead>\n",
       "    <tr style=\"text-align: right;\">\n",
       "      <th></th>\n",
       "      <th>university</th>\n",
       "      <th>year</th>\n",
       "      <th>placement_role</th>\n",
       "      <th>placement_location</th>\n",
       "    </tr>\n",
       "  </thead>\n",
       "  <tbody>\n",
       "    <tr>\n",
       "      <th>0</th>\n",
       "      <td>UC Santa Barbara</td>\n",
       "      <td>2023</td>\n",
       "      <td>Postdoctoral Researcher</td>\n",
       "      <td>Arnold Ventures</td>\n",
       "    </tr>\n",
       "    <tr>\n",
       "      <th>1</th>\n",
       "      <td>UC Santa Barbara</td>\n",
       "      <td>2023</td>\n",
       "      <td>Gurion University of the Negev - Assistant Pro...</td>\n",
       "      <td>Ben-Gurion University of the Negev</td>\n",
       "    </tr>\n",
       "    <tr>\n",
       "      <th>2</th>\n",
       "      <td>UC Santa Barbara</td>\n",
       "      <td>2023</td>\n",
       "      <td>Assistant Professor of Economics</td>\n",
       "      <td>Calvin University</td>\n",
       "    </tr>\n",
       "  </tbody>\n",
       "</table>\n",
       "</div>"
      ],
      "text/plain": [
       "         university  year                                     placement_role  \\\n",
       "0  UC Santa Barbara  2023                            Postdoctoral Researcher   \n",
       "1  UC Santa Barbara  2023  Gurion University of the Negev - Assistant Pro...   \n",
       "2  UC Santa Barbara  2023                   Assistant Professor of Economics   \n",
       "\n",
       "                   placement_location  \n",
       "0                     Arnold Ventures  \n",
       "1  Ben-Gurion University of the Negev  \n",
       "2                   Calvin University  "
      ]
     },
     "execution_count": 69,
     "metadata": {},
     "output_type": "execute_result"
    }
   ],
   "source": [
    "ucsb_placement_df.head(3)"
   ]
  },
  {
   "cell_type": "code",
   "execution_count": 96,
   "id": "e9648cb4",
   "metadata": {},
   "outputs": [
    {
     "data": {
      "text/html": [
       "<div>\n",
       "<style scoped>\n",
       "    .dataframe tbody tr th:only-of-type {\n",
       "        vertical-align: middle;\n",
       "    }\n",
       "\n",
       "    .dataframe tbody tr th {\n",
       "        vertical-align: top;\n",
       "    }\n",
       "\n",
       "    .dataframe thead th {\n",
       "        text-align: right;\n",
       "    }\n",
       "</style>\n",
       "<table border=\"1\" class=\"dataframe\">\n",
       "  <thead>\n",
       "    <tr style=\"text-align: right;\">\n",
       "      <th></th>\n",
       "      <th>name</th>\n",
       "      <th>university</th>\n",
       "      <th>advisors</th>\n",
       "      <th>research_fields</th>\n",
       "      <th>personal_website</th>\n",
       "      <th>image</th>\n",
       "    </tr>\n",
       "  </thead>\n",
       "  <tbody>\n",
       "    <tr>\n",
       "      <th>0</th>\n",
       "      <td>Giampaolo Bonomi</td>\n",
       "      <td>UCSD</td>\n",
       "      <td>Joel Sobel and Renee Bowen</td>\n",
       "      <td>Political Economics, Applied Theory, Behaviora...</td>\n",
       "      <td>https://sites.google.com/view/gbonomi</td>\n",
       "      <td>Giampaolo picture 2.jpeg</td>\n",
       "    </tr>\n",
       "    <tr>\n",
       "      <th>1</th>\n",
       "      <td>Steven Brownstone</td>\n",
       "      <td>UCSD</td>\n",
       "      <td>Karthik Muralidharan and Craig McIntosh</td>\n",
       "      <td>Development Economics</td>\n",
       "      <td>https://www.sbrownstone.me</td>\n",
       "      <td>Steven photo.jpg</td>\n",
       "    </tr>\n",
       "    <tr>\n",
       "      <th>2</th>\n",
       "      <td>Erica K. Chuang</td>\n",
       "      <td>UCSD</td>\n",
       "      <td>Mark Jacobsen</td>\n",
       "      <td>Environment; Agriculture and Natural Resources</td>\n",
       "      <td>https://www.ericakchuang.com</td>\n",
       "      <td>EricaCnew.jpeg</td>\n",
       "    </tr>\n",
       "  </tbody>\n",
       "</table>\n",
       "</div>"
      ],
      "text/plain": [
       "                name university                                 advisors  \\\n",
       "0   Giampaolo Bonomi       UCSD               Joel Sobel and Renee Bowen   \n",
       "1  Steven Brownstone       UCSD  Karthik Muralidharan and Craig McIntosh   \n",
       "2    Erica K. Chuang       UCSD                            Mark Jacobsen   \n",
       "\n",
       "                                     research_fields  \\\n",
       "0  Political Economics, Applied Theory, Behaviora...   \n",
       "1                              Development Economics   \n",
       "2     Environment; Agriculture and Natural Resources   \n",
       "\n",
       "                        personal_website                     image  \n",
       "0  https://sites.google.com/view/gbonomi  Giampaolo picture 2.jpeg  \n",
       "1             https://www.sbrownstone.me          Steven photo.jpg  \n",
       "2           https://www.ericakchuang.com            EricaCnew.jpeg  "
      ]
     },
     "execution_count": 96,
     "metadata": {},
     "output_type": "execute_result"
    }
   ],
   "source": [
    "ucsd_candidates_df.head(3)"
   ]
  },
  {
   "cell_type": "code",
   "execution_count": 72,
   "id": "5407bfe4",
   "metadata": {},
   "outputs": [
    {
     "data": {
      "text/html": [
       "<div>\n",
       "<style scoped>\n",
       "    .dataframe tbody tr th:only-of-type {\n",
       "        vertical-align: middle;\n",
       "    }\n",
       "\n",
       "    .dataframe tbody tr th {\n",
       "        vertical-align: top;\n",
       "    }\n",
       "\n",
       "    .dataframe thead th {\n",
       "        text-align: right;\n",
       "    }\n",
       "</style>\n",
       "<table border=\"1\" class=\"dataframe\">\n",
       "  <thead>\n",
       "    <tr style=\"text-align: right;\">\n",
       "      <th></th>\n",
       "      <th>name</th>\n",
       "      <th>university</th>\n",
       "      <th>year</th>\n",
       "      <th>field</th>\n",
       "      <th>placement</th>\n",
       "    </tr>\n",
       "  </thead>\n",
       "  <tbody>\n",
       "    <tr>\n",
       "      <th>0</th>\n",
       "      <td>Vivan Aluoch</td>\n",
       "      <td>UCSD</td>\n",
       "      <td>2023-24</td>\n",
       "      <td>Development and Labor Economics</td>\n",
       "      <td>Analysis Group</td>\n",
       "    </tr>\n",
       "    <tr>\n",
       "      <th>1</th>\n",
       "      <td>Hannah Bae</td>\n",
       "      <td>UCSD</td>\n",
       "      <td>2023-24</td>\n",
       "      <td>Health and Public</td>\n",
       "      <td>Michigan State University, postdoc at Stanford...</td>\n",
       "    </tr>\n",
       "    <tr>\n",
       "      <th>2</th>\n",
       "      <td>Evgenii Baranov</td>\n",
       "      <td>UCSD</td>\n",
       "      <td>2023-24</td>\n",
       "      <td>Micro Theory</td>\n",
       "      <td>Penn State University</td>\n",
       "    </tr>\n",
       "  </tbody>\n",
       "</table>\n",
       "</div>"
      ],
      "text/plain": [
       "              name university     year                            field  \\\n",
       "0     Vivan Aluoch       UCSD  2023-24  Development and Labor Economics   \n",
       "1       Hannah Bae       UCSD  2023-24                Health and Public   \n",
       "2  Evgenii Baranov       UCSD  2023-24                     Micro Theory   \n",
       "\n",
       "                                           placement  \n",
       "0                                     Analysis Group  \n",
       "1  Michigan State University, postdoc at Stanford...  \n",
       "2                              Penn State University  "
      ]
     },
     "execution_count": 72,
     "metadata": {},
     "output_type": "execute_result"
    }
   ],
   "source": [
    "ucsd_placement_df.head(3)"
   ]
  },
  {
   "cell_type": "code",
   "execution_count": 112,
   "id": "83eb6f76",
   "metadata": {},
   "outputs": [
    {
     "data": {
      "text/html": [
       "<div>\n",
       "<style scoped>\n",
       "    .dataframe tbody tr th:only-of-type {\n",
       "        vertical-align: middle;\n",
       "    }\n",
       "\n",
       "    .dataframe tbody tr th {\n",
       "        vertical-align: top;\n",
       "    }\n",
       "\n",
       "    .dataframe thead th {\n",
       "        text-align: right;\n",
       "    }\n",
       "</style>\n",
       "<table border=\"1\" class=\"dataframe\">\n",
       "  <thead>\n",
       "    <tr style=\"text-align: right;\">\n",
       "      <th></th>\n",
       "      <th>name</th>\n",
       "      <th>university</th>\n",
       "      <th>year</th>\n",
       "      <th>placement</th>\n",
       "    </tr>\n",
       "  </thead>\n",
       "  <tbody>\n",
       "    <tr>\n",
       "      <th>0</th>\n",
       "      <td>Alaa Abdelfattah</td>\n",
       "      <td>UC Davis</td>\n",
       "      <td>2024.0</td>\n",
       "      <td>Assistant Professor, Occidental College</td>\n",
       "    </tr>\n",
       "    <tr>\n",
       "      <th>1</th>\n",
       "      <td>Seungjin Baek</td>\n",
       "      <td>UC Davis</td>\n",
       "      <td>2024.0</td>\n",
       "      <td>Junior Economist, OECD</td>\n",
       "    </tr>\n",
       "    <tr>\n",
       "      <th>2</th>\n",
       "      <td>Reem Zaiour</td>\n",
       "      <td>UC Davis</td>\n",
       "      <td>2024.0</td>\n",
       "      <td>Assistant Professor, Vanderbilt University</td>\n",
       "    </tr>\n",
       "  </tbody>\n",
       "</table>\n",
       "</div>"
      ],
      "text/plain": [
       "               name university    year  \\\n",
       "0  Alaa Abdelfattah   UC Davis  2024.0   \n",
       "1     Seungjin Baek   UC Davis  2024.0   \n",
       "2       Reem Zaiour   UC Davis  2024.0   \n",
       "\n",
       "                                    placement  \n",
       "0     Assistant Professor, Occidental College  \n",
       "1                      Junior Economist, OECD  \n",
       "2  Assistant Professor, Vanderbilt University  "
      ]
     },
     "execution_count": 112,
     "metadata": {},
     "output_type": "execute_result"
    }
   ],
   "source": [
    "ucd_placement_df.head(3)"
   ]
  },
  {
   "cell_type": "code",
   "execution_count": 75,
   "id": "50a1ecb9",
   "metadata": {},
   "outputs": [
    {
     "data": {
      "text/html": [
       "<div>\n",
       "<style scoped>\n",
       "    .dataframe tbody tr th:only-of-type {\n",
       "        vertical-align: middle;\n",
       "    }\n",
       "\n",
       "    .dataframe tbody tr th {\n",
       "        vertical-align: top;\n",
       "    }\n",
       "\n",
       "    .dataframe thead th {\n",
       "        text-align: right;\n",
       "    }\n",
       "</style>\n",
       "<table border=\"1\" class=\"dataframe\">\n",
       "  <thead>\n",
       "    <tr style=\"text-align: right;\">\n",
       "      <th></th>\n",
       "      <th>name</th>\n",
       "      <th>university</th>\n",
       "      <th>year</th>\n",
       "      <th>research_fields</th>\n",
       "      <th>email</th>\n",
       "      <th>website</th>\n",
       "    </tr>\n",
       "  </thead>\n",
       "  <tbody>\n",
       "    <tr>\n",
       "      <th>0</th>\n",
       "      <td>Ellen Anderson</td>\n",
       "      <td>UC Davis</td>\n",
       "      <td>2024</td>\n",
       "      <td>PhD Candidate - Development Economics, Economi...</td>\n",
       "      <td>eander@ucdavis.edu</td>\n",
       "      <td>https://www.ellenanderson-economics.com/</td>\n",
       "    </tr>\n",
       "    <tr>\n",
       "      <th>1</th>\n",
       "      <td>Kalyani Chaudhuri</td>\n",
       "      <td>UC Davis</td>\n",
       "      <td>2024</td>\n",
       "      <td>PhD Candidate - Behavioral Economics, Labor Ec...</td>\n",
       "      <td>kalyanic@ucdavis.edu</td>\n",
       "      <td>https://kalyanic.weebly.com/</td>\n",
       "    </tr>\n",
       "    <tr>\n",
       "      <th>2</th>\n",
       "      <td>Kevin Dinh</td>\n",
       "      <td>UC Davis</td>\n",
       "      <td>2024</td>\n",
       "      <td>Ph.D. Candidate - Health Economics, Labor Econ...</td>\n",
       "      <td>kevdinh@ucdavis.edu</td>\n",
       "      <td>https://sites.google.com/view/kevindinh/home?a...</td>\n",
       "    </tr>\n",
       "  </tbody>\n",
       "</table>\n",
       "</div>"
      ],
      "text/plain": [
       "                name university  year  \\\n",
       "0     Ellen Anderson   UC Davis  2024   \n",
       "1  Kalyani Chaudhuri   UC Davis  2024   \n",
       "2         Kevin Dinh   UC Davis  2024   \n",
       "\n",
       "                                     research_fields                 email  \\\n",
       "0  PhD Candidate - Development Economics, Economi...    eander@ucdavis.edu   \n",
       "1  PhD Candidate - Behavioral Economics, Labor Ec...  kalyanic@ucdavis.edu   \n",
       "2  Ph.D. Candidate - Health Economics, Labor Econ...   kevdinh@ucdavis.edu   \n",
       "\n",
       "                                             website  \n",
       "0           https://www.ellenanderson-economics.com/  \n",
       "1                       https://kalyanic.weebly.com/  \n",
       "2  https://sites.google.com/view/kevindinh/home?a...  "
      ]
     },
     "execution_count": 75,
     "metadata": {},
     "output_type": "execute_result"
    }
   ],
   "source": [
    "ucd_candidates_df.head(3)"
   ]
  },
  {
   "cell_type": "code",
   "execution_count": 74,
   "id": "fa76a1a0",
   "metadata": {},
   "outputs": [
    {
     "data": {
      "text/html": [
       "<div>\n",
       "<style scoped>\n",
       "    .dataframe tbody tr th:only-of-type {\n",
       "        vertical-align: middle;\n",
       "    }\n",
       "\n",
       "    .dataframe tbody tr th {\n",
       "        vertical-align: top;\n",
       "    }\n",
       "\n",
       "    .dataframe thead th {\n",
       "        text-align: right;\n",
       "    }\n",
       "</style>\n",
       "<table border=\"1\" class=\"dataframe\">\n",
       "  <thead>\n",
       "    <tr style=\"text-align: right;\">\n",
       "      <th></th>\n",
       "      <th>name</th>\n",
       "      <th>university</th>\n",
       "      <th>advisors</th>\n",
       "      <th>research_fields</th>\n",
       "      <th>job_market_paper</th>\n",
       "      <th>personal_website</th>\n",
       "      <th>image</th>\n",
       "    </tr>\n",
       "  </thead>\n",
       "  <tbody>\n",
       "    <tr>\n",
       "      <th>0</th>\n",
       "      <td>Braz Vallocci, Pedro Henrique</td>\n",
       "      <td>UC Santa Cruz</td>\n",
       "      <td>Galina HaleGrace GuAlonso Villacorta</td>\n",
       "      <td>Innovation, Productivity, Finance</td>\n",
       "      <td>\"Measuring Knowledge Capital Risk\"</td>\n",
       "      <td>https://www.brazv.com</td>\n",
       "      <td>pedro-vallocci.jpg</td>\n",
       "    </tr>\n",
       "    <tr>\n",
       "      <th>1</th>\n",
       "      <td>Gong, Weinan</td>\n",
       "      <td>UC Santa Cruz</td>\n",
       "      <td>Kristian López VargasDan FriedmanNatalia Lazzati</td>\n",
       "      <td>Behavioral and Experimental Economics</td>\n",
       "      <td>\"Polarization in Online Social Networks\"</td>\n",
       "      <td>https://sites.google.com/ucsc.edu/weinan-gong?...</td>\n",
       "      <td>wgong.jpeg</td>\n",
       "    </tr>\n",
       "    <tr>\n",
       "      <th>2</th>\n",
       "      <td>Habibi, Hamidreza</td>\n",
       "      <td>UC Santa Cruz</td>\n",
       "      <td>Carlos DobkinLaura GiulianoGeorge Bulman</td>\n",
       "      <td>Applied Microeconomics, Health Economics, Publ...</td>\n",
       "      <td>\"Curbing Pharma Influence: The Effect of Marke...</td>\n",
       "      <td>https://hamidhabibi.com/</td>\n",
       "      <td>profile-hamidreza-habibi.jpg</td>\n",
       "    </tr>\n",
       "  </tbody>\n",
       "</table>\n",
       "</div>"
      ],
      "text/plain": [
       "                            name     university  \\\n",
       "0  Braz Vallocci, Pedro Henrique  UC Santa Cruz   \n",
       "1                   Gong, Weinan  UC Santa Cruz   \n",
       "2              Habibi, Hamidreza  UC Santa Cruz   \n",
       "\n",
       "                                           advisors  \\\n",
       "0              Galina HaleGrace GuAlonso Villacorta   \n",
       "1  Kristian López VargasDan FriedmanNatalia Lazzati   \n",
       "2          Carlos DobkinLaura GiulianoGeorge Bulman   \n",
       "\n",
       "                                     research_fields  \\\n",
       "0                  Innovation, Productivity, Finance   \n",
       "1              Behavioral and Experimental Economics   \n",
       "2  Applied Microeconomics, Health Economics, Publ...   \n",
       "\n",
       "                                    job_market_paper  \\\n",
       "0                 \"Measuring Knowledge Capital Risk\"   \n",
       "1           \"Polarization in Online Social Networks\"   \n",
       "2  \"Curbing Pharma Influence: The Effect of Marke...   \n",
       "\n",
       "                                    personal_website  \\\n",
       "0                              https://www.brazv.com   \n",
       "1  https://sites.google.com/ucsc.edu/weinan-gong?...   \n",
       "2                           https://hamidhabibi.com/   \n",
       "\n",
       "                          image  \n",
       "0            pedro-vallocci.jpg  \n",
       "1                    wgong.jpeg  \n",
       "2  profile-hamidreza-habibi.jpg  "
      ]
     },
     "execution_count": 74,
     "metadata": {},
     "output_type": "execute_result"
    }
   ],
   "source": [
    "ucsc_candidates_df.head(3)"
   ]
  },
  {
   "cell_type": "code",
   "execution_count": 76,
   "id": "07760dc6",
   "metadata": {},
   "outputs": [
    {
     "data": {
      "text/html": [
       "<div>\n",
       "<style scoped>\n",
       "    .dataframe tbody tr th:only-of-type {\n",
       "        vertical-align: middle;\n",
       "    }\n",
       "\n",
       "    .dataframe tbody tr th {\n",
       "        vertical-align: top;\n",
       "    }\n",
       "\n",
       "    .dataframe thead th {\n",
       "        text-align: right;\n",
       "    }\n",
       "</style>\n",
       "<table border=\"1\" class=\"dataframe\">\n",
       "  <thead>\n",
       "    <tr style=\"text-align: right;\">\n",
       "      <th></th>\n",
       "      <th>name</th>\n",
       "      <th>university</th>\n",
       "      <th>year</th>\n",
       "      <th>placement_role</th>\n",
       "      <th>placement_location</th>\n",
       "    </tr>\n",
       "  </thead>\n",
       "  <tbody>\n",
       "    <tr>\n",
       "      <th>0</th>\n",
       "      <td>Harrison Shieh</td>\n",
       "      <td>UC Santa Cruz</td>\n",
       "      <td>2024</td>\n",
       "      <td>Assistant Professor</td>\n",
       "      <td>Vassar College</td>\n",
       "    </tr>\n",
       "    <tr>\n",
       "      <th>1</th>\n",
       "      <td>Ken Suzuki</td>\n",
       "      <td>UC Santa Cruz</td>\n",
       "      <td>2024</td>\n",
       "      <td>Post Doctoral Fellow</td>\n",
       "      <td>Stanford University</td>\n",
       "    </tr>\n",
       "    <tr>\n",
       "      <th>2</th>\n",
       "      <td>Shinya Inukai</td>\n",
       "      <td>UC Santa Cruz</td>\n",
       "      <td>2024</td>\n",
       "      <td>Deputy Director</td>\n",
       "      <td>Japanese Ministry of Economy, Trade and Industry</td>\n",
       "    </tr>\n",
       "  </tbody>\n",
       "</table>\n",
       "</div>"
      ],
      "text/plain": [
       "             name     university  year        placement_role  \\\n",
       "0  Harrison Shieh  UC Santa Cruz  2024   Assistant Professor   \n",
       "1      Ken Suzuki  UC Santa Cruz  2024  Post Doctoral Fellow   \n",
       "2   Shinya Inukai  UC Santa Cruz  2024       Deputy Director   \n",
       "\n",
       "                                 placement_location  \n",
       "0                                    Vassar College  \n",
       "1                               Stanford University  \n",
       "2  Japanese Ministry of Economy, Trade and Industry  "
      ]
     },
     "execution_count": 76,
     "metadata": {},
     "output_type": "execute_result"
    }
   ],
   "source": [
    "ucsc_placement_df.head(3)"
   ]
  },
  {
   "cell_type": "code",
   "execution_count": 78,
   "id": "f417fc55",
   "metadata": {},
   "outputs": [
    {
     "data": {
      "text/html": [
       "<div>\n",
       "<style scoped>\n",
       "    .dataframe tbody tr th:only-of-type {\n",
       "        vertical-align: middle;\n",
       "    }\n",
       "\n",
       "    .dataframe tbody tr th {\n",
       "        vertical-align: top;\n",
       "    }\n",
       "\n",
       "    .dataframe thead th {\n",
       "        text-align: right;\n",
       "    }\n",
       "</style>\n",
       "<table border=\"1\" class=\"dataframe\">\n",
       "  <thead>\n",
       "    <tr style=\"text-align: right;\">\n",
       "      <th></th>\n",
       "      <th>name</th>\n",
       "      <th>university</th>\n",
       "      <th>year</th>\n",
       "      <th>research_fields</th>\n",
       "      <th>job_market_paper</th>\n",
       "      <th>references</th>\n",
       "      <th>website</th>\n",
       "    </tr>\n",
       "  </thead>\n",
       "  <tbody>\n",
       "    <tr>\n",
       "      <th>0</th>\n",
       "      <td>Yifei Ding</td>\n",
       "      <td>UC Riverside</td>\n",
       "      <td>2024</td>\n",
       "      <td>Causal Inference, Econometrics Theory, Machine...</td>\n",
       "      <td>“Deep Learning for Individual Heterogeneity wi...</td>\n",
       "      <td>Ruoyao Shi, Tae-Hwy Lee, Weixin Yao, Meng Xu, ...</td>\n",
       "      <td>https://yifeiding-ucr.github.io/</td>\n",
       "    </tr>\n",
       "    <tr>\n",
       "      <th>1</th>\n",
       "      <td>Ilsoo Han</td>\n",
       "      <td>UC Riverside</td>\n",
       "      <td>2024</td>\n",
       "      <td>Macroeconomics, Search Theory, Labor Economics.</td>\n",
       "      <td>“Educational-Specific Decompositional Effects ...</td>\n",
       "      <td>Victor Ortego-Marti, Jang-Ting Guo, Matthew Lang.</td>\n",
       "      <td>http://ilsoohan.weebly.com/</td>\n",
       "    </tr>\n",
       "    <tr>\n",
       "      <th>2</th>\n",
       "      <td>Anirudh Iyer</td>\n",
       "      <td>UC Riverside</td>\n",
       "      <td>2024</td>\n",
       "      <td>Microeconomics, Matching, Market Design.</td>\n",
       "      <td>“Dynamic Matching with Case-Based Agents”</td>\n",
       "      <td>Siyang Xiong, Haluk Ergin, Hiroki Nishimura.</td>\n",
       "      <td>https://sites.google.com/view/aiyer/</td>\n",
       "    </tr>\n",
       "  </tbody>\n",
       "</table>\n",
       "</div>"
      ],
      "text/plain": [
       "           name    university  year  \\\n",
       "0    Yifei Ding  UC Riverside  2024   \n",
       "1     Ilsoo Han  UC Riverside  2024   \n",
       "2  Anirudh Iyer  UC Riverside  2024   \n",
       "\n",
       "                                     research_fields  \\\n",
       "0  Causal Inference, Econometrics Theory, Machine...   \n",
       "1    Macroeconomics, Search Theory, Labor Economics.   \n",
       "2           Microeconomics, Matching, Market Design.   \n",
       "\n",
       "                                    job_market_paper  \\\n",
       "0  “Deep Learning for Individual Heterogeneity wi...   \n",
       "1  “Educational-Specific Decompositional Effects ...   \n",
       "2          “Dynamic Matching with Case-Based Agents”   \n",
       "\n",
       "                                          references  \\\n",
       "0  Ruoyao Shi, Tae-Hwy Lee, Weixin Yao, Meng Xu, ...   \n",
       "1  Victor Ortego-Marti, Jang-Ting Guo, Matthew Lang.   \n",
       "2       Siyang Xiong, Haluk Ergin, Hiroki Nishimura.   \n",
       "\n",
       "                                website  \n",
       "0      https://yifeiding-ucr.github.io/  \n",
       "1           http://ilsoohan.weebly.com/  \n",
       "2  https://sites.google.com/view/aiyer/  "
      ]
     },
     "execution_count": 78,
     "metadata": {},
     "output_type": "execute_result"
    }
   ],
   "source": [
    "ucr_candidates_df.head(3)"
   ]
  },
  {
   "cell_type": "code",
   "execution_count": 77,
   "id": "0f890b70",
   "metadata": {},
   "outputs": [
    {
     "data": {
      "text/html": [
       "<div>\n",
       "<style scoped>\n",
       "    .dataframe tbody tr th:only-of-type {\n",
       "        vertical-align: middle;\n",
       "    }\n",
       "\n",
       "    .dataframe tbody tr th {\n",
       "        vertical-align: top;\n",
       "    }\n",
       "\n",
       "    .dataframe thead th {\n",
       "        text-align: right;\n",
       "    }\n",
       "</style>\n",
       "<table border=\"1\" class=\"dataframe\">\n",
       "  <thead>\n",
       "    <tr style=\"text-align: right;\">\n",
       "      <th></th>\n",
       "      <th>name</th>\n",
       "      <th>university</th>\n",
       "      <th>year</th>\n",
       "      <th>placement_role</th>\n",
       "      <th>placement_location</th>\n",
       "    </tr>\n",
       "  </thead>\n",
       "  <tbody>\n",
       "    <tr>\n",
       "      <th>0</th>\n",
       "      <td>Pedro Isaac Chavez Lopez</td>\n",
       "      <td>UC Riverside</td>\n",
       "      <td>2024</td>\n",
       "      <td>Economist</td>\n",
       "      <td>Bank of Mexico</td>\n",
       "    </tr>\n",
       "    <tr>\n",
       "      <th>1</th>\n",
       "      <td>Da Gong</td>\n",
       "      <td>UC Riverside</td>\n",
       "      <td>2024</td>\n",
       "      <td>Lecturer, School of Business</td>\n",
       "      <td>SUNY Geneseo</td>\n",
       "    </tr>\n",
       "    <tr>\n",
       "      <th>2</th>\n",
       "      <td>Jingyan Guo</td>\n",
       "      <td>UC Riverside</td>\n",
       "      <td>2024</td>\n",
       "      <td>Associate, Cirque Analytics</td>\n",
       "      <td>Los Angeles</td>\n",
       "    </tr>\n",
       "  </tbody>\n",
       "</table>\n",
       "</div>"
      ],
      "text/plain": [
       "                       name    university  year                placement_role  \\\n",
       "0  Pedro Isaac Chavez Lopez  UC Riverside  2024                     Economist   \n",
       "1                   Da Gong  UC Riverside  2024  Lecturer, School of Business   \n",
       "2               Jingyan Guo  UC Riverside  2024   Associate, Cirque Analytics   \n",
       "\n",
       "  placement_location  \n",
       "0     Bank of Mexico  \n",
       "1       SUNY Geneseo  \n",
       "2        Los Angeles  "
      ]
     },
     "execution_count": 77,
     "metadata": {},
     "output_type": "execute_result"
    }
   ],
   "source": [
    "ucr_placement_df.head(3)"
   ]
  },
  {
   "cell_type": "code",
   "execution_count": 79,
   "id": "2b48b321",
   "metadata": {},
   "outputs": [
    {
     "data": {
      "text/html": [
       "<div>\n",
       "<style scoped>\n",
       "    .dataframe tbody tr th:only-of-type {\n",
       "        vertical-align: middle;\n",
       "    }\n",
       "\n",
       "    .dataframe tbody tr th {\n",
       "        vertical-align: top;\n",
       "    }\n",
       "\n",
       "    .dataframe thead th {\n",
       "        text-align: right;\n",
       "    }\n",
       "</style>\n",
       "<table border=\"1\" class=\"dataframe\">\n",
       "  <thead>\n",
       "    <tr style=\"text-align: right;\">\n",
       "      <th></th>\n",
       "      <th>name</th>\n",
       "      <th>university</th>\n",
       "      <th>year</th>\n",
       "      <th>email</th>\n",
       "      <th>research_fields</th>\n",
       "      <th>references</th>\n",
       "      <th>website</th>\n",
       "    </tr>\n",
       "  </thead>\n",
       "  <tbody>\n",
       "    <tr>\n",
       "      <th>0</th>\n",
       "      <td>Jose Alvarado</td>\n",
       "      <td>Northwestern</td>\n",
       "      <td>2024</td>\n",
       "      <td>josealvarado2023@u.northwestern.edu</td>\n",
       "      <td>Macroeconomics, Public Finance, Political Economy</td>\n",
       "      <td></td>\n",
       "      <td>https://www.josemiguelalvarado.com</td>\n",
       "    </tr>\n",
       "    <tr>\n",
       "      <th>1</th>\n",
       "      <td>Samuel Ampaw</td>\n",
       "      <td>Northwestern</td>\n",
       "      <td>2024</td>\n",
       "      <td>samuel.ampaw@kellogg.northwestern.edu</td>\n",
       "      <td>Health Economics, Development Economics</td>\n",
       "      <td></td>\n",
       "      <td>https://sites.northwestern.edu/sas61731/</td>\n",
       "    </tr>\n",
       "    <tr>\n",
       "      <th>2</th>\n",
       "      <td>Michelle Avataneo</td>\n",
       "      <td>Northwestern</td>\n",
       "      <td>2024</td>\n",
       "      <td>michelle.avataneo@kellogg.northwestern.edu</td>\n",
       "      <td>Microeconomic Theory</td>\n",
       "      <td></td>\n",
       "      <td>https://www.michelleavataneo.com</td>\n",
       "    </tr>\n",
       "  </tbody>\n",
       "</table>\n",
       "</div>"
      ],
      "text/plain": [
       "                name    university  year  \\\n",
       "0      Jose Alvarado  Northwestern  2024   \n",
       "1       Samuel Ampaw  Northwestern  2024   \n",
       "2  Michelle Avataneo  Northwestern  2024   \n",
       "\n",
       "                                        email  \\\n",
       "0         josealvarado2023@u.northwestern.edu   \n",
       "1       samuel.ampaw@kellogg.northwestern.edu   \n",
       "2  michelle.avataneo@kellogg.northwestern.edu   \n",
       "\n",
       "                                     research_fields references  \\\n",
       "0  Macroeconomics, Public Finance, Political Economy              \n",
       "1            Health Economics, Development Economics              \n",
       "2                               Microeconomic Theory              \n",
       "\n",
       "                                     website  \n",
       "0         https://www.josemiguelalvarado.com  \n",
       "1   https://sites.northwestern.edu/sas61731/  \n",
       "2           https://www.michelleavataneo.com  "
      ]
     },
     "execution_count": 79,
     "metadata": {},
     "output_type": "execute_result"
    }
   ],
   "source": [
    "northwestern_candidates_df.head(3)"
   ]
  },
  {
   "cell_type": "code",
   "execution_count": 80,
   "id": "8e3dd321",
   "metadata": {},
   "outputs": [
    {
     "data": {
      "text/html": [
       "<div>\n",
       "<style scoped>\n",
       "    .dataframe tbody tr th:only-of-type {\n",
       "        vertical-align: middle;\n",
       "    }\n",
       "\n",
       "    .dataframe tbody tr th {\n",
       "        vertical-align: top;\n",
       "    }\n",
       "\n",
       "    .dataframe thead th {\n",
       "        text-align: right;\n",
       "    }\n",
       "</style>\n",
       "<table border=\"1\" class=\"dataframe\">\n",
       "  <thead>\n",
       "    <tr style=\"text-align: right;\">\n",
       "      <th></th>\n",
       "      <th>name</th>\n",
       "      <th>university</th>\n",
       "      <th>year</th>\n",
       "      <th>placement_role</th>\n",
       "      <th>placement_location</th>\n",
       "      <th>research_fields</th>\n",
       "    </tr>\n",
       "  </thead>\n",
       "  <tbody>\n",
       "    <tr>\n",
       "      <th>0</th>\n",
       "      <td></td>\n",
       "      <td>Northwestern</td>\n",
       "      <td>2024</td>\n",
       "      <td>Academic</td>\n",
       "      <td>Brown University (postdoc)/University of Notti...</td>\n",
       "      <td></td>\n",
       "    </tr>\n",
       "    <tr>\n",
       "      <th>1</th>\n",
       "      <td></td>\n",
       "      <td>Northwestern</td>\n",
       "      <td>2024</td>\n",
       "      <td>Academic</td>\n",
       "      <td>Chinese University of Hong Kong (Business School)</td>\n",
       "      <td></td>\n",
       "    </tr>\n",
       "    <tr>\n",
       "      <th>2</th>\n",
       "      <td></td>\n",
       "      <td>Northwestern</td>\n",
       "      <td>2024</td>\n",
       "      <td>Academic</td>\n",
       "      <td>Cornell University</td>\n",
       "      <td></td>\n",
       "    </tr>\n",
       "  </tbody>\n",
       "</table>\n",
       "</div>"
      ],
      "text/plain": [
       "  name    university  year placement_role  \\\n",
       "0       Northwestern  2024       Academic   \n",
       "1       Northwestern  2024       Academic   \n",
       "2       Northwestern  2024       Academic   \n",
       "\n",
       "                                  placement_location research_fields  \n",
       "0  Brown University (postdoc)/University of Notti...                  \n",
       "1  Chinese University of Hong Kong (Business School)                  \n",
       "2                                 Cornell University                  "
      ]
     },
     "execution_count": 80,
     "metadata": {},
     "output_type": "execute_result"
    }
   ],
   "source": [
    "northwestern_placement_df.head(3)"
   ]
  },
  {
   "cell_type": "code",
   "execution_count": 81,
   "id": "e80a6162",
   "metadata": {},
   "outputs": [
    {
     "data": {
      "text/html": [
       "<div>\n",
       "<style scoped>\n",
       "    .dataframe tbody tr th:only-of-type {\n",
       "        vertical-align: middle;\n",
       "    }\n",
       "\n",
       "    .dataframe tbody tr th {\n",
       "        vertical-align: top;\n",
       "    }\n",
       "\n",
       "    .dataframe thead th {\n",
       "        text-align: right;\n",
       "    }\n",
       "</style>\n",
       "<table border=\"1\" class=\"dataframe\">\n",
       "  <thead>\n",
       "    <tr style=\"text-align: right;\">\n",
       "      <th></th>\n",
       "      <th>name</th>\n",
       "      <th>university</th>\n",
       "      <th>year</th>\n",
       "      <th>email</th>\n",
       "      <th>research_fields</th>\n",
       "      <th>job_market_paper</th>\n",
       "      <th>advisors</th>\n",
       "      <th>website</th>\n",
       "    </tr>\n",
       "  </thead>\n",
       "  <tbody>\n",
       "    <tr>\n",
       "      <th>0</th>\n",
       "      <td>Shifrah Aron-Dine</td>\n",
       "      <td>Stanford</td>\n",
       "      <td>2024</td>\n",
       "      <td>arondine@stanford.edu</td>\n",
       "      <td>Macroeconomics, Finance, Environmental Economics</td>\n",
       "      <td>Rebuild or Relocate? Recovery after Natural Di...</td>\n",
       "      <td>Monika Piazzesi (Co-primary), Martin Schneider...</td>\n",
       "      <td>https://www.shifraharondine.com/</td>\n",
       "    </tr>\n",
       "    <tr>\n",
       "      <th>1</th>\n",
       "      <td>Matthew Brown</td>\n",
       "      <td>Stanford</td>\n",
       "      <td>2024</td>\n",
       "      <td>mbrown35@stanford.edu</td>\n",
       "      <td>Public Economics, Behavioral and Experimental</td>\n",
       "      <td>Do Sports Bettors Need Consumer Protection? Ev...</td>\n",
       "      <td>Matthew Gentzkow, Hunt Allcott, B. Douglas Ber...</td>\n",
       "      <td>https://mattbrownecon.github.io/</td>\n",
       "    </tr>\n",
       "    <tr>\n",
       "      <th>2</th>\n",
       "      <td>Ian Calaway</td>\n",
       "      <td>Stanford</td>\n",
       "      <td>2024</td>\n",
       "      <td>icalaway@stanford.edu</td>\n",
       "      <td>Public Economics, Labor Economics</td>\n",
       "      <td>Early Mentors for Exceptional Students</td>\n",
       "      <td>Caroline Hoxby, Isaac Sorkin, Nicholas Bloom</td>\n",
       "      <td>https://sites.google.com/view/ian-calaway/home</td>\n",
       "    </tr>\n",
       "  </tbody>\n",
       "</table>\n",
       "</div>"
      ],
      "text/plain": [
       "                name university  year                  email  \\\n",
       "0  Shifrah Aron-Dine   Stanford  2024  arondine@stanford.edu   \n",
       "1      Matthew Brown   Stanford  2024  mbrown35@stanford.edu   \n",
       "2        Ian Calaway   Stanford  2024  icalaway@stanford.edu   \n",
       "\n",
       "                                    research_fields  \\\n",
       "0  Macroeconomics, Finance, Environmental Economics   \n",
       "1     Public Economics, Behavioral and Experimental   \n",
       "2                 Public Economics, Labor Economics   \n",
       "\n",
       "                                    job_market_paper  \\\n",
       "0  Rebuild or Relocate? Recovery after Natural Di...   \n",
       "1  Do Sports Bettors Need Consumer Protection? Ev...   \n",
       "2             Early Mentors for Exceptional Students   \n",
       "\n",
       "                                            advisors  \\\n",
       "0  Monika Piazzesi (Co-primary), Martin Schneider...   \n",
       "1  Matthew Gentzkow, Hunt Allcott, B. Douglas Ber...   \n",
       "2       Caroline Hoxby, Isaac Sorkin, Nicholas Bloom   \n",
       "\n",
       "                                          website  \n",
       "0                https://www.shifraharondine.com/  \n",
       "1                https://mattbrownecon.github.io/  \n",
       "2  https://sites.google.com/view/ian-calaway/home  "
      ]
     },
     "execution_count": 81,
     "metadata": {},
     "output_type": "execute_result"
    }
   ],
   "source": [
    "stanford_candidates_df.head(3)"
   ]
  },
  {
   "cell_type": "code",
   "execution_count": 82,
   "id": "b4673ac5",
   "metadata": {},
   "outputs": [
    {
     "data": {
      "text/html": [
       "<div>\n",
       "<style scoped>\n",
       "    .dataframe tbody tr th:only-of-type {\n",
       "        vertical-align: middle;\n",
       "    }\n",
       "\n",
       "    .dataframe tbody tr th {\n",
       "        vertical-align: top;\n",
       "    }\n",
       "\n",
       "    .dataframe thead th {\n",
       "        text-align: right;\n",
       "    }\n",
       "</style>\n",
       "<table border=\"1\" class=\"dataframe\">\n",
       "  <thead>\n",
       "    <tr style=\"text-align: right;\">\n",
       "      <th></th>\n",
       "      <th>name</th>\n",
       "      <th>university</th>\n",
       "      <th>year</th>\n",
       "      <th>research_fields</th>\n",
       "      <th>placement</th>\n",
       "    </tr>\n",
       "  </thead>\n",
       "  <tbody>\n",
       "    <tr>\n",
       "      <th>0</th>\n",
       "      <td>Maxim Bakhtin</td>\n",
       "      <td>Stanford</td>\n",
       "      <td>2025</td>\n",
       "      <td>Behavioral Economics, Theory</td>\n",
       "      <td>Analysis Group</td>\n",
       "    </tr>\n",
       "    <tr>\n",
       "      <th>1</th>\n",
       "      <td>Joseph Anderson</td>\n",
       "      <td>Stanford</td>\n",
       "      <td>2024</td>\n",
       "      <td>Innovation, Labor, Industrial Organization</td>\n",
       "      <td>Office of Management and Budget, U.S. Government</td>\n",
       "    </tr>\n",
       "    <tr>\n",
       "      <th>2</th>\n",
       "      <td>Dominique Araya Vergara</td>\n",
       "      <td>Stanford</td>\n",
       "      <td>2024</td>\n",
       "      <td>Health Economics, Public Economics</td>\n",
       "      <td>Postdoc, Ohio State University</td>\n",
       "    </tr>\n",
       "  </tbody>\n",
       "</table>\n",
       "</div>"
      ],
      "text/plain": [
       "                      name university  year  \\\n",
       "0            Maxim Bakhtin   Stanford  2025   \n",
       "1          Joseph Anderson   Stanford  2024   \n",
       "2  Dominique Araya Vergara   Stanford  2024   \n",
       "\n",
       "                              research_fields  \\\n",
       "0                Behavioral Economics, Theory   \n",
       "1  Innovation, Labor, Industrial Organization   \n",
       "2          Health Economics, Public Economics   \n",
       "\n",
       "                                          placement  \n",
       "0                                    Analysis Group  \n",
       "1  Office of Management and Budget, U.S. Government  \n",
       "2                    Postdoc, Ohio State University  "
      ]
     },
     "execution_count": 82,
     "metadata": {},
     "output_type": "execute_result"
    }
   ],
   "source": [
    "stanford_placement_df.head(3)"
   ]
  },
  {
   "cell_type": "code",
   "execution_count": 83,
   "id": "972fc230",
   "metadata": {},
   "outputs": [
    {
     "data": {
      "text/html": [
       "<div>\n",
       "<style scoped>\n",
       "    .dataframe tbody tr th:only-of-type {\n",
       "        vertical-align: middle;\n",
       "    }\n",
       "\n",
       "    .dataframe tbody tr th {\n",
       "        vertical-align: top;\n",
       "    }\n",
       "\n",
       "    .dataframe thead th {\n",
       "        text-align: right;\n",
       "    }\n",
       "</style>\n",
       "<table border=\"1\" class=\"dataframe\">\n",
       "  <thead>\n",
       "    <tr style=\"text-align: right;\">\n",
       "      <th></th>\n",
       "      <th>name</th>\n",
       "      <th>university</th>\n",
       "      <th>year</th>\n",
       "      <th>email</th>\n",
       "      <th>research_fields</th>\n",
       "      <th>job_market_paper</th>\n",
       "      <th>references</th>\n",
       "      <th>website</th>\n",
       "      <th>cv</th>\n",
       "    </tr>\n",
       "  </thead>\n",
       "  <tbody>\n",
       "    <tr>\n",
       "      <th>0</th>\n",
       "      <td>Patrick Agte</td>\n",
       "      <td>Princeton</td>\n",
       "      <td>2024</td>\n",
       "      <td>patrick.agte@yale.edu</td>\n",
       "      <td>Development Economics\\nHealth Economics\\nIndus...</td>\n",
       "      <td>“Fighting Silent Killers: How India’s Public P...</td>\n",
       "      <td>Janet Currie, Thomas Fujiwara, Rohini Pande, C...</td>\n",
       "      <td>http://www.patrickagte.com</td>\n",
       "      <td>https://patrickagte.github.io/patrickagte/agte...</td>\n",
       "    </tr>\n",
       "    <tr>\n",
       "      <th>1</th>\n",
       "      <td>Anshu Chen</td>\n",
       "      <td>Princeton</td>\n",
       "      <td>2024</td>\n",
       "      <td>anshuc@princeton.edu</td>\n",
       "      <td>Corporate Finance\\nMacroeconomics</td>\n",
       "      <td>“Text-Based Industry Classifications and their...</td>\n",
       "      <td>Moritz Lenel, Ezra Oberfield, Motohiro Yogo</td>\n",
       "      <td>https://sites.google.com/view/anshuchen/home</td>\n",
       "      <td>https://www.dropbox.com/scl/fi/hu83j9qi8lo33d3...</td>\n",
       "    </tr>\n",
       "    <tr>\n",
       "      <th>2</th>\n",
       "      <td>Francesco Fabbri</td>\n",
       "      <td>Princeton</td>\n",
       "      <td>2024</td>\n",
       "      <td>ffabbri@princeton.edu</td>\n",
       "      <td>Microeconomic Theory\\nBehavioral Economics</td>\n",
       "      <td>“Attention Holdup”\\nPietro Ortoleva (advisor)</td>\n",
       "      <td>Pietro Ortoleva, Faruk Gul, Wolfgang Pesendorfer</td>\n",
       "      <td>http://www.francesco-fabbri.com</td>\n",
       "      <td>https://francesco-fabbri.github.io/documents/c...</td>\n",
       "    </tr>\n",
       "  </tbody>\n",
       "</table>\n",
       "</div>"
      ],
      "text/plain": [
       "               name university  year                  email  \\\n",
       "0      Patrick Agte  Princeton  2024  patrick.agte@yale.edu   \n",
       "1        Anshu Chen  Princeton  2024   anshuc@princeton.edu   \n",
       "2  Francesco Fabbri  Princeton  2024  ffabbri@princeton.edu   \n",
       "\n",
       "                                     research_fields  \\\n",
       "0  Development Economics\\nHealth Economics\\nIndus...   \n",
       "1                  Corporate Finance\\nMacroeconomics   \n",
       "2         Microeconomic Theory\\nBehavioral Economics   \n",
       "\n",
       "                                    job_market_paper  \\\n",
       "0  “Fighting Silent Killers: How India’s Public P...   \n",
       "1  “Text-Based Industry Classifications and their...   \n",
       "2      “Attention Holdup”\\nPietro Ortoleva (advisor)   \n",
       "\n",
       "                                          references  \\\n",
       "0  Janet Currie, Thomas Fujiwara, Rohini Pande, C...   \n",
       "1        Moritz Lenel, Ezra Oberfield, Motohiro Yogo   \n",
       "2   Pietro Ortoleva, Faruk Gul, Wolfgang Pesendorfer   \n",
       "\n",
       "                                        website  \\\n",
       "0                    http://www.patrickagte.com   \n",
       "1  https://sites.google.com/view/anshuchen/home   \n",
       "2               http://www.francesco-fabbri.com   \n",
       "\n",
       "                                                  cv  \n",
       "0  https://patrickagte.github.io/patrickagte/agte...  \n",
       "1  https://www.dropbox.com/scl/fi/hu83j9qi8lo33d3...  \n",
       "2  https://francesco-fabbri.github.io/documents/c...  "
      ]
     },
     "execution_count": 83,
     "metadata": {},
     "output_type": "execute_result"
    }
   ],
   "source": [
    "princeton_candidates_df.head(3)"
   ]
  },
  {
   "cell_type": "code",
   "execution_count": 84,
   "id": "3b37d254",
   "metadata": {},
   "outputs": [
    {
     "data": {
      "text/html": [
       "<div>\n",
       "<style scoped>\n",
       "    .dataframe tbody tr th:only-of-type {\n",
       "        vertical-align: middle;\n",
       "    }\n",
       "\n",
       "    .dataframe tbody tr th {\n",
       "        vertical-align: top;\n",
       "    }\n",
       "\n",
       "    .dataframe thead th {\n",
       "        text-align: right;\n",
       "    }\n",
       "</style>\n",
       "<table border=\"1\" class=\"dataframe\">\n",
       "  <thead>\n",
       "    <tr style=\"text-align: right;\">\n",
       "      <th></th>\n",
       "      <th>name</th>\n",
       "      <th>university</th>\n",
       "      <th>year</th>\n",
       "      <th>placement_role</th>\n",
       "      <th>placement_location</th>\n",
       "      <th>research_fields</th>\n",
       "    </tr>\n",
       "  </thead>\n",
       "  <tbody>\n",
       "    <tr>\n",
       "      <th>0</th>\n",
       "      <td></td>\n",
       "      <td>Princeton</td>\n",
       "      <td>NaN</td>\n",
       "      <td>Networks</td>\n",
       "      <td>Two Sigma Investments</td>\n",
       "      <td>Econometrics</td>\n",
       "    </tr>\n",
       "    <tr>\n",
       "      <th>1</th>\n",
       "      <td></td>\n",
       "      <td>Princeton</td>\n",
       "      <td>NaN</td>\n",
       "      <td>Networks</td>\n",
       "      <td>Two Sigma Investments</td>\n",
       "      <td>Finance</td>\n",
       "    </tr>\n",
       "    <tr>\n",
       "      <th>2</th>\n",
       "      <td></td>\n",
       "      <td>Princeton</td>\n",
       "      <td>NaN</td>\n",
       "      <td>Economist</td>\n",
       "      <td>International Monetary Fund</td>\n",
       "      <td>International Trade</td>\n",
       "    </tr>\n",
       "  </tbody>\n",
       "</table>\n",
       "</div>"
      ],
      "text/plain": [
       "  name university  year placement_role           placement_location  \\\n",
       "0       Princeton   NaN       Networks        Two Sigma Investments   \n",
       "1       Princeton   NaN       Networks        Two Sigma Investments   \n",
       "2       Princeton   NaN      Economist  International Monetary Fund   \n",
       "\n",
       "       research_fields  \n",
       "0         Econometrics  \n",
       "1              Finance  \n",
       "2  International Trade  "
      ]
     },
     "execution_count": 84,
     "metadata": {},
     "output_type": "execute_result"
    }
   ],
   "source": [
    "princeton_placement_df.head(3)\n"
   ]
  },
  {
   "cell_type": "markdown",
   "id": "4b1d9288",
   "metadata": {},
   "source": [
    "Things we need to analyze at the end:\n",
    "- Trend of number of candidates\n",
    "- Trend of number of placements per field\n",
    "- Trend of number of candidates by gender\n",
    "    - Trend of gender composition\n",
    "- movement of university (USNews)\n",
    "- advisor's gender (on academic)\n",
    "    - women advised by  women\n",
    "    - men advised by men\n",
    "    - so on\n",
    "    - create a matrix, table for this\n",
    "\n",
    "Variables that we need:\n",
    "- Field\n",
    "- Gender\n",
    "- College\n",
    "- Year\n",
    "- advisor\n",
    "\n",
    "Two dataset that are not usable:\n",
    "- northwestern_placement_df\n",
    "- princeton_placement_df\n",
    "- ucsb_placement_df\n"
   ]
  },
  {
   "cell_type": "markdown",
   "id": "0dd1189d",
   "metadata": {},
   "source": [
    "Let's first combine all the placement data into one dataframe:"
   ]
  },
  {
   "cell_type": "code",
   "execution_count": 15,
   "id": "60af5453",
   "metadata": {},
   "outputs": [],
   "source": [
    "candidate_dfs = [\n",
    "    ucsd_candidates_df,\n",
    "    ucsb_candidates_df,\n",
    "    ucr_candidates_df,\n",
    "    ucd_candidates_df,\n",
    "    stanford_candidates_df,\n",
    "    princeton_candidates_df,\n",
    "    northwestern_candidates_df\n",
    "]"
   ]
  },
  {
   "cell_type": "code",
   "execution_count": 14,
   "id": "4391aa7f",
   "metadata": {},
   "outputs": [
    {
     "ename": "NameError",
     "evalue": "name 'ucsd_placement_df' is not defined",
     "output_type": "error",
     "traceback": [
      "\u001b[0;31m---------------------------------------------------------------------------\u001b[0m",
      "\u001b[0;31mNameError\u001b[0m                                 Traceback (most recent call last)",
      "Cell \u001b[0;32mIn[14], line 2\u001b[0m\n\u001b[1;32m      1\u001b[0m placement_dfs \u001b[38;5;241m=\u001b[39m [\n\u001b[0;32m----> 2\u001b[0m     ucsd_placement_df,\n\u001b[1;32m      3\u001b[0m     ucr_placement_df,\n\u001b[1;32m      4\u001b[0m     ucd_placement_df,\n\u001b[1;32m      5\u001b[0m     stanford_placement_df,\n\u001b[1;32m      6\u001b[0m ]\n\u001b[1;32m      8\u001b[0m candidate_dfs \u001b[38;5;241m=\u001b[39m [\n\u001b[1;32m      9\u001b[0m     ucsd_candidates_df,\n\u001b[1;32m     10\u001b[0m     ucsb_candidates_df,\n\u001b[0;32m   (...)\u001b[0m\n\u001b[1;32m     15\u001b[0m     northwestern_candidates_df\n\u001b[1;32m     16\u001b[0m ]\n",
      "\u001b[0;31mNameError\u001b[0m: name 'ucsd_placement_df' is not defined"
     ]
    }
   ],
   "source": [
    "placement_dfs = [\n",
    "    ucsd_placement_df,\n",
    "    ucr_placement_df,\n",
    "    ucd_placement_df,\n",
    "    stanford_placement_df,\n",
    "]\n",
    "\n",
    "candidate_dfs = [\n",
    "    ucsd_candidates_df,\n",
    "    ucsb_candidates_df,\n",
    "    ucr_candidates_df,\n",
    "    ucd_candidates_df,\n",
    "    stanford_candidates_df,\n",
    "    princeton_candidates_df,\n",
    "    northwestern_candidates_df\n",
    "]\n"
   ]
  },
  {
   "cell_type": "code",
   "execution_count": 16,
   "id": "21dd8787",
   "metadata": {},
   "outputs": [
    {
     "data": {
      "text/html": [
       "<div>\n",
       "<style scoped>\n",
       "    .dataframe tbody tr th:only-of-type {\n",
       "        vertical-align: middle;\n",
       "    }\n",
       "\n",
       "    .dataframe tbody tr th {\n",
       "        vertical-align: top;\n",
       "    }\n",
       "\n",
       "    .dataframe thead th {\n",
       "        text-align: right;\n",
       "    }\n",
       "</style>\n",
       "<table border=\"1\" class=\"dataframe\">\n",
       "  <thead>\n",
       "    <tr style=\"text-align: right;\">\n",
       "      <th></th>\n",
       "      <th>name</th>\n",
       "      <th>university</th>\n",
       "      <th>advisors</th>\n",
       "      <th>research_fields</th>\n",
       "      <th>personal_website</th>\n",
       "      <th>image</th>\n",
       "      <th>year</th>\n",
       "      <th>research_areas</th>\n",
       "      <th>advisor</th>\n",
       "      <th>job_market_paper</th>\n",
       "      <th>references</th>\n",
       "      <th>website</th>\n",
       "      <th>email</th>\n",
       "      <th>cv</th>\n",
       "    </tr>\n",
       "  </thead>\n",
       "  <tbody>\n",
       "    <tr>\n",
       "      <th>0</th>\n",
       "      <td>Giampaolo Bonomi</td>\n",
       "      <td>UCSD</td>\n",
       "      <td>Joel Sobel and Renee Bowen</td>\n",
       "      <td>Political Economics, Applied Theory, Behaviora...</td>\n",
       "      <td>https://sites.google.com/view/gbonomi</td>\n",
       "      <td>Giampaolo picture 2.jpeg</td>\n",
       "      <td>NaN</td>\n",
       "      <td>NaN</td>\n",
       "      <td>NaN</td>\n",
       "      <td>NaN</td>\n",
       "      <td>NaN</td>\n",
       "      <td>NaN</td>\n",
       "      <td>NaN</td>\n",
       "      <td>NaN</td>\n",
       "    </tr>\n",
       "    <tr>\n",
       "      <th>1</th>\n",
       "      <td>Steven Brownstone</td>\n",
       "      <td>UCSD</td>\n",
       "      <td>Karthik Muralidharan and Craig McIntosh</td>\n",
       "      <td>Development Economics</td>\n",
       "      <td>https://www.sbrownstone.me</td>\n",
       "      <td>Steven photo.jpg</td>\n",
       "      <td>NaN</td>\n",
       "      <td>NaN</td>\n",
       "      <td>NaN</td>\n",
       "      <td>NaN</td>\n",
       "      <td>NaN</td>\n",
       "      <td>NaN</td>\n",
       "      <td>NaN</td>\n",
       "      <td>NaN</td>\n",
       "    </tr>\n",
       "    <tr>\n",
       "      <th>2</th>\n",
       "      <td>Erica K. Chuang</td>\n",
       "      <td>UCSD</td>\n",
       "      <td>Mark Jacobsen</td>\n",
       "      <td>Environment; Agriculture and Natural Resources</td>\n",
       "      <td>https://www.ericakchuang.com</td>\n",
       "      <td>EricaCnew.jpeg</td>\n",
       "      <td>NaN</td>\n",
       "      <td>NaN</td>\n",
       "      <td>NaN</td>\n",
       "      <td>NaN</td>\n",
       "      <td>NaN</td>\n",
       "      <td>NaN</td>\n",
       "      <td>NaN</td>\n",
       "      <td>NaN</td>\n",
       "    </tr>\n",
       "  </tbody>\n",
       "</table>\n",
       "</div>"
      ],
      "text/plain": [
       "                name university                                 advisors  \\\n",
       "0   Giampaolo Bonomi       UCSD               Joel Sobel and Renee Bowen   \n",
       "1  Steven Brownstone       UCSD  Karthik Muralidharan and Craig McIntosh   \n",
       "2    Erica K. Chuang       UCSD                            Mark Jacobsen   \n",
       "\n",
       "                                     research_fields  \\\n",
       "0  Political Economics, Applied Theory, Behaviora...   \n",
       "1                              Development Economics   \n",
       "2     Environment; Agriculture and Natural Resources   \n",
       "\n",
       "                        personal_website                     image  year  \\\n",
       "0  https://sites.google.com/view/gbonomi  Giampaolo picture 2.jpeg   NaN   \n",
       "1             https://www.sbrownstone.me          Steven photo.jpg   NaN   \n",
       "2           https://www.ericakchuang.com            EricaCnew.jpeg   NaN   \n",
       "\n",
       "  research_areas advisor job_market_paper references website email   cv  \n",
       "0            NaN     NaN              NaN        NaN     NaN   NaN  NaN  \n",
       "1            NaN     NaN              NaN        NaN     NaN   NaN  NaN  \n",
       "2            NaN     NaN              NaN        NaN     NaN   NaN  NaN  "
      ]
     },
     "execution_count": 16,
     "metadata": {},
     "output_type": "execute_result"
    }
   ],
   "source": [
    "candidate_df = pd.concat(candidate_dfs)\n",
    "candidate_df.head(3) # We don't really conduct anlaysis on this other than seeing the number increase"
   ]
  },
  {
   "cell_type": "code",
   "execution_count": 17,
   "id": "265e6908",
   "metadata": {},
   "outputs": [],
   "source": [
    "candidate_df.to_csv('data/candidate_df.csv', index=False)"
   ]
  },
  {
   "cell_type": "code",
   "execution_count": null,
   "id": "2448968d",
   "metadata": {},
   "outputs": [],
   "source": []
  },
  {
   "cell_type": "code",
   "execution_count": 145,
   "id": "a7bb57fd",
   "metadata": {},
   "outputs": [
    {
     "data": {
      "text/html": [
       "<div>\n",
       "<style scoped>\n",
       "    .dataframe tbody tr th:only-of-type {\n",
       "        vertical-align: middle;\n",
       "    }\n",
       "\n",
       "    .dataframe tbody tr th {\n",
       "        vertical-align: top;\n",
       "    }\n",
       "\n",
       "    .dataframe thead th {\n",
       "        text-align: right;\n",
       "    }\n",
       "</style>\n",
       "<table border=\"1\" class=\"dataframe\">\n",
       "  <thead>\n",
       "    <tr style=\"text-align: right;\">\n",
       "      <th></th>\n",
       "      <th>name</th>\n",
       "      <th>university</th>\n",
       "      <th>year</th>\n",
       "      <th>field</th>\n",
       "      <th>placement</th>\n",
       "      <th>research_fields</th>\n",
       "    </tr>\n",
       "  </thead>\n",
       "  <tbody>\n",
       "    <tr>\n",
       "      <th>0</th>\n",
       "      <td>Vivan Aluoch</td>\n",
       "      <td>UCSD</td>\n",
       "      <td>2023-24</td>\n",
       "      <td>Development and Labor Economics</td>\n",
       "      <td>Analysis Group</td>\n",
       "      <td>NaN</td>\n",
       "    </tr>\n",
       "    <tr>\n",
       "      <th>1</th>\n",
       "      <td>Hannah Bae</td>\n",
       "      <td>UCSD</td>\n",
       "      <td>2023-24</td>\n",
       "      <td>Health and Public</td>\n",
       "      <td>Michigan State University, postdoc at Stanford...</td>\n",
       "      <td>NaN</td>\n",
       "    </tr>\n",
       "    <tr>\n",
       "      <th>2</th>\n",
       "      <td>Evgenii Baranov</td>\n",
       "      <td>UCSD</td>\n",
       "      <td>2023-24</td>\n",
       "      <td>Micro Theory</td>\n",
       "      <td>Penn State University</td>\n",
       "      <td>NaN</td>\n",
       "    </tr>\n",
       "    <tr>\n",
       "      <th>3</th>\n",
       "      <td>Amanda Bonheur</td>\n",
       "      <td>UCSD</td>\n",
       "      <td>2023-24</td>\n",
       "      <td>Behavioral and Labor Economics</td>\n",
       "      <td>RAND Corporation</td>\n",
       "      <td>NaN</td>\n",
       "    </tr>\n",
       "    <tr>\n",
       "      <th>4</th>\n",
       "      <td>Edoardo Briganti</td>\n",
       "      <td>UCSD</td>\n",
       "      <td>2023-24</td>\n",
       "      <td>Macroeconomics</td>\n",
       "      <td>Bank of Canada</td>\n",
       "      <td>NaN</td>\n",
       "    </tr>\n",
       "    <tr>\n",
       "      <th>5</th>\n",
       "      <td>Tjeerd de Vries</td>\n",
       "      <td>UCSD</td>\n",
       "      <td>2023-24</td>\n",
       "      <td>Finance and Econometrics</td>\n",
       "      <td>HEC Paris, Finance Department</td>\n",
       "      <td>NaN</td>\n",
       "    </tr>\n",
       "    <tr>\n",
       "      <th>6</th>\n",
       "      <td>Tanner Eastmond</td>\n",
       "      <td>UCSD</td>\n",
       "      <td>2023-24</td>\n",
       "      <td>Labor Economics</td>\n",
       "      <td>Brigham Young University</td>\n",
       "      <td>NaN</td>\n",
       "    </tr>\n",
       "    <tr>\n",
       "      <th>7</th>\n",
       "      <td>Stefan Faridani</td>\n",
       "      <td>UCSD</td>\n",
       "      <td>2023-24</td>\n",
       "      <td>Econometrics</td>\n",
       "      <td>Georgia Tech</td>\n",
       "      <td>NaN</td>\n",
       "    </tr>\n",
       "    <tr>\n",
       "      <th>8</th>\n",
       "      <td>Carlos Goes</td>\n",
       "      <td>UCSD</td>\n",
       "      <td>2023-24</td>\n",
       "      <td>International Trade</td>\n",
       "      <td>World Bank Group</td>\n",
       "      <td>NaN</td>\n",
       "    </tr>\n",
       "    <tr>\n",
       "      <th>9</th>\n",
       "      <td>Zachary Hall</td>\n",
       "      <td>UCSD</td>\n",
       "      <td>2023-24</td>\n",
       "      <td>Applied Micro</td>\n",
       "      <td>Western Alliance Bank</td>\n",
       "      <td>NaN</td>\n",
       "    </tr>\n",
       "    <tr>\n",
       "      <th>10</th>\n",
       "      <td>Jinhyeon Han</td>\n",
       "      <td>UCSD</td>\n",
       "      <td>2023-24</td>\n",
       "      <td>Labor Economics</td>\n",
       "      <td>Korea Insurance Research Institute (KIRI)</td>\n",
       "      <td>NaN</td>\n",
       "    </tr>\n",
       "    <tr>\n",
       "      <th>11</th>\n",
       "      <td>Songyu He</td>\n",
       "      <td>UCSD</td>\n",
       "      <td>2023-24</td>\n",
       "      <td>Behavioral and Experimental</td>\n",
       "      <td>postdoc at Royal Holloway University of London</td>\n",
       "      <td>NaN</td>\n",
       "    </tr>\n",
       "    <tr>\n",
       "      <th>12</th>\n",
       "      <td>Xiameng Hua</td>\n",
       "      <td>UCSD</td>\n",
       "      <td>2023-24</td>\n",
       "      <td>Relational Contract</td>\n",
       "      <td>Western Alliance Bank and Arizona State Univer...</td>\n",
       "      <td>NaN</td>\n",
       "    </tr>\n",
       "    <tr>\n",
       "      <th>13</th>\n",
       "      <td>Malte Lammert</td>\n",
       "      <td>UCSD</td>\n",
       "      <td>2023-24</td>\n",
       "      <td>Micro Theory</td>\n",
       "      <td>PriceWaterhouseCoopers, Germany</td>\n",
       "      <td>NaN</td>\n",
       "    </tr>\n",
       "    <tr>\n",
       "      <th>14</th>\n",
       "      <td>Frances Lu</td>\n",
       "      <td>UCSD</td>\n",
       "      <td>2023-24</td>\n",
       "      <td>Development and Labor Economics</td>\n",
       "      <td>California Department of Social Services' Rese...</td>\n",
       "      <td>NaN</td>\n",
       "    </tr>\n",
       "    <tr>\n",
       "      <th>15</th>\n",
       "      <td>Diana Martinez</td>\n",
       "      <td>UCSD</td>\n",
       "      <td>2023-24</td>\n",
       "      <td>Development and Labor Economics</td>\n",
       "      <td>Allegheny County DHS</td>\n",
       "      <td>NaN</td>\n",
       "    </tr>\n",
       "    <tr>\n",
       "      <th>16</th>\n",
       "      <td>Anjali Pai</td>\n",
       "      <td>UCSD</td>\n",
       "      <td>2023-24</td>\n",
       "      <td>Economics of Education</td>\n",
       "      <td>Abt Global</td>\n",
       "      <td>NaN</td>\n",
       "    </tr>\n",
       "    <tr>\n",
       "      <th>17</th>\n",
       "      <td>Sabareesh Ramachandran</td>\n",
       "      <td>UCSD</td>\n",
       "      <td>2023-24</td>\n",
       "      <td>Development and Public Economics</td>\n",
       "      <td>Indian School of Business, Hyderabad; postdoc ...</td>\n",
       "      <td>NaN</td>\n",
       "    </tr>\n",
       "    <tr>\n",
       "      <th>18</th>\n",
       "      <td>Rebecca Royer</td>\n",
       "      <td>UCSD</td>\n",
       "      <td>2023-24</td>\n",
       "      <td>Behavioral and Experimental</td>\n",
       "      <td>postdoc at University of Chicago</td>\n",
       "      <td>NaN</td>\n",
       "    </tr>\n",
       "    <tr>\n",
       "      <th>19</th>\n",
       "      <td>Ali Uppal</td>\n",
       "      <td>UCSD</td>\n",
       "      <td>2023-24</td>\n",
       "      <td>Macroeconomics</td>\n",
       "      <td>Imperial College Business School, Finance Depa...</td>\n",
       "      <td>NaN</td>\n",
       "    </tr>\n",
       "  </tbody>\n",
       "</table>\n",
       "</div>"
      ],
      "text/plain": [
       "                      name university     year  \\\n",
       "0             Vivan Aluoch       UCSD  2023-24   \n",
       "1               Hannah Bae       UCSD  2023-24   \n",
       "2          Evgenii Baranov       UCSD  2023-24   \n",
       "3           Amanda Bonheur       UCSD  2023-24   \n",
       "4         Edoardo Briganti       UCSD  2023-24   \n",
       "5          Tjeerd de Vries       UCSD  2023-24   \n",
       "6          Tanner Eastmond       UCSD  2023-24   \n",
       "7          Stefan Faridani       UCSD  2023-24   \n",
       "8              Carlos Goes       UCSD  2023-24   \n",
       "9             Zachary Hall       UCSD  2023-24   \n",
       "10            Jinhyeon Han       UCSD  2023-24   \n",
       "11               Songyu He       UCSD  2023-24   \n",
       "12             Xiameng Hua       UCSD  2023-24   \n",
       "13           Malte Lammert       UCSD  2023-24   \n",
       "14              Frances Lu       UCSD  2023-24   \n",
       "15          Diana Martinez       UCSD  2023-24   \n",
       "16              Anjali Pai       UCSD  2023-24   \n",
       "17  Sabareesh Ramachandran       UCSD  2023-24   \n",
       "18           Rebecca Royer       UCSD  2023-24   \n",
       "19               Ali Uppal       UCSD  2023-24   \n",
       "\n",
       "                               field  \\\n",
       "0    Development and Labor Economics   \n",
       "1                  Health and Public   \n",
       "2                       Micro Theory   \n",
       "3     Behavioral and Labor Economics   \n",
       "4                     Macroeconomics   \n",
       "5           Finance and Econometrics   \n",
       "6                    Labor Economics   \n",
       "7                       Econometrics   \n",
       "8                International Trade   \n",
       "9                      Applied Micro   \n",
       "10                   Labor Economics   \n",
       "11       Behavioral and Experimental   \n",
       "12               Relational Contract   \n",
       "13                      Micro Theory   \n",
       "14   Development and Labor Economics   \n",
       "15   Development and Labor Economics   \n",
       "16            Economics of Education   \n",
       "17  Development and Public Economics   \n",
       "18       Behavioral and Experimental   \n",
       "19                    Macroeconomics   \n",
       "\n",
       "                                            placement research_fields  \n",
       "0                                      Analysis Group             NaN  \n",
       "1   Michigan State University, postdoc at Stanford...             NaN  \n",
       "2                               Penn State University             NaN  \n",
       "3                                    RAND Corporation             NaN  \n",
       "4                                      Bank of Canada             NaN  \n",
       "5                       HEC Paris, Finance Department             NaN  \n",
       "6                            Brigham Young University             NaN  \n",
       "7                                        Georgia Tech             NaN  \n",
       "8                                    World Bank Group             NaN  \n",
       "9                               Western Alliance Bank             NaN  \n",
       "10          Korea Insurance Research Institute (KIRI)             NaN  \n",
       "11     postdoc at Royal Holloway University of London             NaN  \n",
       "12  Western Alliance Bank and Arizona State Univer...             NaN  \n",
       "13                    PriceWaterhouseCoopers, Germany             NaN  \n",
       "14  California Department of Social Services' Rese...             NaN  \n",
       "15                               Allegheny County DHS             NaN  \n",
       "16                                         Abt Global             NaN  \n",
       "17  Indian School of Business, Hyderabad; postdoc ...             NaN  \n",
       "18                   postdoc at University of Chicago             NaN  \n",
       "19  Imperial College Business School, Finance Depa...             NaN  "
      ]
     },
     "execution_count": 145,
     "metadata": {},
     "output_type": "execute_result"
    }
   ],
   "source": [
    "for df in placement_dfs:\n",
    "    if 'placement_role' in df.columns and 'placement_location' in df.columns:\n",
    "        df['placement'] = df['placement_role'] + ', ' + df['placement_location']\n",
    "        df.drop(columns=['placement_role', 'placement_location'], inplace=True)\n",
    "\n",
    "placement_df = pd.concat(placement_dfs)\n",
    "placement_df.head(20)\n"
   ]
  },
  {
   "cell_type": "markdown",
   "id": "179da3d0",
   "metadata": {},
   "source": [
    "Let's work on changing all the year to integer, adding the type of placement(academic, private, government), also adding the gender of the candidate through using gender guesser."
   ]
  },
  {
   "cell_type": "code",
   "execution_count": 147,
   "id": "43a75171",
   "metadata": {},
   "outputs": [
    {
     "data": {
      "text/plain": [
       "array([2023., 2022., 2021., 2020., 2019., 2018., 2017., 2016., 2015.,\n",
       "       2024., 2014., 2013., 2012., 2011., 2010., 2009., 2008., 2007.,\n",
       "       2006., 2005., 2004., 2003., 2002., 2001., 2000., 1999., 2025.])"
      ]
     },
     "execution_count": 147,
     "metadata": {},
     "output_type": "execute_result"
    }
   ],
   "source": [
    "# Changing year to integer\n",
    "placement_df['year'] = placement_df['year'].apply(lambda x: int(str(x).split('-')[0]) if isinstance(x, str) and '-' in x else x)\n",
    "placement_df['year'].unique()"
   ]
  },
  {
   "cell_type": "code",
   "execution_count": 148,
   "id": "77308c92",
   "metadata": {},
   "outputs": [],
   "source": [
    "# This whole block is to classify the placement into academic, private_company, or government categories.\n",
    "def classify_placement(placement_text):\n",
    "    \"\"\"\n",
    "    Classify placement into academic, private_company, or government categories.\n",
    "    \n",
    "    Args:\n",
    "        placement_text: String containing the placement information\n",
    "        \n",
    "    Returns:\n",
    "        Dictionary with binary indicators for each category\n",
    "    \"\"\"\n",
    "    placement_text = str(placement_text).lower()\n",
    "    \n",
    "    # Initialize all categories to 0\n",
    "    result = {\n",
    "        'academic': 0,\n",
    "        'private_company': 0,\n",
    "        'government': 0\n",
    "    }\n",
    "    \n",
    "    # Academic keywords\n",
    "    academic_keywords = {\n",
    "        'university', 'college', 'professor', 'faculty', 'postdoc', 'post-doc',\n",
    "        'lecturer', 'assistant prof', 'school', 'department of economics',\n",
    "        'institute', 'post doctoral', 'visiting', 'research fellow',\n",
    "        'business school', 'teaching'\n",
    "    }\n",
    "    \n",
    "    # Government keywords\n",
    "    government_keywords = {\n",
    "        'fed', 'federal reserve', 'imf', 'world bank', 'treasury', 'department of',\n",
    "        'ministry', 'central bank', 'government', 'agency', 'bureau', 'board of governors',\n",
    "        'congressional', 'national', 'federal', 'usda', 'epa', 'doj', 'ftc', 'fda',\n",
    "        'census', 'bank of canada', 'bank of korea', 'bank of england',\n",
    "        'office of', 'administration', 'policy', 'public'\n",
    "    }\n",
    "    \n",
    "    # Private company keywords\n",
    "    private_keywords = {\n",
    "        'inc', 'corp', 'llc', 'consulting', 'bank', 'capital', 'analytics',\n",
    "        'group', 'company', 'associates', 'pwc', 'deloitte', 'amazon', 'google',\n",
    "        'microsoft', 'jpmorgan', 'chase', 'goldman sachs', 'morgan stanley',\n",
    "        'analysis group', 'cornerstone', 'research', 'private', 'industry'\n",
    "    }\n",
    "    \n",
    "    # Check for matches\n",
    "    if any(keyword in placement_text for keyword in academic_keywords):\n",
    "        result['academic'] = 1\n",
    "    if any(keyword in placement_text for keyword in government_keywords):\n",
    "        result['government'] = 1\n",
    "    if any(keyword in placement_text for keyword in private_keywords):\n",
    "        result['private_company'] = 1\n",
    "        \n",
    "    # Special cases where we need to override\n",
    "    if 'world bank' in placement_text or 'imf' in placement_text:\n",
    "        result['private_company'] = 0\n",
    "        result['government'] = 1\n",
    "    \n",
    "    # Research institutes that aren't universities should be academic\n",
    "    if 'institute' in placement_text and not any(gov in placement_text for gov in ['federal', 'government']):\n",
    "        result['academic'] = 1\n",
    "        result['private_company'] = 0\n",
    "    \n",
    "    return result\n",
    "\n",
    "# Example usage:\n",
    "# Apply to DataFrame\n",
    "def add_placement_classifications(df):\n",
    "    \"\"\"\n",
    "    Add placement classification columns to DataFrame.\n",
    "    \n",
    "    Args:\n",
    "        df: DataFrame containing 'placement_location' column\n",
    "        \n",
    "    Returns:\n",
    "        DataFrame with added classification columns\n",
    "    \"\"\"\n",
    "    classifications = df['placement'].apply(classify_placement)\n",
    "    \n",
    "    # Add new columns\n",
    "    df['academic'] = classifications.apply(lambda x: x['academic'])\n",
    "    df['private_company'] = classifications.apply(lambda x: x['private_company'])\n",
    "    df['government'] = classifications.apply(lambda x: x['government'])\n",
    "    \n",
    "    return df"
   ]
  },
  {
   "cell_type": "code",
   "execution_count": 149,
   "id": "64869c96",
   "metadata": {},
   "outputs": [
    {
     "data": {
      "text/html": [
       "<div>\n",
       "<style scoped>\n",
       "    .dataframe tbody tr th:only-of-type {\n",
       "        vertical-align: middle;\n",
       "    }\n",
       "\n",
       "    .dataframe tbody tr th {\n",
       "        vertical-align: top;\n",
       "    }\n",
       "\n",
       "    .dataframe thead th {\n",
       "        text-align: right;\n",
       "    }\n",
       "</style>\n",
       "<table border=\"1\" class=\"dataframe\">\n",
       "  <thead>\n",
       "    <tr style=\"text-align: right;\">\n",
       "      <th></th>\n",
       "      <th>name</th>\n",
       "      <th>university</th>\n",
       "      <th>year</th>\n",
       "      <th>field</th>\n",
       "      <th>placement</th>\n",
       "      <th>research_fields</th>\n",
       "      <th>academic</th>\n",
       "      <th>private_company</th>\n",
       "      <th>government</th>\n",
       "    </tr>\n",
       "  </thead>\n",
       "  <tbody>\n",
       "    <tr>\n",
       "      <th>0</th>\n",
       "      <td>Vivan Aluoch</td>\n",
       "      <td>UCSD</td>\n",
       "      <td>2023.0</td>\n",
       "      <td>Development and Labor Economics</td>\n",
       "      <td>Analysis Group</td>\n",
       "      <td>NaN</td>\n",
       "      <td>0</td>\n",
       "      <td>1</td>\n",
       "      <td>0</td>\n",
       "    </tr>\n",
       "    <tr>\n",
       "      <th>1</th>\n",
       "      <td>Hannah Bae</td>\n",
       "      <td>UCSD</td>\n",
       "      <td>2023.0</td>\n",
       "      <td>Health and Public</td>\n",
       "      <td>Michigan State University, postdoc at Stanford...</td>\n",
       "      <td>NaN</td>\n",
       "      <td>1</td>\n",
       "      <td>0</td>\n",
       "      <td>0</td>\n",
       "    </tr>\n",
       "    <tr>\n",
       "      <th>2</th>\n",
       "      <td>Evgenii Baranov</td>\n",
       "      <td>UCSD</td>\n",
       "      <td>2023.0</td>\n",
       "      <td>Micro Theory</td>\n",
       "      <td>Penn State University</td>\n",
       "      <td>NaN</td>\n",
       "      <td>1</td>\n",
       "      <td>0</td>\n",
       "      <td>0</td>\n",
       "    </tr>\n",
       "    <tr>\n",
       "      <th>3</th>\n",
       "      <td>Amanda Bonheur</td>\n",
       "      <td>UCSD</td>\n",
       "      <td>2023.0</td>\n",
       "      <td>Behavioral and Labor Economics</td>\n",
       "      <td>RAND Corporation</td>\n",
       "      <td>NaN</td>\n",
       "      <td>0</td>\n",
       "      <td>1</td>\n",
       "      <td>0</td>\n",
       "    </tr>\n",
       "    <tr>\n",
       "      <th>4</th>\n",
       "      <td>Edoardo Briganti</td>\n",
       "      <td>UCSD</td>\n",
       "      <td>2023.0</td>\n",
       "      <td>Macroeconomics</td>\n",
       "      <td>Bank of Canada</td>\n",
       "      <td>NaN</td>\n",
       "      <td>0</td>\n",
       "      <td>1</td>\n",
       "      <td>1</td>\n",
       "    </tr>\n",
       "  </tbody>\n",
       "</table>\n",
       "</div>"
      ],
      "text/plain": [
       "               name university    year                            field  \\\n",
       "0      Vivan Aluoch       UCSD  2023.0  Development and Labor Economics   \n",
       "1        Hannah Bae       UCSD  2023.0                Health and Public   \n",
       "2   Evgenii Baranov       UCSD  2023.0                     Micro Theory   \n",
       "3    Amanda Bonheur       UCSD  2023.0   Behavioral and Labor Economics   \n",
       "4  Edoardo Briganti       UCSD  2023.0                   Macroeconomics   \n",
       "\n",
       "                                           placement research_fields  \\\n",
       "0                                     Analysis Group             NaN   \n",
       "1  Michigan State University, postdoc at Stanford...             NaN   \n",
       "2                              Penn State University             NaN   \n",
       "3                                   RAND Corporation             NaN   \n",
       "4                                     Bank of Canada             NaN   \n",
       "\n",
       "   academic  private_company  government  \n",
       "0         0                1           0  \n",
       "1         1                0           0  \n",
       "2         1                0           0  \n",
       "3         0                1           0  \n",
       "4         0                1           1  "
      ]
     },
     "execution_count": 149,
     "metadata": {},
     "output_type": "execute_result"
    }
   ],
   "source": [
    "placement_df = add_placement_classifications(placement_df)\n",
    "placement_df.head()"
   ]
  },
  {
   "cell_type": "code",
   "execution_count": 150,
   "id": "665b2a88",
   "metadata": {},
   "outputs": [
    {
     "data": {
      "text/plain": [
       "academic           404\n",
       "private_company    118\n",
       "government         112\n",
       "dtype: int64"
      ]
     },
     "execution_count": 150,
     "metadata": {},
     "output_type": "execute_result"
    }
   ],
   "source": [
    "placement_df[['academic', 'private_company', 'government']].sum()"
   ]
  },
  {
   "cell_type": "code",
   "execution_count": 151,
   "id": "d61c3ee1",
   "metadata": {},
   "outputs": [
    {
     "data": {
      "text/plain": [
       "gender_guess\n",
       "male             236\n",
       "unknown          178\n",
       "female           110\n",
       "andy              74\n",
       "mostly_male       22\n",
       "mostly_female     14\n",
       "Name: count, dtype: int64"
      ]
     },
     "execution_count": 151,
     "metadata": {},
     "output_type": "execute_result"
    }
   ],
   "source": [
    "# Now let's add the gender of the candidate\n",
    "import gender_guesser.detector as gender\n",
    "\n",
    "d = gender.Detector()\n",
    "placement_df['gender_guess'] = placement_df['name'].apply(lambda x: d.get_gender(str(x).split()[0]))\n",
    "placement_df['gender_guess'].value_counts()\n"
   ]
  },
  {
   "cell_type": "code",
   "execution_count": 152,
   "id": "e83ebd9d",
   "metadata": {},
   "outputs": [],
   "source": [
    "# Update gender_guess column\n",
    "placement_df['gender_guess'] = placement_df['gender_guess'].replace({\n",
    "    'mostly_male': 'male',\n",
    "    'mostly_female': 'female'\n",
    "})\n",
    "\n",
    "# Extract 'andy' and 'unknown' genders for further analysis on gender\n",
    "andy_unknown_list = placement_df[placement_df['gender_guess'].isin(['andy', 'unknown'])]['name'].tolist()\n",
    "with open('gender_classify.txt', 'w') as file:\n",
    "    for name in andy_unknown_list:\n",
    "        file.write(f\"{name}\\n\")"
   ]
  },
  {
   "cell_type": "code",
   "execution_count": 185,
   "id": "3f9501dc",
   "metadata": {},
   "outputs": [],
   "source": [
    "# Here is a deepseek R1_search classified dictionary of the gender. It is especially useful here since most names here are chinese names,\n",
    "# it is perfect to use this Chinese LLM to classify the gender,\n",
    "# But please note that this does not guarantee the accuracy of the gender classification::\n",
    "gender_classification = {\n",
    "    # Confirmed via search results\n",
    "    \"Songyu He\": \"female\",  # Ph.D. candidate at UC San Diego :cite[1]:cite[3]\n",
    "    \"Jinhyeon Han\": \"male\",  # Korean name conventions (Jinhyeon typically male)\n",
    "\n",
    "    # Classified via cultural/linguistic patterns\n",
    "    \"Xiameng Hua\": \"female\",\n",
    "    \"Sabareesh Ramachandran\": \"male\",\n",
    "    \"Hanyi Wang\": \"female\",\n",
    "    \"Bei Luo\": \"female\",\n",
    "    \"Haitian Xie\": \"male\",\n",
    "    \"Minki Kim\": \"male\",\n",
    "    \"Wanchang Zhang\": \"male\",\n",
    "    \"Wei-Lin Chen\": \"male\",\n",
    "    \"Yu-Chang Chen\": \"male\",\n",
    "    \"Zhiyun Jiang\": \"female\",\n",
    "    \"Youngju Lee\": \"female\",\n",
    "    \"Jianan Yang\": \"male\",\n",
    "    \"Linyan Zhu\": \"female\",\n",
    "    \"Yibun Liu\": \"male\",\n",
    "    \"Xiao Ma\": \"female\",\n",
    "    \"Kye Lippold\": \"male\",\n",
    "    \"Nobu Nakazawa\": \"male\",\n",
    "    \"Yang Wang\": \"male\",\n",
    "    \"Jiajun Lu\": \"male\",\n",
    "    \"Runjing Lu\": \"female\",\n",
    "    \"Chu Alex Yu\": \"male\",\n",
    "    \"Shihan Xie\": \"male\",\n",
    "    \"Shuning Mao\": \"female\",\n",
    "    \"Yuehui Amber Wang\": \"female\",\n",
    "    \"Dodge Cahan\": \"male\",\n",
    "    \"Seung-Keun Martinez\": \"male\",\n",
    "    \"Vinayak Alladi\": \"male\",\n",
    "    \"Wenxin Xie\": \"female\",\n",
    "    \"Yaein Baek\": \"female\",\n",
    "    \"Fanglin Sun\": \"female\",\n",
    "    \"Xueying Lu\": \"female\",\n",
    "    \"Yanjun Liao\": \"male\",\n",
    "    \"Chen Liu\": \"male\",\n",
    "    \"Xu Zhang\": \"male\",\n",
    "    \"Ying Feng\": \"female\",\n",
    "    \"Eul Noh\": \"male\",\n",
    "    \"Yifei Lyu\": \"female\",\n",
    "    \"Ce Liu\": \"male\",\n",
    "    \"Xiaxin Wang\": \"female\",\n",
    "    \"Zhenting Sun\": \"male\",\n",
    "    \"Pedram Heydari\": \"male\",\n",
    "    \"Xuan Ding\": \"female\",\n",
    "    \"Onyi Lam\": \"female\",\n",
    "    \"Sieuwerd Gaastra\": \"male\",\n",
    "    \"Wei You\": \"male\",\n",
    "    \"Shanthi Manian\": \"female\",\n",
    "    \"Qihui Chen\": \"male\",\n",
    "    \"Yinchu Zhu\": \"male\",\n",
    "    \"Jue Wang\": \"female\",\n",
    "    \"Wenbin Wu\": \"male\",\n",
    "    \"Zheng Huang\": \"male\",\n",
    "    \"Jungbin Hwang\": \"male\",\n",
    "    \"Da Gong\": \"male\",\n",
    "    \"Jingyan Guo\": \"female\",\n",
    "    \"Dayang Li\": \"female\",\n",
    "    \"Xinchan Lu\": \"female\",\n",
    "    \"Andong Yan\": \"male\",\n",
    "    \"Yongli Chen\": \"male\",\n",
    "    \"Opinder Kaur\": \"female\",\n",
    "    \"Yaojue Xu\": \"male\",\n",
    "    \"Tao Wang\": \"male\",\n",
    "    \"Yanchao Yang\": \"male\",\n",
    "    \"Zhuozhen Zhao\": \"female\",\n",
    "    \"Quanfeng Zhou\": \"male\",\n",
    "    \"Chia-Lo Chen\": \"male\",\n",
    "    \"Mirewuti Muhetaer\": \"male\",\n",
    "    \"Xiaolu Zhu\": \"female\",\n",
    "    \"Seolah Kim\": \"female\",\n",
    "    \"Yoon Jae Ro\": \"male\",\n",
    "    \"Peng Zhao\": \"male\",\n",
    "    \"Jianghao Chu\": \"male\",\n",
    "    \"Mingyuan Jia\": \"male\",\n",
    "    \"Yun Luo\": \"female\",  # \"Yun\" often gender-neutral but leans female in modern Chinese\n",
    "    \"Yi Mao\": \"male\",  # \"Yi\" commonly male in Chinese\n",
    "    \"Hanbyul Ryu\": \"male\",  # Korean \"-byul\" (star) is unisex, but \"Han\" leans male\n",
    "    \"Shiyun Zhang\": \"female\",  # \"Shiyun\" has soft phonetic cues (common in female names)\n",
    "    \"Bo-Yu Chen\": \"male\",  # \"Bo\" (博, scholarly) and \"Yu\" (宇, universe) are male markers\n",
    "    \"Tasneem Raihan\": \"female\",  # \"Tasneem\" is a feminine Arabic name\n",
    "    \"He Wang\": \"male\",  # \"He\" (和, harmony) is neutral but often male in compound names\n",
    "    \"Hao Xu\": \"male\",  # \"Hao\" (豪, heroic) is strongly male\n",
    "    \"Zhi Zhao\": \"male\",  # \"Zhi\" (智, wisdom) is unisex but more common for males\n",
    "    \"Anaka Aiyar\": \"female\",  # \"Anaka\" is a feminine Sanskrit name\n",
    "    \"Najrin Khanom\": \"female\",  # \"Khanom\" is an honorific for women in Persian/Turkic cultures\n",
    "    \"Xuefeng Pan\": \"male\",  # \"Feng\" (峰, peak) is typically male\n",
    "    \"Wen Kong\": \"male\",  # \"Wen\" (文, literature) is neutral but leans male\n",
    "    \"Huiling Zhang\": \"female\",  # \"-ling\" (玲, jade sound) is common in female names\n",
    "    \"Dong Zhou\": \"male\",  # \"Dong\" (东, east) is male-leaning\n",
    "    \"Zhiming Fu\": \"male\",  # \"Ming\" (明, bright) is unisex but often male\n",
    "    \"Cheng Jiang\": \"male\",  # \"Cheng\" (成, achieve) is male-leaning\n",
    "    \"Mingming Jiang\": \"male\",  # Double \"Ming\" reinforces male association\n",
    "    \"Dongpeng Liu\": \"male\",  # \"Peng\" (鹏, mythical bird) is male\n",
    "    \"Huansha Wang\": \"female\",  # \"Sha\" (莎, sand) is common in female names\n",
    "    \"Jie Wei\": \"female\",  # \"Jie\" (洁, purity) is often female\n",
    "    \"Ru Zhang\": \"female\",  # \"Ru\" (茹, eat/herb) leans female\n",
    "    \"Venoo Kakar\": \"female\",  # \"Venoo\" is a feminine Indian/Pakistani name\n",
    "    \"Wei Lin\": \"male\",  # \"Wei\" (伟, greatness) is strongly male\n",
    "    \"Mi Lu\": \"female\",  # \"Mi\" (蜜, honey) is feminine\n",
    "    \"Yingying Sun\": \"female\",  # Reduplicated \"Ying\" (莹, lustrous) is female\n",
    "    \"Zhou Xi\": \"male\",  # \"Xi\" (熙, brightness) is male-leaning\n",
    "    \"Yundong Tu\": \"male\",  # \"Dong\" (东, east) reinforces male\n",
    "    \"Yun Wang\": \"female\",  # \"Yun\" (云, cloud) is unisex but leans female\n",
    "    \"Xiangbo Liu\": \"male\",  # \"Bo\" (博, scholarly) is male\n",
    "    \"Getachew Nigatu\": \"male\",  # Ethiopian name; \"Getachew\" is male\n",
    "    \"Hung-Lin Chen\": \"male\",  # \"Hung\" (宏, vast) and \"Lin\" (林, forest) are male\n",
    "    \"Insu Kim\": \"male\",  # Korean \"In-su\" (仁秀) is typically male\n",
    "    \"Wing Yu Leung\": \"female\",  # Cantonese \"Wing\" (咏, sing) leans female\n",
    "    \"Jie Li\": \"female\",  # \"Jie\" (洁, purity) is female\n",
    "    \"Arindam Nandi\": \"male\",  # Bengali name; \"Arindam\" (অরিন্দম) is male\n",
    "    \"Weiqiang Qian\": \"male\",  # \"Qiang\" (强, strong) is male\n",
    "    \"Jaehee Son\": \"female\",  # Korean \"Jae-hee\" (재희) is often female\n",
    "    \"Xiaoyu Wu\": \"female\",  # \"Xiaoyu\" (小雨, light rain) is female-leaning\n",
    "    \"Lopamudra Banerjee\": \"female\",  # \"Lopamudra\" is a feminine Sanskrit name\n",
    "    \"Subhadip Chattopadhyay\": \"male\",  # Bengali \"Subhadip\" (শুভদীপ) is male\n",
    "    \"Huiyu Huang\": \"female\",  # \"Huiyu\" (慧瑜) includes \"hui\" (wisdom), often female\n",
    "    \"Sucharita Sinha\": \"female\",  # \"Sucharita\" is a feminine Sanskrit name\n",
    "    \"Anirban Dasgupta\": \"male\",  # Bengali \"Anirban\" (অনির্বাণ) is male\n",
    "    \"Shatakshee Dhongde\": \"female\",  # \"Shatakshee\" is a feminine Indian name\n",
    "    \"Yang Yang\": \"male\",  # Double \"Yang\" (阳, sun/male) reinforces male\n",
    "    \"Xiao Huang\": \"female\",  # \"Xiao\" (小, little) is neutral but leans female\n",
    "    \"Xiangdong Long\": \"male\",  # \"Dong\" (东, east) is male\n",
    "    \"Wei Sun\": \"male\",  # \"Wei\" (伟, greatness) is male\n",
    "    \"Weiping Yang\": \"male\",  # \"Wei\" + \"Ping\" (平, peace) is male-leaning\n",
    "    \"Witsaroot Pariyaprasert\": \"male\",  # Thai \"Witsaroot\" (วิทยารุทธิ์) is male\n",
    "    \"Savvina Chowdhury\": \"female\",  # \"Savvina\" is a Greek feminine name\n",
    "    \"Sushama Murty\": \"female\",  # \"Sushama\" is a feminine Sanskrit name\n",
    "    \"Fang Dong\": \"female\",  # \"Fang\" (芳, fragrant) is female\n",
    "    \"Debasri Mukherjee\": \"female\",  # \"Debasri\" is a feminine Bengali name\n",
    "    \"Gurleen Popli\": \"female\",  # \"Gurleen\" is a female Punjabi name\n",
    "    \"Indranil Dutta\": \"male\",  # Bengali \"Indranil\" (ইন্দ্রনীল) is male\n",
    "    \"Chengxuan Yu\": \"male\",  # \"Xuan\" (轩, lofty) is male\n",
    "    \"Subodh Kumar\": \"male\",  # \"Subodh\" (सुबोध) is a male Sanskrit name\n",
    "    \"Anjan Chakrabarti\": \"male\",  # Bengali \"Anjan\" (অঞ্জন) is male\n",
    "    \"Achin Chakrabarti\": \"male\",  # Bengali \"Achin\" (অচিন) is male\n",
    "    \"Indraneel Dasgupta\": \"male\",  # Bengali \"Indraneel\" (ইন্দ্রনীল) is male\n",
    "    \"Mwangi wa Githinji\": \"male\",  # Kikuyu (Kenyan) name; \"Mwangi\" is male\n",
    "    \"Chiehwei Hung\": \"male\",  # \"Wei\" (偉, greatness) reinforces male\n",
    "    \"Insong Jang\": \"male\",  # Korean \"In-song\" (인송) is male\n",
    "    \"Nilanjana Roy\": \"female\",  # \"Nilanjana\" is a feminine Bengali name\n",
    "    \"Rong-Chang Wu\": \"male\",  # \"Rong\" (荣, glory) is male-leaning\n",
    "    \"Zhong-Guo Zhou\": \"male\",  # \"Zhongguo\" (中国, China) is gender-neutral but contextually male\n",
    "    \"Seungjin Baek\": \"male\",  # Korean \"Seung-jin\" (승진) is male\n",
    "    \"Jinyoung Seo\": \"male\",  # Korean \"Jin-young\" (진영) is typically male\n",
    "    \"Baiyu Zhou\": \"female\",         # \"Yu\" (玉, jade) often female, but contextually unisex\n",
    "    \"Jou-Chun Lin\": \"female\",       # \"Chun\" (春, spring) leans female\n",
    "    \"Eunju Lee\": \"female\",          # Korean \"Eun-ju\" (은주) typically female\n",
    "    \"Deokjay Jeong\": \"male\",        # Korean \"Deok\" (덕, virtue) male\n",
    "    \"Yumeng Gu\": \"female\",          # Chinese \"Meng\" (萌, budding) female\n",
    "    \"Yijing Wang\": \"female\",        # \"Yijing\" (怡静, pleasant/quiet) female\n",
    "    \"Ninghui Li\": \"female\",         # \"Hui\" (慧, wise) female\n",
    "    \"Manho Kang\": \"male\",           # Korean \"Man-ho\" (만호) male\n",
    "    \"Hanguo Huang\": \"male\",         # \"Guo\" (国, nation) male\n",
    "    \"Thiago DE LUCENA COELHO\": \"male\",  # Western/Portuguese male\n",
    "    \"Minsu KIM\": \"male\",            # Korean \"Min-su\" (민수) male\n",
    "    \"Hyok Jung KIM\": \"male\",        # Korean \"Hyok\" (혁, revolutionary) male\n",
    "    \"Mingxi LI\": \"male\",            # \"Ming\" (明, bright) male\n",
    "    \"Iwunze UGO\": \"male\",           # Igbo (Nigerian) \"Ugo\" male\n",
    "    \"Rizki SIREGAR\": \"male\",        # Indonesian \"Rizki\" male\n",
    "    \"Tamoghna HALDER\": \"male\",      # Bengali \"Tamoghna\" male\n",
    "    \"Sukjoon LEE\": \"male\",          # Korean \"Suk-joon\" (석준) male\n",
    "    \"Haopeng SHEN\": \"male\",         # \"Hao\" (豪, heroic) male\n",
    "    \"Hang ZHOU\": \"male\",            # Contextually male (common usage)\n",
    "    \"Dakyung SEONG\": \"male\",        # Korean \"Da-kyung\" (다경) male\n",
    "    \"Zhixian LIN\": \"male\",          # \"Zhi\" (智, wisdom) male\n",
    "    \"Xuan FEI\": \"female\",           # \"Xuan\" (萱, daylily) female\n",
    "    \"Tingting ZHU\": \"female\",       # Reduplicated \"Ting\" (婷, graceful) female\n",
    "    \"Mingzhi XU\": \"male\",           # \"Ming\" (明, bright) male\n",
    "    \"Tian XIA\": \"male\",             # \"Tian\" (天, sky) male\n",
    "    \"Jaerim CHOI\": \"male\",          # Korean \"Jae-rim\" (재림) male\n",
    "    \"Chuan HE\": \"male\",             # \"Chuan\" (川, river) male\n",
    "    \"Chenghao HU\": \"male\",          # \"Hao\" (豪, heroic) male\n",
    "    \"Chi-Yuan TSAI\": \"male\",        # \"Yuan\" (元, origin) male\n",
    "    \"Yujung SUH\": \"female\",         # Korean \"Yu-jung\" (유정) female\n",
    "    \"Qi HAN\": \"female\",             # \"Qi\" (琪, fine jade) female\n",
    "    \"Jiwon LEE\": \"female\",          # Korean \"Ji-won\" (지원) often female\n",
    "    \"Yingxue LI\": \"female\",         # \"Ying\" (莹, lustrous) female\n",
    "    \"Zhe YANG\": \"male\",             # \"Zhe\" (哲, philosophy) male\n",
    "    \"Lijuan YIN\": \"female\",         # \"Juan\" (娟, graceful) female\n",
    "    \"Jongkwan LEE\": \"male\",         # Korean \"Jong-kwan\" (종관) male\n",
    "    \"Seungduck LEE\": \"male\",        # Korean \"Seung\" (승) male\n",
    "    \"Tao LIU\": \"male\",              # \"Tao\" (涛, wave) male\n",
    "    \"Jae Wook JUNG\": \"male\",        # Korean \"Jae-wook\" (재욱) male\n",
    "    \"Ji Hyun PARK\": \"female\",       # Korean \"Ji-hyun\" (지현) female\n",
    "    \"Na'ama SHENHAV\": \"female\",     # Hebrew \"Na'ama\" female\n",
    "    \"Wenjun MA\": \"male\",            # \"Wenjun\" (文君, scholarly) male\n",
    "    \"Angsoka PAUNDRALINGGA\": \"female\",  # Indonesian \"Angsoka\" (flower) female\n",
    "    \"Kyunghun KIM\": \"male\",         # Korean \"Kyung-hun\" (경훈) male\n",
    "    \"Xiaohan ZHANG\": \"male\",        # \"Xiao\" (晓, dawn) male-leaning\n",
    "    \"Hang-Wei HAO\": \"male\",         # \"Wei\" (伟, greatness) male\n",
    "    \"Kuk Mo JUNG\": \"male\",          # Korean \"Kuk-mo\" (국모) male\n",
    "    \"Guojun WANG\": \"male\",          # \"Guojun\" (国军, national army) male\n",
    "    \"Chi-Hung LIAO\": \"male\",        # \"Hung\" (宏, vast) male\n",
    "    \"Yu HAO\": \"male\",               # \"Hao\" (豪, heroic) male\n",
    "    \"Yoon-Kyung CHUNG\": \"female\",   # Korean \"Yoon-kyung\" (윤경) female\n",
    "    \"Hyung Suk KIM\": \"male\",        # Korean \"Hyung-suk\" (형석) male\n",
    "    \"Ankur PATEL\": \"male\",          # Indian \"Ankur\" (अंकुर) male\n",
    "    \"Shaofeng XU\": \"male\",          # \"Feng\" (峰, peak) male\n",
    "    \"Teny MAGHAKIAN\": \"male\",       # Armenian \"Teny\" male\n",
    "    \"Ju Hyun PYUN\": \"female\",       # Korean \"Ju-hyun\" (주현) female\n",
    "    \"Rebbecca REED-ARTHURS\": \"female\",  # Western female\n",
    "    \"Liugang SHENG\": \"male\",        # \"Gang\" (刚, strong) male\n",
    "    \"Abhijit TALATHI\": \"male\",      # Indian \"Abhijit\" (अभिजित्) male\n",
    "    \"Yi CHEN\": \"male\",              # \"Yi\" (毅, resolute) male\n",
    "    \"Chia-Wen CHEN\": \"male\",        # \"Wen\" (文, literature) male\n",
    "    \"Changho CHOI\": \"male\",         # Korean \"Chang-ho\" (창호) male\n",
    "    \"Zhiyuan LI\": \"male\",           # \"Zhiyuan\" (志远, ambitious) male\n",
    "    \"Weijun HU\": \"male\",            # \"Wei\" (伟, greatness) male\n",
    "    \"Meixin GUO\": \"female\",         # \"Mei\" (美, beautiful) female\n",
    "    \"Ling FENG\": \"female\",          # \"Ling\" (玲, jade sound) female\n",
    "    \"Yanping CHONG\": \"female\",      # \"Yan\" (艳, gorgeous) female\n",
    "    \"Shih-Wei CHAO\": \"male\",        # \"Wei\" (伟, greatness) male\n",
    "    \"Sun Go\": \"male\",               # Korean \"Sun-go\" (선고) male\n",
    "    \"Hong Ma\": \"male\",              # \"Hong\" (洪, flood) male\n",
    "    \"Yuan Xu\": \"male\",              # \"Yuan\" (元, origin) male\n",
    "    \"Chang Seon LEE\": \"male\",       # Korean \"Chang-seon\" (창선) male\n",
    "    \"Seungjoon LEE\": \"male\",        # Korean \"Seung-joon\" (승준) male\n",
    "    \"Chun WANG\": \"female\",          # \"Chun\" (春, spring) female-leaning\n",
    "    \"DaeHwan KIM\": \"male\",          # Korean \"Dae-hwan\" (대환) male\n",
    "    \"Ching-Yi LIN\": \"female\",       # \"Yi\" (怡, joy) female\n",
    "    \"Kyungwon RHO\": \"male\",         # Korean \"Kyung-won\" (경원) male\n",
    "    \"Yingying XU\": \"female\",        # Reduplicated \"Ying\" (莹) female\n",
    "    \"Sunhwa LEE\": \"female\",         # Korean \"Sun-hwa\" (선화) female\n",
    "    \"Piyachart PHIROMSWAD\": \"male\", # Thai \"Piyachart\" male\n",
    "    \"Jing TONG\": \"female\",          # \"Jing\" (静, calm) female\n",
    "    \"Huiran PAN\": \"female\",         # \"Hui\" (慧, wise) female\n",
    "    \"Wei-Min HU\": \"male\",           # \"Wei\" (伟, greatness) male\n",
    "    \"Sung Ju SONG\": \"male\",         # Korean \"Sung-ju\" (성주) male\n",
    "    \"Huiya (Grace) CHEN\": \"female\", # \"Hui\" (慧, wise) female\n",
    "    \"Uluc AYSUN\": \"male\",           # Turkish \"Uluç\" male\n",
    "    \"Chunchih CHEN\": \"male\",        # \"Chih\" (志, ambition) male\n",
    "    \"Chang HONG\": \"male\",           # \"Chang\" (昌, prosperous) male\n",
    "    \"Ysbrand VAN DER WERF\": \"male\", # Dutch \"Ysbrand\" male\n",
    "    \"Hyung-Cheol SHIN\": \"male\",     # Korean \"Hyung-cheol\" (형철) male\n",
    "    \"Kyuil CHUNG\": \"male\",          # Korean \"Kyu-il\" (규일) male\n",
    "    \"Miaojie YU\": \"female\",         # \"Miao\" (妙, wonderful) female\n",
    "    \"Hai Yan DENG\": \"female\",       # \"Yan\" (燕, swallow) female\n",
    "    \"Dae-Wook KIM\": \"male\",         # Korean \"Dae-wook\" (대욱) male\n",
    "    \"Seung-Cheol JEON\": \"male\",     # Korean \"Seung-cheol\" (승철) male\n",
    "    \"Ping-Hsuan (Loretta) FUNG\": \"female\",  # \"Ping-Hsuan\" + Loretta (female)\n",
    "    \"Songhua LIN\": \"male\",          # \"Hua\" (华, splendor) male-leaning\n",
    "    \"Karou NABESHIMA\": \"male\",      # Japanese \"Karou\" (カロウ) male\n",
    "    \"Inho CHUNG\": \"male\",           # Korean \"In-ho\" (인호) male\n",
    "    \"Hiau-Looi ('Kee') KEE\": \"male\",  # Chinese \"Looi\" male\n",
    "    \"Dominique Araya Vergara\": \"female\",  # Contextually female (common usage)\n",
    "    \"Jean-Felix Brouillette\": \"male\",  # French male\n",
    "    \"Suhani Jalota\": \"female\",      # Indian \"Suhani\" (सुहानी) female\n",
    "    \"Ziao Ju\": \"male\",              # Contextually male (phonetic cues)\n",
    "    \"Xinyao Qiu\": \"female\",         # \"Xinyao\" (欣瑶, joyful jade) female\n",
    "    \"Zhaonan Qu\": \"male\",           # \"Nan\" (男, male) explicit marker\n",
    "    \"Xuejie Yi\": \"female\",          # \"Xue\" (雪, snow) female\n",
    "    \"Chuan Yu\": \"male\",             # \"Chuan\" (川, river) male\n",
    "    \"Subhadip Chattopadhyay\": \"male\",\n",
    "    \"Hiau-Looi ('Kee') KEE\": \"female\"\n",
    "}\n",
    "\n"
   ]
  },
  {
   "cell_type": "code",
   "execution_count": 188,
   "id": "33599f66",
   "metadata": {},
   "outputs": [
    {
     "data": {
      "text/html": [
       "<div>\n",
       "<style scoped>\n",
       "    .dataframe tbody tr th:only-of-type {\n",
       "        vertical-align: middle;\n",
       "    }\n",
       "\n",
       "    .dataframe tbody tr th {\n",
       "        vertical-align: top;\n",
       "    }\n",
       "\n",
       "    .dataframe thead th {\n",
       "        text-align: right;\n",
       "    }\n",
       "</style>\n",
       "<table border=\"1\" class=\"dataframe\">\n",
       "  <thead>\n",
       "    <tr style=\"text-align: right;\">\n",
       "      <th></th>\n",
       "      <th>name</th>\n",
       "      <th>university</th>\n",
       "      <th>year</th>\n",
       "      <th>field</th>\n",
       "      <th>placement</th>\n",
       "      <th>research_fields</th>\n",
       "      <th>academic</th>\n",
       "      <th>private_company</th>\n",
       "      <th>government</th>\n",
       "      <th>gender_guess</th>\n",
       "      <th>gender</th>\n",
       "    </tr>\n",
       "  </thead>\n",
       "  <tbody>\n",
       "  </tbody>\n",
       "</table>\n",
       "</div>"
      ],
      "text/plain": [
       "Empty DataFrame\n",
       "Columns: [name, university, year, field, placement, research_fields, academic, private_company, government, gender_guess, gender]\n",
       "Index: []"
      ]
     },
     "execution_count": 188,
     "metadata": {},
     "output_type": "execute_result"
    }
   ],
   "source": [
    "placement_df['gender'] = placement_df['gender_guess']\n",
    "\n",
    "# Update gender based on the classification dictionary\n",
    "for name, gender in gender_classification.items():\n",
    "    placement_df.loc[placement_df['name'] == name, 'gender'] = gender\n",
    "\n",
    "# Update specific indices based on known gender information\n",
    "placement_df.loc[120, 'gender'] = 'male'\n",
    "placement_df.loc[250, 'gender'] = 'female'\n",
    "placement_df[placement_df['gender'] == 'unknown']\n",
    "\n"
   ]
  },
  {
   "cell_type": "code",
   "execution_count": 189,
   "id": "a911450e",
   "metadata": {},
   "outputs": [],
   "source": [
    "placement_df.to_csv('analyzed_data/placement_df.csv')"
   ]
  },
  {
   "cell_type": "markdown",
   "id": "f92ca313",
   "metadata": {},
   "source": [
    "## Data Analysis"
   ]
  },
  {
   "cell_type": "code",
   "execution_count": 9,
   "id": "7127d1ae",
   "metadata": {},
   "outputs": [],
   "source": [
    "import os\n",
    "import pandas as pd\n",
    "from bs4 import BeautifulSoup\n",
    "import re\n",
    "import numpy as np"
   ]
  },
  {
   "cell_type": "code",
   "execution_count": 10,
   "id": "58a59b2a",
   "metadata": {},
   "outputs": [],
   "source": [
    "#Check point, load the data from here\n",
    "placement_df = pd.read_csv('../data/analyzed_data/placement_df.csv')\n",
    "candidate_df = pd.read_csv('../data/analyzed_data/candidate_df.csv')"
   ]
  },
  {
   "cell_type": "markdown",
   "id": "717c2c7a",
   "metadata": {},
   "source": [
    "### 1. Trend of number of candidates\n",
    "\n"
   ]
  },
  {
   "cell_type": "code",
   "execution_count": 13,
   "id": "ec9e775c",
   "metadata": {},
   "outputs": [
    {
     "data": {
      "application/vnd.plotly.v1+json": {
       "config": {
        "plotlyServerURL": "https://plot.ly"
       },
       "data": [
        {
         "hovertemplate": "Year=%{x}<br>Number of Candidates=%{y}<extra></extra>",
         "legendgroup": "",
         "line": {
          "color": "#636efa",
          "dash": "solid"
         },
         "marker": {
          "symbol": "circle"
         },
         "mode": "lines",
         "name": "",
         "orientation": "v",
         "showlegend": false,
         "type": "scatter",
         "x": [
          1999,
          2000,
          2001,
          2002,
          2003,
          2004,
          2005,
          2006,
          2007,
          2008,
          2009,
          2010,
          2011,
          2012,
          2013,
          2014,
          2015,
          2016,
          2017,
          2018,
          2019,
          2020,
          2021,
          2022,
          2023,
          2024
         ],
         "xaxis": "x",
         "y": [
          26,
          10,
          11,
          13,
          12,
          12,
          16,
          17,
          14,
          18,
          17,
          15,
          24,
          25,
          17,
          17,
          25,
          44,
          34,
          40,
          37,
          29,
          38,
          34,
          43,
          45
         ],
         "yaxis": "y"
        }
       ],
       "layout": {
        "legend": {
         "tracegroupgap": 0
        },
        "template": {
         "data": {
          "bar": [
           {
            "error_x": {
             "color": "#2a3f5f"
            },
            "error_y": {
             "color": "#2a3f5f"
            },
            "marker": {
             "line": {
              "color": "#E5ECF6",
              "width": 0.5
             },
             "pattern": {
              "fillmode": "overlay",
              "size": 10,
              "solidity": 0.2
             }
            },
            "type": "bar"
           }
          ],
          "barpolar": [
           {
            "marker": {
             "line": {
              "color": "#E5ECF6",
              "width": 0.5
             },
             "pattern": {
              "fillmode": "overlay",
              "size": 10,
              "solidity": 0.2
             }
            },
            "type": "barpolar"
           }
          ],
          "carpet": [
           {
            "aaxis": {
             "endlinecolor": "#2a3f5f",
             "gridcolor": "white",
             "linecolor": "white",
             "minorgridcolor": "white",
             "startlinecolor": "#2a3f5f"
            },
            "baxis": {
             "endlinecolor": "#2a3f5f",
             "gridcolor": "white",
             "linecolor": "white",
             "minorgridcolor": "white",
             "startlinecolor": "#2a3f5f"
            },
            "type": "carpet"
           }
          ],
          "choropleth": [
           {
            "colorbar": {
             "outlinewidth": 0,
             "ticks": ""
            },
            "type": "choropleth"
           }
          ],
          "contour": [
           {
            "colorbar": {
             "outlinewidth": 0,
             "ticks": ""
            },
            "colorscale": [
             [
              0,
              "#0d0887"
             ],
             [
              0.1111111111111111,
              "#46039f"
             ],
             [
              0.2222222222222222,
              "#7201a8"
             ],
             [
              0.3333333333333333,
              "#9c179e"
             ],
             [
              0.4444444444444444,
              "#bd3786"
             ],
             [
              0.5555555555555556,
              "#d8576b"
             ],
             [
              0.6666666666666666,
              "#ed7953"
             ],
             [
              0.7777777777777778,
              "#fb9f3a"
             ],
             [
              0.8888888888888888,
              "#fdca26"
             ],
             [
              1,
              "#f0f921"
             ]
            ],
            "type": "contour"
           }
          ],
          "contourcarpet": [
           {
            "colorbar": {
             "outlinewidth": 0,
             "ticks": ""
            },
            "type": "contourcarpet"
           }
          ],
          "heatmap": [
           {
            "colorbar": {
             "outlinewidth": 0,
             "ticks": ""
            },
            "colorscale": [
             [
              0,
              "#0d0887"
             ],
             [
              0.1111111111111111,
              "#46039f"
             ],
             [
              0.2222222222222222,
              "#7201a8"
             ],
             [
              0.3333333333333333,
              "#9c179e"
             ],
             [
              0.4444444444444444,
              "#bd3786"
             ],
             [
              0.5555555555555556,
              "#d8576b"
             ],
             [
              0.6666666666666666,
              "#ed7953"
             ],
             [
              0.7777777777777778,
              "#fb9f3a"
             ],
             [
              0.8888888888888888,
              "#fdca26"
             ],
             [
              1,
              "#f0f921"
             ]
            ],
            "type": "heatmap"
           }
          ],
          "heatmapgl": [
           {
            "colorbar": {
             "outlinewidth": 0,
             "ticks": ""
            },
            "colorscale": [
             [
              0,
              "#0d0887"
             ],
             [
              0.1111111111111111,
              "#46039f"
             ],
             [
              0.2222222222222222,
              "#7201a8"
             ],
             [
              0.3333333333333333,
              "#9c179e"
             ],
             [
              0.4444444444444444,
              "#bd3786"
             ],
             [
              0.5555555555555556,
              "#d8576b"
             ],
             [
              0.6666666666666666,
              "#ed7953"
             ],
             [
              0.7777777777777778,
              "#fb9f3a"
             ],
             [
              0.8888888888888888,
              "#fdca26"
             ],
             [
              1,
              "#f0f921"
             ]
            ],
            "type": "heatmapgl"
           }
          ],
          "histogram": [
           {
            "marker": {
             "pattern": {
              "fillmode": "overlay",
              "size": 10,
              "solidity": 0.2
             }
            },
            "type": "histogram"
           }
          ],
          "histogram2d": [
           {
            "colorbar": {
             "outlinewidth": 0,
             "ticks": ""
            },
            "colorscale": [
             [
              0,
              "#0d0887"
             ],
             [
              0.1111111111111111,
              "#46039f"
             ],
             [
              0.2222222222222222,
              "#7201a8"
             ],
             [
              0.3333333333333333,
              "#9c179e"
             ],
             [
              0.4444444444444444,
              "#bd3786"
             ],
             [
              0.5555555555555556,
              "#d8576b"
             ],
             [
              0.6666666666666666,
              "#ed7953"
             ],
             [
              0.7777777777777778,
              "#fb9f3a"
             ],
             [
              0.8888888888888888,
              "#fdca26"
             ],
             [
              1,
              "#f0f921"
             ]
            ],
            "type": "histogram2d"
           }
          ],
          "histogram2dcontour": [
           {
            "colorbar": {
             "outlinewidth": 0,
             "ticks": ""
            },
            "colorscale": [
             [
              0,
              "#0d0887"
             ],
             [
              0.1111111111111111,
              "#46039f"
             ],
             [
              0.2222222222222222,
              "#7201a8"
             ],
             [
              0.3333333333333333,
              "#9c179e"
             ],
             [
              0.4444444444444444,
              "#bd3786"
             ],
             [
              0.5555555555555556,
              "#d8576b"
             ],
             [
              0.6666666666666666,
              "#ed7953"
             ],
             [
              0.7777777777777778,
              "#fb9f3a"
             ],
             [
              0.8888888888888888,
              "#fdca26"
             ],
             [
              1,
              "#f0f921"
             ]
            ],
            "type": "histogram2dcontour"
           }
          ],
          "mesh3d": [
           {
            "colorbar": {
             "outlinewidth": 0,
             "ticks": ""
            },
            "type": "mesh3d"
           }
          ],
          "parcoords": [
           {
            "line": {
             "colorbar": {
              "outlinewidth": 0,
              "ticks": ""
             }
            },
            "type": "parcoords"
           }
          ],
          "pie": [
           {
            "automargin": true,
            "type": "pie"
           }
          ],
          "scatter": [
           {
            "fillpattern": {
             "fillmode": "overlay",
             "size": 10,
             "solidity": 0.2
            },
            "type": "scatter"
           }
          ],
          "scatter3d": [
           {
            "line": {
             "colorbar": {
              "outlinewidth": 0,
              "ticks": ""
             }
            },
            "marker": {
             "colorbar": {
              "outlinewidth": 0,
              "ticks": ""
             }
            },
            "type": "scatter3d"
           }
          ],
          "scattercarpet": [
           {
            "marker": {
             "colorbar": {
              "outlinewidth": 0,
              "ticks": ""
             }
            },
            "type": "scattercarpet"
           }
          ],
          "scattergeo": [
           {
            "marker": {
             "colorbar": {
              "outlinewidth": 0,
              "ticks": ""
             }
            },
            "type": "scattergeo"
           }
          ],
          "scattergl": [
           {
            "marker": {
             "colorbar": {
              "outlinewidth": 0,
              "ticks": ""
             }
            },
            "type": "scattergl"
           }
          ],
          "scattermapbox": [
           {
            "marker": {
             "colorbar": {
              "outlinewidth": 0,
              "ticks": ""
             }
            },
            "type": "scattermapbox"
           }
          ],
          "scatterpolar": [
           {
            "marker": {
             "colorbar": {
              "outlinewidth": 0,
              "ticks": ""
             }
            },
            "type": "scatterpolar"
           }
          ],
          "scatterpolargl": [
           {
            "marker": {
             "colorbar": {
              "outlinewidth": 0,
              "ticks": ""
             }
            },
            "type": "scatterpolargl"
           }
          ],
          "scatterternary": [
           {
            "marker": {
             "colorbar": {
              "outlinewidth": 0,
              "ticks": ""
             }
            },
            "type": "scatterternary"
           }
          ],
          "surface": [
           {
            "colorbar": {
             "outlinewidth": 0,
             "ticks": ""
            },
            "colorscale": [
             [
              0,
              "#0d0887"
             ],
             [
              0.1111111111111111,
              "#46039f"
             ],
             [
              0.2222222222222222,
              "#7201a8"
             ],
             [
              0.3333333333333333,
              "#9c179e"
             ],
             [
              0.4444444444444444,
              "#bd3786"
             ],
             [
              0.5555555555555556,
              "#d8576b"
             ],
             [
              0.6666666666666666,
              "#ed7953"
             ],
             [
              0.7777777777777778,
              "#fb9f3a"
             ],
             [
              0.8888888888888888,
              "#fdca26"
             ],
             [
              1,
              "#f0f921"
             ]
            ],
            "type": "surface"
           }
          ],
          "table": [
           {
            "cells": {
             "fill": {
              "color": "#EBF0F8"
             },
             "line": {
              "color": "white"
             }
            },
            "header": {
             "fill": {
              "color": "#C8D4E3"
             },
             "line": {
              "color": "white"
             }
            },
            "type": "table"
           }
          ]
         },
         "layout": {
          "annotationdefaults": {
           "arrowcolor": "#2a3f5f",
           "arrowhead": 0,
           "arrowwidth": 1
          },
          "autotypenumbers": "strict",
          "coloraxis": {
           "colorbar": {
            "outlinewidth": 0,
            "ticks": ""
           }
          },
          "colorscale": {
           "diverging": [
            [
             0,
             "#8e0152"
            ],
            [
             0.1,
             "#c51b7d"
            ],
            [
             0.2,
             "#de77ae"
            ],
            [
             0.3,
             "#f1b6da"
            ],
            [
             0.4,
             "#fde0ef"
            ],
            [
             0.5,
             "#f7f7f7"
            ],
            [
             0.6,
             "#e6f5d0"
            ],
            [
             0.7,
             "#b8e186"
            ],
            [
             0.8,
             "#7fbc41"
            ],
            [
             0.9,
             "#4d9221"
            ],
            [
             1,
             "#276419"
            ]
           ],
           "sequential": [
            [
             0,
             "#0d0887"
            ],
            [
             0.1111111111111111,
             "#46039f"
            ],
            [
             0.2222222222222222,
             "#7201a8"
            ],
            [
             0.3333333333333333,
             "#9c179e"
            ],
            [
             0.4444444444444444,
             "#bd3786"
            ],
            [
             0.5555555555555556,
             "#d8576b"
            ],
            [
             0.6666666666666666,
             "#ed7953"
            ],
            [
             0.7777777777777778,
             "#fb9f3a"
            ],
            [
             0.8888888888888888,
             "#fdca26"
            ],
            [
             1,
             "#f0f921"
            ]
           ],
           "sequentialminus": [
            [
             0,
             "#0d0887"
            ],
            [
             0.1111111111111111,
             "#46039f"
            ],
            [
             0.2222222222222222,
             "#7201a8"
            ],
            [
             0.3333333333333333,
             "#9c179e"
            ],
            [
             0.4444444444444444,
             "#bd3786"
            ],
            [
             0.5555555555555556,
             "#d8576b"
            ],
            [
             0.6666666666666666,
             "#ed7953"
            ],
            [
             0.7777777777777778,
             "#fb9f3a"
            ],
            [
             0.8888888888888888,
             "#fdca26"
            ],
            [
             1,
             "#f0f921"
            ]
           ]
          },
          "colorway": [
           "#636efa",
           "#EF553B",
           "#00cc96",
           "#ab63fa",
           "#FFA15A",
           "#19d3f3",
           "#FF6692",
           "#B6E880",
           "#FF97FF",
           "#FECB52"
          ],
          "font": {
           "color": "#2a3f5f"
          },
          "geo": {
           "bgcolor": "white",
           "lakecolor": "white",
           "landcolor": "#E5ECF6",
           "showlakes": true,
           "showland": true,
           "subunitcolor": "white"
          },
          "hoverlabel": {
           "align": "left"
          },
          "hovermode": "closest",
          "mapbox": {
           "style": "light"
          },
          "paper_bgcolor": "white",
          "plot_bgcolor": "#E5ECF6",
          "polar": {
           "angularaxis": {
            "gridcolor": "white",
            "linecolor": "white",
            "ticks": ""
           },
           "bgcolor": "#E5ECF6",
           "radialaxis": {
            "gridcolor": "white",
            "linecolor": "white",
            "ticks": ""
           }
          },
          "scene": {
           "xaxis": {
            "backgroundcolor": "#E5ECF6",
            "gridcolor": "white",
            "gridwidth": 2,
            "linecolor": "white",
            "showbackground": true,
            "ticks": "",
            "zerolinecolor": "white"
           },
           "yaxis": {
            "backgroundcolor": "#E5ECF6",
            "gridcolor": "white",
            "gridwidth": 2,
            "linecolor": "white",
            "showbackground": true,
            "ticks": "",
            "zerolinecolor": "white"
           },
           "zaxis": {
            "backgroundcolor": "#E5ECF6",
            "gridcolor": "white",
            "gridwidth": 2,
            "linecolor": "white",
            "showbackground": true,
            "ticks": "",
            "zerolinecolor": "white"
           }
          },
          "shapedefaults": {
           "line": {
            "color": "#2a3f5f"
           }
          },
          "ternary": {
           "aaxis": {
            "gridcolor": "white",
            "linecolor": "white",
            "ticks": ""
           },
           "baxis": {
            "gridcolor": "white",
            "linecolor": "white",
            "ticks": ""
           },
           "bgcolor": "#E5ECF6",
           "caxis": {
            "gridcolor": "white",
            "linecolor": "white",
            "ticks": ""
           }
          },
          "title": {
           "x": 0.05
          },
          "xaxis": {
           "automargin": true,
           "gridcolor": "white",
           "linecolor": "white",
           "ticks": "",
           "title": {
            "standoff": 15
           },
           "zerolinecolor": "white",
           "zerolinewidth": 2
          },
          "yaxis": {
           "automargin": true,
           "gridcolor": "white",
           "linecolor": "white",
           "ticks": "",
           "title": {
            "standoff": 15
           },
           "zerolinecolor": "white",
           "zerolinewidth": 2
          }
         }
        },
        "title": {
         "text": "Trend of Number of Candidates"
        },
        "xaxis": {
         "anchor": "y",
         "domain": [
          0,
          1
         ],
         "title": {
          "text": "Year"
         }
        },
        "yaxis": {
         "anchor": "x",
         "domain": [
          0,
          1
         ],
         "title": {
          "text": "Number of Candidates"
         }
        }
       }
      }
     },
     "metadata": {},
     "output_type": "display_data"
    }
   ],
   "source": [
    "import plotly.express as px\n",
    "import plotly.io as pio\n",
    "\n",
    "# Group the data by year and count the number of candidates\n",
    "yearly_counts = placement_df[placement_df['year'] != 2025].groupby('year').size().reset_index(name='count')\n",
    "\n",
    "# Create a line plot using Plotly\n",
    "fig = px.line(yearly_counts, x='year', y='count', title='Trend of Number of Candidates', labels={'year': 'Year', 'count': 'Number of Candidates'})\n",
    "\n",
    "# Save the plot as an HTML file\n",
    "pio.write_html(fig, file='../output/candidates_trend.html')\n",
    "\n",
    "# Display the plot in notebook\n",
    "fig.show()"
   ]
  },
  {
   "cell_type": "markdown",
   "id": "b42255e8",
   "metadata": {},
   "source": [
    "### 2. Trend by Placement Type"
   ]
  },
  {
   "cell_type": "code",
   "execution_count": 15,
   "id": "f6649b81",
   "metadata": {},
   "outputs": [
    {
     "data": {
      "application/vnd.plotly.v1+json": {
       "config": {
        "plotlyServerURL": "https://plot.ly"
       },
       "data": [
        {
         "alignmentgroup": "True",
         "hovertemplate": "Year=%{x}<br>Number of Academic Placements=%{y}<extra></extra>",
         "legendgroup": "",
         "marker": {
          "color": "#1f77b4",
          "pattern": {
           "shape": ""
          }
         },
         "name": "",
         "offsetgroup": "",
         "orientation": "v",
         "showlegend": false,
         "textposition": "auto",
         "type": "bar",
         "x": [
          1999,
          2000,
          2001,
          2002,
          2003,
          2004,
          2005,
          2006,
          2007,
          2008,
          2009,
          2010,
          2011,
          2012,
          2013,
          2014,
          2015,
          2016,
          2017,
          2018,
          2019,
          2020,
          2021,
          2022,
          2023,
          2024
         ],
         "xaxis": "x",
         "y": [
          20,
          7,
          7,
          10,
          9,
          8,
          10,
          13,
          9,
          13,
          14,
          8,
          14,
          11,
          16,
          13,
          11,
          34,
          24,
          29,
          23,
          12,
          19,
          22,
          25,
          23
         ],
         "yaxis": "y"
        }
       ],
       "layout": {
        "barmode": "relative",
        "legend": {
         "tracegroupgap": 0
        },
        "template": {
         "data": {
          "bar": [
           {
            "error_x": {
             "color": "#2a3f5f"
            },
            "error_y": {
             "color": "#2a3f5f"
            },
            "marker": {
             "line": {
              "color": "white",
              "width": 0.5
             },
             "pattern": {
              "fillmode": "overlay",
              "size": 10,
              "solidity": 0.2
             }
            },
            "type": "bar"
           }
          ],
          "barpolar": [
           {
            "marker": {
             "line": {
              "color": "white",
              "width": 0.5
             },
             "pattern": {
              "fillmode": "overlay",
              "size": 10,
              "solidity": 0.2
             }
            },
            "type": "barpolar"
           }
          ],
          "carpet": [
           {
            "aaxis": {
             "endlinecolor": "#2a3f5f",
             "gridcolor": "#C8D4E3",
             "linecolor": "#C8D4E3",
             "minorgridcolor": "#C8D4E3",
             "startlinecolor": "#2a3f5f"
            },
            "baxis": {
             "endlinecolor": "#2a3f5f",
             "gridcolor": "#C8D4E3",
             "linecolor": "#C8D4E3",
             "minorgridcolor": "#C8D4E3",
             "startlinecolor": "#2a3f5f"
            },
            "type": "carpet"
           }
          ],
          "choropleth": [
           {
            "colorbar": {
             "outlinewidth": 0,
             "ticks": ""
            },
            "type": "choropleth"
           }
          ],
          "contour": [
           {
            "colorbar": {
             "outlinewidth": 0,
             "ticks": ""
            },
            "colorscale": [
             [
              0,
              "#0d0887"
             ],
             [
              0.1111111111111111,
              "#46039f"
             ],
             [
              0.2222222222222222,
              "#7201a8"
             ],
             [
              0.3333333333333333,
              "#9c179e"
             ],
             [
              0.4444444444444444,
              "#bd3786"
             ],
             [
              0.5555555555555556,
              "#d8576b"
             ],
             [
              0.6666666666666666,
              "#ed7953"
             ],
             [
              0.7777777777777778,
              "#fb9f3a"
             ],
             [
              0.8888888888888888,
              "#fdca26"
             ],
             [
              1,
              "#f0f921"
             ]
            ],
            "type": "contour"
           }
          ],
          "contourcarpet": [
           {
            "colorbar": {
             "outlinewidth": 0,
             "ticks": ""
            },
            "type": "contourcarpet"
           }
          ],
          "heatmap": [
           {
            "colorbar": {
             "outlinewidth": 0,
             "ticks": ""
            },
            "colorscale": [
             [
              0,
              "#0d0887"
             ],
             [
              0.1111111111111111,
              "#46039f"
             ],
             [
              0.2222222222222222,
              "#7201a8"
             ],
             [
              0.3333333333333333,
              "#9c179e"
             ],
             [
              0.4444444444444444,
              "#bd3786"
             ],
             [
              0.5555555555555556,
              "#d8576b"
             ],
             [
              0.6666666666666666,
              "#ed7953"
             ],
             [
              0.7777777777777778,
              "#fb9f3a"
             ],
             [
              0.8888888888888888,
              "#fdca26"
             ],
             [
              1,
              "#f0f921"
             ]
            ],
            "type": "heatmap"
           }
          ],
          "heatmapgl": [
           {
            "colorbar": {
             "outlinewidth": 0,
             "ticks": ""
            },
            "colorscale": [
             [
              0,
              "#0d0887"
             ],
             [
              0.1111111111111111,
              "#46039f"
             ],
             [
              0.2222222222222222,
              "#7201a8"
             ],
             [
              0.3333333333333333,
              "#9c179e"
             ],
             [
              0.4444444444444444,
              "#bd3786"
             ],
             [
              0.5555555555555556,
              "#d8576b"
             ],
             [
              0.6666666666666666,
              "#ed7953"
             ],
             [
              0.7777777777777778,
              "#fb9f3a"
             ],
             [
              0.8888888888888888,
              "#fdca26"
             ],
             [
              1,
              "#f0f921"
             ]
            ],
            "type": "heatmapgl"
           }
          ],
          "histogram": [
           {
            "marker": {
             "pattern": {
              "fillmode": "overlay",
              "size": 10,
              "solidity": 0.2
             }
            },
            "type": "histogram"
           }
          ],
          "histogram2d": [
           {
            "colorbar": {
             "outlinewidth": 0,
             "ticks": ""
            },
            "colorscale": [
             [
              0,
              "#0d0887"
             ],
             [
              0.1111111111111111,
              "#46039f"
             ],
             [
              0.2222222222222222,
              "#7201a8"
             ],
             [
              0.3333333333333333,
              "#9c179e"
             ],
             [
              0.4444444444444444,
              "#bd3786"
             ],
             [
              0.5555555555555556,
              "#d8576b"
             ],
             [
              0.6666666666666666,
              "#ed7953"
             ],
             [
              0.7777777777777778,
              "#fb9f3a"
             ],
             [
              0.8888888888888888,
              "#fdca26"
             ],
             [
              1,
              "#f0f921"
             ]
            ],
            "type": "histogram2d"
           }
          ],
          "histogram2dcontour": [
           {
            "colorbar": {
             "outlinewidth": 0,
             "ticks": ""
            },
            "colorscale": [
             [
              0,
              "#0d0887"
             ],
             [
              0.1111111111111111,
              "#46039f"
             ],
             [
              0.2222222222222222,
              "#7201a8"
             ],
             [
              0.3333333333333333,
              "#9c179e"
             ],
             [
              0.4444444444444444,
              "#bd3786"
             ],
             [
              0.5555555555555556,
              "#d8576b"
             ],
             [
              0.6666666666666666,
              "#ed7953"
             ],
             [
              0.7777777777777778,
              "#fb9f3a"
             ],
             [
              0.8888888888888888,
              "#fdca26"
             ],
             [
              1,
              "#f0f921"
             ]
            ],
            "type": "histogram2dcontour"
           }
          ],
          "mesh3d": [
           {
            "colorbar": {
             "outlinewidth": 0,
             "ticks": ""
            },
            "type": "mesh3d"
           }
          ],
          "parcoords": [
           {
            "line": {
             "colorbar": {
              "outlinewidth": 0,
              "ticks": ""
             }
            },
            "type": "parcoords"
           }
          ],
          "pie": [
           {
            "automargin": true,
            "type": "pie"
           }
          ],
          "scatter": [
           {
            "fillpattern": {
             "fillmode": "overlay",
             "size": 10,
             "solidity": 0.2
            },
            "type": "scatter"
           }
          ],
          "scatter3d": [
           {
            "line": {
             "colorbar": {
              "outlinewidth": 0,
              "ticks": ""
             }
            },
            "marker": {
             "colorbar": {
              "outlinewidth": 0,
              "ticks": ""
             }
            },
            "type": "scatter3d"
           }
          ],
          "scattercarpet": [
           {
            "marker": {
             "colorbar": {
              "outlinewidth": 0,
              "ticks": ""
             }
            },
            "type": "scattercarpet"
           }
          ],
          "scattergeo": [
           {
            "marker": {
             "colorbar": {
              "outlinewidth": 0,
              "ticks": ""
             }
            },
            "type": "scattergeo"
           }
          ],
          "scattergl": [
           {
            "marker": {
             "colorbar": {
              "outlinewidth": 0,
              "ticks": ""
             }
            },
            "type": "scattergl"
           }
          ],
          "scattermapbox": [
           {
            "marker": {
             "colorbar": {
              "outlinewidth": 0,
              "ticks": ""
             }
            },
            "type": "scattermapbox"
           }
          ],
          "scatterpolar": [
           {
            "marker": {
             "colorbar": {
              "outlinewidth": 0,
              "ticks": ""
             }
            },
            "type": "scatterpolar"
           }
          ],
          "scatterpolargl": [
           {
            "marker": {
             "colorbar": {
              "outlinewidth": 0,
              "ticks": ""
             }
            },
            "type": "scatterpolargl"
           }
          ],
          "scatterternary": [
           {
            "marker": {
             "colorbar": {
              "outlinewidth": 0,
              "ticks": ""
             }
            },
            "type": "scatterternary"
           }
          ],
          "surface": [
           {
            "colorbar": {
             "outlinewidth": 0,
             "ticks": ""
            },
            "colorscale": [
             [
              0,
              "#0d0887"
             ],
             [
              0.1111111111111111,
              "#46039f"
             ],
             [
              0.2222222222222222,
              "#7201a8"
             ],
             [
              0.3333333333333333,
              "#9c179e"
             ],
             [
              0.4444444444444444,
              "#bd3786"
             ],
             [
              0.5555555555555556,
              "#d8576b"
             ],
             [
              0.6666666666666666,
              "#ed7953"
             ],
             [
              0.7777777777777778,
              "#fb9f3a"
             ],
             [
              0.8888888888888888,
              "#fdca26"
             ],
             [
              1,
              "#f0f921"
             ]
            ],
            "type": "surface"
           }
          ],
          "table": [
           {
            "cells": {
             "fill": {
              "color": "#EBF0F8"
             },
             "line": {
              "color": "white"
             }
            },
            "header": {
             "fill": {
              "color": "#C8D4E3"
             },
             "line": {
              "color": "white"
             }
            },
            "type": "table"
           }
          ]
         },
         "layout": {
          "annotationdefaults": {
           "arrowcolor": "#2a3f5f",
           "arrowhead": 0,
           "arrowwidth": 1
          },
          "autotypenumbers": "strict",
          "coloraxis": {
           "colorbar": {
            "outlinewidth": 0,
            "ticks": ""
           }
          },
          "colorscale": {
           "diverging": [
            [
             0,
             "#8e0152"
            ],
            [
             0.1,
             "#c51b7d"
            ],
            [
             0.2,
             "#de77ae"
            ],
            [
             0.3,
             "#f1b6da"
            ],
            [
             0.4,
             "#fde0ef"
            ],
            [
             0.5,
             "#f7f7f7"
            ],
            [
             0.6,
             "#e6f5d0"
            ],
            [
             0.7,
             "#b8e186"
            ],
            [
             0.8,
             "#7fbc41"
            ],
            [
             0.9,
             "#4d9221"
            ],
            [
             1,
             "#276419"
            ]
           ],
           "sequential": [
            [
             0,
             "#0d0887"
            ],
            [
             0.1111111111111111,
             "#46039f"
            ],
            [
             0.2222222222222222,
             "#7201a8"
            ],
            [
             0.3333333333333333,
             "#9c179e"
            ],
            [
             0.4444444444444444,
             "#bd3786"
            ],
            [
             0.5555555555555556,
             "#d8576b"
            ],
            [
             0.6666666666666666,
             "#ed7953"
            ],
            [
             0.7777777777777778,
             "#fb9f3a"
            ],
            [
             0.8888888888888888,
             "#fdca26"
            ],
            [
             1,
             "#f0f921"
            ]
           ],
           "sequentialminus": [
            [
             0,
             "#0d0887"
            ],
            [
             0.1111111111111111,
             "#46039f"
            ],
            [
             0.2222222222222222,
             "#7201a8"
            ],
            [
             0.3333333333333333,
             "#9c179e"
            ],
            [
             0.4444444444444444,
             "#bd3786"
            ],
            [
             0.5555555555555556,
             "#d8576b"
            ],
            [
             0.6666666666666666,
             "#ed7953"
            ],
            [
             0.7777777777777778,
             "#fb9f3a"
            ],
            [
             0.8888888888888888,
             "#fdca26"
            ],
            [
             1,
             "#f0f921"
            ]
           ]
          },
          "colorway": [
           "#636efa",
           "#EF553B",
           "#00cc96",
           "#ab63fa",
           "#FFA15A",
           "#19d3f3",
           "#FF6692",
           "#B6E880",
           "#FF97FF",
           "#FECB52"
          ],
          "font": {
           "color": "#2a3f5f"
          },
          "geo": {
           "bgcolor": "white",
           "lakecolor": "white",
           "landcolor": "white",
           "showlakes": true,
           "showland": true,
           "subunitcolor": "#C8D4E3"
          },
          "hoverlabel": {
           "align": "left"
          },
          "hovermode": "closest",
          "mapbox": {
           "style": "light"
          },
          "paper_bgcolor": "white",
          "plot_bgcolor": "white",
          "polar": {
           "angularaxis": {
            "gridcolor": "#EBF0F8",
            "linecolor": "#EBF0F8",
            "ticks": ""
           },
           "bgcolor": "white",
           "radialaxis": {
            "gridcolor": "#EBF0F8",
            "linecolor": "#EBF0F8",
            "ticks": ""
           }
          },
          "scene": {
           "xaxis": {
            "backgroundcolor": "white",
            "gridcolor": "#DFE8F3",
            "gridwidth": 2,
            "linecolor": "#EBF0F8",
            "showbackground": true,
            "ticks": "",
            "zerolinecolor": "#EBF0F8"
           },
           "yaxis": {
            "backgroundcolor": "white",
            "gridcolor": "#DFE8F3",
            "gridwidth": 2,
            "linecolor": "#EBF0F8",
            "showbackground": true,
            "ticks": "",
            "zerolinecolor": "#EBF0F8"
           },
           "zaxis": {
            "backgroundcolor": "white",
            "gridcolor": "#DFE8F3",
            "gridwidth": 2,
            "linecolor": "#EBF0F8",
            "showbackground": true,
            "ticks": "",
            "zerolinecolor": "#EBF0F8"
           }
          },
          "shapedefaults": {
           "line": {
            "color": "#2a3f5f"
           }
          },
          "ternary": {
           "aaxis": {
            "gridcolor": "#DFE8F3",
            "linecolor": "#A2B1C6",
            "ticks": ""
           },
           "baxis": {
            "gridcolor": "#DFE8F3",
            "linecolor": "#A2B1C6",
            "ticks": ""
           },
           "bgcolor": "white",
           "caxis": {
            "gridcolor": "#DFE8F3",
            "linecolor": "#A2B1C6",
            "ticks": ""
           }
          },
          "title": {
           "x": 0.05
          },
          "xaxis": {
           "automargin": true,
           "gridcolor": "#EBF0F8",
           "linecolor": "#EBF0F8",
           "ticks": "",
           "title": {
            "standoff": 15
           },
           "zerolinecolor": "#EBF0F8",
           "zerolinewidth": 2
          },
          "yaxis": {
           "automargin": true,
           "gridcolor": "#EBF0F8",
           "linecolor": "#EBF0F8",
           "ticks": "",
           "title": {
            "standoff": 15
           },
           "zerolinecolor": "#EBF0F8",
           "zerolinewidth": 2
          }
         }
        },
        "title": {
         "text": "Trend of Number of Academic Placements by Year"
        },
        "xaxis": {
         "anchor": "y",
         "domain": [
          0,
          1
         ],
         "title": {
          "text": "Year"
         }
        },
        "yaxis": {
         "anchor": "x",
         "domain": [
          0,
          1
         ],
         "title": {
          "text": "Number of Academic Placements"
         }
        }
       }
      }
     },
     "metadata": {},
     "output_type": "display_data"
    },
    {
     "data": {
      "application/vnd.plotly.v1+json": {
       "config": {
        "plotlyServerURL": "https://plot.ly"
       },
       "data": [
        {
         "alignmentgroup": "True",
         "hovertemplate": "Year=%{x}<br>Number of Private Company Placements=%{y}<extra></extra>",
         "legendgroup": "",
         "marker": {
          "color": "#ff7f0e",
          "pattern": {
           "shape": ""
          }
         },
         "name": "",
         "offsetgroup": "",
         "orientation": "v",
         "showlegend": false,
         "textposition": "auto",
         "type": "bar",
         "x": [
          1999,
          2000,
          2002,
          2003,
          2004,
          2005,
          2006,
          2007,
          2008,
          2009,
          2010,
          2011,
          2012,
          2013,
          2014,
          2015,
          2016,
          2017,
          2018,
          2019,
          2020,
          2021,
          2022,
          2023,
          2024,
          2025
         ],
         "xaxis": "x",
         "y": [
          3,
          1,
          1,
          1,
          2,
          4,
          2,
          3,
          2,
          2,
          3,
          9,
          6,
          3,
          3,
          3,
          7,
          7,
          6,
          6,
          6,
          10,
          7,
          9,
          11,
          1
         ],
         "yaxis": "y"
        }
       ],
       "layout": {
        "barmode": "relative",
        "legend": {
         "tracegroupgap": 0
        },
        "template": {
         "data": {
          "bar": [
           {
            "error_x": {
             "color": "#2a3f5f"
            },
            "error_y": {
             "color": "#2a3f5f"
            },
            "marker": {
             "line": {
              "color": "white",
              "width": 0.5
             },
             "pattern": {
              "fillmode": "overlay",
              "size": 10,
              "solidity": 0.2
             }
            },
            "type": "bar"
           }
          ],
          "barpolar": [
           {
            "marker": {
             "line": {
              "color": "white",
              "width": 0.5
             },
             "pattern": {
              "fillmode": "overlay",
              "size": 10,
              "solidity": 0.2
             }
            },
            "type": "barpolar"
           }
          ],
          "carpet": [
           {
            "aaxis": {
             "endlinecolor": "#2a3f5f",
             "gridcolor": "#C8D4E3",
             "linecolor": "#C8D4E3",
             "minorgridcolor": "#C8D4E3",
             "startlinecolor": "#2a3f5f"
            },
            "baxis": {
             "endlinecolor": "#2a3f5f",
             "gridcolor": "#C8D4E3",
             "linecolor": "#C8D4E3",
             "minorgridcolor": "#C8D4E3",
             "startlinecolor": "#2a3f5f"
            },
            "type": "carpet"
           }
          ],
          "choropleth": [
           {
            "colorbar": {
             "outlinewidth": 0,
             "ticks": ""
            },
            "type": "choropleth"
           }
          ],
          "contour": [
           {
            "colorbar": {
             "outlinewidth": 0,
             "ticks": ""
            },
            "colorscale": [
             [
              0,
              "#0d0887"
             ],
             [
              0.1111111111111111,
              "#46039f"
             ],
             [
              0.2222222222222222,
              "#7201a8"
             ],
             [
              0.3333333333333333,
              "#9c179e"
             ],
             [
              0.4444444444444444,
              "#bd3786"
             ],
             [
              0.5555555555555556,
              "#d8576b"
             ],
             [
              0.6666666666666666,
              "#ed7953"
             ],
             [
              0.7777777777777778,
              "#fb9f3a"
             ],
             [
              0.8888888888888888,
              "#fdca26"
             ],
             [
              1,
              "#f0f921"
             ]
            ],
            "type": "contour"
           }
          ],
          "contourcarpet": [
           {
            "colorbar": {
             "outlinewidth": 0,
             "ticks": ""
            },
            "type": "contourcarpet"
           }
          ],
          "heatmap": [
           {
            "colorbar": {
             "outlinewidth": 0,
             "ticks": ""
            },
            "colorscale": [
             [
              0,
              "#0d0887"
             ],
             [
              0.1111111111111111,
              "#46039f"
             ],
             [
              0.2222222222222222,
              "#7201a8"
             ],
             [
              0.3333333333333333,
              "#9c179e"
             ],
             [
              0.4444444444444444,
              "#bd3786"
             ],
             [
              0.5555555555555556,
              "#d8576b"
             ],
             [
              0.6666666666666666,
              "#ed7953"
             ],
             [
              0.7777777777777778,
              "#fb9f3a"
             ],
             [
              0.8888888888888888,
              "#fdca26"
             ],
             [
              1,
              "#f0f921"
             ]
            ],
            "type": "heatmap"
           }
          ],
          "heatmapgl": [
           {
            "colorbar": {
             "outlinewidth": 0,
             "ticks": ""
            },
            "colorscale": [
             [
              0,
              "#0d0887"
             ],
             [
              0.1111111111111111,
              "#46039f"
             ],
             [
              0.2222222222222222,
              "#7201a8"
             ],
             [
              0.3333333333333333,
              "#9c179e"
             ],
             [
              0.4444444444444444,
              "#bd3786"
             ],
             [
              0.5555555555555556,
              "#d8576b"
             ],
             [
              0.6666666666666666,
              "#ed7953"
             ],
             [
              0.7777777777777778,
              "#fb9f3a"
             ],
             [
              0.8888888888888888,
              "#fdca26"
             ],
             [
              1,
              "#f0f921"
             ]
            ],
            "type": "heatmapgl"
           }
          ],
          "histogram": [
           {
            "marker": {
             "pattern": {
              "fillmode": "overlay",
              "size": 10,
              "solidity": 0.2
             }
            },
            "type": "histogram"
           }
          ],
          "histogram2d": [
           {
            "colorbar": {
             "outlinewidth": 0,
             "ticks": ""
            },
            "colorscale": [
             [
              0,
              "#0d0887"
             ],
             [
              0.1111111111111111,
              "#46039f"
             ],
             [
              0.2222222222222222,
              "#7201a8"
             ],
             [
              0.3333333333333333,
              "#9c179e"
             ],
             [
              0.4444444444444444,
              "#bd3786"
             ],
             [
              0.5555555555555556,
              "#d8576b"
             ],
             [
              0.6666666666666666,
              "#ed7953"
             ],
             [
              0.7777777777777778,
              "#fb9f3a"
             ],
             [
              0.8888888888888888,
              "#fdca26"
             ],
             [
              1,
              "#f0f921"
             ]
            ],
            "type": "histogram2d"
           }
          ],
          "histogram2dcontour": [
           {
            "colorbar": {
             "outlinewidth": 0,
             "ticks": ""
            },
            "colorscale": [
             [
              0,
              "#0d0887"
             ],
             [
              0.1111111111111111,
              "#46039f"
             ],
             [
              0.2222222222222222,
              "#7201a8"
             ],
             [
              0.3333333333333333,
              "#9c179e"
             ],
             [
              0.4444444444444444,
              "#bd3786"
             ],
             [
              0.5555555555555556,
              "#d8576b"
             ],
             [
              0.6666666666666666,
              "#ed7953"
             ],
             [
              0.7777777777777778,
              "#fb9f3a"
             ],
             [
              0.8888888888888888,
              "#fdca26"
             ],
             [
              1,
              "#f0f921"
             ]
            ],
            "type": "histogram2dcontour"
           }
          ],
          "mesh3d": [
           {
            "colorbar": {
             "outlinewidth": 0,
             "ticks": ""
            },
            "type": "mesh3d"
           }
          ],
          "parcoords": [
           {
            "line": {
             "colorbar": {
              "outlinewidth": 0,
              "ticks": ""
             }
            },
            "type": "parcoords"
           }
          ],
          "pie": [
           {
            "automargin": true,
            "type": "pie"
           }
          ],
          "scatter": [
           {
            "fillpattern": {
             "fillmode": "overlay",
             "size": 10,
             "solidity": 0.2
            },
            "type": "scatter"
           }
          ],
          "scatter3d": [
           {
            "line": {
             "colorbar": {
              "outlinewidth": 0,
              "ticks": ""
             }
            },
            "marker": {
             "colorbar": {
              "outlinewidth": 0,
              "ticks": ""
             }
            },
            "type": "scatter3d"
           }
          ],
          "scattercarpet": [
           {
            "marker": {
             "colorbar": {
              "outlinewidth": 0,
              "ticks": ""
             }
            },
            "type": "scattercarpet"
           }
          ],
          "scattergeo": [
           {
            "marker": {
             "colorbar": {
              "outlinewidth": 0,
              "ticks": ""
             }
            },
            "type": "scattergeo"
           }
          ],
          "scattergl": [
           {
            "marker": {
             "colorbar": {
              "outlinewidth": 0,
              "ticks": ""
             }
            },
            "type": "scattergl"
           }
          ],
          "scattermapbox": [
           {
            "marker": {
             "colorbar": {
              "outlinewidth": 0,
              "ticks": ""
             }
            },
            "type": "scattermapbox"
           }
          ],
          "scatterpolar": [
           {
            "marker": {
             "colorbar": {
              "outlinewidth": 0,
              "ticks": ""
             }
            },
            "type": "scatterpolar"
           }
          ],
          "scatterpolargl": [
           {
            "marker": {
             "colorbar": {
              "outlinewidth": 0,
              "ticks": ""
             }
            },
            "type": "scatterpolargl"
           }
          ],
          "scatterternary": [
           {
            "marker": {
             "colorbar": {
              "outlinewidth": 0,
              "ticks": ""
             }
            },
            "type": "scatterternary"
           }
          ],
          "surface": [
           {
            "colorbar": {
             "outlinewidth": 0,
             "ticks": ""
            },
            "colorscale": [
             [
              0,
              "#0d0887"
             ],
             [
              0.1111111111111111,
              "#46039f"
             ],
             [
              0.2222222222222222,
              "#7201a8"
             ],
             [
              0.3333333333333333,
              "#9c179e"
             ],
             [
              0.4444444444444444,
              "#bd3786"
             ],
             [
              0.5555555555555556,
              "#d8576b"
             ],
             [
              0.6666666666666666,
              "#ed7953"
             ],
             [
              0.7777777777777778,
              "#fb9f3a"
             ],
             [
              0.8888888888888888,
              "#fdca26"
             ],
             [
              1,
              "#f0f921"
             ]
            ],
            "type": "surface"
           }
          ],
          "table": [
           {
            "cells": {
             "fill": {
              "color": "#EBF0F8"
             },
             "line": {
              "color": "white"
             }
            },
            "header": {
             "fill": {
              "color": "#C8D4E3"
             },
             "line": {
              "color": "white"
             }
            },
            "type": "table"
           }
          ]
         },
         "layout": {
          "annotationdefaults": {
           "arrowcolor": "#2a3f5f",
           "arrowhead": 0,
           "arrowwidth": 1
          },
          "autotypenumbers": "strict",
          "coloraxis": {
           "colorbar": {
            "outlinewidth": 0,
            "ticks": ""
           }
          },
          "colorscale": {
           "diverging": [
            [
             0,
             "#8e0152"
            ],
            [
             0.1,
             "#c51b7d"
            ],
            [
             0.2,
             "#de77ae"
            ],
            [
             0.3,
             "#f1b6da"
            ],
            [
             0.4,
             "#fde0ef"
            ],
            [
             0.5,
             "#f7f7f7"
            ],
            [
             0.6,
             "#e6f5d0"
            ],
            [
             0.7,
             "#b8e186"
            ],
            [
             0.8,
             "#7fbc41"
            ],
            [
             0.9,
             "#4d9221"
            ],
            [
             1,
             "#276419"
            ]
           ],
           "sequential": [
            [
             0,
             "#0d0887"
            ],
            [
             0.1111111111111111,
             "#46039f"
            ],
            [
             0.2222222222222222,
             "#7201a8"
            ],
            [
             0.3333333333333333,
             "#9c179e"
            ],
            [
             0.4444444444444444,
             "#bd3786"
            ],
            [
             0.5555555555555556,
             "#d8576b"
            ],
            [
             0.6666666666666666,
             "#ed7953"
            ],
            [
             0.7777777777777778,
             "#fb9f3a"
            ],
            [
             0.8888888888888888,
             "#fdca26"
            ],
            [
             1,
             "#f0f921"
            ]
           ],
           "sequentialminus": [
            [
             0,
             "#0d0887"
            ],
            [
             0.1111111111111111,
             "#46039f"
            ],
            [
             0.2222222222222222,
             "#7201a8"
            ],
            [
             0.3333333333333333,
             "#9c179e"
            ],
            [
             0.4444444444444444,
             "#bd3786"
            ],
            [
             0.5555555555555556,
             "#d8576b"
            ],
            [
             0.6666666666666666,
             "#ed7953"
            ],
            [
             0.7777777777777778,
             "#fb9f3a"
            ],
            [
             0.8888888888888888,
             "#fdca26"
            ],
            [
             1,
             "#f0f921"
            ]
           ]
          },
          "colorway": [
           "#636efa",
           "#EF553B",
           "#00cc96",
           "#ab63fa",
           "#FFA15A",
           "#19d3f3",
           "#FF6692",
           "#B6E880",
           "#FF97FF",
           "#FECB52"
          ],
          "font": {
           "color": "#2a3f5f"
          },
          "geo": {
           "bgcolor": "white",
           "lakecolor": "white",
           "landcolor": "white",
           "showlakes": true,
           "showland": true,
           "subunitcolor": "#C8D4E3"
          },
          "hoverlabel": {
           "align": "left"
          },
          "hovermode": "closest",
          "mapbox": {
           "style": "light"
          },
          "paper_bgcolor": "white",
          "plot_bgcolor": "white",
          "polar": {
           "angularaxis": {
            "gridcolor": "#EBF0F8",
            "linecolor": "#EBF0F8",
            "ticks": ""
           },
           "bgcolor": "white",
           "radialaxis": {
            "gridcolor": "#EBF0F8",
            "linecolor": "#EBF0F8",
            "ticks": ""
           }
          },
          "scene": {
           "xaxis": {
            "backgroundcolor": "white",
            "gridcolor": "#DFE8F3",
            "gridwidth": 2,
            "linecolor": "#EBF0F8",
            "showbackground": true,
            "ticks": "",
            "zerolinecolor": "#EBF0F8"
           },
           "yaxis": {
            "backgroundcolor": "white",
            "gridcolor": "#DFE8F3",
            "gridwidth": 2,
            "linecolor": "#EBF0F8",
            "showbackground": true,
            "ticks": "",
            "zerolinecolor": "#EBF0F8"
           },
           "zaxis": {
            "backgroundcolor": "white",
            "gridcolor": "#DFE8F3",
            "gridwidth": 2,
            "linecolor": "#EBF0F8",
            "showbackground": true,
            "ticks": "",
            "zerolinecolor": "#EBF0F8"
           }
          },
          "shapedefaults": {
           "line": {
            "color": "#2a3f5f"
           }
          },
          "ternary": {
           "aaxis": {
            "gridcolor": "#DFE8F3",
            "linecolor": "#A2B1C6",
            "ticks": ""
           },
           "baxis": {
            "gridcolor": "#DFE8F3",
            "linecolor": "#A2B1C6",
            "ticks": ""
           },
           "bgcolor": "white",
           "caxis": {
            "gridcolor": "#DFE8F3",
            "linecolor": "#A2B1C6",
            "ticks": ""
           }
          },
          "title": {
           "x": 0.05
          },
          "xaxis": {
           "automargin": true,
           "gridcolor": "#EBF0F8",
           "linecolor": "#EBF0F8",
           "ticks": "",
           "title": {
            "standoff": 15
           },
           "zerolinecolor": "#EBF0F8",
           "zerolinewidth": 2
          },
          "yaxis": {
           "automargin": true,
           "gridcolor": "#EBF0F8",
           "linecolor": "#EBF0F8",
           "ticks": "",
           "title": {
            "standoff": 15
           },
           "zerolinecolor": "#EBF0F8",
           "zerolinewidth": 2
          }
         }
        },
        "title": {
         "text": "Trend of Number of Private Company Placements by Year"
        },
        "xaxis": {
         "anchor": "y",
         "domain": [
          0,
          1
         ],
         "title": {
          "text": "Year"
         }
        },
        "yaxis": {
         "anchor": "x",
         "domain": [
          0,
          1
         ],
         "title": {
          "text": "Number of Private Company Placements"
         }
        }
       }
      }
     },
     "metadata": {},
     "output_type": "display_data"
    },
    {
     "data": {
      "application/vnd.plotly.v1+json": {
       "config": {
        "plotlyServerURL": "https://plot.ly"
       },
       "data": [
        {
         "alignmentgroup": "True",
         "hovertemplate": "Year=%{x}<br>Number of Government Placements=%{y}<extra></extra>",
         "legendgroup": "",
         "marker": {
          "color": "#2ca02c",
          "pattern": {
           "shape": ""
          }
         },
         "name": "",
         "offsetgroup": "",
         "orientation": "v",
         "showlegend": false,
         "textposition": "auto",
         "type": "bar",
         "x": [
          1999,
          2000,
          2001,
          2002,
          2003,
          2004,
          2005,
          2006,
          2007,
          2008,
          2009,
          2010,
          2011,
          2012,
          2013,
          2014,
          2015,
          2016,
          2017,
          2018,
          2019,
          2020,
          2021,
          2022,
          2023,
          2024
         ],
         "xaxis": "x",
         "y": [
          3,
          3,
          2,
          2,
          3,
          1,
          1,
          1,
          2,
          2,
          2,
          7,
          6,
          9,
          2,
          1,
          4,
          4,
          2,
          8,
          5,
          4,
          7,
          9,
          12,
          10
         ],
         "yaxis": "y"
        }
       ],
       "layout": {
        "barmode": "relative",
        "legend": {
         "tracegroupgap": 0
        },
        "template": {
         "data": {
          "bar": [
           {
            "error_x": {
             "color": "#2a3f5f"
            },
            "error_y": {
             "color": "#2a3f5f"
            },
            "marker": {
             "line": {
              "color": "white",
              "width": 0.5
             },
             "pattern": {
              "fillmode": "overlay",
              "size": 10,
              "solidity": 0.2
             }
            },
            "type": "bar"
           }
          ],
          "barpolar": [
           {
            "marker": {
             "line": {
              "color": "white",
              "width": 0.5
             },
             "pattern": {
              "fillmode": "overlay",
              "size": 10,
              "solidity": 0.2
             }
            },
            "type": "barpolar"
           }
          ],
          "carpet": [
           {
            "aaxis": {
             "endlinecolor": "#2a3f5f",
             "gridcolor": "#C8D4E3",
             "linecolor": "#C8D4E3",
             "minorgridcolor": "#C8D4E3",
             "startlinecolor": "#2a3f5f"
            },
            "baxis": {
             "endlinecolor": "#2a3f5f",
             "gridcolor": "#C8D4E3",
             "linecolor": "#C8D4E3",
             "minorgridcolor": "#C8D4E3",
             "startlinecolor": "#2a3f5f"
            },
            "type": "carpet"
           }
          ],
          "choropleth": [
           {
            "colorbar": {
             "outlinewidth": 0,
             "ticks": ""
            },
            "type": "choropleth"
           }
          ],
          "contour": [
           {
            "colorbar": {
             "outlinewidth": 0,
             "ticks": ""
            },
            "colorscale": [
             [
              0,
              "#0d0887"
             ],
             [
              0.1111111111111111,
              "#46039f"
             ],
             [
              0.2222222222222222,
              "#7201a8"
             ],
             [
              0.3333333333333333,
              "#9c179e"
             ],
             [
              0.4444444444444444,
              "#bd3786"
             ],
             [
              0.5555555555555556,
              "#d8576b"
             ],
             [
              0.6666666666666666,
              "#ed7953"
             ],
             [
              0.7777777777777778,
              "#fb9f3a"
             ],
             [
              0.8888888888888888,
              "#fdca26"
             ],
             [
              1,
              "#f0f921"
             ]
            ],
            "type": "contour"
           }
          ],
          "contourcarpet": [
           {
            "colorbar": {
             "outlinewidth": 0,
             "ticks": ""
            },
            "type": "contourcarpet"
           }
          ],
          "heatmap": [
           {
            "colorbar": {
             "outlinewidth": 0,
             "ticks": ""
            },
            "colorscale": [
             [
              0,
              "#0d0887"
             ],
             [
              0.1111111111111111,
              "#46039f"
             ],
             [
              0.2222222222222222,
              "#7201a8"
             ],
             [
              0.3333333333333333,
              "#9c179e"
             ],
             [
              0.4444444444444444,
              "#bd3786"
             ],
             [
              0.5555555555555556,
              "#d8576b"
             ],
             [
              0.6666666666666666,
              "#ed7953"
             ],
             [
              0.7777777777777778,
              "#fb9f3a"
             ],
             [
              0.8888888888888888,
              "#fdca26"
             ],
             [
              1,
              "#f0f921"
             ]
            ],
            "type": "heatmap"
           }
          ],
          "heatmapgl": [
           {
            "colorbar": {
             "outlinewidth": 0,
             "ticks": ""
            },
            "colorscale": [
             [
              0,
              "#0d0887"
             ],
             [
              0.1111111111111111,
              "#46039f"
             ],
             [
              0.2222222222222222,
              "#7201a8"
             ],
             [
              0.3333333333333333,
              "#9c179e"
             ],
             [
              0.4444444444444444,
              "#bd3786"
             ],
             [
              0.5555555555555556,
              "#d8576b"
             ],
             [
              0.6666666666666666,
              "#ed7953"
             ],
             [
              0.7777777777777778,
              "#fb9f3a"
             ],
             [
              0.8888888888888888,
              "#fdca26"
             ],
             [
              1,
              "#f0f921"
             ]
            ],
            "type": "heatmapgl"
           }
          ],
          "histogram": [
           {
            "marker": {
             "pattern": {
              "fillmode": "overlay",
              "size": 10,
              "solidity": 0.2
             }
            },
            "type": "histogram"
           }
          ],
          "histogram2d": [
           {
            "colorbar": {
             "outlinewidth": 0,
             "ticks": ""
            },
            "colorscale": [
             [
              0,
              "#0d0887"
             ],
             [
              0.1111111111111111,
              "#46039f"
             ],
             [
              0.2222222222222222,
              "#7201a8"
             ],
             [
              0.3333333333333333,
              "#9c179e"
             ],
             [
              0.4444444444444444,
              "#bd3786"
             ],
             [
              0.5555555555555556,
              "#d8576b"
             ],
             [
              0.6666666666666666,
              "#ed7953"
             ],
             [
              0.7777777777777778,
              "#fb9f3a"
             ],
             [
              0.8888888888888888,
              "#fdca26"
             ],
             [
              1,
              "#f0f921"
             ]
            ],
            "type": "histogram2d"
           }
          ],
          "histogram2dcontour": [
           {
            "colorbar": {
             "outlinewidth": 0,
             "ticks": ""
            },
            "colorscale": [
             [
              0,
              "#0d0887"
             ],
             [
              0.1111111111111111,
              "#46039f"
             ],
             [
              0.2222222222222222,
              "#7201a8"
             ],
             [
              0.3333333333333333,
              "#9c179e"
             ],
             [
              0.4444444444444444,
              "#bd3786"
             ],
             [
              0.5555555555555556,
              "#d8576b"
             ],
             [
              0.6666666666666666,
              "#ed7953"
             ],
             [
              0.7777777777777778,
              "#fb9f3a"
             ],
             [
              0.8888888888888888,
              "#fdca26"
             ],
             [
              1,
              "#f0f921"
             ]
            ],
            "type": "histogram2dcontour"
           }
          ],
          "mesh3d": [
           {
            "colorbar": {
             "outlinewidth": 0,
             "ticks": ""
            },
            "type": "mesh3d"
           }
          ],
          "parcoords": [
           {
            "line": {
             "colorbar": {
              "outlinewidth": 0,
              "ticks": ""
             }
            },
            "type": "parcoords"
           }
          ],
          "pie": [
           {
            "automargin": true,
            "type": "pie"
           }
          ],
          "scatter": [
           {
            "fillpattern": {
             "fillmode": "overlay",
             "size": 10,
             "solidity": 0.2
            },
            "type": "scatter"
           }
          ],
          "scatter3d": [
           {
            "line": {
             "colorbar": {
              "outlinewidth": 0,
              "ticks": ""
             }
            },
            "marker": {
             "colorbar": {
              "outlinewidth": 0,
              "ticks": ""
             }
            },
            "type": "scatter3d"
           }
          ],
          "scattercarpet": [
           {
            "marker": {
             "colorbar": {
              "outlinewidth": 0,
              "ticks": ""
             }
            },
            "type": "scattercarpet"
           }
          ],
          "scattergeo": [
           {
            "marker": {
             "colorbar": {
              "outlinewidth": 0,
              "ticks": ""
             }
            },
            "type": "scattergeo"
           }
          ],
          "scattergl": [
           {
            "marker": {
             "colorbar": {
              "outlinewidth": 0,
              "ticks": ""
             }
            },
            "type": "scattergl"
           }
          ],
          "scattermapbox": [
           {
            "marker": {
             "colorbar": {
              "outlinewidth": 0,
              "ticks": ""
             }
            },
            "type": "scattermapbox"
           }
          ],
          "scatterpolar": [
           {
            "marker": {
             "colorbar": {
              "outlinewidth": 0,
              "ticks": ""
             }
            },
            "type": "scatterpolar"
           }
          ],
          "scatterpolargl": [
           {
            "marker": {
             "colorbar": {
              "outlinewidth": 0,
              "ticks": ""
             }
            },
            "type": "scatterpolargl"
           }
          ],
          "scatterternary": [
           {
            "marker": {
             "colorbar": {
              "outlinewidth": 0,
              "ticks": ""
             }
            },
            "type": "scatterternary"
           }
          ],
          "surface": [
           {
            "colorbar": {
             "outlinewidth": 0,
             "ticks": ""
            },
            "colorscale": [
             [
              0,
              "#0d0887"
             ],
             [
              0.1111111111111111,
              "#46039f"
             ],
             [
              0.2222222222222222,
              "#7201a8"
             ],
             [
              0.3333333333333333,
              "#9c179e"
             ],
             [
              0.4444444444444444,
              "#bd3786"
             ],
             [
              0.5555555555555556,
              "#d8576b"
             ],
             [
              0.6666666666666666,
              "#ed7953"
             ],
             [
              0.7777777777777778,
              "#fb9f3a"
             ],
             [
              0.8888888888888888,
              "#fdca26"
             ],
             [
              1,
              "#f0f921"
             ]
            ],
            "type": "surface"
           }
          ],
          "table": [
           {
            "cells": {
             "fill": {
              "color": "#EBF0F8"
             },
             "line": {
              "color": "white"
             }
            },
            "header": {
             "fill": {
              "color": "#C8D4E3"
             },
             "line": {
              "color": "white"
             }
            },
            "type": "table"
           }
          ]
         },
         "layout": {
          "annotationdefaults": {
           "arrowcolor": "#2a3f5f",
           "arrowhead": 0,
           "arrowwidth": 1
          },
          "autotypenumbers": "strict",
          "coloraxis": {
           "colorbar": {
            "outlinewidth": 0,
            "ticks": ""
           }
          },
          "colorscale": {
           "diverging": [
            [
             0,
             "#8e0152"
            ],
            [
             0.1,
             "#c51b7d"
            ],
            [
             0.2,
             "#de77ae"
            ],
            [
             0.3,
             "#f1b6da"
            ],
            [
             0.4,
             "#fde0ef"
            ],
            [
             0.5,
             "#f7f7f7"
            ],
            [
             0.6,
             "#e6f5d0"
            ],
            [
             0.7,
             "#b8e186"
            ],
            [
             0.8,
             "#7fbc41"
            ],
            [
             0.9,
             "#4d9221"
            ],
            [
             1,
             "#276419"
            ]
           ],
           "sequential": [
            [
             0,
             "#0d0887"
            ],
            [
             0.1111111111111111,
             "#46039f"
            ],
            [
             0.2222222222222222,
             "#7201a8"
            ],
            [
             0.3333333333333333,
             "#9c179e"
            ],
            [
             0.4444444444444444,
             "#bd3786"
            ],
            [
             0.5555555555555556,
             "#d8576b"
            ],
            [
             0.6666666666666666,
             "#ed7953"
            ],
            [
             0.7777777777777778,
             "#fb9f3a"
            ],
            [
             0.8888888888888888,
             "#fdca26"
            ],
            [
             1,
             "#f0f921"
            ]
           ],
           "sequentialminus": [
            [
             0,
             "#0d0887"
            ],
            [
             0.1111111111111111,
             "#46039f"
            ],
            [
             0.2222222222222222,
             "#7201a8"
            ],
            [
             0.3333333333333333,
             "#9c179e"
            ],
            [
             0.4444444444444444,
             "#bd3786"
            ],
            [
             0.5555555555555556,
             "#d8576b"
            ],
            [
             0.6666666666666666,
             "#ed7953"
            ],
            [
             0.7777777777777778,
             "#fb9f3a"
            ],
            [
             0.8888888888888888,
             "#fdca26"
            ],
            [
             1,
             "#f0f921"
            ]
           ]
          },
          "colorway": [
           "#636efa",
           "#EF553B",
           "#00cc96",
           "#ab63fa",
           "#FFA15A",
           "#19d3f3",
           "#FF6692",
           "#B6E880",
           "#FF97FF",
           "#FECB52"
          ],
          "font": {
           "color": "#2a3f5f"
          },
          "geo": {
           "bgcolor": "white",
           "lakecolor": "white",
           "landcolor": "white",
           "showlakes": true,
           "showland": true,
           "subunitcolor": "#C8D4E3"
          },
          "hoverlabel": {
           "align": "left"
          },
          "hovermode": "closest",
          "mapbox": {
           "style": "light"
          },
          "paper_bgcolor": "white",
          "plot_bgcolor": "white",
          "polar": {
           "angularaxis": {
            "gridcolor": "#EBF0F8",
            "linecolor": "#EBF0F8",
            "ticks": ""
           },
           "bgcolor": "white",
           "radialaxis": {
            "gridcolor": "#EBF0F8",
            "linecolor": "#EBF0F8",
            "ticks": ""
           }
          },
          "scene": {
           "xaxis": {
            "backgroundcolor": "white",
            "gridcolor": "#DFE8F3",
            "gridwidth": 2,
            "linecolor": "#EBF0F8",
            "showbackground": true,
            "ticks": "",
            "zerolinecolor": "#EBF0F8"
           },
           "yaxis": {
            "backgroundcolor": "white",
            "gridcolor": "#DFE8F3",
            "gridwidth": 2,
            "linecolor": "#EBF0F8",
            "showbackground": true,
            "ticks": "",
            "zerolinecolor": "#EBF0F8"
           },
           "zaxis": {
            "backgroundcolor": "white",
            "gridcolor": "#DFE8F3",
            "gridwidth": 2,
            "linecolor": "#EBF0F8",
            "showbackground": true,
            "ticks": "",
            "zerolinecolor": "#EBF0F8"
           }
          },
          "shapedefaults": {
           "line": {
            "color": "#2a3f5f"
           }
          },
          "ternary": {
           "aaxis": {
            "gridcolor": "#DFE8F3",
            "linecolor": "#A2B1C6",
            "ticks": ""
           },
           "baxis": {
            "gridcolor": "#DFE8F3",
            "linecolor": "#A2B1C6",
            "ticks": ""
           },
           "bgcolor": "white",
           "caxis": {
            "gridcolor": "#DFE8F3",
            "linecolor": "#A2B1C6",
            "ticks": ""
           }
          },
          "title": {
           "x": 0.05
          },
          "xaxis": {
           "automargin": true,
           "gridcolor": "#EBF0F8",
           "linecolor": "#EBF0F8",
           "ticks": "",
           "title": {
            "standoff": 15
           },
           "zerolinecolor": "#EBF0F8",
           "zerolinewidth": 2
          },
          "yaxis": {
           "automargin": true,
           "gridcolor": "#EBF0F8",
           "linecolor": "#EBF0F8",
           "ticks": "",
           "title": {
            "standoff": 15
           },
           "zerolinecolor": "#EBF0F8",
           "zerolinewidth": 2
          }
         }
        },
        "title": {
         "text": "Trend of Number of Government Placements by Year"
        },
        "xaxis": {
         "anchor": "y",
         "domain": [
          0,
          1
         ],
         "title": {
          "text": "Year"
         }
        },
        "yaxis": {
         "anchor": "x",
         "domain": [
          0,
          1
         ],
         "title": {
          "text": "Number of Government Placements"
         }
        }
       }
      }
     },
     "metadata": {},
     "output_type": "display_data"
    },
    {
     "data": {
      "application/vnd.plotly.v1+json": {
       "config": {
        "plotlyServerURL": "https://plot.ly"
       },
       "data": [
        {
         "alignmentgroup": "True",
         "hovertemplate": "Field=academic_count<br>Year=%{x}<br>Number of Jobs=%{y}<extra></extra>",
         "legendgroup": "academic_count",
         "marker": {
          "color": "#1f77b4",
          "pattern": {
           "shape": ""
          }
         },
         "name": "academic_count",
         "offsetgroup": "academic_count",
         "orientation": "v",
         "showlegend": true,
         "textposition": "auto",
         "type": "bar",
         "x": [
          1999,
          2000,
          2001,
          2002,
          2003,
          2004,
          2005,
          2006,
          2007,
          2008,
          2009,
          2010,
          2011,
          2012,
          2013,
          2014,
          2015,
          2016,
          2017,
          2018,
          2019,
          2020,
          2021,
          2022,
          2023,
          2024,
          2025
         ],
         "xaxis": "x",
         "y": [
          20,
          7,
          7,
          10,
          9,
          8,
          10,
          13,
          9,
          13,
          14,
          8,
          14,
          11,
          16,
          13,
          11,
          34,
          24,
          29,
          23,
          12,
          19,
          22,
          25,
          23,
          0
         ],
         "yaxis": "y"
        },
        {
         "alignmentgroup": "True",
         "hovertemplate": "Field=private_count<br>Year=%{x}<br>Number of Jobs=%{y}<extra></extra>",
         "legendgroup": "private_count",
         "marker": {
          "color": "#ff7f0e",
          "pattern": {
           "shape": ""
          }
         },
         "name": "private_count",
         "offsetgroup": "private_count",
         "orientation": "v",
         "showlegend": true,
         "textposition": "auto",
         "type": "bar",
         "x": [
          1999,
          2000,
          2001,
          2002,
          2003,
          2004,
          2005,
          2006,
          2007,
          2008,
          2009,
          2010,
          2011,
          2012,
          2013,
          2014,
          2015,
          2016,
          2017,
          2018,
          2019,
          2020,
          2021,
          2022,
          2023,
          2024,
          2025
         ],
         "xaxis": "x",
         "y": [
          3,
          1,
          0,
          1,
          1,
          2,
          4,
          2,
          3,
          2,
          2,
          3,
          9,
          6,
          3,
          3,
          3,
          7,
          7,
          6,
          6,
          6,
          10,
          7,
          9,
          11,
          1
         ],
         "yaxis": "y"
        },
        {
         "alignmentgroup": "True",
         "hovertemplate": "Field=government_count<br>Year=%{x}<br>Number of Jobs=%{y}<extra></extra>",
         "legendgroup": "government_count",
         "marker": {
          "color": "#2ca02c",
          "pattern": {
           "shape": ""
          }
         },
         "name": "government_count",
         "offsetgroup": "government_count",
         "orientation": "v",
         "showlegend": true,
         "textposition": "auto",
         "type": "bar",
         "x": [
          1999,
          2000,
          2001,
          2002,
          2003,
          2004,
          2005,
          2006,
          2007,
          2008,
          2009,
          2010,
          2011,
          2012,
          2013,
          2014,
          2015,
          2016,
          2017,
          2018,
          2019,
          2020,
          2021,
          2022,
          2023,
          2024,
          2025
         ],
         "xaxis": "x",
         "y": [
          3,
          3,
          2,
          2,
          3,
          1,
          1,
          1,
          2,
          2,
          2,
          7,
          6,
          9,
          2,
          1,
          4,
          4,
          2,
          8,
          5,
          4,
          7,
          9,
          12,
          10,
          0
         ],
         "yaxis": "y"
        }
       ],
       "layout": {
        "barmode": "stack",
        "legend": {
         "title": {
          "text": "Field"
         },
         "tracegroupgap": 0
        },
        "template": {
         "data": {
          "bar": [
           {
            "error_x": {
             "color": "#2a3f5f"
            },
            "error_y": {
             "color": "#2a3f5f"
            },
            "marker": {
             "line": {
              "color": "white",
              "width": 0.5
             },
             "pattern": {
              "fillmode": "overlay",
              "size": 10,
              "solidity": 0.2
             }
            },
            "type": "bar"
           }
          ],
          "barpolar": [
           {
            "marker": {
             "line": {
              "color": "white",
              "width": 0.5
             },
             "pattern": {
              "fillmode": "overlay",
              "size": 10,
              "solidity": 0.2
             }
            },
            "type": "barpolar"
           }
          ],
          "carpet": [
           {
            "aaxis": {
             "endlinecolor": "#2a3f5f",
             "gridcolor": "#C8D4E3",
             "linecolor": "#C8D4E3",
             "minorgridcolor": "#C8D4E3",
             "startlinecolor": "#2a3f5f"
            },
            "baxis": {
             "endlinecolor": "#2a3f5f",
             "gridcolor": "#C8D4E3",
             "linecolor": "#C8D4E3",
             "minorgridcolor": "#C8D4E3",
             "startlinecolor": "#2a3f5f"
            },
            "type": "carpet"
           }
          ],
          "choropleth": [
           {
            "colorbar": {
             "outlinewidth": 0,
             "ticks": ""
            },
            "type": "choropleth"
           }
          ],
          "contour": [
           {
            "colorbar": {
             "outlinewidth": 0,
             "ticks": ""
            },
            "colorscale": [
             [
              0,
              "#0d0887"
             ],
             [
              0.1111111111111111,
              "#46039f"
             ],
             [
              0.2222222222222222,
              "#7201a8"
             ],
             [
              0.3333333333333333,
              "#9c179e"
             ],
             [
              0.4444444444444444,
              "#bd3786"
             ],
             [
              0.5555555555555556,
              "#d8576b"
             ],
             [
              0.6666666666666666,
              "#ed7953"
             ],
             [
              0.7777777777777778,
              "#fb9f3a"
             ],
             [
              0.8888888888888888,
              "#fdca26"
             ],
             [
              1,
              "#f0f921"
             ]
            ],
            "type": "contour"
           }
          ],
          "contourcarpet": [
           {
            "colorbar": {
             "outlinewidth": 0,
             "ticks": ""
            },
            "type": "contourcarpet"
           }
          ],
          "heatmap": [
           {
            "colorbar": {
             "outlinewidth": 0,
             "ticks": ""
            },
            "colorscale": [
             [
              0,
              "#0d0887"
             ],
             [
              0.1111111111111111,
              "#46039f"
             ],
             [
              0.2222222222222222,
              "#7201a8"
             ],
             [
              0.3333333333333333,
              "#9c179e"
             ],
             [
              0.4444444444444444,
              "#bd3786"
             ],
             [
              0.5555555555555556,
              "#d8576b"
             ],
             [
              0.6666666666666666,
              "#ed7953"
             ],
             [
              0.7777777777777778,
              "#fb9f3a"
             ],
             [
              0.8888888888888888,
              "#fdca26"
             ],
             [
              1,
              "#f0f921"
             ]
            ],
            "type": "heatmap"
           }
          ],
          "heatmapgl": [
           {
            "colorbar": {
             "outlinewidth": 0,
             "ticks": ""
            },
            "colorscale": [
             [
              0,
              "#0d0887"
             ],
             [
              0.1111111111111111,
              "#46039f"
             ],
             [
              0.2222222222222222,
              "#7201a8"
             ],
             [
              0.3333333333333333,
              "#9c179e"
             ],
             [
              0.4444444444444444,
              "#bd3786"
             ],
             [
              0.5555555555555556,
              "#d8576b"
             ],
             [
              0.6666666666666666,
              "#ed7953"
             ],
             [
              0.7777777777777778,
              "#fb9f3a"
             ],
             [
              0.8888888888888888,
              "#fdca26"
             ],
             [
              1,
              "#f0f921"
             ]
            ],
            "type": "heatmapgl"
           }
          ],
          "histogram": [
           {
            "marker": {
             "pattern": {
              "fillmode": "overlay",
              "size": 10,
              "solidity": 0.2
             }
            },
            "type": "histogram"
           }
          ],
          "histogram2d": [
           {
            "colorbar": {
             "outlinewidth": 0,
             "ticks": ""
            },
            "colorscale": [
             [
              0,
              "#0d0887"
             ],
             [
              0.1111111111111111,
              "#46039f"
             ],
             [
              0.2222222222222222,
              "#7201a8"
             ],
             [
              0.3333333333333333,
              "#9c179e"
             ],
             [
              0.4444444444444444,
              "#bd3786"
             ],
             [
              0.5555555555555556,
              "#d8576b"
             ],
             [
              0.6666666666666666,
              "#ed7953"
             ],
             [
              0.7777777777777778,
              "#fb9f3a"
             ],
             [
              0.8888888888888888,
              "#fdca26"
             ],
             [
              1,
              "#f0f921"
             ]
            ],
            "type": "histogram2d"
           }
          ],
          "histogram2dcontour": [
           {
            "colorbar": {
             "outlinewidth": 0,
             "ticks": ""
            },
            "colorscale": [
             [
              0,
              "#0d0887"
             ],
             [
              0.1111111111111111,
              "#46039f"
             ],
             [
              0.2222222222222222,
              "#7201a8"
             ],
             [
              0.3333333333333333,
              "#9c179e"
             ],
             [
              0.4444444444444444,
              "#bd3786"
             ],
             [
              0.5555555555555556,
              "#d8576b"
             ],
             [
              0.6666666666666666,
              "#ed7953"
             ],
             [
              0.7777777777777778,
              "#fb9f3a"
             ],
             [
              0.8888888888888888,
              "#fdca26"
             ],
             [
              1,
              "#f0f921"
             ]
            ],
            "type": "histogram2dcontour"
           }
          ],
          "mesh3d": [
           {
            "colorbar": {
             "outlinewidth": 0,
             "ticks": ""
            },
            "type": "mesh3d"
           }
          ],
          "parcoords": [
           {
            "line": {
             "colorbar": {
              "outlinewidth": 0,
              "ticks": ""
             }
            },
            "type": "parcoords"
           }
          ],
          "pie": [
           {
            "automargin": true,
            "type": "pie"
           }
          ],
          "scatter": [
           {
            "fillpattern": {
             "fillmode": "overlay",
             "size": 10,
             "solidity": 0.2
            },
            "type": "scatter"
           }
          ],
          "scatter3d": [
           {
            "line": {
             "colorbar": {
              "outlinewidth": 0,
              "ticks": ""
             }
            },
            "marker": {
             "colorbar": {
              "outlinewidth": 0,
              "ticks": ""
             }
            },
            "type": "scatter3d"
           }
          ],
          "scattercarpet": [
           {
            "marker": {
             "colorbar": {
              "outlinewidth": 0,
              "ticks": ""
             }
            },
            "type": "scattercarpet"
           }
          ],
          "scattergeo": [
           {
            "marker": {
             "colorbar": {
              "outlinewidth": 0,
              "ticks": ""
             }
            },
            "type": "scattergeo"
           }
          ],
          "scattergl": [
           {
            "marker": {
             "colorbar": {
              "outlinewidth": 0,
              "ticks": ""
             }
            },
            "type": "scattergl"
           }
          ],
          "scattermapbox": [
           {
            "marker": {
             "colorbar": {
              "outlinewidth": 0,
              "ticks": ""
             }
            },
            "type": "scattermapbox"
           }
          ],
          "scatterpolar": [
           {
            "marker": {
             "colorbar": {
              "outlinewidth": 0,
              "ticks": ""
             }
            },
            "type": "scatterpolar"
           }
          ],
          "scatterpolargl": [
           {
            "marker": {
             "colorbar": {
              "outlinewidth": 0,
              "ticks": ""
             }
            },
            "type": "scatterpolargl"
           }
          ],
          "scatterternary": [
           {
            "marker": {
             "colorbar": {
              "outlinewidth": 0,
              "ticks": ""
             }
            },
            "type": "scatterternary"
           }
          ],
          "surface": [
           {
            "colorbar": {
             "outlinewidth": 0,
             "ticks": ""
            },
            "colorscale": [
             [
              0,
              "#0d0887"
             ],
             [
              0.1111111111111111,
              "#46039f"
             ],
             [
              0.2222222222222222,
              "#7201a8"
             ],
             [
              0.3333333333333333,
              "#9c179e"
             ],
             [
              0.4444444444444444,
              "#bd3786"
             ],
             [
              0.5555555555555556,
              "#d8576b"
             ],
             [
              0.6666666666666666,
              "#ed7953"
             ],
             [
              0.7777777777777778,
              "#fb9f3a"
             ],
             [
              0.8888888888888888,
              "#fdca26"
             ],
             [
              1,
              "#f0f921"
             ]
            ],
            "type": "surface"
           }
          ],
          "table": [
           {
            "cells": {
             "fill": {
              "color": "#EBF0F8"
             },
             "line": {
              "color": "white"
             }
            },
            "header": {
             "fill": {
              "color": "#C8D4E3"
             },
             "line": {
              "color": "white"
             }
            },
            "type": "table"
           }
          ]
         },
         "layout": {
          "annotationdefaults": {
           "arrowcolor": "#2a3f5f",
           "arrowhead": 0,
           "arrowwidth": 1
          },
          "autotypenumbers": "strict",
          "coloraxis": {
           "colorbar": {
            "outlinewidth": 0,
            "ticks": ""
           }
          },
          "colorscale": {
           "diverging": [
            [
             0,
             "#8e0152"
            ],
            [
             0.1,
             "#c51b7d"
            ],
            [
             0.2,
             "#de77ae"
            ],
            [
             0.3,
             "#f1b6da"
            ],
            [
             0.4,
             "#fde0ef"
            ],
            [
             0.5,
             "#f7f7f7"
            ],
            [
             0.6,
             "#e6f5d0"
            ],
            [
             0.7,
             "#b8e186"
            ],
            [
             0.8,
             "#7fbc41"
            ],
            [
             0.9,
             "#4d9221"
            ],
            [
             1,
             "#276419"
            ]
           ],
           "sequential": [
            [
             0,
             "#0d0887"
            ],
            [
             0.1111111111111111,
             "#46039f"
            ],
            [
             0.2222222222222222,
             "#7201a8"
            ],
            [
             0.3333333333333333,
             "#9c179e"
            ],
            [
             0.4444444444444444,
             "#bd3786"
            ],
            [
             0.5555555555555556,
             "#d8576b"
            ],
            [
             0.6666666666666666,
             "#ed7953"
            ],
            [
             0.7777777777777778,
             "#fb9f3a"
            ],
            [
             0.8888888888888888,
             "#fdca26"
            ],
            [
             1,
             "#f0f921"
            ]
           ],
           "sequentialminus": [
            [
             0,
             "#0d0887"
            ],
            [
             0.1111111111111111,
             "#46039f"
            ],
            [
             0.2222222222222222,
             "#7201a8"
            ],
            [
             0.3333333333333333,
             "#9c179e"
            ],
            [
             0.4444444444444444,
             "#bd3786"
            ],
            [
             0.5555555555555556,
             "#d8576b"
            ],
            [
             0.6666666666666666,
             "#ed7953"
            ],
            [
             0.7777777777777778,
             "#fb9f3a"
            ],
            [
             0.8888888888888888,
             "#fdca26"
            ],
            [
             1,
             "#f0f921"
            ]
           ]
          },
          "colorway": [
           "#636efa",
           "#EF553B",
           "#00cc96",
           "#ab63fa",
           "#FFA15A",
           "#19d3f3",
           "#FF6692",
           "#B6E880",
           "#FF97FF",
           "#FECB52"
          ],
          "font": {
           "color": "#2a3f5f"
          },
          "geo": {
           "bgcolor": "white",
           "lakecolor": "white",
           "landcolor": "white",
           "showlakes": true,
           "showland": true,
           "subunitcolor": "#C8D4E3"
          },
          "hoverlabel": {
           "align": "left"
          },
          "hovermode": "closest",
          "mapbox": {
           "style": "light"
          },
          "paper_bgcolor": "white",
          "plot_bgcolor": "white",
          "polar": {
           "angularaxis": {
            "gridcolor": "#EBF0F8",
            "linecolor": "#EBF0F8",
            "ticks": ""
           },
           "bgcolor": "white",
           "radialaxis": {
            "gridcolor": "#EBF0F8",
            "linecolor": "#EBF0F8",
            "ticks": ""
           }
          },
          "scene": {
           "xaxis": {
            "backgroundcolor": "white",
            "gridcolor": "#DFE8F3",
            "gridwidth": 2,
            "linecolor": "#EBF0F8",
            "showbackground": true,
            "ticks": "",
            "zerolinecolor": "#EBF0F8"
           },
           "yaxis": {
            "backgroundcolor": "white",
            "gridcolor": "#DFE8F3",
            "gridwidth": 2,
            "linecolor": "#EBF0F8",
            "showbackground": true,
            "ticks": "",
            "zerolinecolor": "#EBF0F8"
           },
           "zaxis": {
            "backgroundcolor": "white",
            "gridcolor": "#DFE8F3",
            "gridwidth": 2,
            "linecolor": "#EBF0F8",
            "showbackground": true,
            "ticks": "",
            "zerolinecolor": "#EBF0F8"
           }
          },
          "shapedefaults": {
           "line": {
            "color": "#2a3f5f"
           }
          },
          "ternary": {
           "aaxis": {
            "gridcolor": "#DFE8F3",
            "linecolor": "#A2B1C6",
            "ticks": ""
           },
           "baxis": {
            "gridcolor": "#DFE8F3",
            "linecolor": "#A2B1C6",
            "ticks": ""
           },
           "bgcolor": "white",
           "caxis": {
            "gridcolor": "#DFE8F3",
            "linecolor": "#A2B1C6",
            "ticks": ""
           }
          },
          "title": {
           "x": 0.05
          },
          "xaxis": {
           "automargin": true,
           "gridcolor": "#EBF0F8",
           "linecolor": "#EBF0F8",
           "ticks": "",
           "title": {
            "standoff": 15
           },
           "zerolinecolor": "#EBF0F8",
           "zerolinewidth": 2
          },
          "yaxis": {
           "automargin": true,
           "gridcolor": "#EBF0F8",
           "linecolor": "#EBF0F8",
           "ticks": "",
           "title": {
            "standoff": 15
           },
           "zerolinecolor": "#EBF0F8",
           "zerolinewidth": 2
          }
         }
        },
        "title": {
         "text": "Number of Jobs in Each Field by Year"
        },
        "xaxis": {
         "anchor": "y",
         "domain": [
          0,
          1
         ],
         "title": {
          "text": "Year"
         }
        },
        "yaxis": {
         "anchor": "x",
         "domain": [
          0,
          1
         ],
         "title": {
          "text": "Number of Jobs"
         }
        }
       }
      }
     },
     "metadata": {},
     "output_type": "display_data"
    }
   ],
   "source": [
    "import plotly.express as px\n",
    "\n",
    "# Group the data by year and academic, then count the number of candidates\n",
    "yearly_academic_counts = placement_df.groupby(['year', 'academic']).size().reset_index(name='count')\n",
    "yearly_academic_counts = yearly_academic_counts[yearly_academic_counts['academic'] == 1]\n",
    "\n",
    "# Create a bar plot for academic placements\n",
    "fig_academic = px.bar(yearly_academic_counts, x='year', y='count', \n",
    "                      title='Trend of Number of Academic Placements by Year',\n",
    "                      labels={'year': 'Year', 'count': 'Number of Academic Placements'},\n",
    "                      color_discrete_sequence=['#1f77b4'])  # Blue\n",
    "\n",
    "fig_academic.update_layout(\n",
    "    xaxis_title='Year',\n",
    "    yaxis_title='Number of Academic Placements',\n",
    "    template='plotly_white'\n",
    ")\n",
    "\n",
    "fig_academic.show()\n",
    "\n",
    "# Group the data by year and private_company, then count the number of candidates\n",
    "yearly_private_counts = placement_df.groupby(['year', 'private_company']).size().reset_index(name='count')\n",
    "yearly_private_counts = yearly_private_counts[yearly_private_counts['private_company'] == 1]\n",
    "\n",
    "# Create a bar plot for private company placements\n",
    "fig_private = px.bar(yearly_private_counts, x='year', y='count', \n",
    "                     title='Trend of Number of Private Company Placements by Year',\n",
    "                     labels={'year': 'Year', 'count': 'Number of Private Company Placements'},\n",
    "                     color_discrete_sequence=['#ff7f0e'])  # Orange\n",
    "\n",
    "fig_private.update_layout(\n",
    "    xaxis_title='Year',\n",
    "    yaxis_title='Number of Private Company Placements',\n",
    "    template='plotly_white'\n",
    ")\n",
    "\n",
    "fig_private.show()\n",
    "\n",
    "# Group the data by year and government, then count the number of candidates\n",
    "yearly_government_counts = placement_df.groupby(['year', 'government']).size().reset_index(name='count')\n",
    "yearly_government_counts = yearly_government_counts[yearly_government_counts['government'] == 1]\n",
    "\n",
    "# Create a bar plot for government placements\n",
    "fig_government = px.bar(yearly_government_counts, x='year', y='count', \n",
    "                        title='Trend of Number of Government Placements by Year',\n",
    "                        labels={'year': 'Year', 'count': 'Number of Government Placements'},\n",
    "                        color_discrete_sequence=['#2ca02c'])  # Green\n",
    "\n",
    "fig_government.update_layout(\n",
    "    xaxis_title='Year',\n",
    "    yaxis_title='Number of Government Placements',\n",
    "    template='plotly_white'\n",
    ")\n",
    "\n",
    "fig_government.show()\n",
    "\n",
    "# Create a stacked bar plot for all placement types\n",
    "yearly_combined_counts = placement_df.groupby('year').agg(\n",
    "    academic_count=('academic', 'sum'),\n",
    "    private_count=('private_company', 'sum'),\n",
    "    government_count=('government', 'sum')\n",
    ").reset_index()\n",
    "\n",
    "fig_combined = px.bar(yearly_combined_counts, x='year', y=['academic_count', 'private_count', 'government_count'], \n",
    "                      title='Number of Jobs in Each Field by Year',\n",
    "                      labels={'year': 'Year', 'value': 'Number of Jobs', 'variable': 'Field'},\n",
    "                      barmode='stack',\n",
    "                      color_discrete_sequence=['#1f77b4', '#ff7f0e', '#2ca02c'])  # Blue, Orange, Green\n",
    "\n",
    "fig_combined.update_layout(\n",
    "    xaxis_title='Year',\n",
    "    yaxis_title='Number of Jobs',\n",
    "    template='plotly_white'\n",
    ")\n",
    "\n",
    "fig_combined.show()"
   ]
  },
  {
   "cell_type": "markdown",
   "id": "11f572c1",
   "metadata": {},
   "source": []
  },
  {
   "cell_type": "code",
   "execution_count": 16,
   "id": "96a3a1a9",
   "metadata": {},
   "outputs": [
    {
     "data": {
      "application/vnd.plotly.v1+json": {
       "config": {
        "plotlyServerURL": "https://plot.ly"
       },
       "data": [
        {
         "domain": {
          "x": [
           0,
           1
          ],
          "y": [
           0,
           1
          ]
         },
         "hovertemplate": "placement_type=%{label}<br>count=%{value}<extra></extra>",
         "labels": [
          "Academic",
          "Private Company",
          "Government"
         ],
         "legendgroup": "",
         "name": "",
         "pull": [
          0.1,
          0,
          0
         ],
         "showlegend": true,
         "type": "pie",
         "values": [
          23,
          11,
          10
         ]
        }
       ],
       "frames": [
        {
         "data": [
          {
           "labels": [
            "Academic",
            "Government",
            "Private Company"
           ],
           "type": "pie",
           "values": [
            7,
            3,
            1
           ]
          }
         ],
         "name": "2000"
        },
        {
         "data": [
          {
           "labels": [
            "Academic",
            "Government",
            "Private Company"
           ],
           "type": "pie",
           "values": [
            7,
            2,
            0
           ]
          }
         ],
         "name": "2001"
        },
        {
         "data": [
          {
           "labels": [
            "Academic",
            "Government",
            "Private Company"
           ],
           "type": "pie",
           "values": [
            10,
            2,
            1
           ]
          }
         ],
         "name": "2002"
        },
        {
         "data": [
          {
           "labels": [
            "Academic",
            "Government",
            "Private Company"
           ],
           "type": "pie",
           "values": [
            9,
            3,
            1
           ]
          }
         ],
         "name": "2003"
        },
        {
         "data": [
          {
           "labels": [
            "Academic",
            "Government",
            "Private Company"
           ],
           "type": "pie",
           "values": [
            8,
            1,
            2
           ]
          }
         ],
         "name": "2004"
        },
        {
         "data": [
          {
           "labels": [
            "Academic",
            "Government",
            "Private Company"
           ],
           "type": "pie",
           "values": [
            10,
            1,
            4
           ]
          }
         ],
         "name": "2005"
        },
        {
         "data": [
          {
           "labels": [
            "Academic",
            "Government",
            "Private Company"
           ],
           "type": "pie",
           "values": [
            13,
            1,
            2
           ]
          }
         ],
         "name": "2006"
        },
        {
         "data": [
          {
           "labels": [
            "Academic",
            "Government",
            "Private Company"
           ],
           "type": "pie",
           "values": [
            9,
            2,
            3
           ]
          }
         ],
         "name": "2007"
        },
        {
         "data": [
          {
           "labels": [
            "Academic",
            "Government",
            "Private Company"
           ],
           "type": "pie",
           "values": [
            13,
            2,
            2
           ]
          }
         ],
         "name": "2008"
        },
        {
         "data": [
          {
           "labels": [
            "Academic",
            "Government",
            "Private Company"
           ],
           "type": "pie",
           "values": [
            14,
            2,
            2
           ]
          }
         ],
         "name": "2009"
        },
        {
         "data": [
          {
           "labels": [
            "Academic",
            "Government",
            "Private Company"
           ],
           "type": "pie",
           "values": [
            8,
            7,
            3
           ]
          }
         ],
         "name": "2010"
        },
        {
         "data": [
          {
           "labels": [
            "Academic",
            "Government",
            "Private Company"
           ],
           "type": "pie",
           "values": [
            14,
            6,
            9
           ]
          }
         ],
         "name": "2011"
        },
        {
         "data": [
          {
           "labels": [
            "Academic",
            "Government",
            "Private Company"
           ],
           "type": "pie",
           "values": [
            11,
            9,
            6
           ]
          }
         ],
         "name": "2012"
        },
        {
         "data": [
          {
           "labels": [
            "Academic",
            "Government",
            "Private Company"
           ],
           "type": "pie",
           "values": [
            16,
            2,
            3
           ]
          }
         ],
         "name": "2013"
        },
        {
         "data": [
          {
           "labels": [
            "Academic",
            "Government",
            "Private Company"
           ],
           "type": "pie",
           "values": [
            13,
            1,
            3
           ]
          }
         ],
         "name": "2014"
        },
        {
         "data": [
          {
           "labels": [
            "Academic",
            "Government",
            "Private Company"
           ],
           "type": "pie",
           "values": [
            11,
            4,
            3
           ]
          }
         ],
         "name": "2015"
        },
        {
         "data": [
          {
           "labels": [
            "Academic",
            "Government",
            "Private Company"
           ],
           "type": "pie",
           "values": [
            34,
            4,
            7
           ]
          }
         ],
         "name": "2016"
        },
        {
         "data": [
          {
           "labels": [
            "Academic",
            "Government",
            "Private Company"
           ],
           "type": "pie",
           "values": [
            24,
            2,
            7
           ]
          }
         ],
         "name": "2017"
        },
        {
         "data": [
          {
           "labels": [
            "Academic",
            "Government",
            "Private Company"
           ],
           "type": "pie",
           "values": [
            29,
            8,
            6
           ]
          }
         ],
         "name": "2018"
        },
        {
         "data": [
          {
           "labels": [
            "Academic",
            "Government",
            "Private Company"
           ],
           "type": "pie",
           "values": [
            23,
            5,
            6
           ]
          }
         ],
         "name": "2019"
        },
        {
         "data": [
          {
           "labels": [
            "Academic",
            "Government",
            "Private Company"
           ],
           "type": "pie",
           "values": [
            12,
            4,
            6
           ]
          }
         ],
         "name": "2020"
        },
        {
         "data": [
          {
           "labels": [
            "Academic",
            "Government",
            "Private Company"
           ],
           "type": "pie",
           "values": [
            19,
            7,
            10
           ]
          }
         ],
         "name": "2021"
        },
        {
         "data": [
          {
           "labels": [
            "Academic",
            "Government",
            "Private Company"
           ],
           "type": "pie",
           "values": [
            22,
            9,
            7
           ]
          }
         ],
         "name": "2022"
        },
        {
         "data": [
          {
           "labels": [
            "Academic",
            "Government",
            "Private Company"
           ],
           "type": "pie",
           "values": [
            25,
            12,
            9
           ]
          }
         ],
         "name": "2023"
        },
        {
         "data": [
          {
           "labels": [
            "Academic",
            "Government",
            "Private Company"
           ],
           "type": "pie",
           "values": [
            23,
            10,
            11
           ]
          }
         ],
         "name": "2024"
        }
       ],
       "layout": {
        "legend": {
         "tracegroupgap": 0
        },
        "piecolorway": [
         "#1f77b4",
         "#ff7f0e",
         "#2ca02c"
        ],
        "sliders": [
         {
          "active": 24,
          "currentvalue": {
           "prefix": "Year: "
          },
          "pad": {
           "t": 50
          },
          "steps": [
           {
            "args": [
             [
              "2000"
             ],
             {
              "frame": {
               "duration": 0,
               "redraw": true
              },
              "mode": "immediate",
              "transition": {
               "duration": 0
              }
             }
            ],
            "label": "2000",
            "method": "animate"
           },
           {
            "args": [
             [
              "2001"
             ],
             {
              "frame": {
               "duration": 0,
               "redraw": true
              },
              "mode": "immediate",
              "transition": {
               "duration": 0
              }
             }
            ],
            "label": "2001",
            "method": "animate"
           },
           {
            "args": [
             [
              "2002"
             ],
             {
              "frame": {
               "duration": 0,
               "redraw": true
              },
              "mode": "immediate",
              "transition": {
               "duration": 0
              }
             }
            ],
            "label": "2002",
            "method": "animate"
           },
           {
            "args": [
             [
              "2003"
             ],
             {
              "frame": {
               "duration": 0,
               "redraw": true
              },
              "mode": "immediate",
              "transition": {
               "duration": 0
              }
             }
            ],
            "label": "2003",
            "method": "animate"
           },
           {
            "args": [
             [
              "2004"
             ],
             {
              "frame": {
               "duration": 0,
               "redraw": true
              },
              "mode": "immediate",
              "transition": {
               "duration": 0
              }
             }
            ],
            "label": "2004",
            "method": "animate"
           },
           {
            "args": [
             [
              "2005"
             ],
             {
              "frame": {
               "duration": 0,
               "redraw": true
              },
              "mode": "immediate",
              "transition": {
               "duration": 0
              }
             }
            ],
            "label": "2005",
            "method": "animate"
           },
           {
            "args": [
             [
              "2006"
             ],
             {
              "frame": {
               "duration": 0,
               "redraw": true
              },
              "mode": "immediate",
              "transition": {
               "duration": 0
              }
             }
            ],
            "label": "2006",
            "method": "animate"
           },
           {
            "args": [
             [
              "2007"
             ],
             {
              "frame": {
               "duration": 0,
               "redraw": true
              },
              "mode": "immediate",
              "transition": {
               "duration": 0
              }
             }
            ],
            "label": "2007",
            "method": "animate"
           },
           {
            "args": [
             [
              "2008"
             ],
             {
              "frame": {
               "duration": 0,
               "redraw": true
              },
              "mode": "immediate",
              "transition": {
               "duration": 0
              }
             }
            ],
            "label": "2008",
            "method": "animate"
           },
           {
            "args": [
             [
              "2009"
             ],
             {
              "frame": {
               "duration": 0,
               "redraw": true
              },
              "mode": "immediate",
              "transition": {
               "duration": 0
              }
             }
            ],
            "label": "2009",
            "method": "animate"
           },
           {
            "args": [
             [
              "2010"
             ],
             {
              "frame": {
               "duration": 0,
               "redraw": true
              },
              "mode": "immediate",
              "transition": {
               "duration": 0
              }
             }
            ],
            "label": "2010",
            "method": "animate"
           },
           {
            "args": [
             [
              "2011"
             ],
             {
              "frame": {
               "duration": 0,
               "redraw": true
              },
              "mode": "immediate",
              "transition": {
               "duration": 0
              }
             }
            ],
            "label": "2011",
            "method": "animate"
           },
           {
            "args": [
             [
              "2012"
             ],
             {
              "frame": {
               "duration": 0,
               "redraw": true
              },
              "mode": "immediate",
              "transition": {
               "duration": 0
              }
             }
            ],
            "label": "2012",
            "method": "animate"
           },
           {
            "args": [
             [
              "2013"
             ],
             {
              "frame": {
               "duration": 0,
               "redraw": true
              },
              "mode": "immediate",
              "transition": {
               "duration": 0
              }
             }
            ],
            "label": "2013",
            "method": "animate"
           },
           {
            "args": [
             [
              "2014"
             ],
             {
              "frame": {
               "duration": 0,
               "redraw": true
              },
              "mode": "immediate",
              "transition": {
               "duration": 0
              }
             }
            ],
            "label": "2014",
            "method": "animate"
           },
           {
            "args": [
             [
              "2015"
             ],
             {
              "frame": {
               "duration": 0,
               "redraw": true
              },
              "mode": "immediate",
              "transition": {
               "duration": 0
              }
             }
            ],
            "label": "2015",
            "method": "animate"
           },
           {
            "args": [
             [
              "2016"
             ],
             {
              "frame": {
               "duration": 0,
               "redraw": true
              },
              "mode": "immediate",
              "transition": {
               "duration": 0
              }
             }
            ],
            "label": "2016",
            "method": "animate"
           },
           {
            "args": [
             [
              "2017"
             ],
             {
              "frame": {
               "duration": 0,
               "redraw": true
              },
              "mode": "immediate",
              "transition": {
               "duration": 0
              }
             }
            ],
            "label": "2017",
            "method": "animate"
           },
           {
            "args": [
             [
              "2018"
             ],
             {
              "frame": {
               "duration": 0,
               "redraw": true
              },
              "mode": "immediate",
              "transition": {
               "duration": 0
              }
             }
            ],
            "label": "2018",
            "method": "animate"
           },
           {
            "args": [
             [
              "2019"
             ],
             {
              "frame": {
               "duration": 0,
               "redraw": true
              },
              "mode": "immediate",
              "transition": {
               "duration": 0
              }
             }
            ],
            "label": "2019",
            "method": "animate"
           },
           {
            "args": [
             [
              "2020"
             ],
             {
              "frame": {
               "duration": 0,
               "redraw": true
              },
              "mode": "immediate",
              "transition": {
               "duration": 0
              }
             }
            ],
            "label": "2020",
            "method": "animate"
           },
           {
            "args": [
             [
              "2021"
             ],
             {
              "frame": {
               "duration": 0,
               "redraw": true
              },
              "mode": "immediate",
              "transition": {
               "duration": 0
              }
             }
            ],
            "label": "2021",
            "method": "animate"
           },
           {
            "args": [
             [
              "2022"
             ],
             {
              "frame": {
               "duration": 0,
               "redraw": true
              },
              "mode": "immediate",
              "transition": {
               "duration": 0
              }
             }
            ],
            "label": "2022",
            "method": "animate"
           },
           {
            "args": [
             [
              "2023"
             ],
             {
              "frame": {
               "duration": 0,
               "redraw": true
              },
              "mode": "immediate",
              "transition": {
               "duration": 0
              }
             }
            ],
            "label": "2023",
            "method": "animate"
           },
           {
            "args": [
             [
              "2024"
             ],
             {
              "frame": {
               "duration": 0,
               "redraw": true
              },
              "mode": "immediate",
              "transition": {
               "duration": 0
              }
             }
            ],
            "label": "2024",
            "method": "animate"
           }
          ]
         }
        ],
        "template": {
         "data": {
          "bar": [
           {
            "error_x": {
             "color": "#2a3f5f"
            },
            "error_y": {
             "color": "#2a3f5f"
            },
            "marker": {
             "line": {
              "color": "#E5ECF6",
              "width": 0.5
             },
             "pattern": {
              "fillmode": "overlay",
              "size": 10,
              "solidity": 0.2
             }
            },
            "type": "bar"
           }
          ],
          "barpolar": [
           {
            "marker": {
             "line": {
              "color": "#E5ECF6",
              "width": 0.5
             },
             "pattern": {
              "fillmode": "overlay",
              "size": 10,
              "solidity": 0.2
             }
            },
            "type": "barpolar"
           }
          ],
          "carpet": [
           {
            "aaxis": {
             "endlinecolor": "#2a3f5f",
             "gridcolor": "white",
             "linecolor": "white",
             "minorgridcolor": "white",
             "startlinecolor": "#2a3f5f"
            },
            "baxis": {
             "endlinecolor": "#2a3f5f",
             "gridcolor": "white",
             "linecolor": "white",
             "minorgridcolor": "white",
             "startlinecolor": "#2a3f5f"
            },
            "type": "carpet"
           }
          ],
          "choropleth": [
           {
            "colorbar": {
             "outlinewidth": 0,
             "ticks": ""
            },
            "type": "choropleth"
           }
          ],
          "contour": [
           {
            "colorbar": {
             "outlinewidth": 0,
             "ticks": ""
            },
            "colorscale": [
             [
              0,
              "#0d0887"
             ],
             [
              0.1111111111111111,
              "#46039f"
             ],
             [
              0.2222222222222222,
              "#7201a8"
             ],
             [
              0.3333333333333333,
              "#9c179e"
             ],
             [
              0.4444444444444444,
              "#bd3786"
             ],
             [
              0.5555555555555556,
              "#d8576b"
             ],
             [
              0.6666666666666666,
              "#ed7953"
             ],
             [
              0.7777777777777778,
              "#fb9f3a"
             ],
             [
              0.8888888888888888,
              "#fdca26"
             ],
             [
              1,
              "#f0f921"
             ]
            ],
            "type": "contour"
           }
          ],
          "contourcarpet": [
           {
            "colorbar": {
             "outlinewidth": 0,
             "ticks": ""
            },
            "type": "contourcarpet"
           }
          ],
          "heatmap": [
           {
            "colorbar": {
             "outlinewidth": 0,
             "ticks": ""
            },
            "colorscale": [
             [
              0,
              "#0d0887"
             ],
             [
              0.1111111111111111,
              "#46039f"
             ],
             [
              0.2222222222222222,
              "#7201a8"
             ],
             [
              0.3333333333333333,
              "#9c179e"
             ],
             [
              0.4444444444444444,
              "#bd3786"
             ],
             [
              0.5555555555555556,
              "#d8576b"
             ],
             [
              0.6666666666666666,
              "#ed7953"
             ],
             [
              0.7777777777777778,
              "#fb9f3a"
             ],
             [
              0.8888888888888888,
              "#fdca26"
             ],
             [
              1,
              "#f0f921"
             ]
            ],
            "type": "heatmap"
           }
          ],
          "heatmapgl": [
           {
            "colorbar": {
             "outlinewidth": 0,
             "ticks": ""
            },
            "colorscale": [
             [
              0,
              "#0d0887"
             ],
             [
              0.1111111111111111,
              "#46039f"
             ],
             [
              0.2222222222222222,
              "#7201a8"
             ],
             [
              0.3333333333333333,
              "#9c179e"
             ],
             [
              0.4444444444444444,
              "#bd3786"
             ],
             [
              0.5555555555555556,
              "#d8576b"
             ],
             [
              0.6666666666666666,
              "#ed7953"
             ],
             [
              0.7777777777777778,
              "#fb9f3a"
             ],
             [
              0.8888888888888888,
              "#fdca26"
             ],
             [
              1,
              "#f0f921"
             ]
            ],
            "type": "heatmapgl"
           }
          ],
          "histogram": [
           {
            "marker": {
             "pattern": {
              "fillmode": "overlay",
              "size": 10,
              "solidity": 0.2
             }
            },
            "type": "histogram"
           }
          ],
          "histogram2d": [
           {
            "colorbar": {
             "outlinewidth": 0,
             "ticks": ""
            },
            "colorscale": [
             [
              0,
              "#0d0887"
             ],
             [
              0.1111111111111111,
              "#46039f"
             ],
             [
              0.2222222222222222,
              "#7201a8"
             ],
             [
              0.3333333333333333,
              "#9c179e"
             ],
             [
              0.4444444444444444,
              "#bd3786"
             ],
             [
              0.5555555555555556,
              "#d8576b"
             ],
             [
              0.6666666666666666,
              "#ed7953"
             ],
             [
              0.7777777777777778,
              "#fb9f3a"
             ],
             [
              0.8888888888888888,
              "#fdca26"
             ],
             [
              1,
              "#f0f921"
             ]
            ],
            "type": "histogram2d"
           }
          ],
          "histogram2dcontour": [
           {
            "colorbar": {
             "outlinewidth": 0,
             "ticks": ""
            },
            "colorscale": [
             [
              0,
              "#0d0887"
             ],
             [
              0.1111111111111111,
              "#46039f"
             ],
             [
              0.2222222222222222,
              "#7201a8"
             ],
             [
              0.3333333333333333,
              "#9c179e"
             ],
             [
              0.4444444444444444,
              "#bd3786"
             ],
             [
              0.5555555555555556,
              "#d8576b"
             ],
             [
              0.6666666666666666,
              "#ed7953"
             ],
             [
              0.7777777777777778,
              "#fb9f3a"
             ],
             [
              0.8888888888888888,
              "#fdca26"
             ],
             [
              1,
              "#f0f921"
             ]
            ],
            "type": "histogram2dcontour"
           }
          ],
          "mesh3d": [
           {
            "colorbar": {
             "outlinewidth": 0,
             "ticks": ""
            },
            "type": "mesh3d"
           }
          ],
          "parcoords": [
           {
            "line": {
             "colorbar": {
              "outlinewidth": 0,
              "ticks": ""
             }
            },
            "type": "parcoords"
           }
          ],
          "pie": [
           {
            "automargin": true,
            "type": "pie"
           }
          ],
          "scatter": [
           {
            "fillpattern": {
             "fillmode": "overlay",
             "size": 10,
             "solidity": 0.2
            },
            "type": "scatter"
           }
          ],
          "scatter3d": [
           {
            "line": {
             "colorbar": {
              "outlinewidth": 0,
              "ticks": ""
             }
            },
            "marker": {
             "colorbar": {
              "outlinewidth": 0,
              "ticks": ""
             }
            },
            "type": "scatter3d"
           }
          ],
          "scattercarpet": [
           {
            "marker": {
             "colorbar": {
              "outlinewidth": 0,
              "ticks": ""
             }
            },
            "type": "scattercarpet"
           }
          ],
          "scattergeo": [
           {
            "marker": {
             "colorbar": {
              "outlinewidth": 0,
              "ticks": ""
             }
            },
            "type": "scattergeo"
           }
          ],
          "scattergl": [
           {
            "marker": {
             "colorbar": {
              "outlinewidth": 0,
              "ticks": ""
             }
            },
            "type": "scattergl"
           }
          ],
          "scattermapbox": [
           {
            "marker": {
             "colorbar": {
              "outlinewidth": 0,
              "ticks": ""
             }
            },
            "type": "scattermapbox"
           }
          ],
          "scatterpolar": [
           {
            "marker": {
             "colorbar": {
              "outlinewidth": 0,
              "ticks": ""
             }
            },
            "type": "scatterpolar"
           }
          ],
          "scatterpolargl": [
           {
            "marker": {
             "colorbar": {
              "outlinewidth": 0,
              "ticks": ""
             }
            },
            "type": "scatterpolargl"
           }
          ],
          "scatterternary": [
           {
            "marker": {
             "colorbar": {
              "outlinewidth": 0,
              "ticks": ""
             }
            },
            "type": "scatterternary"
           }
          ],
          "surface": [
           {
            "colorbar": {
             "outlinewidth": 0,
             "ticks": ""
            },
            "colorscale": [
             [
              0,
              "#0d0887"
             ],
             [
              0.1111111111111111,
              "#46039f"
             ],
             [
              0.2222222222222222,
              "#7201a8"
             ],
             [
              0.3333333333333333,
              "#9c179e"
             ],
             [
              0.4444444444444444,
              "#bd3786"
             ],
             [
              0.5555555555555556,
              "#d8576b"
             ],
             [
              0.6666666666666666,
              "#ed7953"
             ],
             [
              0.7777777777777778,
              "#fb9f3a"
             ],
             [
              0.8888888888888888,
              "#fdca26"
             ],
             [
              1,
              "#f0f921"
             ]
            ],
            "type": "surface"
           }
          ],
          "table": [
           {
            "cells": {
             "fill": {
              "color": "#EBF0F8"
             },
             "line": {
              "color": "white"
             }
            },
            "header": {
             "fill": {
              "color": "#C8D4E3"
             },
             "line": {
              "color": "white"
             }
            },
            "type": "table"
           }
          ]
         },
         "layout": {
          "annotationdefaults": {
           "arrowcolor": "#2a3f5f",
           "arrowhead": 0,
           "arrowwidth": 1
          },
          "autotypenumbers": "strict",
          "coloraxis": {
           "colorbar": {
            "outlinewidth": 0,
            "ticks": ""
           }
          },
          "colorscale": {
           "diverging": [
            [
             0,
             "#8e0152"
            ],
            [
             0.1,
             "#c51b7d"
            ],
            [
             0.2,
             "#de77ae"
            ],
            [
             0.3,
             "#f1b6da"
            ],
            [
             0.4,
             "#fde0ef"
            ],
            [
             0.5,
             "#f7f7f7"
            ],
            [
             0.6,
             "#e6f5d0"
            ],
            [
             0.7,
             "#b8e186"
            ],
            [
             0.8,
             "#7fbc41"
            ],
            [
             0.9,
             "#4d9221"
            ],
            [
             1,
             "#276419"
            ]
           ],
           "sequential": [
            [
             0,
             "#0d0887"
            ],
            [
             0.1111111111111111,
             "#46039f"
            ],
            [
             0.2222222222222222,
             "#7201a8"
            ],
            [
             0.3333333333333333,
             "#9c179e"
            ],
            [
             0.4444444444444444,
             "#bd3786"
            ],
            [
             0.5555555555555556,
             "#d8576b"
            ],
            [
             0.6666666666666666,
             "#ed7953"
            ],
            [
             0.7777777777777778,
             "#fb9f3a"
            ],
            [
             0.8888888888888888,
             "#fdca26"
            ],
            [
             1,
             "#f0f921"
            ]
           ],
           "sequentialminus": [
            [
             0,
             "#0d0887"
            ],
            [
             0.1111111111111111,
             "#46039f"
            ],
            [
             0.2222222222222222,
             "#7201a8"
            ],
            [
             0.3333333333333333,
             "#9c179e"
            ],
            [
             0.4444444444444444,
             "#bd3786"
            ],
            [
             0.5555555555555556,
             "#d8576b"
            ],
            [
             0.6666666666666666,
             "#ed7953"
            ],
            [
             0.7777777777777778,
             "#fb9f3a"
            ],
            [
             0.8888888888888888,
             "#fdca26"
            ],
            [
             1,
             "#f0f921"
            ]
           ]
          },
          "colorway": [
           "#636efa",
           "#EF553B",
           "#00cc96",
           "#ab63fa",
           "#FFA15A",
           "#19d3f3",
           "#FF6692",
           "#B6E880",
           "#FF97FF",
           "#FECB52"
          ],
          "font": {
           "color": "#2a3f5f"
          },
          "geo": {
           "bgcolor": "white",
           "lakecolor": "white",
           "landcolor": "#E5ECF6",
           "showlakes": true,
           "showland": true,
           "subunitcolor": "white"
          },
          "hoverlabel": {
           "align": "left"
          },
          "hovermode": "closest",
          "mapbox": {
           "style": "light"
          },
          "paper_bgcolor": "white",
          "plot_bgcolor": "#E5ECF6",
          "polar": {
           "angularaxis": {
            "gridcolor": "white",
            "linecolor": "white",
            "ticks": ""
           },
           "bgcolor": "#E5ECF6",
           "radialaxis": {
            "gridcolor": "white",
            "linecolor": "white",
            "ticks": ""
           }
          },
          "scene": {
           "xaxis": {
            "backgroundcolor": "#E5ECF6",
            "gridcolor": "white",
            "gridwidth": 2,
            "linecolor": "white",
            "showbackground": true,
            "ticks": "",
            "zerolinecolor": "white"
           },
           "yaxis": {
            "backgroundcolor": "#E5ECF6",
            "gridcolor": "white",
            "gridwidth": 2,
            "linecolor": "white",
            "showbackground": true,
            "ticks": "",
            "zerolinecolor": "white"
           },
           "zaxis": {
            "backgroundcolor": "#E5ECF6",
            "gridcolor": "white",
            "gridwidth": 2,
            "linecolor": "white",
            "showbackground": true,
            "ticks": "",
            "zerolinecolor": "white"
           }
          },
          "shapedefaults": {
           "line": {
            "color": "#2a3f5f"
           }
          },
          "ternary": {
           "aaxis": {
            "gridcolor": "white",
            "linecolor": "white",
            "ticks": ""
           },
           "baxis": {
            "gridcolor": "white",
            "linecolor": "white",
            "ticks": ""
           },
           "bgcolor": "#E5ECF6",
           "caxis": {
            "gridcolor": "white",
            "linecolor": "white",
            "ticks": ""
           }
          },
          "title": {
           "x": 0.05
          },
          "xaxis": {
           "automargin": true,
           "gridcolor": "white",
           "linecolor": "white",
           "ticks": "",
           "title": {
            "standoff": 15
           },
           "zerolinecolor": "white",
           "zerolinewidth": 2
          },
          "yaxis": {
           "automargin": true,
           "gridcolor": "white",
           "linecolor": "white",
           "ticks": "",
           "title": {
            "standoff": 15
           },
           "zerolinecolor": "white",
           "zerolinewidth": 2
          }
         }
        },
        "title": {
         "text": "Distribution of Placements by Type"
        }
       }
      }
     },
     "metadata": {},
     "output_type": "display_data"
    }
   ],
   "source": [
    "import plotly.express as px\n",
    "\n",
    "# Prepare the data for the pie chart by melting the yearly counts into long format\n",
    "yearly_combined_counts = placement_df.groupby('year').agg(\n",
    "    academic_count=('academic', 'sum'),\n",
    "    private_count=('private_company', 'sum'),\n",
    "    government_count=('government', 'sum')\n",
    ").reset_index()\n",
    "\n",
    "# Filter out years 1999 and 2025\n",
    "yearly_combined_counts = yearly_combined_counts[~yearly_combined_counts['year'].isin([1999, 2025])]\n",
    "\n",
    "# Melt the data to get it in the right format for the pie chart\n",
    "melted_counts = yearly_combined_counts.melt(\n",
    "    id_vars=['year'],\n",
    "    value_vars=['academic_count', 'private_count', 'government_count'],\n",
    "    var_name='placement_type',\n",
    "    value_name='count'\n",
    ")\n",
    "\n",
    "# Map the column names to display names\n",
    "melted_counts['placement_type'] = melted_counts['placement_type'].map({\n",
    "    'academic_count': 'Academic',\n",
    "    'private_count': 'Private Company', \n",
    "    'government_count': 'Government'\n",
    "})\n",
    "\n",
    "# Create the pie chart\n",
    "fig_pie = px.pie(\n",
    "    melted_counts[melted_counts['year'] == melted_counts['year'].max()], # Start with most recent year\n",
    "    values='count',\n",
    "    names='placement_type',\n",
    "    title='Distribution of Placements by Type',\n",
    "    color_discrete_sequence=['#1f77b4', '#ff7f0e', '#2ca02c']  # Blue, Orange, Green\n",
    ")\n",
    "\n",
    "# Add a slider for the year\n",
    "fig_pie.update_traces(\n",
    "    selector=dict(type='pie'),\n",
    "    pull=[0.1, 0, 0]  # Slightly pull out the academic slice for emphasis\n",
    ")\n",
    "\n",
    "# Create frames for animation\n",
    "frames = [\n",
    "    dict(\n",
    "        data=[dict(\n",
    "            type='pie',\n",
    "            values=melted_counts[melted_counts['year'] == year].sort_values('placement_type')['count'],\n",
    "            labels=sorted(['Academic', 'Private Company', 'Government'])\n",
    "        )],\n",
    "        name=str(int(year))\n",
    "    )\n",
    "    for year in sorted(melted_counts['year'].unique())\n",
    "]\n",
    "\n",
    "# Add slider\n",
    "sliders = [dict(\n",
    "    active=len(frames)-1,\n",
    "    currentvalue={\"prefix\": \"Year: \"},\n",
    "    pad={\"t\": 50},\n",
    "    steps=[dict(\n",
    "        label=str(int(year)),\n",
    "        method='animate',\n",
    "        args=[[str(int(year))], dict(\n",
    "            frame=dict(duration=0, redraw=True),\n",
    "            mode='immediate',\n",
    "            transition=dict(duration=0)\n",
    "        )]\n",
    "    ) for year in sorted(melted_counts['year'].unique())]\n",
    ")]\n",
    "\n",
    "fig_pie.frames = frames\n",
    "fig_pie.update_layout(\n",
    "    sliders=sliders\n",
    ")\n",
    "\n",
    "# Save to HTML file\n",
    "fig_pie.write_html(\"../output/placement_pie_chart.html\")\n",
    "\n",
    "# Display the figure\n",
    "fig_pie.show()"
   ]
  },
  {
   "cell_type": "code",
   "execution_count": 17,
   "id": "81731fdf",
   "metadata": {},
   "outputs": [
    {
     "data": {
      "application/vnd.plotly.v1+json": {
       "config": {
        "plotlyServerURL": "https://plot.ly"
       },
       "data": [
        {
         "link": {
          "color": [
           "rgba(31, 119, 180, 0.4)",
           "rgba(255, 127, 14, 0.4)",
           "rgba(44, 160, 44, 0.4)",
           "rgba(31, 119, 180, 0.4)",
           "rgba(255, 127, 14, 0.4)",
           "rgba(44, 160, 44, 0.4)",
           "rgba(31, 119, 180, 0.4)",
           "rgba(255, 127, 14, 0.4)",
           "rgba(44, 160, 44, 0.4)"
          ],
          "source": [
           0,
           0,
           0,
           1,
           1,
           1,
           2,
           2,
           2
          ],
          "target": [
           3,
           4,
           5,
           3,
           4,
           5,
           3,
           4,
           5
          ],
          "value": [
           12,
           4,
           4,
           0.6000000000000001,
           1.7999999999999998,
           0.6000000000000001,
           0.6000000000000001,
           0.6000000000000001,
           1.7999999999999998
          ]
         },
         "node": {
          "color": [
           "#1f77b4",
           "#ff7f0e",
           "#2ca02c",
           "#1f77b4",
           "#ff7f0e",
           "#2ca02c"
          ],
          "label": [
           "Academic (1999)",
           "Private Company (1999)",
           "Government (1999)",
           "Academic (2024)",
           "Private Company (2024)",
           "Government (2024)"
          ],
          "line": {
           "color": "black",
           "width": 0.5
          },
          "pad": 1,
          "thickness": 20
         },
         "type": "sankey"
        }
       ],
       "frames": [
        {
         "data": [
          {
           "link": {
            "color": [
             "rgba(31, 119, 180, 0.4)",
             "rgba(255, 127, 14, 0.4)",
             "rgba(44, 160, 44, 0.4)",
             "rgba(31, 119, 180, 0.4)",
             "rgba(255, 127, 14, 0.4)",
             "rgba(44, 160, 44, 0.4)",
             "rgba(31, 119, 180, 0.4)",
             "rgba(255, 127, 14, 0.4)",
             "rgba(44, 160, 44, 0.4)"
            ],
            "source": [
             0,
             0,
             0,
             1,
             1,
             1,
             2,
             2,
             2
            ],
            "target": [
             3,
             4,
             5,
             3,
             4,
             5,
             3,
             4,
             5
            ],
            "value": [
             12,
             4,
             4,
             0.6000000000000001,
             1.7999999999999998,
             0.6000000000000001,
             0.6000000000000001,
             0.6000000000000001,
             1.7999999999999998
            ]
           },
           "node": {
            "color": [
             "#1f77b4",
             "#ff7f0e",
             "#2ca02c",
             "#1f77b4",
             "#ff7f0e",
             "#2ca02c"
            ],
            "label": [
             "Academic (1999)",
             "Private Company (1999)",
             "Government (1999)",
             "Academic (2024)",
             "Private Company (2024)",
             "Government (2024)"
            ],
            "line": {
             "color": "black",
             "width": 0.5
            },
            "pad": 1,
            "thickness": 20
           },
           "type": "sankey"
          }
         ],
         "name": "1999"
        },
        {
         "data": [
          {
           "link": {
            "color": [
             "rgba(31, 119, 180, 0.4)",
             "rgba(255, 127, 14, 0.4)",
             "rgba(44, 160, 44, 0.4)",
             "rgba(31, 119, 180, 0.4)",
             "rgba(255, 127, 14, 0.4)",
             "rgba(44, 160, 44, 0.4)",
             "rgba(31, 119, 180, 0.4)",
             "rgba(255, 127, 14, 0.4)",
             "rgba(44, 160, 44, 0.4)"
            ],
            "source": [
             0,
             0,
             0,
             1,
             1,
             1,
             2,
             2,
             2
            ],
            "target": [
             3,
             4,
             5,
             3,
             4,
             5,
             3,
             4,
             5
            ],
            "value": [
             4.2,
             1.4000000000000001,
             1.4000000000000001,
             0.2,
             0.6,
             0.2,
             0.6000000000000001,
             0.6000000000000001,
             1.7999999999999998
            ]
           },
           "node": {
            "color": [
             "#1f77b4",
             "#ff7f0e",
             "#2ca02c",
             "#1f77b4",
             "#ff7f0e",
             "#2ca02c"
            ],
            "label": [
             "Academic (2000)",
             "Private Company (2000)",
             "Government (2000)",
             "Academic (2024)",
             "Private Company (2024)",
             "Government (2024)"
            ],
            "line": {
             "color": "black",
             "width": 0.5
            },
            "pad": 1,
            "thickness": 20
           },
           "type": "sankey"
          }
         ],
         "name": "2000"
        },
        {
         "data": [
          {
           "link": {
            "color": [
             "rgba(31, 119, 180, 0.4)",
             "rgba(255, 127, 14, 0.4)",
             "rgba(44, 160, 44, 0.4)",
             "rgba(31, 119, 180, 0.4)",
             "rgba(255, 127, 14, 0.4)",
             "rgba(44, 160, 44, 0.4)",
             "rgba(31, 119, 180, 0.4)",
             "rgba(255, 127, 14, 0.4)",
             "rgba(44, 160, 44, 0.4)"
            ],
            "source": [
             0,
             0,
             0,
             1,
             1,
             1,
             2,
             2,
             2
            ],
            "target": [
             3,
             4,
             5,
             3,
             4,
             5,
             3,
             4,
             5
            ],
            "value": [
             4.2,
             1.4000000000000001,
             1.4000000000000001,
             0,
             0,
             0,
             0.4,
             0.4,
             1.2
            ]
           },
           "node": {
            "color": [
             "#1f77b4",
             "#ff7f0e",
             "#2ca02c",
             "#1f77b4",
             "#ff7f0e",
             "#2ca02c"
            ],
            "label": [
             "Academic (2001)",
             "Private Company (2001)",
             "Government (2001)",
             "Academic (2024)",
             "Private Company (2024)",
             "Government (2024)"
            ],
            "line": {
             "color": "black",
             "width": 0.5
            },
            "pad": 1,
            "thickness": 20
           },
           "type": "sankey"
          }
         ],
         "name": "2001"
        },
        {
         "data": [
          {
           "link": {
            "color": [
             "rgba(31, 119, 180, 0.4)",
             "rgba(255, 127, 14, 0.4)",
             "rgba(44, 160, 44, 0.4)",
             "rgba(31, 119, 180, 0.4)",
             "rgba(255, 127, 14, 0.4)",
             "rgba(44, 160, 44, 0.4)",
             "rgba(31, 119, 180, 0.4)",
             "rgba(255, 127, 14, 0.4)",
             "rgba(44, 160, 44, 0.4)"
            ],
            "source": [
             0,
             0,
             0,
             1,
             1,
             1,
             2,
             2,
             2
            ],
            "target": [
             3,
             4,
             5,
             3,
             4,
             5,
             3,
             4,
             5
            ],
            "value": [
             6,
             2,
             2,
             0.2,
             0.6,
             0.2,
             0.4,
             0.4,
             1.2
            ]
           },
           "node": {
            "color": [
             "#1f77b4",
             "#ff7f0e",
             "#2ca02c",
             "#1f77b4",
             "#ff7f0e",
             "#2ca02c"
            ],
            "label": [
             "Academic (2002)",
             "Private Company (2002)",
             "Government (2002)",
             "Academic (2024)",
             "Private Company (2024)",
             "Government (2024)"
            ],
            "line": {
             "color": "black",
             "width": 0.5
            },
            "pad": 1,
            "thickness": 20
           },
           "type": "sankey"
          }
         ],
         "name": "2002"
        },
        {
         "data": [
          {
           "link": {
            "color": [
             "rgba(31, 119, 180, 0.4)",
             "rgba(255, 127, 14, 0.4)",
             "rgba(44, 160, 44, 0.4)",
             "rgba(31, 119, 180, 0.4)",
             "rgba(255, 127, 14, 0.4)",
             "rgba(44, 160, 44, 0.4)",
             "rgba(31, 119, 180, 0.4)",
             "rgba(255, 127, 14, 0.4)",
             "rgba(44, 160, 44, 0.4)"
            ],
            "source": [
             0,
             0,
             0,
             1,
             1,
             1,
             2,
             2,
             2
            ],
            "target": [
             3,
             4,
             5,
             3,
             4,
             5,
             3,
             4,
             5
            ],
            "value": [
             5.3999999999999995,
             1.8,
             1.8,
             0.2,
             0.6,
             0.2,
             0.6000000000000001,
             0.6000000000000001,
             1.7999999999999998
            ]
           },
           "node": {
            "color": [
             "#1f77b4",
             "#ff7f0e",
             "#2ca02c",
             "#1f77b4",
             "#ff7f0e",
             "#2ca02c"
            ],
            "label": [
             "Academic (2003)",
             "Private Company (2003)",
             "Government (2003)",
             "Academic (2024)",
             "Private Company (2024)",
             "Government (2024)"
            ],
            "line": {
             "color": "black",
             "width": 0.5
            },
            "pad": 1,
            "thickness": 20
           },
           "type": "sankey"
          }
         ],
         "name": "2003"
        },
        {
         "data": [
          {
           "link": {
            "color": [
             "rgba(31, 119, 180, 0.4)",
             "rgba(255, 127, 14, 0.4)",
             "rgba(44, 160, 44, 0.4)",
             "rgba(31, 119, 180, 0.4)",
             "rgba(255, 127, 14, 0.4)",
             "rgba(44, 160, 44, 0.4)",
             "rgba(31, 119, 180, 0.4)",
             "rgba(255, 127, 14, 0.4)",
             "rgba(44, 160, 44, 0.4)"
            ],
            "source": [
             0,
             0,
             0,
             1,
             1,
             1,
             2,
             2,
             2
            ],
            "target": [
             3,
             4,
             5,
             3,
             4,
             5,
             3,
             4,
             5
            ],
            "value": [
             4.8,
             1.6,
             1.6,
             0.4,
             1.2,
             0.4,
             0.2,
             0.2,
             0.6
            ]
           },
           "node": {
            "color": [
             "#1f77b4",
             "#ff7f0e",
             "#2ca02c",
             "#1f77b4",
             "#ff7f0e",
             "#2ca02c"
            ],
            "label": [
             "Academic (2004)",
             "Private Company (2004)",
             "Government (2004)",
             "Academic (2024)",
             "Private Company (2024)",
             "Government (2024)"
            ],
            "line": {
             "color": "black",
             "width": 0.5
            },
            "pad": 1,
            "thickness": 20
           },
           "type": "sankey"
          }
         ],
         "name": "2004"
        },
        {
         "data": [
          {
           "link": {
            "color": [
             "rgba(31, 119, 180, 0.4)",
             "rgba(255, 127, 14, 0.4)",
             "rgba(44, 160, 44, 0.4)",
             "rgba(31, 119, 180, 0.4)",
             "rgba(255, 127, 14, 0.4)",
             "rgba(44, 160, 44, 0.4)",
             "rgba(31, 119, 180, 0.4)",
             "rgba(255, 127, 14, 0.4)",
             "rgba(44, 160, 44, 0.4)"
            ],
            "source": [
             0,
             0,
             0,
             1,
             1,
             1,
             2,
             2,
             2
            ],
            "target": [
             3,
             4,
             5,
             3,
             4,
             5,
             3,
             4,
             5
            ],
            "value": [
             6,
             2,
             2,
             0.8,
             2.4,
             0.8,
             0.2,
             0.2,
             0.6
            ]
           },
           "node": {
            "color": [
             "#1f77b4",
             "#ff7f0e",
             "#2ca02c",
             "#1f77b4",
             "#ff7f0e",
             "#2ca02c"
            ],
            "label": [
             "Academic (2005)",
             "Private Company (2005)",
             "Government (2005)",
             "Academic (2024)",
             "Private Company (2024)",
             "Government (2024)"
            ],
            "line": {
             "color": "black",
             "width": 0.5
            },
            "pad": 1,
            "thickness": 20
           },
           "type": "sankey"
          }
         ],
         "name": "2005"
        },
        {
         "data": [
          {
           "link": {
            "color": [
             "rgba(31, 119, 180, 0.4)",
             "rgba(255, 127, 14, 0.4)",
             "rgba(44, 160, 44, 0.4)",
             "rgba(31, 119, 180, 0.4)",
             "rgba(255, 127, 14, 0.4)",
             "rgba(44, 160, 44, 0.4)",
             "rgba(31, 119, 180, 0.4)",
             "rgba(255, 127, 14, 0.4)",
             "rgba(44, 160, 44, 0.4)"
            ],
            "source": [
             0,
             0,
             0,
             1,
             1,
             1,
             2,
             2,
             2
            ],
            "target": [
             3,
             4,
             5,
             3,
             4,
             5,
             3,
             4,
             5
            ],
            "value": [
             7.8,
             2.6,
             2.6,
             0.4,
             1.2,
             0.4,
             0.2,
             0.2,
             0.6
            ]
           },
           "node": {
            "color": [
             "#1f77b4",
             "#ff7f0e",
             "#2ca02c",
             "#1f77b4",
             "#ff7f0e",
             "#2ca02c"
            ],
            "label": [
             "Academic (2006)",
             "Private Company (2006)",
             "Government (2006)",
             "Academic (2024)",
             "Private Company (2024)",
             "Government (2024)"
            ],
            "line": {
             "color": "black",
             "width": 0.5
            },
            "pad": 1,
            "thickness": 20
           },
           "type": "sankey"
          }
         ],
         "name": "2006"
        },
        {
         "data": [
          {
           "link": {
            "color": [
             "rgba(31, 119, 180, 0.4)",
             "rgba(255, 127, 14, 0.4)",
             "rgba(44, 160, 44, 0.4)",
             "rgba(31, 119, 180, 0.4)",
             "rgba(255, 127, 14, 0.4)",
             "rgba(44, 160, 44, 0.4)",
             "rgba(31, 119, 180, 0.4)",
             "rgba(255, 127, 14, 0.4)",
             "rgba(44, 160, 44, 0.4)"
            ],
            "source": [
             0,
             0,
             0,
             1,
             1,
             1,
             2,
             2,
             2
            ],
            "target": [
             3,
             4,
             5,
             3,
             4,
             5,
             3,
             4,
             5
            ],
            "value": [
             5.3999999999999995,
             1.8,
             1.8,
             0.6000000000000001,
             1.7999999999999998,
             0.6000000000000001,
             0.4,
             0.4,
             1.2
            ]
           },
           "node": {
            "color": [
             "#1f77b4",
             "#ff7f0e",
             "#2ca02c",
             "#1f77b4",
             "#ff7f0e",
             "#2ca02c"
            ],
            "label": [
             "Academic (2007)",
             "Private Company (2007)",
             "Government (2007)",
             "Academic (2024)",
             "Private Company (2024)",
             "Government (2024)"
            ],
            "line": {
             "color": "black",
             "width": 0.5
            },
            "pad": 1,
            "thickness": 20
           },
           "type": "sankey"
          }
         ],
         "name": "2007"
        },
        {
         "data": [
          {
           "link": {
            "color": [
             "rgba(31, 119, 180, 0.4)",
             "rgba(255, 127, 14, 0.4)",
             "rgba(44, 160, 44, 0.4)",
             "rgba(31, 119, 180, 0.4)",
             "rgba(255, 127, 14, 0.4)",
             "rgba(44, 160, 44, 0.4)",
             "rgba(31, 119, 180, 0.4)",
             "rgba(255, 127, 14, 0.4)",
             "rgba(44, 160, 44, 0.4)"
            ],
            "source": [
             0,
             0,
             0,
             1,
             1,
             1,
             2,
             2,
             2
            ],
            "target": [
             3,
             4,
             5,
             3,
             4,
             5,
             3,
             4,
             5
            ],
            "value": [
             7.8,
             2.6,
             2.6,
             0.4,
             1.2,
             0.4,
             0.4,
             0.4,
             1.2
            ]
           },
           "node": {
            "color": [
             "#1f77b4",
             "#ff7f0e",
             "#2ca02c",
             "#1f77b4",
             "#ff7f0e",
             "#2ca02c"
            ],
            "label": [
             "Academic (2008)",
             "Private Company (2008)",
             "Government (2008)",
             "Academic (2024)",
             "Private Company (2024)",
             "Government (2024)"
            ],
            "line": {
             "color": "black",
             "width": 0.5
            },
            "pad": 1,
            "thickness": 20
           },
           "type": "sankey"
          }
         ],
         "name": "2008"
        },
        {
         "data": [
          {
           "link": {
            "color": [
             "rgba(31, 119, 180, 0.4)",
             "rgba(255, 127, 14, 0.4)",
             "rgba(44, 160, 44, 0.4)",
             "rgba(31, 119, 180, 0.4)",
             "rgba(255, 127, 14, 0.4)",
             "rgba(44, 160, 44, 0.4)",
             "rgba(31, 119, 180, 0.4)",
             "rgba(255, 127, 14, 0.4)",
             "rgba(44, 160, 44, 0.4)"
            ],
            "source": [
             0,
             0,
             0,
             1,
             1,
             1,
             2,
             2,
             2
            ],
            "target": [
             3,
             4,
             5,
             3,
             4,
             5,
             3,
             4,
             5
            ],
            "value": [
             8.4,
             2.8000000000000003,
             2.8000000000000003,
             0.4,
             1.2,
             0.4,
             0.4,
             0.4,
             1.2
            ]
           },
           "node": {
            "color": [
             "#1f77b4",
             "#ff7f0e",
             "#2ca02c",
             "#1f77b4",
             "#ff7f0e",
             "#2ca02c"
            ],
            "label": [
             "Academic (2009)",
             "Private Company (2009)",
             "Government (2009)",
             "Academic (2024)",
             "Private Company (2024)",
             "Government (2024)"
            ],
            "line": {
             "color": "black",
             "width": 0.5
            },
            "pad": 1,
            "thickness": 20
           },
           "type": "sankey"
          }
         ],
         "name": "2009"
        },
        {
         "data": [
          {
           "link": {
            "color": [
             "rgba(31, 119, 180, 0.4)",
             "rgba(255, 127, 14, 0.4)",
             "rgba(44, 160, 44, 0.4)",
             "rgba(31, 119, 180, 0.4)",
             "rgba(255, 127, 14, 0.4)",
             "rgba(44, 160, 44, 0.4)",
             "rgba(31, 119, 180, 0.4)",
             "rgba(255, 127, 14, 0.4)",
             "rgba(44, 160, 44, 0.4)"
            ],
            "source": [
             0,
             0,
             0,
             1,
             1,
             1,
             2,
             2,
             2
            ],
            "target": [
             3,
             4,
             5,
             3,
             4,
             5,
             3,
             4,
             5
            ],
            "value": [
             4.8,
             1.6,
             1.6,
             0.6000000000000001,
             1.7999999999999998,
             0.6000000000000001,
             1.4000000000000001,
             1.4000000000000001,
             4.2
            ]
           },
           "node": {
            "color": [
             "#1f77b4",
             "#ff7f0e",
             "#2ca02c",
             "#1f77b4",
             "#ff7f0e",
             "#2ca02c"
            ],
            "label": [
             "Academic (2010)",
             "Private Company (2010)",
             "Government (2010)",
             "Academic (2024)",
             "Private Company (2024)",
             "Government (2024)"
            ],
            "line": {
             "color": "black",
             "width": 0.5
            },
            "pad": 1,
            "thickness": 20
           },
           "type": "sankey"
          }
         ],
         "name": "2010"
        },
        {
         "data": [
          {
           "link": {
            "color": [
             "rgba(31, 119, 180, 0.4)",
             "rgba(255, 127, 14, 0.4)",
             "rgba(44, 160, 44, 0.4)",
             "rgba(31, 119, 180, 0.4)",
             "rgba(255, 127, 14, 0.4)",
             "rgba(44, 160, 44, 0.4)",
             "rgba(31, 119, 180, 0.4)",
             "rgba(255, 127, 14, 0.4)",
             "rgba(44, 160, 44, 0.4)"
            ],
            "source": [
             0,
             0,
             0,
             1,
             1,
             1,
             2,
             2,
             2
            ],
            "target": [
             3,
             4,
             5,
             3,
             4,
             5,
             3,
             4,
             5
            ],
            "value": [
             8.4,
             2.8000000000000003,
             2.8000000000000003,
             1.8,
             5.3999999999999995,
             1.8,
             1.2000000000000002,
             1.2000000000000002,
             3.5999999999999996
            ]
           },
           "node": {
            "color": [
             "#1f77b4",
             "#ff7f0e",
             "#2ca02c",
             "#1f77b4",
             "#ff7f0e",
             "#2ca02c"
            ],
            "label": [
             "Academic (2011)",
             "Private Company (2011)",
             "Government (2011)",
             "Academic (2024)",
             "Private Company (2024)",
             "Government (2024)"
            ],
            "line": {
             "color": "black",
             "width": 0.5
            },
            "pad": 1,
            "thickness": 20
           },
           "type": "sankey"
          }
         ],
         "name": "2011"
        },
        {
         "data": [
          {
           "link": {
            "color": [
             "rgba(31, 119, 180, 0.4)",
             "rgba(255, 127, 14, 0.4)",
             "rgba(44, 160, 44, 0.4)",
             "rgba(31, 119, 180, 0.4)",
             "rgba(255, 127, 14, 0.4)",
             "rgba(44, 160, 44, 0.4)",
             "rgba(31, 119, 180, 0.4)",
             "rgba(255, 127, 14, 0.4)",
             "rgba(44, 160, 44, 0.4)"
            ],
            "source": [
             0,
             0,
             0,
             1,
             1,
             1,
             2,
             2,
             2
            ],
            "target": [
             3,
             4,
             5,
             3,
             4,
             5,
             3,
             4,
             5
            ],
            "value": [
             6.6,
             2.2,
             2.2,
             1.2000000000000002,
             3.5999999999999996,
             1.2000000000000002,
             1.8,
             1.8,
             5.3999999999999995
            ]
           },
           "node": {
            "color": [
             "#1f77b4",
             "#ff7f0e",
             "#2ca02c",
             "#1f77b4",
             "#ff7f0e",
             "#2ca02c"
            ],
            "label": [
             "Academic (2012)",
             "Private Company (2012)",
             "Government (2012)",
             "Academic (2024)",
             "Private Company (2024)",
             "Government (2024)"
            ],
            "line": {
             "color": "black",
             "width": 0.5
            },
            "pad": 1,
            "thickness": 20
           },
           "type": "sankey"
          }
         ],
         "name": "2012"
        },
        {
         "data": [
          {
           "link": {
            "color": [
             "rgba(31, 119, 180, 0.4)",
             "rgba(255, 127, 14, 0.4)",
             "rgba(44, 160, 44, 0.4)",
             "rgba(31, 119, 180, 0.4)",
             "rgba(255, 127, 14, 0.4)",
             "rgba(44, 160, 44, 0.4)",
             "rgba(31, 119, 180, 0.4)",
             "rgba(255, 127, 14, 0.4)",
             "rgba(44, 160, 44, 0.4)"
            ],
            "source": [
             0,
             0,
             0,
             1,
             1,
             1,
             2,
             2,
             2
            ],
            "target": [
             3,
             4,
             5,
             3,
             4,
             5,
             3,
             4,
             5
            ],
            "value": [
             9.6,
             3.2,
             3.2,
             0.6000000000000001,
             1.7999999999999998,
             0.6000000000000001,
             0.4,
             0.4,
             1.2
            ]
           },
           "node": {
            "color": [
             "#1f77b4",
             "#ff7f0e",
             "#2ca02c",
             "#1f77b4",
             "#ff7f0e",
             "#2ca02c"
            ],
            "label": [
             "Academic (2013)",
             "Private Company (2013)",
             "Government (2013)",
             "Academic (2024)",
             "Private Company (2024)",
             "Government (2024)"
            ],
            "line": {
             "color": "black",
             "width": 0.5
            },
            "pad": 1,
            "thickness": 20
           },
           "type": "sankey"
          }
         ],
         "name": "2013"
        },
        {
         "data": [
          {
           "link": {
            "color": [
             "rgba(31, 119, 180, 0.4)",
             "rgba(255, 127, 14, 0.4)",
             "rgba(44, 160, 44, 0.4)",
             "rgba(31, 119, 180, 0.4)",
             "rgba(255, 127, 14, 0.4)",
             "rgba(44, 160, 44, 0.4)",
             "rgba(31, 119, 180, 0.4)",
             "rgba(255, 127, 14, 0.4)",
             "rgba(44, 160, 44, 0.4)"
            ],
            "source": [
             0,
             0,
             0,
             1,
             1,
             1,
             2,
             2,
             2
            ],
            "target": [
             3,
             4,
             5,
             3,
             4,
             5,
             3,
             4,
             5
            ],
            "value": [
             7.8,
             2.6,
             2.6,
             0.6000000000000001,
             1.7999999999999998,
             0.6000000000000001,
             0.2,
             0.2,
             0.6
            ]
           },
           "node": {
            "color": [
             "#1f77b4",
             "#ff7f0e",
             "#2ca02c",
             "#1f77b4",
             "#ff7f0e",
             "#2ca02c"
            ],
            "label": [
             "Academic (2014)",
             "Private Company (2014)",
             "Government (2014)",
             "Academic (2024)",
             "Private Company (2024)",
             "Government (2024)"
            ],
            "line": {
             "color": "black",
             "width": 0.5
            },
            "pad": 1,
            "thickness": 20
           },
           "type": "sankey"
          }
         ],
         "name": "2014"
        },
        {
         "data": [
          {
           "link": {
            "color": [
             "rgba(31, 119, 180, 0.4)",
             "rgba(255, 127, 14, 0.4)",
             "rgba(44, 160, 44, 0.4)",
             "rgba(31, 119, 180, 0.4)",
             "rgba(255, 127, 14, 0.4)",
             "rgba(44, 160, 44, 0.4)",
             "rgba(31, 119, 180, 0.4)",
             "rgba(255, 127, 14, 0.4)",
             "rgba(44, 160, 44, 0.4)"
            ],
            "source": [
             0,
             0,
             0,
             1,
             1,
             1,
             2,
             2,
             2
            ],
            "target": [
             3,
             4,
             5,
             3,
             4,
             5,
             3,
             4,
             5
            ],
            "value": [
             6.6,
             2.2,
             2.2,
             0.6000000000000001,
             1.7999999999999998,
             0.6000000000000001,
             0.8,
             0.8,
             2.4
            ]
           },
           "node": {
            "color": [
             "#1f77b4",
             "#ff7f0e",
             "#2ca02c",
             "#1f77b4",
             "#ff7f0e",
             "#2ca02c"
            ],
            "label": [
             "Academic (2015)",
             "Private Company (2015)",
             "Government (2015)",
             "Academic (2024)",
             "Private Company (2024)",
             "Government (2024)"
            ],
            "line": {
             "color": "black",
             "width": 0.5
            },
            "pad": 1,
            "thickness": 20
           },
           "type": "sankey"
          }
         ],
         "name": "2015"
        },
        {
         "data": [
          {
           "link": {
            "color": [
             "rgba(31, 119, 180, 0.4)",
             "rgba(255, 127, 14, 0.4)",
             "rgba(44, 160, 44, 0.4)",
             "rgba(31, 119, 180, 0.4)",
             "rgba(255, 127, 14, 0.4)",
             "rgba(44, 160, 44, 0.4)",
             "rgba(31, 119, 180, 0.4)",
             "rgba(255, 127, 14, 0.4)",
             "rgba(44, 160, 44, 0.4)"
            ],
            "source": [
             0,
             0,
             0,
             1,
             1,
             1,
             2,
             2,
             2
            ],
            "target": [
             3,
             4,
             5,
             3,
             4,
             5,
             3,
             4,
             5
            ],
            "value": [
             20.4,
             6.800000000000001,
             6.800000000000001,
             1.4000000000000001,
             4.2,
             1.4000000000000001,
             0.8,
             0.8,
             2.4
            ]
           },
           "node": {
            "color": [
             "#1f77b4",
             "#ff7f0e",
             "#2ca02c",
             "#1f77b4",
             "#ff7f0e",
             "#2ca02c"
            ],
            "label": [
             "Academic (2016)",
             "Private Company (2016)",
             "Government (2016)",
             "Academic (2024)",
             "Private Company (2024)",
             "Government (2024)"
            ],
            "line": {
             "color": "black",
             "width": 0.5
            },
            "pad": 1,
            "thickness": 20
           },
           "type": "sankey"
          }
         ],
         "name": "2016"
        },
        {
         "data": [
          {
           "link": {
            "color": [
             "rgba(31, 119, 180, 0.4)",
             "rgba(255, 127, 14, 0.4)",
             "rgba(44, 160, 44, 0.4)",
             "rgba(31, 119, 180, 0.4)",
             "rgba(255, 127, 14, 0.4)",
             "rgba(44, 160, 44, 0.4)",
             "rgba(31, 119, 180, 0.4)",
             "rgba(255, 127, 14, 0.4)",
             "rgba(44, 160, 44, 0.4)"
            ],
            "source": [
             0,
             0,
             0,
             1,
             1,
             1,
             2,
             2,
             2
            ],
            "target": [
             3,
             4,
             5,
             3,
             4,
             5,
             3,
             4,
             5
            ],
            "value": [
             14.399999999999999,
             4.800000000000001,
             4.800000000000001,
             1.4000000000000001,
             4.2,
             1.4000000000000001,
             0.4,
             0.4,
             1.2
            ]
           },
           "node": {
            "color": [
             "#1f77b4",
             "#ff7f0e",
             "#2ca02c",
             "#1f77b4",
             "#ff7f0e",
             "#2ca02c"
            ],
            "label": [
             "Academic (2017)",
             "Private Company (2017)",
             "Government (2017)",
             "Academic (2024)",
             "Private Company (2024)",
             "Government (2024)"
            ],
            "line": {
             "color": "black",
             "width": 0.5
            },
            "pad": 1,
            "thickness": 20
           },
           "type": "sankey"
          }
         ],
         "name": "2017"
        },
        {
         "data": [
          {
           "link": {
            "color": [
             "rgba(31, 119, 180, 0.4)",
             "rgba(255, 127, 14, 0.4)",
             "rgba(44, 160, 44, 0.4)",
             "rgba(31, 119, 180, 0.4)",
             "rgba(255, 127, 14, 0.4)",
             "rgba(44, 160, 44, 0.4)",
             "rgba(31, 119, 180, 0.4)",
             "rgba(255, 127, 14, 0.4)",
             "rgba(44, 160, 44, 0.4)"
            ],
            "source": [
             0,
             0,
             0,
             1,
             1,
             1,
             2,
             2,
             2
            ],
            "target": [
             3,
             4,
             5,
             3,
             4,
             5,
             3,
             4,
             5
            ],
            "value": [
             17.4,
             5.800000000000001,
             5.800000000000001,
             1.2000000000000002,
             3.5999999999999996,
             1.2000000000000002,
             1.6,
             1.6,
             4.8
            ]
           },
           "node": {
            "color": [
             "#1f77b4",
             "#ff7f0e",
             "#2ca02c",
             "#1f77b4",
             "#ff7f0e",
             "#2ca02c"
            ],
            "label": [
             "Academic (2018)",
             "Private Company (2018)",
             "Government (2018)",
             "Academic (2024)",
             "Private Company (2024)",
             "Government (2024)"
            ],
            "line": {
             "color": "black",
             "width": 0.5
            },
            "pad": 1,
            "thickness": 20
           },
           "type": "sankey"
          }
         ],
         "name": "2018"
        },
        {
         "data": [
          {
           "link": {
            "color": [
             "rgba(31, 119, 180, 0.4)",
             "rgba(255, 127, 14, 0.4)",
             "rgba(44, 160, 44, 0.4)",
             "rgba(31, 119, 180, 0.4)",
             "rgba(255, 127, 14, 0.4)",
             "rgba(44, 160, 44, 0.4)",
             "rgba(31, 119, 180, 0.4)",
             "rgba(255, 127, 14, 0.4)",
             "rgba(44, 160, 44, 0.4)"
            ],
            "source": [
             0,
             0,
             0,
             1,
             1,
             1,
             2,
             2,
             2
            ],
            "target": [
             3,
             4,
             5,
             3,
             4,
             5,
             3,
             4,
             5
            ],
            "value": [
             13.799999999999999,
             4.6000000000000005,
             4.6000000000000005,
             1.2000000000000002,
             3.5999999999999996,
             1.2000000000000002,
             1,
             1,
             3
            ]
           },
           "node": {
            "color": [
             "#1f77b4",
             "#ff7f0e",
             "#2ca02c",
             "#1f77b4",
             "#ff7f0e",
             "#2ca02c"
            ],
            "label": [
             "Academic (2019)",
             "Private Company (2019)",
             "Government (2019)",
             "Academic (2024)",
             "Private Company (2024)",
             "Government (2024)"
            ],
            "line": {
             "color": "black",
             "width": 0.5
            },
            "pad": 1,
            "thickness": 20
           },
           "type": "sankey"
          }
         ],
         "name": "2019"
        },
        {
         "data": [
          {
           "link": {
            "color": [
             "rgba(31, 119, 180, 0.4)",
             "rgba(255, 127, 14, 0.4)",
             "rgba(44, 160, 44, 0.4)",
             "rgba(31, 119, 180, 0.4)",
             "rgba(255, 127, 14, 0.4)",
             "rgba(44, 160, 44, 0.4)",
             "rgba(31, 119, 180, 0.4)",
             "rgba(255, 127, 14, 0.4)",
             "rgba(44, 160, 44, 0.4)"
            ],
            "source": [
             0,
             0,
             0,
             1,
             1,
             1,
             2,
             2,
             2
            ],
            "target": [
             3,
             4,
             5,
             3,
             4,
             5,
             3,
             4,
             5
            ],
            "value": [
             7.199999999999999,
             2.4000000000000004,
             2.4000000000000004,
             1.2000000000000002,
             3.5999999999999996,
             1.2000000000000002,
             0.8,
             0.8,
             2.4
            ]
           },
           "node": {
            "color": [
             "#1f77b4",
             "#ff7f0e",
             "#2ca02c",
             "#1f77b4",
             "#ff7f0e",
             "#2ca02c"
            ],
            "label": [
             "Academic (2020)",
             "Private Company (2020)",
             "Government (2020)",
             "Academic (2024)",
             "Private Company (2024)",
             "Government (2024)"
            ],
            "line": {
             "color": "black",
             "width": 0.5
            },
            "pad": 1,
            "thickness": 20
           },
           "type": "sankey"
          }
         ],
         "name": "2020"
        },
        {
         "data": [
          {
           "link": {
            "color": [
             "rgba(31, 119, 180, 0.4)",
             "rgba(255, 127, 14, 0.4)",
             "rgba(44, 160, 44, 0.4)",
             "rgba(31, 119, 180, 0.4)",
             "rgba(255, 127, 14, 0.4)",
             "rgba(44, 160, 44, 0.4)",
             "rgba(31, 119, 180, 0.4)",
             "rgba(255, 127, 14, 0.4)",
             "rgba(44, 160, 44, 0.4)"
            ],
            "source": [
             0,
             0,
             0,
             1,
             1,
             1,
             2,
             2,
             2
            ],
            "target": [
             3,
             4,
             5,
             3,
             4,
             5,
             3,
             4,
             5
            ],
            "value": [
             11.4,
             3.8000000000000003,
             3.8000000000000003,
             2,
             6,
             2,
             1.4000000000000001,
             1.4000000000000001,
             4.2
            ]
           },
           "node": {
            "color": [
             "#1f77b4",
             "#ff7f0e",
             "#2ca02c",
             "#1f77b4",
             "#ff7f0e",
             "#2ca02c"
            ],
            "label": [
             "Academic (2021)",
             "Private Company (2021)",
             "Government (2021)",
             "Academic (2024)",
             "Private Company (2024)",
             "Government (2024)"
            ],
            "line": {
             "color": "black",
             "width": 0.5
            },
            "pad": 1,
            "thickness": 20
           },
           "type": "sankey"
          }
         ],
         "name": "2021"
        },
        {
         "data": [
          {
           "link": {
            "color": [
             "rgba(31, 119, 180, 0.4)",
             "rgba(255, 127, 14, 0.4)",
             "rgba(44, 160, 44, 0.4)",
             "rgba(31, 119, 180, 0.4)",
             "rgba(255, 127, 14, 0.4)",
             "rgba(44, 160, 44, 0.4)",
             "rgba(31, 119, 180, 0.4)",
             "rgba(255, 127, 14, 0.4)",
             "rgba(44, 160, 44, 0.4)"
            ],
            "source": [
             0,
             0,
             0,
             1,
             1,
             1,
             2,
             2,
             2
            ],
            "target": [
             3,
             4,
             5,
             3,
             4,
             5,
             3,
             4,
             5
            ],
            "value": [
             13.2,
             4.4,
             4.4,
             1.4000000000000001,
             4.2,
             1.4000000000000001,
             1.8,
             1.8,
             5.3999999999999995
            ]
           },
           "node": {
            "color": [
             "#1f77b4",
             "#ff7f0e",
             "#2ca02c",
             "#1f77b4",
             "#ff7f0e",
             "#2ca02c"
            ],
            "label": [
             "Academic (2022)",
             "Private Company (2022)",
             "Government (2022)",
             "Academic (2024)",
             "Private Company (2024)",
             "Government (2024)"
            ],
            "line": {
             "color": "black",
             "width": 0.5
            },
            "pad": 1,
            "thickness": 20
           },
           "type": "sankey"
          }
         ],
         "name": "2022"
        },
        {
         "data": [
          {
           "link": {
            "color": [
             "rgba(31, 119, 180, 0.4)",
             "rgba(255, 127, 14, 0.4)",
             "rgba(44, 160, 44, 0.4)",
             "rgba(31, 119, 180, 0.4)",
             "rgba(255, 127, 14, 0.4)",
             "rgba(44, 160, 44, 0.4)",
             "rgba(31, 119, 180, 0.4)",
             "rgba(255, 127, 14, 0.4)",
             "rgba(44, 160, 44, 0.4)"
            ],
            "source": [
             0,
             0,
             0,
             1,
             1,
             1,
             2,
             2,
             2
            ],
            "target": [
             3,
             4,
             5,
             3,
             4,
             5,
             3,
             4,
             5
            ],
            "value": [
             15,
             5,
             5,
             1.8,
             5.3999999999999995,
             1.8,
             2.4000000000000004,
             2.4000000000000004,
             7.199999999999999
            ]
           },
           "node": {
            "color": [
             "#1f77b4",
             "#ff7f0e",
             "#2ca02c",
             "#1f77b4",
             "#ff7f0e",
             "#2ca02c"
            ],
            "label": [
             "Academic (2023)",
             "Private Company (2023)",
             "Government (2023)",
             "Academic (2024)",
             "Private Company (2024)",
             "Government (2024)"
            ],
            "line": {
             "color": "black",
             "width": 0.5
            },
            "pad": 1,
            "thickness": 20
           },
           "type": "sankey"
          }
         ],
         "name": "2023"
        }
       ],
       "layout": {
        "font": {
         "size": 12
        },
        "height": 600,
        "sliders": [
         {
          "active": 0,
          "currentvalue": {
           "prefix": "Starting Year: "
          },
          "pad": {
           "t": 50
          },
          "steps": [
           {
            "args": [
             [
              "1999"
             ],
             {
              "frame": {
               "duration": 300,
               "redraw": true
              },
              "mode": "immediate",
              "transition": {
               "duration": 300
              }
             }
            ],
            "label": "1999",
            "method": "animate"
           },
           {
            "args": [
             [
              "2000"
             ],
             {
              "frame": {
               "duration": 300,
               "redraw": true
              },
              "mode": "immediate",
              "transition": {
               "duration": 300
              }
             }
            ],
            "label": "2000",
            "method": "animate"
           },
           {
            "args": [
             [
              "2001"
             ],
             {
              "frame": {
               "duration": 300,
               "redraw": true
              },
              "mode": "immediate",
              "transition": {
               "duration": 300
              }
             }
            ],
            "label": "2001",
            "method": "animate"
           },
           {
            "args": [
             [
              "2002"
             ],
             {
              "frame": {
               "duration": 300,
               "redraw": true
              },
              "mode": "immediate",
              "transition": {
               "duration": 300
              }
             }
            ],
            "label": "2002",
            "method": "animate"
           },
           {
            "args": [
             [
              "2003"
             ],
             {
              "frame": {
               "duration": 300,
               "redraw": true
              },
              "mode": "immediate",
              "transition": {
               "duration": 300
              }
             }
            ],
            "label": "2003",
            "method": "animate"
           },
           {
            "args": [
             [
              "2004"
             ],
             {
              "frame": {
               "duration": 300,
               "redraw": true
              },
              "mode": "immediate",
              "transition": {
               "duration": 300
              }
             }
            ],
            "label": "2004",
            "method": "animate"
           },
           {
            "args": [
             [
              "2005"
             ],
             {
              "frame": {
               "duration": 300,
               "redraw": true
              },
              "mode": "immediate",
              "transition": {
               "duration": 300
              }
             }
            ],
            "label": "2005",
            "method": "animate"
           },
           {
            "args": [
             [
              "2006"
             ],
             {
              "frame": {
               "duration": 300,
               "redraw": true
              },
              "mode": "immediate",
              "transition": {
               "duration": 300
              }
             }
            ],
            "label": "2006",
            "method": "animate"
           },
           {
            "args": [
             [
              "2007"
             ],
             {
              "frame": {
               "duration": 300,
               "redraw": true
              },
              "mode": "immediate",
              "transition": {
               "duration": 300
              }
             }
            ],
            "label": "2007",
            "method": "animate"
           },
           {
            "args": [
             [
              "2008"
             ],
             {
              "frame": {
               "duration": 300,
               "redraw": true
              },
              "mode": "immediate",
              "transition": {
               "duration": 300
              }
             }
            ],
            "label": "2008",
            "method": "animate"
           },
           {
            "args": [
             [
              "2009"
             ],
             {
              "frame": {
               "duration": 300,
               "redraw": true
              },
              "mode": "immediate",
              "transition": {
               "duration": 300
              }
             }
            ],
            "label": "2009",
            "method": "animate"
           },
           {
            "args": [
             [
              "2010"
             ],
             {
              "frame": {
               "duration": 300,
               "redraw": true
              },
              "mode": "immediate",
              "transition": {
               "duration": 300
              }
             }
            ],
            "label": "2010",
            "method": "animate"
           },
           {
            "args": [
             [
              "2011"
             ],
             {
              "frame": {
               "duration": 300,
               "redraw": true
              },
              "mode": "immediate",
              "transition": {
               "duration": 300
              }
             }
            ],
            "label": "2011",
            "method": "animate"
           },
           {
            "args": [
             [
              "2012"
             ],
             {
              "frame": {
               "duration": 300,
               "redraw": true
              },
              "mode": "immediate",
              "transition": {
               "duration": 300
              }
             }
            ],
            "label": "2012",
            "method": "animate"
           },
           {
            "args": [
             [
              "2013"
             ],
             {
              "frame": {
               "duration": 300,
               "redraw": true
              },
              "mode": "immediate",
              "transition": {
               "duration": 300
              }
             }
            ],
            "label": "2013",
            "method": "animate"
           },
           {
            "args": [
             [
              "2014"
             ],
             {
              "frame": {
               "duration": 300,
               "redraw": true
              },
              "mode": "immediate",
              "transition": {
               "duration": 300
              }
             }
            ],
            "label": "2014",
            "method": "animate"
           },
           {
            "args": [
             [
              "2015"
             ],
             {
              "frame": {
               "duration": 300,
               "redraw": true
              },
              "mode": "immediate",
              "transition": {
               "duration": 300
              }
             }
            ],
            "label": "2015",
            "method": "animate"
           },
           {
            "args": [
             [
              "2016"
             ],
             {
              "frame": {
               "duration": 300,
               "redraw": true
              },
              "mode": "immediate",
              "transition": {
               "duration": 300
              }
             }
            ],
            "label": "2016",
            "method": "animate"
           },
           {
            "args": [
             [
              "2017"
             ],
             {
              "frame": {
               "duration": 300,
               "redraw": true
              },
              "mode": "immediate",
              "transition": {
               "duration": 300
              }
             }
            ],
            "label": "2017",
            "method": "animate"
           },
           {
            "args": [
             [
              "2018"
             ],
             {
              "frame": {
               "duration": 300,
               "redraw": true
              },
              "mode": "immediate",
              "transition": {
               "duration": 300
              }
             }
            ],
            "label": "2018",
            "method": "animate"
           },
           {
            "args": [
             [
              "2019"
             ],
             {
              "frame": {
               "duration": 300,
               "redraw": true
              },
              "mode": "immediate",
              "transition": {
               "duration": 300
              }
             }
            ],
            "label": "2019",
            "method": "animate"
           },
           {
            "args": [
             [
              "2020"
             ],
             {
              "frame": {
               "duration": 300,
               "redraw": true
              },
              "mode": "immediate",
              "transition": {
               "duration": 300
              }
             }
            ],
            "label": "2020",
            "method": "animate"
           },
           {
            "args": [
             [
              "2021"
             ],
             {
              "frame": {
               "duration": 300,
               "redraw": true
              },
              "mode": "immediate",
              "transition": {
               "duration": 300
              }
             }
            ],
            "label": "2021",
            "method": "animate"
           },
           {
            "args": [
             [
              "2022"
             ],
             {
              "frame": {
               "duration": 300,
               "redraw": true
              },
              "mode": "immediate",
              "transition": {
               "duration": 300
              }
             }
            ],
            "label": "2022",
            "method": "animate"
           },
           {
            "args": [
             [
              "2023"
             ],
             {
              "frame": {
               "duration": 300,
               "redraw": true
              },
              "mode": "immediate",
              "transition": {
               "duration": 300
              }
             }
            ],
            "label": "2023",
            "method": "animate"
           }
          ]
         }
        ],
        "template": {
         "data": {
          "bar": [
           {
            "error_x": {
             "color": "#2a3f5f"
            },
            "error_y": {
             "color": "#2a3f5f"
            },
            "marker": {
             "line": {
              "color": "#E5ECF6",
              "width": 0.5
             },
             "pattern": {
              "fillmode": "overlay",
              "size": 10,
              "solidity": 0.2
             }
            },
            "type": "bar"
           }
          ],
          "barpolar": [
           {
            "marker": {
             "line": {
              "color": "#E5ECF6",
              "width": 0.5
             },
             "pattern": {
              "fillmode": "overlay",
              "size": 10,
              "solidity": 0.2
             }
            },
            "type": "barpolar"
           }
          ],
          "carpet": [
           {
            "aaxis": {
             "endlinecolor": "#2a3f5f",
             "gridcolor": "white",
             "linecolor": "white",
             "minorgridcolor": "white",
             "startlinecolor": "#2a3f5f"
            },
            "baxis": {
             "endlinecolor": "#2a3f5f",
             "gridcolor": "white",
             "linecolor": "white",
             "minorgridcolor": "white",
             "startlinecolor": "#2a3f5f"
            },
            "type": "carpet"
           }
          ],
          "choropleth": [
           {
            "colorbar": {
             "outlinewidth": 0,
             "ticks": ""
            },
            "type": "choropleth"
           }
          ],
          "contour": [
           {
            "colorbar": {
             "outlinewidth": 0,
             "ticks": ""
            },
            "colorscale": [
             [
              0,
              "#0d0887"
             ],
             [
              0.1111111111111111,
              "#46039f"
             ],
             [
              0.2222222222222222,
              "#7201a8"
             ],
             [
              0.3333333333333333,
              "#9c179e"
             ],
             [
              0.4444444444444444,
              "#bd3786"
             ],
             [
              0.5555555555555556,
              "#d8576b"
             ],
             [
              0.6666666666666666,
              "#ed7953"
             ],
             [
              0.7777777777777778,
              "#fb9f3a"
             ],
             [
              0.8888888888888888,
              "#fdca26"
             ],
             [
              1,
              "#f0f921"
             ]
            ],
            "type": "contour"
           }
          ],
          "contourcarpet": [
           {
            "colorbar": {
             "outlinewidth": 0,
             "ticks": ""
            },
            "type": "contourcarpet"
           }
          ],
          "heatmap": [
           {
            "colorbar": {
             "outlinewidth": 0,
             "ticks": ""
            },
            "colorscale": [
             [
              0,
              "#0d0887"
             ],
             [
              0.1111111111111111,
              "#46039f"
             ],
             [
              0.2222222222222222,
              "#7201a8"
             ],
             [
              0.3333333333333333,
              "#9c179e"
             ],
             [
              0.4444444444444444,
              "#bd3786"
             ],
             [
              0.5555555555555556,
              "#d8576b"
             ],
             [
              0.6666666666666666,
              "#ed7953"
             ],
             [
              0.7777777777777778,
              "#fb9f3a"
             ],
             [
              0.8888888888888888,
              "#fdca26"
             ],
             [
              1,
              "#f0f921"
             ]
            ],
            "type": "heatmap"
           }
          ],
          "heatmapgl": [
           {
            "colorbar": {
             "outlinewidth": 0,
             "ticks": ""
            },
            "colorscale": [
             [
              0,
              "#0d0887"
             ],
             [
              0.1111111111111111,
              "#46039f"
             ],
             [
              0.2222222222222222,
              "#7201a8"
             ],
             [
              0.3333333333333333,
              "#9c179e"
             ],
             [
              0.4444444444444444,
              "#bd3786"
             ],
             [
              0.5555555555555556,
              "#d8576b"
             ],
             [
              0.6666666666666666,
              "#ed7953"
             ],
             [
              0.7777777777777778,
              "#fb9f3a"
             ],
             [
              0.8888888888888888,
              "#fdca26"
             ],
             [
              1,
              "#f0f921"
             ]
            ],
            "type": "heatmapgl"
           }
          ],
          "histogram": [
           {
            "marker": {
             "pattern": {
              "fillmode": "overlay",
              "size": 10,
              "solidity": 0.2
             }
            },
            "type": "histogram"
           }
          ],
          "histogram2d": [
           {
            "colorbar": {
             "outlinewidth": 0,
             "ticks": ""
            },
            "colorscale": [
             [
              0,
              "#0d0887"
             ],
             [
              0.1111111111111111,
              "#46039f"
             ],
             [
              0.2222222222222222,
              "#7201a8"
             ],
             [
              0.3333333333333333,
              "#9c179e"
             ],
             [
              0.4444444444444444,
              "#bd3786"
             ],
             [
              0.5555555555555556,
              "#d8576b"
             ],
             [
              0.6666666666666666,
              "#ed7953"
             ],
             [
              0.7777777777777778,
              "#fb9f3a"
             ],
             [
              0.8888888888888888,
              "#fdca26"
             ],
             [
              1,
              "#f0f921"
             ]
            ],
            "type": "histogram2d"
           }
          ],
          "histogram2dcontour": [
           {
            "colorbar": {
             "outlinewidth": 0,
             "ticks": ""
            },
            "colorscale": [
             [
              0,
              "#0d0887"
             ],
             [
              0.1111111111111111,
              "#46039f"
             ],
             [
              0.2222222222222222,
              "#7201a8"
             ],
             [
              0.3333333333333333,
              "#9c179e"
             ],
             [
              0.4444444444444444,
              "#bd3786"
             ],
             [
              0.5555555555555556,
              "#d8576b"
             ],
             [
              0.6666666666666666,
              "#ed7953"
             ],
             [
              0.7777777777777778,
              "#fb9f3a"
             ],
             [
              0.8888888888888888,
              "#fdca26"
             ],
             [
              1,
              "#f0f921"
             ]
            ],
            "type": "histogram2dcontour"
           }
          ],
          "mesh3d": [
           {
            "colorbar": {
             "outlinewidth": 0,
             "ticks": ""
            },
            "type": "mesh3d"
           }
          ],
          "parcoords": [
           {
            "line": {
             "colorbar": {
              "outlinewidth": 0,
              "ticks": ""
             }
            },
            "type": "parcoords"
           }
          ],
          "pie": [
           {
            "automargin": true,
            "type": "pie"
           }
          ],
          "scatter": [
           {
            "fillpattern": {
             "fillmode": "overlay",
             "size": 10,
             "solidity": 0.2
            },
            "type": "scatter"
           }
          ],
          "scatter3d": [
           {
            "line": {
             "colorbar": {
              "outlinewidth": 0,
              "ticks": ""
             }
            },
            "marker": {
             "colorbar": {
              "outlinewidth": 0,
              "ticks": ""
             }
            },
            "type": "scatter3d"
           }
          ],
          "scattercarpet": [
           {
            "marker": {
             "colorbar": {
              "outlinewidth": 0,
              "ticks": ""
             }
            },
            "type": "scattercarpet"
           }
          ],
          "scattergeo": [
           {
            "marker": {
             "colorbar": {
              "outlinewidth": 0,
              "ticks": ""
             }
            },
            "type": "scattergeo"
           }
          ],
          "scattergl": [
           {
            "marker": {
             "colorbar": {
              "outlinewidth": 0,
              "ticks": ""
             }
            },
            "type": "scattergl"
           }
          ],
          "scattermapbox": [
           {
            "marker": {
             "colorbar": {
              "outlinewidth": 0,
              "ticks": ""
             }
            },
            "type": "scattermapbox"
           }
          ],
          "scatterpolar": [
           {
            "marker": {
             "colorbar": {
              "outlinewidth": 0,
              "ticks": ""
             }
            },
            "type": "scatterpolar"
           }
          ],
          "scatterpolargl": [
           {
            "marker": {
             "colorbar": {
              "outlinewidth": 0,
              "ticks": ""
             }
            },
            "type": "scatterpolargl"
           }
          ],
          "scatterternary": [
           {
            "marker": {
             "colorbar": {
              "outlinewidth": 0,
              "ticks": ""
             }
            },
            "type": "scatterternary"
           }
          ],
          "surface": [
           {
            "colorbar": {
             "outlinewidth": 0,
             "ticks": ""
            },
            "colorscale": [
             [
              0,
              "#0d0887"
             ],
             [
              0.1111111111111111,
              "#46039f"
             ],
             [
              0.2222222222222222,
              "#7201a8"
             ],
             [
              0.3333333333333333,
              "#9c179e"
             ],
             [
              0.4444444444444444,
              "#bd3786"
             ],
             [
              0.5555555555555556,
              "#d8576b"
             ],
             [
              0.6666666666666666,
              "#ed7953"
             ],
             [
              0.7777777777777778,
              "#fb9f3a"
             ],
             [
              0.8888888888888888,
              "#fdca26"
             ],
             [
              1,
              "#f0f921"
             ]
            ],
            "type": "surface"
           }
          ],
          "table": [
           {
            "cells": {
             "fill": {
              "color": "#EBF0F8"
             },
             "line": {
              "color": "white"
             }
            },
            "header": {
             "fill": {
              "color": "#C8D4E3"
             },
             "line": {
              "color": "white"
             }
            },
            "type": "table"
           }
          ]
         },
         "layout": {
          "annotationdefaults": {
           "arrowcolor": "#2a3f5f",
           "arrowhead": 0,
           "arrowwidth": 1
          },
          "autotypenumbers": "strict",
          "coloraxis": {
           "colorbar": {
            "outlinewidth": 0,
            "ticks": ""
           }
          },
          "colorscale": {
           "diverging": [
            [
             0,
             "#8e0152"
            ],
            [
             0.1,
             "#c51b7d"
            ],
            [
             0.2,
             "#de77ae"
            ],
            [
             0.3,
             "#f1b6da"
            ],
            [
             0.4,
             "#fde0ef"
            ],
            [
             0.5,
             "#f7f7f7"
            ],
            [
             0.6,
             "#e6f5d0"
            ],
            [
             0.7,
             "#b8e186"
            ],
            [
             0.8,
             "#7fbc41"
            ],
            [
             0.9,
             "#4d9221"
            ],
            [
             1,
             "#276419"
            ]
           ],
           "sequential": [
            [
             0,
             "#0d0887"
            ],
            [
             0.1111111111111111,
             "#46039f"
            ],
            [
             0.2222222222222222,
             "#7201a8"
            ],
            [
             0.3333333333333333,
             "#9c179e"
            ],
            [
             0.4444444444444444,
             "#bd3786"
            ],
            [
             0.5555555555555556,
             "#d8576b"
            ],
            [
             0.6666666666666666,
             "#ed7953"
            ],
            [
             0.7777777777777778,
             "#fb9f3a"
            ],
            [
             0.8888888888888888,
             "#fdca26"
            ],
            [
             1,
             "#f0f921"
            ]
           ],
           "sequentialminus": [
            [
             0,
             "#0d0887"
            ],
            [
             0.1111111111111111,
             "#46039f"
            ],
            [
             0.2222222222222222,
             "#7201a8"
            ],
            [
             0.3333333333333333,
             "#9c179e"
            ],
            [
             0.4444444444444444,
             "#bd3786"
            ],
            [
             0.5555555555555556,
             "#d8576b"
            ],
            [
             0.6666666666666666,
             "#ed7953"
            ],
            [
             0.7777777777777778,
             "#fb9f3a"
            ],
            [
             0.8888888888888888,
             "#fdca26"
            ],
            [
             1,
             "#f0f921"
            ]
           ]
          },
          "colorway": [
           "#636efa",
           "#EF553B",
           "#00cc96",
           "#ab63fa",
           "#FFA15A",
           "#19d3f3",
           "#FF6692",
           "#B6E880",
           "#FF97FF",
           "#FECB52"
          ],
          "font": {
           "color": "#2a3f5f"
          },
          "geo": {
           "bgcolor": "white",
           "lakecolor": "white",
           "landcolor": "#E5ECF6",
           "showlakes": true,
           "showland": true,
           "subunitcolor": "white"
          },
          "hoverlabel": {
           "align": "left"
          },
          "hovermode": "closest",
          "mapbox": {
           "style": "light"
          },
          "paper_bgcolor": "white",
          "plot_bgcolor": "#E5ECF6",
          "polar": {
           "angularaxis": {
            "gridcolor": "white",
            "linecolor": "white",
            "ticks": ""
           },
           "bgcolor": "#E5ECF6",
           "radialaxis": {
            "gridcolor": "white",
            "linecolor": "white",
            "ticks": ""
           }
          },
          "scene": {
           "xaxis": {
            "backgroundcolor": "#E5ECF6",
            "gridcolor": "white",
            "gridwidth": 2,
            "linecolor": "white",
            "showbackground": true,
            "ticks": "",
            "zerolinecolor": "white"
           },
           "yaxis": {
            "backgroundcolor": "#E5ECF6",
            "gridcolor": "white",
            "gridwidth": 2,
            "linecolor": "white",
            "showbackground": true,
            "ticks": "",
            "zerolinecolor": "white"
           },
           "zaxis": {
            "backgroundcolor": "#E5ECF6",
            "gridcolor": "white",
            "gridwidth": 2,
            "linecolor": "white",
            "showbackground": true,
            "ticks": "",
            "zerolinecolor": "white"
           }
          },
          "shapedefaults": {
           "line": {
            "color": "#2a3f5f"
           }
          },
          "ternary": {
           "aaxis": {
            "gridcolor": "white",
            "linecolor": "white",
            "ticks": ""
           },
           "baxis": {
            "gridcolor": "white",
            "linecolor": "white",
            "ticks": ""
           },
           "bgcolor": "#E5ECF6",
           "caxis": {
            "gridcolor": "white",
            "linecolor": "white",
            "ticks": ""
           }
          },
          "title": {
           "x": 0.05
          },
          "xaxis": {
           "automargin": true,
           "gridcolor": "white",
           "linecolor": "white",
           "ticks": "",
           "title": {
            "standoff": 15
           },
           "zerolinecolor": "white",
           "zerolinewidth": 2
          },
          "yaxis": {
           "automargin": true,
           "gridcolor": "white",
           "linecolor": "white",
           "ticks": "",
           "title": {
            "standoff": 15
           },
           "zerolinecolor": "white",
           "zerolinewidth": 2
          }
         }
        },
        "title": {
         "text": "Changes in Placement Types Over Time (End Year: 2024)"
        },
        "width": 1000
       }
      }
     },
     "metadata": {},
     "output_type": "display_data"
    }
   ],
   "source": [
    "import plotly.graph_objects as go\n",
    "import pandas as pd\n",
    "\n",
    "def create_sankey(start_year, placement_df):\n",
    "    # Get the latest year (excluding 2025)\n",
    "    latest_year = placement_df[placement_df['year'] != 2025]['year'].max()\n",
    "    \n",
    "    # Create nodes for both time periods\n",
    "    node_labels = [\n",
    "        f'Academic ({int(start_year)})', \n",
    "        f'Private Company ({int(start_year)})', \n",
    "        f'Government ({int(start_year)})',\n",
    "        f'Academic ({int(latest_year)})', \n",
    "        f'Private Company ({int(latest_year)})', \n",
    "        f'Government ({int(latest_year)})'\n",
    "    ]\n",
    "    \n",
    "    # Get data for start and latest years\n",
    "    start_data = placement_df[placement_df['year'] == start_year]\n",
    "    late_data = placement_df[placement_df['year'] == latest_year]\n",
    "    \n",
    "    # Create source-target pairs and values\n",
    "    sources = []\n",
    "    targets = []\n",
    "    values = []\n",
    "    \n",
    "    # For each start placement type\n",
    "    for i, start_type in enumerate(['academic', 'private_company', 'government']):\n",
    "        start_count = start_data[start_type].sum()\n",
    "        # Connect to each late placement type\n",
    "        for j, late_type in enumerate(['academic', 'private_company', 'government']):\n",
    "            late_count = late_data[late_type].sum()\n",
    "            \n",
    "            # Add to source-target pairs\n",
    "            sources.append(i)  # Start type index\n",
    "            targets.append(j + 3)  # Late type index (offset by 3)\n",
    "            \n",
    "            # Calculate proportional flow\n",
    "            if i == j:  # Same category gets larger weight\n",
    "                values.append(start_count * 0.6)\n",
    "            else:  # Different categories split remaining proportion\n",
    "                values.append(start_count * 0.2)\n",
    "    \n",
    "    return dict(\n",
    "        node = dict(\n",
    "            pad = 1, \n",
    "            thickness = 20,\n",
    "            line = dict(color = \"black\", width = 0.5),\n",
    "            label = node_labels,\n",
    "            color = [\"#1f77b4\", \"#ff7f0e\", \"#2ca02c\"] * 2  \n",
    "        ),\n",
    "        link = dict(\n",
    "            source = sources,\n",
    "            target = targets,\n",
    "            value = values,\n",
    "            color = [\"rgba(31, 119, 180, 0.4)\", \n",
    "                    \"rgba(255, 127, 14, 0.4)\", \n",
    "                    \"rgba(44, 160, 44, 0.4)\"] * 3 \n",
    "        )\n",
    "    )\n",
    "\n",
    "# Get all years except 2025 and the latest year\n",
    "available_years = sorted(placement_df[\n",
    "    (placement_df['year'] != 2025) & \n",
    "    (placement_df['year'] != placement_df[placement_df['year'] != 2025]['year'].max())\n",
    "]['year'].unique())\n",
    "\n",
    "# Create frames for each year\n",
    "frames = [\n",
    "    go.Frame(\n",
    "        data=[go.Sankey(\n",
    "            **create_sankey(year, placement_df)\n",
    "        )],\n",
    "        name=str(int(year))\n",
    "    )\n",
    "    for year in available_years\n",
    "]\n",
    "\n",
    "# Create initial figure\n",
    "initial_year = available_years[0]\n",
    "fig = go.Figure(\n",
    "    data=[go.Sankey(\n",
    "        **create_sankey(initial_year, placement_df)\n",
    "    )],\n",
    "    frames=frames\n",
    ")\n",
    "\n",
    "# Add slider\n",
    "sliders = [dict(\n",
    "    active=0,\n",
    "    currentvalue={\"prefix\": \"Starting Year: \"},\n",
    "    pad={\"t\": 50},\n",
    "    steps=[dict(\n",
    "        label=str(int(year)),\n",
    "        method='animate',\n",
    "        args=[[str(int(year))], dict(\n",
    "            frame=dict(duration=300, redraw=True),\n",
    "            mode='immediate',\n",
    "            transition=dict(duration=300)\n",
    "        )]\n",
    "    ) for year in available_years]\n",
    ")]\n",
    "\n",
    "# Update layout\n",
    "fig.update_layout(\n",
    "    title_text=f\"Changes in Placement Types Over Time (End Year: {int(placement_df[placement_df['year'] != 2025]['year'].max())})\",\n",
    "    font_size=12,\n",
    "    height=600,\n",
    "    width=1000,\n",
    "    sliders=sliders\n",
    ")\n",
    "\n",
    "# Save to HTML file\n",
    "fig.write_html(\"../output/placement_liquid.html\")\n",
    "\n",
    "# Display the figure\n",
    "fig.show()"
   ]
  },
  {
   "cell_type": "markdown",
   "id": "c39acc07",
   "metadata": {},
   "source": []
  }
 ],
 "metadata": {
  "kernelspec": {
   "display_name": "datascience",
   "language": "python",
   "name": "python3"
  },
  "language_info": {
   "codemirror_mode": {
    "name": "ipython",
    "version": 3
   },
   "file_extension": ".py",
   "mimetype": "text/x-python",
   "name": "python",
   "nbconvert_exporter": "python",
   "pygments_lexer": "ipython3",
   "version": "3.12.8"
  }
 },
 "nbformat": 4,
 "nbformat_minor": 5
}
