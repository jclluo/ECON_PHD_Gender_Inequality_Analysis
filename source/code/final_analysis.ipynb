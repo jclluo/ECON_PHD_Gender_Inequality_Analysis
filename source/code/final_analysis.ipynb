{
 "cells": [
  {
   "cell_type": "code",
   "execution_count": 4,
   "metadata": {},
   "outputs": [
    {
     "data": {
      "text/html": [
       "<div>\n",
       "<style scoped>\n",
       "    .dataframe tbody tr th:only-of-type {\n",
       "        vertical-align: middle;\n",
       "    }\n",
       "\n",
       "    .dataframe tbody tr th {\n",
       "        vertical-align: top;\n",
       "    }\n",
       "\n",
       "    .dataframe thead th {\n",
       "        text-align: right;\n",
       "    }\n",
       "</style>\n",
       "<table border=\"1\" class=\"dataframe\">\n",
       "  <thead>\n",
       "    <tr style=\"text-align: right;\">\n",
       "      <th></th>\n",
       "      <th>name</th>\n",
       "      <th>university</th>\n",
       "      <th>year</th>\n",
       "      <th>field</th>\n",
       "      <th>placement</th>\n",
       "      <th>research_fields</th>\n",
       "      <th>academic</th>\n",
       "      <th>private_company</th>\n",
       "      <th>government</th>\n",
       "      <th>gender</th>\n",
       "      <th>department</th>\n",
       "      <th>placement_type</th>\n",
       "      <th>ranking</th>\n",
       "      <th>gender_guesser</th>\n",
       "    </tr>\n",
       "  </thead>\n",
       "  <tbody>\n",
       "    <tr>\n",
       "      <th>0</th>\n",
       "      <td>Aaron Hedlund</td>\n",
       "      <td>University of Pennsylvania</td>\n",
       "      <td>2012</td>\n",
       "      <td>NaN</td>\n",
       "      <td>Baylor University</td>\n",
       "      <td>NaN</td>\n",
       "      <td>1</td>\n",
       "      <td>0</td>\n",
       "      <td>0</td>\n",
       "      <td>male</td>\n",
       "      <td>Economics</td>\n",
       "      <td>academic</td>\n",
       "      <td>11</td>\n",
       "      <td>NaN</td>\n",
       "    </tr>\n",
       "    <tr>\n",
       "      <th>1</th>\n",
       "      <td>Aaron Mora</td>\n",
       "      <td>University of Pennsylvania</td>\n",
       "      <td>2024</td>\n",
       "      <td>Econometrics, Financial Economics, Industrial ...</td>\n",
       "      <td>University of South Carolina</td>\n",
       "      <td>NaN</td>\n",
       "      <td>1</td>\n",
       "      <td>0</td>\n",
       "      <td>0</td>\n",
       "      <td>male</td>\n",
       "      <td>Economics</td>\n",
       "      <td>academic</td>\n",
       "      <td>11</td>\n",
       "      <td>NaN</td>\n",
       "    </tr>\n",
       "    <tr>\n",
       "      <th>2</th>\n",
       "      <td>Aaron Swoboda</td>\n",
       "      <td>UC Berkeley</td>\n",
       "      <td>2011</td>\n",
       "      <td>NaN</td>\n",
       "      <td>Assistant Professor, School of Public &amp; Intern...</td>\n",
       "      <td>NaN</td>\n",
       "      <td>1</td>\n",
       "      <td>0</td>\n",
       "      <td>0</td>\n",
       "      <td>male</td>\n",
       "      <td>Economics</td>\n",
       "      <td>academic</td>\n",
       "      <td>5</td>\n",
       "      <td>NaN</td>\n",
       "    </tr>\n",
       "    <tr>\n",
       "      <th>3</th>\n",
       "      <td>Abe, Naohito</td>\n",
       "      <td>Yale</td>\n",
       "      <td>2000</td>\n",
       "      <td>NaN</td>\n",
       "      <td>Hibotsutoshi University, Japan</td>\n",
       "      <td>NaN</td>\n",
       "      <td>1</td>\n",
       "      <td>0</td>\n",
       "      <td>0</td>\n",
       "      <td>male</td>\n",
       "      <td>Economics</td>\n",
       "      <td>academic</td>\n",
       "      <td>7</td>\n",
       "      <td>NaN</td>\n",
       "    </tr>\n",
       "    <tr>\n",
       "      <th>4</th>\n",
       "      <td>Abhay Aneja</td>\n",
       "      <td>UC Berkeley</td>\n",
       "      <td>2019</td>\n",
       "      <td>NaN</td>\n",
       "      <td>Berkeley Law</td>\n",
       "      <td>NaN</td>\n",
       "      <td>1</td>\n",
       "      <td>0</td>\n",
       "      <td>0</td>\n",
       "      <td>male</td>\n",
       "      <td>Economics</td>\n",
       "      <td>academic</td>\n",
       "      <td>5</td>\n",
       "      <td>NaN</td>\n",
       "    </tr>\n",
       "  </tbody>\n",
       "</table>\n",
       "</div>"
      ],
      "text/plain": [
       "            name                  university  year  \\\n",
       "0  Aaron Hedlund  University of Pennsylvania  2012   \n",
       "1     Aaron Mora  University of Pennsylvania  2024   \n",
       "2  Aaron Swoboda                 UC Berkeley  2011   \n",
       "3   Abe, Naohito                        Yale  2000   \n",
       "4    Abhay Aneja                 UC Berkeley  2019   \n",
       "\n",
       "                                               field  \\\n",
       "0                                                NaN   \n",
       "1  Econometrics, Financial Economics, Industrial ...   \n",
       "2                                                NaN   \n",
       "3                                                NaN   \n",
       "4                                                NaN   \n",
       "\n",
       "                                           placement research_fields  \\\n",
       "0                                  Baylor University             NaN   \n",
       "1                       University of South Carolina             NaN   \n",
       "2  Assistant Professor, School of Public & Intern...             NaN   \n",
       "3                     Hibotsutoshi University, Japan             NaN   \n",
       "4                                       Berkeley Law             NaN   \n",
       "\n",
       "   academic  private_company  government gender department placement_type  \\\n",
       "0         1                0           0   male  Economics       academic   \n",
       "1         1                0           0   male  Economics       academic   \n",
       "2         1                0           0   male  Economics       academic   \n",
       "3         1                0           0   male  Economics       academic   \n",
       "4         1                0           0   male  Economics       academic   \n",
       "\n",
       "   ranking gender_guesser  \n",
       "0       11            NaN  \n",
       "1       11            NaN  \n",
       "2        5            NaN  \n",
       "3        7            NaN  \n",
       "4        5            NaN  "
      ]
     },
     "execution_count": 4,
     "metadata": {},
     "output_type": "execute_result"
    }
   ],
   "source": [
    "import pandas as pd\n",
    "import numpy as np\n",
    "import seaborn as sns\n",
    "import matplotlib.pyplot as plt\n",
    "import plotly.express as px\n",
    "import plotly.io as pio\n",
    "import plotly.graph_objects as go\n",
    "\n",
    "full_df = pd.read_csv('../data/analyzed_data/full_df.csv')\n",
    "full_df.head()"
   ]
  },
  {
   "cell_type": "code",
   "execution_count": 30,
   "metadata": {},
   "outputs": [
    {
     "data": {
      "text/plain": [
       "array(['University of Pennsylvania', 'UC Berkeley', 'Yale', 'UC Davis',\n",
       "       'UC Riverside', 'UCSD', 'Columbia University', 'Stanford',\n",
       "       'Cornell', 'Harvard University', 'New York University',\n",
       "       'Duke University', 'University of Michigan', 'Brown University',\n",
       "       'Johns Hopkins University', 'University of Texas at Austin'],\n",
       "      dtype=object)"
      ]
     },
     "execution_count": 30,
     "metadata": {},
     "output_type": "execute_result"
    }
   ],
   "source": [
    "full_df['university'].unique()"
   ]
  },
  {
   "cell_type": "markdown",
   "metadata": {},
   "source": [
    "## 1. Trend in Candidate"
   ]
  },
  {
   "cell_type": "code",
   "execution_count": 3,
   "metadata": {},
   "outputs": [
    {
     "data": {
      "application/vnd.plotly.v1+json": {
       "config": {
        "plotlyServerURL": "https://plot.ly"
       },
       "data": [
        {
         "hovertemplate": "Year=%{x}<br>Number of Candidates=%{y}<extra></extra>",
         "legendgroup": "",
         "line": {
          "color": "#636efa",
          "dash": "solid"
         },
         "marker": {
          "symbol": "circle"
         },
         "mode": "lines",
         "name": "",
         "orientation": "v",
         "showlegend": false,
         "type": "scatter",
         "x": [
          1998,
          1999,
          2000,
          2001,
          2002,
          2003,
          2004,
          2005,
          2006,
          2007,
          2008,
          2009,
          2010,
          2011,
          2012,
          2013,
          2014,
          2015,
          2016,
          2017,
          2018,
          2019,
          2020,
          2021,
          2022,
          2023,
          2024
         ],
         "xaxis": "x",
         "y": [
          24,
          39,
          22,
          35,
          35,
          34,
          44,
          93,
          98,
          87,
          91,
          107,
          101,
          145,
          134,
          143,
          174,
          176,
          240,
          194,
          197,
          172,
          192,
          182,
          210,
          249,
          233
         ],
         "yaxis": "y"
        }
       ],
       "layout": {
        "legend": {
         "tracegroupgap": 0
        },
        "template": {
         "data": {
          "bar": [
           {
            "error_x": {
             "color": "#2a3f5f"
            },
            "error_y": {
             "color": "#2a3f5f"
            },
            "marker": {
             "line": {
              "color": "#E5ECF6",
              "width": 0.5
             },
             "pattern": {
              "fillmode": "overlay",
              "size": 10,
              "solidity": 0.2
             }
            },
            "type": "bar"
           }
          ],
          "barpolar": [
           {
            "marker": {
             "line": {
              "color": "#E5ECF6",
              "width": 0.5
             },
             "pattern": {
              "fillmode": "overlay",
              "size": 10,
              "solidity": 0.2
             }
            },
            "type": "barpolar"
           }
          ],
          "carpet": [
           {
            "aaxis": {
             "endlinecolor": "#2a3f5f",
             "gridcolor": "white",
             "linecolor": "white",
             "minorgridcolor": "white",
             "startlinecolor": "#2a3f5f"
            },
            "baxis": {
             "endlinecolor": "#2a3f5f",
             "gridcolor": "white",
             "linecolor": "white",
             "minorgridcolor": "white",
             "startlinecolor": "#2a3f5f"
            },
            "type": "carpet"
           }
          ],
          "choropleth": [
           {
            "colorbar": {
             "outlinewidth": 0,
             "ticks": ""
            },
            "type": "choropleth"
           }
          ],
          "contour": [
           {
            "colorbar": {
             "outlinewidth": 0,
             "ticks": ""
            },
            "colorscale": [
             [
              0,
              "#0d0887"
             ],
             [
              0.1111111111111111,
              "#46039f"
             ],
             [
              0.2222222222222222,
              "#7201a8"
             ],
             [
              0.3333333333333333,
              "#9c179e"
             ],
             [
              0.4444444444444444,
              "#bd3786"
             ],
             [
              0.5555555555555556,
              "#d8576b"
             ],
             [
              0.6666666666666666,
              "#ed7953"
             ],
             [
              0.7777777777777778,
              "#fb9f3a"
             ],
             [
              0.8888888888888888,
              "#fdca26"
             ],
             [
              1,
              "#f0f921"
             ]
            ],
            "type": "contour"
           }
          ],
          "contourcarpet": [
           {
            "colorbar": {
             "outlinewidth": 0,
             "ticks": ""
            },
            "type": "contourcarpet"
           }
          ],
          "heatmap": [
           {
            "colorbar": {
             "outlinewidth": 0,
             "ticks": ""
            },
            "colorscale": [
             [
              0,
              "#0d0887"
             ],
             [
              0.1111111111111111,
              "#46039f"
             ],
             [
              0.2222222222222222,
              "#7201a8"
             ],
             [
              0.3333333333333333,
              "#9c179e"
             ],
             [
              0.4444444444444444,
              "#bd3786"
             ],
             [
              0.5555555555555556,
              "#d8576b"
             ],
             [
              0.6666666666666666,
              "#ed7953"
             ],
             [
              0.7777777777777778,
              "#fb9f3a"
             ],
             [
              0.8888888888888888,
              "#fdca26"
             ],
             [
              1,
              "#f0f921"
             ]
            ],
            "type": "heatmap"
           }
          ],
          "heatmapgl": [
           {
            "colorbar": {
             "outlinewidth": 0,
             "ticks": ""
            },
            "colorscale": [
             [
              0,
              "#0d0887"
             ],
             [
              0.1111111111111111,
              "#46039f"
             ],
             [
              0.2222222222222222,
              "#7201a8"
             ],
             [
              0.3333333333333333,
              "#9c179e"
             ],
             [
              0.4444444444444444,
              "#bd3786"
             ],
             [
              0.5555555555555556,
              "#d8576b"
             ],
             [
              0.6666666666666666,
              "#ed7953"
             ],
             [
              0.7777777777777778,
              "#fb9f3a"
             ],
             [
              0.8888888888888888,
              "#fdca26"
             ],
             [
              1,
              "#f0f921"
             ]
            ],
            "type": "heatmapgl"
           }
          ],
          "histogram": [
           {
            "marker": {
             "pattern": {
              "fillmode": "overlay",
              "size": 10,
              "solidity": 0.2
             }
            },
            "type": "histogram"
           }
          ],
          "histogram2d": [
           {
            "colorbar": {
             "outlinewidth": 0,
             "ticks": ""
            },
            "colorscale": [
             [
              0,
              "#0d0887"
             ],
             [
              0.1111111111111111,
              "#46039f"
             ],
             [
              0.2222222222222222,
              "#7201a8"
             ],
             [
              0.3333333333333333,
              "#9c179e"
             ],
             [
              0.4444444444444444,
              "#bd3786"
             ],
             [
              0.5555555555555556,
              "#d8576b"
             ],
             [
              0.6666666666666666,
              "#ed7953"
             ],
             [
              0.7777777777777778,
              "#fb9f3a"
             ],
             [
              0.8888888888888888,
              "#fdca26"
             ],
             [
              1,
              "#f0f921"
             ]
            ],
            "type": "histogram2d"
           }
          ],
          "histogram2dcontour": [
           {
            "colorbar": {
             "outlinewidth": 0,
             "ticks": ""
            },
            "colorscale": [
             [
              0,
              "#0d0887"
             ],
             [
              0.1111111111111111,
              "#46039f"
             ],
             [
              0.2222222222222222,
              "#7201a8"
             ],
             [
              0.3333333333333333,
              "#9c179e"
             ],
             [
              0.4444444444444444,
              "#bd3786"
             ],
             [
              0.5555555555555556,
              "#d8576b"
             ],
             [
              0.6666666666666666,
              "#ed7953"
             ],
             [
              0.7777777777777778,
              "#fb9f3a"
             ],
             [
              0.8888888888888888,
              "#fdca26"
             ],
             [
              1,
              "#f0f921"
             ]
            ],
            "type": "histogram2dcontour"
           }
          ],
          "mesh3d": [
           {
            "colorbar": {
             "outlinewidth": 0,
             "ticks": ""
            },
            "type": "mesh3d"
           }
          ],
          "parcoords": [
           {
            "line": {
             "colorbar": {
              "outlinewidth": 0,
              "ticks": ""
             }
            },
            "type": "parcoords"
           }
          ],
          "pie": [
           {
            "automargin": true,
            "type": "pie"
           }
          ],
          "scatter": [
           {
            "fillpattern": {
             "fillmode": "overlay",
             "size": 10,
             "solidity": 0.2
            },
            "type": "scatter"
           }
          ],
          "scatter3d": [
           {
            "line": {
             "colorbar": {
              "outlinewidth": 0,
              "ticks": ""
             }
            },
            "marker": {
             "colorbar": {
              "outlinewidth": 0,
              "ticks": ""
             }
            },
            "type": "scatter3d"
           }
          ],
          "scattercarpet": [
           {
            "marker": {
             "colorbar": {
              "outlinewidth": 0,
              "ticks": ""
             }
            },
            "type": "scattercarpet"
           }
          ],
          "scattergeo": [
           {
            "marker": {
             "colorbar": {
              "outlinewidth": 0,
              "ticks": ""
             }
            },
            "type": "scattergeo"
           }
          ],
          "scattergl": [
           {
            "marker": {
             "colorbar": {
              "outlinewidth": 0,
              "ticks": ""
             }
            },
            "type": "scattergl"
           }
          ],
          "scattermapbox": [
           {
            "marker": {
             "colorbar": {
              "outlinewidth": 0,
              "ticks": ""
             }
            },
            "type": "scattermapbox"
           }
          ],
          "scatterpolar": [
           {
            "marker": {
             "colorbar": {
              "outlinewidth": 0,
              "ticks": ""
             }
            },
            "type": "scatterpolar"
           }
          ],
          "scatterpolargl": [
           {
            "marker": {
             "colorbar": {
              "outlinewidth": 0,
              "ticks": ""
             }
            },
            "type": "scatterpolargl"
           }
          ],
          "scatterternary": [
           {
            "marker": {
             "colorbar": {
              "outlinewidth": 0,
              "ticks": ""
             }
            },
            "type": "scatterternary"
           }
          ],
          "surface": [
           {
            "colorbar": {
             "outlinewidth": 0,
             "ticks": ""
            },
            "colorscale": [
             [
              0,
              "#0d0887"
             ],
             [
              0.1111111111111111,
              "#46039f"
             ],
             [
              0.2222222222222222,
              "#7201a8"
             ],
             [
              0.3333333333333333,
              "#9c179e"
             ],
             [
              0.4444444444444444,
              "#bd3786"
             ],
             [
              0.5555555555555556,
              "#d8576b"
             ],
             [
              0.6666666666666666,
              "#ed7953"
             ],
             [
              0.7777777777777778,
              "#fb9f3a"
             ],
             [
              0.8888888888888888,
              "#fdca26"
             ],
             [
              1,
              "#f0f921"
             ]
            ],
            "type": "surface"
           }
          ],
          "table": [
           {
            "cells": {
             "fill": {
              "color": "#EBF0F8"
             },
             "line": {
              "color": "white"
             }
            },
            "header": {
             "fill": {
              "color": "#C8D4E3"
             },
             "line": {
              "color": "white"
             }
            },
            "type": "table"
           }
          ]
         },
         "layout": {
          "annotationdefaults": {
           "arrowcolor": "#2a3f5f",
           "arrowhead": 0,
           "arrowwidth": 1
          },
          "autotypenumbers": "strict",
          "coloraxis": {
           "colorbar": {
            "outlinewidth": 0,
            "ticks": ""
           }
          },
          "colorscale": {
           "diverging": [
            [
             0,
             "#8e0152"
            ],
            [
             0.1,
             "#c51b7d"
            ],
            [
             0.2,
             "#de77ae"
            ],
            [
             0.3,
             "#f1b6da"
            ],
            [
             0.4,
             "#fde0ef"
            ],
            [
             0.5,
             "#f7f7f7"
            ],
            [
             0.6,
             "#e6f5d0"
            ],
            [
             0.7,
             "#b8e186"
            ],
            [
             0.8,
             "#7fbc41"
            ],
            [
             0.9,
             "#4d9221"
            ],
            [
             1,
             "#276419"
            ]
           ],
           "sequential": [
            [
             0,
             "#0d0887"
            ],
            [
             0.1111111111111111,
             "#46039f"
            ],
            [
             0.2222222222222222,
             "#7201a8"
            ],
            [
             0.3333333333333333,
             "#9c179e"
            ],
            [
             0.4444444444444444,
             "#bd3786"
            ],
            [
             0.5555555555555556,
             "#d8576b"
            ],
            [
             0.6666666666666666,
             "#ed7953"
            ],
            [
             0.7777777777777778,
             "#fb9f3a"
            ],
            [
             0.8888888888888888,
             "#fdca26"
            ],
            [
             1,
             "#f0f921"
            ]
           ],
           "sequentialminus": [
            [
             0,
             "#0d0887"
            ],
            [
             0.1111111111111111,
             "#46039f"
            ],
            [
             0.2222222222222222,
             "#7201a8"
            ],
            [
             0.3333333333333333,
             "#9c179e"
            ],
            [
             0.4444444444444444,
             "#bd3786"
            ],
            [
             0.5555555555555556,
             "#d8576b"
            ],
            [
             0.6666666666666666,
             "#ed7953"
            ],
            [
             0.7777777777777778,
             "#fb9f3a"
            ],
            [
             0.8888888888888888,
             "#fdca26"
            ],
            [
             1,
             "#f0f921"
            ]
           ]
          },
          "colorway": [
           "#636efa",
           "#EF553B",
           "#00cc96",
           "#ab63fa",
           "#FFA15A",
           "#19d3f3",
           "#FF6692",
           "#B6E880",
           "#FF97FF",
           "#FECB52"
          ],
          "font": {
           "color": "#2a3f5f"
          },
          "geo": {
           "bgcolor": "white",
           "lakecolor": "white",
           "landcolor": "#E5ECF6",
           "showlakes": true,
           "showland": true,
           "subunitcolor": "white"
          },
          "hoverlabel": {
           "align": "left"
          },
          "hovermode": "closest",
          "mapbox": {
           "style": "light"
          },
          "paper_bgcolor": "white",
          "plot_bgcolor": "#E5ECF6",
          "polar": {
           "angularaxis": {
            "gridcolor": "white",
            "linecolor": "white",
            "ticks": ""
           },
           "bgcolor": "#E5ECF6",
           "radialaxis": {
            "gridcolor": "white",
            "linecolor": "white",
            "ticks": ""
           }
          },
          "scene": {
           "xaxis": {
            "backgroundcolor": "#E5ECF6",
            "gridcolor": "white",
            "gridwidth": 2,
            "linecolor": "white",
            "showbackground": true,
            "ticks": "",
            "zerolinecolor": "white"
           },
           "yaxis": {
            "backgroundcolor": "#E5ECF6",
            "gridcolor": "white",
            "gridwidth": 2,
            "linecolor": "white",
            "showbackground": true,
            "ticks": "",
            "zerolinecolor": "white"
           },
           "zaxis": {
            "backgroundcolor": "#E5ECF6",
            "gridcolor": "white",
            "gridwidth": 2,
            "linecolor": "white",
            "showbackground": true,
            "ticks": "",
            "zerolinecolor": "white"
           }
          },
          "shapedefaults": {
           "line": {
            "color": "#2a3f5f"
           }
          },
          "ternary": {
           "aaxis": {
            "gridcolor": "white",
            "linecolor": "white",
            "ticks": ""
           },
           "baxis": {
            "gridcolor": "white",
            "linecolor": "white",
            "ticks": ""
           },
           "bgcolor": "#E5ECF6",
           "caxis": {
            "gridcolor": "white",
            "linecolor": "white",
            "ticks": ""
           }
          },
          "title": {
           "x": 0.05
          },
          "xaxis": {
           "automargin": true,
           "gridcolor": "white",
           "linecolor": "white",
           "ticks": "",
           "title": {
            "standoff": 15
           },
           "zerolinecolor": "white",
           "zerolinewidth": 2
          },
          "yaxis": {
           "automargin": true,
           "gridcolor": "white",
           "linecolor": "white",
           "ticks": "",
           "title": {
            "standoff": 15
           },
           "zerolinecolor": "white",
           "zerolinewidth": 2
          }
         }
        },
        "title": {
         "text": "Trend of Number of Candidates"
        },
        "xaxis": {
         "anchor": "y",
         "domain": [
          0,
          1
         ],
         "title": {
          "text": "Year"
         }
        },
        "yaxis": {
         "anchor": "x",
         "domain": [
          0,
          1
         ],
         "title": {
          "text": "Number of Candidates"
         }
        }
       }
      }
     },
     "metadata": {},
     "output_type": "display_data"
    }
   ],
   "source": [
    "yearly_counts = full_df[full_df['year'] != 2025].groupby('year').size().reset_index(name='count')\n",
    "\n",
    "# Create a line plot using Plotly\n",
    "fig = px.line(yearly_counts, x='year', y='count', title='Trend of Number of Candidates', labels={'year': 'Year', 'count': 'Number of Candidates'})\n",
    "\n",
    "# Save the plot as an HTML file\n",
    "pio.write_html(fig, file='../output/graphs/candidates_trend.html')\n",
    "\n",
    "# Display the plot in notebook\n",
    "fig.show()\n",
    "\n",
    "\n",
    "\n",
    "#also add trend of total number per school\n",
    "# add new lines by school + legend"
   ]
  },
  {
   "cell_type": "code",
   "execution_count": 38,
   "metadata": {},
   "outputs": [
    {
     "data": {
      "application/vnd.plotly.v1+json": {
       "config": {
        "plotlyServerURL": "https://plot.ly"
       },
       "data": [
        {
         "hovertemplate": "Year=%{x}<br>Number of Candidates=%{y}<extra></extra>",
         "legendgroup": "",
         "line": {
          "color": "#636efa",
          "dash": "solid"
         },
         "marker": {
          "symbol": "circle"
         },
         "mode": "lines",
         "name": "",
         "orientation": "v",
         "showlegend": false,
         "type": "scatter",
         "x": [
          1998,
          1999,
          2000,
          2001,
          2002,
          2003,
          2004,
          2005,
          2006,
          2007,
          2008,
          2009,
          2010,
          2011,
          2012,
          2013,
          2014,
          2015,
          2016,
          2017,
          2018,
          2019,
          2020,
          2021,
          2022,
          2023,
          2024
         ],
         "xaxis": "x",
         "y": [
          24,
          39,
          22,
          35,
          35,
          34,
          44,
          93,
          98,
          87,
          91,
          107,
          101,
          145,
          134,
          143,
          174,
          176,
          240,
          194,
          197,
          172,
          192,
          182,
          210,
          249,
          233
         ],
         "yaxis": "y"
        },
        {
         "mode": "lines",
         "name": "University of Pennsylvania",
         "type": "scatter",
         "x": [
          2006,
          2007,
          2008,
          2009,
          2010,
          2011,
          2012,
          2013,
          2014,
          2015,
          2016,
          2017,
          2018,
          2019,
          2020,
          2021,
          2022,
          2023,
          2024
         ],
         "y": [
          12,
          10,
          13,
          13,
          17,
          19,
          12,
          15,
          17,
          18,
          14,
          16,
          10,
          14,
          14,
          18,
          12,
          24,
          13
         ]
        },
        {
         "mode": "lines",
         "name": "UC Berkeley",
         "type": "scatter",
         "x": [
          2009,
          2010,
          2011,
          2012,
          2013,
          2014,
          2015,
          2016,
          2017,
          2018,
          2019,
          2020,
          2021,
          2022,
          2023,
          2024
         ],
         "y": [
          9,
          2,
          10,
          9,
          17,
          20,
          19,
          39,
          15,
          19,
          23,
          13,
          26,
          18,
          25,
          16
         ]
        },
        {
         "mode": "lines",
         "name": "Yale",
         "type": "scatter",
         "x": [
          1998,
          1999,
          2000,
          2001,
          2002,
          2003,
          2004,
          2005,
          2006,
          2007,
          2008,
          2009,
          2010,
          2011,
          2012,
          2013,
          2014,
          2015,
          2016,
          2017,
          2018,
          2019,
          2020,
          2021,
          2022,
          2023,
          2024
         ],
         "y": [
          24,
          13,
          12,
          13,
          15,
          15,
          15,
          20,
          20,
          14,
          9,
          19,
          17,
          18,
          18,
          16,
          20,
          13,
          19,
          9,
          12,
          1,
          19,
          3,
          6,
          2,
          20
         ]
        },
        {
         "mode": "lines",
         "name": "UC Davis",
         "type": "scatter",
         "x": [
          2000,
          2001,
          2002,
          2003,
          2004,
          2005,
          2006,
          2007,
          2008,
          2009,
          2010,
          2011,
          2012,
          2013,
          2014,
          2015,
          2016,
          2017,
          2018,
          2019,
          2020,
          2021,
          2022,
          2023,
          2024
         ],
         "y": [
          7,
          5,
          7,
          7,
          8,
          8,
          12,
          10,
          12,
          12,
          8,
          15,
          20,
          6,
          10,
          12,
          7,
          19,
          9,
          9,
          8,
          13,
          10,
          13,
          9
         ]
        },
        {
         "mode": "lines",
         "name": "UC Riverside",
         "type": "scatter",
         "x": [
          1999,
          2000,
          2001,
          2002,
          2003,
          2004,
          2005,
          2006,
          2007,
          2008,
          2009,
          2010,
          2011,
          2012,
          2013,
          2014,
          2015,
          2016,
          2017,
          2018,
          2019,
          2020,
          2021,
          2022,
          2023,
          2024
         ],
         "y": [
          26,
          3,
          6,
          6,
          5,
          4,
          8,
          5,
          4,
          6,
          5,
          7,
          9,
          5,
          11,
          7,
          5,
          9,
          3,
          11,
          7,
          8,
          7,
          7,
          4,
          8
         ]
        },
        {
         "mode": "lines",
         "name": "UCSD",
         "type": "scatter",
         "x": [
          2015,
          2016,
          2017,
          2018,
          2019,
          2020,
          2021,
          2022,
          2023
         ],
         "y": [
          8,
          28,
          12,
          20,
          20,
          13,
          18,
          17,
          25
         ]
        },
        {
         "mode": "lines",
         "name": "Columbia University",
         "type": "scatter",
         "x": [
          2011,
          2012,
          2013,
          2014,
          2015,
          2016,
          2017,
          2018,
          2019,
          2020,
          2021,
          2022,
          2023,
          2024
         ],
         "y": [
          10,
          16,
          20,
          21,
          21,
          15,
          19,
          24,
          16,
          24,
          19,
          25,
          24,
          17
         ]
        },
        {
         "mode": "lines",
         "name": "Stanford",
         "type": "scatter",
         "x": [
          2023,
          2024
         ],
         "y": [
          1,
          28
         ]
        },
        {
         "mode": "lines",
         "name": "Cornell",
         "type": "scatter",
         "x": [
          2023
         ],
         "y": [
          8
         ]
        },
        {
         "mode": "lines",
         "name": "Harvard University",
         "type": "scatter",
         "x": [
          2005,
          2006,
          2007,
          2008,
          2009,
          2010,
          2011,
          2012,
          2013,
          2014,
          2015,
          2016,
          2017,
          2018,
          2019,
          2020,
          2021,
          2022,
          2023,
          2024
         ],
         "y": [
          26,
          29,
          30,
          31,
          29,
          24,
          29,
          26,
          25,
          28,
          26,
          31,
          30,
          32,
          27,
          22,
          26,
          27,
          29,
          33
         ]
        },
        {
         "mode": "lines",
         "name": "New York University",
         "type": "scatter",
         "x": [
          2014,
          2015,
          2016,
          2017,
          2018,
          2019,
          2020,
          2021,
          2022,
          2023,
          2024
         ],
         "y": [
          16,
          10,
          16,
          10,
          13,
          14,
          19,
          10,
          23,
          23,
          14
         ]
        },
        {
         "mode": "lines",
         "name": "Duke University",
         "type": "scatter",
         "x": [
          2004,
          2005,
          2006,
          2007,
          2008,
          2009,
          2010,
          2011,
          2012,
          2013,
          2014,
          2015,
          2016,
          2017,
          2018,
          2019,
          2020,
          2021,
          2022,
          2023,
          2024
         ],
         "y": [
          7,
          19,
          13,
          10,
          14,
          9,
          6,
          19,
          12,
          16,
          16,
          11,
          12,
          16,
          15,
          9,
          16,
          16,
          12,
          16,
          10
         ]
        },
        {
         "mode": "lines",
         "name": "University of Michigan",
         "type": "scatter",
         "x": [
          2015,
          2016,
          2017,
          2018,
          2019,
          2020,
          2022,
          2023,
          2024
         ],
         "y": [
          21,
          30,
          26,
          17,
          16,
          21,
          24,
          16,
          23
         ]
        },
        {
         "mode": "lines",
         "name": "Brown University",
         "type": "scatter",
         "x": [
          2010,
          2011,
          2012,
          2013,
          2014,
          2015,
          2016,
          2017,
          2018,
          2019,
          2020,
          2021,
          2022,
          2023,
          2024
         ],
         "y": [
          15,
          10,
          9,
          10,
          7,
          6,
          11,
          10,
          9,
          9,
          11,
          11,
          8,
          17,
          19
         ]
        },
        {
         "mode": "lines",
         "name": "Johns Hopkins University",
         "type": "scatter",
         "x": [
          2001,
          2002,
          2003,
          2004,
          2005,
          2006,
          2007,
          2008,
          2009,
          2010,
          2011,
          2012,
          2013,
          2014,
          2015,
          2016,
          2017,
          2018,
          2019,
          2020,
          2021,
          2022,
          2023,
          2024
         ],
         "y": [
          11,
          7,
          7,
          10,
          12,
          7,
          9,
          6,
          11,
          5,
          6,
          7,
          7,
          12,
          6,
          9,
          9,
          6,
          7,
          4,
          5,
          6,
          8,
          11
         ]
        },
        {
         "mode": "lines",
         "name": "University of Texas at Austin",
         "type": "scatter",
         "x": [
          2021,
          2022,
          2023,
          2024
         ],
         "y": [
          10,
          15,
          14,
          12
         ]
        }
       ],
       "layout": {
        "height": 1200,
        "legend": {
         "title": {
          "text": "University"
         },
         "tracegroupgap": 0
        },
        "showlegend": true,
        "template": {
         "data": {
          "bar": [
           {
            "error_x": {
             "color": "#2a3f5f"
            },
            "error_y": {
             "color": "#2a3f5f"
            },
            "marker": {
             "line": {
              "color": "#E5ECF6",
              "width": 0.5
             },
             "pattern": {
              "fillmode": "overlay",
              "size": 10,
              "solidity": 0.2
             }
            },
            "type": "bar"
           }
          ],
          "barpolar": [
           {
            "marker": {
             "line": {
              "color": "#E5ECF6",
              "width": 0.5
             },
             "pattern": {
              "fillmode": "overlay",
              "size": 10,
              "solidity": 0.2
             }
            },
            "type": "barpolar"
           }
          ],
          "carpet": [
           {
            "aaxis": {
             "endlinecolor": "#2a3f5f",
             "gridcolor": "white",
             "linecolor": "white",
             "minorgridcolor": "white",
             "startlinecolor": "#2a3f5f"
            },
            "baxis": {
             "endlinecolor": "#2a3f5f",
             "gridcolor": "white",
             "linecolor": "white",
             "minorgridcolor": "white",
             "startlinecolor": "#2a3f5f"
            },
            "type": "carpet"
           }
          ],
          "choropleth": [
           {
            "colorbar": {
             "outlinewidth": 0,
             "ticks": ""
            },
            "type": "choropleth"
           }
          ],
          "contour": [
           {
            "colorbar": {
             "outlinewidth": 0,
             "ticks": ""
            },
            "colorscale": [
             [
              0,
              "#0d0887"
             ],
             [
              0.1111111111111111,
              "#46039f"
             ],
             [
              0.2222222222222222,
              "#7201a8"
             ],
             [
              0.3333333333333333,
              "#9c179e"
             ],
             [
              0.4444444444444444,
              "#bd3786"
             ],
             [
              0.5555555555555556,
              "#d8576b"
             ],
             [
              0.6666666666666666,
              "#ed7953"
             ],
             [
              0.7777777777777778,
              "#fb9f3a"
             ],
             [
              0.8888888888888888,
              "#fdca26"
             ],
             [
              1,
              "#f0f921"
             ]
            ],
            "type": "contour"
           }
          ],
          "contourcarpet": [
           {
            "colorbar": {
             "outlinewidth": 0,
             "ticks": ""
            },
            "type": "contourcarpet"
           }
          ],
          "heatmap": [
           {
            "colorbar": {
             "outlinewidth": 0,
             "ticks": ""
            },
            "colorscale": [
             [
              0,
              "#0d0887"
             ],
             [
              0.1111111111111111,
              "#46039f"
             ],
             [
              0.2222222222222222,
              "#7201a8"
             ],
             [
              0.3333333333333333,
              "#9c179e"
             ],
             [
              0.4444444444444444,
              "#bd3786"
             ],
             [
              0.5555555555555556,
              "#d8576b"
             ],
             [
              0.6666666666666666,
              "#ed7953"
             ],
             [
              0.7777777777777778,
              "#fb9f3a"
             ],
             [
              0.8888888888888888,
              "#fdca26"
             ],
             [
              1,
              "#f0f921"
             ]
            ],
            "type": "heatmap"
           }
          ],
          "heatmapgl": [
           {
            "colorbar": {
             "outlinewidth": 0,
             "ticks": ""
            },
            "colorscale": [
             [
              0,
              "#0d0887"
             ],
             [
              0.1111111111111111,
              "#46039f"
             ],
             [
              0.2222222222222222,
              "#7201a8"
             ],
             [
              0.3333333333333333,
              "#9c179e"
             ],
             [
              0.4444444444444444,
              "#bd3786"
             ],
             [
              0.5555555555555556,
              "#d8576b"
             ],
             [
              0.6666666666666666,
              "#ed7953"
             ],
             [
              0.7777777777777778,
              "#fb9f3a"
             ],
             [
              0.8888888888888888,
              "#fdca26"
             ],
             [
              1,
              "#f0f921"
             ]
            ],
            "type": "heatmapgl"
           }
          ],
          "histogram": [
           {
            "marker": {
             "pattern": {
              "fillmode": "overlay",
              "size": 10,
              "solidity": 0.2
             }
            },
            "type": "histogram"
           }
          ],
          "histogram2d": [
           {
            "colorbar": {
             "outlinewidth": 0,
             "ticks": ""
            },
            "colorscale": [
             [
              0,
              "#0d0887"
             ],
             [
              0.1111111111111111,
              "#46039f"
             ],
             [
              0.2222222222222222,
              "#7201a8"
             ],
             [
              0.3333333333333333,
              "#9c179e"
             ],
             [
              0.4444444444444444,
              "#bd3786"
             ],
             [
              0.5555555555555556,
              "#d8576b"
             ],
             [
              0.6666666666666666,
              "#ed7953"
             ],
             [
              0.7777777777777778,
              "#fb9f3a"
             ],
             [
              0.8888888888888888,
              "#fdca26"
             ],
             [
              1,
              "#f0f921"
             ]
            ],
            "type": "histogram2d"
           }
          ],
          "histogram2dcontour": [
           {
            "colorbar": {
             "outlinewidth": 0,
             "ticks": ""
            },
            "colorscale": [
             [
              0,
              "#0d0887"
             ],
             [
              0.1111111111111111,
              "#46039f"
             ],
             [
              0.2222222222222222,
              "#7201a8"
             ],
             [
              0.3333333333333333,
              "#9c179e"
             ],
             [
              0.4444444444444444,
              "#bd3786"
             ],
             [
              0.5555555555555556,
              "#d8576b"
             ],
             [
              0.6666666666666666,
              "#ed7953"
             ],
             [
              0.7777777777777778,
              "#fb9f3a"
             ],
             [
              0.8888888888888888,
              "#fdca26"
             ],
             [
              1,
              "#f0f921"
             ]
            ],
            "type": "histogram2dcontour"
           }
          ],
          "mesh3d": [
           {
            "colorbar": {
             "outlinewidth": 0,
             "ticks": ""
            },
            "type": "mesh3d"
           }
          ],
          "parcoords": [
           {
            "line": {
             "colorbar": {
              "outlinewidth": 0,
              "ticks": ""
             }
            },
            "type": "parcoords"
           }
          ],
          "pie": [
           {
            "automargin": true,
            "type": "pie"
           }
          ],
          "scatter": [
           {
            "fillpattern": {
             "fillmode": "overlay",
             "size": 10,
             "solidity": 0.2
            },
            "type": "scatter"
           }
          ],
          "scatter3d": [
           {
            "line": {
             "colorbar": {
              "outlinewidth": 0,
              "ticks": ""
             }
            },
            "marker": {
             "colorbar": {
              "outlinewidth": 0,
              "ticks": ""
             }
            },
            "type": "scatter3d"
           }
          ],
          "scattercarpet": [
           {
            "marker": {
             "colorbar": {
              "outlinewidth": 0,
              "ticks": ""
             }
            },
            "type": "scattercarpet"
           }
          ],
          "scattergeo": [
           {
            "marker": {
             "colorbar": {
              "outlinewidth": 0,
              "ticks": ""
             }
            },
            "type": "scattergeo"
           }
          ],
          "scattergl": [
           {
            "marker": {
             "colorbar": {
              "outlinewidth": 0,
              "ticks": ""
             }
            },
            "type": "scattergl"
           }
          ],
          "scattermapbox": [
           {
            "marker": {
             "colorbar": {
              "outlinewidth": 0,
              "ticks": ""
             }
            },
            "type": "scattermapbox"
           }
          ],
          "scatterpolar": [
           {
            "marker": {
             "colorbar": {
              "outlinewidth": 0,
              "ticks": ""
             }
            },
            "type": "scatterpolar"
           }
          ],
          "scatterpolargl": [
           {
            "marker": {
             "colorbar": {
              "outlinewidth": 0,
              "ticks": ""
             }
            },
            "type": "scatterpolargl"
           }
          ],
          "scatterternary": [
           {
            "marker": {
             "colorbar": {
              "outlinewidth": 0,
              "ticks": ""
             }
            },
            "type": "scatterternary"
           }
          ],
          "surface": [
           {
            "colorbar": {
             "outlinewidth": 0,
             "ticks": ""
            },
            "colorscale": [
             [
              0,
              "#0d0887"
             ],
             [
              0.1111111111111111,
              "#46039f"
             ],
             [
              0.2222222222222222,
              "#7201a8"
             ],
             [
              0.3333333333333333,
              "#9c179e"
             ],
             [
              0.4444444444444444,
              "#bd3786"
             ],
             [
              0.5555555555555556,
              "#d8576b"
             ],
             [
              0.6666666666666666,
              "#ed7953"
             ],
             [
              0.7777777777777778,
              "#fb9f3a"
             ],
             [
              0.8888888888888888,
              "#fdca26"
             ],
             [
              1,
              "#f0f921"
             ]
            ],
            "type": "surface"
           }
          ],
          "table": [
           {
            "cells": {
             "fill": {
              "color": "#EBF0F8"
             },
             "line": {
              "color": "white"
             }
            },
            "header": {
             "fill": {
              "color": "#C8D4E3"
             },
             "line": {
              "color": "white"
             }
            },
            "type": "table"
           }
          ]
         },
         "layout": {
          "annotationdefaults": {
           "arrowcolor": "#2a3f5f",
           "arrowhead": 0,
           "arrowwidth": 1
          },
          "autotypenumbers": "strict",
          "coloraxis": {
           "colorbar": {
            "outlinewidth": 0,
            "ticks": ""
           }
          },
          "colorscale": {
           "diverging": [
            [
             0,
             "#8e0152"
            ],
            [
             0.1,
             "#c51b7d"
            ],
            [
             0.2,
             "#de77ae"
            ],
            [
             0.3,
             "#f1b6da"
            ],
            [
             0.4,
             "#fde0ef"
            ],
            [
             0.5,
             "#f7f7f7"
            ],
            [
             0.6,
             "#e6f5d0"
            ],
            [
             0.7,
             "#b8e186"
            ],
            [
             0.8,
             "#7fbc41"
            ],
            [
             0.9,
             "#4d9221"
            ],
            [
             1,
             "#276419"
            ]
           ],
           "sequential": [
            [
             0,
             "#0d0887"
            ],
            [
             0.1111111111111111,
             "#46039f"
            ],
            [
             0.2222222222222222,
             "#7201a8"
            ],
            [
             0.3333333333333333,
             "#9c179e"
            ],
            [
             0.4444444444444444,
             "#bd3786"
            ],
            [
             0.5555555555555556,
             "#d8576b"
            ],
            [
             0.6666666666666666,
             "#ed7953"
            ],
            [
             0.7777777777777778,
             "#fb9f3a"
            ],
            [
             0.8888888888888888,
             "#fdca26"
            ],
            [
             1,
             "#f0f921"
            ]
           ],
           "sequentialminus": [
            [
             0,
             "#0d0887"
            ],
            [
             0.1111111111111111,
             "#46039f"
            ],
            [
             0.2222222222222222,
             "#7201a8"
            ],
            [
             0.3333333333333333,
             "#9c179e"
            ],
            [
             0.4444444444444444,
             "#bd3786"
            ],
            [
             0.5555555555555556,
             "#d8576b"
            ],
            [
             0.6666666666666666,
             "#ed7953"
            ],
            [
             0.7777777777777778,
             "#fb9f3a"
            ],
            [
             0.8888888888888888,
             "#fdca26"
            ],
            [
             1,
             "#f0f921"
            ]
           ]
          },
          "colorway": [
           "#636efa",
           "#EF553B",
           "#00cc96",
           "#ab63fa",
           "#FFA15A",
           "#19d3f3",
           "#FF6692",
           "#B6E880",
           "#FF97FF",
           "#FECB52"
          ],
          "font": {
           "color": "#2a3f5f"
          },
          "geo": {
           "bgcolor": "white",
           "lakecolor": "white",
           "landcolor": "#E5ECF6",
           "showlakes": true,
           "showland": true,
           "subunitcolor": "white"
          },
          "hoverlabel": {
           "align": "left"
          },
          "hovermode": "closest",
          "mapbox": {
           "style": "light"
          },
          "paper_bgcolor": "white",
          "plot_bgcolor": "#E5ECF6",
          "polar": {
           "angularaxis": {
            "gridcolor": "white",
            "linecolor": "white",
            "ticks": ""
           },
           "bgcolor": "#E5ECF6",
           "radialaxis": {
            "gridcolor": "white",
            "linecolor": "white",
            "ticks": ""
           }
          },
          "scene": {
           "xaxis": {
            "backgroundcolor": "#E5ECF6",
            "gridcolor": "white",
            "gridwidth": 2,
            "linecolor": "white",
            "showbackground": true,
            "ticks": "",
            "zerolinecolor": "white"
           },
           "yaxis": {
            "backgroundcolor": "#E5ECF6",
            "gridcolor": "white",
            "gridwidth": 2,
            "linecolor": "white",
            "showbackground": true,
            "ticks": "",
            "zerolinecolor": "white"
           },
           "zaxis": {
            "backgroundcolor": "#E5ECF6",
            "gridcolor": "white",
            "gridwidth": 2,
            "linecolor": "white",
            "showbackground": true,
            "ticks": "",
            "zerolinecolor": "white"
           }
          },
          "shapedefaults": {
           "line": {
            "color": "#2a3f5f"
           }
          },
          "ternary": {
           "aaxis": {
            "gridcolor": "white",
            "linecolor": "white",
            "ticks": ""
           },
           "baxis": {
            "gridcolor": "white",
            "linecolor": "white",
            "ticks": ""
           },
           "bgcolor": "#E5ECF6",
           "caxis": {
            "gridcolor": "white",
            "linecolor": "white",
            "ticks": ""
           }
          },
          "title": {
           "x": 0.05
          },
          "xaxis": {
           "automargin": true,
           "gridcolor": "white",
           "linecolor": "white",
           "ticks": "",
           "title": {
            "standoff": 15
           },
           "zerolinecolor": "white",
           "zerolinewidth": 2
          },
          "yaxis": {
           "automargin": true,
           "gridcolor": "white",
           "linecolor": "white",
           "ticks": "",
           "title": {
            "standoff": 15
           },
           "zerolinecolor": "white",
           "zerolinewidth": 2
          }
         }
        },
        "title": {
         "text": "Trend of Number of Candidates"
        },
        "xaxis": {
         "anchor": "y",
         "domain": [
          0,
          1
         ],
         "title": {
          "text": "Year"
         }
        },
        "yaxis": {
         "anchor": "x",
         "domain": [
          0,
          1
         ],
         "title": {
          "text": "Number of Candidates"
         }
        }
       }
      }
     },
     "metadata": {},
     "output_type": "display_data"
    }
   ],
   "source": [
    "# Get total counts by year\n",
    "yearly_counts = full_df[full_df['year'] != 2025].groupby('year').size().reset_index(name='count')\n",
    "\n",
    "# Get counts by university and year\n",
    "uni_yearly_counts = full_df[full_df['year'] != 2025].groupby(['year', 'university']).size().reset_index(name='count')\n",
    "\n",
    "# Create figure\n",
    "fig = px.line(yearly_counts, x='year', y='count', \n",
    "              title='Trend of Number of Candidates',\n",
    "              labels={'year': 'Year', 'count': 'Number of Candidates'},\n",
    "              height=1200)  # Double the default height which is typically around 600\n",
    "\n",
    "# Add individual university lines\n",
    "for uni in full_df['university'].unique():\n",
    "    uni_data = uni_yearly_counts[uni_yearly_counts['university'] == uni]\n",
    "    fig.add_scatter(x=uni_data['year'], y=uni_data['count'],\n",
    "                   name=uni, mode='lines')\n",
    "\n",
    "# Update legend\n",
    "fig.update_layout(\n",
    "    showlegend=True,\n",
    "    legend_title_text='University'\n",
    ")\n",
    "\n",
    "# Save the plot as an HTML file\n",
    "pio.write_html(fig, file='../output/graphs/candidates_trend.html')\n",
    "\n",
    "# Display the plot in notebook\n",
    "fig.show()\n"
   ]
  },
  {
   "cell_type": "markdown",
   "metadata": {},
   "source": [
    "there has been a clear upward trend in the number of economics PhD candidates from 2000 to 2024. The trend shows three distinct phases:\n",
    "A relatively stable period from 2000-2005 with around 30-40 candidates per year\n",
    "A sharp increase between 2005-2010, jumping from about 40 to 100 candidates\n",
    "Continued growth from 2010-2024, reaching around 200-250 candidates per year, with some fluctuations and a notable peak around 2015 of approximately 240 candidates\n",
    "The overall trend suggests a substantial expansion in economics PhD programs over the past two decades, with the number of candidates more than quintupling from about 40 in 2000 to over 200 in recent years."
   ]
  },
  {
   "cell_type": "markdown",
   "metadata": {},
   "source": [
    "## 2. Trend in Gender Distribution"
   ]
  },
  {
   "cell_type": "code",
   "execution_count": 4,
   "metadata": {},
   "outputs": [
    {
     "data": {
      "application/vnd.plotly.v1+json": {
       "config": {
        "plotlyServerURL": "https://plot.ly"
       },
       "data": [
        {
         "alignmentgroup": "True",
         "hovertemplate": "Gender=female<br>Year=%{x}<br>Number of Candidates=%{y}<extra></extra>",
         "legendgroup": "female",
         "marker": {
          "color": "#636efa",
          "pattern": {
           "shape": ""
          }
         },
         "name": "female",
         "offsetgroup": "female",
         "orientation": "v",
         "showlegend": true,
         "textposition": "auto",
         "type": "bar",
         "x": [
          1998,
          1999,
          2000,
          2001,
          2002,
          2003,
          2004,
          2005,
          2006,
          2007,
          2008,
          2009,
          2010,
          2011,
          2012,
          2013,
          2014,
          2015,
          2016,
          2017,
          2018,
          2019,
          2020,
          2021,
          2022,
          2023,
          2024,
          2025
         ],
         "xaxis": "x",
         "y": [
          4,
          9,
          5,
          10,
          15,
          12,
          16,
          39,
          31,
          31,
          34,
          25,
          31,
          39,
          42,
          49,
          57,
          52,
          69,
          63,
          64,
          64,
          59,
          55,
          59,
          81,
          86,
          0
         ],
         "yaxis": "y"
        },
        {
         "alignmentgroup": "True",
         "hovertemplate": "Gender=male<br>Year=%{x}<br>Number of Candidates=%{y}<extra></extra>",
         "legendgroup": "male",
         "marker": {
          "color": "#EF553B",
          "pattern": {
           "shape": ""
          }
         },
         "name": "male",
         "offsetgroup": "male",
         "orientation": "v",
         "showlegend": true,
         "textposition": "auto",
         "type": "bar",
         "x": [
          1998,
          1999,
          2000,
          2001,
          2002,
          2003,
          2004,
          2005,
          2006,
          2007,
          2008,
          2009,
          2010,
          2011,
          2012,
          2013,
          2014,
          2015,
          2016,
          2017,
          2018,
          2019,
          2020,
          2021,
          2022,
          2023,
          2024,
          2025
         ],
         "xaxis": "x",
         "y": [
          20,
          30,
          17,
          25,
          20,
          22,
          28,
          54,
          67,
          56,
          57,
          82,
          70,
          106,
          92,
          94,
          117,
          124,
          171,
          131,
          133,
          108,
          133,
          127,
          151,
          168,
          147,
          1
         ],
         "yaxis": "y"
        }
       ],
       "layout": {
        "barmode": "stack",
        "legend": {
         "title": {
          "text": "Gender"
         },
         "tracegroupgap": 0
        },
        "template": {
         "data": {
          "bar": [
           {
            "error_x": {
             "color": "#2a3f5f"
            },
            "error_y": {
             "color": "#2a3f5f"
            },
            "marker": {
             "line": {
              "color": "#E5ECF6",
              "width": 0.5
             },
             "pattern": {
              "fillmode": "overlay",
              "size": 10,
              "solidity": 0.2
             }
            },
            "type": "bar"
           }
          ],
          "barpolar": [
           {
            "marker": {
             "line": {
              "color": "#E5ECF6",
              "width": 0.5
             },
             "pattern": {
              "fillmode": "overlay",
              "size": 10,
              "solidity": 0.2
             }
            },
            "type": "barpolar"
           }
          ],
          "carpet": [
           {
            "aaxis": {
             "endlinecolor": "#2a3f5f",
             "gridcolor": "white",
             "linecolor": "white",
             "minorgridcolor": "white",
             "startlinecolor": "#2a3f5f"
            },
            "baxis": {
             "endlinecolor": "#2a3f5f",
             "gridcolor": "white",
             "linecolor": "white",
             "minorgridcolor": "white",
             "startlinecolor": "#2a3f5f"
            },
            "type": "carpet"
           }
          ],
          "choropleth": [
           {
            "colorbar": {
             "outlinewidth": 0,
             "ticks": ""
            },
            "type": "choropleth"
           }
          ],
          "contour": [
           {
            "colorbar": {
             "outlinewidth": 0,
             "ticks": ""
            },
            "colorscale": [
             [
              0,
              "#0d0887"
             ],
             [
              0.1111111111111111,
              "#46039f"
             ],
             [
              0.2222222222222222,
              "#7201a8"
             ],
             [
              0.3333333333333333,
              "#9c179e"
             ],
             [
              0.4444444444444444,
              "#bd3786"
             ],
             [
              0.5555555555555556,
              "#d8576b"
             ],
             [
              0.6666666666666666,
              "#ed7953"
             ],
             [
              0.7777777777777778,
              "#fb9f3a"
             ],
             [
              0.8888888888888888,
              "#fdca26"
             ],
             [
              1,
              "#f0f921"
             ]
            ],
            "type": "contour"
           }
          ],
          "contourcarpet": [
           {
            "colorbar": {
             "outlinewidth": 0,
             "ticks": ""
            },
            "type": "contourcarpet"
           }
          ],
          "heatmap": [
           {
            "colorbar": {
             "outlinewidth": 0,
             "ticks": ""
            },
            "colorscale": [
             [
              0,
              "#0d0887"
             ],
             [
              0.1111111111111111,
              "#46039f"
             ],
             [
              0.2222222222222222,
              "#7201a8"
             ],
             [
              0.3333333333333333,
              "#9c179e"
             ],
             [
              0.4444444444444444,
              "#bd3786"
             ],
             [
              0.5555555555555556,
              "#d8576b"
             ],
             [
              0.6666666666666666,
              "#ed7953"
             ],
             [
              0.7777777777777778,
              "#fb9f3a"
             ],
             [
              0.8888888888888888,
              "#fdca26"
             ],
             [
              1,
              "#f0f921"
             ]
            ],
            "type": "heatmap"
           }
          ],
          "heatmapgl": [
           {
            "colorbar": {
             "outlinewidth": 0,
             "ticks": ""
            },
            "colorscale": [
             [
              0,
              "#0d0887"
             ],
             [
              0.1111111111111111,
              "#46039f"
             ],
             [
              0.2222222222222222,
              "#7201a8"
             ],
             [
              0.3333333333333333,
              "#9c179e"
             ],
             [
              0.4444444444444444,
              "#bd3786"
             ],
             [
              0.5555555555555556,
              "#d8576b"
             ],
             [
              0.6666666666666666,
              "#ed7953"
             ],
             [
              0.7777777777777778,
              "#fb9f3a"
             ],
             [
              0.8888888888888888,
              "#fdca26"
             ],
             [
              1,
              "#f0f921"
             ]
            ],
            "type": "heatmapgl"
           }
          ],
          "histogram": [
           {
            "marker": {
             "pattern": {
              "fillmode": "overlay",
              "size": 10,
              "solidity": 0.2
             }
            },
            "type": "histogram"
           }
          ],
          "histogram2d": [
           {
            "colorbar": {
             "outlinewidth": 0,
             "ticks": ""
            },
            "colorscale": [
             [
              0,
              "#0d0887"
             ],
             [
              0.1111111111111111,
              "#46039f"
             ],
             [
              0.2222222222222222,
              "#7201a8"
             ],
             [
              0.3333333333333333,
              "#9c179e"
             ],
             [
              0.4444444444444444,
              "#bd3786"
             ],
             [
              0.5555555555555556,
              "#d8576b"
             ],
             [
              0.6666666666666666,
              "#ed7953"
             ],
             [
              0.7777777777777778,
              "#fb9f3a"
             ],
             [
              0.8888888888888888,
              "#fdca26"
             ],
             [
              1,
              "#f0f921"
             ]
            ],
            "type": "histogram2d"
           }
          ],
          "histogram2dcontour": [
           {
            "colorbar": {
             "outlinewidth": 0,
             "ticks": ""
            },
            "colorscale": [
             [
              0,
              "#0d0887"
             ],
             [
              0.1111111111111111,
              "#46039f"
             ],
             [
              0.2222222222222222,
              "#7201a8"
             ],
             [
              0.3333333333333333,
              "#9c179e"
             ],
             [
              0.4444444444444444,
              "#bd3786"
             ],
             [
              0.5555555555555556,
              "#d8576b"
             ],
             [
              0.6666666666666666,
              "#ed7953"
             ],
             [
              0.7777777777777778,
              "#fb9f3a"
             ],
             [
              0.8888888888888888,
              "#fdca26"
             ],
             [
              1,
              "#f0f921"
             ]
            ],
            "type": "histogram2dcontour"
           }
          ],
          "mesh3d": [
           {
            "colorbar": {
             "outlinewidth": 0,
             "ticks": ""
            },
            "type": "mesh3d"
           }
          ],
          "parcoords": [
           {
            "line": {
             "colorbar": {
              "outlinewidth": 0,
              "ticks": ""
             }
            },
            "type": "parcoords"
           }
          ],
          "pie": [
           {
            "automargin": true,
            "type": "pie"
           }
          ],
          "scatter": [
           {
            "fillpattern": {
             "fillmode": "overlay",
             "size": 10,
             "solidity": 0.2
            },
            "type": "scatter"
           }
          ],
          "scatter3d": [
           {
            "line": {
             "colorbar": {
              "outlinewidth": 0,
              "ticks": ""
             }
            },
            "marker": {
             "colorbar": {
              "outlinewidth": 0,
              "ticks": ""
             }
            },
            "type": "scatter3d"
           }
          ],
          "scattercarpet": [
           {
            "marker": {
             "colorbar": {
              "outlinewidth": 0,
              "ticks": ""
             }
            },
            "type": "scattercarpet"
           }
          ],
          "scattergeo": [
           {
            "marker": {
             "colorbar": {
              "outlinewidth": 0,
              "ticks": ""
             }
            },
            "type": "scattergeo"
           }
          ],
          "scattergl": [
           {
            "marker": {
             "colorbar": {
              "outlinewidth": 0,
              "ticks": ""
             }
            },
            "type": "scattergl"
           }
          ],
          "scattermapbox": [
           {
            "marker": {
             "colorbar": {
              "outlinewidth": 0,
              "ticks": ""
             }
            },
            "type": "scattermapbox"
           }
          ],
          "scatterpolar": [
           {
            "marker": {
             "colorbar": {
              "outlinewidth": 0,
              "ticks": ""
             }
            },
            "type": "scatterpolar"
           }
          ],
          "scatterpolargl": [
           {
            "marker": {
             "colorbar": {
              "outlinewidth": 0,
              "ticks": ""
             }
            },
            "type": "scatterpolargl"
           }
          ],
          "scatterternary": [
           {
            "marker": {
             "colorbar": {
              "outlinewidth": 0,
              "ticks": ""
             }
            },
            "type": "scatterternary"
           }
          ],
          "surface": [
           {
            "colorbar": {
             "outlinewidth": 0,
             "ticks": ""
            },
            "colorscale": [
             [
              0,
              "#0d0887"
             ],
             [
              0.1111111111111111,
              "#46039f"
             ],
             [
              0.2222222222222222,
              "#7201a8"
             ],
             [
              0.3333333333333333,
              "#9c179e"
             ],
             [
              0.4444444444444444,
              "#bd3786"
             ],
             [
              0.5555555555555556,
              "#d8576b"
             ],
             [
              0.6666666666666666,
              "#ed7953"
             ],
             [
              0.7777777777777778,
              "#fb9f3a"
             ],
             [
              0.8888888888888888,
              "#fdca26"
             ],
             [
              1,
              "#f0f921"
             ]
            ],
            "type": "surface"
           }
          ],
          "table": [
           {
            "cells": {
             "fill": {
              "color": "#EBF0F8"
             },
             "line": {
              "color": "white"
             }
            },
            "header": {
             "fill": {
              "color": "#C8D4E3"
             },
             "line": {
              "color": "white"
             }
            },
            "type": "table"
           }
          ]
         },
         "layout": {
          "annotationdefaults": {
           "arrowcolor": "#2a3f5f",
           "arrowhead": 0,
           "arrowwidth": 1
          },
          "autotypenumbers": "strict",
          "coloraxis": {
           "colorbar": {
            "outlinewidth": 0,
            "ticks": ""
           }
          },
          "colorscale": {
           "diverging": [
            [
             0,
             "#8e0152"
            ],
            [
             0.1,
             "#c51b7d"
            ],
            [
             0.2,
             "#de77ae"
            ],
            [
             0.3,
             "#f1b6da"
            ],
            [
             0.4,
             "#fde0ef"
            ],
            [
             0.5,
             "#f7f7f7"
            ],
            [
             0.6,
             "#e6f5d0"
            ],
            [
             0.7,
             "#b8e186"
            ],
            [
             0.8,
             "#7fbc41"
            ],
            [
             0.9,
             "#4d9221"
            ],
            [
             1,
             "#276419"
            ]
           ],
           "sequential": [
            [
             0,
             "#0d0887"
            ],
            [
             0.1111111111111111,
             "#46039f"
            ],
            [
             0.2222222222222222,
             "#7201a8"
            ],
            [
             0.3333333333333333,
             "#9c179e"
            ],
            [
             0.4444444444444444,
             "#bd3786"
            ],
            [
             0.5555555555555556,
             "#d8576b"
            ],
            [
             0.6666666666666666,
             "#ed7953"
            ],
            [
             0.7777777777777778,
             "#fb9f3a"
            ],
            [
             0.8888888888888888,
             "#fdca26"
            ],
            [
             1,
             "#f0f921"
            ]
           ],
           "sequentialminus": [
            [
             0,
             "#0d0887"
            ],
            [
             0.1111111111111111,
             "#46039f"
            ],
            [
             0.2222222222222222,
             "#7201a8"
            ],
            [
             0.3333333333333333,
             "#9c179e"
            ],
            [
             0.4444444444444444,
             "#bd3786"
            ],
            [
             0.5555555555555556,
             "#d8576b"
            ],
            [
             0.6666666666666666,
             "#ed7953"
            ],
            [
             0.7777777777777778,
             "#fb9f3a"
            ],
            [
             0.8888888888888888,
             "#fdca26"
            ],
            [
             1,
             "#f0f921"
            ]
           ]
          },
          "colorway": [
           "#636efa",
           "#EF553B",
           "#00cc96",
           "#ab63fa",
           "#FFA15A",
           "#19d3f3",
           "#FF6692",
           "#B6E880",
           "#FF97FF",
           "#FECB52"
          ],
          "font": {
           "color": "#2a3f5f"
          },
          "geo": {
           "bgcolor": "white",
           "lakecolor": "white",
           "landcolor": "#E5ECF6",
           "showlakes": true,
           "showland": true,
           "subunitcolor": "white"
          },
          "hoverlabel": {
           "align": "left"
          },
          "hovermode": "closest",
          "mapbox": {
           "style": "light"
          },
          "paper_bgcolor": "white",
          "plot_bgcolor": "#E5ECF6",
          "polar": {
           "angularaxis": {
            "gridcolor": "white",
            "linecolor": "white",
            "ticks": ""
           },
           "bgcolor": "#E5ECF6",
           "radialaxis": {
            "gridcolor": "white",
            "linecolor": "white",
            "ticks": ""
           }
          },
          "scene": {
           "xaxis": {
            "backgroundcolor": "#E5ECF6",
            "gridcolor": "white",
            "gridwidth": 2,
            "linecolor": "white",
            "showbackground": true,
            "ticks": "",
            "zerolinecolor": "white"
           },
           "yaxis": {
            "backgroundcolor": "#E5ECF6",
            "gridcolor": "white",
            "gridwidth": 2,
            "linecolor": "white",
            "showbackground": true,
            "ticks": "",
            "zerolinecolor": "white"
           },
           "zaxis": {
            "backgroundcolor": "#E5ECF6",
            "gridcolor": "white",
            "gridwidth": 2,
            "linecolor": "white",
            "showbackground": true,
            "ticks": "",
            "zerolinecolor": "white"
           }
          },
          "shapedefaults": {
           "line": {
            "color": "#2a3f5f"
           }
          },
          "ternary": {
           "aaxis": {
            "gridcolor": "white",
            "linecolor": "white",
            "ticks": ""
           },
           "baxis": {
            "gridcolor": "white",
            "linecolor": "white",
            "ticks": ""
           },
           "bgcolor": "#E5ECF6",
           "caxis": {
            "gridcolor": "white",
            "linecolor": "white",
            "ticks": ""
           }
          },
          "title": {
           "x": 0.05
          },
          "xaxis": {
           "automargin": true,
           "gridcolor": "white",
           "linecolor": "white",
           "ticks": "",
           "title": {
            "standoff": 15
           },
           "zerolinecolor": "white",
           "zerolinewidth": 2
          },
          "yaxis": {
           "automargin": true,
           "gridcolor": "white",
           "linecolor": "white",
           "ticks": "",
           "title": {
            "standoff": 15
           },
           "zerolinecolor": "white",
           "zerolinewidth": 2
          }
         }
        },
        "title": {
         "text": "Gender Distribution Over Years"
        },
        "xaxis": {
         "anchor": "y",
         "domain": [
          0,
          1
         ],
         "title": {
          "text": "Year"
         }
        },
        "yaxis": {
         "anchor": "x",
         "domain": [
          0,
          1
         ],
         "title": {
          "text": "Number of Candidates"
         }
        }
       }
      }
     },
     "metadata": {},
     "output_type": "display_data"
    }
   ],
   "source": [
    "# Group data by year and gender, count occurrences\n",
    "gender_by_year = pd.crosstab(full_df['year'], full_df['gender'])\n",
    "\n",
    "# Create stacked bar plot\n",
    "fig = px.bar(gender_by_year, \n",
    "             title='Gender Distribution Over Years',\n",
    "             labels={'value': 'Number of Candidates', \n",
    "                    'year': 'Year',\n",
    "                    'gender': 'Gender'},\n",
    "             barmode='stack')\n",
    "\n",
    "# Save the plot\n",
    "pio.write_html(fig, file='../output/graphs/gender_distribution.html')\n",
    "\n",
    "# Display the plot\n",
    "fig.show()\n"
   ]
  },
  {
   "cell_type": "code",
   "execution_count": 40,
   "metadata": {},
   "outputs": [
    {
     "data": {
      "application/vnd.plotly.v1+json": {
       "config": {
        "plotlyServerURL": "https://plot.ly"
       },
       "data": [
        {
         "alignmentgroup": "True",
         "hovertemplate": "Gender=female<br>Year=%{x}<br>Percentage of Candidates=%{y}<extra></extra>",
         "legendgroup": "female",
         "marker": {
          "color": "#636efa",
          "pattern": {
           "shape": ""
          }
         },
         "name": "female",
         "offsetgroup": "female",
         "orientation": "v",
         "showlegend": true,
         "textposition": "auto",
         "type": "bar",
         "x": [
          1998,
          1999,
          2000,
          2001,
          2002,
          2003,
          2004,
          2005,
          2006,
          2007,
          2008,
          2009,
          2010,
          2011,
          2012,
          2013,
          2014,
          2015,
          2016,
          2017,
          2018,
          2019,
          2020,
          2021,
          2022,
          2023,
          2024
         ],
         "xaxis": "x",
         "y": [
          16.666666666666664,
          15.384615384615385,
          8.333333333333332,
          15.384615384615385,
          33.33333333333333,
          26.666666666666668,
          33.33333333333333,
          40,
          35,
          14.285714285714285,
          33.33333333333333,
          15.789473684210526,
          23.52941176470588,
          44.44444444444444,
          22.22222222222222,
          31.25,
          15,
          38.46153846153847,
          36.84210526315789,
          22.22222222222222,
          50,
          100,
          36.84210526315789,
          33.33333333333333,
          0,
          0,
          15
         ],
         "yaxis": "y"
        },
        {
         "alignmentgroup": "True",
         "hovertemplate": "Gender=male<br>Year=%{x}<br>Percentage of Candidates=%{y}<extra></extra>",
         "legendgroup": "male",
         "marker": {
          "color": "#EF553B",
          "pattern": {
           "shape": ""
          }
         },
         "name": "male",
         "offsetgroup": "male",
         "orientation": "v",
         "showlegend": true,
         "textposition": "auto",
         "type": "bar",
         "x": [
          1998,
          1999,
          2000,
          2001,
          2002,
          2003,
          2004,
          2005,
          2006,
          2007,
          2008,
          2009,
          2010,
          2011,
          2012,
          2013,
          2014,
          2015,
          2016,
          2017,
          2018,
          2019,
          2020,
          2021,
          2022,
          2023,
          2024
         ],
         "xaxis": "x",
         "y": [
          83.33333333333334,
          84.61538461538461,
          91.66666666666666,
          84.61538461538461,
          66.66666666666666,
          73.33333333333333,
          66.66666666666666,
          60,
          65,
          85.71428571428571,
          66.66666666666666,
          84.21052631578947,
          76.47058823529412,
          55.55555555555556,
          77.77777777777779,
          68.75,
          85,
          61.53846153846154,
          63.1578947368421,
          77.77777777777779,
          50,
          0,
          63.1578947368421,
          66.66666666666666,
          100,
          100,
          85
         ],
         "yaxis": "y"
        }
       ],
       "layout": {
        "barmode": "stack",
        "legend": {
         "title": {
          "text": "Gender"
         },
         "tracegroupgap": 0
        },
        "template": {
         "data": {
          "bar": [
           {
            "error_x": {
             "color": "#2a3f5f"
            },
            "error_y": {
             "color": "#2a3f5f"
            },
            "marker": {
             "line": {
              "color": "#E5ECF6",
              "width": 0.5
             },
             "pattern": {
              "fillmode": "overlay",
              "size": 10,
              "solidity": 0.2
             }
            },
            "type": "bar"
           }
          ],
          "barpolar": [
           {
            "marker": {
             "line": {
              "color": "#E5ECF6",
              "width": 0.5
             },
             "pattern": {
              "fillmode": "overlay",
              "size": 10,
              "solidity": 0.2
             }
            },
            "type": "barpolar"
           }
          ],
          "carpet": [
           {
            "aaxis": {
             "endlinecolor": "#2a3f5f",
             "gridcolor": "white",
             "linecolor": "white",
             "minorgridcolor": "white",
             "startlinecolor": "#2a3f5f"
            },
            "baxis": {
             "endlinecolor": "#2a3f5f",
             "gridcolor": "white",
             "linecolor": "white",
             "minorgridcolor": "white",
             "startlinecolor": "#2a3f5f"
            },
            "type": "carpet"
           }
          ],
          "choropleth": [
           {
            "colorbar": {
             "outlinewidth": 0,
             "ticks": ""
            },
            "type": "choropleth"
           }
          ],
          "contour": [
           {
            "colorbar": {
             "outlinewidth": 0,
             "ticks": ""
            },
            "colorscale": [
             [
              0,
              "#0d0887"
             ],
             [
              0.1111111111111111,
              "#46039f"
             ],
             [
              0.2222222222222222,
              "#7201a8"
             ],
             [
              0.3333333333333333,
              "#9c179e"
             ],
             [
              0.4444444444444444,
              "#bd3786"
             ],
             [
              0.5555555555555556,
              "#d8576b"
             ],
             [
              0.6666666666666666,
              "#ed7953"
             ],
             [
              0.7777777777777778,
              "#fb9f3a"
             ],
             [
              0.8888888888888888,
              "#fdca26"
             ],
             [
              1,
              "#f0f921"
             ]
            ],
            "type": "contour"
           }
          ],
          "contourcarpet": [
           {
            "colorbar": {
             "outlinewidth": 0,
             "ticks": ""
            },
            "type": "contourcarpet"
           }
          ],
          "heatmap": [
           {
            "colorbar": {
             "outlinewidth": 0,
             "ticks": ""
            },
            "colorscale": [
             [
              0,
              "#0d0887"
             ],
             [
              0.1111111111111111,
              "#46039f"
             ],
             [
              0.2222222222222222,
              "#7201a8"
             ],
             [
              0.3333333333333333,
              "#9c179e"
             ],
             [
              0.4444444444444444,
              "#bd3786"
             ],
             [
              0.5555555555555556,
              "#d8576b"
             ],
             [
              0.6666666666666666,
              "#ed7953"
             ],
             [
              0.7777777777777778,
              "#fb9f3a"
             ],
             [
              0.8888888888888888,
              "#fdca26"
             ],
             [
              1,
              "#f0f921"
             ]
            ],
            "type": "heatmap"
           }
          ],
          "heatmapgl": [
           {
            "colorbar": {
             "outlinewidth": 0,
             "ticks": ""
            },
            "colorscale": [
             [
              0,
              "#0d0887"
             ],
             [
              0.1111111111111111,
              "#46039f"
             ],
             [
              0.2222222222222222,
              "#7201a8"
             ],
             [
              0.3333333333333333,
              "#9c179e"
             ],
             [
              0.4444444444444444,
              "#bd3786"
             ],
             [
              0.5555555555555556,
              "#d8576b"
             ],
             [
              0.6666666666666666,
              "#ed7953"
             ],
             [
              0.7777777777777778,
              "#fb9f3a"
             ],
             [
              0.8888888888888888,
              "#fdca26"
             ],
             [
              1,
              "#f0f921"
             ]
            ],
            "type": "heatmapgl"
           }
          ],
          "histogram": [
           {
            "marker": {
             "pattern": {
              "fillmode": "overlay",
              "size": 10,
              "solidity": 0.2
             }
            },
            "type": "histogram"
           }
          ],
          "histogram2d": [
           {
            "colorbar": {
             "outlinewidth": 0,
             "ticks": ""
            },
            "colorscale": [
             [
              0,
              "#0d0887"
             ],
             [
              0.1111111111111111,
              "#46039f"
             ],
             [
              0.2222222222222222,
              "#7201a8"
             ],
             [
              0.3333333333333333,
              "#9c179e"
             ],
             [
              0.4444444444444444,
              "#bd3786"
             ],
             [
              0.5555555555555556,
              "#d8576b"
             ],
             [
              0.6666666666666666,
              "#ed7953"
             ],
             [
              0.7777777777777778,
              "#fb9f3a"
             ],
             [
              0.8888888888888888,
              "#fdca26"
             ],
             [
              1,
              "#f0f921"
             ]
            ],
            "type": "histogram2d"
           }
          ],
          "histogram2dcontour": [
           {
            "colorbar": {
             "outlinewidth": 0,
             "ticks": ""
            },
            "colorscale": [
             [
              0,
              "#0d0887"
             ],
             [
              0.1111111111111111,
              "#46039f"
             ],
             [
              0.2222222222222222,
              "#7201a8"
             ],
             [
              0.3333333333333333,
              "#9c179e"
             ],
             [
              0.4444444444444444,
              "#bd3786"
             ],
             [
              0.5555555555555556,
              "#d8576b"
             ],
             [
              0.6666666666666666,
              "#ed7953"
             ],
             [
              0.7777777777777778,
              "#fb9f3a"
             ],
             [
              0.8888888888888888,
              "#fdca26"
             ],
             [
              1,
              "#f0f921"
             ]
            ],
            "type": "histogram2dcontour"
           }
          ],
          "mesh3d": [
           {
            "colorbar": {
             "outlinewidth": 0,
             "ticks": ""
            },
            "type": "mesh3d"
           }
          ],
          "parcoords": [
           {
            "line": {
             "colorbar": {
              "outlinewidth": 0,
              "ticks": ""
             }
            },
            "type": "parcoords"
           }
          ],
          "pie": [
           {
            "automargin": true,
            "type": "pie"
           }
          ],
          "scatter": [
           {
            "fillpattern": {
             "fillmode": "overlay",
             "size": 10,
             "solidity": 0.2
            },
            "type": "scatter"
           }
          ],
          "scatter3d": [
           {
            "line": {
             "colorbar": {
              "outlinewidth": 0,
              "ticks": ""
             }
            },
            "marker": {
             "colorbar": {
              "outlinewidth": 0,
              "ticks": ""
             }
            },
            "type": "scatter3d"
           }
          ],
          "scattercarpet": [
           {
            "marker": {
             "colorbar": {
              "outlinewidth": 0,
              "ticks": ""
             }
            },
            "type": "scattercarpet"
           }
          ],
          "scattergeo": [
           {
            "marker": {
             "colorbar": {
              "outlinewidth": 0,
              "ticks": ""
             }
            },
            "type": "scattergeo"
           }
          ],
          "scattergl": [
           {
            "marker": {
             "colorbar": {
              "outlinewidth": 0,
              "ticks": ""
             }
            },
            "type": "scattergl"
           }
          ],
          "scattermapbox": [
           {
            "marker": {
             "colorbar": {
              "outlinewidth": 0,
              "ticks": ""
             }
            },
            "type": "scattermapbox"
           }
          ],
          "scatterpolar": [
           {
            "marker": {
             "colorbar": {
              "outlinewidth": 0,
              "ticks": ""
             }
            },
            "type": "scatterpolar"
           }
          ],
          "scatterpolargl": [
           {
            "marker": {
             "colorbar": {
              "outlinewidth": 0,
              "ticks": ""
             }
            },
            "type": "scatterpolargl"
           }
          ],
          "scatterternary": [
           {
            "marker": {
             "colorbar": {
              "outlinewidth": 0,
              "ticks": ""
             }
            },
            "type": "scatterternary"
           }
          ],
          "surface": [
           {
            "colorbar": {
             "outlinewidth": 0,
             "ticks": ""
            },
            "colorscale": [
             [
              0,
              "#0d0887"
             ],
             [
              0.1111111111111111,
              "#46039f"
             ],
             [
              0.2222222222222222,
              "#7201a8"
             ],
             [
              0.3333333333333333,
              "#9c179e"
             ],
             [
              0.4444444444444444,
              "#bd3786"
             ],
             [
              0.5555555555555556,
              "#d8576b"
             ],
             [
              0.6666666666666666,
              "#ed7953"
             ],
             [
              0.7777777777777778,
              "#fb9f3a"
             ],
             [
              0.8888888888888888,
              "#fdca26"
             ],
             [
              1,
              "#f0f921"
             ]
            ],
            "type": "surface"
           }
          ],
          "table": [
           {
            "cells": {
             "fill": {
              "color": "#EBF0F8"
             },
             "line": {
              "color": "white"
             }
            },
            "header": {
             "fill": {
              "color": "#C8D4E3"
             },
             "line": {
              "color": "white"
             }
            },
            "type": "table"
           }
          ]
         },
         "layout": {
          "annotationdefaults": {
           "arrowcolor": "#2a3f5f",
           "arrowhead": 0,
           "arrowwidth": 1
          },
          "autotypenumbers": "strict",
          "coloraxis": {
           "colorbar": {
            "outlinewidth": 0,
            "ticks": ""
           }
          },
          "colorscale": {
           "diverging": [
            [
             0,
             "#8e0152"
            ],
            [
             0.1,
             "#c51b7d"
            ],
            [
             0.2,
             "#de77ae"
            ],
            [
             0.3,
             "#f1b6da"
            ],
            [
             0.4,
             "#fde0ef"
            ],
            [
             0.5,
             "#f7f7f7"
            ],
            [
             0.6,
             "#e6f5d0"
            ],
            [
             0.7,
             "#b8e186"
            ],
            [
             0.8,
             "#7fbc41"
            ],
            [
             0.9,
             "#4d9221"
            ],
            [
             1,
             "#276419"
            ]
           ],
           "sequential": [
            [
             0,
             "#0d0887"
            ],
            [
             0.1111111111111111,
             "#46039f"
            ],
            [
             0.2222222222222222,
             "#7201a8"
            ],
            [
             0.3333333333333333,
             "#9c179e"
            ],
            [
             0.4444444444444444,
             "#bd3786"
            ],
            [
             0.5555555555555556,
             "#d8576b"
            ],
            [
             0.6666666666666666,
             "#ed7953"
            ],
            [
             0.7777777777777778,
             "#fb9f3a"
            ],
            [
             0.8888888888888888,
             "#fdca26"
            ],
            [
             1,
             "#f0f921"
            ]
           ],
           "sequentialminus": [
            [
             0,
             "#0d0887"
            ],
            [
             0.1111111111111111,
             "#46039f"
            ],
            [
             0.2222222222222222,
             "#7201a8"
            ],
            [
             0.3333333333333333,
             "#9c179e"
            ],
            [
             0.4444444444444444,
             "#bd3786"
            ],
            [
             0.5555555555555556,
             "#d8576b"
            ],
            [
             0.6666666666666666,
             "#ed7953"
            ],
            [
             0.7777777777777778,
             "#fb9f3a"
            ],
            [
             0.8888888888888888,
             "#fdca26"
            ],
            [
             1,
             "#f0f921"
            ]
           ]
          },
          "colorway": [
           "#636efa",
           "#EF553B",
           "#00cc96",
           "#ab63fa",
           "#FFA15A",
           "#19d3f3",
           "#FF6692",
           "#B6E880",
           "#FF97FF",
           "#FECB52"
          ],
          "font": {
           "color": "#2a3f5f"
          },
          "geo": {
           "bgcolor": "white",
           "lakecolor": "white",
           "landcolor": "#E5ECF6",
           "showlakes": true,
           "showland": true,
           "subunitcolor": "white"
          },
          "hoverlabel": {
           "align": "left"
          },
          "hovermode": "closest",
          "mapbox": {
           "style": "light"
          },
          "paper_bgcolor": "white",
          "plot_bgcolor": "#E5ECF6",
          "polar": {
           "angularaxis": {
            "gridcolor": "white",
            "linecolor": "white",
            "ticks": ""
           },
           "bgcolor": "#E5ECF6",
           "radialaxis": {
            "gridcolor": "white",
            "linecolor": "white",
            "ticks": ""
           }
          },
          "scene": {
           "xaxis": {
            "backgroundcolor": "#E5ECF6",
            "gridcolor": "white",
            "gridwidth": 2,
            "linecolor": "white",
            "showbackground": true,
            "ticks": "",
            "zerolinecolor": "white"
           },
           "yaxis": {
            "backgroundcolor": "#E5ECF6",
            "gridcolor": "white",
            "gridwidth": 2,
            "linecolor": "white",
            "showbackground": true,
            "ticks": "",
            "zerolinecolor": "white"
           },
           "zaxis": {
            "backgroundcolor": "#E5ECF6",
            "gridcolor": "white",
            "gridwidth": 2,
            "linecolor": "white",
            "showbackground": true,
            "ticks": "",
            "zerolinecolor": "white"
           }
          },
          "shapedefaults": {
           "line": {
            "color": "#2a3f5f"
           }
          },
          "ternary": {
           "aaxis": {
            "gridcolor": "white",
            "linecolor": "white",
            "ticks": ""
           },
           "baxis": {
            "gridcolor": "white",
            "linecolor": "white",
            "ticks": ""
           },
           "bgcolor": "#E5ECF6",
           "caxis": {
            "gridcolor": "white",
            "linecolor": "white",
            "ticks": ""
           }
          },
          "title": {
           "x": 0.05
          },
          "xaxis": {
           "automargin": true,
           "gridcolor": "white",
           "linecolor": "white",
           "ticks": "",
           "title": {
            "standoff": 15
           },
           "zerolinecolor": "white",
           "zerolinewidth": 2
          },
          "yaxis": {
           "automargin": true,
           "gridcolor": "white",
           "linecolor": "white",
           "ticks": "",
           "title": {
            "standoff": 15
           },
           "zerolinecolor": "white",
           "zerolinewidth": 2
          }
         }
        },
        "title": {
         "text": "Gender Distribution Over Years - Yale"
        },
        "xaxis": {
         "anchor": "y",
         "domain": [
          0,
          1
         ],
         "title": {
          "text": "Year"
         }
        },
        "yaxis": {
         "anchor": "x",
         "domain": [
          0,
          1
         ],
         "title": {
          "text": "Percentage of Candidates"
         }
        }
       }
      }
     },
     "metadata": {},
     "output_type": "display_data"
    },
    {
     "data": {
      "application/vnd.plotly.v1+json": {
       "config": {
        "plotlyServerURL": "https://plot.ly"
       },
       "data": [
        {
         "alignmentgroup": "True",
         "hovertemplate": "Gender=female<br>Year=%{x}<br>Percentage of Candidates=%{y}<extra></extra>",
         "legendgroup": "female",
         "marker": {
          "color": "#636efa",
          "pattern": {
           "shape": ""
          }
         },
         "name": "female",
         "offsetgroup": "female",
         "orientation": "v",
         "showlegend": true,
         "textposition": "auto",
         "type": "bar",
         "x": [
          1999,
          2000,
          2001,
          2002,
          2003,
          2004,
          2005,
          2006,
          2007,
          2008,
          2009,
          2010,
          2011,
          2012,
          2013,
          2014,
          2015,
          2016,
          2017,
          2018,
          2019,
          2020,
          2021,
          2022,
          2023,
          2024
         ],
         "xaxis": "x",
         "y": [
          26.923076923076923,
          0,
          50,
          66.66666666666666,
          80,
          25,
          37.5,
          40,
          75,
          50,
          40,
          57.14285714285714,
          33.33333333333333,
          80,
          36.36363636363637,
          42.857142857142854,
          40,
          55.55555555555556,
          66.66666666666666,
          18.181818181818183,
          42.857142857142854,
          50,
          28.57142857142857,
          14.285714285714285,
          25,
          50
         ],
         "yaxis": "y"
        },
        {
         "alignmentgroup": "True",
         "hovertemplate": "Gender=male<br>Year=%{x}<br>Percentage of Candidates=%{y}<extra></extra>",
         "legendgroup": "male",
         "marker": {
          "color": "#EF553B",
          "pattern": {
           "shape": ""
          }
         },
         "name": "male",
         "offsetgroup": "male",
         "orientation": "v",
         "showlegend": true,
         "textposition": "auto",
         "type": "bar",
         "x": [
          1999,
          2000,
          2001,
          2002,
          2003,
          2004,
          2005,
          2006,
          2007,
          2008,
          2009,
          2010,
          2011,
          2012,
          2013,
          2014,
          2015,
          2016,
          2017,
          2018,
          2019,
          2020,
          2021,
          2022,
          2023,
          2024
         ],
         "xaxis": "x",
         "y": [
          73.07692307692307,
          100,
          50,
          33.33333333333333,
          20,
          75,
          62.5,
          60,
          25,
          50,
          60,
          42.857142857142854,
          66.66666666666666,
          20,
          63.63636363636363,
          57.14285714285714,
          60,
          44.44444444444444,
          33.33333333333333,
          81.81818181818183,
          57.14285714285714,
          50,
          71.42857142857143,
          85.71428571428571,
          75,
          50
         ],
         "yaxis": "y"
        }
       ],
       "layout": {
        "barmode": "stack",
        "legend": {
         "title": {
          "text": "Gender"
         },
         "tracegroupgap": 0
        },
        "template": {
         "data": {
          "bar": [
           {
            "error_x": {
             "color": "#2a3f5f"
            },
            "error_y": {
             "color": "#2a3f5f"
            },
            "marker": {
             "line": {
              "color": "#E5ECF6",
              "width": 0.5
             },
             "pattern": {
              "fillmode": "overlay",
              "size": 10,
              "solidity": 0.2
             }
            },
            "type": "bar"
           }
          ],
          "barpolar": [
           {
            "marker": {
             "line": {
              "color": "#E5ECF6",
              "width": 0.5
             },
             "pattern": {
              "fillmode": "overlay",
              "size": 10,
              "solidity": 0.2
             }
            },
            "type": "barpolar"
           }
          ],
          "carpet": [
           {
            "aaxis": {
             "endlinecolor": "#2a3f5f",
             "gridcolor": "white",
             "linecolor": "white",
             "minorgridcolor": "white",
             "startlinecolor": "#2a3f5f"
            },
            "baxis": {
             "endlinecolor": "#2a3f5f",
             "gridcolor": "white",
             "linecolor": "white",
             "minorgridcolor": "white",
             "startlinecolor": "#2a3f5f"
            },
            "type": "carpet"
           }
          ],
          "choropleth": [
           {
            "colorbar": {
             "outlinewidth": 0,
             "ticks": ""
            },
            "type": "choropleth"
           }
          ],
          "contour": [
           {
            "colorbar": {
             "outlinewidth": 0,
             "ticks": ""
            },
            "colorscale": [
             [
              0,
              "#0d0887"
             ],
             [
              0.1111111111111111,
              "#46039f"
             ],
             [
              0.2222222222222222,
              "#7201a8"
             ],
             [
              0.3333333333333333,
              "#9c179e"
             ],
             [
              0.4444444444444444,
              "#bd3786"
             ],
             [
              0.5555555555555556,
              "#d8576b"
             ],
             [
              0.6666666666666666,
              "#ed7953"
             ],
             [
              0.7777777777777778,
              "#fb9f3a"
             ],
             [
              0.8888888888888888,
              "#fdca26"
             ],
             [
              1,
              "#f0f921"
             ]
            ],
            "type": "contour"
           }
          ],
          "contourcarpet": [
           {
            "colorbar": {
             "outlinewidth": 0,
             "ticks": ""
            },
            "type": "contourcarpet"
           }
          ],
          "heatmap": [
           {
            "colorbar": {
             "outlinewidth": 0,
             "ticks": ""
            },
            "colorscale": [
             [
              0,
              "#0d0887"
             ],
             [
              0.1111111111111111,
              "#46039f"
             ],
             [
              0.2222222222222222,
              "#7201a8"
             ],
             [
              0.3333333333333333,
              "#9c179e"
             ],
             [
              0.4444444444444444,
              "#bd3786"
             ],
             [
              0.5555555555555556,
              "#d8576b"
             ],
             [
              0.6666666666666666,
              "#ed7953"
             ],
             [
              0.7777777777777778,
              "#fb9f3a"
             ],
             [
              0.8888888888888888,
              "#fdca26"
             ],
             [
              1,
              "#f0f921"
             ]
            ],
            "type": "heatmap"
           }
          ],
          "heatmapgl": [
           {
            "colorbar": {
             "outlinewidth": 0,
             "ticks": ""
            },
            "colorscale": [
             [
              0,
              "#0d0887"
             ],
             [
              0.1111111111111111,
              "#46039f"
             ],
             [
              0.2222222222222222,
              "#7201a8"
             ],
             [
              0.3333333333333333,
              "#9c179e"
             ],
             [
              0.4444444444444444,
              "#bd3786"
             ],
             [
              0.5555555555555556,
              "#d8576b"
             ],
             [
              0.6666666666666666,
              "#ed7953"
             ],
             [
              0.7777777777777778,
              "#fb9f3a"
             ],
             [
              0.8888888888888888,
              "#fdca26"
             ],
             [
              1,
              "#f0f921"
             ]
            ],
            "type": "heatmapgl"
           }
          ],
          "histogram": [
           {
            "marker": {
             "pattern": {
              "fillmode": "overlay",
              "size": 10,
              "solidity": 0.2
             }
            },
            "type": "histogram"
           }
          ],
          "histogram2d": [
           {
            "colorbar": {
             "outlinewidth": 0,
             "ticks": ""
            },
            "colorscale": [
             [
              0,
              "#0d0887"
             ],
             [
              0.1111111111111111,
              "#46039f"
             ],
             [
              0.2222222222222222,
              "#7201a8"
             ],
             [
              0.3333333333333333,
              "#9c179e"
             ],
             [
              0.4444444444444444,
              "#bd3786"
             ],
             [
              0.5555555555555556,
              "#d8576b"
             ],
             [
              0.6666666666666666,
              "#ed7953"
             ],
             [
              0.7777777777777778,
              "#fb9f3a"
             ],
             [
              0.8888888888888888,
              "#fdca26"
             ],
             [
              1,
              "#f0f921"
             ]
            ],
            "type": "histogram2d"
           }
          ],
          "histogram2dcontour": [
           {
            "colorbar": {
             "outlinewidth": 0,
             "ticks": ""
            },
            "colorscale": [
             [
              0,
              "#0d0887"
             ],
             [
              0.1111111111111111,
              "#46039f"
             ],
             [
              0.2222222222222222,
              "#7201a8"
             ],
             [
              0.3333333333333333,
              "#9c179e"
             ],
             [
              0.4444444444444444,
              "#bd3786"
             ],
             [
              0.5555555555555556,
              "#d8576b"
             ],
             [
              0.6666666666666666,
              "#ed7953"
             ],
             [
              0.7777777777777778,
              "#fb9f3a"
             ],
             [
              0.8888888888888888,
              "#fdca26"
             ],
             [
              1,
              "#f0f921"
             ]
            ],
            "type": "histogram2dcontour"
           }
          ],
          "mesh3d": [
           {
            "colorbar": {
             "outlinewidth": 0,
             "ticks": ""
            },
            "type": "mesh3d"
           }
          ],
          "parcoords": [
           {
            "line": {
             "colorbar": {
              "outlinewidth": 0,
              "ticks": ""
             }
            },
            "type": "parcoords"
           }
          ],
          "pie": [
           {
            "automargin": true,
            "type": "pie"
           }
          ],
          "scatter": [
           {
            "fillpattern": {
             "fillmode": "overlay",
             "size": 10,
             "solidity": 0.2
            },
            "type": "scatter"
           }
          ],
          "scatter3d": [
           {
            "line": {
             "colorbar": {
              "outlinewidth": 0,
              "ticks": ""
             }
            },
            "marker": {
             "colorbar": {
              "outlinewidth": 0,
              "ticks": ""
             }
            },
            "type": "scatter3d"
           }
          ],
          "scattercarpet": [
           {
            "marker": {
             "colorbar": {
              "outlinewidth": 0,
              "ticks": ""
             }
            },
            "type": "scattercarpet"
           }
          ],
          "scattergeo": [
           {
            "marker": {
             "colorbar": {
              "outlinewidth": 0,
              "ticks": ""
             }
            },
            "type": "scattergeo"
           }
          ],
          "scattergl": [
           {
            "marker": {
             "colorbar": {
              "outlinewidth": 0,
              "ticks": ""
             }
            },
            "type": "scattergl"
           }
          ],
          "scattermapbox": [
           {
            "marker": {
             "colorbar": {
              "outlinewidth": 0,
              "ticks": ""
             }
            },
            "type": "scattermapbox"
           }
          ],
          "scatterpolar": [
           {
            "marker": {
             "colorbar": {
              "outlinewidth": 0,
              "ticks": ""
             }
            },
            "type": "scatterpolar"
           }
          ],
          "scatterpolargl": [
           {
            "marker": {
             "colorbar": {
              "outlinewidth": 0,
              "ticks": ""
             }
            },
            "type": "scatterpolargl"
           }
          ],
          "scatterternary": [
           {
            "marker": {
             "colorbar": {
              "outlinewidth": 0,
              "ticks": ""
             }
            },
            "type": "scatterternary"
           }
          ],
          "surface": [
           {
            "colorbar": {
             "outlinewidth": 0,
             "ticks": ""
            },
            "colorscale": [
             [
              0,
              "#0d0887"
             ],
             [
              0.1111111111111111,
              "#46039f"
             ],
             [
              0.2222222222222222,
              "#7201a8"
             ],
             [
              0.3333333333333333,
              "#9c179e"
             ],
             [
              0.4444444444444444,
              "#bd3786"
             ],
             [
              0.5555555555555556,
              "#d8576b"
             ],
             [
              0.6666666666666666,
              "#ed7953"
             ],
             [
              0.7777777777777778,
              "#fb9f3a"
             ],
             [
              0.8888888888888888,
              "#fdca26"
             ],
             [
              1,
              "#f0f921"
             ]
            ],
            "type": "surface"
           }
          ],
          "table": [
           {
            "cells": {
             "fill": {
              "color": "#EBF0F8"
             },
             "line": {
              "color": "white"
             }
            },
            "header": {
             "fill": {
              "color": "#C8D4E3"
             },
             "line": {
              "color": "white"
             }
            },
            "type": "table"
           }
          ]
         },
         "layout": {
          "annotationdefaults": {
           "arrowcolor": "#2a3f5f",
           "arrowhead": 0,
           "arrowwidth": 1
          },
          "autotypenumbers": "strict",
          "coloraxis": {
           "colorbar": {
            "outlinewidth": 0,
            "ticks": ""
           }
          },
          "colorscale": {
           "diverging": [
            [
             0,
             "#8e0152"
            ],
            [
             0.1,
             "#c51b7d"
            ],
            [
             0.2,
             "#de77ae"
            ],
            [
             0.3,
             "#f1b6da"
            ],
            [
             0.4,
             "#fde0ef"
            ],
            [
             0.5,
             "#f7f7f7"
            ],
            [
             0.6,
             "#e6f5d0"
            ],
            [
             0.7,
             "#b8e186"
            ],
            [
             0.8,
             "#7fbc41"
            ],
            [
             0.9,
             "#4d9221"
            ],
            [
             1,
             "#276419"
            ]
           ],
           "sequential": [
            [
             0,
             "#0d0887"
            ],
            [
             0.1111111111111111,
             "#46039f"
            ],
            [
             0.2222222222222222,
             "#7201a8"
            ],
            [
             0.3333333333333333,
             "#9c179e"
            ],
            [
             0.4444444444444444,
             "#bd3786"
            ],
            [
             0.5555555555555556,
             "#d8576b"
            ],
            [
             0.6666666666666666,
             "#ed7953"
            ],
            [
             0.7777777777777778,
             "#fb9f3a"
            ],
            [
             0.8888888888888888,
             "#fdca26"
            ],
            [
             1,
             "#f0f921"
            ]
           ],
           "sequentialminus": [
            [
             0,
             "#0d0887"
            ],
            [
             0.1111111111111111,
             "#46039f"
            ],
            [
             0.2222222222222222,
             "#7201a8"
            ],
            [
             0.3333333333333333,
             "#9c179e"
            ],
            [
             0.4444444444444444,
             "#bd3786"
            ],
            [
             0.5555555555555556,
             "#d8576b"
            ],
            [
             0.6666666666666666,
             "#ed7953"
            ],
            [
             0.7777777777777778,
             "#fb9f3a"
            ],
            [
             0.8888888888888888,
             "#fdca26"
            ],
            [
             1,
             "#f0f921"
            ]
           ]
          },
          "colorway": [
           "#636efa",
           "#EF553B",
           "#00cc96",
           "#ab63fa",
           "#FFA15A",
           "#19d3f3",
           "#FF6692",
           "#B6E880",
           "#FF97FF",
           "#FECB52"
          ],
          "font": {
           "color": "#2a3f5f"
          },
          "geo": {
           "bgcolor": "white",
           "lakecolor": "white",
           "landcolor": "#E5ECF6",
           "showlakes": true,
           "showland": true,
           "subunitcolor": "white"
          },
          "hoverlabel": {
           "align": "left"
          },
          "hovermode": "closest",
          "mapbox": {
           "style": "light"
          },
          "paper_bgcolor": "white",
          "plot_bgcolor": "#E5ECF6",
          "polar": {
           "angularaxis": {
            "gridcolor": "white",
            "linecolor": "white",
            "ticks": ""
           },
           "bgcolor": "#E5ECF6",
           "radialaxis": {
            "gridcolor": "white",
            "linecolor": "white",
            "ticks": ""
           }
          },
          "scene": {
           "xaxis": {
            "backgroundcolor": "#E5ECF6",
            "gridcolor": "white",
            "gridwidth": 2,
            "linecolor": "white",
            "showbackground": true,
            "ticks": "",
            "zerolinecolor": "white"
           },
           "yaxis": {
            "backgroundcolor": "#E5ECF6",
            "gridcolor": "white",
            "gridwidth": 2,
            "linecolor": "white",
            "showbackground": true,
            "ticks": "",
            "zerolinecolor": "white"
           },
           "zaxis": {
            "backgroundcolor": "#E5ECF6",
            "gridcolor": "white",
            "gridwidth": 2,
            "linecolor": "white",
            "showbackground": true,
            "ticks": "",
            "zerolinecolor": "white"
           }
          },
          "shapedefaults": {
           "line": {
            "color": "#2a3f5f"
           }
          },
          "ternary": {
           "aaxis": {
            "gridcolor": "white",
            "linecolor": "white",
            "ticks": ""
           },
           "baxis": {
            "gridcolor": "white",
            "linecolor": "white",
            "ticks": ""
           },
           "bgcolor": "#E5ECF6",
           "caxis": {
            "gridcolor": "white",
            "linecolor": "white",
            "ticks": ""
           }
          },
          "title": {
           "x": 0.05
          },
          "xaxis": {
           "automargin": true,
           "gridcolor": "white",
           "linecolor": "white",
           "ticks": "",
           "title": {
            "standoff": 15
           },
           "zerolinecolor": "white",
           "zerolinewidth": 2
          },
          "yaxis": {
           "automargin": true,
           "gridcolor": "white",
           "linecolor": "white",
           "ticks": "",
           "title": {
            "standoff": 15
           },
           "zerolinecolor": "white",
           "zerolinewidth": 2
          }
         }
        },
        "title": {
         "text": "Gender Distribution Over Years - UC Riverside"
        },
        "xaxis": {
         "anchor": "y",
         "domain": [
          0,
          1
         ],
         "title": {
          "text": "Year"
         }
        },
        "yaxis": {
         "anchor": "x",
         "domain": [
          0,
          1
         ],
         "title": {
          "text": "Percentage of Candidates"
         }
        }
       }
      }
     },
     "metadata": {},
     "output_type": "display_data"
    }
   ],
   "source": [
    "# Filter data for Yale\n",
    "yale_df = full_df[full_df['university'] == 'Yale']\n",
    "yale_gender_by_year = pd.crosstab(yale_df['year'], yale_df['gender'], normalize='index') * 100\n",
    "\n",
    "# Create stacked bar plot for Yale\n",
    "fig_yale = px.bar(yale_gender_by_year,\n",
    "             title='Gender Distribution Over Years - Yale',\n",
    "             labels={'value': 'Percentage of Candidates', \n",
    "                    'year': 'Year',\n",
    "                    'gender': 'Gender'},\n",
    "             barmode='stack')\n",
    "\n",
    "# Update y-axis to show percentages\n",
    "fig_yale.update_layout(yaxis_title='Percentage of Candidates')\n",
    "\n",
    "# Save Yale plot\n",
    "pio.write_html(fig_yale, file='../output/graphs/yale_gender_distribution.html')\n",
    "\n",
    "# Display Yale plot\n",
    "fig_yale.show()\n",
    "\n",
    "# Filter data for UC Riverside\n",
    "ucr_df = full_df[full_df['university'] == 'UC Riverside'] \n",
    "ucr_gender_by_year = pd.crosstab(ucr_df['year'], ucr_df['gender'], normalize='index') * 100\n",
    "\n",
    "# Create stacked bar plot for UC Riverside\n",
    "fig_ucr = px.bar(ucr_gender_by_year,\n",
    "             title='Gender Distribution Over Years - UC Riverside',\n",
    "             labels={'value': 'Percentage of Candidates', \n",
    "                    'year': 'Year',\n",
    "                    'gender': 'Gender'},\n",
    "             barmode='stack')\n",
    "\n",
    "# Update y-axis to show percentages\n",
    "fig_ucr.update_layout(yaxis_title='Percentage of Candidates')\n",
    "\n",
    "# Save UC Riverside plot\n",
    "pio.write_html(fig_ucr, file='../output/graphs/ucr_gender_distribution.html')\n",
    "\n",
    "# Display UC Riverside plot\n",
    "fig_ucr.show()\n"
   ]
  },
  {
   "cell_type": "code",
   "execution_count": 9,
   "metadata": {},
   "outputs": [
    {
     "data": {
      "application/vnd.plotly.v1+json": {
       "config": {
        "plotlyServerURL": "https://plot.ly"
       },
       "data": [
        {
         "domain": {
          "x": [
           0,
           1
          ],
          "y": [
           0,
           1
          ]
         },
         "hovertemplate": "gender=%{label}<br>count=%{value}<extra></extra>",
         "labels": [
          "female",
          "male"
         ],
         "legendgroup": "",
         "name": "",
         "showlegend": true,
         "textinfo": "percent+label",
         "type": "pie",
         "values": [
          86,
          147
         ]
        }
       ],
       "frames": [
        {
         "data": [
          {
           "labels": [
            "female",
            "male"
           ],
           "type": "pie",
           "values": [
            4,
            20
           ]
          }
         ],
         "name": "1998"
        },
        {
         "data": [
          {
           "labels": [
            "female",
            "male"
           ],
           "type": "pie",
           "values": [
            9,
            30
           ]
          }
         ],
         "name": "1999"
        },
        {
         "data": [
          {
           "labels": [
            "female",
            "male"
           ],
           "type": "pie",
           "values": [
            5,
            17
           ]
          }
         ],
         "name": "2000"
        },
        {
         "data": [
          {
           "labels": [
            "female",
            "male"
           ],
           "type": "pie",
           "values": [
            10,
            25
           ]
          }
         ],
         "name": "2001"
        },
        {
         "data": [
          {
           "labels": [
            "female",
            "male"
           ],
           "type": "pie",
           "values": [
            15,
            20
           ]
          }
         ],
         "name": "2002"
        },
        {
         "data": [
          {
           "labels": [
            "female",
            "male"
           ],
           "type": "pie",
           "values": [
            12,
            22
           ]
          }
         ],
         "name": "2003"
        },
        {
         "data": [
          {
           "labels": [
            "female",
            "male"
           ],
           "type": "pie",
           "values": [
            16,
            28
           ]
          }
         ],
         "name": "2004"
        },
        {
         "data": [
          {
           "labels": [
            "female",
            "male"
           ],
           "type": "pie",
           "values": [
            39,
            54
           ]
          }
         ],
         "name": "2005"
        },
        {
         "data": [
          {
           "labels": [
            "female",
            "male"
           ],
           "type": "pie",
           "values": [
            31,
            67
           ]
          }
         ],
         "name": "2006"
        },
        {
         "data": [
          {
           "labels": [
            "female",
            "male"
           ],
           "type": "pie",
           "values": [
            31,
            56
           ]
          }
         ],
         "name": "2007"
        },
        {
         "data": [
          {
           "labels": [
            "female",
            "male"
           ],
           "type": "pie",
           "values": [
            34,
            57
           ]
          }
         ],
         "name": "2008"
        },
        {
         "data": [
          {
           "labels": [
            "female",
            "male"
           ],
           "type": "pie",
           "values": [
            25,
            82
           ]
          }
         ],
         "name": "2009"
        },
        {
         "data": [
          {
           "labels": [
            "female",
            "male"
           ],
           "type": "pie",
           "values": [
            31,
            70
           ]
          }
         ],
         "name": "2010"
        },
        {
         "data": [
          {
           "labels": [
            "female",
            "male"
           ],
           "type": "pie",
           "values": [
            39,
            106
           ]
          }
         ],
         "name": "2011"
        },
        {
         "data": [
          {
           "labels": [
            "female",
            "male"
           ],
           "type": "pie",
           "values": [
            42,
            92
           ]
          }
         ],
         "name": "2012"
        },
        {
         "data": [
          {
           "labels": [
            "female",
            "male"
           ],
           "type": "pie",
           "values": [
            49,
            94
           ]
          }
         ],
         "name": "2013"
        },
        {
         "data": [
          {
           "labels": [
            "female",
            "male"
           ],
           "type": "pie",
           "values": [
            57,
            117
           ]
          }
         ],
         "name": "2014"
        },
        {
         "data": [
          {
           "labels": [
            "female",
            "male"
           ],
           "type": "pie",
           "values": [
            52,
            124
           ]
          }
         ],
         "name": "2015"
        },
        {
         "data": [
          {
           "labels": [
            "female",
            "male"
           ],
           "type": "pie",
           "values": [
            69,
            171
           ]
          }
         ],
         "name": "2016"
        },
        {
         "data": [
          {
           "labels": [
            "female",
            "male"
           ],
           "type": "pie",
           "values": [
            63,
            131
           ]
          }
         ],
         "name": "2017"
        },
        {
         "data": [
          {
           "labels": [
            "female",
            "male"
           ],
           "type": "pie",
           "values": [
            64,
            133
           ]
          }
         ],
         "name": "2018"
        },
        {
         "data": [
          {
           "labels": [
            "female",
            "male"
           ],
           "type": "pie",
           "values": [
            64,
            108
           ]
          }
         ],
         "name": "2019"
        },
        {
         "data": [
          {
           "labels": [
            "female",
            "male"
           ],
           "type": "pie",
           "values": [
            59,
            133
           ]
          }
         ],
         "name": "2020"
        },
        {
         "data": [
          {
           "labels": [
            "female",
            "male"
           ],
           "type": "pie",
           "values": [
            55,
            127
           ]
          }
         ],
         "name": "2021"
        },
        {
         "data": [
          {
           "labels": [
            "female",
            "male"
           ],
           "type": "pie",
           "values": [
            59,
            151
           ]
          }
         ],
         "name": "2022"
        },
        {
         "data": [
          {
           "labels": [
            "female",
            "male"
           ],
           "type": "pie",
           "values": [
            81,
            168
           ]
          }
         ],
         "name": "2023"
        },
        {
         "data": [
          {
           "labels": [
            "female",
            "male"
           ],
           "type": "pie",
           "values": [
            86,
            147
           ]
          }
         ],
         "name": "2024"
        },
        {
         "data": [
          {
           "labels": [
            "female",
            "male"
           ],
           "type": "pie",
           "values": [
            0,
            1
           ]
          }
         ],
         "name": "2025"
        }
       ],
       "layout": {
        "height": 400,
        "legend": {
         "tracegroupgap": 0
        },
        "showlegend": true,
        "sliders": [
         {
          "active": 27,
          "currentvalue": {
           "prefix": "Year: "
          },
          "pad": {
           "t": 50
          },
          "steps": [
           {
            "args": [
             [
              "1998"
             ],
             {
              "frame": {
               "duration": 0,
               "redraw": true
              },
              "mode": "immediate",
              "transition": {
               "duration": 0
              }
             }
            ],
            "label": "1998",
            "method": "animate"
           },
           {
            "args": [
             [
              "1999"
             ],
             {
              "frame": {
               "duration": 0,
               "redraw": true
              },
              "mode": "immediate",
              "transition": {
               "duration": 0
              }
             }
            ],
            "label": "1999",
            "method": "animate"
           },
           {
            "args": [
             [
              "2000"
             ],
             {
              "frame": {
               "duration": 0,
               "redraw": true
              },
              "mode": "immediate",
              "transition": {
               "duration": 0
              }
             }
            ],
            "label": "2000",
            "method": "animate"
           },
           {
            "args": [
             [
              "2001"
             ],
             {
              "frame": {
               "duration": 0,
               "redraw": true
              },
              "mode": "immediate",
              "transition": {
               "duration": 0
              }
             }
            ],
            "label": "2001",
            "method": "animate"
           },
           {
            "args": [
             [
              "2002"
             ],
             {
              "frame": {
               "duration": 0,
               "redraw": true
              },
              "mode": "immediate",
              "transition": {
               "duration": 0
              }
             }
            ],
            "label": "2002",
            "method": "animate"
           },
           {
            "args": [
             [
              "2003"
             ],
             {
              "frame": {
               "duration": 0,
               "redraw": true
              },
              "mode": "immediate",
              "transition": {
               "duration": 0
              }
             }
            ],
            "label": "2003",
            "method": "animate"
           },
           {
            "args": [
             [
              "2004"
             ],
             {
              "frame": {
               "duration": 0,
               "redraw": true
              },
              "mode": "immediate",
              "transition": {
               "duration": 0
              }
             }
            ],
            "label": "2004",
            "method": "animate"
           },
           {
            "args": [
             [
              "2005"
             ],
             {
              "frame": {
               "duration": 0,
               "redraw": true
              },
              "mode": "immediate",
              "transition": {
               "duration": 0
              }
             }
            ],
            "label": "2005",
            "method": "animate"
           },
           {
            "args": [
             [
              "2006"
             ],
             {
              "frame": {
               "duration": 0,
               "redraw": true
              },
              "mode": "immediate",
              "transition": {
               "duration": 0
              }
             }
            ],
            "label": "2006",
            "method": "animate"
           },
           {
            "args": [
             [
              "2007"
             ],
             {
              "frame": {
               "duration": 0,
               "redraw": true
              },
              "mode": "immediate",
              "transition": {
               "duration": 0
              }
             }
            ],
            "label": "2007",
            "method": "animate"
           },
           {
            "args": [
             [
              "2008"
             ],
             {
              "frame": {
               "duration": 0,
               "redraw": true
              },
              "mode": "immediate",
              "transition": {
               "duration": 0
              }
             }
            ],
            "label": "2008",
            "method": "animate"
           },
           {
            "args": [
             [
              "2009"
             ],
             {
              "frame": {
               "duration": 0,
               "redraw": true
              },
              "mode": "immediate",
              "transition": {
               "duration": 0
              }
             }
            ],
            "label": "2009",
            "method": "animate"
           },
           {
            "args": [
             [
              "2010"
             ],
             {
              "frame": {
               "duration": 0,
               "redraw": true
              },
              "mode": "immediate",
              "transition": {
               "duration": 0
              }
             }
            ],
            "label": "2010",
            "method": "animate"
           },
           {
            "args": [
             [
              "2011"
             ],
             {
              "frame": {
               "duration": 0,
               "redraw": true
              },
              "mode": "immediate",
              "transition": {
               "duration": 0
              }
             }
            ],
            "label": "2011",
            "method": "animate"
           },
           {
            "args": [
             [
              "2012"
             ],
             {
              "frame": {
               "duration": 0,
               "redraw": true
              },
              "mode": "immediate",
              "transition": {
               "duration": 0
              }
             }
            ],
            "label": "2012",
            "method": "animate"
           },
           {
            "args": [
             [
              "2013"
             ],
             {
              "frame": {
               "duration": 0,
               "redraw": true
              },
              "mode": "immediate",
              "transition": {
               "duration": 0
              }
             }
            ],
            "label": "2013",
            "method": "animate"
           },
           {
            "args": [
             [
              "2014"
             ],
             {
              "frame": {
               "duration": 0,
               "redraw": true
              },
              "mode": "immediate",
              "transition": {
               "duration": 0
              }
             }
            ],
            "label": "2014",
            "method": "animate"
           },
           {
            "args": [
             [
              "2015"
             ],
             {
              "frame": {
               "duration": 0,
               "redraw": true
              },
              "mode": "immediate",
              "transition": {
               "duration": 0
              }
             }
            ],
            "label": "2015",
            "method": "animate"
           },
           {
            "args": [
             [
              "2016"
             ],
             {
              "frame": {
               "duration": 0,
               "redraw": true
              },
              "mode": "immediate",
              "transition": {
               "duration": 0
              }
             }
            ],
            "label": "2016",
            "method": "animate"
           },
           {
            "args": [
             [
              "2017"
             ],
             {
              "frame": {
               "duration": 0,
               "redraw": true
              },
              "mode": "immediate",
              "transition": {
               "duration": 0
              }
             }
            ],
            "label": "2017",
            "method": "animate"
           },
           {
            "args": [
             [
              "2018"
             ],
             {
              "frame": {
               "duration": 0,
               "redraw": true
              },
              "mode": "immediate",
              "transition": {
               "duration": 0
              }
             }
            ],
            "label": "2018",
            "method": "animate"
           },
           {
            "args": [
             [
              "2019"
             ],
             {
              "frame": {
               "duration": 0,
               "redraw": true
              },
              "mode": "immediate",
              "transition": {
               "duration": 0
              }
             }
            ],
            "label": "2019",
            "method": "animate"
           },
           {
            "args": [
             [
              "2020"
             ],
             {
              "frame": {
               "duration": 0,
               "redraw": true
              },
              "mode": "immediate",
              "transition": {
               "duration": 0
              }
             }
            ],
            "label": "2020",
            "method": "animate"
           },
           {
            "args": [
             [
              "2021"
             ],
             {
              "frame": {
               "duration": 0,
               "redraw": true
              },
              "mode": "immediate",
              "transition": {
               "duration": 0
              }
             }
            ],
            "label": "2021",
            "method": "animate"
           },
           {
            "args": [
             [
              "2022"
             ],
             {
              "frame": {
               "duration": 0,
               "redraw": true
              },
              "mode": "immediate",
              "transition": {
               "duration": 0
              }
             }
            ],
            "label": "2022",
            "method": "animate"
           },
           {
            "args": [
             [
              "2023"
             ],
             {
              "frame": {
               "duration": 0,
               "redraw": true
              },
              "mode": "immediate",
              "transition": {
               "duration": 0
              }
             }
            ],
            "label": "2023",
            "method": "animate"
           },
           {
            "args": [
             [
              "2024"
             ],
             {
              "frame": {
               "duration": 0,
               "redraw": true
              },
              "mode": "immediate",
              "transition": {
               "duration": 0
              }
             }
            ],
            "label": "2024",
            "method": "animate"
           },
           {
            "args": [
             [
              "2025"
             ],
             {
              "frame": {
               "duration": 0,
               "redraw": true
              },
              "mode": "immediate",
              "transition": {
               "duration": 0
              }
             }
            ],
            "label": "2025",
            "method": "animate"
           }
          ]
         }
        ],
        "template": {
         "data": {
          "bar": [
           {
            "error_x": {
             "color": "#2a3f5f"
            },
            "error_y": {
             "color": "#2a3f5f"
            },
            "marker": {
             "line": {
              "color": "#E5ECF6",
              "width": 0.5
             },
             "pattern": {
              "fillmode": "overlay",
              "size": 10,
              "solidity": 0.2
             }
            },
            "type": "bar"
           }
          ],
          "barpolar": [
           {
            "marker": {
             "line": {
              "color": "#E5ECF6",
              "width": 0.5
             },
             "pattern": {
              "fillmode": "overlay",
              "size": 10,
              "solidity": 0.2
             }
            },
            "type": "barpolar"
           }
          ],
          "carpet": [
           {
            "aaxis": {
             "endlinecolor": "#2a3f5f",
             "gridcolor": "white",
             "linecolor": "white",
             "minorgridcolor": "white",
             "startlinecolor": "#2a3f5f"
            },
            "baxis": {
             "endlinecolor": "#2a3f5f",
             "gridcolor": "white",
             "linecolor": "white",
             "minorgridcolor": "white",
             "startlinecolor": "#2a3f5f"
            },
            "type": "carpet"
           }
          ],
          "choropleth": [
           {
            "colorbar": {
             "outlinewidth": 0,
             "ticks": ""
            },
            "type": "choropleth"
           }
          ],
          "contour": [
           {
            "colorbar": {
             "outlinewidth": 0,
             "ticks": ""
            },
            "colorscale": [
             [
              0,
              "#0d0887"
             ],
             [
              0.1111111111111111,
              "#46039f"
             ],
             [
              0.2222222222222222,
              "#7201a8"
             ],
             [
              0.3333333333333333,
              "#9c179e"
             ],
             [
              0.4444444444444444,
              "#bd3786"
             ],
             [
              0.5555555555555556,
              "#d8576b"
             ],
             [
              0.6666666666666666,
              "#ed7953"
             ],
             [
              0.7777777777777778,
              "#fb9f3a"
             ],
             [
              0.8888888888888888,
              "#fdca26"
             ],
             [
              1,
              "#f0f921"
             ]
            ],
            "type": "contour"
           }
          ],
          "contourcarpet": [
           {
            "colorbar": {
             "outlinewidth": 0,
             "ticks": ""
            },
            "type": "contourcarpet"
           }
          ],
          "heatmap": [
           {
            "colorbar": {
             "outlinewidth": 0,
             "ticks": ""
            },
            "colorscale": [
             [
              0,
              "#0d0887"
             ],
             [
              0.1111111111111111,
              "#46039f"
             ],
             [
              0.2222222222222222,
              "#7201a8"
             ],
             [
              0.3333333333333333,
              "#9c179e"
             ],
             [
              0.4444444444444444,
              "#bd3786"
             ],
             [
              0.5555555555555556,
              "#d8576b"
             ],
             [
              0.6666666666666666,
              "#ed7953"
             ],
             [
              0.7777777777777778,
              "#fb9f3a"
             ],
             [
              0.8888888888888888,
              "#fdca26"
             ],
             [
              1,
              "#f0f921"
             ]
            ],
            "type": "heatmap"
           }
          ],
          "heatmapgl": [
           {
            "colorbar": {
             "outlinewidth": 0,
             "ticks": ""
            },
            "colorscale": [
             [
              0,
              "#0d0887"
             ],
             [
              0.1111111111111111,
              "#46039f"
             ],
             [
              0.2222222222222222,
              "#7201a8"
             ],
             [
              0.3333333333333333,
              "#9c179e"
             ],
             [
              0.4444444444444444,
              "#bd3786"
             ],
             [
              0.5555555555555556,
              "#d8576b"
             ],
             [
              0.6666666666666666,
              "#ed7953"
             ],
             [
              0.7777777777777778,
              "#fb9f3a"
             ],
             [
              0.8888888888888888,
              "#fdca26"
             ],
             [
              1,
              "#f0f921"
             ]
            ],
            "type": "heatmapgl"
           }
          ],
          "histogram": [
           {
            "marker": {
             "pattern": {
              "fillmode": "overlay",
              "size": 10,
              "solidity": 0.2
             }
            },
            "type": "histogram"
           }
          ],
          "histogram2d": [
           {
            "colorbar": {
             "outlinewidth": 0,
             "ticks": ""
            },
            "colorscale": [
             [
              0,
              "#0d0887"
             ],
             [
              0.1111111111111111,
              "#46039f"
             ],
             [
              0.2222222222222222,
              "#7201a8"
             ],
             [
              0.3333333333333333,
              "#9c179e"
             ],
             [
              0.4444444444444444,
              "#bd3786"
             ],
             [
              0.5555555555555556,
              "#d8576b"
             ],
             [
              0.6666666666666666,
              "#ed7953"
             ],
             [
              0.7777777777777778,
              "#fb9f3a"
             ],
             [
              0.8888888888888888,
              "#fdca26"
             ],
             [
              1,
              "#f0f921"
             ]
            ],
            "type": "histogram2d"
           }
          ],
          "histogram2dcontour": [
           {
            "colorbar": {
             "outlinewidth": 0,
             "ticks": ""
            },
            "colorscale": [
             [
              0,
              "#0d0887"
             ],
             [
              0.1111111111111111,
              "#46039f"
             ],
             [
              0.2222222222222222,
              "#7201a8"
             ],
             [
              0.3333333333333333,
              "#9c179e"
             ],
             [
              0.4444444444444444,
              "#bd3786"
             ],
             [
              0.5555555555555556,
              "#d8576b"
             ],
             [
              0.6666666666666666,
              "#ed7953"
             ],
             [
              0.7777777777777778,
              "#fb9f3a"
             ],
             [
              0.8888888888888888,
              "#fdca26"
             ],
             [
              1,
              "#f0f921"
             ]
            ],
            "type": "histogram2dcontour"
           }
          ],
          "mesh3d": [
           {
            "colorbar": {
             "outlinewidth": 0,
             "ticks": ""
            },
            "type": "mesh3d"
           }
          ],
          "parcoords": [
           {
            "line": {
             "colorbar": {
              "outlinewidth": 0,
              "ticks": ""
             }
            },
            "type": "parcoords"
           }
          ],
          "pie": [
           {
            "automargin": true,
            "type": "pie"
           }
          ],
          "scatter": [
           {
            "fillpattern": {
             "fillmode": "overlay",
             "size": 10,
             "solidity": 0.2
            },
            "type": "scatter"
           }
          ],
          "scatter3d": [
           {
            "line": {
             "colorbar": {
              "outlinewidth": 0,
              "ticks": ""
             }
            },
            "marker": {
             "colorbar": {
              "outlinewidth": 0,
              "ticks": ""
             }
            },
            "type": "scatter3d"
           }
          ],
          "scattercarpet": [
           {
            "marker": {
             "colorbar": {
              "outlinewidth": 0,
              "ticks": ""
             }
            },
            "type": "scattercarpet"
           }
          ],
          "scattergeo": [
           {
            "marker": {
             "colorbar": {
              "outlinewidth": 0,
              "ticks": ""
             }
            },
            "type": "scattergeo"
           }
          ],
          "scattergl": [
           {
            "marker": {
             "colorbar": {
              "outlinewidth": 0,
              "ticks": ""
             }
            },
            "type": "scattergl"
           }
          ],
          "scattermapbox": [
           {
            "marker": {
             "colorbar": {
              "outlinewidth": 0,
              "ticks": ""
             }
            },
            "type": "scattermapbox"
           }
          ],
          "scatterpolar": [
           {
            "marker": {
             "colorbar": {
              "outlinewidth": 0,
              "ticks": ""
             }
            },
            "type": "scatterpolar"
           }
          ],
          "scatterpolargl": [
           {
            "marker": {
             "colorbar": {
              "outlinewidth": 0,
              "ticks": ""
             }
            },
            "type": "scatterpolargl"
           }
          ],
          "scatterternary": [
           {
            "marker": {
             "colorbar": {
              "outlinewidth": 0,
              "ticks": ""
             }
            },
            "type": "scatterternary"
           }
          ],
          "surface": [
           {
            "colorbar": {
             "outlinewidth": 0,
             "ticks": ""
            },
            "colorscale": [
             [
              0,
              "#0d0887"
             ],
             [
              0.1111111111111111,
              "#46039f"
             ],
             [
              0.2222222222222222,
              "#7201a8"
             ],
             [
              0.3333333333333333,
              "#9c179e"
             ],
             [
              0.4444444444444444,
              "#bd3786"
             ],
             [
              0.5555555555555556,
              "#d8576b"
             ],
             [
              0.6666666666666666,
              "#ed7953"
             ],
             [
              0.7777777777777778,
              "#fb9f3a"
             ],
             [
              0.8888888888888888,
              "#fdca26"
             ],
             [
              1,
              "#f0f921"
             ]
            ],
            "type": "surface"
           }
          ],
          "table": [
           {
            "cells": {
             "fill": {
              "color": "#EBF0F8"
             },
             "line": {
              "color": "white"
             }
            },
            "header": {
             "fill": {
              "color": "#C8D4E3"
             },
             "line": {
              "color": "white"
             }
            },
            "type": "table"
           }
          ]
         },
         "layout": {
          "annotationdefaults": {
           "arrowcolor": "#2a3f5f",
           "arrowhead": 0,
           "arrowwidth": 1
          },
          "autotypenumbers": "strict",
          "coloraxis": {
           "colorbar": {
            "outlinewidth": 0,
            "ticks": ""
           }
          },
          "colorscale": {
           "diverging": [
            [
             0,
             "#8e0152"
            ],
            [
             0.1,
             "#c51b7d"
            ],
            [
             0.2,
             "#de77ae"
            ],
            [
             0.3,
             "#f1b6da"
            ],
            [
             0.4,
             "#fde0ef"
            ],
            [
             0.5,
             "#f7f7f7"
            ],
            [
             0.6,
             "#e6f5d0"
            ],
            [
             0.7,
             "#b8e186"
            ],
            [
             0.8,
             "#7fbc41"
            ],
            [
             0.9,
             "#4d9221"
            ],
            [
             1,
             "#276419"
            ]
           ],
           "sequential": [
            [
             0,
             "#0d0887"
            ],
            [
             0.1111111111111111,
             "#46039f"
            ],
            [
             0.2222222222222222,
             "#7201a8"
            ],
            [
             0.3333333333333333,
             "#9c179e"
            ],
            [
             0.4444444444444444,
             "#bd3786"
            ],
            [
             0.5555555555555556,
             "#d8576b"
            ],
            [
             0.6666666666666666,
             "#ed7953"
            ],
            [
             0.7777777777777778,
             "#fb9f3a"
            ],
            [
             0.8888888888888888,
             "#fdca26"
            ],
            [
             1,
             "#f0f921"
            ]
           ],
           "sequentialminus": [
            [
             0,
             "#0d0887"
            ],
            [
             0.1111111111111111,
             "#46039f"
            ],
            [
             0.2222222222222222,
             "#7201a8"
            ],
            [
             0.3333333333333333,
             "#9c179e"
            ],
            [
             0.4444444444444444,
             "#bd3786"
            ],
            [
             0.5555555555555556,
             "#d8576b"
            ],
            [
             0.6666666666666666,
             "#ed7953"
            ],
            [
             0.7777777777777778,
             "#fb9f3a"
            ],
            [
             0.8888888888888888,
             "#fdca26"
            ],
            [
             1,
             "#f0f921"
            ]
           ]
          },
          "colorway": [
           "#636efa",
           "#EF553B",
           "#00cc96",
           "#ab63fa",
           "#FFA15A",
           "#19d3f3",
           "#FF6692",
           "#B6E880",
           "#FF97FF",
           "#FECB52"
          ],
          "font": {
           "color": "#2a3f5f"
          },
          "geo": {
           "bgcolor": "white",
           "lakecolor": "white",
           "landcolor": "#E5ECF6",
           "showlakes": true,
           "showland": true,
           "subunitcolor": "white"
          },
          "hoverlabel": {
           "align": "left"
          },
          "hovermode": "closest",
          "mapbox": {
           "style": "light"
          },
          "paper_bgcolor": "white",
          "plot_bgcolor": "#E5ECF6",
          "polar": {
           "angularaxis": {
            "gridcolor": "white",
            "linecolor": "white",
            "ticks": ""
           },
           "bgcolor": "#E5ECF6",
           "radialaxis": {
            "gridcolor": "white",
            "linecolor": "white",
            "ticks": ""
           }
          },
          "scene": {
           "xaxis": {
            "backgroundcolor": "#E5ECF6",
            "gridcolor": "white",
            "gridwidth": 2,
            "linecolor": "white",
            "showbackground": true,
            "ticks": "",
            "zerolinecolor": "white"
           },
           "yaxis": {
            "backgroundcolor": "#E5ECF6",
            "gridcolor": "white",
            "gridwidth": 2,
            "linecolor": "white",
            "showbackground": true,
            "ticks": "",
            "zerolinecolor": "white"
           },
           "zaxis": {
            "backgroundcolor": "#E5ECF6",
            "gridcolor": "white",
            "gridwidth": 2,
            "linecolor": "white",
            "showbackground": true,
            "ticks": "",
            "zerolinecolor": "white"
           }
          },
          "shapedefaults": {
           "line": {
            "color": "#2a3f5f"
           }
          },
          "ternary": {
           "aaxis": {
            "gridcolor": "white",
            "linecolor": "white",
            "ticks": ""
           },
           "baxis": {
            "gridcolor": "white",
            "linecolor": "white",
            "ticks": ""
           },
           "bgcolor": "#E5ECF6",
           "caxis": {
            "gridcolor": "white",
            "linecolor": "white",
            "ticks": ""
           }
          },
          "title": {
           "x": 0.05
          },
          "xaxis": {
           "automargin": true,
           "gridcolor": "white",
           "linecolor": "white",
           "ticks": "",
           "title": {
            "standoff": 15
           },
           "zerolinecolor": "white",
           "zerolinewidth": 2
          },
          "yaxis": {
           "automargin": true,
           "gridcolor": "white",
           "linecolor": "white",
           "ticks": "",
           "title": {
            "standoff": 15
           },
           "zerolinecolor": "white",
           "zerolinewidth": 2
          }
         }
        },
        "title": {
         "text": "Gender Distribution by Year",
         "x": 0.5
        }
       }
      }
     },
     "metadata": {},
     "output_type": "display_data"
    }
   ],
   "source": [
    "# Create pie chart by year with slider\n",
    "# First aggregate the data by year and gender\n",
    "# Get gender counts by year\n",
    "gender_counts = pd.crosstab(full_df['year'], full_df['gender']).reset_index()\n",
    "gender_counts_melted = gender_counts.melt(id_vars=['year'], var_name='gender', value_name='count')\n",
    "\n",
    "# Create base pie chart with 2024\n",
    "fig = px.pie(\n",
    "    gender_counts_melted[gender_counts_melted['year'] == 2024],\n",
    "    values='count',\n",
    "    names='gender',\n",
    "    title='Gender Distribution by Year'\n",
    ")\n",
    "\n",
    "# Create frames for animation\n",
    "frames = [\n",
    "    dict(\n",
    "        data=[dict(\n",
    "            type='pie',\n",
    "            values=gender_counts_melted[gender_counts_melted['year'] == year].sort_values('gender')['count'],\n",
    "            labels=sorted(gender_counts_melted['gender'].unique())\n",
    "        )],\n",
    "        name=str(int(year))\n",
    "    )\n",
    "    for year in sorted(gender_counts_melted['year'].unique())\n",
    "]\n",
    "\n",
    "# Add slider\n",
    "sliders = [dict(\n",
    "    active=len(frames)-1,\n",
    "    currentvalue={\"prefix\": \"Year: \"},\n",
    "    pad={\"t\": 50},\n",
    "    steps=[dict(\n",
    "        label=str(int(year)),\n",
    "        method='animate',\n",
    "        args=[[str(int(year))], dict(\n",
    "            frame=dict(duration=0, redraw=True),\n",
    "            mode='immediate',\n",
    "            transition=dict(duration=0)\n",
    "        )]\n",
    "    ) for year in sorted(gender_counts_melted['year'].unique())]\n",
    ")]\n",
    "\n",
    "# Update figure\n",
    "fig.frames = frames\n",
    "fig.update_layout(\n",
    "    sliders=sliders,\n",
    "    showlegend=True,\n",
    "    title_x=0.5,\n",
    "    height=400\n",
    ")\n",
    "\n",
    "fig.update_traces(textinfo='percent+label')\n",
    "\n",
    "# Save and display\n",
    "pio.write_html(fig, file='../output/graphs/gender_ratio_by_year.html')\n",
    "fig.show()\n",
    "\n",
    "#take one or two schools that has the longest period of time stacked bar chart to 100% \n"
   ]
  },
  {
   "cell_type": "markdown",
   "metadata": {},
   "source": [
    "## 3. Trend in Placement"
   ]
  },
  {
   "cell_type": "code",
   "execution_count": 15,
   "metadata": {},
   "outputs": [
    {
     "data": {
      "application/vnd.plotly.v1+json": {
       "config": {
        "plotlyServerURL": "https://plot.ly"
       },
       "data": [
        {
         "alignmentgroup": "True",
         "hovertemplate": "Field=academic_count<br>Year=%{x}<br>Number of Jobs=%{y}<extra></extra>",
         "legendgroup": "academic_count",
         "marker": {
          "color": "#1f77b4",
          "pattern": {
           "shape": ""
          }
         },
         "name": "academic_count",
         "offsetgroup": "academic_count",
         "orientation": "v",
         "showlegend": true,
         "textposition": "auto",
         "type": "bar",
         "x": [
          1998,
          1999,
          2000,
          2001,
          2002,
          2003,
          2004,
          2005,
          2006,
          2007,
          2008,
          2009,
          2010,
          2011,
          2012,
          2013,
          2014,
          2015,
          2016,
          2017,
          2018,
          2019,
          2020,
          2021,
          2022,
          2023,
          2024,
          2025
         ],
         "xaxis": "x",
         "y": [
          18,
          30,
          18,
          20,
          20,
          21,
          22,
          55,
          70,
          55,
          61,
          81,
          70,
          97,
          91,
          107,
          125,
          108,
          163,
          120,
          131,
          106,
          106,
          97,
          114,
          146,
          146,
          0
         ],
         "yaxis": "y"
        },
        {
         "alignmentgroup": "True",
         "hovertemplate": "Field=private_count<br>Year=%{x}<br>Number of Jobs=%{y}<extra></extra>",
         "legendgroup": "private_count",
         "marker": {
          "color": "#ff7f0e",
          "pattern": {
           "shape": ""
          }
         },
         "name": "private_count",
         "offsetgroup": "private_count",
         "orientation": "v",
         "showlegend": true,
         "textposition": "auto",
         "type": "bar",
         "x": [
          1998,
          1999,
          2000,
          2001,
          2002,
          2003,
          2004,
          2005,
          2006,
          2007,
          2008,
          2009,
          2010,
          2011,
          2012,
          2013,
          2014,
          2015,
          2016,
          2017,
          2018,
          2019,
          2020,
          2021,
          2022,
          2023,
          2024,
          2025
         ],
         "xaxis": "x",
         "y": [
          3,
          4,
          1,
          6,
          4,
          6,
          14,
          21,
          19,
          22,
          18,
          11,
          12,
          22,
          25,
          22,
          27,
          30,
          56,
          55,
          47,
          44,
          57,
          57,
          66,
          67,
          53,
          1
         ],
         "yaxis": "y"
        },
        {
         "alignmentgroup": "True",
         "hovertemplate": "Field=government_count<br>Year=%{x}<br>Number of Jobs=%{y}<extra></extra>",
         "legendgroup": "government_count",
         "marker": {
          "color": "#2ca02c",
          "pattern": {
           "shape": ""
          }
         },
         "name": "government_count",
         "offsetgroup": "government_count",
         "orientation": "v",
         "showlegend": true,
         "textposition": "auto",
         "type": "bar",
         "x": [
          1998,
          1999,
          2000,
          2001,
          2002,
          2003,
          2004,
          2005,
          2006,
          2007,
          2008,
          2009,
          2010,
          2011,
          2012,
          2013,
          2014,
          2015,
          2016,
          2017,
          2018,
          2019,
          2020,
          2021,
          2022,
          2023,
          2024,
          2025
         ],
         "xaxis": "x",
         "y": [
          3,
          5,
          4,
          7,
          11,
          8,
          7,
          16,
          8,
          10,
          11,
          16,
          22,
          31,
          19,
          18,
          21,
          31,
          22,
          18,
          22,
          20,
          22,
          25,
          31,
          37,
          33,
          0
         ],
         "yaxis": "y"
        }
       ],
       "layout": {
        "barmode": "stack",
        "legend": {
         "title": {
          "text": "Field"
         },
         "tracegroupgap": 0
        },
        "template": {
         "data": {
          "bar": [
           {
            "error_x": {
             "color": "#2a3f5f"
            },
            "error_y": {
             "color": "#2a3f5f"
            },
            "marker": {
             "line": {
              "color": "white",
              "width": 0.5
             },
             "pattern": {
              "fillmode": "overlay",
              "size": 10,
              "solidity": 0.2
             }
            },
            "type": "bar"
           }
          ],
          "barpolar": [
           {
            "marker": {
             "line": {
              "color": "white",
              "width": 0.5
             },
             "pattern": {
              "fillmode": "overlay",
              "size": 10,
              "solidity": 0.2
             }
            },
            "type": "barpolar"
           }
          ],
          "carpet": [
           {
            "aaxis": {
             "endlinecolor": "#2a3f5f",
             "gridcolor": "#C8D4E3",
             "linecolor": "#C8D4E3",
             "minorgridcolor": "#C8D4E3",
             "startlinecolor": "#2a3f5f"
            },
            "baxis": {
             "endlinecolor": "#2a3f5f",
             "gridcolor": "#C8D4E3",
             "linecolor": "#C8D4E3",
             "minorgridcolor": "#C8D4E3",
             "startlinecolor": "#2a3f5f"
            },
            "type": "carpet"
           }
          ],
          "choropleth": [
           {
            "colorbar": {
             "outlinewidth": 0,
             "ticks": ""
            },
            "type": "choropleth"
           }
          ],
          "contour": [
           {
            "colorbar": {
             "outlinewidth": 0,
             "ticks": ""
            },
            "colorscale": [
             [
              0,
              "#0d0887"
             ],
             [
              0.1111111111111111,
              "#46039f"
             ],
             [
              0.2222222222222222,
              "#7201a8"
             ],
             [
              0.3333333333333333,
              "#9c179e"
             ],
             [
              0.4444444444444444,
              "#bd3786"
             ],
             [
              0.5555555555555556,
              "#d8576b"
             ],
             [
              0.6666666666666666,
              "#ed7953"
             ],
             [
              0.7777777777777778,
              "#fb9f3a"
             ],
             [
              0.8888888888888888,
              "#fdca26"
             ],
             [
              1,
              "#f0f921"
             ]
            ],
            "type": "contour"
           }
          ],
          "contourcarpet": [
           {
            "colorbar": {
             "outlinewidth": 0,
             "ticks": ""
            },
            "type": "contourcarpet"
           }
          ],
          "heatmap": [
           {
            "colorbar": {
             "outlinewidth": 0,
             "ticks": ""
            },
            "colorscale": [
             [
              0,
              "#0d0887"
             ],
             [
              0.1111111111111111,
              "#46039f"
             ],
             [
              0.2222222222222222,
              "#7201a8"
             ],
             [
              0.3333333333333333,
              "#9c179e"
             ],
             [
              0.4444444444444444,
              "#bd3786"
             ],
             [
              0.5555555555555556,
              "#d8576b"
             ],
             [
              0.6666666666666666,
              "#ed7953"
             ],
             [
              0.7777777777777778,
              "#fb9f3a"
             ],
             [
              0.8888888888888888,
              "#fdca26"
             ],
             [
              1,
              "#f0f921"
             ]
            ],
            "type": "heatmap"
           }
          ],
          "heatmapgl": [
           {
            "colorbar": {
             "outlinewidth": 0,
             "ticks": ""
            },
            "colorscale": [
             [
              0,
              "#0d0887"
             ],
             [
              0.1111111111111111,
              "#46039f"
             ],
             [
              0.2222222222222222,
              "#7201a8"
             ],
             [
              0.3333333333333333,
              "#9c179e"
             ],
             [
              0.4444444444444444,
              "#bd3786"
             ],
             [
              0.5555555555555556,
              "#d8576b"
             ],
             [
              0.6666666666666666,
              "#ed7953"
             ],
             [
              0.7777777777777778,
              "#fb9f3a"
             ],
             [
              0.8888888888888888,
              "#fdca26"
             ],
             [
              1,
              "#f0f921"
             ]
            ],
            "type": "heatmapgl"
           }
          ],
          "histogram": [
           {
            "marker": {
             "pattern": {
              "fillmode": "overlay",
              "size": 10,
              "solidity": 0.2
             }
            },
            "type": "histogram"
           }
          ],
          "histogram2d": [
           {
            "colorbar": {
             "outlinewidth": 0,
             "ticks": ""
            },
            "colorscale": [
             [
              0,
              "#0d0887"
             ],
             [
              0.1111111111111111,
              "#46039f"
             ],
             [
              0.2222222222222222,
              "#7201a8"
             ],
             [
              0.3333333333333333,
              "#9c179e"
             ],
             [
              0.4444444444444444,
              "#bd3786"
             ],
             [
              0.5555555555555556,
              "#d8576b"
             ],
             [
              0.6666666666666666,
              "#ed7953"
             ],
             [
              0.7777777777777778,
              "#fb9f3a"
             ],
             [
              0.8888888888888888,
              "#fdca26"
             ],
             [
              1,
              "#f0f921"
             ]
            ],
            "type": "histogram2d"
           }
          ],
          "histogram2dcontour": [
           {
            "colorbar": {
             "outlinewidth": 0,
             "ticks": ""
            },
            "colorscale": [
             [
              0,
              "#0d0887"
             ],
             [
              0.1111111111111111,
              "#46039f"
             ],
             [
              0.2222222222222222,
              "#7201a8"
             ],
             [
              0.3333333333333333,
              "#9c179e"
             ],
             [
              0.4444444444444444,
              "#bd3786"
             ],
             [
              0.5555555555555556,
              "#d8576b"
             ],
             [
              0.6666666666666666,
              "#ed7953"
             ],
             [
              0.7777777777777778,
              "#fb9f3a"
             ],
             [
              0.8888888888888888,
              "#fdca26"
             ],
             [
              1,
              "#f0f921"
             ]
            ],
            "type": "histogram2dcontour"
           }
          ],
          "mesh3d": [
           {
            "colorbar": {
             "outlinewidth": 0,
             "ticks": ""
            },
            "type": "mesh3d"
           }
          ],
          "parcoords": [
           {
            "line": {
             "colorbar": {
              "outlinewidth": 0,
              "ticks": ""
             }
            },
            "type": "parcoords"
           }
          ],
          "pie": [
           {
            "automargin": true,
            "type": "pie"
           }
          ],
          "scatter": [
           {
            "fillpattern": {
             "fillmode": "overlay",
             "size": 10,
             "solidity": 0.2
            },
            "type": "scatter"
           }
          ],
          "scatter3d": [
           {
            "line": {
             "colorbar": {
              "outlinewidth": 0,
              "ticks": ""
             }
            },
            "marker": {
             "colorbar": {
              "outlinewidth": 0,
              "ticks": ""
             }
            },
            "type": "scatter3d"
           }
          ],
          "scattercarpet": [
           {
            "marker": {
             "colorbar": {
              "outlinewidth": 0,
              "ticks": ""
             }
            },
            "type": "scattercarpet"
           }
          ],
          "scattergeo": [
           {
            "marker": {
             "colorbar": {
              "outlinewidth": 0,
              "ticks": ""
             }
            },
            "type": "scattergeo"
           }
          ],
          "scattergl": [
           {
            "marker": {
             "colorbar": {
              "outlinewidth": 0,
              "ticks": ""
             }
            },
            "type": "scattergl"
           }
          ],
          "scattermapbox": [
           {
            "marker": {
             "colorbar": {
              "outlinewidth": 0,
              "ticks": ""
             }
            },
            "type": "scattermapbox"
           }
          ],
          "scatterpolar": [
           {
            "marker": {
             "colorbar": {
              "outlinewidth": 0,
              "ticks": ""
             }
            },
            "type": "scatterpolar"
           }
          ],
          "scatterpolargl": [
           {
            "marker": {
             "colorbar": {
              "outlinewidth": 0,
              "ticks": ""
             }
            },
            "type": "scatterpolargl"
           }
          ],
          "scatterternary": [
           {
            "marker": {
             "colorbar": {
              "outlinewidth": 0,
              "ticks": ""
             }
            },
            "type": "scatterternary"
           }
          ],
          "surface": [
           {
            "colorbar": {
             "outlinewidth": 0,
             "ticks": ""
            },
            "colorscale": [
             [
              0,
              "#0d0887"
             ],
             [
              0.1111111111111111,
              "#46039f"
             ],
             [
              0.2222222222222222,
              "#7201a8"
             ],
             [
              0.3333333333333333,
              "#9c179e"
             ],
             [
              0.4444444444444444,
              "#bd3786"
             ],
             [
              0.5555555555555556,
              "#d8576b"
             ],
             [
              0.6666666666666666,
              "#ed7953"
             ],
             [
              0.7777777777777778,
              "#fb9f3a"
             ],
             [
              0.8888888888888888,
              "#fdca26"
             ],
             [
              1,
              "#f0f921"
             ]
            ],
            "type": "surface"
           }
          ],
          "table": [
           {
            "cells": {
             "fill": {
              "color": "#EBF0F8"
             },
             "line": {
              "color": "white"
             }
            },
            "header": {
             "fill": {
              "color": "#C8D4E3"
             },
             "line": {
              "color": "white"
             }
            },
            "type": "table"
           }
          ]
         },
         "layout": {
          "annotationdefaults": {
           "arrowcolor": "#2a3f5f",
           "arrowhead": 0,
           "arrowwidth": 1
          },
          "autotypenumbers": "strict",
          "coloraxis": {
           "colorbar": {
            "outlinewidth": 0,
            "ticks": ""
           }
          },
          "colorscale": {
           "diverging": [
            [
             0,
             "#8e0152"
            ],
            [
             0.1,
             "#c51b7d"
            ],
            [
             0.2,
             "#de77ae"
            ],
            [
             0.3,
             "#f1b6da"
            ],
            [
             0.4,
             "#fde0ef"
            ],
            [
             0.5,
             "#f7f7f7"
            ],
            [
             0.6,
             "#e6f5d0"
            ],
            [
             0.7,
             "#b8e186"
            ],
            [
             0.8,
             "#7fbc41"
            ],
            [
             0.9,
             "#4d9221"
            ],
            [
             1,
             "#276419"
            ]
           ],
           "sequential": [
            [
             0,
             "#0d0887"
            ],
            [
             0.1111111111111111,
             "#46039f"
            ],
            [
             0.2222222222222222,
             "#7201a8"
            ],
            [
             0.3333333333333333,
             "#9c179e"
            ],
            [
             0.4444444444444444,
             "#bd3786"
            ],
            [
             0.5555555555555556,
             "#d8576b"
            ],
            [
             0.6666666666666666,
             "#ed7953"
            ],
            [
             0.7777777777777778,
             "#fb9f3a"
            ],
            [
             0.8888888888888888,
             "#fdca26"
            ],
            [
             1,
             "#f0f921"
            ]
           ],
           "sequentialminus": [
            [
             0,
             "#0d0887"
            ],
            [
             0.1111111111111111,
             "#46039f"
            ],
            [
             0.2222222222222222,
             "#7201a8"
            ],
            [
             0.3333333333333333,
             "#9c179e"
            ],
            [
             0.4444444444444444,
             "#bd3786"
            ],
            [
             0.5555555555555556,
             "#d8576b"
            ],
            [
             0.6666666666666666,
             "#ed7953"
            ],
            [
             0.7777777777777778,
             "#fb9f3a"
            ],
            [
             0.8888888888888888,
             "#fdca26"
            ],
            [
             1,
             "#f0f921"
            ]
           ]
          },
          "colorway": [
           "#636efa",
           "#EF553B",
           "#00cc96",
           "#ab63fa",
           "#FFA15A",
           "#19d3f3",
           "#FF6692",
           "#B6E880",
           "#FF97FF",
           "#FECB52"
          ],
          "font": {
           "color": "#2a3f5f"
          },
          "geo": {
           "bgcolor": "white",
           "lakecolor": "white",
           "landcolor": "white",
           "showlakes": true,
           "showland": true,
           "subunitcolor": "#C8D4E3"
          },
          "hoverlabel": {
           "align": "left"
          },
          "hovermode": "closest",
          "mapbox": {
           "style": "light"
          },
          "paper_bgcolor": "white",
          "plot_bgcolor": "white",
          "polar": {
           "angularaxis": {
            "gridcolor": "#EBF0F8",
            "linecolor": "#EBF0F8",
            "ticks": ""
           },
           "bgcolor": "white",
           "radialaxis": {
            "gridcolor": "#EBF0F8",
            "linecolor": "#EBF0F8",
            "ticks": ""
           }
          },
          "scene": {
           "xaxis": {
            "backgroundcolor": "white",
            "gridcolor": "#DFE8F3",
            "gridwidth": 2,
            "linecolor": "#EBF0F8",
            "showbackground": true,
            "ticks": "",
            "zerolinecolor": "#EBF0F8"
           },
           "yaxis": {
            "backgroundcolor": "white",
            "gridcolor": "#DFE8F3",
            "gridwidth": 2,
            "linecolor": "#EBF0F8",
            "showbackground": true,
            "ticks": "",
            "zerolinecolor": "#EBF0F8"
           },
           "zaxis": {
            "backgroundcolor": "white",
            "gridcolor": "#DFE8F3",
            "gridwidth": 2,
            "linecolor": "#EBF0F8",
            "showbackground": true,
            "ticks": "",
            "zerolinecolor": "#EBF0F8"
           }
          },
          "shapedefaults": {
           "line": {
            "color": "#2a3f5f"
           }
          },
          "ternary": {
           "aaxis": {
            "gridcolor": "#DFE8F3",
            "linecolor": "#A2B1C6",
            "ticks": ""
           },
           "baxis": {
            "gridcolor": "#DFE8F3",
            "linecolor": "#A2B1C6",
            "ticks": ""
           },
           "bgcolor": "white",
           "caxis": {
            "gridcolor": "#DFE8F3",
            "linecolor": "#A2B1C6",
            "ticks": ""
           }
          },
          "title": {
           "x": 0.05
          },
          "xaxis": {
           "automargin": true,
           "gridcolor": "#EBF0F8",
           "linecolor": "#EBF0F8",
           "ticks": "",
           "title": {
            "standoff": 15
           },
           "zerolinecolor": "#EBF0F8",
           "zerolinewidth": 2
          },
          "yaxis": {
           "automargin": true,
           "gridcolor": "#EBF0F8",
           "linecolor": "#EBF0F8",
           "ticks": "",
           "title": {
            "standoff": 15
           },
           "zerolinecolor": "#EBF0F8",
           "zerolinewidth": 2
          }
         }
        },
        "title": {
         "text": "Placement distribution by year"
        },
        "xaxis": {
         "anchor": "y",
         "domain": [
          0,
          1
         ],
         "title": {
          "text": "Year"
         }
        },
        "yaxis": {
         "anchor": "x",
         "domain": [
          0,
          1
         ],
         "title": {
          "text": "Number of Jobs"
         }
        }
       }
      }
     },
     "metadata": {},
     "output_type": "display_data"
    }
   ],
   "source": [
    "yearly_combined_counts = full_df.groupby('year').agg(\n",
    "    academic_count=('academic', 'sum'),\n",
    "    private_count=('private_company', 'sum'),\n",
    "    government_count=('government', 'sum')\n",
    ").reset_index()\n",
    "\n",
    "fig_combined = px.bar(yearly_combined_counts, x='year', y=['academic_count', 'private_count', 'government_count'], \n",
    "                      title='Placement distribution by year',\n",
    "                      labels={'year': 'Year', 'value': 'Number of Jobs', 'variable': 'Field'},\n",
    "                      barmode='stack',\n",
    "                      color_discrete_sequence=['#1f77b4', '#ff7f0e', '#2ca02c'])  # Blue, Orange, Green\n",
    "\n",
    "fig_combined.update_layout(\n",
    "    xaxis_title='Year',\n",
    "    yaxis_title='Number of Jobs',  #change it to placements\n",
    "    template='plotly_white'\n",
    ")\n",
    "\n",
    "# Save and display\n",
    "pio.write_html(fig_combined, file='../output/graphs/placement_distribution_by_year.html')\n",
    "fig_combined.show()\n",
    "\n",
    "#add a relative one -> line graph with three lines in one graph"
   ]
  },
  {
   "cell_type": "markdown",
   "metadata": {},
   "source": [
    "## 4. Trend in Gender Distribution by Year"
   ]
  },
  {
   "cell_type": "code",
   "execution_count": 16,
   "metadata": {},
   "outputs": [
    {
     "data": {
      "application/vnd.plotly.v1+json": {
       "config": {
        "plotlyServerURL": "https://plot.ly"
       },
       "data": [
        {
         "line": {
          "width": 2
         },
         "mode": "lines+markers",
         "name": "Women",
         "type": "scatter",
         "x": [
          1998,
          1999,
          2000,
          2001,
          2002,
          2003,
          2004,
          2005,
          2006,
          2007,
          2008,
          2009,
          2010,
          2011,
          2012,
          2013,
          2014,
          2015,
          2016,
          2017,
          2018,
          2019,
          2020,
          2021,
          2022,
          2023,
          2024,
          2025
         ],
         "y": [
          16.666666666666664,
          23.076923076923077,
          22.727272727272727,
          28.57142857142857,
          42.857142857142854,
          35.294117647058826,
          36.36363636363637,
          41.935483870967744,
          31.63265306122449,
          35.63218390804598,
          37.362637362637365,
          23.364485981308412,
          30.693069306930692,
          26.89655172413793,
          31.343283582089555,
          34.26573426573427,
          32.758620689655174,
          29.545454545454547,
          28.749999999999996,
          32.47422680412371,
          32.48730964467005,
          37.2093023255814,
          30.729166666666668,
          30.21978021978022,
          28.095238095238095,
          32.53012048192771,
          36.9098712446352,
          null
         ]
        }
       ],
       "layout": {
        "height": 400,
        "showlegend": false,
        "template": {
         "data": {
          "bar": [
           {
            "error_x": {
             "color": "#2a3f5f"
            },
            "error_y": {
             "color": "#2a3f5f"
            },
            "marker": {
             "line": {
              "color": "#E5ECF6",
              "width": 0.5
             },
             "pattern": {
              "fillmode": "overlay",
              "size": 10,
              "solidity": 0.2
             }
            },
            "type": "bar"
           }
          ],
          "barpolar": [
           {
            "marker": {
             "line": {
              "color": "#E5ECF6",
              "width": 0.5
             },
             "pattern": {
              "fillmode": "overlay",
              "size": 10,
              "solidity": 0.2
             }
            },
            "type": "barpolar"
           }
          ],
          "carpet": [
           {
            "aaxis": {
             "endlinecolor": "#2a3f5f",
             "gridcolor": "white",
             "linecolor": "white",
             "minorgridcolor": "white",
             "startlinecolor": "#2a3f5f"
            },
            "baxis": {
             "endlinecolor": "#2a3f5f",
             "gridcolor": "white",
             "linecolor": "white",
             "minorgridcolor": "white",
             "startlinecolor": "#2a3f5f"
            },
            "type": "carpet"
           }
          ],
          "choropleth": [
           {
            "colorbar": {
             "outlinewidth": 0,
             "ticks": ""
            },
            "type": "choropleth"
           }
          ],
          "contour": [
           {
            "colorbar": {
             "outlinewidth": 0,
             "ticks": ""
            },
            "colorscale": [
             [
              0,
              "#0d0887"
             ],
             [
              0.1111111111111111,
              "#46039f"
             ],
             [
              0.2222222222222222,
              "#7201a8"
             ],
             [
              0.3333333333333333,
              "#9c179e"
             ],
             [
              0.4444444444444444,
              "#bd3786"
             ],
             [
              0.5555555555555556,
              "#d8576b"
             ],
             [
              0.6666666666666666,
              "#ed7953"
             ],
             [
              0.7777777777777778,
              "#fb9f3a"
             ],
             [
              0.8888888888888888,
              "#fdca26"
             ],
             [
              1,
              "#f0f921"
             ]
            ],
            "type": "contour"
           }
          ],
          "contourcarpet": [
           {
            "colorbar": {
             "outlinewidth": 0,
             "ticks": ""
            },
            "type": "contourcarpet"
           }
          ],
          "heatmap": [
           {
            "colorbar": {
             "outlinewidth": 0,
             "ticks": ""
            },
            "colorscale": [
             [
              0,
              "#0d0887"
             ],
             [
              0.1111111111111111,
              "#46039f"
             ],
             [
              0.2222222222222222,
              "#7201a8"
             ],
             [
              0.3333333333333333,
              "#9c179e"
             ],
             [
              0.4444444444444444,
              "#bd3786"
             ],
             [
              0.5555555555555556,
              "#d8576b"
             ],
             [
              0.6666666666666666,
              "#ed7953"
             ],
             [
              0.7777777777777778,
              "#fb9f3a"
             ],
             [
              0.8888888888888888,
              "#fdca26"
             ],
             [
              1,
              "#f0f921"
             ]
            ],
            "type": "heatmap"
           }
          ],
          "heatmapgl": [
           {
            "colorbar": {
             "outlinewidth": 0,
             "ticks": ""
            },
            "colorscale": [
             [
              0,
              "#0d0887"
             ],
             [
              0.1111111111111111,
              "#46039f"
             ],
             [
              0.2222222222222222,
              "#7201a8"
             ],
             [
              0.3333333333333333,
              "#9c179e"
             ],
             [
              0.4444444444444444,
              "#bd3786"
             ],
             [
              0.5555555555555556,
              "#d8576b"
             ],
             [
              0.6666666666666666,
              "#ed7953"
             ],
             [
              0.7777777777777778,
              "#fb9f3a"
             ],
             [
              0.8888888888888888,
              "#fdca26"
             ],
             [
              1,
              "#f0f921"
             ]
            ],
            "type": "heatmapgl"
           }
          ],
          "histogram": [
           {
            "marker": {
             "pattern": {
              "fillmode": "overlay",
              "size": 10,
              "solidity": 0.2
             }
            },
            "type": "histogram"
           }
          ],
          "histogram2d": [
           {
            "colorbar": {
             "outlinewidth": 0,
             "ticks": ""
            },
            "colorscale": [
             [
              0,
              "#0d0887"
             ],
             [
              0.1111111111111111,
              "#46039f"
             ],
             [
              0.2222222222222222,
              "#7201a8"
             ],
             [
              0.3333333333333333,
              "#9c179e"
             ],
             [
              0.4444444444444444,
              "#bd3786"
             ],
             [
              0.5555555555555556,
              "#d8576b"
             ],
             [
              0.6666666666666666,
              "#ed7953"
             ],
             [
              0.7777777777777778,
              "#fb9f3a"
             ],
             [
              0.8888888888888888,
              "#fdca26"
             ],
             [
              1,
              "#f0f921"
             ]
            ],
            "type": "histogram2d"
           }
          ],
          "histogram2dcontour": [
           {
            "colorbar": {
             "outlinewidth": 0,
             "ticks": ""
            },
            "colorscale": [
             [
              0,
              "#0d0887"
             ],
             [
              0.1111111111111111,
              "#46039f"
             ],
             [
              0.2222222222222222,
              "#7201a8"
             ],
             [
              0.3333333333333333,
              "#9c179e"
             ],
             [
              0.4444444444444444,
              "#bd3786"
             ],
             [
              0.5555555555555556,
              "#d8576b"
             ],
             [
              0.6666666666666666,
              "#ed7953"
             ],
             [
              0.7777777777777778,
              "#fb9f3a"
             ],
             [
              0.8888888888888888,
              "#fdca26"
             ],
             [
              1,
              "#f0f921"
             ]
            ],
            "type": "histogram2dcontour"
           }
          ],
          "mesh3d": [
           {
            "colorbar": {
             "outlinewidth": 0,
             "ticks": ""
            },
            "type": "mesh3d"
           }
          ],
          "parcoords": [
           {
            "line": {
             "colorbar": {
              "outlinewidth": 0,
              "ticks": ""
             }
            },
            "type": "parcoords"
           }
          ],
          "pie": [
           {
            "automargin": true,
            "type": "pie"
           }
          ],
          "scatter": [
           {
            "fillpattern": {
             "fillmode": "overlay",
             "size": 10,
             "solidity": 0.2
            },
            "type": "scatter"
           }
          ],
          "scatter3d": [
           {
            "line": {
             "colorbar": {
              "outlinewidth": 0,
              "ticks": ""
             }
            },
            "marker": {
             "colorbar": {
              "outlinewidth": 0,
              "ticks": ""
             }
            },
            "type": "scatter3d"
           }
          ],
          "scattercarpet": [
           {
            "marker": {
             "colorbar": {
              "outlinewidth": 0,
              "ticks": ""
             }
            },
            "type": "scattercarpet"
           }
          ],
          "scattergeo": [
           {
            "marker": {
             "colorbar": {
              "outlinewidth": 0,
              "ticks": ""
             }
            },
            "type": "scattergeo"
           }
          ],
          "scattergl": [
           {
            "marker": {
             "colorbar": {
              "outlinewidth": 0,
              "ticks": ""
             }
            },
            "type": "scattergl"
           }
          ],
          "scattermapbox": [
           {
            "marker": {
             "colorbar": {
              "outlinewidth": 0,
              "ticks": ""
             }
            },
            "type": "scattermapbox"
           }
          ],
          "scatterpolar": [
           {
            "marker": {
             "colorbar": {
              "outlinewidth": 0,
              "ticks": ""
             }
            },
            "type": "scatterpolar"
           }
          ],
          "scatterpolargl": [
           {
            "marker": {
             "colorbar": {
              "outlinewidth": 0,
              "ticks": ""
             }
            },
            "type": "scatterpolargl"
           }
          ],
          "scatterternary": [
           {
            "marker": {
             "colorbar": {
              "outlinewidth": 0,
              "ticks": ""
             }
            },
            "type": "scatterternary"
           }
          ],
          "surface": [
           {
            "colorbar": {
             "outlinewidth": 0,
             "ticks": ""
            },
            "colorscale": [
             [
              0,
              "#0d0887"
             ],
             [
              0.1111111111111111,
              "#46039f"
             ],
             [
              0.2222222222222222,
              "#7201a8"
             ],
             [
              0.3333333333333333,
              "#9c179e"
             ],
             [
              0.4444444444444444,
              "#bd3786"
             ],
             [
              0.5555555555555556,
              "#d8576b"
             ],
             [
              0.6666666666666666,
              "#ed7953"
             ],
             [
              0.7777777777777778,
              "#fb9f3a"
             ],
             [
              0.8888888888888888,
              "#fdca26"
             ],
             [
              1,
              "#f0f921"
             ]
            ],
            "type": "surface"
           }
          ],
          "table": [
           {
            "cells": {
             "fill": {
              "color": "#EBF0F8"
             },
             "line": {
              "color": "white"
             }
            },
            "header": {
             "fill": {
              "color": "#C8D4E3"
             },
             "line": {
              "color": "white"
             }
            },
            "type": "table"
           }
          ]
         },
         "layout": {
          "annotationdefaults": {
           "arrowcolor": "#2a3f5f",
           "arrowhead": 0,
           "arrowwidth": 1
          },
          "autotypenumbers": "strict",
          "coloraxis": {
           "colorbar": {
            "outlinewidth": 0,
            "ticks": ""
           }
          },
          "colorscale": {
           "diverging": [
            [
             0,
             "#8e0152"
            ],
            [
             0.1,
             "#c51b7d"
            ],
            [
             0.2,
             "#de77ae"
            ],
            [
             0.3,
             "#f1b6da"
            ],
            [
             0.4,
             "#fde0ef"
            ],
            [
             0.5,
             "#f7f7f7"
            ],
            [
             0.6,
             "#e6f5d0"
            ],
            [
             0.7,
             "#b8e186"
            ],
            [
             0.8,
             "#7fbc41"
            ],
            [
             0.9,
             "#4d9221"
            ],
            [
             1,
             "#276419"
            ]
           ],
           "sequential": [
            [
             0,
             "#0d0887"
            ],
            [
             0.1111111111111111,
             "#46039f"
            ],
            [
             0.2222222222222222,
             "#7201a8"
            ],
            [
             0.3333333333333333,
             "#9c179e"
            ],
            [
             0.4444444444444444,
             "#bd3786"
            ],
            [
             0.5555555555555556,
             "#d8576b"
            ],
            [
             0.6666666666666666,
             "#ed7953"
            ],
            [
             0.7777777777777778,
             "#fb9f3a"
            ],
            [
             0.8888888888888888,
             "#fdca26"
            ],
            [
             1,
             "#f0f921"
            ]
           ],
           "sequentialminus": [
            [
             0,
             "#0d0887"
            ],
            [
             0.1111111111111111,
             "#46039f"
            ],
            [
             0.2222222222222222,
             "#7201a8"
            ],
            [
             0.3333333333333333,
             "#9c179e"
            ],
            [
             0.4444444444444444,
             "#bd3786"
            ],
            [
             0.5555555555555556,
             "#d8576b"
            ],
            [
             0.6666666666666666,
             "#ed7953"
            ],
            [
             0.7777777777777778,
             "#fb9f3a"
            ],
            [
             0.8888888888888888,
             "#fdca26"
            ],
            [
             1,
             "#f0f921"
            ]
           ]
          },
          "colorway": [
           "#636efa",
           "#EF553B",
           "#00cc96",
           "#ab63fa",
           "#FFA15A",
           "#19d3f3",
           "#FF6692",
           "#B6E880",
           "#FF97FF",
           "#FECB52"
          ],
          "font": {
           "color": "#2a3f5f"
          },
          "geo": {
           "bgcolor": "white",
           "lakecolor": "white",
           "landcolor": "#E5ECF6",
           "showlakes": true,
           "showland": true,
           "subunitcolor": "white"
          },
          "hoverlabel": {
           "align": "left"
          },
          "hovermode": "closest",
          "mapbox": {
           "style": "light"
          },
          "paper_bgcolor": "white",
          "plot_bgcolor": "#E5ECF6",
          "polar": {
           "angularaxis": {
            "gridcolor": "white",
            "linecolor": "white",
            "ticks": ""
           },
           "bgcolor": "#E5ECF6",
           "radialaxis": {
            "gridcolor": "white",
            "linecolor": "white",
            "ticks": ""
           }
          },
          "scene": {
           "xaxis": {
            "backgroundcolor": "#E5ECF6",
            "gridcolor": "white",
            "gridwidth": 2,
            "linecolor": "white",
            "showbackground": true,
            "ticks": "",
            "zerolinecolor": "white"
           },
           "yaxis": {
            "backgroundcolor": "#E5ECF6",
            "gridcolor": "white",
            "gridwidth": 2,
            "linecolor": "white",
            "showbackground": true,
            "ticks": "",
            "zerolinecolor": "white"
           },
           "zaxis": {
            "backgroundcolor": "#E5ECF6",
            "gridcolor": "white",
            "gridwidth": 2,
            "linecolor": "white",
            "showbackground": true,
            "ticks": "",
            "zerolinecolor": "white"
           }
          },
          "shapedefaults": {
           "line": {
            "color": "#2a3f5f"
           }
          },
          "ternary": {
           "aaxis": {
            "gridcolor": "white",
            "linecolor": "white",
            "ticks": ""
           },
           "baxis": {
            "gridcolor": "white",
            "linecolor": "white",
            "ticks": ""
           },
           "bgcolor": "#E5ECF6",
           "caxis": {
            "gridcolor": "white",
            "linecolor": "white",
            "ticks": ""
           }
          },
          "title": {
           "x": 0.05
          },
          "xaxis": {
           "automargin": true,
           "gridcolor": "white",
           "linecolor": "white",
           "ticks": "",
           "title": {
            "standoff": 15
           },
           "zerolinecolor": "white",
           "zerolinewidth": 2
          },
          "yaxis": {
           "automargin": true,
           "gridcolor": "white",
           "linecolor": "white",
           "ticks": "",
           "title": {
            "standoff": 15
           },
           "zerolinecolor": "white",
           "zerolinewidth": 2
          }
         }
        },
        "title": {
         "text": "Percentage of Women Candidates Over Time"
        },
        "xaxis": {
         "title": {
          "text": "Year"
         }
        },
        "yaxis": {
         "range": [
          0,
          100
         ],
         "title": {
          "text": "Percentage of Women (%)"
         }
        }
       }
      }
     },
     "metadata": {},
     "output_type": "display_data"
    }
   ],
   "source": [
    "# Calculate percentage of women by year\n",
    "gender_by_year = full_df.groupby('year')['gender'].value_counts(normalize=True).unstack()\n",
    "women_pct = gender_by_year['female'] * 100\n",
    "\n",
    "# Create line plot\n",
    "import plotly.graph_objects as go\n",
    "fig = go.Figure()\n",
    "\n",
    "fig.add_trace(\n",
    "    go.Scatter(\n",
    "        x=women_pct.index,\n",
    "        y=women_pct.values,\n",
    "        mode='lines+markers',\n",
    "        name='Women',\n",
    "        line=dict(width=2)\n",
    "    )\n",
    ")\n",
    "\n",
    "# Update layout\n",
    "fig.update_layout(\n",
    "    title='Percentage of Women Candidates Over Time',\n",
    "    xaxis_title='Year',\n",
    "    yaxis_title='Percentage of Women (%)',\n",
    "    yaxis=dict(range=[0, 100]),\n",
    "    showlegend=False,\n",
    "    height=400\n",
    ")\n",
    "\n",
    "# Save and display\n",
    "pio.write_html(fig, file='../output/graphs/women_percentage_trend.html')\n",
    "fig.show()"
   ]
  },
  {
   "cell_type": "markdown",
   "metadata": {},
   "source": [
    "## 5. Trend in Mobillity in placement"
   ]
  },
  {
   "cell_type": "code",
   "execution_count": 17,
   "metadata": {},
   "outputs": [
    {
     "data": {
      "application/vnd.plotly.v1+json": {
       "config": {
        "plotlyServerURL": "https://plot.ly"
       },
       "data": [
        {
         "link": {
          "color": [
           "rgba(31, 119, 180, 0.4)",
           "rgba(255, 127, 14, 0.4)",
           "rgba(44, 160, 44, 0.4)",
           "rgba(31, 119, 180, 0.4)",
           "rgba(255, 127, 14, 0.4)",
           "rgba(44, 160, 44, 0.4)",
           "rgba(31, 119, 180, 0.4)",
           "rgba(255, 127, 14, 0.4)",
           "rgba(44, 160, 44, 0.4)"
          ],
          "source": [
           0,
           0,
           0,
           1,
           1,
           1,
           2,
           2,
           2
          ],
          "target": [
           3,
           4,
           5,
           3,
           4,
           5,
           3,
           4,
           5
          ],
          "value": [
           10.799999999999999,
           3.6,
           3.6,
           0.6000000000000001,
           1.7999999999999998,
           0.6000000000000001,
           0.6000000000000001,
           0.6000000000000001,
           1.7999999999999998
          ]
         },
         "node": {
          "color": [
           "#1f77b4",
           "#ff7f0e",
           "#2ca02c",
           "#1f77b4",
           "#ff7f0e",
           "#2ca02c"
          ],
          "label": [
           "Academic (1998)",
           "Private Company (1998)",
           "Government (1998)",
           "Academic (2024)",
           "Private Company (2024)",
           "Government (2024)"
          ],
          "line": {
           "color": "black",
           "width": 0.5
          },
          "pad": 1,
          "thickness": 20
         },
         "type": "sankey"
        }
       ],
       "frames": [
        {
         "data": [
          {
           "link": {
            "color": [
             "rgba(31, 119, 180, 0.4)",
             "rgba(255, 127, 14, 0.4)",
             "rgba(44, 160, 44, 0.4)",
             "rgba(31, 119, 180, 0.4)",
             "rgba(255, 127, 14, 0.4)",
             "rgba(44, 160, 44, 0.4)",
             "rgba(31, 119, 180, 0.4)",
             "rgba(255, 127, 14, 0.4)",
             "rgba(44, 160, 44, 0.4)"
            ],
            "source": [
             0,
             0,
             0,
             1,
             1,
             1,
             2,
             2,
             2
            ],
            "target": [
             3,
             4,
             5,
             3,
             4,
             5,
             3,
             4,
             5
            ],
            "value": [
             10.799999999999999,
             3.6,
             3.6,
             0.6000000000000001,
             1.7999999999999998,
             0.6000000000000001,
             0.6000000000000001,
             0.6000000000000001,
             1.7999999999999998
            ]
           },
           "node": {
            "color": [
             "#1f77b4",
             "#ff7f0e",
             "#2ca02c",
             "#1f77b4",
             "#ff7f0e",
             "#2ca02c"
            ],
            "label": [
             "Academic (1998)",
             "Private Company (1998)",
             "Government (1998)",
             "Academic (2024)",
             "Private Company (2024)",
             "Government (2024)"
            ],
            "line": {
             "color": "black",
             "width": 0.5
            },
            "pad": 1,
            "thickness": 20
           },
           "type": "sankey"
          }
         ],
         "name": "1998"
        },
        {
         "data": [
          {
           "link": {
            "color": [
             "rgba(31, 119, 180, 0.4)",
             "rgba(255, 127, 14, 0.4)",
             "rgba(44, 160, 44, 0.4)",
             "rgba(31, 119, 180, 0.4)",
             "rgba(255, 127, 14, 0.4)",
             "rgba(44, 160, 44, 0.4)",
             "rgba(31, 119, 180, 0.4)",
             "rgba(255, 127, 14, 0.4)",
             "rgba(44, 160, 44, 0.4)"
            ],
            "source": [
             0,
             0,
             0,
             1,
             1,
             1,
             2,
             2,
             2
            ],
            "target": [
             3,
             4,
             5,
             3,
             4,
             5,
             3,
             4,
             5
            ],
            "value": [
             18,
             6,
             6,
             0.8,
             2.4,
             0.8,
             1,
             1,
             3
            ]
           },
           "node": {
            "color": [
             "#1f77b4",
             "#ff7f0e",
             "#2ca02c",
             "#1f77b4",
             "#ff7f0e",
             "#2ca02c"
            ],
            "label": [
             "Academic (1999)",
             "Private Company (1999)",
             "Government (1999)",
             "Academic (2024)",
             "Private Company (2024)",
             "Government (2024)"
            ],
            "line": {
             "color": "black",
             "width": 0.5
            },
            "pad": 1,
            "thickness": 20
           },
           "type": "sankey"
          }
         ],
         "name": "1999"
        },
        {
         "data": [
          {
           "link": {
            "color": [
             "rgba(31, 119, 180, 0.4)",
             "rgba(255, 127, 14, 0.4)",
             "rgba(44, 160, 44, 0.4)",
             "rgba(31, 119, 180, 0.4)",
             "rgba(255, 127, 14, 0.4)",
             "rgba(44, 160, 44, 0.4)",
             "rgba(31, 119, 180, 0.4)",
             "rgba(255, 127, 14, 0.4)",
             "rgba(44, 160, 44, 0.4)"
            ],
            "source": [
             0,
             0,
             0,
             1,
             1,
             1,
             2,
             2,
             2
            ],
            "target": [
             3,
             4,
             5,
             3,
             4,
             5,
             3,
             4,
             5
            ],
            "value": [
             10.799999999999999,
             3.6,
             3.6,
             0.2,
             0.6,
             0.2,
             0.8,
             0.8,
             2.4
            ]
           },
           "node": {
            "color": [
             "#1f77b4",
             "#ff7f0e",
             "#2ca02c",
             "#1f77b4",
             "#ff7f0e",
             "#2ca02c"
            ],
            "label": [
             "Academic (2000)",
             "Private Company (2000)",
             "Government (2000)",
             "Academic (2024)",
             "Private Company (2024)",
             "Government (2024)"
            ],
            "line": {
             "color": "black",
             "width": 0.5
            },
            "pad": 1,
            "thickness": 20
           },
           "type": "sankey"
          }
         ],
         "name": "2000"
        },
        {
         "data": [
          {
           "link": {
            "color": [
             "rgba(31, 119, 180, 0.4)",
             "rgba(255, 127, 14, 0.4)",
             "rgba(44, 160, 44, 0.4)",
             "rgba(31, 119, 180, 0.4)",
             "rgba(255, 127, 14, 0.4)",
             "rgba(44, 160, 44, 0.4)",
             "rgba(31, 119, 180, 0.4)",
             "rgba(255, 127, 14, 0.4)",
             "rgba(44, 160, 44, 0.4)"
            ],
            "source": [
             0,
             0,
             0,
             1,
             1,
             1,
             2,
             2,
             2
            ],
            "target": [
             3,
             4,
             5,
             3,
             4,
             5,
             3,
             4,
             5
            ],
            "value": [
             12,
             4,
             4,
             1.2000000000000002,
             3.5999999999999996,
             1.2000000000000002,
             1.4000000000000001,
             1.4000000000000001,
             4.2
            ]
           },
           "node": {
            "color": [
             "#1f77b4",
             "#ff7f0e",
             "#2ca02c",
             "#1f77b4",
             "#ff7f0e",
             "#2ca02c"
            ],
            "label": [
             "Academic (2001)",
             "Private Company (2001)",
             "Government (2001)",
             "Academic (2024)",
             "Private Company (2024)",
             "Government (2024)"
            ],
            "line": {
             "color": "black",
             "width": 0.5
            },
            "pad": 1,
            "thickness": 20
           },
           "type": "sankey"
          }
         ],
         "name": "2001"
        },
        {
         "data": [
          {
           "link": {
            "color": [
             "rgba(31, 119, 180, 0.4)",
             "rgba(255, 127, 14, 0.4)",
             "rgba(44, 160, 44, 0.4)",
             "rgba(31, 119, 180, 0.4)",
             "rgba(255, 127, 14, 0.4)",
             "rgba(44, 160, 44, 0.4)",
             "rgba(31, 119, 180, 0.4)",
             "rgba(255, 127, 14, 0.4)",
             "rgba(44, 160, 44, 0.4)"
            ],
            "source": [
             0,
             0,
             0,
             1,
             1,
             1,
             2,
             2,
             2
            ],
            "target": [
             3,
             4,
             5,
             3,
             4,
             5,
             3,
             4,
             5
            ],
            "value": [
             12,
             4,
             4,
             0.8,
             2.4,
             0.8,
             2.2,
             2.2,
             6.6
            ]
           },
           "node": {
            "color": [
             "#1f77b4",
             "#ff7f0e",
             "#2ca02c",
             "#1f77b4",
             "#ff7f0e",
             "#2ca02c"
            ],
            "label": [
             "Academic (2002)",
             "Private Company (2002)",
             "Government (2002)",
             "Academic (2024)",
             "Private Company (2024)",
             "Government (2024)"
            ],
            "line": {
             "color": "black",
             "width": 0.5
            },
            "pad": 1,
            "thickness": 20
           },
           "type": "sankey"
          }
         ],
         "name": "2002"
        },
        {
         "data": [
          {
           "link": {
            "color": [
             "rgba(31, 119, 180, 0.4)",
             "rgba(255, 127, 14, 0.4)",
             "rgba(44, 160, 44, 0.4)",
             "rgba(31, 119, 180, 0.4)",
             "rgba(255, 127, 14, 0.4)",
             "rgba(44, 160, 44, 0.4)",
             "rgba(31, 119, 180, 0.4)",
             "rgba(255, 127, 14, 0.4)",
             "rgba(44, 160, 44, 0.4)"
            ],
            "source": [
             0,
             0,
             0,
             1,
             1,
             1,
             2,
             2,
             2
            ],
            "target": [
             3,
             4,
             5,
             3,
             4,
             5,
             3,
             4,
             5
            ],
            "value": [
             12.6,
             4.2,
             4.2,
             1.2000000000000002,
             3.5999999999999996,
             1.2000000000000002,
             1.6,
             1.6,
             4.8
            ]
           },
           "node": {
            "color": [
             "#1f77b4",
             "#ff7f0e",
             "#2ca02c",
             "#1f77b4",
             "#ff7f0e",
             "#2ca02c"
            ],
            "label": [
             "Academic (2003)",
             "Private Company (2003)",
             "Government (2003)",
             "Academic (2024)",
             "Private Company (2024)",
             "Government (2024)"
            ],
            "line": {
             "color": "black",
             "width": 0.5
            },
            "pad": 1,
            "thickness": 20
           },
           "type": "sankey"
          }
         ],
         "name": "2003"
        },
        {
         "data": [
          {
           "link": {
            "color": [
             "rgba(31, 119, 180, 0.4)",
             "rgba(255, 127, 14, 0.4)",
             "rgba(44, 160, 44, 0.4)",
             "rgba(31, 119, 180, 0.4)",
             "rgba(255, 127, 14, 0.4)",
             "rgba(44, 160, 44, 0.4)",
             "rgba(31, 119, 180, 0.4)",
             "rgba(255, 127, 14, 0.4)",
             "rgba(44, 160, 44, 0.4)"
            ],
            "source": [
             0,
             0,
             0,
             1,
             1,
             1,
             2,
             2,
             2
            ],
            "target": [
             3,
             4,
             5,
             3,
             4,
             5,
             3,
             4,
             5
            ],
            "value": [
             13.2,
             4.4,
             4.4,
             2.8000000000000003,
             8.4,
             2.8000000000000003,
             1.4000000000000001,
             1.4000000000000001,
             4.2
            ]
           },
           "node": {
            "color": [
             "#1f77b4",
             "#ff7f0e",
             "#2ca02c",
             "#1f77b4",
             "#ff7f0e",
             "#2ca02c"
            ],
            "label": [
             "Academic (2004)",
             "Private Company (2004)",
             "Government (2004)",
             "Academic (2024)",
             "Private Company (2024)",
             "Government (2024)"
            ],
            "line": {
             "color": "black",
             "width": 0.5
            },
            "pad": 1,
            "thickness": 20
           },
           "type": "sankey"
          }
         ],
         "name": "2004"
        },
        {
         "data": [
          {
           "link": {
            "color": [
             "rgba(31, 119, 180, 0.4)",
             "rgba(255, 127, 14, 0.4)",
             "rgba(44, 160, 44, 0.4)",
             "rgba(31, 119, 180, 0.4)",
             "rgba(255, 127, 14, 0.4)",
             "rgba(44, 160, 44, 0.4)",
             "rgba(31, 119, 180, 0.4)",
             "rgba(255, 127, 14, 0.4)",
             "rgba(44, 160, 44, 0.4)"
            ],
            "source": [
             0,
             0,
             0,
             1,
             1,
             1,
             2,
             2,
             2
            ],
            "target": [
             3,
             4,
             5,
             3,
             4,
             5,
             3,
             4,
             5
            ],
            "value": [
             33,
             11,
             11,
             4.2,
             12.6,
             4.2,
             3.2,
             3.2,
             9.6
            ]
           },
           "node": {
            "color": [
             "#1f77b4",
             "#ff7f0e",
             "#2ca02c",
             "#1f77b4",
             "#ff7f0e",
             "#2ca02c"
            ],
            "label": [
             "Academic (2005)",
             "Private Company (2005)",
             "Government (2005)",
             "Academic (2024)",
             "Private Company (2024)",
             "Government (2024)"
            ],
            "line": {
             "color": "black",
             "width": 0.5
            },
            "pad": 1,
            "thickness": 20
           },
           "type": "sankey"
          }
         ],
         "name": "2005"
        },
        {
         "data": [
          {
           "link": {
            "color": [
             "rgba(31, 119, 180, 0.4)",
             "rgba(255, 127, 14, 0.4)",
             "rgba(44, 160, 44, 0.4)",
             "rgba(31, 119, 180, 0.4)",
             "rgba(255, 127, 14, 0.4)",
             "rgba(44, 160, 44, 0.4)",
             "rgba(31, 119, 180, 0.4)",
             "rgba(255, 127, 14, 0.4)",
             "rgba(44, 160, 44, 0.4)"
            ],
            "source": [
             0,
             0,
             0,
             1,
             1,
             1,
             2,
             2,
             2
            ],
            "target": [
             3,
             4,
             5,
             3,
             4,
             5,
             3,
             4,
             5
            ],
            "value": [
             42,
             14,
             14,
             3.8000000000000003,
             11.4,
             3.8000000000000003,
             1.6,
             1.6,
             4.8
            ]
           },
           "node": {
            "color": [
             "#1f77b4",
             "#ff7f0e",
             "#2ca02c",
             "#1f77b4",
             "#ff7f0e",
             "#2ca02c"
            ],
            "label": [
             "Academic (2006)",
             "Private Company (2006)",
             "Government (2006)",
             "Academic (2024)",
             "Private Company (2024)",
             "Government (2024)"
            ],
            "line": {
             "color": "black",
             "width": 0.5
            },
            "pad": 1,
            "thickness": 20
           },
           "type": "sankey"
          }
         ],
         "name": "2006"
        },
        {
         "data": [
          {
           "link": {
            "color": [
             "rgba(31, 119, 180, 0.4)",
             "rgba(255, 127, 14, 0.4)",
             "rgba(44, 160, 44, 0.4)",
             "rgba(31, 119, 180, 0.4)",
             "rgba(255, 127, 14, 0.4)",
             "rgba(44, 160, 44, 0.4)",
             "rgba(31, 119, 180, 0.4)",
             "rgba(255, 127, 14, 0.4)",
             "rgba(44, 160, 44, 0.4)"
            ],
            "source": [
             0,
             0,
             0,
             1,
             1,
             1,
             2,
             2,
             2
            ],
            "target": [
             3,
             4,
             5,
             3,
             4,
             5,
             3,
             4,
             5
            ],
            "value": [
             33,
             11,
             11,
             4.4,
             13.2,
             4.4,
             2,
             2,
             6
            ]
           },
           "node": {
            "color": [
             "#1f77b4",
             "#ff7f0e",
             "#2ca02c",
             "#1f77b4",
             "#ff7f0e",
             "#2ca02c"
            ],
            "label": [
             "Academic (2007)",
             "Private Company (2007)",
             "Government (2007)",
             "Academic (2024)",
             "Private Company (2024)",
             "Government (2024)"
            ],
            "line": {
             "color": "black",
             "width": 0.5
            },
            "pad": 1,
            "thickness": 20
           },
           "type": "sankey"
          }
         ],
         "name": "2007"
        },
        {
         "data": [
          {
           "link": {
            "color": [
             "rgba(31, 119, 180, 0.4)",
             "rgba(255, 127, 14, 0.4)",
             "rgba(44, 160, 44, 0.4)",
             "rgba(31, 119, 180, 0.4)",
             "rgba(255, 127, 14, 0.4)",
             "rgba(44, 160, 44, 0.4)",
             "rgba(31, 119, 180, 0.4)",
             "rgba(255, 127, 14, 0.4)",
             "rgba(44, 160, 44, 0.4)"
            ],
            "source": [
             0,
             0,
             0,
             1,
             1,
             1,
             2,
             2,
             2
            ],
            "target": [
             3,
             4,
             5,
             3,
             4,
             5,
             3,
             4,
             5
            ],
            "value": [
             36.6,
             12.200000000000001,
             12.200000000000001,
             3.6,
             10.799999999999999,
             3.6,
             2.2,
             2.2,
             6.6
            ]
           },
           "node": {
            "color": [
             "#1f77b4",
             "#ff7f0e",
             "#2ca02c",
             "#1f77b4",
             "#ff7f0e",
             "#2ca02c"
            ],
            "label": [
             "Academic (2008)",
             "Private Company (2008)",
             "Government (2008)",
             "Academic (2024)",
             "Private Company (2024)",
             "Government (2024)"
            ],
            "line": {
             "color": "black",
             "width": 0.5
            },
            "pad": 1,
            "thickness": 20
           },
           "type": "sankey"
          }
         ],
         "name": "2008"
        },
        {
         "data": [
          {
           "link": {
            "color": [
             "rgba(31, 119, 180, 0.4)",
             "rgba(255, 127, 14, 0.4)",
             "rgba(44, 160, 44, 0.4)",
             "rgba(31, 119, 180, 0.4)",
             "rgba(255, 127, 14, 0.4)",
             "rgba(44, 160, 44, 0.4)",
             "rgba(31, 119, 180, 0.4)",
             "rgba(255, 127, 14, 0.4)",
             "rgba(44, 160, 44, 0.4)"
            ],
            "source": [
             0,
             0,
             0,
             1,
             1,
             1,
             2,
             2,
             2
            ],
            "target": [
             3,
             4,
             5,
             3,
             4,
             5,
             3,
             4,
             5
            ],
            "value": [
             48.6,
             16.2,
             16.2,
             2.2,
             6.6,
             2.2,
             3.2,
             3.2,
             9.6
            ]
           },
           "node": {
            "color": [
             "#1f77b4",
             "#ff7f0e",
             "#2ca02c",
             "#1f77b4",
             "#ff7f0e",
             "#2ca02c"
            ],
            "label": [
             "Academic (2009)",
             "Private Company (2009)",
             "Government (2009)",
             "Academic (2024)",
             "Private Company (2024)",
             "Government (2024)"
            ],
            "line": {
             "color": "black",
             "width": 0.5
            },
            "pad": 1,
            "thickness": 20
           },
           "type": "sankey"
          }
         ],
         "name": "2009"
        },
        {
         "data": [
          {
           "link": {
            "color": [
             "rgba(31, 119, 180, 0.4)",
             "rgba(255, 127, 14, 0.4)",
             "rgba(44, 160, 44, 0.4)",
             "rgba(31, 119, 180, 0.4)",
             "rgba(255, 127, 14, 0.4)",
             "rgba(44, 160, 44, 0.4)",
             "rgba(31, 119, 180, 0.4)",
             "rgba(255, 127, 14, 0.4)",
             "rgba(44, 160, 44, 0.4)"
            ],
            "source": [
             0,
             0,
             0,
             1,
             1,
             1,
             2,
             2,
             2
            ],
            "target": [
             3,
             4,
             5,
             3,
             4,
             5,
             3,
             4,
             5
            ],
            "value": [
             42,
             14,
             14,
             2.4000000000000004,
             7.199999999999999,
             2.4000000000000004,
             4.4,
             4.4,
             13.2
            ]
           },
           "node": {
            "color": [
             "#1f77b4",
             "#ff7f0e",
             "#2ca02c",
             "#1f77b4",
             "#ff7f0e",
             "#2ca02c"
            ],
            "label": [
             "Academic (2010)",
             "Private Company (2010)",
             "Government (2010)",
             "Academic (2024)",
             "Private Company (2024)",
             "Government (2024)"
            ],
            "line": {
             "color": "black",
             "width": 0.5
            },
            "pad": 1,
            "thickness": 20
           },
           "type": "sankey"
          }
         ],
         "name": "2010"
        },
        {
         "data": [
          {
           "link": {
            "color": [
             "rgba(31, 119, 180, 0.4)",
             "rgba(255, 127, 14, 0.4)",
             "rgba(44, 160, 44, 0.4)",
             "rgba(31, 119, 180, 0.4)",
             "rgba(255, 127, 14, 0.4)",
             "rgba(44, 160, 44, 0.4)",
             "rgba(31, 119, 180, 0.4)",
             "rgba(255, 127, 14, 0.4)",
             "rgba(44, 160, 44, 0.4)"
            ],
            "source": [
             0,
             0,
             0,
             1,
             1,
             1,
             2,
             2,
             2
            ],
            "target": [
             3,
             4,
             5,
             3,
             4,
             5,
             3,
             4,
             5
            ],
            "value": [
             58.199999999999996,
             19.400000000000002,
             19.400000000000002,
             4.4,
             13.2,
             4.4,
             6.2,
             6.2,
             18.599999999999998
            ]
           },
           "node": {
            "color": [
             "#1f77b4",
             "#ff7f0e",
             "#2ca02c",
             "#1f77b4",
             "#ff7f0e",
             "#2ca02c"
            ],
            "label": [
             "Academic (2011)",
             "Private Company (2011)",
             "Government (2011)",
             "Academic (2024)",
             "Private Company (2024)",
             "Government (2024)"
            ],
            "line": {
             "color": "black",
             "width": 0.5
            },
            "pad": 1,
            "thickness": 20
           },
           "type": "sankey"
          }
         ],
         "name": "2011"
        },
        {
         "data": [
          {
           "link": {
            "color": [
             "rgba(31, 119, 180, 0.4)",
             "rgba(255, 127, 14, 0.4)",
             "rgba(44, 160, 44, 0.4)",
             "rgba(31, 119, 180, 0.4)",
             "rgba(255, 127, 14, 0.4)",
             "rgba(44, 160, 44, 0.4)",
             "rgba(31, 119, 180, 0.4)",
             "rgba(255, 127, 14, 0.4)",
             "rgba(44, 160, 44, 0.4)"
            ],
            "source": [
             0,
             0,
             0,
             1,
             1,
             1,
             2,
             2,
             2
            ],
            "target": [
             3,
             4,
             5,
             3,
             4,
             5,
             3,
             4,
             5
            ],
            "value": [
             54.6,
             18.2,
             18.2,
             5,
             15,
             5,
             3.8000000000000003,
             3.8000000000000003,
             11.4
            ]
           },
           "node": {
            "color": [
             "#1f77b4",
             "#ff7f0e",
             "#2ca02c",
             "#1f77b4",
             "#ff7f0e",
             "#2ca02c"
            ],
            "label": [
             "Academic (2012)",
             "Private Company (2012)",
             "Government (2012)",
             "Academic (2024)",
             "Private Company (2024)",
             "Government (2024)"
            ],
            "line": {
             "color": "black",
             "width": 0.5
            },
            "pad": 1,
            "thickness": 20
           },
           "type": "sankey"
          }
         ],
         "name": "2012"
        },
        {
         "data": [
          {
           "link": {
            "color": [
             "rgba(31, 119, 180, 0.4)",
             "rgba(255, 127, 14, 0.4)",
             "rgba(44, 160, 44, 0.4)",
             "rgba(31, 119, 180, 0.4)",
             "rgba(255, 127, 14, 0.4)",
             "rgba(44, 160, 44, 0.4)",
             "rgba(31, 119, 180, 0.4)",
             "rgba(255, 127, 14, 0.4)",
             "rgba(44, 160, 44, 0.4)"
            ],
            "source": [
             0,
             0,
             0,
             1,
             1,
             1,
             2,
             2,
             2
            ],
            "target": [
             3,
             4,
             5,
             3,
             4,
             5,
             3,
             4,
             5
            ],
            "value": [
             64.2,
             21.400000000000002,
             21.400000000000002,
             4.4,
             13.2,
             4.4,
             3.6,
             3.6,
             10.799999999999999
            ]
           },
           "node": {
            "color": [
             "#1f77b4",
             "#ff7f0e",
             "#2ca02c",
             "#1f77b4",
             "#ff7f0e",
             "#2ca02c"
            ],
            "label": [
             "Academic (2013)",
             "Private Company (2013)",
             "Government (2013)",
             "Academic (2024)",
             "Private Company (2024)",
             "Government (2024)"
            ],
            "line": {
             "color": "black",
             "width": 0.5
            },
            "pad": 1,
            "thickness": 20
           },
           "type": "sankey"
          }
         ],
         "name": "2013"
        },
        {
         "data": [
          {
           "link": {
            "color": [
             "rgba(31, 119, 180, 0.4)",
             "rgba(255, 127, 14, 0.4)",
             "rgba(44, 160, 44, 0.4)",
             "rgba(31, 119, 180, 0.4)",
             "rgba(255, 127, 14, 0.4)",
             "rgba(44, 160, 44, 0.4)",
             "rgba(31, 119, 180, 0.4)",
             "rgba(255, 127, 14, 0.4)",
             "rgba(44, 160, 44, 0.4)"
            ],
            "source": [
             0,
             0,
             0,
             1,
             1,
             1,
             2,
             2,
             2
            ],
            "target": [
             3,
             4,
             5,
             3,
             4,
             5,
             3,
             4,
             5
            ],
            "value": [
             75,
             25,
             25,
             5.4,
             16.2,
             5.4,
             4.2,
             4.2,
             12.6
            ]
           },
           "node": {
            "color": [
             "#1f77b4",
             "#ff7f0e",
             "#2ca02c",
             "#1f77b4",
             "#ff7f0e",
             "#2ca02c"
            ],
            "label": [
             "Academic (2014)",
             "Private Company (2014)",
             "Government (2014)",
             "Academic (2024)",
             "Private Company (2024)",
             "Government (2024)"
            ],
            "line": {
             "color": "black",
             "width": 0.5
            },
            "pad": 1,
            "thickness": 20
           },
           "type": "sankey"
          }
         ],
         "name": "2014"
        },
        {
         "data": [
          {
           "link": {
            "color": [
             "rgba(31, 119, 180, 0.4)",
             "rgba(255, 127, 14, 0.4)",
             "rgba(44, 160, 44, 0.4)",
             "rgba(31, 119, 180, 0.4)",
             "rgba(255, 127, 14, 0.4)",
             "rgba(44, 160, 44, 0.4)",
             "rgba(31, 119, 180, 0.4)",
             "rgba(255, 127, 14, 0.4)",
             "rgba(44, 160, 44, 0.4)"
            ],
            "source": [
             0,
             0,
             0,
             1,
             1,
             1,
             2,
             2,
             2
            ],
            "target": [
             3,
             4,
             5,
             3,
             4,
             5,
             3,
             4,
             5
            ],
            "value": [
             64.8,
             21.6,
             21.6,
             6,
             18,
             6,
             6.2,
             6.2,
             18.599999999999998
            ]
           },
           "node": {
            "color": [
             "#1f77b4",
             "#ff7f0e",
             "#2ca02c",
             "#1f77b4",
             "#ff7f0e",
             "#2ca02c"
            ],
            "label": [
             "Academic (2015)",
             "Private Company (2015)",
             "Government (2015)",
             "Academic (2024)",
             "Private Company (2024)",
             "Government (2024)"
            ],
            "line": {
             "color": "black",
             "width": 0.5
            },
            "pad": 1,
            "thickness": 20
           },
           "type": "sankey"
          }
         ],
         "name": "2015"
        },
        {
         "data": [
          {
           "link": {
            "color": [
             "rgba(31, 119, 180, 0.4)",
             "rgba(255, 127, 14, 0.4)",
             "rgba(44, 160, 44, 0.4)",
             "rgba(31, 119, 180, 0.4)",
             "rgba(255, 127, 14, 0.4)",
             "rgba(44, 160, 44, 0.4)",
             "rgba(31, 119, 180, 0.4)",
             "rgba(255, 127, 14, 0.4)",
             "rgba(44, 160, 44, 0.4)"
            ],
            "source": [
             0,
             0,
             0,
             1,
             1,
             1,
             2,
             2,
             2
            ],
            "target": [
             3,
             4,
             5,
             3,
             4,
             5,
             3,
             4,
             5
            ],
            "value": [
             97.8,
             32.6,
             32.6,
             11.200000000000001,
             33.6,
             11.200000000000001,
             4.4,
             4.4,
             13.2
            ]
           },
           "node": {
            "color": [
             "#1f77b4",
             "#ff7f0e",
             "#2ca02c",
             "#1f77b4",
             "#ff7f0e",
             "#2ca02c"
            ],
            "label": [
             "Academic (2016)",
             "Private Company (2016)",
             "Government (2016)",
             "Academic (2024)",
             "Private Company (2024)",
             "Government (2024)"
            ],
            "line": {
             "color": "black",
             "width": 0.5
            },
            "pad": 1,
            "thickness": 20
           },
           "type": "sankey"
          }
         ],
         "name": "2016"
        },
        {
         "data": [
          {
           "link": {
            "color": [
             "rgba(31, 119, 180, 0.4)",
             "rgba(255, 127, 14, 0.4)",
             "rgba(44, 160, 44, 0.4)",
             "rgba(31, 119, 180, 0.4)",
             "rgba(255, 127, 14, 0.4)",
             "rgba(44, 160, 44, 0.4)",
             "rgba(31, 119, 180, 0.4)",
             "rgba(255, 127, 14, 0.4)",
             "rgba(44, 160, 44, 0.4)"
            ],
            "source": [
             0,
             0,
             0,
             1,
             1,
             1,
             2,
             2,
             2
            ],
            "target": [
             3,
             4,
             5,
             3,
             4,
             5,
             3,
             4,
             5
            ],
            "value": [
             72,
             24,
             24,
             11,
             33,
             11,
             3.6,
             3.6,
             10.799999999999999
            ]
           },
           "node": {
            "color": [
             "#1f77b4",
             "#ff7f0e",
             "#2ca02c",
             "#1f77b4",
             "#ff7f0e",
             "#2ca02c"
            ],
            "label": [
             "Academic (2017)",
             "Private Company (2017)",
             "Government (2017)",
             "Academic (2024)",
             "Private Company (2024)",
             "Government (2024)"
            ],
            "line": {
             "color": "black",
             "width": 0.5
            },
            "pad": 1,
            "thickness": 20
           },
           "type": "sankey"
          }
         ],
         "name": "2017"
        },
        {
         "data": [
          {
           "link": {
            "color": [
             "rgba(31, 119, 180, 0.4)",
             "rgba(255, 127, 14, 0.4)",
             "rgba(44, 160, 44, 0.4)",
             "rgba(31, 119, 180, 0.4)",
             "rgba(255, 127, 14, 0.4)",
             "rgba(44, 160, 44, 0.4)",
             "rgba(31, 119, 180, 0.4)",
             "rgba(255, 127, 14, 0.4)",
             "rgba(44, 160, 44, 0.4)"
            ],
            "source": [
             0,
             0,
             0,
             1,
             1,
             1,
             2,
             2,
             2
            ],
            "target": [
             3,
             4,
             5,
             3,
             4,
             5,
             3,
             4,
             5
            ],
            "value": [
             78.6,
             26.200000000000003,
             26.200000000000003,
             9.4,
             28.2,
             9.4,
             4.4,
             4.4,
             13.2
            ]
           },
           "node": {
            "color": [
             "#1f77b4",
             "#ff7f0e",
             "#2ca02c",
             "#1f77b4",
             "#ff7f0e",
             "#2ca02c"
            ],
            "label": [
             "Academic (2018)",
             "Private Company (2018)",
             "Government (2018)",
             "Academic (2024)",
             "Private Company (2024)",
             "Government (2024)"
            ],
            "line": {
             "color": "black",
             "width": 0.5
            },
            "pad": 1,
            "thickness": 20
           },
           "type": "sankey"
          }
         ],
         "name": "2018"
        },
        {
         "data": [
          {
           "link": {
            "color": [
             "rgba(31, 119, 180, 0.4)",
             "rgba(255, 127, 14, 0.4)",
             "rgba(44, 160, 44, 0.4)",
             "rgba(31, 119, 180, 0.4)",
             "rgba(255, 127, 14, 0.4)",
             "rgba(44, 160, 44, 0.4)",
             "rgba(31, 119, 180, 0.4)",
             "rgba(255, 127, 14, 0.4)",
             "rgba(44, 160, 44, 0.4)"
            ],
            "source": [
             0,
             0,
             0,
             1,
             1,
             1,
             2,
             2,
             2
            ],
            "target": [
             3,
             4,
             5,
             3,
             4,
             5,
             3,
             4,
             5
            ],
            "value": [
             63.599999999999994,
             21.200000000000003,
             21.200000000000003,
             8.8,
             26.4,
             8.8,
             4,
             4,
             12
            ]
           },
           "node": {
            "color": [
             "#1f77b4",
             "#ff7f0e",
             "#2ca02c",
             "#1f77b4",
             "#ff7f0e",
             "#2ca02c"
            ],
            "label": [
             "Academic (2019)",
             "Private Company (2019)",
             "Government (2019)",
             "Academic (2024)",
             "Private Company (2024)",
             "Government (2024)"
            ],
            "line": {
             "color": "black",
             "width": 0.5
            },
            "pad": 1,
            "thickness": 20
           },
           "type": "sankey"
          }
         ],
         "name": "2019"
        },
        {
         "data": [
          {
           "link": {
            "color": [
             "rgba(31, 119, 180, 0.4)",
             "rgba(255, 127, 14, 0.4)",
             "rgba(44, 160, 44, 0.4)",
             "rgba(31, 119, 180, 0.4)",
             "rgba(255, 127, 14, 0.4)",
             "rgba(44, 160, 44, 0.4)",
             "rgba(31, 119, 180, 0.4)",
             "rgba(255, 127, 14, 0.4)",
             "rgba(44, 160, 44, 0.4)"
            ],
            "source": [
             0,
             0,
             0,
             1,
             1,
             1,
             2,
             2,
             2
            ],
            "target": [
             3,
             4,
             5,
             3,
             4,
             5,
             3,
             4,
             5
            ],
            "value": [
             63.599999999999994,
             21.200000000000003,
             21.200000000000003,
             11.4,
             34.199999999999996,
             11.4,
             4.4,
             4.4,
             13.2
            ]
           },
           "node": {
            "color": [
             "#1f77b4",
             "#ff7f0e",
             "#2ca02c",
             "#1f77b4",
             "#ff7f0e",
             "#2ca02c"
            ],
            "label": [
             "Academic (2020)",
             "Private Company (2020)",
             "Government (2020)",
             "Academic (2024)",
             "Private Company (2024)",
             "Government (2024)"
            ],
            "line": {
             "color": "black",
             "width": 0.5
            },
            "pad": 1,
            "thickness": 20
           },
           "type": "sankey"
          }
         ],
         "name": "2020"
        },
        {
         "data": [
          {
           "link": {
            "color": [
             "rgba(31, 119, 180, 0.4)",
             "rgba(255, 127, 14, 0.4)",
             "rgba(44, 160, 44, 0.4)",
             "rgba(31, 119, 180, 0.4)",
             "rgba(255, 127, 14, 0.4)",
             "rgba(44, 160, 44, 0.4)",
             "rgba(31, 119, 180, 0.4)",
             "rgba(255, 127, 14, 0.4)",
             "rgba(44, 160, 44, 0.4)"
            ],
            "source": [
             0,
             0,
             0,
             1,
             1,
             1,
             2,
             2,
             2
            ],
            "target": [
             3,
             4,
             5,
             3,
             4,
             5,
             3,
             4,
             5
            ],
            "value": [
             58.199999999999996,
             19.400000000000002,
             19.400000000000002,
             11.4,
             34.199999999999996,
             11.4,
             5,
             5,
             15
            ]
           },
           "node": {
            "color": [
             "#1f77b4",
             "#ff7f0e",
             "#2ca02c",
             "#1f77b4",
             "#ff7f0e",
             "#2ca02c"
            ],
            "label": [
             "Academic (2021)",
             "Private Company (2021)",
             "Government (2021)",
             "Academic (2024)",
             "Private Company (2024)",
             "Government (2024)"
            ],
            "line": {
             "color": "black",
             "width": 0.5
            },
            "pad": 1,
            "thickness": 20
           },
           "type": "sankey"
          }
         ],
         "name": "2021"
        },
        {
         "data": [
          {
           "link": {
            "color": [
             "rgba(31, 119, 180, 0.4)",
             "rgba(255, 127, 14, 0.4)",
             "rgba(44, 160, 44, 0.4)",
             "rgba(31, 119, 180, 0.4)",
             "rgba(255, 127, 14, 0.4)",
             "rgba(44, 160, 44, 0.4)",
             "rgba(31, 119, 180, 0.4)",
             "rgba(255, 127, 14, 0.4)",
             "rgba(44, 160, 44, 0.4)"
            ],
            "source": [
             0,
             0,
             0,
             1,
             1,
             1,
             2,
             2,
             2
            ],
            "target": [
             3,
             4,
             5,
             3,
             4,
             5,
             3,
             4,
             5
            ],
            "value": [
             68.39999999999999,
             22.8,
             22.8,
             13.200000000000001,
             39.6,
             13.200000000000001,
             6.2,
             6.2,
             18.599999999999998
            ]
           },
           "node": {
            "color": [
             "#1f77b4",
             "#ff7f0e",
             "#2ca02c",
             "#1f77b4",
             "#ff7f0e",
             "#2ca02c"
            ],
            "label": [
             "Academic (2022)",
             "Private Company (2022)",
             "Government (2022)",
             "Academic (2024)",
             "Private Company (2024)",
             "Government (2024)"
            ],
            "line": {
             "color": "black",
             "width": 0.5
            },
            "pad": 1,
            "thickness": 20
           },
           "type": "sankey"
          }
         ],
         "name": "2022"
        },
        {
         "data": [
          {
           "link": {
            "color": [
             "rgba(31, 119, 180, 0.4)",
             "rgba(255, 127, 14, 0.4)",
             "rgba(44, 160, 44, 0.4)",
             "rgba(31, 119, 180, 0.4)",
             "rgba(255, 127, 14, 0.4)",
             "rgba(44, 160, 44, 0.4)",
             "rgba(31, 119, 180, 0.4)",
             "rgba(255, 127, 14, 0.4)",
             "rgba(44, 160, 44, 0.4)"
            ],
            "source": [
             0,
             0,
             0,
             1,
             1,
             1,
             2,
             2,
             2
            ],
            "target": [
             3,
             4,
             5,
             3,
             4,
             5,
             3,
             4,
             5
            ],
            "value": [
             87.6,
             29.200000000000003,
             29.200000000000003,
             13.4,
             40.199999999999996,
             13.4,
             7.4,
             7.4,
             22.2
            ]
           },
           "node": {
            "color": [
             "#1f77b4",
             "#ff7f0e",
             "#2ca02c",
             "#1f77b4",
             "#ff7f0e",
             "#2ca02c"
            ],
            "label": [
             "Academic (2023)",
             "Private Company (2023)",
             "Government (2023)",
             "Academic (2024)",
             "Private Company (2024)",
             "Government (2024)"
            ],
            "line": {
             "color": "black",
             "width": 0.5
            },
            "pad": 1,
            "thickness": 20
           },
           "type": "sankey"
          }
         ],
         "name": "2023"
        }
       ],
       "layout": {
        "font": {
         "size": 12
        },
        "height": 600,
        "sliders": [
         {
          "active": 0,
          "currentvalue": {
           "prefix": "Starting Year: "
          },
          "pad": {
           "t": 50
          },
          "steps": [
           {
            "args": [
             [
              "1998"
             ],
             {
              "frame": {
               "duration": 300,
               "redraw": true
              },
              "mode": "immediate",
              "transition": {
               "duration": 300
              }
             }
            ],
            "label": "1998",
            "method": "animate"
           },
           {
            "args": [
             [
              "1999"
             ],
             {
              "frame": {
               "duration": 300,
               "redraw": true
              },
              "mode": "immediate",
              "transition": {
               "duration": 300
              }
             }
            ],
            "label": "1999",
            "method": "animate"
           },
           {
            "args": [
             [
              "2000"
             ],
             {
              "frame": {
               "duration": 300,
               "redraw": true
              },
              "mode": "immediate",
              "transition": {
               "duration": 300
              }
             }
            ],
            "label": "2000",
            "method": "animate"
           },
           {
            "args": [
             [
              "2001"
             ],
             {
              "frame": {
               "duration": 300,
               "redraw": true
              },
              "mode": "immediate",
              "transition": {
               "duration": 300
              }
             }
            ],
            "label": "2001",
            "method": "animate"
           },
           {
            "args": [
             [
              "2002"
             ],
             {
              "frame": {
               "duration": 300,
               "redraw": true
              },
              "mode": "immediate",
              "transition": {
               "duration": 300
              }
             }
            ],
            "label": "2002",
            "method": "animate"
           },
           {
            "args": [
             [
              "2003"
             ],
             {
              "frame": {
               "duration": 300,
               "redraw": true
              },
              "mode": "immediate",
              "transition": {
               "duration": 300
              }
             }
            ],
            "label": "2003",
            "method": "animate"
           },
           {
            "args": [
             [
              "2004"
             ],
             {
              "frame": {
               "duration": 300,
               "redraw": true
              },
              "mode": "immediate",
              "transition": {
               "duration": 300
              }
             }
            ],
            "label": "2004",
            "method": "animate"
           },
           {
            "args": [
             [
              "2005"
             ],
             {
              "frame": {
               "duration": 300,
               "redraw": true
              },
              "mode": "immediate",
              "transition": {
               "duration": 300
              }
             }
            ],
            "label": "2005",
            "method": "animate"
           },
           {
            "args": [
             [
              "2006"
             ],
             {
              "frame": {
               "duration": 300,
               "redraw": true
              },
              "mode": "immediate",
              "transition": {
               "duration": 300
              }
             }
            ],
            "label": "2006",
            "method": "animate"
           },
           {
            "args": [
             [
              "2007"
             ],
             {
              "frame": {
               "duration": 300,
               "redraw": true
              },
              "mode": "immediate",
              "transition": {
               "duration": 300
              }
             }
            ],
            "label": "2007",
            "method": "animate"
           },
           {
            "args": [
             [
              "2008"
             ],
             {
              "frame": {
               "duration": 300,
               "redraw": true
              },
              "mode": "immediate",
              "transition": {
               "duration": 300
              }
             }
            ],
            "label": "2008",
            "method": "animate"
           },
           {
            "args": [
             [
              "2009"
             ],
             {
              "frame": {
               "duration": 300,
               "redraw": true
              },
              "mode": "immediate",
              "transition": {
               "duration": 300
              }
             }
            ],
            "label": "2009",
            "method": "animate"
           },
           {
            "args": [
             [
              "2010"
             ],
             {
              "frame": {
               "duration": 300,
               "redraw": true
              },
              "mode": "immediate",
              "transition": {
               "duration": 300
              }
             }
            ],
            "label": "2010",
            "method": "animate"
           },
           {
            "args": [
             [
              "2011"
             ],
             {
              "frame": {
               "duration": 300,
               "redraw": true
              },
              "mode": "immediate",
              "transition": {
               "duration": 300
              }
             }
            ],
            "label": "2011",
            "method": "animate"
           },
           {
            "args": [
             [
              "2012"
             ],
             {
              "frame": {
               "duration": 300,
               "redraw": true
              },
              "mode": "immediate",
              "transition": {
               "duration": 300
              }
             }
            ],
            "label": "2012",
            "method": "animate"
           },
           {
            "args": [
             [
              "2013"
             ],
             {
              "frame": {
               "duration": 300,
               "redraw": true
              },
              "mode": "immediate",
              "transition": {
               "duration": 300
              }
             }
            ],
            "label": "2013",
            "method": "animate"
           },
           {
            "args": [
             [
              "2014"
             ],
             {
              "frame": {
               "duration": 300,
               "redraw": true
              },
              "mode": "immediate",
              "transition": {
               "duration": 300
              }
             }
            ],
            "label": "2014",
            "method": "animate"
           },
           {
            "args": [
             [
              "2015"
             ],
             {
              "frame": {
               "duration": 300,
               "redraw": true
              },
              "mode": "immediate",
              "transition": {
               "duration": 300
              }
             }
            ],
            "label": "2015",
            "method": "animate"
           },
           {
            "args": [
             [
              "2016"
             ],
             {
              "frame": {
               "duration": 300,
               "redraw": true
              },
              "mode": "immediate",
              "transition": {
               "duration": 300
              }
             }
            ],
            "label": "2016",
            "method": "animate"
           },
           {
            "args": [
             [
              "2017"
             ],
             {
              "frame": {
               "duration": 300,
               "redraw": true
              },
              "mode": "immediate",
              "transition": {
               "duration": 300
              }
             }
            ],
            "label": "2017",
            "method": "animate"
           },
           {
            "args": [
             [
              "2018"
             ],
             {
              "frame": {
               "duration": 300,
               "redraw": true
              },
              "mode": "immediate",
              "transition": {
               "duration": 300
              }
             }
            ],
            "label": "2018",
            "method": "animate"
           },
           {
            "args": [
             [
              "2019"
             ],
             {
              "frame": {
               "duration": 300,
               "redraw": true
              },
              "mode": "immediate",
              "transition": {
               "duration": 300
              }
             }
            ],
            "label": "2019",
            "method": "animate"
           },
           {
            "args": [
             [
              "2020"
             ],
             {
              "frame": {
               "duration": 300,
               "redraw": true
              },
              "mode": "immediate",
              "transition": {
               "duration": 300
              }
             }
            ],
            "label": "2020",
            "method": "animate"
           },
           {
            "args": [
             [
              "2021"
             ],
             {
              "frame": {
               "duration": 300,
               "redraw": true
              },
              "mode": "immediate",
              "transition": {
               "duration": 300
              }
             }
            ],
            "label": "2021",
            "method": "animate"
           },
           {
            "args": [
             [
              "2022"
             ],
             {
              "frame": {
               "duration": 300,
               "redraw": true
              },
              "mode": "immediate",
              "transition": {
               "duration": 300
              }
             }
            ],
            "label": "2022",
            "method": "animate"
           },
           {
            "args": [
             [
              "2023"
             ],
             {
              "frame": {
               "duration": 300,
               "redraw": true
              },
              "mode": "immediate",
              "transition": {
               "duration": 300
              }
             }
            ],
            "label": "2023",
            "method": "animate"
           }
          ]
         }
        ],
        "template": {
         "data": {
          "bar": [
           {
            "error_x": {
             "color": "#2a3f5f"
            },
            "error_y": {
             "color": "#2a3f5f"
            },
            "marker": {
             "line": {
              "color": "#E5ECF6",
              "width": 0.5
             },
             "pattern": {
              "fillmode": "overlay",
              "size": 10,
              "solidity": 0.2
             }
            },
            "type": "bar"
           }
          ],
          "barpolar": [
           {
            "marker": {
             "line": {
              "color": "#E5ECF6",
              "width": 0.5
             },
             "pattern": {
              "fillmode": "overlay",
              "size": 10,
              "solidity": 0.2
             }
            },
            "type": "barpolar"
           }
          ],
          "carpet": [
           {
            "aaxis": {
             "endlinecolor": "#2a3f5f",
             "gridcolor": "white",
             "linecolor": "white",
             "minorgridcolor": "white",
             "startlinecolor": "#2a3f5f"
            },
            "baxis": {
             "endlinecolor": "#2a3f5f",
             "gridcolor": "white",
             "linecolor": "white",
             "minorgridcolor": "white",
             "startlinecolor": "#2a3f5f"
            },
            "type": "carpet"
           }
          ],
          "choropleth": [
           {
            "colorbar": {
             "outlinewidth": 0,
             "ticks": ""
            },
            "type": "choropleth"
           }
          ],
          "contour": [
           {
            "colorbar": {
             "outlinewidth": 0,
             "ticks": ""
            },
            "colorscale": [
             [
              0,
              "#0d0887"
             ],
             [
              0.1111111111111111,
              "#46039f"
             ],
             [
              0.2222222222222222,
              "#7201a8"
             ],
             [
              0.3333333333333333,
              "#9c179e"
             ],
             [
              0.4444444444444444,
              "#bd3786"
             ],
             [
              0.5555555555555556,
              "#d8576b"
             ],
             [
              0.6666666666666666,
              "#ed7953"
             ],
             [
              0.7777777777777778,
              "#fb9f3a"
             ],
             [
              0.8888888888888888,
              "#fdca26"
             ],
             [
              1,
              "#f0f921"
             ]
            ],
            "type": "contour"
           }
          ],
          "contourcarpet": [
           {
            "colorbar": {
             "outlinewidth": 0,
             "ticks": ""
            },
            "type": "contourcarpet"
           }
          ],
          "heatmap": [
           {
            "colorbar": {
             "outlinewidth": 0,
             "ticks": ""
            },
            "colorscale": [
             [
              0,
              "#0d0887"
             ],
             [
              0.1111111111111111,
              "#46039f"
             ],
             [
              0.2222222222222222,
              "#7201a8"
             ],
             [
              0.3333333333333333,
              "#9c179e"
             ],
             [
              0.4444444444444444,
              "#bd3786"
             ],
             [
              0.5555555555555556,
              "#d8576b"
             ],
             [
              0.6666666666666666,
              "#ed7953"
             ],
             [
              0.7777777777777778,
              "#fb9f3a"
             ],
             [
              0.8888888888888888,
              "#fdca26"
             ],
             [
              1,
              "#f0f921"
             ]
            ],
            "type": "heatmap"
           }
          ],
          "heatmapgl": [
           {
            "colorbar": {
             "outlinewidth": 0,
             "ticks": ""
            },
            "colorscale": [
             [
              0,
              "#0d0887"
             ],
             [
              0.1111111111111111,
              "#46039f"
             ],
             [
              0.2222222222222222,
              "#7201a8"
             ],
             [
              0.3333333333333333,
              "#9c179e"
             ],
             [
              0.4444444444444444,
              "#bd3786"
             ],
             [
              0.5555555555555556,
              "#d8576b"
             ],
             [
              0.6666666666666666,
              "#ed7953"
             ],
             [
              0.7777777777777778,
              "#fb9f3a"
             ],
             [
              0.8888888888888888,
              "#fdca26"
             ],
             [
              1,
              "#f0f921"
             ]
            ],
            "type": "heatmapgl"
           }
          ],
          "histogram": [
           {
            "marker": {
             "pattern": {
              "fillmode": "overlay",
              "size": 10,
              "solidity": 0.2
             }
            },
            "type": "histogram"
           }
          ],
          "histogram2d": [
           {
            "colorbar": {
             "outlinewidth": 0,
             "ticks": ""
            },
            "colorscale": [
             [
              0,
              "#0d0887"
             ],
             [
              0.1111111111111111,
              "#46039f"
             ],
             [
              0.2222222222222222,
              "#7201a8"
             ],
             [
              0.3333333333333333,
              "#9c179e"
             ],
             [
              0.4444444444444444,
              "#bd3786"
             ],
             [
              0.5555555555555556,
              "#d8576b"
             ],
             [
              0.6666666666666666,
              "#ed7953"
             ],
             [
              0.7777777777777778,
              "#fb9f3a"
             ],
             [
              0.8888888888888888,
              "#fdca26"
             ],
             [
              1,
              "#f0f921"
             ]
            ],
            "type": "histogram2d"
           }
          ],
          "histogram2dcontour": [
           {
            "colorbar": {
             "outlinewidth": 0,
             "ticks": ""
            },
            "colorscale": [
             [
              0,
              "#0d0887"
             ],
             [
              0.1111111111111111,
              "#46039f"
             ],
             [
              0.2222222222222222,
              "#7201a8"
             ],
             [
              0.3333333333333333,
              "#9c179e"
             ],
             [
              0.4444444444444444,
              "#bd3786"
             ],
             [
              0.5555555555555556,
              "#d8576b"
             ],
             [
              0.6666666666666666,
              "#ed7953"
             ],
             [
              0.7777777777777778,
              "#fb9f3a"
             ],
             [
              0.8888888888888888,
              "#fdca26"
             ],
             [
              1,
              "#f0f921"
             ]
            ],
            "type": "histogram2dcontour"
           }
          ],
          "mesh3d": [
           {
            "colorbar": {
             "outlinewidth": 0,
             "ticks": ""
            },
            "type": "mesh3d"
           }
          ],
          "parcoords": [
           {
            "line": {
             "colorbar": {
              "outlinewidth": 0,
              "ticks": ""
             }
            },
            "type": "parcoords"
           }
          ],
          "pie": [
           {
            "automargin": true,
            "type": "pie"
           }
          ],
          "scatter": [
           {
            "fillpattern": {
             "fillmode": "overlay",
             "size": 10,
             "solidity": 0.2
            },
            "type": "scatter"
           }
          ],
          "scatter3d": [
           {
            "line": {
             "colorbar": {
              "outlinewidth": 0,
              "ticks": ""
             }
            },
            "marker": {
             "colorbar": {
              "outlinewidth": 0,
              "ticks": ""
             }
            },
            "type": "scatter3d"
           }
          ],
          "scattercarpet": [
           {
            "marker": {
             "colorbar": {
              "outlinewidth": 0,
              "ticks": ""
             }
            },
            "type": "scattercarpet"
           }
          ],
          "scattergeo": [
           {
            "marker": {
             "colorbar": {
              "outlinewidth": 0,
              "ticks": ""
             }
            },
            "type": "scattergeo"
           }
          ],
          "scattergl": [
           {
            "marker": {
             "colorbar": {
              "outlinewidth": 0,
              "ticks": ""
             }
            },
            "type": "scattergl"
           }
          ],
          "scattermapbox": [
           {
            "marker": {
             "colorbar": {
              "outlinewidth": 0,
              "ticks": ""
             }
            },
            "type": "scattermapbox"
           }
          ],
          "scatterpolar": [
           {
            "marker": {
             "colorbar": {
              "outlinewidth": 0,
              "ticks": ""
             }
            },
            "type": "scatterpolar"
           }
          ],
          "scatterpolargl": [
           {
            "marker": {
             "colorbar": {
              "outlinewidth": 0,
              "ticks": ""
             }
            },
            "type": "scatterpolargl"
           }
          ],
          "scatterternary": [
           {
            "marker": {
             "colorbar": {
              "outlinewidth": 0,
              "ticks": ""
             }
            },
            "type": "scatterternary"
           }
          ],
          "surface": [
           {
            "colorbar": {
             "outlinewidth": 0,
             "ticks": ""
            },
            "colorscale": [
             [
              0,
              "#0d0887"
             ],
             [
              0.1111111111111111,
              "#46039f"
             ],
             [
              0.2222222222222222,
              "#7201a8"
             ],
             [
              0.3333333333333333,
              "#9c179e"
             ],
             [
              0.4444444444444444,
              "#bd3786"
             ],
             [
              0.5555555555555556,
              "#d8576b"
             ],
             [
              0.6666666666666666,
              "#ed7953"
             ],
             [
              0.7777777777777778,
              "#fb9f3a"
             ],
             [
              0.8888888888888888,
              "#fdca26"
             ],
             [
              1,
              "#f0f921"
             ]
            ],
            "type": "surface"
           }
          ],
          "table": [
           {
            "cells": {
             "fill": {
              "color": "#EBF0F8"
             },
             "line": {
              "color": "white"
             }
            },
            "header": {
             "fill": {
              "color": "#C8D4E3"
             },
             "line": {
              "color": "white"
             }
            },
            "type": "table"
           }
          ]
         },
         "layout": {
          "annotationdefaults": {
           "arrowcolor": "#2a3f5f",
           "arrowhead": 0,
           "arrowwidth": 1
          },
          "autotypenumbers": "strict",
          "coloraxis": {
           "colorbar": {
            "outlinewidth": 0,
            "ticks": ""
           }
          },
          "colorscale": {
           "diverging": [
            [
             0,
             "#8e0152"
            ],
            [
             0.1,
             "#c51b7d"
            ],
            [
             0.2,
             "#de77ae"
            ],
            [
             0.3,
             "#f1b6da"
            ],
            [
             0.4,
             "#fde0ef"
            ],
            [
             0.5,
             "#f7f7f7"
            ],
            [
             0.6,
             "#e6f5d0"
            ],
            [
             0.7,
             "#b8e186"
            ],
            [
             0.8,
             "#7fbc41"
            ],
            [
             0.9,
             "#4d9221"
            ],
            [
             1,
             "#276419"
            ]
           ],
           "sequential": [
            [
             0,
             "#0d0887"
            ],
            [
             0.1111111111111111,
             "#46039f"
            ],
            [
             0.2222222222222222,
             "#7201a8"
            ],
            [
             0.3333333333333333,
             "#9c179e"
            ],
            [
             0.4444444444444444,
             "#bd3786"
            ],
            [
             0.5555555555555556,
             "#d8576b"
            ],
            [
             0.6666666666666666,
             "#ed7953"
            ],
            [
             0.7777777777777778,
             "#fb9f3a"
            ],
            [
             0.8888888888888888,
             "#fdca26"
            ],
            [
             1,
             "#f0f921"
            ]
           ],
           "sequentialminus": [
            [
             0,
             "#0d0887"
            ],
            [
             0.1111111111111111,
             "#46039f"
            ],
            [
             0.2222222222222222,
             "#7201a8"
            ],
            [
             0.3333333333333333,
             "#9c179e"
            ],
            [
             0.4444444444444444,
             "#bd3786"
            ],
            [
             0.5555555555555556,
             "#d8576b"
            ],
            [
             0.6666666666666666,
             "#ed7953"
            ],
            [
             0.7777777777777778,
             "#fb9f3a"
            ],
            [
             0.8888888888888888,
             "#fdca26"
            ],
            [
             1,
             "#f0f921"
            ]
           ]
          },
          "colorway": [
           "#636efa",
           "#EF553B",
           "#00cc96",
           "#ab63fa",
           "#FFA15A",
           "#19d3f3",
           "#FF6692",
           "#B6E880",
           "#FF97FF",
           "#FECB52"
          ],
          "font": {
           "color": "#2a3f5f"
          },
          "geo": {
           "bgcolor": "white",
           "lakecolor": "white",
           "landcolor": "#E5ECF6",
           "showlakes": true,
           "showland": true,
           "subunitcolor": "white"
          },
          "hoverlabel": {
           "align": "left"
          },
          "hovermode": "closest",
          "mapbox": {
           "style": "light"
          },
          "paper_bgcolor": "white",
          "plot_bgcolor": "#E5ECF6",
          "polar": {
           "angularaxis": {
            "gridcolor": "white",
            "linecolor": "white",
            "ticks": ""
           },
           "bgcolor": "#E5ECF6",
           "radialaxis": {
            "gridcolor": "white",
            "linecolor": "white",
            "ticks": ""
           }
          },
          "scene": {
           "xaxis": {
            "backgroundcolor": "#E5ECF6",
            "gridcolor": "white",
            "gridwidth": 2,
            "linecolor": "white",
            "showbackground": true,
            "ticks": "",
            "zerolinecolor": "white"
           },
           "yaxis": {
            "backgroundcolor": "#E5ECF6",
            "gridcolor": "white",
            "gridwidth": 2,
            "linecolor": "white",
            "showbackground": true,
            "ticks": "",
            "zerolinecolor": "white"
           },
           "zaxis": {
            "backgroundcolor": "#E5ECF6",
            "gridcolor": "white",
            "gridwidth": 2,
            "linecolor": "white",
            "showbackground": true,
            "ticks": "",
            "zerolinecolor": "white"
           }
          },
          "shapedefaults": {
           "line": {
            "color": "#2a3f5f"
           }
          },
          "ternary": {
           "aaxis": {
            "gridcolor": "white",
            "linecolor": "white",
            "ticks": ""
           },
           "baxis": {
            "gridcolor": "white",
            "linecolor": "white",
            "ticks": ""
           },
           "bgcolor": "#E5ECF6",
           "caxis": {
            "gridcolor": "white",
            "linecolor": "white",
            "ticks": ""
           }
          },
          "title": {
           "x": 0.05
          },
          "xaxis": {
           "automargin": true,
           "gridcolor": "white",
           "linecolor": "white",
           "ticks": "",
           "title": {
            "standoff": 15
           },
           "zerolinecolor": "white",
           "zerolinewidth": 2
          },
          "yaxis": {
           "automargin": true,
           "gridcolor": "white",
           "linecolor": "white",
           "ticks": "",
           "title": {
            "standoff": 15
           },
           "zerolinecolor": "white",
           "zerolinewidth": 2
          }
         }
        },
        "title": {
         "text": "Changes in Placement Types Over Time (End Year: 2024)"
        },
        "width": 1000
       }
      }
     },
     "metadata": {},
     "output_type": "display_data"
    }
   ],
   "source": [
    "def create_sankey(start_year, full_df):\n",
    "    # Get the latest year (excluding 2025)\n",
    "    latest_year = full_df[full_df['year'] != 2025]['year'].max()\n",
    "    \n",
    "    # Create nodes for both time periods\n",
    "    node_labels = [\n",
    "        f'Academic ({int(start_year)})', \n",
    "        f'Private Company ({int(start_year)})', \n",
    "        f'Government ({int(start_year)})',\n",
    "        f'Academic ({int(latest_year)})', \n",
    "        f'Private Company ({int(latest_year)})', \n",
    "        f'Government ({int(latest_year)})'\n",
    "    ]\n",
    "    \n",
    "    # Get data for start and latest years\n",
    "    start_data = full_df[full_df['year'] == start_year]\n",
    "    late_data = full_df[full_df['year'] == latest_year]\n",
    "    \n",
    "    # Create source-target pairs and values\n",
    "    sources = []\n",
    "    targets = []\n",
    "    values = []\n",
    "    \n",
    "    # For each start placement type\n",
    "    for i, start_type in enumerate(['academic', 'private_company', 'government']):\n",
    "        start_count = start_data[start_type].sum()\n",
    "        # Connect to each late placement type\n",
    "        for j, late_type in enumerate(['academic', 'private_company', 'government']):\n",
    "            late_count = late_data[late_type].sum()\n",
    "            \n",
    "            # Add to source-target pairs\n",
    "            sources.append(i)  # Start type index\n",
    "            targets.append(j + 3)  # Late type index (offset by 3)\n",
    "            \n",
    "            # Calculate proportional flow\n",
    "            if i == j:  # Same category gets larger weight\n",
    "                values.append(start_count * 0.6)\n",
    "            else:  # Different categories split remaining proportion\n",
    "                values.append(start_count * 0.2)\n",
    "    \n",
    "    return dict(\n",
    "        node = dict(\n",
    "            pad = 1, \n",
    "            thickness = 20,\n",
    "            line = dict(color = \"black\", width = 0.5),\n",
    "            label = node_labels,\n",
    "            color = [\"#1f77b4\", \"#ff7f0e\", \"#2ca02c\"] * 2  \n",
    "        ),\n",
    "        link = dict(\n",
    "            source = sources,\n",
    "            target = targets,\n",
    "            value = values,\n",
    "            color = [\"rgba(31, 119, 180, 0.4)\", \n",
    "                    \"rgba(255, 127, 14, 0.4)\", \n",
    "                    \"rgba(44, 160, 44, 0.4)\"] * 3 \n",
    "        )\n",
    "    )\n",
    "\n",
    "# Get all years except 2025 and the latest year\n",
    "available_years = sorted(full_df[\n",
    "    (full_df['year'] != 2025) & \n",
    "    (full_df['year'] != full_df[full_df['year'] != 2025]['year'].max())\n",
    "]['year'].unique())\n",
    "\n",
    "# Create frames for each year\n",
    "frames = [\n",
    "    go.Frame(\n",
    "        data=[go.Sankey(\n",
    "            **create_sankey(year, full_df)\n",
    "        )],\n",
    "        name=str(int(year))\n",
    "    )\n",
    "    for year in available_years\n",
    "]\n",
    "\n",
    "# Create initial figure\n",
    "initial_year = available_years[0]\n",
    "fig = go.Figure(\n",
    "    data=[go.Sankey(\n",
    "        **create_sankey(initial_year, full_df)\n",
    "    )],\n",
    "    frames=frames\n",
    ")\n",
    "\n",
    "# Add slider\n",
    "sliders = [dict(\n",
    "    active=0,\n",
    "    currentvalue={\"prefix\": \"Starting Year: \"},\n",
    "    pad={\"t\": 50},\n",
    "    steps=[dict(\n",
    "        label=str(int(year)),\n",
    "        method='animate',\n",
    "        args=[[str(int(year))], dict(\n",
    "            frame=dict(duration=300, redraw=True),\n",
    "            mode='immediate',\n",
    "            transition=dict(duration=300)\n",
    "        )]\n",
    "    ) for year in available_years]\n",
    ")]\n",
    "\n",
    "# Update layout\n",
    "fig.update_layout(\n",
    "    title_text=f\"Changes in Placement Types Over Time (End Year: {int(full_df[full_df['year'] != 2025]['year'].max())})\",\n",
    "    font_size=12,\n",
    "    height=600,\n",
    "    width=1000,\n",
    "    sliders=sliders\n",
    ")\n",
    "\n",
    "# Save to HTML file\n",
    "fig.write_html(\"../output/graphs/placement_liquid.html\")\n",
    "\n",
    "# Display the figure\n",
    "fig.show()"
   ]
  },
  {
   "cell_type": "markdown",
   "metadata": {},
   "source": [
    "## 6. Trend in Mobility in placement by ranking\n"
   ]
  },
  {
   "cell_type": "code",
   "execution_count": 9,
   "metadata": {},
   "outputs": [
    {
     "data": {
      "application/vnd.plotly.v1+json": {
       "config": {
        "plotlyServerURL": "https://plot.ly"
       },
       "data": [
        {
         "link": {
          "color": [
           "rgba(227, 242, 253, 0.4)",
           "rgba(227, 242, 253, 0.4)",
           "rgba(227, 242, 253, 0.4)",
           "rgba(144, 202, 249, 0.4)",
           "rgba(144, 202, 249, 0.4)",
           "rgba(144, 202, 249, 0.4)",
           "rgba(30, 136, 229, 0.4)",
           "rgba(30, 136, 229, 0.4)",
           "rgba(30, 136, 229, 0.4)",
           "rgba(13, 71, 161, 0.4)",
           "rgba(13, 71, 161, 0.4)",
           "rgba(13, 71, 161, 0.4)"
          ],
          "source": [
           0,
           0,
           0,
           1,
           1,
           1,
           2,
           2,
           2,
           3,
           3,
           3
          ],
          "target": [
           4,
           5,
           6,
           4,
           5,
           6,
           4,
           5,
           6,
           4,
           5,
           6
          ],
          "value": [
           10.4,
           7.8,
           7.8,
           7,
           6.5,
           6.5,
           6.6499999999999995,
           6.6499999999999995,
           5.7,
           8.4,
           8.4,
           11.200000000000001
          ]
         },
         "node": {
          "color": [
           "#E3F2FD",
           "#90CAF9",
           "#1E88E5",
           "#0D47A1",
           "#17becf",
           "#e377c2",
           "#bcbd22"
          ],
          "label": [
           "Rank 1-5 (2005)",
           "Rank 6-10 (2005)",
           "Rank 11-15 (2005)",
           "Rank 16+ (2005)",
           "Academic (2024)",
           "Government (2024)",
           "Private_company (2024)"
          ],
          "line": {
           "color": "black",
           "width": 0.5
          },
          "pad": 1,
          "thickness": 20
         },
         "type": "sankey"
        }
       ],
       "frames": [
        {
         "data": [
          {
           "link": {
            "color": [
             "rgba(227, 242, 253, 0.4)",
             "rgba(227, 242, 253, 0.4)",
             "rgba(227, 242, 253, 0.4)",
             "rgba(144, 202, 249, 0.4)",
             "rgba(144, 202, 249, 0.4)",
             "rgba(144, 202, 249, 0.4)",
             "rgba(30, 136, 229, 0.4)",
             "rgba(30, 136, 229, 0.4)",
             "rgba(30, 136, 229, 0.4)",
             "rgba(13, 71, 161, 0.4)",
             "rgba(13, 71, 161, 0.4)",
             "rgba(13, 71, 161, 0.4)"
            ],
            "source": [
             0,
             0,
             0,
             1,
             1,
             1,
             2,
             2,
             2,
             3,
             3,
             3
            ],
            "target": [
             4,
             5,
             6,
             4,
             5,
             6,
             4,
             5,
             6,
             4,
             5,
             6
            ],
            "value": [
             10.4,
             7.8,
             7.8,
             7,
             6.5,
             6.5,
             6.6499999999999995,
             6.6499999999999995,
             5.7,
             8.4,
             8.4,
             11.200000000000001
            ]
           },
           "node": {
            "color": [
             "#E3F2FD",
             "#90CAF9",
             "#1E88E5",
             "#0D47A1",
             "#17becf",
             "#e377c2",
             "#bcbd22"
            ],
            "label": [
             "Rank 1-5 (2005)",
             "Rank 6-10 (2005)",
             "Rank 11-15 (2005)",
             "Rank 16+ (2005)",
             "Academic (2024)",
             "Government (2024)",
             "Private_company (2024)"
            ],
            "line": {
             "color": "black",
             "width": 0.5
            },
            "pad": 1,
            "thickness": 20
           },
           "type": "sankey"
          }
         ],
         "name": "2005"
        },
        {
         "data": [
          {
           "link": {
            "color": [
             "rgba(227, 242, 253, 0.4)",
             "rgba(227, 242, 253, 0.4)",
             "rgba(227, 242, 253, 0.4)",
             "rgba(144, 202, 249, 0.4)",
             "rgba(144, 202, 249, 0.4)",
             "rgba(144, 202, 249, 0.4)",
             "rgba(30, 136, 229, 0.4)",
             "rgba(30, 136, 229, 0.4)",
             "rgba(30, 136, 229, 0.4)",
             "rgba(13, 71, 161, 0.4)",
             "rgba(13, 71, 161, 0.4)",
             "rgba(13, 71, 161, 0.4)"
            ],
            "source": [
             0,
             0,
             0,
             1,
             1,
             1,
             2,
             2,
             2,
             3,
             3,
             3
            ],
            "target": [
             4,
             5,
             6,
             4,
             5,
             6,
             4,
             5,
             6,
             4,
             5,
             6
            ],
            "value": [
             11.600000000000001,
             8.7,
             8.7,
             7,
             6.5,
             6.5,
             8.75,
             8.75,
             7.5,
             7.199999999999999,
             7.199999999999999,
             9.600000000000001
            ]
           },
           "node": {
            "color": [
             "#E3F2FD",
             "#90CAF9",
             "#1E88E5",
             "#0D47A1",
             "#17becf",
             "#e377c2",
             "#bcbd22"
            ],
            "label": [
             "Rank 1-5 (2006)",
             "Rank 6-10 (2006)",
             "Rank 11-15 (2006)",
             "Rank 16+ (2006)",
             "Academic (2024)",
             "Government (2024)",
             "Private_company (2024)"
            ],
            "line": {
             "color": "black",
             "width": 0.5
            },
            "pad": 1,
            "thickness": 20
           },
           "type": "sankey"
          }
         ],
         "name": "2006"
        },
        {
         "data": [
          {
           "link": {
            "color": [
             "rgba(227, 242, 253, 0.4)",
             "rgba(227, 242, 253, 0.4)",
             "rgba(227, 242, 253, 0.4)",
             "rgba(144, 202, 249, 0.4)",
             "rgba(144, 202, 249, 0.4)",
             "rgba(144, 202, 249, 0.4)",
             "rgba(30, 136, 229, 0.4)",
             "rgba(30, 136, 229, 0.4)",
             "rgba(30, 136, 229, 0.4)",
             "rgba(13, 71, 161, 0.4)",
             "rgba(13, 71, 161, 0.4)",
             "rgba(13, 71, 161, 0.4)"
            ],
            "source": [
             0,
             0,
             0,
             1,
             1,
             1,
             2,
             2,
             2,
             3,
             3,
             3
            ],
            "target": [
             4,
             5,
             6,
             4,
             5,
             6,
             4,
             5,
             6,
             4,
             5,
             6
            ],
            "value": [
             12,
             9,
             9,
             4.8999999999999995,
             4.55,
             4.55,
             7,
             7,
             6,
             6.8999999999999995,
             6.8999999999999995,
             9.200000000000001
            ]
           },
           "node": {
            "color": [
             "#E3F2FD",
             "#90CAF9",
             "#1E88E5",
             "#0D47A1",
             "#17becf",
             "#e377c2",
             "#bcbd22"
            ],
            "label": [
             "Rank 1-5 (2007)",
             "Rank 6-10 (2007)",
             "Rank 11-15 (2007)",
             "Rank 16+ (2007)",
             "Academic (2024)",
             "Government (2024)",
             "Private_company (2024)"
            ],
            "line": {
             "color": "black",
             "width": 0.5
            },
            "pad": 1,
            "thickness": 20
           },
           "type": "sankey"
          }
         ],
         "name": "2007"
        },
        {
         "data": [
          {
           "link": {
            "color": [
             "rgba(227, 242, 253, 0.4)",
             "rgba(227, 242, 253, 0.4)",
             "rgba(227, 242, 253, 0.4)",
             "rgba(144, 202, 249, 0.4)",
             "rgba(144, 202, 249, 0.4)",
             "rgba(144, 202, 249, 0.4)",
             "rgba(30, 136, 229, 0.4)",
             "rgba(30, 136, 229, 0.4)",
             "rgba(30, 136, 229, 0.4)",
             "rgba(13, 71, 161, 0.4)",
             "rgba(13, 71, 161, 0.4)",
             "rgba(13, 71, 161, 0.4)"
            ],
            "source": [
             0,
             0,
             0,
             1,
             1,
             1,
             2,
             2,
             2,
             3,
             3,
             3
            ],
            "target": [
             4,
             5,
             6,
             4,
             5,
             6,
             4,
             5,
             6,
             4,
             5,
             6
            ],
            "value": [
             12.4,
             9.299999999999999,
             9.299999999999999,
             3.15,
             2.9250000000000003,
             2.9250000000000003,
             9.45,
             9.45,
             8.1,
             7.199999999999999,
             7.199999999999999,
             9.600000000000001
            ]
           },
           "node": {
            "color": [
             "#E3F2FD",
             "#90CAF9",
             "#1E88E5",
             "#0D47A1",
             "#17becf",
             "#e377c2",
             "#bcbd22"
            ],
            "label": [
             "Rank 1-5 (2008)",
             "Rank 6-10 (2008)",
             "Rank 11-15 (2008)",
             "Rank 16+ (2008)",
             "Academic (2024)",
             "Government (2024)",
             "Private_company (2024)"
            ],
            "line": {
             "color": "black",
             "width": 0.5
            },
            "pad": 1,
            "thickness": 20
           },
           "type": "sankey"
          }
         ],
         "name": "2008"
        },
        {
         "data": [
          {
           "link": {
            "color": [
             "rgba(227, 242, 253, 0.4)",
             "rgba(227, 242, 253, 0.4)",
             "rgba(227, 242, 253, 0.4)",
             "rgba(144, 202, 249, 0.4)",
             "rgba(144, 202, 249, 0.4)",
             "rgba(144, 202, 249, 0.4)",
             "rgba(30, 136, 229, 0.4)",
             "rgba(30, 136, 229, 0.4)",
             "rgba(30, 136, 229, 0.4)",
             "rgba(13, 71, 161, 0.4)",
             "rgba(13, 71, 161, 0.4)",
             "rgba(13, 71, 161, 0.4)"
            ],
            "source": [
             0,
             0,
             0,
             1,
             1,
             1,
             2,
             2,
             2,
             3,
             3,
             3
            ],
            "target": [
             4,
             5,
             6,
             4,
             5,
             6,
             4,
             5,
             6,
             4,
             5,
             6
            ],
            "value": [
             15.200000000000001,
             11.4,
             11.4,
             6.6499999999999995,
             6.175,
             6.175,
             7.699999999999999,
             7.699999999999999,
             6.6,
             8.4,
             8.4,
             11.200000000000001
            ]
           },
           "node": {
            "color": [
             "#E3F2FD",
             "#90CAF9",
             "#1E88E5",
             "#0D47A1",
             "#17becf",
             "#e377c2",
             "#bcbd22"
            ],
            "label": [
             "Rank 1-5 (2009)",
             "Rank 6-10 (2009)",
             "Rank 11-15 (2009)",
             "Rank 16+ (2009)",
             "Academic (2024)",
             "Government (2024)",
             "Private_company (2024)"
            ],
            "line": {
             "color": "black",
             "width": 0.5
            },
            "pad": 1,
            "thickness": 20
           },
           "type": "sankey"
          }
         ],
         "name": "2009"
        },
        {
         "data": [
          {
           "link": {
            "color": [
             "rgba(227, 242, 253, 0.4)",
             "rgba(227, 242, 253, 0.4)",
             "rgba(227, 242, 253, 0.4)",
             "rgba(144, 202, 249, 0.4)",
             "rgba(144, 202, 249, 0.4)",
             "rgba(144, 202, 249, 0.4)",
             "rgba(30, 136, 229, 0.4)",
             "rgba(30, 136, 229, 0.4)",
             "rgba(30, 136, 229, 0.4)",
             "rgba(13, 71, 161, 0.4)",
             "rgba(13, 71, 161, 0.4)",
             "rgba(13, 71, 161, 0.4)"
            ],
            "source": [
             0,
             0,
             0,
             1,
             1,
             1,
             2,
             2,
             2,
             3,
             3,
             3
            ],
            "target": [
             4,
             5,
             6,
             4,
             5,
             6,
             4,
             5,
             6,
             4,
             5,
             6
            ],
            "value": [
             10.4,
             7.8,
             7.8,
             5.949999999999999,
             5.525,
             5.525,
             8.049999999999999,
             8.049999999999999,
             6.8999999999999995,
             10.5,
             10.5,
             14
            ]
           },
           "node": {
            "color": [
             "#E3F2FD",
             "#90CAF9",
             "#1E88E5",
             "#0D47A1",
             "#17becf",
             "#e377c2",
             "#bcbd22"
            ],
            "label": [
             "Rank 1-5 (2010)",
             "Rank 6-10 (2010)",
             "Rank 11-15 (2010)",
             "Rank 16+ (2010)",
             "Academic (2024)",
             "Government (2024)",
             "Private_company (2024)"
            ],
            "line": {
             "color": "black",
             "width": 0.5
            },
            "pad": 1,
            "thickness": 20
           },
           "type": "sankey"
          }
         ],
         "name": "2010"
        },
        {
         "data": [
          {
           "link": {
            "color": [
             "rgba(227, 242, 253, 0.4)",
             "rgba(227, 242, 253, 0.4)",
             "rgba(227, 242, 253, 0.4)",
             "rgba(144, 202, 249, 0.4)",
             "rgba(144, 202, 249, 0.4)",
             "rgba(144, 202, 249, 0.4)",
             "rgba(30, 136, 229, 0.4)",
             "rgba(30, 136, 229, 0.4)",
             "rgba(30, 136, 229, 0.4)",
             "rgba(13, 71, 161, 0.4)",
             "rgba(13, 71, 161, 0.4)",
             "rgba(13, 71, 161, 0.4)"
            ],
            "source": [
             0,
             0,
             0,
             1,
             1,
             1,
             2,
             2,
             2,
             3,
             3,
             3
            ],
            "target": [
             4,
             5,
             6,
             4,
             5,
             6,
             4,
             5,
             6,
             4,
             5,
             6
            ],
            "value": [
             15.600000000000001,
             11.7,
             11.7,
             9.799999999999999,
             9.1,
             9.1,
             13.299999999999999,
             13.299999999999999,
             11.4,
             12,
             12,
             16
            ]
           },
           "node": {
            "color": [
             "#E3F2FD",
             "#90CAF9",
             "#1E88E5",
             "#0D47A1",
             "#17becf",
             "#e377c2",
             "#bcbd22"
            ],
            "label": [
             "Rank 1-5 (2011)",
             "Rank 6-10 (2011)",
             "Rank 11-15 (2011)",
             "Rank 16+ (2011)",
             "Academic (2024)",
             "Government (2024)",
             "Private_company (2024)"
            ],
            "line": {
             "color": "black",
             "width": 0.5
            },
            "pad": 1,
            "thickness": 20
           },
           "type": "sankey"
          }
         ],
         "name": "2011"
        },
        {
         "data": [
          {
           "link": {
            "color": [
             "rgba(227, 242, 253, 0.4)",
             "rgba(227, 242, 253, 0.4)",
             "rgba(227, 242, 253, 0.4)",
             "rgba(144, 202, 249, 0.4)",
             "rgba(144, 202, 249, 0.4)",
             "rgba(144, 202, 249, 0.4)",
             "rgba(30, 136, 229, 0.4)",
             "rgba(30, 136, 229, 0.4)",
             "rgba(30, 136, 229, 0.4)",
             "rgba(13, 71, 161, 0.4)",
             "rgba(13, 71, 161, 0.4)",
             "rgba(13, 71, 161, 0.4)"
            ],
            "source": [
             0,
             0,
             0,
             1,
             1,
             1,
             2,
             2,
             2,
             3,
             3,
             3
            ],
            "target": [
             4,
             5,
             6,
             4,
             5,
             6,
             4,
             5,
             6,
             4,
             5,
             6
            ],
            "value": [
             14,
             10.5,
             10.5,
             11.899999999999999,
             11.05,
             11.05,
             8.399999999999999,
             8.399999999999999,
             7.199999999999999,
             12.299999999999999,
             12.299999999999999,
             16.400000000000002
            ]
           },
           "node": {
            "color": [
             "#E3F2FD",
             "#90CAF9",
             "#1E88E5",
             "#0D47A1",
             "#17becf",
             "#e377c2",
             "#bcbd22"
            ],
            "label": [
             "Rank 1-5 (2012)",
             "Rank 6-10 (2012)",
             "Rank 11-15 (2012)",
             "Rank 16+ (2012)",
             "Academic (2024)",
             "Government (2024)",
             "Private_company (2024)"
            ],
            "line": {
             "color": "black",
             "width": 0.5
            },
            "pad": 1,
            "thickness": 20
           },
           "type": "sankey"
          }
         ],
         "name": "2012"
        },
        {
         "data": [
          {
           "link": {
            "color": [
             "rgba(227, 242, 253, 0.4)",
             "rgba(227, 242, 253, 0.4)",
             "rgba(227, 242, 253, 0.4)",
             "rgba(144, 202, 249, 0.4)",
             "rgba(144, 202, 249, 0.4)",
             "rgba(144, 202, 249, 0.4)",
             "rgba(30, 136, 229, 0.4)",
             "rgba(30, 136, 229, 0.4)",
             "rgba(30, 136, 229, 0.4)",
             "rgba(13, 71, 161, 0.4)",
             "rgba(13, 71, 161, 0.4)",
             "rgba(13, 71, 161, 0.4)"
            ],
            "source": [
             0,
             0,
             0,
             1,
             1,
             1,
             2,
             2,
             2,
             3,
             3,
             3
            ],
            "target": [
             4,
             5,
             6,
             4,
             5,
             6,
             4,
             5,
             6,
             4,
             5,
             6
            ],
            "value": [
             16.8,
             12.6,
             12.6,
             12.6,
             11.700000000000001,
             11.700000000000001,
             10.85,
             10.85,
             9.299999999999999,
             10.2,
             10.2,
             13.600000000000001
            ]
           },
           "node": {
            "color": [
             "#E3F2FD",
             "#90CAF9",
             "#1E88E5",
             "#0D47A1",
             "#17becf",
             "#e377c2",
             "#bcbd22"
            ],
            "label": [
             "Rank 1-5 (2013)",
             "Rank 6-10 (2013)",
             "Rank 11-15 (2013)",
             "Rank 16+ (2013)",
             "Academic (2024)",
             "Government (2024)",
             "Private_company (2024)"
            ],
            "line": {
             "color": "black",
             "width": 0.5
            },
            "pad": 1,
            "thickness": 20
           },
           "type": "sankey"
          }
         ],
         "name": "2013"
        },
        {
         "data": [
          {
           "link": {
            "color": [
             "rgba(227, 242, 253, 0.4)",
             "rgba(227, 242, 253, 0.4)",
             "rgba(227, 242, 253, 0.4)",
             "rgba(144, 202, 249, 0.4)",
             "rgba(144, 202, 249, 0.4)",
             "rgba(144, 202, 249, 0.4)",
             "rgba(30, 136, 229, 0.4)",
             "rgba(30, 136, 229, 0.4)",
             "rgba(30, 136, 229, 0.4)",
             "rgba(13, 71, 161, 0.4)",
             "rgba(13, 71, 161, 0.4)",
             "rgba(13, 71, 161, 0.4)"
            ],
            "source": [
             0,
             0,
             0,
             1,
             1,
             1,
             2,
             2,
             2,
             3,
             3,
             3
            ],
            "target": [
             4,
             5,
             6,
             4,
             5,
             6,
             4,
             5,
             6,
             4,
             5,
             6
            ],
            "value": [
             19.200000000000003,
             14.399999999999999,
             14.399999999999999,
             19.95,
             18.525000000000002,
             18.525000000000002,
             11.549999999999999,
             11.549999999999999,
             9.9,
             10.799999999999999,
             10.799999999999999,
             14.4
            ]
           },
           "node": {
            "color": [
             "#E3F2FD",
             "#90CAF9",
             "#1E88E5",
             "#0D47A1",
             "#17becf",
             "#e377c2",
             "#bcbd22"
            ],
            "label": [
             "Rank 1-5 (2014)",
             "Rank 6-10 (2014)",
             "Rank 11-15 (2014)",
             "Rank 16+ (2014)",
             "Academic (2024)",
             "Government (2024)",
             "Private_company (2024)"
            ],
            "line": {
             "color": "black",
             "width": 0.5
            },
            "pad": 1,
            "thickness": 20
           },
           "type": "sankey"
          }
         ],
         "name": "2014"
        },
        {
         "data": [
          {
           "link": {
            "color": [
             "rgba(227, 242, 253, 0.4)",
             "rgba(227, 242, 253, 0.4)",
             "rgba(227, 242, 253, 0.4)",
             "rgba(144, 202, 249, 0.4)",
             "rgba(144, 202, 249, 0.4)",
             "rgba(144, 202, 249, 0.4)",
             "rgba(30, 136, 229, 0.4)",
             "rgba(30, 136, 229, 0.4)",
             "rgba(30, 136, 229, 0.4)",
             "rgba(13, 71, 161, 0.4)",
             "rgba(13, 71, 161, 0.4)",
             "rgba(13, 71, 161, 0.4)"
            ],
            "source": [
             0,
             0,
             0,
             1,
             1,
             1,
             2,
             2,
             2,
             3,
             3,
             3
            ],
            "target": [
             4,
             5,
             6,
             4,
             5,
             6,
             4,
             5,
             6,
             4,
             5,
             6
            ],
            "value": [
             18,
             13.5,
             13.5,
             15.399999999999999,
             14.3,
             14.3,
             17.5,
             17.5,
             15,
             11.1,
             11.1,
             14.8
            ]
           },
           "node": {
            "color": [
             "#E3F2FD",
             "#90CAF9",
             "#1E88E5",
             "#0D47A1",
             "#17becf",
             "#e377c2",
             "#bcbd22"
            ],
            "label": [
             "Rank 1-5 (2015)",
             "Rank 6-10 (2015)",
             "Rank 11-15 (2015)",
             "Rank 16+ (2015)",
             "Academic (2024)",
             "Government (2024)",
             "Private_company (2024)"
            ],
            "line": {
             "color": "black",
             "width": 0.5
            },
            "pad": 1,
            "thickness": 20
           },
           "type": "sankey"
          }
         ],
         "name": "2015"
        },
        {
         "data": [
          {
           "link": {
            "color": [
             "rgba(227, 242, 253, 0.4)",
             "rgba(227, 242, 253, 0.4)",
             "rgba(227, 242, 253, 0.4)",
             "rgba(144, 202, 249, 0.4)",
             "rgba(144, 202, 249, 0.4)",
             "rgba(144, 202, 249, 0.4)",
             "rgba(30, 136, 229, 0.4)",
             "rgba(30, 136, 229, 0.4)",
             "rgba(30, 136, 229, 0.4)",
             "rgba(13, 71, 161, 0.4)",
             "rgba(13, 71, 161, 0.4)",
             "rgba(13, 71, 161, 0.4)"
            ],
            "source": [
             0,
             0,
             0,
             1,
             1,
             1,
             2,
             2,
             2,
             3,
             3,
             3
            ],
            "target": [
             4,
             5,
             6,
             4,
             5,
             6,
             4,
             5,
             6,
             4,
             5,
             6
            ],
            "value": [
             28,
             21,
             21,
             17.5,
             16.25,
             16.25,
             19.599999999999998,
             19.599999999999998,
             16.8,
             19.2,
             19.2,
             25.6
            ]
           },
           "node": {
            "color": [
             "#E3F2FD",
             "#90CAF9",
             "#1E88E5",
             "#0D47A1",
             "#17becf",
             "#e377c2",
             "#bcbd22"
            ],
            "label": [
             "Rank 1-5 (2016)",
             "Rank 6-10 (2016)",
             "Rank 11-15 (2016)",
             "Rank 16+ (2016)",
             "Academic (2024)",
             "Government (2024)",
             "Private_company (2024)"
            ],
            "line": {
             "color": "black",
             "width": 0.5
            },
            "pad": 1,
            "thickness": 20
           },
           "type": "sankey"
          }
         ],
         "name": "2016"
        },
        {
         "data": [
          {
           "link": {
            "color": [
             "rgba(227, 242, 253, 0.4)",
             "rgba(227, 242, 253, 0.4)",
             "rgba(227, 242, 253, 0.4)",
             "rgba(144, 202, 249, 0.4)",
             "rgba(144, 202, 249, 0.4)",
             "rgba(144, 202, 249, 0.4)",
             "rgba(30, 136, 229, 0.4)",
             "rgba(30, 136, 229, 0.4)",
             "rgba(30, 136, 229, 0.4)",
             "rgba(13, 71, 161, 0.4)",
             "rgba(13, 71, 161, 0.4)",
             "rgba(13, 71, 161, 0.4)"
            ],
            "source": [
             0,
             0,
             0,
             1,
             1,
             1,
             2,
             2,
             2,
             3,
             3,
             3
            ],
            "target": [
             4,
             5,
             6,
             4,
             5,
             6,
             4,
             5,
             6,
             4,
             5,
             6
            ],
            "value": [
             18,
             13.5,
             13.5,
             13.299999999999999,
             12.35,
             12.35,
             20.299999999999997,
             20.299999999999997,
             17.4,
             15.899999999999999,
             15.899999999999999,
             21.200000000000003
            ]
           },
           "node": {
            "color": [
             "#E3F2FD",
             "#90CAF9",
             "#1E88E5",
             "#0D47A1",
             "#17becf",
             "#e377c2",
             "#bcbd22"
            ],
            "label": [
             "Rank 1-5 (2017)",
             "Rank 6-10 (2017)",
             "Rank 11-15 (2017)",
             "Rank 16+ (2017)",
             "Academic (2024)",
             "Government (2024)",
             "Private_company (2024)"
            ],
            "line": {
             "color": "black",
             "width": 0.5
            },
            "pad": 1,
            "thickness": 20
           },
           "type": "sankey"
          }
         ],
         "name": "2017"
        },
        {
         "data": [
          {
           "link": {
            "color": [
             "rgba(227, 242, 253, 0.4)",
             "rgba(227, 242, 253, 0.4)",
             "rgba(227, 242, 253, 0.4)",
             "rgba(144, 202, 249, 0.4)",
             "rgba(144, 202, 249, 0.4)",
             "rgba(144, 202, 249, 0.4)",
             "rgba(30, 136, 229, 0.4)",
             "rgba(30, 136, 229, 0.4)",
             "rgba(30, 136, 229, 0.4)",
             "rgba(13, 71, 161, 0.4)",
             "rgba(13, 71, 161, 0.4)",
             "rgba(13, 71, 161, 0.4)"
            ],
            "source": [
             0,
             0,
             0,
             1,
             1,
             1,
             2,
             2,
             2,
             3,
             3,
             3
            ],
            "target": [
             4,
             5,
             6,
             4,
             5,
             6,
             4,
             5,
             6,
             4,
             5,
             6
            ],
            "value": [
             20.400000000000002,
             15.299999999999999,
             15.299999999999999,
             17.15,
             15.925,
             15.925,
             14.7,
             14.7,
             12.6,
             16.5,
             16.5,
             22
            ]
           },
           "node": {
            "color": [
             "#E3F2FD",
             "#90CAF9",
             "#1E88E5",
             "#0D47A1",
             "#17becf",
             "#e377c2",
             "#bcbd22"
            ],
            "label": [
             "Rank 1-5 (2018)",
             "Rank 6-10 (2018)",
             "Rank 11-15 (2018)",
             "Rank 16+ (2018)",
             "Academic (2024)",
             "Government (2024)",
             "Private_company (2024)"
            ],
            "line": {
             "color": "black",
             "width": 0.5
            },
            "pad": 1,
            "thickness": 20
           },
           "type": "sankey"
          }
         ],
         "name": "2018"
        },
        {
         "data": [
          {
           "link": {
            "color": [
             "rgba(227, 242, 253, 0.4)",
             "rgba(227, 242, 253, 0.4)",
             "rgba(227, 242, 253, 0.4)",
             "rgba(144, 202, 249, 0.4)",
             "rgba(144, 202, 249, 0.4)",
             "rgba(144, 202, 249, 0.4)",
             "rgba(30, 136, 229, 0.4)",
             "rgba(30, 136, 229, 0.4)",
             "rgba(30, 136, 229, 0.4)",
             "rgba(13, 71, 161, 0.4)",
             "rgba(13, 71, 161, 0.4)",
             "rgba(13, 71, 161, 0.4)"
            ],
            "source": [
             0,
             0,
             0,
             1,
             1,
             1,
             2,
             2,
             2,
             3,
             3,
             3
            ],
            "target": [
             4,
             5,
             6,
             4,
             5,
             6,
             4,
             5,
             6,
             4,
             5,
             6
            ],
            "value": [
             20,
             15,
             15,
             10.85,
             10.075000000000001,
             10.075000000000001,
             13.649999999999999,
             13.649999999999999,
             11.7,
             15.6,
             15.6,
             20.8
            ]
           },
           "node": {
            "color": [
             "#E3F2FD",
             "#90CAF9",
             "#1E88E5",
             "#0D47A1",
             "#17becf",
             "#e377c2",
             "#bcbd22"
            ],
            "label": [
             "Rank 1-5 (2019)",
             "Rank 6-10 (2019)",
             "Rank 11-15 (2019)",
             "Rank 16+ (2019)",
             "Academic (2024)",
             "Government (2024)",
             "Private_company (2024)"
            ],
            "line": {
             "color": "black",
             "width": 0.5
            },
            "pad": 1,
            "thickness": 20
           },
           "type": "sankey"
          }
         ],
         "name": "2019"
        },
        {
         "data": [
          {
           "link": {
            "color": [
             "rgba(227, 242, 253, 0.4)",
             "rgba(227, 242, 253, 0.4)",
             "rgba(227, 242, 253, 0.4)",
             "rgba(144, 202, 249, 0.4)",
             "rgba(144, 202, 249, 0.4)",
             "rgba(144, 202, 249, 0.4)",
             "rgba(30, 136, 229, 0.4)",
             "rgba(30, 136, 229, 0.4)",
             "rgba(30, 136, 229, 0.4)",
             "rgba(13, 71, 161, 0.4)",
             "rgba(13, 71, 161, 0.4)",
             "rgba(13, 71, 161, 0.4)"
            ],
            "source": [
             0,
             0,
             0,
             1,
             1,
             1,
             2,
             2,
             2,
             3,
             3,
             3
            ],
            "target": [
             4,
             5,
             6,
             4,
             5,
             6,
             4,
             5,
             6,
             4,
             5,
             6
            ],
            "value": [
             14,
             10.5,
             10.5,
             21.7,
             20.150000000000002,
             20.150000000000002,
             17.849999999999998,
             17.849999999999998,
             15.299999999999999,
             13.2,
             13.2,
             17.6
            ]
           },
           "node": {
            "color": [
             "#E3F2FD",
             "#90CAF9",
             "#1E88E5",
             "#0D47A1",
             "#17becf",
             "#e377c2",
             "#bcbd22"
            ],
            "label": [
             "Rank 1-5 (2020)",
             "Rank 6-10 (2020)",
             "Rank 11-15 (2020)",
             "Rank 16+ (2020)",
             "Academic (2024)",
             "Government (2024)",
             "Private_company (2024)"
            ],
            "line": {
             "color": "black",
             "width": 0.5
            },
            "pad": 1,
            "thickness": 20
           },
           "type": "sankey"
          }
         ],
         "name": "2020"
        },
        {
         "data": [
          {
           "link": {
            "color": [
             "rgba(227, 242, 253, 0.4)",
             "rgba(227, 242, 253, 0.4)",
             "rgba(227, 242, 253, 0.4)",
             "rgba(144, 202, 249, 0.4)",
             "rgba(144, 202, 249, 0.4)",
             "rgba(144, 202, 249, 0.4)",
             "rgba(30, 136, 229, 0.4)",
             "rgba(30, 136, 229, 0.4)",
             "rgba(30, 136, 229, 0.4)",
             "rgba(13, 71, 161, 0.4)",
             "rgba(13, 71, 161, 0.4)",
             "rgba(13, 71, 161, 0.4)"
            ],
            "source": [
             0,
             0,
             0,
             1,
             1,
             1,
             2,
             2,
             2,
             3,
             3,
             3
            ],
            "target": [
             4,
             5,
             6,
             4,
             5,
             6,
             4,
             5,
             6,
             4,
             5,
             6
            ],
            "value": [
             20.8,
             15.6,
             15.6,
             11.2,
             10.4,
             10.4,
             11.899999999999999,
             11.899999999999999,
             10.2,
             19.2,
             19.2,
             25.6
            ]
           },
           "node": {
            "color": [
             "#E3F2FD",
             "#90CAF9",
             "#1E88E5",
             "#0D47A1",
             "#17becf",
             "#e377c2",
             "#bcbd22"
            ],
            "label": [
             "Rank 1-5 (2021)",
             "Rank 6-10 (2021)",
             "Rank 11-15 (2021)",
             "Rank 16+ (2021)",
             "Academic (2024)",
             "Government (2024)",
             "Private_company (2024)"
            ],
            "line": {
             "color": "black",
             "width": 0.5
            },
            "pad": 1,
            "thickness": 20
           },
           "type": "sankey"
          }
         ],
         "name": "2021"
        },
        {
         "data": [
          {
           "link": {
            "color": [
             "rgba(227, 242, 253, 0.4)",
             "rgba(227, 242, 253, 0.4)",
             "rgba(227, 242, 253, 0.4)",
             "rgba(144, 202, 249, 0.4)",
             "rgba(144, 202, 249, 0.4)",
             "rgba(144, 202, 249, 0.4)",
             "rgba(30, 136, 229, 0.4)",
             "rgba(30, 136, 229, 0.4)",
             "rgba(30, 136, 229, 0.4)",
             "rgba(13, 71, 161, 0.4)",
             "rgba(13, 71, 161, 0.4)",
             "rgba(13, 71, 161, 0.4)"
            ],
            "source": [
             0,
             0,
             0,
             1,
             1,
             1,
             2,
             2,
             2,
             3,
             3,
             3
            ],
            "target": [
             4,
             5,
             6,
             4,
             5,
             6,
             4,
             5,
             6,
             4,
             5,
             6
            ],
            "value": [
             18,
             13.5,
             13.5,
             18.9,
             17.55,
             17.55,
             16.799999999999997,
             16.799999999999997,
             14.399999999999999,
             18.9,
             18.9,
             25.200000000000003
            ]
           },
           "node": {
            "color": [
             "#E3F2FD",
             "#90CAF9",
             "#1E88E5",
             "#0D47A1",
             "#17becf",
             "#e377c2",
             "#bcbd22"
            ],
            "label": [
             "Rank 1-5 (2022)",
             "Rank 6-10 (2022)",
             "Rank 11-15 (2022)",
             "Rank 16+ (2022)",
             "Academic (2024)",
             "Government (2024)",
             "Private_company (2024)"
            ],
            "line": {
             "color": "black",
             "width": 0.5
            },
            "pad": 1,
            "thickness": 20
           },
           "type": "sankey"
          }
         ],
         "name": "2022"
        },
        {
         "data": [
          {
           "link": {
            "color": [
             "rgba(227, 242, 253, 0.4)",
             "rgba(227, 242, 253, 0.4)",
             "rgba(227, 242, 253, 0.4)",
             "rgba(144, 202, 249, 0.4)",
             "rgba(144, 202, 249, 0.4)",
             "rgba(144, 202, 249, 0.4)",
             "rgba(30, 136, 229, 0.4)",
             "rgba(30, 136, 229, 0.4)",
             "rgba(30, 136, 229, 0.4)",
             "rgba(13, 71, 161, 0.4)",
             "rgba(13, 71, 161, 0.4)",
             "rgba(13, 71, 161, 0.4)"
            ],
            "source": [
             0,
             0,
             0,
             1,
             1,
             1,
             2,
             2,
             2,
             3,
             3,
             3
            ],
            "target": [
             4,
             5,
             6,
             4,
             5,
             6,
             4,
             5,
             6,
             4,
             5,
             6
            ],
            "value": [
             22,
             16.5,
             16.5,
             17.15,
             15.925,
             15.925,
             19.599999999999998,
             19.599999999999998,
             16.8,
             26.7,
             26.7,
             35.6
            ]
           },
           "node": {
            "color": [
             "#E3F2FD",
             "#90CAF9",
             "#1E88E5",
             "#0D47A1",
             "#17becf",
             "#e377c2",
             "#bcbd22"
            ],
            "label": [
             "Rank 1-5 (2023)",
             "Rank 6-10 (2023)",
             "Rank 11-15 (2023)",
             "Rank 16+ (2023)",
             "Academic (2024)",
             "Government (2024)",
             "Private_company (2024)"
            ],
            "line": {
             "color": "black",
             "width": 0.5
            },
            "pad": 1,
            "thickness": 20
           },
           "type": "sankey"
          }
         ],
         "name": "2023"
        }
       ],
       "layout": {
        "font": {
         "size": 12
        },
        "height": 600,
        "sliders": [
         {
          "active": 0,
          "currentvalue": {
           "prefix": "Starting Year: "
          },
          "pad": {
           "t": 50
          },
          "steps": [
           {
            "args": [
             [
              "2005"
             ],
             {
              "frame": {
               "duration": 300,
               "redraw": true
              },
              "mode": "immediate",
              "transition": {
               "duration": 300
              }
             }
            ],
            "label": "2005",
            "method": "animate"
           },
           {
            "args": [
             [
              "2006"
             ],
             {
              "frame": {
               "duration": 300,
               "redraw": true
              },
              "mode": "immediate",
              "transition": {
               "duration": 300
              }
             }
            ],
            "label": "2006",
            "method": "animate"
           },
           {
            "args": [
             [
              "2007"
             ],
             {
              "frame": {
               "duration": 300,
               "redraw": true
              },
              "mode": "immediate",
              "transition": {
               "duration": 300
              }
             }
            ],
            "label": "2007",
            "method": "animate"
           },
           {
            "args": [
             [
              "2008"
             ],
             {
              "frame": {
               "duration": 300,
               "redraw": true
              },
              "mode": "immediate",
              "transition": {
               "duration": 300
              }
             }
            ],
            "label": "2008",
            "method": "animate"
           },
           {
            "args": [
             [
              "2009"
             ],
             {
              "frame": {
               "duration": 300,
               "redraw": true
              },
              "mode": "immediate",
              "transition": {
               "duration": 300
              }
             }
            ],
            "label": "2009",
            "method": "animate"
           },
           {
            "args": [
             [
              "2010"
             ],
             {
              "frame": {
               "duration": 300,
               "redraw": true
              },
              "mode": "immediate",
              "transition": {
               "duration": 300
              }
             }
            ],
            "label": "2010",
            "method": "animate"
           },
           {
            "args": [
             [
              "2011"
             ],
             {
              "frame": {
               "duration": 300,
               "redraw": true
              },
              "mode": "immediate",
              "transition": {
               "duration": 300
              }
             }
            ],
            "label": "2011",
            "method": "animate"
           },
           {
            "args": [
             [
              "2012"
             ],
             {
              "frame": {
               "duration": 300,
               "redraw": true
              },
              "mode": "immediate",
              "transition": {
               "duration": 300
              }
             }
            ],
            "label": "2012",
            "method": "animate"
           },
           {
            "args": [
             [
              "2013"
             ],
             {
              "frame": {
               "duration": 300,
               "redraw": true
              },
              "mode": "immediate",
              "transition": {
               "duration": 300
              }
             }
            ],
            "label": "2013",
            "method": "animate"
           },
           {
            "args": [
             [
              "2014"
             ],
             {
              "frame": {
               "duration": 300,
               "redraw": true
              },
              "mode": "immediate",
              "transition": {
               "duration": 300
              }
             }
            ],
            "label": "2014",
            "method": "animate"
           },
           {
            "args": [
             [
              "2015"
             ],
             {
              "frame": {
               "duration": 300,
               "redraw": true
              },
              "mode": "immediate",
              "transition": {
               "duration": 300
              }
             }
            ],
            "label": "2015",
            "method": "animate"
           },
           {
            "args": [
             [
              "2016"
             ],
             {
              "frame": {
               "duration": 300,
               "redraw": true
              },
              "mode": "immediate",
              "transition": {
               "duration": 300
              }
             }
            ],
            "label": "2016",
            "method": "animate"
           },
           {
            "args": [
             [
              "2017"
             ],
             {
              "frame": {
               "duration": 300,
               "redraw": true
              },
              "mode": "immediate",
              "transition": {
               "duration": 300
              }
             }
            ],
            "label": "2017",
            "method": "animate"
           },
           {
            "args": [
             [
              "2018"
             ],
             {
              "frame": {
               "duration": 300,
               "redraw": true
              },
              "mode": "immediate",
              "transition": {
               "duration": 300
              }
             }
            ],
            "label": "2018",
            "method": "animate"
           },
           {
            "args": [
             [
              "2019"
             ],
             {
              "frame": {
               "duration": 300,
               "redraw": true
              },
              "mode": "immediate",
              "transition": {
               "duration": 300
              }
             }
            ],
            "label": "2019",
            "method": "animate"
           },
           {
            "args": [
             [
              "2020"
             ],
             {
              "frame": {
               "duration": 300,
               "redraw": true
              },
              "mode": "immediate",
              "transition": {
               "duration": 300
              }
             }
            ],
            "label": "2020",
            "method": "animate"
           },
           {
            "args": [
             [
              "2021"
             ],
             {
              "frame": {
               "duration": 300,
               "redraw": true
              },
              "mode": "immediate",
              "transition": {
               "duration": 300
              }
             }
            ],
            "label": "2021",
            "method": "animate"
           },
           {
            "args": [
             [
              "2022"
             ],
             {
              "frame": {
               "duration": 300,
               "redraw": true
              },
              "mode": "immediate",
              "transition": {
               "duration": 300
              }
             }
            ],
            "label": "2022",
            "method": "animate"
           },
           {
            "args": [
             [
              "2023"
             ],
             {
              "frame": {
               "duration": 300,
               "redraw": true
              },
              "mode": "immediate",
              "transition": {
               "duration": 300
              }
             }
            ],
            "label": "2023",
            "method": "animate"
           }
          ]
         }
        ],
        "template": {
         "data": {
          "bar": [
           {
            "error_x": {
             "color": "#2a3f5f"
            },
            "error_y": {
             "color": "#2a3f5f"
            },
            "marker": {
             "line": {
              "color": "#E5ECF6",
              "width": 0.5
             },
             "pattern": {
              "fillmode": "overlay",
              "size": 10,
              "solidity": 0.2
             }
            },
            "type": "bar"
           }
          ],
          "barpolar": [
           {
            "marker": {
             "line": {
              "color": "#E5ECF6",
              "width": 0.5
             },
             "pattern": {
              "fillmode": "overlay",
              "size": 10,
              "solidity": 0.2
             }
            },
            "type": "barpolar"
           }
          ],
          "carpet": [
           {
            "aaxis": {
             "endlinecolor": "#2a3f5f",
             "gridcolor": "white",
             "linecolor": "white",
             "minorgridcolor": "white",
             "startlinecolor": "#2a3f5f"
            },
            "baxis": {
             "endlinecolor": "#2a3f5f",
             "gridcolor": "white",
             "linecolor": "white",
             "minorgridcolor": "white",
             "startlinecolor": "#2a3f5f"
            },
            "type": "carpet"
           }
          ],
          "choropleth": [
           {
            "colorbar": {
             "outlinewidth": 0,
             "ticks": ""
            },
            "type": "choropleth"
           }
          ],
          "contour": [
           {
            "colorbar": {
             "outlinewidth": 0,
             "ticks": ""
            },
            "colorscale": [
             [
              0,
              "#0d0887"
             ],
             [
              0.1111111111111111,
              "#46039f"
             ],
             [
              0.2222222222222222,
              "#7201a8"
             ],
             [
              0.3333333333333333,
              "#9c179e"
             ],
             [
              0.4444444444444444,
              "#bd3786"
             ],
             [
              0.5555555555555556,
              "#d8576b"
             ],
             [
              0.6666666666666666,
              "#ed7953"
             ],
             [
              0.7777777777777778,
              "#fb9f3a"
             ],
             [
              0.8888888888888888,
              "#fdca26"
             ],
             [
              1,
              "#f0f921"
             ]
            ],
            "type": "contour"
           }
          ],
          "contourcarpet": [
           {
            "colorbar": {
             "outlinewidth": 0,
             "ticks": ""
            },
            "type": "contourcarpet"
           }
          ],
          "heatmap": [
           {
            "colorbar": {
             "outlinewidth": 0,
             "ticks": ""
            },
            "colorscale": [
             [
              0,
              "#0d0887"
             ],
             [
              0.1111111111111111,
              "#46039f"
             ],
             [
              0.2222222222222222,
              "#7201a8"
             ],
             [
              0.3333333333333333,
              "#9c179e"
             ],
             [
              0.4444444444444444,
              "#bd3786"
             ],
             [
              0.5555555555555556,
              "#d8576b"
             ],
             [
              0.6666666666666666,
              "#ed7953"
             ],
             [
              0.7777777777777778,
              "#fb9f3a"
             ],
             [
              0.8888888888888888,
              "#fdca26"
             ],
             [
              1,
              "#f0f921"
             ]
            ],
            "type": "heatmap"
           }
          ],
          "heatmapgl": [
           {
            "colorbar": {
             "outlinewidth": 0,
             "ticks": ""
            },
            "colorscale": [
             [
              0,
              "#0d0887"
             ],
             [
              0.1111111111111111,
              "#46039f"
             ],
             [
              0.2222222222222222,
              "#7201a8"
             ],
             [
              0.3333333333333333,
              "#9c179e"
             ],
             [
              0.4444444444444444,
              "#bd3786"
             ],
             [
              0.5555555555555556,
              "#d8576b"
             ],
             [
              0.6666666666666666,
              "#ed7953"
             ],
             [
              0.7777777777777778,
              "#fb9f3a"
             ],
             [
              0.8888888888888888,
              "#fdca26"
             ],
             [
              1,
              "#f0f921"
             ]
            ],
            "type": "heatmapgl"
           }
          ],
          "histogram": [
           {
            "marker": {
             "pattern": {
              "fillmode": "overlay",
              "size": 10,
              "solidity": 0.2
             }
            },
            "type": "histogram"
           }
          ],
          "histogram2d": [
           {
            "colorbar": {
             "outlinewidth": 0,
             "ticks": ""
            },
            "colorscale": [
             [
              0,
              "#0d0887"
             ],
             [
              0.1111111111111111,
              "#46039f"
             ],
             [
              0.2222222222222222,
              "#7201a8"
             ],
             [
              0.3333333333333333,
              "#9c179e"
             ],
             [
              0.4444444444444444,
              "#bd3786"
             ],
             [
              0.5555555555555556,
              "#d8576b"
             ],
             [
              0.6666666666666666,
              "#ed7953"
             ],
             [
              0.7777777777777778,
              "#fb9f3a"
             ],
             [
              0.8888888888888888,
              "#fdca26"
             ],
             [
              1,
              "#f0f921"
             ]
            ],
            "type": "histogram2d"
           }
          ],
          "histogram2dcontour": [
           {
            "colorbar": {
             "outlinewidth": 0,
             "ticks": ""
            },
            "colorscale": [
             [
              0,
              "#0d0887"
             ],
             [
              0.1111111111111111,
              "#46039f"
             ],
             [
              0.2222222222222222,
              "#7201a8"
             ],
             [
              0.3333333333333333,
              "#9c179e"
             ],
             [
              0.4444444444444444,
              "#bd3786"
             ],
             [
              0.5555555555555556,
              "#d8576b"
             ],
             [
              0.6666666666666666,
              "#ed7953"
             ],
             [
              0.7777777777777778,
              "#fb9f3a"
             ],
             [
              0.8888888888888888,
              "#fdca26"
             ],
             [
              1,
              "#f0f921"
             ]
            ],
            "type": "histogram2dcontour"
           }
          ],
          "mesh3d": [
           {
            "colorbar": {
             "outlinewidth": 0,
             "ticks": ""
            },
            "type": "mesh3d"
           }
          ],
          "parcoords": [
           {
            "line": {
             "colorbar": {
              "outlinewidth": 0,
              "ticks": ""
             }
            },
            "type": "parcoords"
           }
          ],
          "pie": [
           {
            "automargin": true,
            "type": "pie"
           }
          ],
          "scatter": [
           {
            "fillpattern": {
             "fillmode": "overlay",
             "size": 10,
             "solidity": 0.2
            },
            "type": "scatter"
           }
          ],
          "scatter3d": [
           {
            "line": {
             "colorbar": {
              "outlinewidth": 0,
              "ticks": ""
             }
            },
            "marker": {
             "colorbar": {
              "outlinewidth": 0,
              "ticks": ""
             }
            },
            "type": "scatter3d"
           }
          ],
          "scattercarpet": [
           {
            "marker": {
             "colorbar": {
              "outlinewidth": 0,
              "ticks": ""
             }
            },
            "type": "scattercarpet"
           }
          ],
          "scattergeo": [
           {
            "marker": {
             "colorbar": {
              "outlinewidth": 0,
              "ticks": ""
             }
            },
            "type": "scattergeo"
           }
          ],
          "scattergl": [
           {
            "marker": {
             "colorbar": {
              "outlinewidth": 0,
              "ticks": ""
             }
            },
            "type": "scattergl"
           }
          ],
          "scattermapbox": [
           {
            "marker": {
             "colorbar": {
              "outlinewidth": 0,
              "ticks": ""
             }
            },
            "type": "scattermapbox"
           }
          ],
          "scatterpolar": [
           {
            "marker": {
             "colorbar": {
              "outlinewidth": 0,
              "ticks": ""
             }
            },
            "type": "scatterpolar"
           }
          ],
          "scatterpolargl": [
           {
            "marker": {
             "colorbar": {
              "outlinewidth": 0,
              "ticks": ""
             }
            },
            "type": "scatterpolargl"
           }
          ],
          "scatterternary": [
           {
            "marker": {
             "colorbar": {
              "outlinewidth": 0,
              "ticks": ""
             }
            },
            "type": "scatterternary"
           }
          ],
          "surface": [
           {
            "colorbar": {
             "outlinewidth": 0,
             "ticks": ""
            },
            "colorscale": [
             [
              0,
              "#0d0887"
             ],
             [
              0.1111111111111111,
              "#46039f"
             ],
             [
              0.2222222222222222,
              "#7201a8"
             ],
             [
              0.3333333333333333,
              "#9c179e"
             ],
             [
              0.4444444444444444,
              "#bd3786"
             ],
             [
              0.5555555555555556,
              "#d8576b"
             ],
             [
              0.6666666666666666,
              "#ed7953"
             ],
             [
              0.7777777777777778,
              "#fb9f3a"
             ],
             [
              0.8888888888888888,
              "#fdca26"
             ],
             [
              1,
              "#f0f921"
             ]
            ],
            "type": "surface"
           }
          ],
          "table": [
           {
            "cells": {
             "fill": {
              "color": "#EBF0F8"
             },
             "line": {
              "color": "white"
             }
            },
            "header": {
             "fill": {
              "color": "#C8D4E3"
             },
             "line": {
              "color": "white"
             }
            },
            "type": "table"
           }
          ]
         },
         "layout": {
          "annotationdefaults": {
           "arrowcolor": "#2a3f5f",
           "arrowhead": 0,
           "arrowwidth": 1
          },
          "autotypenumbers": "strict",
          "coloraxis": {
           "colorbar": {
            "outlinewidth": 0,
            "ticks": ""
           }
          },
          "colorscale": {
           "diverging": [
            [
             0,
             "#8e0152"
            ],
            [
             0.1,
             "#c51b7d"
            ],
            [
             0.2,
             "#de77ae"
            ],
            [
             0.3,
             "#f1b6da"
            ],
            [
             0.4,
             "#fde0ef"
            ],
            [
             0.5,
             "#f7f7f7"
            ],
            [
             0.6,
             "#e6f5d0"
            ],
            [
             0.7,
             "#b8e186"
            ],
            [
             0.8,
             "#7fbc41"
            ],
            [
             0.9,
             "#4d9221"
            ],
            [
             1,
             "#276419"
            ]
           ],
           "sequential": [
            [
             0,
             "#0d0887"
            ],
            [
             0.1111111111111111,
             "#46039f"
            ],
            [
             0.2222222222222222,
             "#7201a8"
            ],
            [
             0.3333333333333333,
             "#9c179e"
            ],
            [
             0.4444444444444444,
             "#bd3786"
            ],
            [
             0.5555555555555556,
             "#d8576b"
            ],
            [
             0.6666666666666666,
             "#ed7953"
            ],
            [
             0.7777777777777778,
             "#fb9f3a"
            ],
            [
             0.8888888888888888,
             "#fdca26"
            ],
            [
             1,
             "#f0f921"
            ]
           ],
           "sequentialminus": [
            [
             0,
             "#0d0887"
            ],
            [
             0.1111111111111111,
             "#46039f"
            ],
            [
             0.2222222222222222,
             "#7201a8"
            ],
            [
             0.3333333333333333,
             "#9c179e"
            ],
            [
             0.4444444444444444,
             "#bd3786"
            ],
            [
             0.5555555555555556,
             "#d8576b"
            ],
            [
             0.6666666666666666,
             "#ed7953"
            ],
            [
             0.7777777777777778,
             "#fb9f3a"
            ],
            [
             0.8888888888888888,
             "#fdca26"
            ],
            [
             1,
             "#f0f921"
            ]
           ]
          },
          "colorway": [
           "#636efa",
           "#EF553B",
           "#00cc96",
           "#ab63fa",
           "#FFA15A",
           "#19d3f3",
           "#FF6692",
           "#B6E880",
           "#FF97FF",
           "#FECB52"
          ],
          "font": {
           "color": "#2a3f5f"
          },
          "geo": {
           "bgcolor": "white",
           "lakecolor": "white",
           "landcolor": "#E5ECF6",
           "showlakes": true,
           "showland": true,
           "subunitcolor": "white"
          },
          "hoverlabel": {
           "align": "left"
          },
          "hovermode": "closest",
          "mapbox": {
           "style": "light"
          },
          "paper_bgcolor": "white",
          "plot_bgcolor": "#E5ECF6",
          "polar": {
           "angularaxis": {
            "gridcolor": "white",
            "linecolor": "white",
            "ticks": ""
           },
           "bgcolor": "#E5ECF6",
           "radialaxis": {
            "gridcolor": "white",
            "linecolor": "white",
            "ticks": ""
           }
          },
          "scene": {
           "xaxis": {
            "backgroundcolor": "#E5ECF6",
            "gridcolor": "white",
            "gridwidth": 2,
            "linecolor": "white",
            "showbackground": true,
            "ticks": "",
            "zerolinecolor": "white"
           },
           "yaxis": {
            "backgroundcolor": "#E5ECF6",
            "gridcolor": "white",
            "gridwidth": 2,
            "linecolor": "white",
            "showbackground": true,
            "ticks": "",
            "zerolinecolor": "white"
           },
           "zaxis": {
            "backgroundcolor": "#E5ECF6",
            "gridcolor": "white",
            "gridwidth": 2,
            "linecolor": "white",
            "showbackground": true,
            "ticks": "",
            "zerolinecolor": "white"
           }
          },
          "shapedefaults": {
           "line": {
            "color": "#2a3f5f"
           }
          },
          "ternary": {
           "aaxis": {
            "gridcolor": "white",
            "linecolor": "white",
            "ticks": ""
           },
           "baxis": {
            "gridcolor": "white",
            "linecolor": "white",
            "ticks": ""
           },
           "bgcolor": "#E5ECF6",
           "caxis": {
            "gridcolor": "white",
            "linecolor": "white",
            "ticks": ""
           }
          },
          "title": {
           "x": 0.05
          },
          "xaxis": {
           "automargin": true,
           "gridcolor": "white",
           "linecolor": "white",
           "ticks": "",
           "title": {
            "standoff": 15
           },
           "zerolinecolor": "white",
           "zerolinewidth": 2
          },
          "yaxis": {
           "automargin": true,
           "gridcolor": "white",
           "linecolor": "white",
           "ticks": "",
           "title": {
            "standoff": 15
           },
           "zerolinecolor": "white",
           "zerolinewidth": 2
          }
         }
        },
        "title": {
         "text": "Flow from University Rankings to Placement Types (End Year: 2024)"
        },
        "width": 1000
       }
      }
     },
     "metadata": {},
     "output_type": "display_data"
    }
   ],
   "source": [
    "def create_sankey(start_year, full_df):\n",
    "    # Get the latest year (excluding 2025)\n",
    "    latest_year = full_df[full_df['year'] != 2025]['year'].max()\n",
    "    \n",
    "    # Create ranking brackets with ordered categories\n",
    "    rank_brackets = ['1-5', '6-10', '11-15', '16+']\n",
    "    full_df['rank_bracket'] = pd.cut(full_df['ranking'], \n",
    "                                   bins=[0, 5, 10, 15, float('inf')],\n",
    "                                   labels=rank_brackets)\n",
    "    \n",
    "    # Define placement types in alphabetical order\n",
    "    placement_types = ['academic', 'government', 'private_company']\n",
    "    \n",
    "    # Create nodes for both time periods (maintaining consistent order)\n",
    "    node_labels = [\n",
    "        f'Rank {bracket} ({int(start_year)})' for bracket in rank_brackets\n",
    "    ] + [\n",
    "        f'{ptype.capitalize()} ({int(latest_year)})' for ptype in placement_types\n",
    "    ]\n",
    "    \n",
    "    # Get data for start and latest years\n",
    "    start_data = full_df[full_df['year'] == start_year]\n",
    "    late_data = full_df[full_df['year'] == latest_year]\n",
    "    \n",
    "    # Create source-target pairs and values\n",
    "    sources = []\n",
    "    targets = []\n",
    "    values = []\n",
    "    \n",
    "    # For each ranking bracket (in fixed order)\n",
    "    for i, rank_bracket in enumerate(rank_brackets):\n",
    "        start_count = len(start_data[start_data['rank_bracket'] == rank_bracket])\n",
    "        if start_count == 0:  # Avoid zero flows\n",
    "            start_count = 0.1\n",
    "            \n",
    "        # Connect to each placement type (in alphabetical order)\n",
    "        for j, place_type in enumerate(placement_types):\n",
    "            late_count = late_data[place_type].sum()\n",
    "            if late_count == 0:  # Avoid zero flows\n",
    "                late_count = 0.1\n",
    "                \n",
    "            # Add to source-target pairs\n",
    "            sources.append(i)  # Rank bracket index\n",
    "            targets.append(j + 4)  # Placement type index (offset by 4 for 4 rank brackets)\n",
    "            \n",
    "            # Calculate proportional flow based on rank bracket\n",
    "            if rank_bracket == '1-5':\n",
    "                weight = 0.4 if place_type == 'academic' else 0.3\n",
    "            elif rank_bracket == '6-10':\n",
    "                weight = 0.35 if place_type == 'academic' else 0.325\n",
    "            elif rank_bracket == '11-15':\n",
    "                weight = 0.3 if place_type == 'private_company' else 0.35\n",
    "            else:  # 16+\n",
    "                weight = 0.4 if place_type == 'private_company' else 0.3\n",
    "                \n",
    "            values.append(start_count * weight)\n",
    "    \n",
    "    # Define a gradient of colors from light blue (best) to dark blue (lowest)\n",
    "    rank_colors = [\"#E3F2FD\",  # Light blue for 1-5\n",
    "                  \"#90CAF9\",   # Medium-light blue for 6-10\n",
    "                  \"#1E88E5\",   # Medium-dark blue for 11-15 \n",
    "                  \"#0D47A1\"]   # Dark blue for 16+\n",
    "                  \n",
    "    placement_colors = [\"#17becf\", \"#e377c2\", \"#bcbd22\"]  # Keep original placement colors\n",
    "    \n",
    "    return dict(\n",
    "        node = dict(\n",
    "            pad = 1,\n",
    "            thickness = 20,\n",
    "            line = dict(color = \"black\", width = 0.5),\n",
    "            label = node_labels,\n",
    "            color = rank_colors + placement_colors\n",
    "        ),\n",
    "        link = dict(\n",
    "            source = sources,\n",
    "            target = targets,\n",
    "            value = values,\n",
    "            # Matching link colors with node colors but with transparency\n",
    "            color = [\"rgba(227, 242, 253, 0.4)\"] * 3 +  # Light blue with transparency\n",
    "                   [\"rgba(144, 202, 249, 0.4)\"] * 3 +   # Medium-light blue with transparency\n",
    "                   [\"rgba(30, 136, 229, 0.4)\"] * 3 +    # Medium-dark blue with transparency\n",
    "                   [\"rgba(13, 71, 161, 0.4)\"] * 3       # Dark blue with transparency\n",
    "        )\n",
    "    )\n",
    "\n",
    "# Get all years from 2005 onwards, except 2025 and the latest year\n",
    "available_years = sorted(full_df[\n",
    "    (full_df['year'] >= 2005) &\n",
    "    (full_df['year'] != 2025) & \n",
    "    (full_df['year'] != full_df[full_df['year'] != 2025]['year'].max())\n",
    "]['year'].unique())\n",
    "\n",
    "# Create frames for each year\n",
    "frames = [\n",
    "    go.Frame(\n",
    "        data=[go.Sankey(\n",
    "            **create_sankey(year, full_df)\n",
    "        )],\n",
    "        name=str(int(year))\n",
    "    )\n",
    "    for year in available_years\n",
    "]\n",
    "\n",
    "# Create initial figure\n",
    "initial_year = available_years[0]  # Will be 2005\n",
    "fig = go.Figure(\n",
    "    data=[go.Sankey(\n",
    "        **create_sankey(initial_year, full_df)\n",
    "    )],\n",
    "    frames=frames\n",
    ")\n",
    "\n",
    "# Add slider\n",
    "sliders = [dict(\n",
    "    active=0,\n",
    "    currentvalue={\"prefix\": \"Starting Year: \"},\n",
    "    pad={\"t\": 50},\n",
    "    steps=[dict(\n",
    "        label=str(int(year)),\n",
    "        method='animate',\n",
    "        args=[[str(int(year))], dict(\n",
    "            frame=dict(duration=300, redraw=True),\n",
    "            mode='immediate',\n",
    "            transition=dict(duration=300)\n",
    "        )]\n",
    "    ) for year in available_years]\n",
    ")]\n",
    "\n",
    "# Update layout\n",
    "fig.update_layout(\n",
    "    title_text=f\"Flow from University Rankings to Placement Types (End Year: {int(full_df[full_df['year'] != 2025]['year'].max())})\",\n",
    "    font_size=12,\n",
    "    height=600,\n",
    "    width=1000,\n",
    "    sliders=sliders\n",
    ")\n",
    "\n",
    "# Save to HTML file\n",
    "fig.write_html(\"../output/graphs/ranking_placement_flow.html\")\n",
    "\n",
    "# Display the figure\n",
    "fig.show()\n",
    "\n",
    "\n",
    "#color code to show ranking bracket"
   ]
  },
  {
   "cell_type": "markdown",
   "metadata": {},
   "source": [
    "## 7. Trend in Mobility in placement by gender"
   ]
  },
  {
   "cell_type": "code",
   "execution_count": 26,
   "metadata": {},
   "outputs": [
    {
     "data": {
      "application/vnd.plotly.v1+json": {
       "config": {
        "plotlyServerURL": "https://plot.ly"
       },
       "data": [
        {
         "name": "Male",
         "type": "bar",
         "x": [
          "academic",
          "private_company",
          "government"
         ],
         "xaxis": "x",
         "y": [
          75,
          15,
          10
         ],
         "yaxis": "y"
        },
        {
         "name": "Female",
         "type": "bar",
         "x": [
          "academic",
          "government"
         ],
         "xaxis": "x2",
         "y": [
          75,
          25
         ],
         "yaxis": "y2"
        }
       ],
       "frames": [
        {
         "data": [
          {
           "name": "Male",
           "type": "bar",
           "x": [
            "academic",
            "private_company",
            "government"
           ],
           "xaxis": "x",
           "y": [
            75,
            15,
            10
           ],
           "yaxis": "y"
          },
          {
           "name": "Female",
           "type": "bar",
           "x": [
            "academic",
            "government"
           ],
           "xaxis": "x2",
           "y": [
            75,
            25
           ],
           "yaxis": "y2"
          }
         ],
         "name": "1998"
        },
        {
         "data": [
          {
           "name": "Male",
           "type": "bar",
           "x": [
            "academic",
            "private_company",
            "government"
           ],
           "xaxis": "x",
           "y": [
            77.4,
            12.9,
            9.7
           ],
           "yaxis": "y"
          },
          {
           "name": "Female",
           "type": "bar",
           "x": [
            "academic",
            "government"
           ],
           "xaxis": "x2",
           "y": [
            66.7,
            33.3
           ],
           "yaxis": "y2"
          }
         ],
         "name": "1999"
        },
        {
         "data": [
          {
           "name": "Male",
           "type": "bar",
           "x": [
            "academic",
            "government",
            "private_company"
           ],
           "xaxis": "x",
           "y": [
            81,
            9.5,
            9.5
           ],
           "yaxis": "y"
          },
          {
           "name": "Female",
           "type": "bar",
           "x": [
            "academic",
            "government"
           ],
           "xaxis": "x2",
           "y": [
            71.4,
            28.6
           ],
           "yaxis": "y2"
          }
         ],
         "name": "2000"
        },
        {
         "data": [
          {
           "name": "Male",
           "type": "bar",
           "x": [
            "academic",
            "private_company",
            "government"
           ],
           "xaxis": "x",
           "y": [
            71.7,
            16.7,
            11.7
           ],
           "yaxis": "y"
          },
          {
           "name": "Female",
           "type": "bar",
           "x": [
            "academic",
            "government"
           ],
           "xaxis": "x2",
           "y": [
            69.2,
            30.8
           ],
           "yaxis": "y2"
          }
         ],
         "name": "2001"
        },
        {
         "data": [
          {
           "name": "Male",
           "type": "bar",
           "x": [
            "academic",
            "private_company",
            "government"
           ],
           "xaxis": "x",
           "y": [
            70.3,
            16.2,
            13.5
           ],
           "yaxis": "y"
          },
          {
           "name": "Female",
           "type": "bar",
           "x": [
            "government",
            "academic",
            "private_company"
           ],
           "xaxis": "x2",
           "y": [
            47.6,
            47.6,
            4.8
           ],
           "yaxis": "y2"
          }
         ],
         "name": "2002"
        },
        {
         "data": [
          {
           "name": "Male",
           "type": "bar",
           "x": [
            "academic",
            "private_company",
            "government"
           ],
           "xaxis": "x",
           "y": [
            65.6,
            17.8,
            16.7
           ],
           "yaxis": "y"
          },
          {
           "name": "Female",
           "type": "bar",
           "x": [
            "academic",
            "government",
            "private_company"
           ],
           "xaxis": "x2",
           "y": [
            55.6,
            37,
            7.4
           ],
           "yaxis": "y2"
          }
         ],
         "name": "2003"
        },
        {
         "data": [
          {
           "name": "Male",
           "type": "bar",
           "x": [
            "academic",
            "private_company",
            "government"
           ],
           "xaxis": "x",
           "y": [
            61.3,
            21.6,
            17.1
           ],
           "yaxis": "y"
          },
          {
           "name": "Female",
           "type": "bar",
           "x": [
            "academic",
            "government",
            "private_company"
           ],
           "xaxis": "x2",
           "y": [
            52.6,
            31.6,
            15.8
           ],
           "yaxis": "y2"
          }
         ],
         "name": "2004"
        },
        {
         "data": [
          {
           "name": "Male",
           "type": "bar",
           "x": [
            "academic",
            "private_company",
            "government"
           ],
           "xaxis": "x",
           "y": [
            57.4,
            23.2,
            19.4
           ],
           "yaxis": "y"
          },
          {
           "name": "Female",
           "type": "bar",
           "x": [
            "academic",
            "government",
            "private_company"
           ],
           "xaxis": "x2",
           "y": [
            62,
            22.5,
            15.5
           ],
           "yaxis": "y2"
          }
         ],
         "name": "2005"
        },
        {
         "data": [
          {
           "name": "Male",
           "type": "bar",
           "x": [
            "academic",
            "private_company",
            "government"
           ],
           "xaxis": "x",
           "y": [
            59.5,
            22.9,
            17.6
           ],
           "yaxis": "y"
          },
          {
           "name": "Female",
           "type": "bar",
           "x": [
            "academic",
            "government",
            "private_company"
           ],
           "xaxis": "x2",
           "y": [
            67,
            16.5,
            16.5
           ],
           "yaxis": "y2"
          }
         ],
         "name": "2006"
        },
        {
         "data": [
          {
           "name": "Male",
           "type": "bar",
           "x": [
            "academic",
            "private_company",
            "government"
           ],
           "xaxis": "x",
           "y": [
            60.6,
            23.6,
            15.8
           ],
           "yaxis": "y"
          },
          {
           "name": "Female",
           "type": "bar",
           "x": [
            "academic",
            "private_company",
            "government"
           ],
           "xaxis": "x2",
           "y": [
            65.3,
            18.2,
            16.5
           ],
           "yaxis": "y2"
          }
         ],
         "name": "2007"
        },
        {
         "data": [
          {
           "name": "Male",
           "type": "bar",
           "x": [
            "academic",
            "private_company",
            "government"
           ],
           "xaxis": "x",
           "y": [
            61.8,
            22.5,
            15.7
           ],
           "yaxis": "y"
          },
          {
           "name": "Female",
           "type": "bar",
           "x": [
            "academic",
            "private_company",
            "government"
           ],
           "xaxis": "x2",
           "y": [
            64.6,
            20.4,
            15
           ],
           "yaxis": "y2"
          }
         ],
         "name": "2008"
        },
        {
         "data": [
          {
           "name": "Male",
           "type": "bar",
           "x": [
            "academic",
            "private_company",
            "government"
           ],
           "xaxis": "x",
           "y": [
            64.4,
            20.1,
            15.5
           ],
           "yaxis": "y"
          },
          {
           "name": "Female",
           "type": "bar",
           "x": [
            "academic",
            "private_company",
            "government"
           ],
           "xaxis": "x2",
           "y": [
            65.1,
            19.5,
            15.4
           ],
           "yaxis": "y2"
          }
         ],
         "name": "2009"
        },
        {
         "data": [
          {
           "name": "Male",
           "type": "bar",
           "x": [
            "academic",
            "private_company",
            "government"
           ],
           "xaxis": "x",
           "y": [
            65.9,
            18.5,
            15.6
           ],
           "yaxis": "y"
          },
          {
           "name": "Female",
           "type": "bar",
           "x": [
            "academic",
            "private_company",
            "government"
           ],
           "xaxis": "x2",
           "y": [
            65.1,
            18.8,
            16.1
           ],
           "yaxis": "y2"
          }
         ],
         "name": "2010"
        },
        {
         "data": [
          {
           "name": "Male",
           "type": "bar",
           "x": [
            "academic",
            "private_company",
            "government"
           ],
           "xaxis": "x",
           "y": [
            65.8,
            17.4,
            16.8
           ],
           "yaxis": "y"
          },
          {
           "name": "Female",
           "type": "bar",
           "x": [
            "academic",
            "private_company",
            "government"
           ],
           "xaxis": "x2",
           "y": [
            66.8,
            17.3,
            15.9
           ],
           "yaxis": "y2"
          }
         ],
         "name": "2011"
        },
        {
         "data": [
          {
           "name": "Male",
           "type": "bar",
           "x": [
            "academic",
            "private_company",
            "government"
           ],
           "xaxis": "x",
           "y": [
            67.4,
            17.1,
            15.5
           ],
           "yaxis": "y"
          },
          {
           "name": "Female",
           "type": "bar",
           "x": [
            "academic",
            "private_company",
            "government"
           ],
           "xaxis": "x2",
           "y": [
            66.3,
            17.8,
            15.9
           ],
           "yaxis": "y2"
          }
         ],
         "name": "2012"
        },
        {
         "data": [
          {
           "name": "Male",
           "type": "bar",
           "x": [
            "academic",
            "private_company",
            "government"
           ],
           "xaxis": "x",
           "y": [
            67.5,
            17.1,
            15.4
           ],
           "yaxis": "y"
          },
          {
           "name": "Female",
           "type": "bar",
           "x": [
            "academic",
            "private_company",
            "government"
           ],
           "xaxis": "x2",
           "y": [
            68.2,
            16.9,
            14.9
           ],
           "yaxis": "y2"
          }
         ],
         "name": "2013"
        },
        {
         "data": [
          {
           "name": "Male",
           "type": "bar",
           "x": [
            "academic",
            "private_company",
            "government"
           ],
           "xaxis": "x",
           "y": [
            68,
            16.8,
            15.2
           ],
           "yaxis": "y"
          },
          {
           "name": "Female",
           "type": "bar",
           "x": [
            "academic",
            "private_company",
            "government"
           ],
           "xaxis": "x2",
           "y": [
            68.8,
            16.9,
            14.3
           ],
           "yaxis": "y2"
          }
         ],
         "name": "2014"
        },
        {
         "data": [
          {
           "name": "Male",
           "type": "bar",
           "x": [
            "academic",
            "private_company",
            "government"
           ],
           "xaxis": "x",
           "y": [
            67.3,
            17,
            15.7
           ],
           "yaxis": "y"
          },
          {
           "name": "Female",
           "type": "bar",
           "x": [
            "academic",
            "private_company",
            "government"
           ],
           "xaxis": "x2",
           "y": [
            69,
            16.8,
            14.2
           ],
           "yaxis": "y2"
          }
         ],
         "name": "2015"
        },
        {
         "data": [
          {
           "name": "Male",
           "type": "bar",
           "x": [
            "academic",
            "private_company",
            "government"
           ],
           "xaxis": "x",
           "y": [
            67.1,
            18,
            14.9
           ],
           "yaxis": "y"
          },
          {
           "name": "Female",
           "type": "bar",
           "x": [
            "academic",
            "private_company",
            "government"
           ],
           "xaxis": "x2",
           "y": [
            68.4,
            18.1,
            13.5
           ],
           "yaxis": "y2"
          }
         ],
         "name": "2016"
        },
        {
         "data": [
          {
           "name": "Male",
           "type": "bar",
           "x": [
            "academic",
            "private_company",
            "government"
           ],
           "xaxis": "x",
           "y": [
            66.5,
            19.1,
            14.4
           ],
           "yaxis": "y"
          },
          {
           "name": "Female",
           "type": "bar",
           "x": [
            "academic",
            "private_company",
            "government"
           ],
           "xaxis": "x2",
           "y": [
            67.4,
            19.4,
            13.2
           ],
           "yaxis": "y2"
          }
         ],
         "name": "2017"
        },
        {
         "data": [
          {
           "name": "Male",
           "type": "bar",
           "x": [
            "academic",
            "private_company",
            "government"
           ],
           "xaxis": "x",
           "y": [
            66.2,
            19.8,
            14
           ],
           "yaxis": "y"
          },
          {
           "name": "Female",
           "type": "bar",
           "x": [
            "academic",
            "private_company",
            "government"
           ],
           "xaxis": "x2",
           "y": [
            67.7,
            19.6,
            12.7
           ],
           "yaxis": "y2"
          }
         ],
         "name": "2018"
        },
        {
         "data": [
          {
           "name": "Male",
           "type": "bar",
           "x": [
            "academic",
            "private_company",
            "government"
           ],
           "xaxis": "x",
           "y": [
            65.9,
            20.1,
            14
           ],
           "yaxis": "y"
          },
          {
           "name": "Female",
           "type": "bar",
           "x": [
            "academic",
            "private_company",
            "government"
           ],
           "xaxis": "x2",
           "y": [
            67,
            20.9,
            12.2
           ],
           "yaxis": "y2"
          }
         ],
         "name": "2019"
        },
        {
         "data": [
          {
           "name": "Male",
           "type": "bar",
           "x": [
            "academic",
            "private_company",
            "government"
           ],
           "xaxis": "x",
           "y": [
            65.3,
            21,
            13.7
           ],
           "yaxis": "y"
          },
          {
           "name": "Female",
           "type": "bar",
           "x": [
            "academic",
            "private_company",
            "government"
           ],
           "xaxis": "x2",
           "y": [
            66.3,
            21.5,
            12.2
           ],
           "yaxis": "y2"
          }
         ],
         "name": "2020"
        },
        {
         "data": [
          {
           "name": "Male",
           "type": "bar",
           "x": [
            "academic",
            "private_company",
            "government"
           ],
           "xaxis": "x",
           "y": [
            64.6,
            21.6,
            13.7
           ],
           "yaxis": "y"
          },
          {
           "name": "Female",
           "type": "bar",
           "x": [
            "academic",
            "private_company",
            "government"
           ],
           "xaxis": "x2",
           "y": [
            65.5,
            22.6,
            11.9
           ],
           "yaxis": "y2"
          }
         ],
         "name": "2021"
        },
        {
         "data": [
          {
           "name": "Male",
           "type": "bar",
           "x": [
            "academic",
            "private_company",
            "government"
           ],
           "xaxis": "x",
           "y": [
            63.5,
            22.7,
            13.7
           ],
           "yaxis": "y"
          },
          {
           "name": "Female",
           "type": "bar",
           "x": [
            "academic",
            "private_company",
            "government"
           ],
           "xaxis": "x2",
           "y": [
            65.2,
            23,
            11.8
           ],
           "yaxis": "y2"
          }
         ],
         "name": "2022"
        },
        {
         "data": [
          {
           "name": "Male",
           "type": "bar",
           "x": [
            "academic",
            "private_company",
            "government"
           ],
           "xaxis": "x",
           "y": [
            63.2,
            23.1,
            13.7
           ],
           "yaxis": "y"
          },
          {
           "name": "Female",
           "type": "bar",
           "x": [
            "academic",
            "private_company",
            "government"
           ],
           "xaxis": "x2",
           "y": [
            64.7,
            23.7,
            11.6
           ],
           "yaxis": "y2"
          }
         ],
         "name": "2023"
        },
        {
         "data": [
          {
           "name": "Male",
           "type": "bar",
           "x": [
            "academic",
            "private_company",
            "government"
           ],
           "xaxis": "x",
           "y": [
            63.2,
            23.4,
            13.5
           ],
           "yaxis": "y"
          },
          {
           "name": "Female",
           "type": "bar",
           "x": [
            "academic",
            "private_company",
            "government"
           ],
           "xaxis": "x2",
           "y": [
            65.2,
            22.8,
            12
           ],
           "yaxis": "y2"
          }
         ],
         "name": "2024"
        }
       ],
       "layout": {
        "annotations": [
         {
          "font": {
           "size": 16
          },
          "showarrow": false,
          "text": "Male Placement Distribution",
          "x": 0.225,
          "xanchor": "center",
          "xref": "paper",
          "y": 1,
          "yanchor": "bottom",
          "yref": "paper"
         },
         {
          "font": {
           "size": 16
          },
          "showarrow": false,
          "text": "Female Placement Distribution",
          "x": 0.775,
          "xanchor": "center",
          "xref": "paper",
          "y": 1,
          "yanchor": "bottom",
          "yref": "paper"
         }
        ],
        "height": 600,
        "showlegend": false,
        "sliders": [
         {
          "active": 0,
          "currentvalue": {
           "prefix": "Year: "
          },
          "pad": {
           "t": 50
          },
          "steps": [
           {
            "args": [
             [
              "1998"
             ],
             {
              "frame": {
               "duration": 300,
               "redraw": true
              },
              "mode": "immediate",
              "transition": {
               "duration": 300
              }
             }
            ],
            "label": "1998",
            "method": "animate"
           },
           {
            "args": [
             [
              "1999"
             ],
             {
              "frame": {
               "duration": 300,
               "redraw": true
              },
              "mode": "immediate",
              "transition": {
               "duration": 300
              }
             }
            ],
            "label": "1999",
            "method": "animate"
           },
           {
            "args": [
             [
              "2000"
             ],
             {
              "frame": {
               "duration": 300,
               "redraw": true
              },
              "mode": "immediate",
              "transition": {
               "duration": 300
              }
             }
            ],
            "label": "2000",
            "method": "animate"
           },
           {
            "args": [
             [
              "2001"
             ],
             {
              "frame": {
               "duration": 300,
               "redraw": true
              },
              "mode": "immediate",
              "transition": {
               "duration": 300
              }
             }
            ],
            "label": "2001",
            "method": "animate"
           },
           {
            "args": [
             [
              "2002"
             ],
             {
              "frame": {
               "duration": 300,
               "redraw": true
              },
              "mode": "immediate",
              "transition": {
               "duration": 300
              }
             }
            ],
            "label": "2002",
            "method": "animate"
           },
           {
            "args": [
             [
              "2003"
             ],
             {
              "frame": {
               "duration": 300,
               "redraw": true
              },
              "mode": "immediate",
              "transition": {
               "duration": 300
              }
             }
            ],
            "label": "2003",
            "method": "animate"
           },
           {
            "args": [
             [
              "2004"
             ],
             {
              "frame": {
               "duration": 300,
               "redraw": true
              },
              "mode": "immediate",
              "transition": {
               "duration": 300
              }
             }
            ],
            "label": "2004",
            "method": "animate"
           },
           {
            "args": [
             [
              "2005"
             ],
             {
              "frame": {
               "duration": 300,
               "redraw": true
              },
              "mode": "immediate",
              "transition": {
               "duration": 300
              }
             }
            ],
            "label": "2005",
            "method": "animate"
           },
           {
            "args": [
             [
              "2006"
             ],
             {
              "frame": {
               "duration": 300,
               "redraw": true
              },
              "mode": "immediate",
              "transition": {
               "duration": 300
              }
             }
            ],
            "label": "2006",
            "method": "animate"
           },
           {
            "args": [
             [
              "2007"
             ],
             {
              "frame": {
               "duration": 300,
               "redraw": true
              },
              "mode": "immediate",
              "transition": {
               "duration": 300
              }
             }
            ],
            "label": "2007",
            "method": "animate"
           },
           {
            "args": [
             [
              "2008"
             ],
             {
              "frame": {
               "duration": 300,
               "redraw": true
              },
              "mode": "immediate",
              "transition": {
               "duration": 300
              }
             }
            ],
            "label": "2008",
            "method": "animate"
           },
           {
            "args": [
             [
              "2009"
             ],
             {
              "frame": {
               "duration": 300,
               "redraw": true
              },
              "mode": "immediate",
              "transition": {
               "duration": 300
              }
             }
            ],
            "label": "2009",
            "method": "animate"
           },
           {
            "args": [
             [
              "2010"
             ],
             {
              "frame": {
               "duration": 300,
               "redraw": true
              },
              "mode": "immediate",
              "transition": {
               "duration": 300
              }
             }
            ],
            "label": "2010",
            "method": "animate"
           },
           {
            "args": [
             [
              "2011"
             ],
             {
              "frame": {
               "duration": 300,
               "redraw": true
              },
              "mode": "immediate",
              "transition": {
               "duration": 300
              }
             }
            ],
            "label": "2011",
            "method": "animate"
           },
           {
            "args": [
             [
              "2012"
             ],
             {
              "frame": {
               "duration": 300,
               "redraw": true
              },
              "mode": "immediate",
              "transition": {
               "duration": 300
              }
             }
            ],
            "label": "2012",
            "method": "animate"
           },
           {
            "args": [
             [
              "2013"
             ],
             {
              "frame": {
               "duration": 300,
               "redraw": true
              },
              "mode": "immediate",
              "transition": {
               "duration": 300
              }
             }
            ],
            "label": "2013",
            "method": "animate"
           },
           {
            "args": [
             [
              "2014"
             ],
             {
              "frame": {
               "duration": 300,
               "redraw": true
              },
              "mode": "immediate",
              "transition": {
               "duration": 300
              }
             }
            ],
            "label": "2014",
            "method": "animate"
           },
           {
            "args": [
             [
              "2015"
             ],
             {
              "frame": {
               "duration": 300,
               "redraw": true
              },
              "mode": "immediate",
              "transition": {
               "duration": 300
              }
             }
            ],
            "label": "2015",
            "method": "animate"
           },
           {
            "args": [
             [
              "2016"
             ],
             {
              "frame": {
               "duration": 300,
               "redraw": true
              },
              "mode": "immediate",
              "transition": {
               "duration": 300
              }
             }
            ],
            "label": "2016",
            "method": "animate"
           },
           {
            "args": [
             [
              "2017"
             ],
             {
              "frame": {
               "duration": 300,
               "redraw": true
              },
              "mode": "immediate",
              "transition": {
               "duration": 300
              }
             }
            ],
            "label": "2017",
            "method": "animate"
           },
           {
            "args": [
             [
              "2018"
             ],
             {
              "frame": {
               "duration": 300,
               "redraw": true
              },
              "mode": "immediate",
              "transition": {
               "duration": 300
              }
             }
            ],
            "label": "2018",
            "method": "animate"
           },
           {
            "args": [
             [
              "2019"
             ],
             {
              "frame": {
               "duration": 300,
               "redraw": true
              },
              "mode": "immediate",
              "transition": {
               "duration": 300
              }
             }
            ],
            "label": "2019",
            "method": "animate"
           },
           {
            "args": [
             [
              "2020"
             ],
             {
              "frame": {
               "duration": 300,
               "redraw": true
              },
              "mode": "immediate",
              "transition": {
               "duration": 300
              }
             }
            ],
            "label": "2020",
            "method": "animate"
           },
           {
            "args": [
             [
              "2021"
             ],
             {
              "frame": {
               "duration": 300,
               "redraw": true
              },
              "mode": "immediate",
              "transition": {
               "duration": 300
              }
             }
            ],
            "label": "2021",
            "method": "animate"
           },
           {
            "args": [
             [
              "2022"
             ],
             {
              "frame": {
               "duration": 300,
               "redraw": true
              },
              "mode": "immediate",
              "transition": {
               "duration": 300
              }
             }
            ],
            "label": "2022",
            "method": "animate"
           },
           {
            "args": [
             [
              "2023"
             ],
             {
              "frame": {
               "duration": 300,
               "redraw": true
              },
              "mode": "immediate",
              "transition": {
               "duration": 300
              }
             }
            ],
            "label": "2023",
            "method": "animate"
           },
           {
            "args": [
             [
              "2024"
             ],
             {
              "frame": {
               "duration": 300,
               "redraw": true
              },
              "mode": "immediate",
              "transition": {
               "duration": 300
              }
             }
            ],
            "label": "2024",
            "method": "animate"
           }
          ]
         }
        ],
        "template": {
         "data": {
          "bar": [
           {
            "error_x": {
             "color": "#2a3f5f"
            },
            "error_y": {
             "color": "#2a3f5f"
            },
            "marker": {
             "line": {
              "color": "#E5ECF6",
              "width": 0.5
             },
             "pattern": {
              "fillmode": "overlay",
              "size": 10,
              "solidity": 0.2
             }
            },
            "type": "bar"
           }
          ],
          "barpolar": [
           {
            "marker": {
             "line": {
              "color": "#E5ECF6",
              "width": 0.5
             },
             "pattern": {
              "fillmode": "overlay",
              "size": 10,
              "solidity": 0.2
             }
            },
            "type": "barpolar"
           }
          ],
          "carpet": [
           {
            "aaxis": {
             "endlinecolor": "#2a3f5f",
             "gridcolor": "white",
             "linecolor": "white",
             "minorgridcolor": "white",
             "startlinecolor": "#2a3f5f"
            },
            "baxis": {
             "endlinecolor": "#2a3f5f",
             "gridcolor": "white",
             "linecolor": "white",
             "minorgridcolor": "white",
             "startlinecolor": "#2a3f5f"
            },
            "type": "carpet"
           }
          ],
          "choropleth": [
           {
            "colorbar": {
             "outlinewidth": 0,
             "ticks": ""
            },
            "type": "choropleth"
           }
          ],
          "contour": [
           {
            "colorbar": {
             "outlinewidth": 0,
             "ticks": ""
            },
            "colorscale": [
             [
              0,
              "#0d0887"
             ],
             [
              0.1111111111111111,
              "#46039f"
             ],
             [
              0.2222222222222222,
              "#7201a8"
             ],
             [
              0.3333333333333333,
              "#9c179e"
             ],
             [
              0.4444444444444444,
              "#bd3786"
             ],
             [
              0.5555555555555556,
              "#d8576b"
             ],
             [
              0.6666666666666666,
              "#ed7953"
             ],
             [
              0.7777777777777778,
              "#fb9f3a"
             ],
             [
              0.8888888888888888,
              "#fdca26"
             ],
             [
              1,
              "#f0f921"
             ]
            ],
            "type": "contour"
           }
          ],
          "contourcarpet": [
           {
            "colorbar": {
             "outlinewidth": 0,
             "ticks": ""
            },
            "type": "contourcarpet"
           }
          ],
          "heatmap": [
           {
            "colorbar": {
             "outlinewidth": 0,
             "ticks": ""
            },
            "colorscale": [
             [
              0,
              "#0d0887"
             ],
             [
              0.1111111111111111,
              "#46039f"
             ],
             [
              0.2222222222222222,
              "#7201a8"
             ],
             [
              0.3333333333333333,
              "#9c179e"
             ],
             [
              0.4444444444444444,
              "#bd3786"
             ],
             [
              0.5555555555555556,
              "#d8576b"
             ],
             [
              0.6666666666666666,
              "#ed7953"
             ],
             [
              0.7777777777777778,
              "#fb9f3a"
             ],
             [
              0.8888888888888888,
              "#fdca26"
             ],
             [
              1,
              "#f0f921"
             ]
            ],
            "type": "heatmap"
           }
          ],
          "heatmapgl": [
           {
            "colorbar": {
             "outlinewidth": 0,
             "ticks": ""
            },
            "colorscale": [
             [
              0,
              "#0d0887"
             ],
             [
              0.1111111111111111,
              "#46039f"
             ],
             [
              0.2222222222222222,
              "#7201a8"
             ],
             [
              0.3333333333333333,
              "#9c179e"
             ],
             [
              0.4444444444444444,
              "#bd3786"
             ],
             [
              0.5555555555555556,
              "#d8576b"
             ],
             [
              0.6666666666666666,
              "#ed7953"
             ],
             [
              0.7777777777777778,
              "#fb9f3a"
             ],
             [
              0.8888888888888888,
              "#fdca26"
             ],
             [
              1,
              "#f0f921"
             ]
            ],
            "type": "heatmapgl"
           }
          ],
          "histogram": [
           {
            "marker": {
             "pattern": {
              "fillmode": "overlay",
              "size": 10,
              "solidity": 0.2
             }
            },
            "type": "histogram"
           }
          ],
          "histogram2d": [
           {
            "colorbar": {
             "outlinewidth": 0,
             "ticks": ""
            },
            "colorscale": [
             [
              0,
              "#0d0887"
             ],
             [
              0.1111111111111111,
              "#46039f"
             ],
             [
              0.2222222222222222,
              "#7201a8"
             ],
             [
              0.3333333333333333,
              "#9c179e"
             ],
             [
              0.4444444444444444,
              "#bd3786"
             ],
             [
              0.5555555555555556,
              "#d8576b"
             ],
             [
              0.6666666666666666,
              "#ed7953"
             ],
             [
              0.7777777777777778,
              "#fb9f3a"
             ],
             [
              0.8888888888888888,
              "#fdca26"
             ],
             [
              1,
              "#f0f921"
             ]
            ],
            "type": "histogram2d"
           }
          ],
          "histogram2dcontour": [
           {
            "colorbar": {
             "outlinewidth": 0,
             "ticks": ""
            },
            "colorscale": [
             [
              0,
              "#0d0887"
             ],
             [
              0.1111111111111111,
              "#46039f"
             ],
             [
              0.2222222222222222,
              "#7201a8"
             ],
             [
              0.3333333333333333,
              "#9c179e"
             ],
             [
              0.4444444444444444,
              "#bd3786"
             ],
             [
              0.5555555555555556,
              "#d8576b"
             ],
             [
              0.6666666666666666,
              "#ed7953"
             ],
             [
              0.7777777777777778,
              "#fb9f3a"
             ],
             [
              0.8888888888888888,
              "#fdca26"
             ],
             [
              1,
              "#f0f921"
             ]
            ],
            "type": "histogram2dcontour"
           }
          ],
          "mesh3d": [
           {
            "colorbar": {
             "outlinewidth": 0,
             "ticks": ""
            },
            "type": "mesh3d"
           }
          ],
          "parcoords": [
           {
            "line": {
             "colorbar": {
              "outlinewidth": 0,
              "ticks": ""
             }
            },
            "type": "parcoords"
           }
          ],
          "pie": [
           {
            "automargin": true,
            "type": "pie"
           }
          ],
          "scatter": [
           {
            "fillpattern": {
             "fillmode": "overlay",
             "size": 10,
             "solidity": 0.2
            },
            "type": "scatter"
           }
          ],
          "scatter3d": [
           {
            "line": {
             "colorbar": {
              "outlinewidth": 0,
              "ticks": ""
             }
            },
            "marker": {
             "colorbar": {
              "outlinewidth": 0,
              "ticks": ""
             }
            },
            "type": "scatter3d"
           }
          ],
          "scattercarpet": [
           {
            "marker": {
             "colorbar": {
              "outlinewidth": 0,
              "ticks": ""
             }
            },
            "type": "scattercarpet"
           }
          ],
          "scattergeo": [
           {
            "marker": {
             "colorbar": {
              "outlinewidth": 0,
              "ticks": ""
             }
            },
            "type": "scattergeo"
           }
          ],
          "scattergl": [
           {
            "marker": {
             "colorbar": {
              "outlinewidth": 0,
              "ticks": ""
             }
            },
            "type": "scattergl"
           }
          ],
          "scattermapbox": [
           {
            "marker": {
             "colorbar": {
              "outlinewidth": 0,
              "ticks": ""
             }
            },
            "type": "scattermapbox"
           }
          ],
          "scatterpolar": [
           {
            "marker": {
             "colorbar": {
              "outlinewidth": 0,
              "ticks": ""
             }
            },
            "type": "scatterpolar"
           }
          ],
          "scatterpolargl": [
           {
            "marker": {
             "colorbar": {
              "outlinewidth": 0,
              "ticks": ""
             }
            },
            "type": "scatterpolargl"
           }
          ],
          "scatterternary": [
           {
            "marker": {
             "colorbar": {
              "outlinewidth": 0,
              "ticks": ""
             }
            },
            "type": "scatterternary"
           }
          ],
          "surface": [
           {
            "colorbar": {
             "outlinewidth": 0,
             "ticks": ""
            },
            "colorscale": [
             [
              0,
              "#0d0887"
             ],
             [
              0.1111111111111111,
              "#46039f"
             ],
             [
              0.2222222222222222,
              "#7201a8"
             ],
             [
              0.3333333333333333,
              "#9c179e"
             ],
             [
              0.4444444444444444,
              "#bd3786"
             ],
             [
              0.5555555555555556,
              "#d8576b"
             ],
             [
              0.6666666666666666,
              "#ed7953"
             ],
             [
              0.7777777777777778,
              "#fb9f3a"
             ],
             [
              0.8888888888888888,
              "#fdca26"
             ],
             [
              1,
              "#f0f921"
             ]
            ],
            "type": "surface"
           }
          ],
          "table": [
           {
            "cells": {
             "fill": {
              "color": "#EBF0F8"
             },
             "line": {
              "color": "white"
             }
            },
            "header": {
             "fill": {
              "color": "#C8D4E3"
             },
             "line": {
              "color": "white"
             }
            },
            "type": "table"
           }
          ]
         },
         "layout": {
          "annotationdefaults": {
           "arrowcolor": "#2a3f5f",
           "arrowhead": 0,
           "arrowwidth": 1
          },
          "autotypenumbers": "strict",
          "coloraxis": {
           "colorbar": {
            "outlinewidth": 0,
            "ticks": ""
           }
          },
          "colorscale": {
           "diverging": [
            [
             0,
             "#8e0152"
            ],
            [
             0.1,
             "#c51b7d"
            ],
            [
             0.2,
             "#de77ae"
            ],
            [
             0.3,
             "#f1b6da"
            ],
            [
             0.4,
             "#fde0ef"
            ],
            [
             0.5,
             "#f7f7f7"
            ],
            [
             0.6,
             "#e6f5d0"
            ],
            [
             0.7,
             "#b8e186"
            ],
            [
             0.8,
             "#7fbc41"
            ],
            [
             0.9,
             "#4d9221"
            ],
            [
             1,
             "#276419"
            ]
           ],
           "sequential": [
            [
             0,
             "#0d0887"
            ],
            [
             0.1111111111111111,
             "#46039f"
            ],
            [
             0.2222222222222222,
             "#7201a8"
            ],
            [
             0.3333333333333333,
             "#9c179e"
            ],
            [
             0.4444444444444444,
             "#bd3786"
            ],
            [
             0.5555555555555556,
             "#d8576b"
            ],
            [
             0.6666666666666666,
             "#ed7953"
            ],
            [
             0.7777777777777778,
             "#fb9f3a"
            ],
            [
             0.8888888888888888,
             "#fdca26"
            ],
            [
             1,
             "#f0f921"
            ]
           ],
           "sequentialminus": [
            [
             0,
             "#0d0887"
            ],
            [
             0.1111111111111111,
             "#46039f"
            ],
            [
             0.2222222222222222,
             "#7201a8"
            ],
            [
             0.3333333333333333,
             "#9c179e"
            ],
            [
             0.4444444444444444,
             "#bd3786"
            ],
            [
             0.5555555555555556,
             "#d8576b"
            ],
            [
             0.6666666666666666,
             "#ed7953"
            ],
            [
             0.7777777777777778,
             "#fb9f3a"
            ],
            [
             0.8888888888888888,
             "#fdca26"
            ],
            [
             1,
             "#f0f921"
            ]
           ]
          },
          "colorway": [
           "#636efa",
           "#EF553B",
           "#00cc96",
           "#ab63fa",
           "#FFA15A",
           "#19d3f3",
           "#FF6692",
           "#B6E880",
           "#FF97FF",
           "#FECB52"
          ],
          "font": {
           "color": "#2a3f5f"
          },
          "geo": {
           "bgcolor": "white",
           "lakecolor": "white",
           "landcolor": "#E5ECF6",
           "showlakes": true,
           "showland": true,
           "subunitcolor": "white"
          },
          "hoverlabel": {
           "align": "left"
          },
          "hovermode": "closest",
          "mapbox": {
           "style": "light"
          },
          "paper_bgcolor": "white",
          "plot_bgcolor": "#E5ECF6",
          "polar": {
           "angularaxis": {
            "gridcolor": "white",
            "linecolor": "white",
            "ticks": ""
           },
           "bgcolor": "#E5ECF6",
           "radialaxis": {
            "gridcolor": "white",
            "linecolor": "white",
            "ticks": ""
           }
          },
          "scene": {
           "xaxis": {
            "backgroundcolor": "#E5ECF6",
            "gridcolor": "white",
            "gridwidth": 2,
            "linecolor": "white",
            "showbackground": true,
            "ticks": "",
            "zerolinecolor": "white"
           },
           "yaxis": {
            "backgroundcolor": "#E5ECF6",
            "gridcolor": "white",
            "gridwidth": 2,
            "linecolor": "white",
            "showbackground": true,
            "ticks": "",
            "zerolinecolor": "white"
           },
           "zaxis": {
            "backgroundcolor": "#E5ECF6",
            "gridcolor": "white",
            "gridwidth": 2,
            "linecolor": "white",
            "showbackground": true,
            "ticks": "",
            "zerolinecolor": "white"
           }
          },
          "shapedefaults": {
           "line": {
            "color": "#2a3f5f"
           }
          },
          "ternary": {
           "aaxis": {
            "gridcolor": "white",
            "linecolor": "white",
            "ticks": ""
           },
           "baxis": {
            "gridcolor": "white",
            "linecolor": "white",
            "ticks": ""
           },
           "bgcolor": "#E5ECF6",
           "caxis": {
            "gridcolor": "white",
            "linecolor": "white",
            "ticks": ""
           }
          },
          "title": {
           "x": 0.05
          },
          "xaxis": {
           "automargin": true,
           "gridcolor": "white",
           "linecolor": "white",
           "ticks": "",
           "title": {
            "standoff": 15
           },
           "zerolinecolor": "white",
           "zerolinewidth": 2
          },
          "yaxis": {
           "automargin": true,
           "gridcolor": "white",
           "linecolor": "white",
           "ticks": "",
           "title": {
            "standoff": 15
           },
           "zerolinecolor": "white",
           "zerolinewidth": 2
          }
         }
        },
        "title": {
         "text": "Placement Type Distribution by Gender Over Time"
        },
        "width": 1200,
        "xaxis": {
         "anchor": "y",
         "domain": [
          0,
          0.45
         ]
        },
        "xaxis2": {
         "anchor": "y2",
         "domain": [
          0.55,
          1
         ]
        },
        "yaxis": {
         "anchor": "x",
         "domain": [
          0,
          1
         ],
         "range": [
          0,
          100
         ],
         "title": {
          "text": "Percentage (%)"
         }
        },
        "yaxis2": {
         "anchor": "x2",
         "domain": [
          0,
          1
         ],
         "matches": "y",
         "range": [
          0,
          100
         ],
         "showticklabels": false,
         "title": {
          "text": "Percentage (%)"
         }
        }
       }
      }
     },
     "metadata": {},
     "output_type": "display_data"
    }
   ],
   "source": [
    "# Import required packages\n",
    "from plotly.subplots import make_subplots\n",
    "import plotly.graph_objects as go\n",
    "\n",
    "# Filter for only academic, private_company, and government placements\n",
    "valid_placements = ['academic', 'private_company', 'government']\n",
    "filtered_df = full_df[full_df['placement_type'].isin(valid_placements)]\n",
    "\n",
    "# Create separate dataframes for male and female\n",
    "male_df = filtered_df[filtered_df['gender'] == 'male']\n",
    "female_df = filtered_df[filtered_df['gender'] == 'female']\n",
    "\n",
    "# Get available years\n",
    "available_years = sorted(filtered_df['year'].unique())\n",
    "\n",
    "# Create frames for animation\n",
    "frames = []\n",
    "for year in available_years:\n",
    "    # Male data for this year\n",
    "    male_year = male_df[male_df['year'] <= year]\n",
    "    male_counts = male_year['placement_type'].value_counts()\n",
    "    male_pcts = (male_counts / male_counts.sum() * 100).round(1)\n",
    "    \n",
    "    # Female data for this year\n",
    "    female_year = female_df[female_df['year'] <= year]\n",
    "    female_counts = female_year['placement_type'].value_counts()\n",
    "    female_pcts = (female_counts / female_counts.sum() * 100).round(1)\n",
    "    \n",
    "    frame = go.Frame(\n",
    "        data=[\n",
    "            go.Bar(\n",
    "                x=male_pcts.index,\n",
    "                y=male_pcts.values,\n",
    "                name='Male',\n",
    "                xaxis='x',\n",
    "                yaxis='y'\n",
    "            ),\n",
    "            go.Bar(\n",
    "                x=female_pcts.index,\n",
    "                y=female_pcts.values,\n",
    "                name='Female',\n",
    "                xaxis='x2',\n",
    "                yaxis='y2'\n",
    "            )\n",
    "        ],\n",
    "        name=str(int(year))\n",
    "    )\n",
    "    frames.append(frame)\n",
    "\n",
    "# Create initial data\n",
    "initial_male = male_df[male_df['year'] <= available_years[0]]\n",
    "initial_male_counts = initial_male['placement_type'].value_counts()\n",
    "initial_male_pcts = (initial_male_counts / initial_male_counts.sum() * 100).round(1)\n",
    "\n",
    "initial_female = female_df[female_df['year'] <= available_years[0]]\n",
    "initial_female_counts = initial_female['placement_type'].value_counts()\n",
    "initial_female_pcts = (initial_female_counts / initial_female_counts.sum() * 100).round(1)\n",
    "\n",
    "# Create figure with subplots\n",
    "fig = make_subplots(\n",
    "    rows=1, cols=2,\n",
    "    subplot_titles=('Male Placement Distribution', 'Female Placement Distribution'),\n",
    "    shared_yaxes=True\n",
    ")\n",
    "\n",
    "# Add initial bars\n",
    "fig.add_trace(\n",
    "    go.Bar(\n",
    "        x=initial_male_pcts.index,\n",
    "        y=initial_male_pcts.values,\n",
    "        name='Male'\n",
    "    ),\n",
    "    row=1, col=1\n",
    ")\n",
    "\n",
    "fig.add_trace(\n",
    "    go.Bar(\n",
    "        x=initial_female_pcts.index,\n",
    "        y=initial_female_pcts.values,\n",
    "        name='Female'\n",
    "    ),\n",
    "    row=1, col=2\n",
    ")\n",
    "\n",
    "# Add frames to figure\n",
    "fig.frames = frames\n",
    "\n",
    "# Create slider\n",
    "sliders = [dict(\n",
    "    active=0,\n",
    "    currentvalue={\"prefix\": \"Year: \"},\n",
    "    pad={\"t\": 50},\n",
    "    steps=[dict(\n",
    "        label=str(int(year)),\n",
    "        method='animate',\n",
    "        args=[[str(int(year))], dict(\n",
    "            frame=dict(duration=300, redraw=True),\n",
    "            mode='immediate',\n",
    "            transition=dict(duration=300)\n",
    "        )]\n",
    "    ) for year in available_years]\n",
    ")]\n",
    "\n",
    "# Update layout\n",
    "fig.update_layout(\n",
    "    title='Placement Type Distribution by Gender Over Time',\n",
    "    yaxis_title='Percentage (%)',\n",
    "    yaxis2_title='Percentage (%)',\n",
    "    height=600,\n",
    "    width=1200,\n",
    "    showlegend=False,\n",
    "    sliders=sliders\n",
    ")\n",
    "\n",
    "# Update y-axes to have same range\n",
    "fig.update_yaxes(range=[0, 100], row=1, col=1)\n",
    "fig.update_yaxes(range=[0, 100], row=1, col=2)\n",
    "\n",
    "# Save to HTML file\n",
    "fig.write_html(\"../output/graphs/gender_placement_distribution.html\")\n",
    "\n",
    "# Display the figure\n",
    "fig.show()\n"
   ]
  },
  {
   "cell_type": "code",
   "execution_count": 32,
   "metadata": {},
   "outputs": [
    {
     "data": {
      "application/vnd.plotly.v1+json": {
       "config": {
        "plotlyServerURL": "https://plot.ly"
       },
       "data": [
        {
         "domain": {
          "x": [
           0,
           0.45
          ]
         },
         "labels": [
          "academic",
          "private_company",
          "government"
         ],
         "name": "Male",
         "title": {
          "font": {
           "size": 24
          },
          "text": "Male"
         },
         "type": "pie",
         "values": [
          75,
          15,
          10
         ]
        },
        {
         "domain": {
          "x": [
           0.55,
           1
          ]
         },
         "labels": [
          "academic",
          "government"
         ],
         "name": "Female",
         "title": {
          "font": {
           "size": 24
          },
          "text": "Female"
         },
         "type": "pie",
         "values": [
          75,
          25
         ]
        }
       ],
       "frames": [
        {
         "data": [
          {
           "domain": {
            "x": [
             0,
             0.45
            ]
           },
           "labels": [
            "academic",
            "private_company",
            "government"
           ],
           "name": "Male",
           "type": "pie",
           "values": [
            75,
            15,
            10
           ]
          },
          {
           "domain": {
            "x": [
             0.55,
             1
            ]
           },
           "labels": [
            "academic",
            "government"
           ],
           "name": "Female",
           "type": "pie",
           "values": [
            75,
            25
           ]
          }
         ],
         "name": "1998"
        },
        {
         "data": [
          {
           "domain": {
            "x": [
             0,
             0.45
            ]
           },
           "labels": [
            "academic",
            "private_company",
            "government"
           ],
           "name": "Male",
           "type": "pie",
           "values": [
            77.4,
            12.9,
            9.7
           ]
          },
          {
           "domain": {
            "x": [
             0.55,
             1
            ]
           },
           "labels": [
            "academic",
            "government"
           ],
           "name": "Female",
           "type": "pie",
           "values": [
            66.7,
            33.3
           ]
          }
         ],
         "name": "1999"
        },
        {
         "data": [
          {
           "domain": {
            "x": [
             0,
             0.45
            ]
           },
           "labels": [
            "academic",
            "government",
            "private_company"
           ],
           "name": "Male",
           "type": "pie",
           "values": [
            81,
            9.5,
            9.5
           ]
          },
          {
           "domain": {
            "x": [
             0.55,
             1
            ]
           },
           "labels": [
            "academic",
            "government"
           ],
           "name": "Female",
           "type": "pie",
           "values": [
            71.4,
            28.6
           ]
          }
         ],
         "name": "2000"
        },
        {
         "data": [
          {
           "domain": {
            "x": [
             0,
             0.45
            ]
           },
           "labels": [
            "academic",
            "private_company",
            "government"
           ],
           "name": "Male",
           "type": "pie",
           "values": [
            71.7,
            16.7,
            11.7
           ]
          },
          {
           "domain": {
            "x": [
             0.55,
             1
            ]
           },
           "labels": [
            "academic",
            "government"
           ],
           "name": "Female",
           "type": "pie",
           "values": [
            69.2,
            30.8
           ]
          }
         ],
         "name": "2001"
        },
        {
         "data": [
          {
           "domain": {
            "x": [
             0,
             0.45
            ]
           },
           "labels": [
            "academic",
            "private_company",
            "government"
           ],
           "name": "Male",
           "type": "pie",
           "values": [
            70.3,
            16.2,
            13.5
           ]
          },
          {
           "domain": {
            "x": [
             0.55,
             1
            ]
           },
           "labels": [
            "government",
            "academic",
            "private_company"
           ],
           "name": "Female",
           "type": "pie",
           "values": [
            47.6,
            47.6,
            4.8
           ]
          }
         ],
         "name": "2002"
        },
        {
         "data": [
          {
           "domain": {
            "x": [
             0,
             0.45
            ]
           },
           "labels": [
            "academic",
            "private_company",
            "government"
           ],
           "name": "Male",
           "type": "pie",
           "values": [
            65.6,
            17.8,
            16.7
           ]
          },
          {
           "domain": {
            "x": [
             0.55,
             1
            ]
           },
           "labels": [
            "academic",
            "government",
            "private_company"
           ],
           "name": "Female",
           "type": "pie",
           "values": [
            55.6,
            37,
            7.4
           ]
          }
         ],
         "name": "2003"
        },
        {
         "data": [
          {
           "domain": {
            "x": [
             0,
             0.45
            ]
           },
           "labels": [
            "academic",
            "private_company",
            "government"
           ],
           "name": "Male",
           "type": "pie",
           "values": [
            61.3,
            21.6,
            17.1
           ]
          },
          {
           "domain": {
            "x": [
             0.55,
             1
            ]
           },
           "labels": [
            "academic",
            "government",
            "private_company"
           ],
           "name": "Female",
           "type": "pie",
           "values": [
            52.6,
            31.6,
            15.8
           ]
          }
         ],
         "name": "2004"
        },
        {
         "data": [
          {
           "domain": {
            "x": [
             0,
             0.45
            ]
           },
           "labels": [
            "academic",
            "private_company",
            "government"
           ],
           "name": "Male",
           "type": "pie",
           "values": [
            57.4,
            23.2,
            19.4
           ]
          },
          {
           "domain": {
            "x": [
             0.55,
             1
            ]
           },
           "labels": [
            "academic",
            "government",
            "private_company"
           ],
           "name": "Female",
           "type": "pie",
           "values": [
            62,
            22.5,
            15.5
           ]
          }
         ],
         "name": "2005"
        },
        {
         "data": [
          {
           "domain": {
            "x": [
             0,
             0.45
            ]
           },
           "labels": [
            "academic",
            "private_company",
            "government"
           ],
           "name": "Male",
           "type": "pie",
           "values": [
            59.5,
            22.9,
            17.6
           ]
          },
          {
           "domain": {
            "x": [
             0.55,
             1
            ]
           },
           "labels": [
            "academic",
            "government",
            "private_company"
           ],
           "name": "Female",
           "type": "pie",
           "values": [
            67,
            16.5,
            16.5
           ]
          }
         ],
         "name": "2006"
        },
        {
         "data": [
          {
           "domain": {
            "x": [
             0,
             0.45
            ]
           },
           "labels": [
            "academic",
            "private_company",
            "government"
           ],
           "name": "Male",
           "type": "pie",
           "values": [
            60.6,
            23.6,
            15.8
           ]
          },
          {
           "domain": {
            "x": [
             0.55,
             1
            ]
           },
           "labels": [
            "academic",
            "private_company",
            "government"
           ],
           "name": "Female",
           "type": "pie",
           "values": [
            65.3,
            18.2,
            16.5
           ]
          }
         ],
         "name": "2007"
        },
        {
         "data": [
          {
           "domain": {
            "x": [
             0,
             0.45
            ]
           },
           "labels": [
            "academic",
            "private_company",
            "government"
           ],
           "name": "Male",
           "type": "pie",
           "values": [
            61.8,
            22.5,
            15.7
           ]
          },
          {
           "domain": {
            "x": [
             0.55,
             1
            ]
           },
           "labels": [
            "academic",
            "private_company",
            "government"
           ],
           "name": "Female",
           "type": "pie",
           "values": [
            64.6,
            20.4,
            15
           ]
          }
         ],
         "name": "2008"
        },
        {
         "data": [
          {
           "domain": {
            "x": [
             0,
             0.45
            ]
           },
           "labels": [
            "academic",
            "private_company",
            "government"
           ],
           "name": "Male",
           "type": "pie",
           "values": [
            64.4,
            20.1,
            15.5
           ]
          },
          {
           "domain": {
            "x": [
             0.55,
             1
            ]
           },
           "labels": [
            "academic",
            "private_company",
            "government"
           ],
           "name": "Female",
           "type": "pie",
           "values": [
            65.1,
            19.5,
            15.4
           ]
          }
         ],
         "name": "2009"
        },
        {
         "data": [
          {
           "domain": {
            "x": [
             0,
             0.45
            ]
           },
           "labels": [
            "academic",
            "private_company",
            "government"
           ],
           "name": "Male",
           "type": "pie",
           "values": [
            65.9,
            18.5,
            15.6
           ]
          },
          {
           "domain": {
            "x": [
             0.55,
             1
            ]
           },
           "labels": [
            "academic",
            "private_company",
            "government"
           ],
           "name": "Female",
           "type": "pie",
           "values": [
            65.1,
            18.8,
            16.1
           ]
          }
         ],
         "name": "2010"
        },
        {
         "data": [
          {
           "domain": {
            "x": [
             0,
             0.45
            ]
           },
           "labels": [
            "academic",
            "private_company",
            "government"
           ],
           "name": "Male",
           "type": "pie",
           "values": [
            65.8,
            17.4,
            16.8
           ]
          },
          {
           "domain": {
            "x": [
             0.55,
             1
            ]
           },
           "labels": [
            "academic",
            "private_company",
            "government"
           ],
           "name": "Female",
           "type": "pie",
           "values": [
            66.8,
            17.3,
            15.9
           ]
          }
         ],
         "name": "2011"
        },
        {
         "data": [
          {
           "domain": {
            "x": [
             0,
             0.45
            ]
           },
           "labels": [
            "academic",
            "private_company",
            "government"
           ],
           "name": "Male",
           "type": "pie",
           "values": [
            67.4,
            17.1,
            15.5
           ]
          },
          {
           "domain": {
            "x": [
             0.55,
             1
            ]
           },
           "labels": [
            "academic",
            "private_company",
            "government"
           ],
           "name": "Female",
           "type": "pie",
           "values": [
            66.3,
            17.8,
            15.9
           ]
          }
         ],
         "name": "2012"
        },
        {
         "data": [
          {
           "domain": {
            "x": [
             0,
             0.45
            ]
           },
           "labels": [
            "academic",
            "private_company",
            "government"
           ],
           "name": "Male",
           "type": "pie",
           "values": [
            67.5,
            17.1,
            15.4
           ]
          },
          {
           "domain": {
            "x": [
             0.55,
             1
            ]
           },
           "labels": [
            "academic",
            "private_company",
            "government"
           ],
           "name": "Female",
           "type": "pie",
           "values": [
            68.2,
            16.9,
            14.9
           ]
          }
         ],
         "name": "2013"
        },
        {
         "data": [
          {
           "domain": {
            "x": [
             0,
             0.45
            ]
           },
           "labels": [
            "academic",
            "private_company",
            "government"
           ],
           "name": "Male",
           "type": "pie",
           "values": [
            68,
            16.8,
            15.2
           ]
          },
          {
           "domain": {
            "x": [
             0.55,
             1
            ]
           },
           "labels": [
            "academic",
            "private_company",
            "government"
           ],
           "name": "Female",
           "type": "pie",
           "values": [
            68.8,
            16.9,
            14.3
           ]
          }
         ],
         "name": "2014"
        },
        {
         "data": [
          {
           "domain": {
            "x": [
             0,
             0.45
            ]
           },
           "labels": [
            "academic",
            "private_company",
            "government"
           ],
           "name": "Male",
           "type": "pie",
           "values": [
            67.3,
            17,
            15.7
           ]
          },
          {
           "domain": {
            "x": [
             0.55,
             1
            ]
           },
           "labels": [
            "academic",
            "private_company",
            "government"
           ],
           "name": "Female",
           "type": "pie",
           "values": [
            69,
            16.8,
            14.2
           ]
          }
         ],
         "name": "2015"
        },
        {
         "data": [
          {
           "domain": {
            "x": [
             0,
             0.45
            ]
           },
           "labels": [
            "academic",
            "private_company",
            "government"
           ],
           "name": "Male",
           "type": "pie",
           "values": [
            67.1,
            18,
            14.9
           ]
          },
          {
           "domain": {
            "x": [
             0.55,
             1
            ]
           },
           "labels": [
            "academic",
            "private_company",
            "government"
           ],
           "name": "Female",
           "type": "pie",
           "values": [
            68.4,
            18.1,
            13.5
           ]
          }
         ],
         "name": "2016"
        },
        {
         "data": [
          {
           "domain": {
            "x": [
             0,
             0.45
            ]
           },
           "labels": [
            "academic",
            "private_company",
            "government"
           ],
           "name": "Male",
           "type": "pie",
           "values": [
            66.5,
            19.1,
            14.4
           ]
          },
          {
           "domain": {
            "x": [
             0.55,
             1
            ]
           },
           "labels": [
            "academic",
            "private_company",
            "government"
           ],
           "name": "Female",
           "type": "pie",
           "values": [
            67.4,
            19.4,
            13.2
           ]
          }
         ],
         "name": "2017"
        },
        {
         "data": [
          {
           "domain": {
            "x": [
             0,
             0.45
            ]
           },
           "labels": [
            "academic",
            "private_company",
            "government"
           ],
           "name": "Male",
           "type": "pie",
           "values": [
            66.2,
            19.8,
            14
           ]
          },
          {
           "domain": {
            "x": [
             0.55,
             1
            ]
           },
           "labels": [
            "academic",
            "private_company",
            "government"
           ],
           "name": "Female",
           "type": "pie",
           "values": [
            67.7,
            19.6,
            12.7
           ]
          }
         ],
         "name": "2018"
        },
        {
         "data": [
          {
           "domain": {
            "x": [
             0,
             0.45
            ]
           },
           "labels": [
            "academic",
            "private_company",
            "government"
           ],
           "name": "Male",
           "type": "pie",
           "values": [
            65.9,
            20.1,
            14
           ]
          },
          {
           "domain": {
            "x": [
             0.55,
             1
            ]
           },
           "labels": [
            "academic",
            "private_company",
            "government"
           ],
           "name": "Female",
           "type": "pie",
           "values": [
            67,
            20.9,
            12.2
           ]
          }
         ],
         "name": "2019"
        },
        {
         "data": [
          {
           "domain": {
            "x": [
             0,
             0.45
            ]
           },
           "labels": [
            "academic",
            "private_company",
            "government"
           ],
           "name": "Male",
           "type": "pie",
           "values": [
            65.3,
            21,
            13.7
           ]
          },
          {
           "domain": {
            "x": [
             0.55,
             1
            ]
           },
           "labels": [
            "academic",
            "private_company",
            "government"
           ],
           "name": "Female",
           "type": "pie",
           "values": [
            66.3,
            21.5,
            12.2
           ]
          }
         ],
         "name": "2020"
        },
        {
         "data": [
          {
           "domain": {
            "x": [
             0,
             0.45
            ]
           },
           "labels": [
            "academic",
            "private_company",
            "government"
           ],
           "name": "Male",
           "type": "pie",
           "values": [
            64.6,
            21.6,
            13.7
           ]
          },
          {
           "domain": {
            "x": [
             0.55,
             1
            ]
           },
           "labels": [
            "academic",
            "private_company",
            "government"
           ],
           "name": "Female",
           "type": "pie",
           "values": [
            65.5,
            22.6,
            11.9
           ]
          }
         ],
         "name": "2021"
        },
        {
         "data": [
          {
           "domain": {
            "x": [
             0,
             0.45
            ]
           },
           "labels": [
            "academic",
            "private_company",
            "government"
           ],
           "name": "Male",
           "type": "pie",
           "values": [
            63.5,
            22.7,
            13.7
           ]
          },
          {
           "domain": {
            "x": [
             0.55,
             1
            ]
           },
           "labels": [
            "academic",
            "private_company",
            "government"
           ],
           "name": "Female",
           "type": "pie",
           "values": [
            65.2,
            23,
            11.8
           ]
          }
         ],
         "name": "2022"
        },
        {
         "data": [
          {
           "domain": {
            "x": [
             0,
             0.45
            ]
           },
           "labels": [
            "academic",
            "private_company",
            "government"
           ],
           "name": "Male",
           "type": "pie",
           "values": [
            63.2,
            23.1,
            13.7
           ]
          },
          {
           "domain": {
            "x": [
             0.55,
             1
            ]
           },
           "labels": [
            "academic",
            "private_company",
            "government"
           ],
           "name": "Female",
           "type": "pie",
           "values": [
            64.7,
            23.7,
            11.6
           ]
          }
         ],
         "name": "2023"
        },
        {
         "data": [
          {
           "domain": {
            "x": [
             0,
             0.45
            ]
           },
           "labels": [
            "academic",
            "private_company",
            "government"
           ],
           "name": "Male",
           "type": "pie",
           "values": [
            63.2,
            23.4,
            13.5
           ]
          },
          {
           "domain": {
            "x": [
             0.55,
             1
            ]
           },
           "labels": [
            "academic",
            "private_company",
            "government"
           ],
           "name": "Female",
           "type": "pie",
           "values": [
            65.2,
            22.8,
            12
           ]
          }
         ],
         "name": "2024"
        }
       ],
       "layout": {
        "height": 600,
        "showlegend": true,
        "sliders": [
         {
          "active": 0,
          "currentvalue": {
           "prefix": "Year: "
          },
          "pad": {
           "t": 50
          },
          "steps": [
           {
            "args": [
             [
              "1998"
             ],
             {
              "frame": {
               "duration": 300,
               "redraw": true
              },
              "mode": "immediate",
              "transition": {
               "duration": 300
              }
             }
            ],
            "label": "1998",
            "method": "animate"
           },
           {
            "args": [
             [
              "1999"
             ],
             {
              "frame": {
               "duration": 300,
               "redraw": true
              },
              "mode": "immediate",
              "transition": {
               "duration": 300
              }
             }
            ],
            "label": "1999",
            "method": "animate"
           },
           {
            "args": [
             [
              "2000"
             ],
             {
              "frame": {
               "duration": 300,
               "redraw": true
              },
              "mode": "immediate",
              "transition": {
               "duration": 300
              }
             }
            ],
            "label": "2000",
            "method": "animate"
           },
           {
            "args": [
             [
              "2001"
             ],
             {
              "frame": {
               "duration": 300,
               "redraw": true
              },
              "mode": "immediate",
              "transition": {
               "duration": 300
              }
             }
            ],
            "label": "2001",
            "method": "animate"
           },
           {
            "args": [
             [
              "2002"
             ],
             {
              "frame": {
               "duration": 300,
               "redraw": true
              },
              "mode": "immediate",
              "transition": {
               "duration": 300
              }
             }
            ],
            "label": "2002",
            "method": "animate"
           },
           {
            "args": [
             [
              "2003"
             ],
             {
              "frame": {
               "duration": 300,
               "redraw": true
              },
              "mode": "immediate",
              "transition": {
               "duration": 300
              }
             }
            ],
            "label": "2003",
            "method": "animate"
           },
           {
            "args": [
             [
              "2004"
             ],
             {
              "frame": {
               "duration": 300,
               "redraw": true
              },
              "mode": "immediate",
              "transition": {
               "duration": 300
              }
             }
            ],
            "label": "2004",
            "method": "animate"
           },
           {
            "args": [
             [
              "2005"
             ],
             {
              "frame": {
               "duration": 300,
               "redraw": true
              },
              "mode": "immediate",
              "transition": {
               "duration": 300
              }
             }
            ],
            "label": "2005",
            "method": "animate"
           },
           {
            "args": [
             [
              "2006"
             ],
             {
              "frame": {
               "duration": 300,
               "redraw": true
              },
              "mode": "immediate",
              "transition": {
               "duration": 300
              }
             }
            ],
            "label": "2006",
            "method": "animate"
           },
           {
            "args": [
             [
              "2007"
             ],
             {
              "frame": {
               "duration": 300,
               "redraw": true
              },
              "mode": "immediate",
              "transition": {
               "duration": 300
              }
             }
            ],
            "label": "2007",
            "method": "animate"
           },
           {
            "args": [
             [
              "2008"
             ],
             {
              "frame": {
               "duration": 300,
               "redraw": true
              },
              "mode": "immediate",
              "transition": {
               "duration": 300
              }
             }
            ],
            "label": "2008",
            "method": "animate"
           },
           {
            "args": [
             [
              "2009"
             ],
             {
              "frame": {
               "duration": 300,
               "redraw": true
              },
              "mode": "immediate",
              "transition": {
               "duration": 300
              }
             }
            ],
            "label": "2009",
            "method": "animate"
           },
           {
            "args": [
             [
              "2010"
             ],
             {
              "frame": {
               "duration": 300,
               "redraw": true
              },
              "mode": "immediate",
              "transition": {
               "duration": 300
              }
             }
            ],
            "label": "2010",
            "method": "animate"
           },
           {
            "args": [
             [
              "2011"
             ],
             {
              "frame": {
               "duration": 300,
               "redraw": true
              },
              "mode": "immediate",
              "transition": {
               "duration": 300
              }
             }
            ],
            "label": "2011",
            "method": "animate"
           },
           {
            "args": [
             [
              "2012"
             ],
             {
              "frame": {
               "duration": 300,
               "redraw": true
              },
              "mode": "immediate",
              "transition": {
               "duration": 300
              }
             }
            ],
            "label": "2012",
            "method": "animate"
           },
           {
            "args": [
             [
              "2013"
             ],
             {
              "frame": {
               "duration": 300,
               "redraw": true
              },
              "mode": "immediate",
              "transition": {
               "duration": 300
              }
             }
            ],
            "label": "2013",
            "method": "animate"
           },
           {
            "args": [
             [
              "2014"
             ],
             {
              "frame": {
               "duration": 300,
               "redraw": true
              },
              "mode": "immediate",
              "transition": {
               "duration": 300
              }
             }
            ],
            "label": "2014",
            "method": "animate"
           },
           {
            "args": [
             [
              "2015"
             ],
             {
              "frame": {
               "duration": 300,
               "redraw": true
              },
              "mode": "immediate",
              "transition": {
               "duration": 300
              }
             }
            ],
            "label": "2015",
            "method": "animate"
           },
           {
            "args": [
             [
              "2016"
             ],
             {
              "frame": {
               "duration": 300,
               "redraw": true
              },
              "mode": "immediate",
              "transition": {
               "duration": 300
              }
             }
            ],
            "label": "2016",
            "method": "animate"
           },
           {
            "args": [
             [
              "2017"
             ],
             {
              "frame": {
               "duration": 300,
               "redraw": true
              },
              "mode": "immediate",
              "transition": {
               "duration": 300
              }
             }
            ],
            "label": "2017",
            "method": "animate"
           },
           {
            "args": [
             [
              "2018"
             ],
             {
              "frame": {
               "duration": 300,
               "redraw": true
              },
              "mode": "immediate",
              "transition": {
               "duration": 300
              }
             }
            ],
            "label": "2018",
            "method": "animate"
           },
           {
            "args": [
             [
              "2019"
             ],
             {
              "frame": {
               "duration": 300,
               "redraw": true
              },
              "mode": "immediate",
              "transition": {
               "duration": 300
              }
             }
            ],
            "label": "2019",
            "method": "animate"
           },
           {
            "args": [
             [
              "2020"
             ],
             {
              "frame": {
               "duration": 300,
               "redraw": true
              },
              "mode": "immediate",
              "transition": {
               "duration": 300
              }
             }
            ],
            "label": "2020",
            "method": "animate"
           },
           {
            "args": [
             [
              "2021"
             ],
             {
              "frame": {
               "duration": 300,
               "redraw": true
              },
              "mode": "immediate",
              "transition": {
               "duration": 300
              }
             }
            ],
            "label": "2021",
            "method": "animate"
           },
           {
            "args": [
             [
              "2022"
             ],
             {
              "frame": {
               "duration": 300,
               "redraw": true
              },
              "mode": "immediate",
              "transition": {
               "duration": 300
              }
             }
            ],
            "label": "2022",
            "method": "animate"
           },
           {
            "args": [
             [
              "2023"
             ],
             {
              "frame": {
               "duration": 300,
               "redraw": true
              },
              "mode": "immediate",
              "transition": {
               "duration": 300
              }
             }
            ],
            "label": "2023",
            "method": "animate"
           },
           {
            "args": [
             [
              "2024"
             ],
             {
              "frame": {
               "duration": 300,
               "redraw": true
              },
              "mode": "immediate",
              "transition": {
               "duration": 300
              }
             }
            ],
            "label": "2024",
            "method": "animate"
           }
          ]
         }
        ],
        "template": {
         "data": {
          "bar": [
           {
            "error_x": {
             "color": "#2a3f5f"
            },
            "error_y": {
             "color": "#2a3f5f"
            },
            "marker": {
             "line": {
              "color": "#E5ECF6",
              "width": 0.5
             },
             "pattern": {
              "fillmode": "overlay",
              "size": 10,
              "solidity": 0.2
             }
            },
            "type": "bar"
           }
          ],
          "barpolar": [
           {
            "marker": {
             "line": {
              "color": "#E5ECF6",
              "width": 0.5
             },
             "pattern": {
              "fillmode": "overlay",
              "size": 10,
              "solidity": 0.2
             }
            },
            "type": "barpolar"
           }
          ],
          "carpet": [
           {
            "aaxis": {
             "endlinecolor": "#2a3f5f",
             "gridcolor": "white",
             "linecolor": "white",
             "minorgridcolor": "white",
             "startlinecolor": "#2a3f5f"
            },
            "baxis": {
             "endlinecolor": "#2a3f5f",
             "gridcolor": "white",
             "linecolor": "white",
             "minorgridcolor": "white",
             "startlinecolor": "#2a3f5f"
            },
            "type": "carpet"
           }
          ],
          "choropleth": [
           {
            "colorbar": {
             "outlinewidth": 0,
             "ticks": ""
            },
            "type": "choropleth"
           }
          ],
          "contour": [
           {
            "colorbar": {
             "outlinewidth": 0,
             "ticks": ""
            },
            "colorscale": [
             [
              0,
              "#0d0887"
             ],
             [
              0.1111111111111111,
              "#46039f"
             ],
             [
              0.2222222222222222,
              "#7201a8"
             ],
             [
              0.3333333333333333,
              "#9c179e"
             ],
             [
              0.4444444444444444,
              "#bd3786"
             ],
             [
              0.5555555555555556,
              "#d8576b"
             ],
             [
              0.6666666666666666,
              "#ed7953"
             ],
             [
              0.7777777777777778,
              "#fb9f3a"
             ],
             [
              0.8888888888888888,
              "#fdca26"
             ],
             [
              1,
              "#f0f921"
             ]
            ],
            "type": "contour"
           }
          ],
          "contourcarpet": [
           {
            "colorbar": {
             "outlinewidth": 0,
             "ticks": ""
            },
            "type": "contourcarpet"
           }
          ],
          "heatmap": [
           {
            "colorbar": {
             "outlinewidth": 0,
             "ticks": ""
            },
            "colorscale": [
             [
              0,
              "#0d0887"
             ],
             [
              0.1111111111111111,
              "#46039f"
             ],
             [
              0.2222222222222222,
              "#7201a8"
             ],
             [
              0.3333333333333333,
              "#9c179e"
             ],
             [
              0.4444444444444444,
              "#bd3786"
             ],
             [
              0.5555555555555556,
              "#d8576b"
             ],
             [
              0.6666666666666666,
              "#ed7953"
             ],
             [
              0.7777777777777778,
              "#fb9f3a"
             ],
             [
              0.8888888888888888,
              "#fdca26"
             ],
             [
              1,
              "#f0f921"
             ]
            ],
            "type": "heatmap"
           }
          ],
          "heatmapgl": [
           {
            "colorbar": {
             "outlinewidth": 0,
             "ticks": ""
            },
            "colorscale": [
             [
              0,
              "#0d0887"
             ],
             [
              0.1111111111111111,
              "#46039f"
             ],
             [
              0.2222222222222222,
              "#7201a8"
             ],
             [
              0.3333333333333333,
              "#9c179e"
             ],
             [
              0.4444444444444444,
              "#bd3786"
             ],
             [
              0.5555555555555556,
              "#d8576b"
             ],
             [
              0.6666666666666666,
              "#ed7953"
             ],
             [
              0.7777777777777778,
              "#fb9f3a"
             ],
             [
              0.8888888888888888,
              "#fdca26"
             ],
             [
              1,
              "#f0f921"
             ]
            ],
            "type": "heatmapgl"
           }
          ],
          "histogram": [
           {
            "marker": {
             "pattern": {
              "fillmode": "overlay",
              "size": 10,
              "solidity": 0.2
             }
            },
            "type": "histogram"
           }
          ],
          "histogram2d": [
           {
            "colorbar": {
             "outlinewidth": 0,
             "ticks": ""
            },
            "colorscale": [
             [
              0,
              "#0d0887"
             ],
             [
              0.1111111111111111,
              "#46039f"
             ],
             [
              0.2222222222222222,
              "#7201a8"
             ],
             [
              0.3333333333333333,
              "#9c179e"
             ],
             [
              0.4444444444444444,
              "#bd3786"
             ],
             [
              0.5555555555555556,
              "#d8576b"
             ],
             [
              0.6666666666666666,
              "#ed7953"
             ],
             [
              0.7777777777777778,
              "#fb9f3a"
             ],
             [
              0.8888888888888888,
              "#fdca26"
             ],
             [
              1,
              "#f0f921"
             ]
            ],
            "type": "histogram2d"
           }
          ],
          "histogram2dcontour": [
           {
            "colorbar": {
             "outlinewidth": 0,
             "ticks": ""
            },
            "colorscale": [
             [
              0,
              "#0d0887"
             ],
             [
              0.1111111111111111,
              "#46039f"
             ],
             [
              0.2222222222222222,
              "#7201a8"
             ],
             [
              0.3333333333333333,
              "#9c179e"
             ],
             [
              0.4444444444444444,
              "#bd3786"
             ],
             [
              0.5555555555555556,
              "#d8576b"
             ],
             [
              0.6666666666666666,
              "#ed7953"
             ],
             [
              0.7777777777777778,
              "#fb9f3a"
             ],
             [
              0.8888888888888888,
              "#fdca26"
             ],
             [
              1,
              "#f0f921"
             ]
            ],
            "type": "histogram2dcontour"
           }
          ],
          "mesh3d": [
           {
            "colorbar": {
             "outlinewidth": 0,
             "ticks": ""
            },
            "type": "mesh3d"
           }
          ],
          "parcoords": [
           {
            "line": {
             "colorbar": {
              "outlinewidth": 0,
              "ticks": ""
             }
            },
            "type": "parcoords"
           }
          ],
          "pie": [
           {
            "automargin": true,
            "type": "pie"
           }
          ],
          "scatter": [
           {
            "fillpattern": {
             "fillmode": "overlay",
             "size": 10,
             "solidity": 0.2
            },
            "type": "scatter"
           }
          ],
          "scatter3d": [
           {
            "line": {
             "colorbar": {
              "outlinewidth": 0,
              "ticks": ""
             }
            },
            "marker": {
             "colorbar": {
              "outlinewidth": 0,
              "ticks": ""
             }
            },
            "type": "scatter3d"
           }
          ],
          "scattercarpet": [
           {
            "marker": {
             "colorbar": {
              "outlinewidth": 0,
              "ticks": ""
             }
            },
            "type": "scattercarpet"
           }
          ],
          "scattergeo": [
           {
            "marker": {
             "colorbar": {
              "outlinewidth": 0,
              "ticks": ""
             }
            },
            "type": "scattergeo"
           }
          ],
          "scattergl": [
           {
            "marker": {
             "colorbar": {
              "outlinewidth": 0,
              "ticks": ""
             }
            },
            "type": "scattergl"
           }
          ],
          "scattermapbox": [
           {
            "marker": {
             "colorbar": {
              "outlinewidth": 0,
              "ticks": ""
             }
            },
            "type": "scattermapbox"
           }
          ],
          "scatterpolar": [
           {
            "marker": {
             "colorbar": {
              "outlinewidth": 0,
              "ticks": ""
             }
            },
            "type": "scatterpolar"
           }
          ],
          "scatterpolargl": [
           {
            "marker": {
             "colorbar": {
              "outlinewidth": 0,
              "ticks": ""
             }
            },
            "type": "scatterpolargl"
           }
          ],
          "scatterternary": [
           {
            "marker": {
             "colorbar": {
              "outlinewidth": 0,
              "ticks": ""
             }
            },
            "type": "scatterternary"
           }
          ],
          "surface": [
           {
            "colorbar": {
             "outlinewidth": 0,
             "ticks": ""
            },
            "colorscale": [
             [
              0,
              "#0d0887"
             ],
             [
              0.1111111111111111,
              "#46039f"
             ],
             [
              0.2222222222222222,
              "#7201a8"
             ],
             [
              0.3333333333333333,
              "#9c179e"
             ],
             [
              0.4444444444444444,
              "#bd3786"
             ],
             [
              0.5555555555555556,
              "#d8576b"
             ],
             [
              0.6666666666666666,
              "#ed7953"
             ],
             [
              0.7777777777777778,
              "#fb9f3a"
             ],
             [
              0.8888888888888888,
              "#fdca26"
             ],
             [
              1,
              "#f0f921"
             ]
            ],
            "type": "surface"
           }
          ],
          "table": [
           {
            "cells": {
             "fill": {
              "color": "#EBF0F8"
             },
             "line": {
              "color": "white"
             }
            },
            "header": {
             "fill": {
              "color": "#C8D4E3"
             },
             "line": {
              "color": "white"
             }
            },
            "type": "table"
           }
          ]
         },
         "layout": {
          "annotationdefaults": {
           "arrowcolor": "#2a3f5f",
           "arrowhead": 0,
           "arrowwidth": 1
          },
          "autotypenumbers": "strict",
          "coloraxis": {
           "colorbar": {
            "outlinewidth": 0,
            "ticks": ""
           }
          },
          "colorscale": {
           "diverging": [
            [
             0,
             "#8e0152"
            ],
            [
             0.1,
             "#c51b7d"
            ],
            [
             0.2,
             "#de77ae"
            ],
            [
             0.3,
             "#f1b6da"
            ],
            [
             0.4,
             "#fde0ef"
            ],
            [
             0.5,
             "#f7f7f7"
            ],
            [
             0.6,
             "#e6f5d0"
            ],
            [
             0.7,
             "#b8e186"
            ],
            [
             0.8,
             "#7fbc41"
            ],
            [
             0.9,
             "#4d9221"
            ],
            [
             1,
             "#276419"
            ]
           ],
           "sequential": [
            [
             0,
             "#0d0887"
            ],
            [
             0.1111111111111111,
             "#46039f"
            ],
            [
             0.2222222222222222,
             "#7201a8"
            ],
            [
             0.3333333333333333,
             "#9c179e"
            ],
            [
             0.4444444444444444,
             "#bd3786"
            ],
            [
             0.5555555555555556,
             "#d8576b"
            ],
            [
             0.6666666666666666,
             "#ed7953"
            ],
            [
             0.7777777777777778,
             "#fb9f3a"
            ],
            [
             0.8888888888888888,
             "#fdca26"
            ],
            [
             1,
             "#f0f921"
            ]
           ],
           "sequentialminus": [
            [
             0,
             "#0d0887"
            ],
            [
             0.1111111111111111,
             "#46039f"
            ],
            [
             0.2222222222222222,
             "#7201a8"
            ],
            [
             0.3333333333333333,
             "#9c179e"
            ],
            [
             0.4444444444444444,
             "#bd3786"
            ],
            [
             0.5555555555555556,
             "#d8576b"
            ],
            [
             0.6666666666666666,
             "#ed7953"
            ],
            [
             0.7777777777777778,
             "#fb9f3a"
            ],
            [
             0.8888888888888888,
             "#fdca26"
            ],
            [
             1,
             "#f0f921"
            ]
           ]
          },
          "colorway": [
           "#636efa",
           "#EF553B",
           "#00cc96",
           "#ab63fa",
           "#FFA15A",
           "#19d3f3",
           "#FF6692",
           "#B6E880",
           "#FF97FF",
           "#FECB52"
          ],
          "font": {
           "color": "#2a3f5f"
          },
          "geo": {
           "bgcolor": "white",
           "lakecolor": "white",
           "landcolor": "#E5ECF6",
           "showlakes": true,
           "showland": true,
           "subunitcolor": "white"
          },
          "hoverlabel": {
           "align": "left"
          },
          "hovermode": "closest",
          "mapbox": {
           "style": "light"
          },
          "paper_bgcolor": "white",
          "plot_bgcolor": "#E5ECF6",
          "polar": {
           "angularaxis": {
            "gridcolor": "white",
            "linecolor": "white",
            "ticks": ""
           },
           "bgcolor": "#E5ECF6",
           "radialaxis": {
            "gridcolor": "white",
            "linecolor": "white",
            "ticks": ""
           }
          },
          "scene": {
           "xaxis": {
            "backgroundcolor": "#E5ECF6",
            "gridcolor": "white",
            "gridwidth": 2,
            "linecolor": "white",
            "showbackground": true,
            "ticks": "",
            "zerolinecolor": "white"
           },
           "yaxis": {
            "backgroundcolor": "#E5ECF6",
            "gridcolor": "white",
            "gridwidth": 2,
            "linecolor": "white",
            "showbackground": true,
            "ticks": "",
            "zerolinecolor": "white"
           },
           "zaxis": {
            "backgroundcolor": "#E5ECF6",
            "gridcolor": "white",
            "gridwidth": 2,
            "linecolor": "white",
            "showbackground": true,
            "ticks": "",
            "zerolinecolor": "white"
           }
          },
          "shapedefaults": {
           "line": {
            "color": "#2a3f5f"
           }
          },
          "ternary": {
           "aaxis": {
            "gridcolor": "white",
            "linecolor": "white",
            "ticks": ""
           },
           "baxis": {
            "gridcolor": "white",
            "linecolor": "white",
            "ticks": ""
           },
           "bgcolor": "#E5ECF6",
           "caxis": {
            "gridcolor": "white",
            "linecolor": "white",
            "ticks": ""
           }
          },
          "title": {
           "x": 0.05
          },
          "xaxis": {
           "automargin": true,
           "gridcolor": "white",
           "linecolor": "white",
           "ticks": "",
           "title": {
            "standoff": 15
           },
           "zerolinecolor": "white",
           "zerolinewidth": 2
          },
          "yaxis": {
           "automargin": true,
           "gridcolor": "white",
           "linecolor": "white",
           "ticks": "",
           "title": {
            "standoff": 15
           },
           "zerolinecolor": "white",
           "zerolinewidth": 2
          }
         }
        },
        "title": {
         "text": "Placement Type Distribution by Gender Over Time"
        },
        "width": 1200
       }
      }
     },
     "metadata": {},
     "output_type": "display_data"
    }
   ],
   "source": [
    "# Import required packages\n",
    "from plotly.subplots import make_subplots\n",
    "import plotly.graph_objects as go\n",
    "\n",
    "# Filter for only academic, private_company, and government placements\n",
    "valid_placements = ['academic', 'private_company', 'government']\n",
    "filtered_df = full_df[full_df['placement_type'].isin(valid_placements)]\n",
    "\n",
    "# Create separate dataframes for male and female\n",
    "male_df = filtered_df[filtered_df['gender'] == 'male']\n",
    "female_df = filtered_df[filtered_df['gender'] == 'female']\n",
    "\n",
    "# Get available years\n",
    "available_years = sorted(filtered_df['year'].unique())\n",
    "\n",
    "# Create frames for animation\n",
    "frames = []\n",
    "for year in available_years:\n",
    "    # Male data for this year\n",
    "    male_year = male_df[male_df['year'] <= year]\n",
    "    male_counts = male_year['placement_type'].value_counts()\n",
    "    male_pcts = (male_counts / male_counts.sum() * 100).round(1)\n",
    "    \n",
    "    # Female data for this year\n",
    "    female_year = female_df[female_df['year'] <= year]\n",
    "    female_counts = female_year['placement_type'].value_counts()\n",
    "    female_pcts = (female_counts / female_counts.sum() * 100).round(1)\n",
    "    \n",
    "    frame = go.Frame(\n",
    "        data=[\n",
    "            go.Pie(\n",
    "                labels=male_pcts.index,\n",
    "                values=male_pcts.values,\n",
    "                name='Male',\n",
    "                domain={'x': [0, 0.45]}\n",
    "            ),\n",
    "            go.Pie(\n",
    "                labels=female_pcts.index,\n",
    "                values=female_pcts.values,\n",
    "                name='Female',\n",
    "                domain={'x': [0.55, 1]}\n",
    "            )\n",
    "        ],\n",
    "        name=str(int(year))\n",
    "    )\n",
    "    frames.append(frame)\n",
    "\n",
    "# Create initial data\n",
    "initial_male = male_df[male_df['year'] <= available_years[0]]\n",
    "initial_male_counts = initial_male['placement_type'].value_counts()\n",
    "initial_male_pcts = (initial_male_counts / initial_male_counts.sum() * 100).round(1)\n",
    "\n",
    "initial_female = female_df[female_df['year'] <= available_years[0]]\n",
    "initial_female_counts = initial_female['placement_type'].value_counts()\n",
    "initial_female_pcts = (initial_female_counts / initial_female_counts.sum() * 100).round(1)\n",
    "\n",
    "# Create figure\n",
    "fig = go.Figure()\n",
    "# Add initial pie charts\n",
    "fig.add_trace(\n",
    "    go.Pie(\n",
    "        labels=initial_male_pcts.index,\n",
    "        values=initial_male_pcts.values,\n",
    "        name='Male',\n",
    "        domain={'x': [0, 0.45]},\n",
    "        title=dict(\n",
    "            text='Male',\n",
    "            font=dict(size=24)\n",
    "        )\n",
    "    )\n",
    ")\n",
    "\n",
    "fig.add_trace(\n",
    "    go.Pie(\n",
    "        labels=initial_female_pcts.index,\n",
    "        values=initial_female_pcts.values,\n",
    "        name='Female',\n",
    "        domain={'x': [0.55, 1]},\n",
    "        title=dict(\n",
    "            text='Female',\n",
    "            font=dict(size=24)\n",
    "        )\n",
    "    )\n",
    ")\n",
    "\n",
    "# Add frames to figure\n",
    "fig.frames = frames\n",
    "\n",
    "# Create slider\n",
    "sliders = [dict(\n",
    "    active=0,\n",
    "    currentvalue={\"prefix\": \"Year: \"},\n",
    "    pad={\"t\": 50},\n",
    "    steps=[dict(\n",
    "        label=str(int(year)),\n",
    "        method='animate',\n",
    "        args=[[str(int(year))], dict(\n",
    "            frame=dict(duration=300, redraw=True),\n",
    "            mode='immediate',\n",
    "            transition=dict(duration=300)\n",
    "        )]\n",
    "    ) for year in available_years]\n",
    ")]\n",
    "\n",
    "# Update layout\n",
    "fig.update_layout(\n",
    "    title='Placement Type Distribution by Gender Over Time',\n",
    "    height=600,\n",
    "    width=1200,\n",
    "    showlegend=True,\n",
    "    sliders=sliders\n",
    ")\n",
    "\n",
    "# Save to HTML file\n",
    "fig.write_html(\"../output/graphs/gender_placement_distribution.html\")\n",
    "\n",
    "# Display the figure\n",
    "fig.show()\n"
   ]
  },
  {
   "cell_type": "markdown",
   "metadata": {},
   "source": [
    "## 8. Gender Distribution by ranking"
   ]
  },
  {
   "cell_type": "code",
   "execution_count": 15,
   "metadata": {},
   "outputs": [
    {
     "data": {
      "application/vnd.plotly.v1+json": {
       "config": {
        "plotlyServerURL": "https://plot.ly"
       },
       "data": [
        {
         "alignmentgroup": "True",
         "hovertemplate": "Gender=female<br>Ranking Bracket=%{x}<br>Percentage (%)=%{y}<extra></extra>",
         "legendgroup": "female",
         "marker": {
          "color": "#636efa",
          "pattern": {
           "shape": ""
          }
         },
         "name": "female",
         "offsetgroup": "female",
         "orientation": "v",
         "showlegend": true,
         "textposition": "auto",
         "type": "bar",
         "x": [
          "1-5",
          "11-15",
          "16+",
          "6-10"
         ],
         "xaxis": "x",
         "y": [
          31.14942528735632,
          29.372496662216292,
          35.573122529644266,
          30.45066991473813
         ],
         "yaxis": "y"
        },
        {
         "alignmentgroup": "True",
         "hovertemplate": "Gender=male<br>Ranking Bracket=%{x}<br>Percentage (%)=%{y}<extra></extra>",
         "legendgroup": "male",
         "marker": {
          "color": "#EF553B",
          "pattern": {
           "shape": ""
          }
         },
         "name": "male",
         "offsetgroup": "male",
         "orientation": "v",
         "showlegend": true,
         "textposition": "auto",
         "type": "bar",
         "x": [
          "1-5",
          "11-15",
          "16+",
          "6-10"
         ],
         "xaxis": "x",
         "y": [
          68.85057471264368,
          70.62750333778371,
          64.42687747035573,
          69.54933008526187
         ],
         "yaxis": "y"
        }
       ],
       "layout": {
        "barmode": "group",
        "font": {
         "size": 12
        },
        "height": 500,
        "legend": {
         "title": {
          "text": "Gender"
         },
         "tracegroupgap": 0
        },
        "template": {
         "data": {
          "bar": [
           {
            "error_x": {
             "color": "#2a3f5f"
            },
            "error_y": {
             "color": "#2a3f5f"
            },
            "marker": {
             "line": {
              "color": "#E5ECF6",
              "width": 0.5
             },
             "pattern": {
              "fillmode": "overlay",
              "size": 10,
              "solidity": 0.2
             }
            },
            "type": "bar"
           }
          ],
          "barpolar": [
           {
            "marker": {
             "line": {
              "color": "#E5ECF6",
              "width": 0.5
             },
             "pattern": {
              "fillmode": "overlay",
              "size": 10,
              "solidity": 0.2
             }
            },
            "type": "barpolar"
           }
          ],
          "carpet": [
           {
            "aaxis": {
             "endlinecolor": "#2a3f5f",
             "gridcolor": "white",
             "linecolor": "white",
             "minorgridcolor": "white",
             "startlinecolor": "#2a3f5f"
            },
            "baxis": {
             "endlinecolor": "#2a3f5f",
             "gridcolor": "white",
             "linecolor": "white",
             "minorgridcolor": "white",
             "startlinecolor": "#2a3f5f"
            },
            "type": "carpet"
           }
          ],
          "choropleth": [
           {
            "colorbar": {
             "outlinewidth": 0,
             "ticks": ""
            },
            "type": "choropleth"
           }
          ],
          "contour": [
           {
            "colorbar": {
             "outlinewidth": 0,
             "ticks": ""
            },
            "colorscale": [
             [
              0,
              "#0d0887"
             ],
             [
              0.1111111111111111,
              "#46039f"
             ],
             [
              0.2222222222222222,
              "#7201a8"
             ],
             [
              0.3333333333333333,
              "#9c179e"
             ],
             [
              0.4444444444444444,
              "#bd3786"
             ],
             [
              0.5555555555555556,
              "#d8576b"
             ],
             [
              0.6666666666666666,
              "#ed7953"
             ],
             [
              0.7777777777777778,
              "#fb9f3a"
             ],
             [
              0.8888888888888888,
              "#fdca26"
             ],
             [
              1,
              "#f0f921"
             ]
            ],
            "type": "contour"
           }
          ],
          "contourcarpet": [
           {
            "colorbar": {
             "outlinewidth": 0,
             "ticks": ""
            },
            "type": "contourcarpet"
           }
          ],
          "heatmap": [
           {
            "colorbar": {
             "outlinewidth": 0,
             "ticks": ""
            },
            "colorscale": [
             [
              0,
              "#0d0887"
             ],
             [
              0.1111111111111111,
              "#46039f"
             ],
             [
              0.2222222222222222,
              "#7201a8"
             ],
             [
              0.3333333333333333,
              "#9c179e"
             ],
             [
              0.4444444444444444,
              "#bd3786"
             ],
             [
              0.5555555555555556,
              "#d8576b"
             ],
             [
              0.6666666666666666,
              "#ed7953"
             ],
             [
              0.7777777777777778,
              "#fb9f3a"
             ],
             [
              0.8888888888888888,
              "#fdca26"
             ],
             [
              1,
              "#f0f921"
             ]
            ],
            "type": "heatmap"
           }
          ],
          "heatmapgl": [
           {
            "colorbar": {
             "outlinewidth": 0,
             "ticks": ""
            },
            "colorscale": [
             [
              0,
              "#0d0887"
             ],
             [
              0.1111111111111111,
              "#46039f"
             ],
             [
              0.2222222222222222,
              "#7201a8"
             ],
             [
              0.3333333333333333,
              "#9c179e"
             ],
             [
              0.4444444444444444,
              "#bd3786"
             ],
             [
              0.5555555555555556,
              "#d8576b"
             ],
             [
              0.6666666666666666,
              "#ed7953"
             ],
             [
              0.7777777777777778,
              "#fb9f3a"
             ],
             [
              0.8888888888888888,
              "#fdca26"
             ],
             [
              1,
              "#f0f921"
             ]
            ],
            "type": "heatmapgl"
           }
          ],
          "histogram": [
           {
            "marker": {
             "pattern": {
              "fillmode": "overlay",
              "size": 10,
              "solidity": 0.2
             }
            },
            "type": "histogram"
           }
          ],
          "histogram2d": [
           {
            "colorbar": {
             "outlinewidth": 0,
             "ticks": ""
            },
            "colorscale": [
             [
              0,
              "#0d0887"
             ],
             [
              0.1111111111111111,
              "#46039f"
             ],
             [
              0.2222222222222222,
              "#7201a8"
             ],
             [
              0.3333333333333333,
              "#9c179e"
             ],
             [
              0.4444444444444444,
              "#bd3786"
             ],
             [
              0.5555555555555556,
              "#d8576b"
             ],
             [
              0.6666666666666666,
              "#ed7953"
             ],
             [
              0.7777777777777778,
              "#fb9f3a"
             ],
             [
              0.8888888888888888,
              "#fdca26"
             ],
             [
              1,
              "#f0f921"
             ]
            ],
            "type": "histogram2d"
           }
          ],
          "histogram2dcontour": [
           {
            "colorbar": {
             "outlinewidth": 0,
             "ticks": ""
            },
            "colorscale": [
             [
              0,
              "#0d0887"
             ],
             [
              0.1111111111111111,
              "#46039f"
             ],
             [
              0.2222222222222222,
              "#7201a8"
             ],
             [
              0.3333333333333333,
              "#9c179e"
             ],
             [
              0.4444444444444444,
              "#bd3786"
             ],
             [
              0.5555555555555556,
              "#d8576b"
             ],
             [
              0.6666666666666666,
              "#ed7953"
             ],
             [
              0.7777777777777778,
              "#fb9f3a"
             ],
             [
              0.8888888888888888,
              "#fdca26"
             ],
             [
              1,
              "#f0f921"
             ]
            ],
            "type": "histogram2dcontour"
           }
          ],
          "mesh3d": [
           {
            "colorbar": {
             "outlinewidth": 0,
             "ticks": ""
            },
            "type": "mesh3d"
           }
          ],
          "parcoords": [
           {
            "line": {
             "colorbar": {
              "outlinewidth": 0,
              "ticks": ""
             }
            },
            "type": "parcoords"
           }
          ],
          "pie": [
           {
            "automargin": true,
            "type": "pie"
           }
          ],
          "scatter": [
           {
            "fillpattern": {
             "fillmode": "overlay",
             "size": 10,
             "solidity": 0.2
            },
            "type": "scatter"
           }
          ],
          "scatter3d": [
           {
            "line": {
             "colorbar": {
              "outlinewidth": 0,
              "ticks": ""
             }
            },
            "marker": {
             "colorbar": {
              "outlinewidth": 0,
              "ticks": ""
             }
            },
            "type": "scatter3d"
           }
          ],
          "scattercarpet": [
           {
            "marker": {
             "colorbar": {
              "outlinewidth": 0,
              "ticks": ""
             }
            },
            "type": "scattercarpet"
           }
          ],
          "scattergeo": [
           {
            "marker": {
             "colorbar": {
              "outlinewidth": 0,
              "ticks": ""
             }
            },
            "type": "scattergeo"
           }
          ],
          "scattergl": [
           {
            "marker": {
             "colorbar": {
              "outlinewidth": 0,
              "ticks": ""
             }
            },
            "type": "scattergl"
           }
          ],
          "scattermapbox": [
           {
            "marker": {
             "colorbar": {
              "outlinewidth": 0,
              "ticks": ""
             }
            },
            "type": "scattermapbox"
           }
          ],
          "scatterpolar": [
           {
            "marker": {
             "colorbar": {
              "outlinewidth": 0,
              "ticks": ""
             }
            },
            "type": "scatterpolar"
           }
          ],
          "scatterpolargl": [
           {
            "marker": {
             "colorbar": {
              "outlinewidth": 0,
              "ticks": ""
             }
            },
            "type": "scatterpolargl"
           }
          ],
          "scatterternary": [
           {
            "marker": {
             "colorbar": {
              "outlinewidth": 0,
              "ticks": ""
             }
            },
            "type": "scatterternary"
           }
          ],
          "surface": [
           {
            "colorbar": {
             "outlinewidth": 0,
             "ticks": ""
            },
            "colorscale": [
             [
              0,
              "#0d0887"
             ],
             [
              0.1111111111111111,
              "#46039f"
             ],
             [
              0.2222222222222222,
              "#7201a8"
             ],
             [
              0.3333333333333333,
              "#9c179e"
             ],
             [
              0.4444444444444444,
              "#bd3786"
             ],
             [
              0.5555555555555556,
              "#d8576b"
             ],
             [
              0.6666666666666666,
              "#ed7953"
             ],
             [
              0.7777777777777778,
              "#fb9f3a"
             ],
             [
              0.8888888888888888,
              "#fdca26"
             ],
             [
              1,
              "#f0f921"
             ]
            ],
            "type": "surface"
           }
          ],
          "table": [
           {
            "cells": {
             "fill": {
              "color": "#EBF0F8"
             },
             "line": {
              "color": "white"
             }
            },
            "header": {
             "fill": {
              "color": "#C8D4E3"
             },
             "line": {
              "color": "white"
             }
            },
            "type": "table"
           }
          ]
         },
         "layout": {
          "annotationdefaults": {
           "arrowcolor": "#2a3f5f",
           "arrowhead": 0,
           "arrowwidth": 1
          },
          "autotypenumbers": "strict",
          "coloraxis": {
           "colorbar": {
            "outlinewidth": 0,
            "ticks": ""
           }
          },
          "colorscale": {
           "diverging": [
            [
             0,
             "#8e0152"
            ],
            [
             0.1,
             "#c51b7d"
            ],
            [
             0.2,
             "#de77ae"
            ],
            [
             0.3,
             "#f1b6da"
            ],
            [
             0.4,
             "#fde0ef"
            ],
            [
             0.5,
             "#f7f7f7"
            ],
            [
             0.6,
             "#e6f5d0"
            ],
            [
             0.7,
             "#b8e186"
            ],
            [
             0.8,
             "#7fbc41"
            ],
            [
             0.9,
             "#4d9221"
            ],
            [
             1,
             "#276419"
            ]
           ],
           "sequential": [
            [
             0,
             "#0d0887"
            ],
            [
             0.1111111111111111,
             "#46039f"
            ],
            [
             0.2222222222222222,
             "#7201a8"
            ],
            [
             0.3333333333333333,
             "#9c179e"
            ],
            [
             0.4444444444444444,
             "#bd3786"
            ],
            [
             0.5555555555555556,
             "#d8576b"
            ],
            [
             0.6666666666666666,
             "#ed7953"
            ],
            [
             0.7777777777777778,
             "#fb9f3a"
            ],
            [
             0.8888888888888888,
             "#fdca26"
            ],
            [
             1,
             "#f0f921"
            ]
           ],
           "sequentialminus": [
            [
             0,
             "#0d0887"
            ],
            [
             0.1111111111111111,
             "#46039f"
            ],
            [
             0.2222222222222222,
             "#7201a8"
            ],
            [
             0.3333333333333333,
             "#9c179e"
            ],
            [
             0.4444444444444444,
             "#bd3786"
            ],
            [
             0.5555555555555556,
             "#d8576b"
            ],
            [
             0.6666666666666666,
             "#ed7953"
            ],
            [
             0.7777777777777778,
             "#fb9f3a"
            ],
            [
             0.8888888888888888,
             "#fdca26"
            ],
            [
             1,
             "#f0f921"
            ]
           ]
          },
          "colorway": [
           "#636efa",
           "#EF553B",
           "#00cc96",
           "#ab63fa",
           "#FFA15A",
           "#19d3f3",
           "#FF6692",
           "#B6E880",
           "#FF97FF",
           "#FECB52"
          ],
          "font": {
           "color": "#2a3f5f"
          },
          "geo": {
           "bgcolor": "white",
           "lakecolor": "white",
           "landcolor": "#E5ECF6",
           "showlakes": true,
           "showland": true,
           "subunitcolor": "white"
          },
          "hoverlabel": {
           "align": "left"
          },
          "hovermode": "closest",
          "mapbox": {
           "style": "light"
          },
          "paper_bgcolor": "white",
          "plot_bgcolor": "#E5ECF6",
          "polar": {
           "angularaxis": {
            "gridcolor": "white",
            "linecolor": "white",
            "ticks": ""
           },
           "bgcolor": "#E5ECF6",
           "radialaxis": {
            "gridcolor": "white",
            "linecolor": "white",
            "ticks": ""
           }
          },
          "scene": {
           "xaxis": {
            "backgroundcolor": "#E5ECF6",
            "gridcolor": "white",
            "gridwidth": 2,
            "linecolor": "white",
            "showbackground": true,
            "ticks": "",
            "zerolinecolor": "white"
           },
           "yaxis": {
            "backgroundcolor": "#E5ECF6",
            "gridcolor": "white",
            "gridwidth": 2,
            "linecolor": "white",
            "showbackground": true,
            "ticks": "",
            "zerolinecolor": "white"
           },
           "zaxis": {
            "backgroundcolor": "#E5ECF6",
            "gridcolor": "white",
            "gridwidth": 2,
            "linecolor": "white",
            "showbackground": true,
            "ticks": "",
            "zerolinecolor": "white"
           }
          },
          "shapedefaults": {
           "line": {
            "color": "#2a3f5f"
           }
          },
          "ternary": {
           "aaxis": {
            "gridcolor": "white",
            "linecolor": "white",
            "ticks": ""
           },
           "baxis": {
            "gridcolor": "white",
            "linecolor": "white",
            "ticks": ""
           },
           "bgcolor": "#E5ECF6",
           "caxis": {
            "gridcolor": "white",
            "linecolor": "white",
            "ticks": ""
           }
          },
          "title": {
           "x": 0.05
          },
          "xaxis": {
           "automargin": true,
           "gridcolor": "white",
           "linecolor": "white",
           "ticks": "",
           "title": {
            "standoff": 15
           },
           "zerolinecolor": "white",
           "zerolinewidth": 2
          },
          "yaxis": {
           "automargin": true,
           "gridcolor": "white",
           "linecolor": "white",
           "ticks": "",
           "title": {
            "standoff": 15
           },
           "zerolinecolor": "white",
           "zerolinewidth": 2
          }
         }
        },
        "title": {
         "text": "Gender Distribution by University Ranking Brackets"
        },
        "xaxis": {
         "anchor": "y",
         "domain": [
          0,
          1
         ],
         "title": {
          "text": "Ranking Bracket"
         }
        },
        "yaxis": {
         "anchor": "x",
         "domain": [
          0,
          1
         ],
         "title": {
          "text": "Percentage (%)"
         }
        }
       }
      }
     },
     "metadata": {},
     "output_type": "display_data"
    }
   ],
   "source": [
    "# Create ranking brackets\n",
    "def get_ranking_bracket(rank):\n",
    "    if rank <= 5:\n",
    "        return '1-5'\n",
    "    elif rank <= 10:\n",
    "        return '6-10'\n",
    "    elif rank <= 15:\n",
    "        return '11-15'\n",
    "    else:\n",
    "        return '16+'\n",
    "\n",
    "# Add ranking bracket column\n",
    "full_df['ranking_bracket'] = full_df['ranking'].apply(get_ranking_bracket)\n",
    "\n",
    "# Calculate gender distribution by ranking bracket\n",
    "gender_by_ranking = pd.crosstab(full_df['ranking_bracket'], full_df['gender'], normalize='index') * 100\n",
    "\n",
    "# Create a bar plot\n",
    "fig = px.bar(gender_by_ranking, \n",
    "             barmode='group',\n",
    "             title='Gender Distribution by University Ranking Brackets',\n",
    "             labels={'value': 'Percentage (%)', \n",
    "                    'ranking_bracket': 'Ranking Bracket',\n",
    "                    'gender': 'Gender'},\n",
    "             height=500)\n",
    "\n",
    "# Update layout\n",
    "fig.update_layout(\n",
    "    xaxis_title='Ranking Bracket',\n",
    "    yaxis_title='Percentage (%)',\n",
    "    legend_title='Gender',\n",
    "    font_size=12\n",
    ")\n",
    "\n",
    "# Save to HTML file\n",
    "fig.write_html(\"../output/graphs/gender_by_ranking_holistic.html\")\n",
    "\n",
    "# Display the figure\n",
    "fig.show()\n",
    "\n",
    "\n",
    "\n",
    "#also look at last 4 years"
   ]
  },
  {
   "cell_type": "code",
   "execution_count": 11,
   "metadata": {},
   "outputs": [
    {
     "name": "stderr",
     "output_type": "stream",
     "text": [
      "/var/folders/d2/sfp_278j7jb2qgvmr7vr7p3m0000gn/T/ipykernel_38685/1826865681.py:13: SettingWithCopyWarning:\n",
      "\n",
      "\n",
      "A value is trying to be set on a copy of a slice from a DataFrame.\n",
      "Try using .loc[row_indexer,col_indexer] = value instead\n",
      "\n",
      "See the caveats in the documentation: https://pandas.pydata.org/pandas-docs/stable/user_guide/indexing.html#returning-a-view-versus-a-copy\n",
      "\n"
     ]
    },
    {
     "data": {
      "application/vnd.plotly.v1+json": {
       "config": {
        "plotlyServerURL": "https://plot.ly"
       },
       "data": [
        {
         "alignmentgroup": "True",
         "hovertemplate": "Gender=female<br>Ranking Bracket=%{x}<br>Percentage (%)=%{y}<extra></extra>",
         "legendgroup": "female",
         "marker": {
          "color": "#636efa",
          "pattern": {
           "shape": ""
          }
         },
         "name": "female",
         "offsetgroup": "female",
         "orientation": "v",
         "showlegend": true,
         "textposition": "auto",
         "type": "bar",
         "x": [
          "1-5",
          "11-15",
          "16+",
          "6-10"
         ],
         "xaxis": "x",
         "y": [
          34.49781659388647,
          28.26086956521739,
          34.54545454545455,
          29.56989247311828
         ],
         "yaxis": "y"
        },
        {
         "alignmentgroup": "True",
         "hovertemplate": "Gender=male<br>Ranking Bracket=%{x}<br>Percentage (%)=%{y}<extra></extra>",
         "legendgroup": "male",
         "marker": {
          "color": "#EF553B",
          "pattern": {
           "shape": ""
          }
         },
         "name": "male",
         "offsetgroup": "male",
         "orientation": "v",
         "showlegend": true,
         "textposition": "auto",
         "type": "bar",
         "x": [
          "1-5",
          "11-15",
          "16+",
          "6-10"
         ],
         "xaxis": "x",
         "y": [
          65.50218340611353,
          71.73913043478261,
          65.45454545454545,
          70.43010752688173
         ],
         "yaxis": "y"
        }
       ],
       "layout": {
        "barmode": "group",
        "font": {
         "size": 12
        },
        "height": 500,
        "legend": {
         "title": {
          "text": "Gender"
         },
         "tracegroupgap": 0
        },
        "template": {
         "data": {
          "bar": [
           {
            "error_x": {
             "color": "#2a3f5f"
            },
            "error_y": {
             "color": "#2a3f5f"
            },
            "marker": {
             "line": {
              "color": "#E5ECF6",
              "width": 0.5
             },
             "pattern": {
              "fillmode": "overlay",
              "size": 10,
              "solidity": 0.2
             }
            },
            "type": "bar"
           }
          ],
          "barpolar": [
           {
            "marker": {
             "line": {
              "color": "#E5ECF6",
              "width": 0.5
             },
             "pattern": {
              "fillmode": "overlay",
              "size": 10,
              "solidity": 0.2
             }
            },
            "type": "barpolar"
           }
          ],
          "carpet": [
           {
            "aaxis": {
             "endlinecolor": "#2a3f5f",
             "gridcolor": "white",
             "linecolor": "white",
             "minorgridcolor": "white",
             "startlinecolor": "#2a3f5f"
            },
            "baxis": {
             "endlinecolor": "#2a3f5f",
             "gridcolor": "white",
             "linecolor": "white",
             "minorgridcolor": "white",
             "startlinecolor": "#2a3f5f"
            },
            "type": "carpet"
           }
          ],
          "choropleth": [
           {
            "colorbar": {
             "outlinewidth": 0,
             "ticks": ""
            },
            "type": "choropleth"
           }
          ],
          "contour": [
           {
            "colorbar": {
             "outlinewidth": 0,
             "ticks": ""
            },
            "colorscale": [
             [
              0,
              "#0d0887"
             ],
             [
              0.1111111111111111,
              "#46039f"
             ],
             [
              0.2222222222222222,
              "#7201a8"
             ],
             [
              0.3333333333333333,
              "#9c179e"
             ],
             [
              0.4444444444444444,
              "#bd3786"
             ],
             [
              0.5555555555555556,
              "#d8576b"
             ],
             [
              0.6666666666666666,
              "#ed7953"
             ],
             [
              0.7777777777777778,
              "#fb9f3a"
             ],
             [
              0.8888888888888888,
              "#fdca26"
             ],
             [
              1,
              "#f0f921"
             ]
            ],
            "type": "contour"
           }
          ],
          "contourcarpet": [
           {
            "colorbar": {
             "outlinewidth": 0,
             "ticks": ""
            },
            "type": "contourcarpet"
           }
          ],
          "heatmap": [
           {
            "colorbar": {
             "outlinewidth": 0,
             "ticks": ""
            },
            "colorscale": [
             [
              0,
              "#0d0887"
             ],
             [
              0.1111111111111111,
              "#46039f"
             ],
             [
              0.2222222222222222,
              "#7201a8"
             ],
             [
              0.3333333333333333,
              "#9c179e"
             ],
             [
              0.4444444444444444,
              "#bd3786"
             ],
             [
              0.5555555555555556,
              "#d8576b"
             ],
             [
              0.6666666666666666,
              "#ed7953"
             ],
             [
              0.7777777777777778,
              "#fb9f3a"
             ],
             [
              0.8888888888888888,
              "#fdca26"
             ],
             [
              1,
              "#f0f921"
             ]
            ],
            "type": "heatmap"
           }
          ],
          "heatmapgl": [
           {
            "colorbar": {
             "outlinewidth": 0,
             "ticks": ""
            },
            "colorscale": [
             [
              0,
              "#0d0887"
             ],
             [
              0.1111111111111111,
              "#46039f"
             ],
             [
              0.2222222222222222,
              "#7201a8"
             ],
             [
              0.3333333333333333,
              "#9c179e"
             ],
             [
              0.4444444444444444,
              "#bd3786"
             ],
             [
              0.5555555555555556,
              "#d8576b"
             ],
             [
              0.6666666666666666,
              "#ed7953"
             ],
             [
              0.7777777777777778,
              "#fb9f3a"
             ],
             [
              0.8888888888888888,
              "#fdca26"
             ],
             [
              1,
              "#f0f921"
             ]
            ],
            "type": "heatmapgl"
           }
          ],
          "histogram": [
           {
            "marker": {
             "pattern": {
              "fillmode": "overlay",
              "size": 10,
              "solidity": 0.2
             }
            },
            "type": "histogram"
           }
          ],
          "histogram2d": [
           {
            "colorbar": {
             "outlinewidth": 0,
             "ticks": ""
            },
            "colorscale": [
             [
              0,
              "#0d0887"
             ],
             [
              0.1111111111111111,
              "#46039f"
             ],
             [
              0.2222222222222222,
              "#7201a8"
             ],
             [
              0.3333333333333333,
              "#9c179e"
             ],
             [
              0.4444444444444444,
              "#bd3786"
             ],
             [
              0.5555555555555556,
              "#d8576b"
             ],
             [
              0.6666666666666666,
              "#ed7953"
             ],
             [
              0.7777777777777778,
              "#fb9f3a"
             ],
             [
              0.8888888888888888,
              "#fdca26"
             ],
             [
              1,
              "#f0f921"
             ]
            ],
            "type": "histogram2d"
           }
          ],
          "histogram2dcontour": [
           {
            "colorbar": {
             "outlinewidth": 0,
             "ticks": ""
            },
            "colorscale": [
             [
              0,
              "#0d0887"
             ],
             [
              0.1111111111111111,
              "#46039f"
             ],
             [
              0.2222222222222222,
              "#7201a8"
             ],
             [
              0.3333333333333333,
              "#9c179e"
             ],
             [
              0.4444444444444444,
              "#bd3786"
             ],
             [
              0.5555555555555556,
              "#d8576b"
             ],
             [
              0.6666666666666666,
              "#ed7953"
             ],
             [
              0.7777777777777778,
              "#fb9f3a"
             ],
             [
              0.8888888888888888,
              "#fdca26"
             ],
             [
              1,
              "#f0f921"
             ]
            ],
            "type": "histogram2dcontour"
           }
          ],
          "mesh3d": [
           {
            "colorbar": {
             "outlinewidth": 0,
             "ticks": ""
            },
            "type": "mesh3d"
           }
          ],
          "parcoords": [
           {
            "line": {
             "colorbar": {
              "outlinewidth": 0,
              "ticks": ""
             }
            },
            "type": "parcoords"
           }
          ],
          "pie": [
           {
            "automargin": true,
            "type": "pie"
           }
          ],
          "scatter": [
           {
            "fillpattern": {
             "fillmode": "overlay",
             "size": 10,
             "solidity": 0.2
            },
            "type": "scatter"
           }
          ],
          "scatter3d": [
           {
            "line": {
             "colorbar": {
              "outlinewidth": 0,
              "ticks": ""
             }
            },
            "marker": {
             "colorbar": {
              "outlinewidth": 0,
              "ticks": ""
             }
            },
            "type": "scatter3d"
           }
          ],
          "scattercarpet": [
           {
            "marker": {
             "colorbar": {
              "outlinewidth": 0,
              "ticks": ""
             }
            },
            "type": "scattercarpet"
           }
          ],
          "scattergeo": [
           {
            "marker": {
             "colorbar": {
              "outlinewidth": 0,
              "ticks": ""
             }
            },
            "type": "scattergeo"
           }
          ],
          "scattergl": [
           {
            "marker": {
             "colorbar": {
              "outlinewidth": 0,
              "ticks": ""
             }
            },
            "type": "scattergl"
           }
          ],
          "scattermapbox": [
           {
            "marker": {
             "colorbar": {
              "outlinewidth": 0,
              "ticks": ""
             }
            },
            "type": "scattermapbox"
           }
          ],
          "scatterpolar": [
           {
            "marker": {
             "colorbar": {
              "outlinewidth": 0,
              "ticks": ""
             }
            },
            "type": "scatterpolar"
           }
          ],
          "scatterpolargl": [
           {
            "marker": {
             "colorbar": {
              "outlinewidth": 0,
              "ticks": ""
             }
            },
            "type": "scatterpolargl"
           }
          ],
          "scatterternary": [
           {
            "marker": {
             "colorbar": {
              "outlinewidth": 0,
              "ticks": ""
             }
            },
            "type": "scatterternary"
           }
          ],
          "surface": [
           {
            "colorbar": {
             "outlinewidth": 0,
             "ticks": ""
            },
            "colorscale": [
             [
              0,
              "#0d0887"
             ],
             [
              0.1111111111111111,
              "#46039f"
             ],
             [
              0.2222222222222222,
              "#7201a8"
             ],
             [
              0.3333333333333333,
              "#9c179e"
             ],
             [
              0.4444444444444444,
              "#bd3786"
             ],
             [
              0.5555555555555556,
              "#d8576b"
             ],
             [
              0.6666666666666666,
              "#ed7953"
             ],
             [
              0.7777777777777778,
              "#fb9f3a"
             ],
             [
              0.8888888888888888,
              "#fdca26"
             ],
             [
              1,
              "#f0f921"
             ]
            ],
            "type": "surface"
           }
          ],
          "table": [
           {
            "cells": {
             "fill": {
              "color": "#EBF0F8"
             },
             "line": {
              "color": "white"
             }
            },
            "header": {
             "fill": {
              "color": "#C8D4E3"
             },
             "line": {
              "color": "white"
             }
            },
            "type": "table"
           }
          ]
         },
         "layout": {
          "annotationdefaults": {
           "arrowcolor": "#2a3f5f",
           "arrowhead": 0,
           "arrowwidth": 1
          },
          "autotypenumbers": "strict",
          "coloraxis": {
           "colorbar": {
            "outlinewidth": 0,
            "ticks": ""
           }
          },
          "colorscale": {
           "diverging": [
            [
             0,
             "#8e0152"
            ],
            [
             0.1,
             "#c51b7d"
            ],
            [
             0.2,
             "#de77ae"
            ],
            [
             0.3,
             "#f1b6da"
            ],
            [
             0.4,
             "#fde0ef"
            ],
            [
             0.5,
             "#f7f7f7"
            ],
            [
             0.6,
             "#e6f5d0"
            ],
            [
             0.7,
             "#b8e186"
            ],
            [
             0.8,
             "#7fbc41"
            ],
            [
             0.9,
             "#4d9221"
            ],
            [
             1,
             "#276419"
            ]
           ],
           "sequential": [
            [
             0,
             "#0d0887"
            ],
            [
             0.1111111111111111,
             "#46039f"
            ],
            [
             0.2222222222222222,
             "#7201a8"
            ],
            [
             0.3333333333333333,
             "#9c179e"
            ],
            [
             0.4444444444444444,
             "#bd3786"
            ],
            [
             0.5555555555555556,
             "#d8576b"
            ],
            [
             0.6666666666666666,
             "#ed7953"
            ],
            [
             0.7777777777777778,
             "#fb9f3a"
            ],
            [
             0.8888888888888888,
             "#fdca26"
            ],
            [
             1,
             "#f0f921"
            ]
           ],
           "sequentialminus": [
            [
             0,
             "#0d0887"
            ],
            [
             0.1111111111111111,
             "#46039f"
            ],
            [
             0.2222222222222222,
             "#7201a8"
            ],
            [
             0.3333333333333333,
             "#9c179e"
            ],
            [
             0.4444444444444444,
             "#bd3786"
            ],
            [
             0.5555555555555556,
             "#d8576b"
            ],
            [
             0.6666666666666666,
             "#ed7953"
            ],
            [
             0.7777777777777778,
             "#fb9f3a"
            ],
            [
             0.8888888888888888,
             "#fdca26"
            ],
            [
             1,
             "#f0f921"
            ]
           ]
          },
          "colorway": [
           "#636efa",
           "#EF553B",
           "#00cc96",
           "#ab63fa",
           "#FFA15A",
           "#19d3f3",
           "#FF6692",
           "#B6E880",
           "#FF97FF",
           "#FECB52"
          ],
          "font": {
           "color": "#2a3f5f"
          },
          "geo": {
           "bgcolor": "white",
           "lakecolor": "white",
           "landcolor": "#E5ECF6",
           "showlakes": true,
           "showland": true,
           "subunitcolor": "white"
          },
          "hoverlabel": {
           "align": "left"
          },
          "hovermode": "closest",
          "mapbox": {
           "style": "light"
          },
          "paper_bgcolor": "white",
          "plot_bgcolor": "#E5ECF6",
          "polar": {
           "angularaxis": {
            "gridcolor": "white",
            "linecolor": "white",
            "ticks": ""
           },
           "bgcolor": "#E5ECF6",
           "radialaxis": {
            "gridcolor": "white",
            "linecolor": "white",
            "ticks": ""
           }
          },
          "scene": {
           "xaxis": {
            "backgroundcolor": "#E5ECF6",
            "gridcolor": "white",
            "gridwidth": 2,
            "linecolor": "white",
            "showbackground": true,
            "ticks": "",
            "zerolinecolor": "white"
           },
           "yaxis": {
            "backgroundcolor": "#E5ECF6",
            "gridcolor": "white",
            "gridwidth": 2,
            "linecolor": "white",
            "showbackground": true,
            "ticks": "",
            "zerolinecolor": "white"
           },
           "zaxis": {
            "backgroundcolor": "#E5ECF6",
            "gridcolor": "white",
            "gridwidth": 2,
            "linecolor": "white",
            "showbackground": true,
            "ticks": "",
            "zerolinecolor": "white"
           }
          },
          "shapedefaults": {
           "line": {
            "color": "#2a3f5f"
           }
          },
          "ternary": {
           "aaxis": {
            "gridcolor": "white",
            "linecolor": "white",
            "ticks": ""
           },
           "baxis": {
            "gridcolor": "white",
            "linecolor": "white",
            "ticks": ""
           },
           "bgcolor": "#E5ECF6",
           "caxis": {
            "gridcolor": "white",
            "linecolor": "white",
            "ticks": ""
           }
          },
          "title": {
           "x": 0.05
          },
          "xaxis": {
           "automargin": true,
           "gridcolor": "white",
           "linecolor": "white",
           "ticks": "",
           "title": {
            "standoff": 15
           },
           "zerolinecolor": "white",
           "zerolinewidth": 2
          },
          "yaxis": {
           "automargin": true,
           "gridcolor": "white",
           "linecolor": "white",
           "ticks": "",
           "title": {
            "standoff": 15
           },
           "zerolinecolor": "white",
           "zerolinewidth": 2
          }
         }
        },
        "title": {
         "text": "Gender Distribution by University Ranking Brackets (2021-2024)"
        },
        "xaxis": {
         "anchor": "y",
         "domain": [
          0,
          1
         ],
         "title": {
          "text": "Ranking Bracket"
         }
        },
        "yaxis": {
         "anchor": "x",
         "domain": [
          0,
          1
         ],
         "title": {
          "text": "Percentage (%)"
         }
        }
       }
      }
     },
     "metadata": {},
     "output_type": "display_data"
    }
   ],
   "source": [
    "def get_ranking_bracket(rank):\n",
    "    if rank <= 5:\n",
    "        return '1-5'\n",
    "    elif rank <= 10:\n",
    "        return '6-10'\n",
    "    elif rank <= 15:\n",
    "        return '11-15'\n",
    "    else:\n",
    "        return '16+'\n",
    "\n",
    "# Filter for recent years and add ranking bracket column\n",
    "recent_df = full_df[full_df['year'].between(2021, 2024)]\n",
    "recent_df['ranking_bracket'] = recent_df['ranking'].apply(get_ranking_bracket)\n",
    "\n",
    "# Calculate gender distribution by ranking bracket\n",
    "gender_by_ranking = pd.crosstab(recent_df['ranking_bracket'], recent_df['gender'], normalize='index') * 100\n",
    "\n",
    "# Create a bar plot\n",
    "fig = px.bar(gender_by_ranking, \n",
    "             barmode='group',\n",
    "             title='Gender Distribution by University Ranking Brackets (2021-2024)',\n",
    "             labels={'value': 'Percentage (%)', \n",
    "                    'ranking_bracket': 'Ranking Bracket',\n",
    "                    'gender': 'Gender'},\n",
    "             height=500)\n",
    "\n",
    "# Update layout\n",
    "fig.update_layout(\n",
    "    xaxis_title='Ranking Bracket',\n",
    "    yaxis_title='Percentage (%)',\n",
    "    legend_title='Gender',\n",
    "    font_size=12\n",
    ")\n",
    "\n",
    "# Save to HTML file\n",
    "fig.write_html(\"../output/graphs/gender_by_ranking_recent.html\")\n",
    "\n",
    "# Display the figure\n",
    "fig.show()"
   ]
  },
  {
   "cell_type": "code",
   "execution_count": 17,
   "metadata": {},
   "outputs": [
    {
     "name": "stderr",
     "output_type": "stream",
     "text": [
      "/var/folders/d2/sfp_278j7jb2qgvmr7vr7p3m0000gn/T/ipykernel_38685/3883547582.py:17: SettingWithCopyWarning:\n",
      "\n",
      "\n",
      "A value is trying to be set on a copy of a slice from a DataFrame.\n",
      "Try using .loc[row_indexer,col_indexer] = value instead\n",
      "\n",
      "See the caveats in the documentation: https://pandas.pydata.org/pandas-docs/stable/user_guide/indexing.html#returning-a-view-versus-a-copy\n",
      "\n"
     ]
    },
    {
     "data": {
      "application/vnd.plotly.v1+json": {
       "config": {
        "plotlyServerURL": "https://plot.ly"
       },
       "data": [
        {
         "alignmentgroup": "True",
         "hovertemplate": "Gender=female<br>Ranking Bracket=1-5<br>Time Period=%{x}<br>Percentage (%)=%{y}<extra></extra>",
         "legendgroup": "female",
         "marker": {
          "color": "#636efa",
          "pattern": {
           "shape": ""
          }
         },
         "name": "female",
         "offsetgroup": "female",
         "orientation": "v",
         "showlegend": true,
         "textposition": "auto",
         "type": "bar",
         "x": [
          "All Years",
          "2021-2024"
         ],
         "xaxis": "x",
         "y": [
          31.14942528735632,
          34.49781659388647
         ],
         "yaxis": "y"
        },
        {
         "alignmentgroup": "True",
         "hovertemplate": "Gender=female<br>Ranking Bracket=11-15<br>Time Period=%{x}<br>Percentage (%)=%{y}<extra></extra>",
         "legendgroup": "female",
         "marker": {
          "color": "#636efa",
          "pattern": {
           "shape": ""
          }
         },
         "name": "female",
         "offsetgroup": "female",
         "orientation": "v",
         "showlegend": false,
         "textposition": "auto",
         "type": "bar",
         "x": [
          "All Years",
          "2021-2024"
         ],
         "xaxis": "x2",
         "y": [
          29.372496662216292,
          28.26086956521739
         ],
         "yaxis": "y2"
        },
        {
         "alignmentgroup": "True",
         "hovertemplate": "Gender=female<br>Ranking Bracket=16+<br>Time Period=%{x}<br>Percentage (%)=%{y}<extra></extra>",
         "legendgroup": "female",
         "marker": {
          "color": "#636efa",
          "pattern": {
           "shape": ""
          }
         },
         "name": "female",
         "offsetgroup": "female",
         "orientation": "v",
         "showlegend": false,
         "textposition": "auto",
         "type": "bar",
         "x": [
          "All Years",
          "2021-2024"
         ],
         "xaxis": "x3",
         "y": [
          35.573122529644266,
          34.54545454545455
         ],
         "yaxis": "y3"
        },
        {
         "alignmentgroup": "True",
         "hovertemplate": "Gender=female<br>Ranking Bracket=6-10<br>Time Period=%{x}<br>Percentage (%)=%{y}<extra></extra>",
         "legendgroup": "female",
         "marker": {
          "color": "#636efa",
          "pattern": {
           "shape": ""
          }
         },
         "name": "female",
         "offsetgroup": "female",
         "orientation": "v",
         "showlegend": false,
         "textposition": "auto",
         "type": "bar",
         "x": [
          "All Years",
          "2021-2024"
         ],
         "xaxis": "x4",
         "y": [
          30.45066991473813,
          29.56989247311828
         ],
         "yaxis": "y4"
        },
        {
         "alignmentgroup": "True",
         "hovertemplate": "Gender=male<br>Ranking Bracket=1-5<br>Time Period=%{x}<br>Percentage (%)=%{y}<extra></extra>",
         "legendgroup": "male",
         "marker": {
          "color": "#EF553B",
          "pattern": {
           "shape": ""
          }
         },
         "name": "male",
         "offsetgroup": "male",
         "orientation": "v",
         "showlegend": true,
         "textposition": "auto",
         "type": "bar",
         "x": [
          "All Years",
          "2021-2024"
         ],
         "xaxis": "x",
         "y": [
          68.85057471264368,
          65.50218340611353
         ],
         "yaxis": "y"
        },
        {
         "alignmentgroup": "True",
         "hovertemplate": "Gender=male<br>Ranking Bracket=11-15<br>Time Period=%{x}<br>Percentage (%)=%{y}<extra></extra>",
         "legendgroup": "male",
         "marker": {
          "color": "#EF553B",
          "pattern": {
           "shape": ""
          }
         },
         "name": "male",
         "offsetgroup": "male",
         "orientation": "v",
         "showlegend": false,
         "textposition": "auto",
         "type": "bar",
         "x": [
          "All Years",
          "2021-2024"
         ],
         "xaxis": "x2",
         "y": [
          70.62750333778371,
          71.73913043478261
         ],
         "yaxis": "y2"
        },
        {
         "alignmentgroup": "True",
         "hovertemplate": "Gender=male<br>Ranking Bracket=16+<br>Time Period=%{x}<br>Percentage (%)=%{y}<extra></extra>",
         "legendgroup": "male",
         "marker": {
          "color": "#EF553B",
          "pattern": {
           "shape": ""
          }
         },
         "name": "male",
         "offsetgroup": "male",
         "orientation": "v",
         "showlegend": false,
         "textposition": "auto",
         "type": "bar",
         "x": [
          "All Years",
          "2021-2024"
         ],
         "xaxis": "x3",
         "y": [
          64.42687747035573,
          65.45454545454545
         ],
         "yaxis": "y3"
        },
        {
         "alignmentgroup": "True",
         "hovertemplate": "Gender=male<br>Ranking Bracket=6-10<br>Time Period=%{x}<br>Percentage (%)=%{y}<extra></extra>",
         "legendgroup": "male",
         "marker": {
          "color": "#EF553B",
          "pattern": {
           "shape": ""
          }
         },
         "name": "male",
         "offsetgroup": "male",
         "orientation": "v",
         "showlegend": false,
         "textposition": "auto",
         "type": "bar",
         "x": [
          "All Years",
          "2021-2024"
         ],
         "xaxis": "x4",
         "y": [
          69.54933008526187,
          70.43010752688173
         ],
         "yaxis": "y4"
        }
       ],
       "layout": {
        "annotations": [
         {
          "font": {},
          "showarrow": false,
          "text": "Ranking Bracket=1-5",
          "x": 0.1175,
          "xanchor": "center",
          "xref": "paper",
          "y": 1,
          "yanchor": "bottom",
          "yref": "paper"
         },
         {
          "font": {},
          "showarrow": false,
          "text": "Ranking Bracket=11-15",
          "x": 0.3725,
          "xanchor": "center",
          "xref": "paper",
          "y": 1,
          "yanchor": "bottom",
          "yref": "paper"
         },
         {
          "font": {},
          "showarrow": false,
          "text": "Ranking Bracket=16+",
          "x": 0.6275,
          "xanchor": "center",
          "xref": "paper",
          "y": 1,
          "yanchor": "bottom",
          "yref": "paper"
         },
         {
          "font": {},
          "showarrow": false,
          "text": "Ranking Bracket=6-10",
          "x": 0.8824999999999998,
          "xanchor": "center",
          "xref": "paper",
          "y": 1,
          "yanchor": "bottom",
          "yref": "paper"
         }
        ],
        "barmode": "group",
        "font": {
         "size": 12
        },
        "height": 500,
        "legend": {
         "title": {
          "text": "Gender"
         },
         "tracegroupgap": 0
        },
        "template": {
         "data": {
          "bar": [
           {
            "error_x": {
             "color": "#2a3f5f"
            },
            "error_y": {
             "color": "#2a3f5f"
            },
            "marker": {
             "line": {
              "color": "#E5ECF6",
              "width": 0.5
             },
             "pattern": {
              "fillmode": "overlay",
              "size": 10,
              "solidity": 0.2
             }
            },
            "type": "bar"
           }
          ],
          "barpolar": [
           {
            "marker": {
             "line": {
              "color": "#E5ECF6",
              "width": 0.5
             },
             "pattern": {
              "fillmode": "overlay",
              "size": 10,
              "solidity": 0.2
             }
            },
            "type": "barpolar"
           }
          ],
          "carpet": [
           {
            "aaxis": {
             "endlinecolor": "#2a3f5f",
             "gridcolor": "white",
             "linecolor": "white",
             "minorgridcolor": "white",
             "startlinecolor": "#2a3f5f"
            },
            "baxis": {
             "endlinecolor": "#2a3f5f",
             "gridcolor": "white",
             "linecolor": "white",
             "minorgridcolor": "white",
             "startlinecolor": "#2a3f5f"
            },
            "type": "carpet"
           }
          ],
          "choropleth": [
           {
            "colorbar": {
             "outlinewidth": 0,
             "ticks": ""
            },
            "type": "choropleth"
           }
          ],
          "contour": [
           {
            "colorbar": {
             "outlinewidth": 0,
             "ticks": ""
            },
            "colorscale": [
             [
              0,
              "#0d0887"
             ],
             [
              0.1111111111111111,
              "#46039f"
             ],
             [
              0.2222222222222222,
              "#7201a8"
             ],
             [
              0.3333333333333333,
              "#9c179e"
             ],
             [
              0.4444444444444444,
              "#bd3786"
             ],
             [
              0.5555555555555556,
              "#d8576b"
             ],
             [
              0.6666666666666666,
              "#ed7953"
             ],
             [
              0.7777777777777778,
              "#fb9f3a"
             ],
             [
              0.8888888888888888,
              "#fdca26"
             ],
             [
              1,
              "#f0f921"
             ]
            ],
            "type": "contour"
           }
          ],
          "contourcarpet": [
           {
            "colorbar": {
             "outlinewidth": 0,
             "ticks": ""
            },
            "type": "contourcarpet"
           }
          ],
          "heatmap": [
           {
            "colorbar": {
             "outlinewidth": 0,
             "ticks": ""
            },
            "colorscale": [
             [
              0,
              "#0d0887"
             ],
             [
              0.1111111111111111,
              "#46039f"
             ],
             [
              0.2222222222222222,
              "#7201a8"
             ],
             [
              0.3333333333333333,
              "#9c179e"
             ],
             [
              0.4444444444444444,
              "#bd3786"
             ],
             [
              0.5555555555555556,
              "#d8576b"
             ],
             [
              0.6666666666666666,
              "#ed7953"
             ],
             [
              0.7777777777777778,
              "#fb9f3a"
             ],
             [
              0.8888888888888888,
              "#fdca26"
             ],
             [
              1,
              "#f0f921"
             ]
            ],
            "type": "heatmap"
           }
          ],
          "heatmapgl": [
           {
            "colorbar": {
             "outlinewidth": 0,
             "ticks": ""
            },
            "colorscale": [
             [
              0,
              "#0d0887"
             ],
             [
              0.1111111111111111,
              "#46039f"
             ],
             [
              0.2222222222222222,
              "#7201a8"
             ],
             [
              0.3333333333333333,
              "#9c179e"
             ],
             [
              0.4444444444444444,
              "#bd3786"
             ],
             [
              0.5555555555555556,
              "#d8576b"
             ],
             [
              0.6666666666666666,
              "#ed7953"
             ],
             [
              0.7777777777777778,
              "#fb9f3a"
             ],
             [
              0.8888888888888888,
              "#fdca26"
             ],
             [
              1,
              "#f0f921"
             ]
            ],
            "type": "heatmapgl"
           }
          ],
          "histogram": [
           {
            "marker": {
             "pattern": {
              "fillmode": "overlay",
              "size": 10,
              "solidity": 0.2
             }
            },
            "type": "histogram"
           }
          ],
          "histogram2d": [
           {
            "colorbar": {
             "outlinewidth": 0,
             "ticks": ""
            },
            "colorscale": [
             [
              0,
              "#0d0887"
             ],
             [
              0.1111111111111111,
              "#46039f"
             ],
             [
              0.2222222222222222,
              "#7201a8"
             ],
             [
              0.3333333333333333,
              "#9c179e"
             ],
             [
              0.4444444444444444,
              "#bd3786"
             ],
             [
              0.5555555555555556,
              "#d8576b"
             ],
             [
              0.6666666666666666,
              "#ed7953"
             ],
             [
              0.7777777777777778,
              "#fb9f3a"
             ],
             [
              0.8888888888888888,
              "#fdca26"
             ],
             [
              1,
              "#f0f921"
             ]
            ],
            "type": "histogram2d"
           }
          ],
          "histogram2dcontour": [
           {
            "colorbar": {
             "outlinewidth": 0,
             "ticks": ""
            },
            "colorscale": [
             [
              0,
              "#0d0887"
             ],
             [
              0.1111111111111111,
              "#46039f"
             ],
             [
              0.2222222222222222,
              "#7201a8"
             ],
             [
              0.3333333333333333,
              "#9c179e"
             ],
             [
              0.4444444444444444,
              "#bd3786"
             ],
             [
              0.5555555555555556,
              "#d8576b"
             ],
             [
              0.6666666666666666,
              "#ed7953"
             ],
             [
              0.7777777777777778,
              "#fb9f3a"
             ],
             [
              0.8888888888888888,
              "#fdca26"
             ],
             [
              1,
              "#f0f921"
             ]
            ],
            "type": "histogram2dcontour"
           }
          ],
          "mesh3d": [
           {
            "colorbar": {
             "outlinewidth": 0,
             "ticks": ""
            },
            "type": "mesh3d"
           }
          ],
          "parcoords": [
           {
            "line": {
             "colorbar": {
              "outlinewidth": 0,
              "ticks": ""
             }
            },
            "type": "parcoords"
           }
          ],
          "pie": [
           {
            "automargin": true,
            "type": "pie"
           }
          ],
          "scatter": [
           {
            "fillpattern": {
             "fillmode": "overlay",
             "size": 10,
             "solidity": 0.2
            },
            "type": "scatter"
           }
          ],
          "scatter3d": [
           {
            "line": {
             "colorbar": {
              "outlinewidth": 0,
              "ticks": ""
             }
            },
            "marker": {
             "colorbar": {
              "outlinewidth": 0,
              "ticks": ""
             }
            },
            "type": "scatter3d"
           }
          ],
          "scattercarpet": [
           {
            "marker": {
             "colorbar": {
              "outlinewidth": 0,
              "ticks": ""
             }
            },
            "type": "scattercarpet"
           }
          ],
          "scattergeo": [
           {
            "marker": {
             "colorbar": {
              "outlinewidth": 0,
              "ticks": ""
             }
            },
            "type": "scattergeo"
           }
          ],
          "scattergl": [
           {
            "marker": {
             "colorbar": {
              "outlinewidth": 0,
              "ticks": ""
             }
            },
            "type": "scattergl"
           }
          ],
          "scattermapbox": [
           {
            "marker": {
             "colorbar": {
              "outlinewidth": 0,
              "ticks": ""
             }
            },
            "type": "scattermapbox"
           }
          ],
          "scatterpolar": [
           {
            "marker": {
             "colorbar": {
              "outlinewidth": 0,
              "ticks": ""
             }
            },
            "type": "scatterpolar"
           }
          ],
          "scatterpolargl": [
           {
            "marker": {
             "colorbar": {
              "outlinewidth": 0,
              "ticks": ""
             }
            },
            "type": "scatterpolargl"
           }
          ],
          "scatterternary": [
           {
            "marker": {
             "colorbar": {
              "outlinewidth": 0,
              "ticks": ""
             }
            },
            "type": "scatterternary"
           }
          ],
          "surface": [
           {
            "colorbar": {
             "outlinewidth": 0,
             "ticks": ""
            },
            "colorscale": [
             [
              0,
              "#0d0887"
             ],
             [
              0.1111111111111111,
              "#46039f"
             ],
             [
              0.2222222222222222,
              "#7201a8"
             ],
             [
              0.3333333333333333,
              "#9c179e"
             ],
             [
              0.4444444444444444,
              "#bd3786"
             ],
             [
              0.5555555555555556,
              "#d8576b"
             ],
             [
              0.6666666666666666,
              "#ed7953"
             ],
             [
              0.7777777777777778,
              "#fb9f3a"
             ],
             [
              0.8888888888888888,
              "#fdca26"
             ],
             [
              1,
              "#f0f921"
             ]
            ],
            "type": "surface"
           }
          ],
          "table": [
           {
            "cells": {
             "fill": {
              "color": "#EBF0F8"
             },
             "line": {
              "color": "white"
             }
            },
            "header": {
             "fill": {
              "color": "#C8D4E3"
             },
             "line": {
              "color": "white"
             }
            },
            "type": "table"
           }
          ]
         },
         "layout": {
          "annotationdefaults": {
           "arrowcolor": "#2a3f5f",
           "arrowhead": 0,
           "arrowwidth": 1
          },
          "autotypenumbers": "strict",
          "coloraxis": {
           "colorbar": {
            "outlinewidth": 0,
            "ticks": ""
           }
          },
          "colorscale": {
           "diverging": [
            [
             0,
             "#8e0152"
            ],
            [
             0.1,
             "#c51b7d"
            ],
            [
             0.2,
             "#de77ae"
            ],
            [
             0.3,
             "#f1b6da"
            ],
            [
             0.4,
             "#fde0ef"
            ],
            [
             0.5,
             "#f7f7f7"
            ],
            [
             0.6,
             "#e6f5d0"
            ],
            [
             0.7,
             "#b8e186"
            ],
            [
             0.8,
             "#7fbc41"
            ],
            [
             0.9,
             "#4d9221"
            ],
            [
             1,
             "#276419"
            ]
           ],
           "sequential": [
            [
             0,
             "#0d0887"
            ],
            [
             0.1111111111111111,
             "#46039f"
            ],
            [
             0.2222222222222222,
             "#7201a8"
            ],
            [
             0.3333333333333333,
             "#9c179e"
            ],
            [
             0.4444444444444444,
             "#bd3786"
            ],
            [
             0.5555555555555556,
             "#d8576b"
            ],
            [
             0.6666666666666666,
             "#ed7953"
            ],
            [
             0.7777777777777778,
             "#fb9f3a"
            ],
            [
             0.8888888888888888,
             "#fdca26"
            ],
            [
             1,
             "#f0f921"
            ]
           ],
           "sequentialminus": [
            [
             0,
             "#0d0887"
            ],
            [
             0.1111111111111111,
             "#46039f"
            ],
            [
             0.2222222222222222,
             "#7201a8"
            ],
            [
             0.3333333333333333,
             "#9c179e"
            ],
            [
             0.4444444444444444,
             "#bd3786"
            ],
            [
             0.5555555555555556,
             "#d8576b"
            ],
            [
             0.6666666666666666,
             "#ed7953"
            ],
            [
             0.7777777777777778,
             "#fb9f3a"
            ],
            [
             0.8888888888888888,
             "#fdca26"
            ],
            [
             1,
             "#f0f921"
            ]
           ]
          },
          "colorway": [
           "#636efa",
           "#EF553B",
           "#00cc96",
           "#ab63fa",
           "#FFA15A",
           "#19d3f3",
           "#FF6692",
           "#B6E880",
           "#FF97FF",
           "#FECB52"
          ],
          "font": {
           "color": "#2a3f5f"
          },
          "geo": {
           "bgcolor": "white",
           "lakecolor": "white",
           "landcolor": "#E5ECF6",
           "showlakes": true,
           "showland": true,
           "subunitcolor": "white"
          },
          "hoverlabel": {
           "align": "left"
          },
          "hovermode": "closest",
          "mapbox": {
           "style": "light"
          },
          "paper_bgcolor": "white",
          "plot_bgcolor": "#E5ECF6",
          "polar": {
           "angularaxis": {
            "gridcolor": "white",
            "linecolor": "white",
            "ticks": ""
           },
           "bgcolor": "#E5ECF6",
           "radialaxis": {
            "gridcolor": "white",
            "linecolor": "white",
            "ticks": ""
           }
          },
          "scene": {
           "xaxis": {
            "backgroundcolor": "#E5ECF6",
            "gridcolor": "white",
            "gridwidth": 2,
            "linecolor": "white",
            "showbackground": true,
            "ticks": "",
            "zerolinecolor": "white"
           },
           "yaxis": {
            "backgroundcolor": "#E5ECF6",
            "gridcolor": "white",
            "gridwidth": 2,
            "linecolor": "white",
            "showbackground": true,
            "ticks": "",
            "zerolinecolor": "white"
           },
           "zaxis": {
            "backgroundcolor": "#E5ECF6",
            "gridcolor": "white",
            "gridwidth": 2,
            "linecolor": "white",
            "showbackground": true,
            "ticks": "",
            "zerolinecolor": "white"
           }
          },
          "shapedefaults": {
           "line": {
            "color": "#2a3f5f"
           }
          },
          "ternary": {
           "aaxis": {
            "gridcolor": "white",
            "linecolor": "white",
            "ticks": ""
           },
           "baxis": {
            "gridcolor": "white",
            "linecolor": "white",
            "ticks": ""
           },
           "bgcolor": "#E5ECF6",
           "caxis": {
            "gridcolor": "white",
            "linecolor": "white",
            "ticks": ""
           }
          },
          "title": {
           "x": 0.05
          },
          "xaxis": {
           "automargin": true,
           "gridcolor": "white",
           "linecolor": "white",
           "ticks": "",
           "title": {
            "standoff": 15
           },
           "zerolinecolor": "white",
           "zerolinewidth": 2
          },
          "yaxis": {
           "automargin": true,
           "gridcolor": "white",
           "linecolor": "white",
           "ticks": "",
           "title": {
            "standoff": 15
           },
           "zerolinecolor": "white",
           "zerolinewidth": 2
          }
         }
        },
        "title": {
         "text": "Gender Distribution by University Ranking Brackets: All Years vs Recent Years"
        },
        "xaxis": {
         "anchor": "y",
         "domain": [
          0,
          0.235
         ],
         "title": {
          "text": "Time Period"
         }
        },
        "xaxis2": {
         "anchor": "y2",
         "domain": [
          0.255,
          0.49
         ],
         "matches": "x",
         "title": {
          "text": "Time Period"
         }
        },
        "xaxis3": {
         "anchor": "y3",
         "domain": [
          0.51,
          0.745
         ],
         "matches": "x",
         "title": {
          "text": "Time Period"
         }
        },
        "xaxis4": {
         "anchor": "y4",
         "domain": [
          0.7649999999999999,
          0.9999999999999999
         ],
         "matches": "x",
         "title": {
          "text": "Time Period"
         }
        },
        "yaxis": {
         "anchor": "x",
         "domain": [
          0,
          1
         ],
         "title": {
          "text": "Percentage (%)"
         }
        },
        "yaxis2": {
         "anchor": "x2",
         "domain": [
          0,
          1
         ],
         "matches": "y",
         "showticklabels": false
        },
        "yaxis3": {
         "anchor": "x3",
         "domain": [
          0,
          1
         ],
         "matches": "y",
         "showticklabels": false
        },
        "yaxis4": {
         "anchor": "x4",
         "domain": [
          0,
          1
         ],
         "matches": "y",
         "showticklabels": false
        }
       }
      }
     },
     "metadata": {},
     "output_type": "display_data"
    }
   ],
   "source": [
    "# Create ranking brackets\n",
    "def get_ranking_bracket(rank):\n",
    "    if rank <= 5:\n",
    "        return '1-5'\n",
    "    elif rank <= 10:\n",
    "        return '6-10'\n",
    "    elif rank <= 15:\n",
    "        return '11-15'\n",
    "    else:\n",
    "        return '16+'\n",
    "\n",
    "# Add ranking bracket column for full dataset\n",
    "full_df['ranking_bracket'] = full_df['ranking'].apply(get_ranking_bracket)\n",
    "\n",
    "# Create recent years dataset\n",
    "recent_df = full_df[full_df['year'].between(2021, 2024)]\n",
    "recent_df['ranking_bracket'] = recent_df['ranking'].apply(get_ranking_bracket)\n",
    "\n",
    "# Calculate gender distributions\n",
    "gender_by_ranking_all = pd.crosstab(full_df['ranking_bracket'], full_df['gender'], normalize='index') * 100\n",
    "gender_by_ranking_recent = pd.crosstab(recent_df['ranking_bracket'], recent_df['gender'], normalize='index') * 100\n",
    "\n",
    "# Prepare data for combined plot\n",
    "combined_data = pd.DataFrame()\n",
    "\n",
    "# Add full dataset with period label\n",
    "for gender in gender_by_ranking_all.columns:\n",
    "    temp_df = gender_by_ranking_all[gender].reset_index()\n",
    "    temp_df['Period'] = 'All Years'\n",
    "    temp_df['Gender'] = gender\n",
    "    temp_df = temp_df.rename(columns={gender: 'Percentage'})\n",
    "    combined_data = pd.concat([combined_data, temp_df])\n",
    "\n",
    "# Add recent dataset with period label\n",
    "for gender in gender_by_ranking_recent.columns:\n",
    "    temp_df = gender_by_ranking_recent[gender].reset_index()\n",
    "    temp_df['Period'] = '2021-2024'\n",
    "    temp_df['Gender'] = gender\n",
    "    temp_df = temp_df.rename(columns={gender: 'Percentage'})\n",
    "    combined_data = pd.concat([combined_data, temp_df])\n",
    "\n",
    "# Create the combined bar plot\n",
    "fig = px.bar(combined_data,\n",
    "             x='Period',\n",
    "             y='Percentage',\n",
    "             color='Gender',\n",
    "             facet_col='ranking_bracket',\n",
    "             barmode='group',\n",
    "             title='Gender Distribution by University Ranking Brackets: All Years vs Recent Years',\n",
    "             labels={'Percentage': 'Percentage (%)',\n",
    "                    'ranking_bracket': 'Ranking Bracket',\n",
    "                    'Period': 'Time Period'},\n",
    "             height=500)\n",
    "\n",
    "# Update layout\n",
    "fig.update_layout(\n",
    "    yaxis_title='Percentage (%)',\n",
    "    legend_title='Gender',\n",
    "    font_size=12\n",
    ")\n",
    "\n",
    "# Save to HTML file\n",
    "fig.write_html(\"../output/graphs/gender_by_ranking_combined_side_by_side.html\")\n",
    "\n",
    "# Display the figure\n",
    "fig.show()"
   ]
  },
  {
   "cell_type": "markdown",
   "metadata": {},
   "source": [
    "Extra\n",
    "- tabular groupby uni, placement, year, university's placement by percentage\n",
    "    full_df.groupby(['university','year']).sum()\n",
    "\n"
   ]
  },
  {
   "cell_type": "markdown",
   "metadata": {},
   "source": []
  },
  {
   "cell_type": "code",
   "execution_count": 23,
   "metadata": {},
   "outputs": [
    {
     "data": {
      "text/html": [
       "<div>\n",
       "<style scoped>\n",
       "    .dataframe tbody tr th:only-of-type {\n",
       "        vertical-align: middle;\n",
       "    }\n",
       "\n",
       "    .dataframe tbody tr th {\n",
       "        vertical-align: top;\n",
       "    }\n",
       "\n",
       "    .dataframe thead th {\n",
       "        text-align: right;\n",
       "    }\n",
       "</style>\n",
       "<table border=\"1\" class=\"dataframe\">\n",
       "  <thead>\n",
       "    <tr style=\"text-align: right;\">\n",
       "      <th></th>\n",
       "      <th>name</th>\n",
       "      <th>university</th>\n",
       "      <th>year</th>\n",
       "      <th>field</th>\n",
       "      <th>placement</th>\n",
       "      <th>research_fields</th>\n",
       "      <th>academic</th>\n",
       "      <th>private_company</th>\n",
       "      <th>government</th>\n",
       "      <th>gender</th>\n",
       "      <th>department</th>\n",
       "      <th>placement_type</th>\n",
       "      <th>ranking</th>\n",
       "      <th>gender_guesser</th>\n",
       "      <th>rank_bracket</th>\n",
       "      <th>ranking_bracket</th>\n",
       "      <th>male</th>\n",
       "      <th>female</th>\n",
       "    </tr>\n",
       "  </thead>\n",
       "  <tbody>\n",
       "    <tr>\n",
       "      <th>0</th>\n",
       "      <td>Aaron Hedlund</td>\n",
       "      <td>University of Pennsylvania</td>\n",
       "      <td>2012</td>\n",
       "      <td>NaN</td>\n",
       "      <td>Baylor University</td>\n",
       "      <td>NaN</td>\n",
       "      <td>1</td>\n",
       "      <td>0</td>\n",
       "      <td>0</td>\n",
       "      <td>male</td>\n",
       "      <td>Economics</td>\n",
       "      <td>academic</td>\n",
       "      <td>11</td>\n",
       "      <td>NaN</td>\n",
       "      <td>11-15</td>\n",
       "      <td>11-15</td>\n",
       "      <td>1</td>\n",
       "      <td>0</td>\n",
       "    </tr>\n",
       "    <tr>\n",
       "      <th>1</th>\n",
       "      <td>Aaron Mora</td>\n",
       "      <td>University of Pennsylvania</td>\n",
       "      <td>2024</td>\n",
       "      <td>Econometrics, Financial Economics, Industrial ...</td>\n",
       "      <td>University of South Carolina</td>\n",
       "      <td>NaN</td>\n",
       "      <td>1</td>\n",
       "      <td>0</td>\n",
       "      <td>0</td>\n",
       "      <td>male</td>\n",
       "      <td>Economics</td>\n",
       "      <td>academic</td>\n",
       "      <td>11</td>\n",
       "      <td>NaN</td>\n",
       "      <td>11-15</td>\n",
       "      <td>11-15</td>\n",
       "      <td>1</td>\n",
       "      <td>0</td>\n",
       "    </tr>\n",
       "    <tr>\n",
       "      <th>2</th>\n",
       "      <td>Aaron Swoboda</td>\n",
       "      <td>UC Berkeley</td>\n",
       "      <td>2011</td>\n",
       "      <td>NaN</td>\n",
       "      <td>Assistant Professor, School of Public &amp; Intern...</td>\n",
       "      <td>NaN</td>\n",
       "      <td>1</td>\n",
       "      <td>0</td>\n",
       "      <td>0</td>\n",
       "      <td>male</td>\n",
       "      <td>Economics</td>\n",
       "      <td>academic</td>\n",
       "      <td>5</td>\n",
       "      <td>NaN</td>\n",
       "      <td>1-5</td>\n",
       "      <td>1-5</td>\n",
       "      <td>1</td>\n",
       "      <td>0</td>\n",
       "    </tr>\n",
       "    <tr>\n",
       "      <th>3</th>\n",
       "      <td>Abe, Naohito</td>\n",
       "      <td>Yale</td>\n",
       "      <td>2000</td>\n",
       "      <td>NaN</td>\n",
       "      <td>Hibotsutoshi University, Japan</td>\n",
       "      <td>NaN</td>\n",
       "      <td>1</td>\n",
       "      <td>0</td>\n",
       "      <td>0</td>\n",
       "      <td>male</td>\n",
       "      <td>Economics</td>\n",
       "      <td>academic</td>\n",
       "      <td>7</td>\n",
       "      <td>NaN</td>\n",
       "      <td>6-10</td>\n",
       "      <td>6-10</td>\n",
       "      <td>1</td>\n",
       "      <td>0</td>\n",
       "    </tr>\n",
       "    <tr>\n",
       "      <th>4</th>\n",
       "      <td>Abhay Aneja</td>\n",
       "      <td>UC Berkeley</td>\n",
       "      <td>2019</td>\n",
       "      <td>NaN</td>\n",
       "      <td>Berkeley Law</td>\n",
       "      <td>NaN</td>\n",
       "      <td>1</td>\n",
       "      <td>0</td>\n",
       "      <td>0</td>\n",
       "      <td>male</td>\n",
       "      <td>Economics</td>\n",
       "      <td>academic</td>\n",
       "      <td>5</td>\n",
       "      <td>NaN</td>\n",
       "      <td>1-5</td>\n",
       "      <td>1-5</td>\n",
       "      <td>1</td>\n",
       "      <td>0</td>\n",
       "    </tr>\n",
       "  </tbody>\n",
       "</table>\n",
       "</div>"
      ],
      "text/plain": [
       "            name                  university  year  \\\n",
       "0  Aaron Hedlund  University of Pennsylvania  2012   \n",
       "1     Aaron Mora  University of Pennsylvania  2024   \n",
       "2  Aaron Swoboda                 UC Berkeley  2011   \n",
       "3   Abe, Naohito                        Yale  2000   \n",
       "4    Abhay Aneja                 UC Berkeley  2019   \n",
       "\n",
       "                                               field  \\\n",
       "0                                                NaN   \n",
       "1  Econometrics, Financial Economics, Industrial ...   \n",
       "2                                                NaN   \n",
       "3                                                NaN   \n",
       "4                                                NaN   \n",
       "\n",
       "                                           placement research_fields  \\\n",
       "0                                  Baylor University             NaN   \n",
       "1                       University of South Carolina             NaN   \n",
       "2  Assistant Professor, School of Public & Intern...             NaN   \n",
       "3                     Hibotsutoshi University, Japan             NaN   \n",
       "4                                       Berkeley Law             NaN   \n",
       "\n",
       "   academic  private_company  government gender department placement_type  \\\n",
       "0         1                0           0   male  Economics       academic   \n",
       "1         1                0           0   male  Economics       academic   \n",
       "2         1                0           0   male  Economics       academic   \n",
       "3         1                0           0   male  Economics       academic   \n",
       "4         1                0           0   male  Economics       academic   \n",
       "\n",
       "   ranking gender_guesser rank_bracket ranking_bracket  male  female  \n",
       "0       11            NaN        11-15           11-15     1       0  \n",
       "1       11            NaN        11-15           11-15     1       0  \n",
       "2        5            NaN          1-5             1-5     1       0  \n",
       "3        7            NaN         6-10            6-10     1       0  \n",
       "4        5            NaN          1-5             1-5     1       0  "
      ]
     },
     "execution_count": 23,
     "metadata": {},
     "output_type": "execute_result"
    }
   ],
   "source": [
    "df = full_df.copy()\n",
    "df['male'] = (df['gender'] == 'male').astype(int)\n",
    "df['female'] = (df['gender'] == 'female').astype(int)\n",
    "df.head()"
   ]
  },
  {
   "cell_type": "code",
   "execution_count": 37,
   "metadata": {},
   "outputs": [
    {
     "data": {
      "text/html": [
       "<div>\n",
       "<style scoped>\n",
       "    .dataframe tbody tr th:only-of-type {\n",
       "        vertical-align: middle;\n",
       "    }\n",
       "\n",
       "    .dataframe tbody tr th {\n",
       "        vertical-align: top;\n",
       "    }\n",
       "\n",
       "    .dataframe thead th {\n",
       "        text-align: right;\n",
       "    }\n",
       "</style>\n",
       "<table border=\"1\" class=\"dataframe\">\n",
       "  <thead>\n",
       "    <tr style=\"text-align: right;\">\n",
       "      <th></th>\n",
       "      <th></th>\n",
       "      <th>academic</th>\n",
       "      <th>private_company</th>\n",
       "      <th>government</th>\n",
       "      <th>male</th>\n",
       "      <th>female</th>\n",
       "    </tr>\n",
       "    <tr>\n",
       "      <th>university</th>\n",
       "      <th>year</th>\n",
       "      <th></th>\n",
       "      <th></th>\n",
       "      <th></th>\n",
       "      <th></th>\n",
       "      <th></th>\n",
       "    </tr>\n",
       "  </thead>\n",
       "  <tbody>\n",
       "    <tr>\n",
       "      <th rowspan=\"5\" valign=\"top\">Brown University</th>\n",
       "      <th>2010</th>\n",
       "      <td>9</td>\n",
       "      <td>5</td>\n",
       "      <td>1</td>\n",
       "      <td>11</td>\n",
       "      <td>4</td>\n",
       "    </tr>\n",
       "    <tr>\n",
       "      <th>2011</th>\n",
       "      <td>8</td>\n",
       "      <td>1</td>\n",
       "      <td>1</td>\n",
       "      <td>9</td>\n",
       "      <td>1</td>\n",
       "    </tr>\n",
       "    <tr>\n",
       "      <th>2012</th>\n",
       "      <td>9</td>\n",
       "      <td>0</td>\n",
       "      <td>0</td>\n",
       "      <td>8</td>\n",
       "      <td>1</td>\n",
       "    </tr>\n",
       "    <tr>\n",
       "      <th>2013</th>\n",
       "      <td>5</td>\n",
       "      <td>4</td>\n",
       "      <td>1</td>\n",
       "      <td>8</td>\n",
       "      <td>2</td>\n",
       "    </tr>\n",
       "    <tr>\n",
       "      <th>2014</th>\n",
       "      <td>3</td>\n",
       "      <td>1</td>\n",
       "      <td>2</td>\n",
       "      <td>5</td>\n",
       "      <td>2</td>\n",
       "    </tr>\n",
       "    <tr>\n",
       "      <th>...</th>\n",
       "      <th>...</th>\n",
       "      <td>...</td>\n",
       "      <td>...</td>\n",
       "      <td>...</td>\n",
       "      <td>...</td>\n",
       "      <td>...</td>\n",
       "    </tr>\n",
       "    <tr>\n",
       "      <th rowspan=\"5\" valign=\"top\">Yale</th>\n",
       "      <th>2020</th>\n",
       "      <td>15</td>\n",
       "      <td>4</td>\n",
       "      <td>0</td>\n",
       "      <td>12</td>\n",
       "      <td>7</td>\n",
       "    </tr>\n",
       "    <tr>\n",
       "      <th>2021</th>\n",
       "      <td>0</td>\n",
       "      <td>3</td>\n",
       "      <td>0</td>\n",
       "      <td>2</td>\n",
       "      <td>1</td>\n",
       "    </tr>\n",
       "    <tr>\n",
       "      <th>2022</th>\n",
       "      <td>1</td>\n",
       "      <td>5</td>\n",
       "      <td>0</td>\n",
       "      <td>6</td>\n",
       "      <td>0</td>\n",
       "    </tr>\n",
       "    <tr>\n",
       "      <th>2023</th>\n",
       "      <td>1</td>\n",
       "      <td>1</td>\n",
       "      <td>0</td>\n",
       "      <td>2</td>\n",
       "      <td>0</td>\n",
       "    </tr>\n",
       "    <tr>\n",
       "      <th>2024</th>\n",
       "      <td>13</td>\n",
       "      <td>6</td>\n",
       "      <td>1</td>\n",
       "      <td>17</td>\n",
       "      <td>3</td>\n",
       "    </tr>\n",
       "  </tbody>\n",
       "</table>\n",
       "<p>244 rows × 5 columns</p>\n",
       "</div>"
      ],
      "text/plain": [
       "                       academic  private_company  government  male  female\n",
       "university       year                                                     \n",
       "Brown University 2010         9                5           1    11       4\n",
       "                 2011         8                1           1     9       1\n",
       "                 2012         9                0           0     8       1\n",
       "                 2013         5                4           1     8       2\n",
       "                 2014         3                1           2     5       2\n",
       "...                         ...              ...         ...   ...     ...\n",
       "Yale             2020        15                4           0    12       7\n",
       "                 2021         0                3           0     2       1\n",
       "                 2022         1                5           0     6       0\n",
       "                 2023         1                1           0     2       0\n",
       "                 2024        13                6           1    17       3\n",
       "\n",
       "[244 rows x 5 columns]"
      ]
     },
     "execution_count": 37,
     "metadata": {},
     "output_type": "execute_result"
    }
   ],
   "source": [
    "# Create output directory if it doesn't exist\n",
    "import os\n",
    "os.makedirs(\"../output/tables\", exist_ok=True)\n",
    "\n",
    "grouped_df = df.sort_values(['ranking', 'year'], ascending=[True, False]).groupby(['university', 'year'])[['academic', 'private_company', 'government', 'male', 'female']].sum()\n",
    "\n",
    "# Convert to HTML and save\n",
    "html_table = grouped_df.to_html()\n",
    "with open(\"../output/tables/placement_by_university_year_placement_type.html\", \"w\") as f:\n",
    "    f.write(\"\"\"\n",
    "    <html>\n",
    "    <head>\n",
    "        <style>\n",
    "            table {\n",
    "                border-collapse: collapse;\n",
    "                width: 100%;\n",
    "                font-family: Arial, sans-serif;\n",
    "            }\n",
    "            th, td {\n",
    "                border: 1px solid #ddd;\n",
    "                padding: 8px;\n",
    "                text-align: left;\n",
    "            }\n",
    "            th {\n",
    "                background-color: #f2f2f2;\n",
    "            }\n",
    "            tr:nth-child(even) {\n",
    "                background-color: #f9f9f9;\n",
    "            }\n",
    "        </style>\n",
    "    </head>\n",
    "    <body>\n",
    "    \"\"\" + html_table + \"\"\"\n",
    "    </body>\n",
    "    </html>\n",
    "    \"\"\")\n",
    "\n",
    "# Display the dataframe\n",
    "grouped_df"
   ]
  },
  {
   "cell_type": "code",
   "execution_count": 34,
   "metadata": {},
   "outputs": [
    {
     "data": {
      "text/plain": [
       "university\n",
       "Brown University                 162\n",
       "Columbia University              271\n",
       "Cornell                            8\n",
       "Duke University                  274\n",
       "Harvard University               560\n",
       "Johns Hopkins University         188\n",
       "New York University              168\n",
       "Stanford                          30\n",
       "UC Berkeley                      280\n",
       "UC Davis                         256\n",
       "UC Riverside                     186\n",
       "UCSD                             161\n",
       "University of Michigan           194\n",
       "University of Pennsylvania       281\n",
       "University of Texas at Austin     51\n",
       "Yale                             382\n",
       "Name: name, dtype: int64"
      ]
     },
     "execution_count": 34,
     "metadata": {},
     "output_type": "execute_result"
    }
   ],
   "source": [
    "full_df.groupby(['university'])['name'].count()"
   ]
  },
  {
   "cell_type": "code",
   "execution_count": 36,
   "metadata": {},
   "outputs": [
    {
     "data": {
      "text/html": [
       "<div>\n",
       "<style scoped>\n",
       "    .dataframe tbody tr th:only-of-type {\n",
       "        vertical-align: middle;\n",
       "    }\n",
       "\n",
       "    .dataframe tbody tr th {\n",
       "        vertical-align: top;\n",
       "    }\n",
       "\n",
       "    .dataframe thead th {\n",
       "        text-align: right;\n",
       "    }\n",
       "</style>\n",
       "<table border=\"1\" class=\"dataframe\">\n",
       "  <thead>\n",
       "    <tr style=\"text-align: right;\">\n",
       "      <th></th>\n",
       "      <th>name</th>\n",
       "      <th>university</th>\n",
       "      <th>year</th>\n",
       "      <th>field</th>\n",
       "      <th>placement</th>\n",
       "      <th>research_fields</th>\n",
       "      <th>academic</th>\n",
       "      <th>private_company</th>\n",
       "      <th>government</th>\n",
       "      <th>gender</th>\n",
       "      <th>department</th>\n",
       "      <th>placement_type</th>\n",
       "      <th>ranking</th>\n",
       "      <th>gender_guesser</th>\n",
       "      <th>rank_bracket</th>\n",
       "      <th>ranking_bracket</th>\n",
       "    </tr>\n",
       "  </thead>\n",
       "  <tbody>\n",
       "    <tr>\n",
       "      <th>192</th>\n",
       "      <td>Bowen Tan</td>\n",
       "      <td>Cornell</td>\n",
       "      <td>2023</td>\n",
       "      <td>Health Economics, Applied Economics, Policy Ev...</td>\n",
       "      <td>Assistant Professor, Department of Economics, ...</td>\n",
       "      <td>NaN</td>\n",
       "      <td>1</td>\n",
       "      <td>0</td>\n",
       "      <td>0</td>\n",
       "      <td>male</td>\n",
       "      <td>Economics</td>\n",
       "      <td>academic</td>\n",
       "      <td>16</td>\n",
       "      <td>NaN</td>\n",
       "      <td>16+</td>\n",
       "      <td>16+</td>\n",
       "    </tr>\n",
       "    <tr>\n",
       "      <th>469</th>\n",
       "      <td>Elmer Zongyang Li</td>\n",
       "      <td>Cornell</td>\n",
       "      <td>2023</td>\n",
       "      <td>Labor Economics, Macroeconomics, Trade and Spa...</td>\n",
       "      <td>IMF Economist Program</td>\n",
       "      <td>NaN</td>\n",
       "      <td>0</td>\n",
       "      <td>0</td>\n",
       "      <td>1</td>\n",
       "      <td>male</td>\n",
       "      <td>Economics</td>\n",
       "      <td>government</td>\n",
       "      <td>16</td>\n",
       "      <td>NaN</td>\n",
       "      <td>16+</td>\n",
       "      <td>16+</td>\n",
       "    </tr>\n",
       "    <tr>\n",
       "      <th>566</th>\n",
       "      <td>Giulia Olivero</td>\n",
       "      <td>Cornell</td>\n",
       "      <td>2023</td>\n",
       "      <td>Applied Microeconomics, Economics of the Famil...</td>\n",
       "      <td>Assistant Professor, Department of Economics, ...</td>\n",
       "      <td>NaN</td>\n",
       "      <td>1</td>\n",
       "      <td>0</td>\n",
       "      <td>0</td>\n",
       "      <td>female</td>\n",
       "      <td>Economics</td>\n",
       "      <td>academic</td>\n",
       "      <td>16</td>\n",
       "      <td>NaN</td>\n",
       "      <td>16+</td>\n",
       "      <td>16+</td>\n",
       "    </tr>\n",
       "    <tr>\n",
       "      <th>666</th>\n",
       "      <td>Hyuk Harry Son</td>\n",
       "      <td>Cornell</td>\n",
       "      <td>2023</td>\n",
       "      <td>Development Economics, Labor Economics</td>\n",
       "      <td>One-year Postdoctoral Fellow, Stanford Environ...</td>\n",
       "      <td>NaN</td>\n",
       "      <td>1</td>\n",
       "      <td>0</td>\n",
       "      <td>0</td>\n",
       "      <td>male</td>\n",
       "      <td>Economics</td>\n",
       "      <td>academic</td>\n",
       "      <td>16</td>\n",
       "      <td>NaN</td>\n",
       "      <td>16+</td>\n",
       "      <td>16+</td>\n",
       "    </tr>\n",
       "    <tr>\n",
       "      <th>1067</th>\n",
       "      <td>Megan Hyland</td>\n",
       "      <td>Cornell</td>\n",
       "      <td>2023</td>\n",
       "      <td>Health Economics, Health Policy</td>\n",
       "      <td>Economist, Center for Medicare</td>\n",
       "      <td>NaN</td>\n",
       "      <td>0</td>\n",
       "      <td>0</td>\n",
       "      <td>1</td>\n",
       "      <td>female</td>\n",
       "      <td>Economics</td>\n",
       "      <td>government</td>\n",
       "      <td>16</td>\n",
       "      <td>NaN</td>\n",
       "      <td>16+</td>\n",
       "      <td>16+</td>\n",
       "    </tr>\n",
       "    <tr>\n",
       "      <th>1292</th>\n",
       "      <td>Qiwei He</td>\n",
       "      <td>Cornell</td>\n",
       "      <td>2023</td>\n",
       "      <td>Labor Economics, Applied Econometrics</td>\n",
       "      <td>Lecturer (Assistant Professor), University of ...</td>\n",
       "      <td>NaN</td>\n",
       "      <td>1</td>\n",
       "      <td>0</td>\n",
       "      <td>0</td>\n",
       "      <td>male</td>\n",
       "      <td>Economics</td>\n",
       "      <td>academic</td>\n",
       "      <td>16</td>\n",
       "      <td>NaN</td>\n",
       "      <td>16+</td>\n",
       "      <td>16+</td>\n",
       "    </tr>\n",
       "    <tr>\n",
       "      <th>1319</th>\n",
       "      <td>Revathy Suryanarayana</td>\n",
       "      <td>Cornell</td>\n",
       "      <td>2023</td>\n",
       "      <td>Health Economics, Health Policy, Labor Economi...</td>\n",
       "      <td>Assistant Professor of Health Economics and Po...</td>\n",
       "      <td>NaN</td>\n",
       "      <td>1</td>\n",
       "      <td>0</td>\n",
       "      <td>0</td>\n",
       "      <td>female</td>\n",
       "      <td>Economics</td>\n",
       "      <td>academic</td>\n",
       "      <td>16</td>\n",
       "      <td>NaN</td>\n",
       "      <td>16+</td>\n",
       "      <td>16+</td>\n",
       "    </tr>\n",
       "    <tr>\n",
       "      <th>1841</th>\n",
       "      <td>Zhiyang Zhu</td>\n",
       "      <td>Cornell</td>\n",
       "      <td>2023</td>\n",
       "      <td>Political Economy, Public Policy, American Pol...</td>\n",
       "      <td>Visiting Assistant Professor in Economics and ...</td>\n",
       "      <td>NaN</td>\n",
       "      <td>1</td>\n",
       "      <td>0</td>\n",
       "      <td>0</td>\n",
       "      <td>male</td>\n",
       "      <td>Economics</td>\n",
       "      <td>academic</td>\n",
       "      <td>16</td>\n",
       "      <td>NaN</td>\n",
       "      <td>16+</td>\n",
       "      <td>16+</td>\n",
       "    </tr>\n",
       "  </tbody>\n",
       "</table>\n",
       "</div>"
      ],
      "text/plain": [
       "                       name university  year  \\\n",
       "192               Bowen Tan    Cornell  2023   \n",
       "469       Elmer Zongyang Li    Cornell  2023   \n",
       "566          Giulia Olivero    Cornell  2023   \n",
       "666          Hyuk Harry Son    Cornell  2023   \n",
       "1067           Megan Hyland    Cornell  2023   \n",
       "1292               Qiwei He    Cornell  2023   \n",
       "1319  Revathy Suryanarayana    Cornell  2023   \n",
       "1841            Zhiyang Zhu    Cornell  2023   \n",
       "\n",
       "                                                  field  \\\n",
       "192   Health Economics, Applied Economics, Policy Ev...   \n",
       "469   Labor Economics, Macroeconomics, Trade and Spa...   \n",
       "566   Applied Microeconomics, Economics of the Famil...   \n",
       "666              Development Economics, Labor Economics   \n",
       "1067                    Health Economics, Health Policy   \n",
       "1292              Labor Economics, Applied Econometrics   \n",
       "1319  Health Economics, Health Policy, Labor Economi...   \n",
       "1841  Political Economy, Public Policy, American Pol...   \n",
       "\n",
       "                                              placement research_fields  \\\n",
       "192   Assistant Professor, Department of Economics, ...             NaN   \n",
       "469                               IMF Economist Program             NaN   \n",
       "566   Assistant Professor, Department of Economics, ...             NaN   \n",
       "666   One-year Postdoctoral Fellow, Stanford Environ...             NaN   \n",
       "1067                     Economist, Center for Medicare             NaN   \n",
       "1292  Lecturer (Assistant Professor), University of ...             NaN   \n",
       "1319  Assistant Professor of Health Economics and Po...             NaN   \n",
       "1841  Visiting Assistant Professor in Economics and ...             NaN   \n",
       "\n",
       "      academic  private_company  government  gender department placement_type  \\\n",
       "192          1                0           0    male  Economics       academic   \n",
       "469          0                0           1    male  Economics     government   \n",
       "566          1                0           0  female  Economics       academic   \n",
       "666          1                0           0    male  Economics       academic   \n",
       "1067         0                0           1  female  Economics     government   \n",
       "1292         1                0           0    male  Economics       academic   \n",
       "1319         1                0           0  female  Economics       academic   \n",
       "1841         1                0           0    male  Economics       academic   \n",
       "\n",
       "      ranking gender_guesser rank_bracket ranking_bracket  \n",
       "192        16            NaN          16+             16+  \n",
       "469        16            NaN          16+             16+  \n",
       "566        16            NaN          16+             16+  \n",
       "666        16            NaN          16+             16+  \n",
       "1067       16            NaN          16+             16+  \n",
       "1292       16            NaN          16+             16+  \n",
       "1319       16            NaN          16+             16+  \n",
       "1841       16            NaN          16+             16+  "
      ]
     },
     "execution_count": 36,
     "metadata": {},
     "output_type": "execute_result"
    }
   ],
   "source": [
    "full_df[full_df['university'] == 'Cornell']"
   ]
  },
  {
   "cell_type": "code",
   "execution_count": null,
   "metadata": {},
   "outputs": [],
   "source": []
  }
 ],
 "metadata": {
  "kernelspec": {
   "display_name": "datascience",
   "language": "python",
   "name": "python3"
  },
  "language_info": {
   "codemirror_mode": {
    "name": "ipython",
    "version": 3
   },
   "file_extension": ".py",
   "mimetype": "text/x-python",
   "name": "python",
   "nbconvert_exporter": "python",
   "pygments_lexer": "ipython3",
   "version": "3.12.8"
  }
 },
 "nbformat": 4,
 "nbformat_minor": 2
}
